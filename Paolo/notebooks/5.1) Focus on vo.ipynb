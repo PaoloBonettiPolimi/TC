{
 "cells": [
  {
   "cell_type": "code",
   "execution_count": 1,
   "id": "a9263ffa",
   "metadata": {},
   "outputs": [
    {
     "name": "stdout",
     "output_type": "stream",
     "text": [
      "tensorflow version 2.10.0\n",
      "tensorflow version 2.10.0\n"
     ]
    }
   ],
   "source": [
    "import tensorflow as tf\n",
    "\n",
    "print(f'tensorflow version {tf.__version__}')\n",
    "\n",
    "from imblearn.over_sampling import SMOTE\n",
    "from collections import Counter\n",
    "from numpy import * \n",
    "\n",
    "import pandas as pd\n",
    "import io\n",
    "import requests\n",
    "import numpy as np\n",
    "from sklearn import metrics\n",
    "from sklearn.model_selection import train_test_split\n",
    "from tensorflow.keras.models import Sequential\n",
    "from tensorflow.keras.layers import Dense, Activation\n",
    "from tensorflow.keras.callbacks import EarlyStopping\n",
    "\n",
    "from keras.models import load_model\n",
    "from sklearn.preprocessing import StandardScaler\n",
    "\n",
    "import tensorflow as tf\n",
    "\n",
    "print(f'tensorflow version {tf.__version__}')\n",
    "\n",
    "from imblearn.over_sampling import SMOTE\n",
    "from collections import Counter\n",
    "from numpy import * \n",
    "\n",
    "from tensorflow.keras.layers import Dense, Activation, Dropout\n"
   ]
  },
  {
   "cell_type": "code",
   "execution_count": 2,
   "id": "292d06ee",
   "metadata": {},
   "outputs": [],
   "source": [
    "def dataLoad():\n",
    "    test = pd.read_csv('/Users/paolo/Documents/TC/data/test_real_tom_target.csv')\n",
    "    train = pd.read_csv('/Users/paolo/Documents/TC/data/training_real_tom_target.csv')\n",
    "    val = pd.read_csv('/Users/paolo/Documents/TC/data/validation_real_tom_target.csv')\n",
    "    print(train.head())\n",
    "    \n",
    "    #Split data\n",
    "    x_train = train[[ 'vo', 'r', 'u_200', 'u_850', 'v_200','v_850', 'ttr','sst']]\n",
    "    print (\"******training features******\")\n",
    "    print (x_train)\n",
    "    y_train = train[['Real_tom_lsm']]\n",
    "    print (\"******training target******\")\n",
    "    print (y_train)\n",
    "    \n",
    "    x_test = test[[ 'vo', 'r', 'u_200', 'u_850', 'v_200','v_850', 'ttr','sst']]\n",
    "    print (\"******test features******\")\n",
    "    print (x_test)\n",
    "    y_test = test[['Real_tom_lsm']]\n",
    "    print (\"******test target******\")\n",
    "    print (y_test)\n",
    "    \n",
    "    x_val = val[[ 'vo', 'r', 'u_200', 'u_850', 'v_200','v_850', 'ttr','sst']]\n",
    "    print (\"******validation features******\")\n",
    "    print (x_val)\n",
    "    y_val = val[['Real_tom_lsm']]\n",
    "    print (\"******validation target******\")\n",
    "    print (y_val)\n",
    "    \n",
    "    print('Before Smote')\n",
    "\n",
    "    dff = y_train\n",
    "    M = y_train.to_numpy()\n",
    "    # summarize dataset\n",
    "    classes = unique(M)\n",
    "    print(classes)\n",
    "    total = len(M)\n",
    "    for c in classes:\n",
    "        n_examples = len(M[M==c])\n",
    "        percent = n_examples / total * 100\n",
    "        print('> Class=%d : %d/%d (%.1f%%)' % (c, n_examples, total, percent))\n",
    "    \n",
    "    smt = SMOTE()\n",
    "    \n",
    "    X_train_sm, Y_train_sm = smt.fit_resample(x_train, y_train)\n",
    "    \n",
    "    print('After SMOTE')\n",
    "    dff = Y_train_sm\n",
    "    M = Y_train_sm.to_numpy()\n",
    "    # summarize dataset\n",
    "    classes = unique(M)\n",
    "    print(classes)\n",
    "    total = len(M)\n",
    "    for c in classes:\n",
    "        n_examples = len(M[M==c])\n",
    "        percent = n_examples / total * 100\n",
    "        print('> Class=%d : %d/%d (%.1f%%)' % (c, n_examples, total, percent))\n",
    "        \n",
    "    return X_train_sm, Y_train_sm, x_val, y_val, x_test, y_test"
   ]
  },
  {
   "cell_type": "code",
   "execution_count": 3,
   "id": "dba1abd9",
   "metadata": {},
   "outputs": [],
   "source": [
    "%matplotlib inline\n",
    "import matplotlib.pyplot as plt\n",
    "from sklearn.metrics import roc_curve, auc\n",
    "from sklearn.metrics import confusion_matrix\n",
    "from sklearn import metrics\n",
    "\n",
    "def plot_roc(pred,y):\n",
    "    fpr, tpr, _ = roc_curve(y, pred)\n",
    "    roc_auc = auc(fpr, tpr)\n",
    "\n",
    "    plt.figure()\n",
    "    plt.plot(fpr, tpr, label='ROC curve (area = %0.2f)' % roc_auc)\n",
    "    plt.plot([0, 1], [0, 1], 'k--')\n",
    "    plt.xlim([0.0, 1.0])\n",
    "    plt.ylim([0.0, 1.05])\n",
    "    plt.xlabel('False Positive Rate')\n",
    "    plt.ylabel('True Positive Rate')\n",
    "    plt.title('Receiver Operating Characteristic (ROC)')\n",
    "    plt.legend(loc=\"lower right\")\n",
    "    plt.show()\n",
    "      \n"
   ]
  },
  {
   "cell_type": "code",
   "execution_count": 10,
   "id": "43489314",
   "metadata": {},
   "outputs": [],
   "source": [
    "def test_models(model1, model2, x_test1, x_test2, y_test):\n",
    "    \n",
    "    pred1 = model1.predict(x_test1)\n",
    "    pred2 = model2.predict(x_test2)\n",
    "\n",
    "    plot_roc(pred1,y_test)\n",
    "    plot_roc(pred2,y_test)\n",
    "\n",
    "\n",
    "    score1 = metrics.accuracy_score(y_test, np.round(pred1))\n",
    "    score2 = metrics.accuracy_score(y_test, np.round(pred2))\n",
    "    print(f\"Accuracy score 1: {score1}, accuracy score relu: {score2}\")\n",
    "\n",
    "\n",
    "    cm1 = confusion_matrix(y_test, np.round(pred1))\n",
    "    np.set_printoptions(precision=2)\n",
    "    print(cm1)\n",
    "\n",
    "    cm2 = confusion_matrix(y_test, np.round(pred2))\n",
    "    np.set_printoptions(precision=2)\n",
    "    print(cm2) "
   ]
  },
  {
   "cell_type": "code",
   "execution_count": null,
   "id": "07526e84",
   "metadata": {},
   "outputs": [],
   "source": []
  },
  {
   "cell_type": "markdown",
   "id": "b201d766",
   "metadata": {},
   "source": [
    "# Focus on VO"
   ]
  },
  {
   "cell_type": "code",
   "execution_count": 4,
   "id": "7c30e3f7",
   "metadata": {},
   "outputs": [
    {
     "name": "stdout",
     "output_type": "stream",
     "text": [
      "   Unnamed: 0        time  latitude  longitude        vo          r     u_200  \\\n",
      "0           0  1980-01-01       0.0       20.0  0.000007  80.761185  1.909660   \n",
      "1           1  1980-01-01       0.0       22.5  0.000004  80.703650  1.165733   \n",
      "2           2  1980-01-01       0.0       25.0  0.000007  78.231514 -1.311676   \n",
      "3           3  1980-01-01       0.0       27.5  0.000010  79.631010 -3.777573   \n",
      "4           4  1980-01-01       0.0       30.0  0.000010  71.573875 -5.734505   \n",
      "\n",
      "      u_850     v_200     v_850        ttr  sst  lsm  Real_tom_lsm  \n",
      "0 -3.323872  1.687164 -1.823624 -247.54074  0.0  0.0           0.0  \n",
      "1 -2.844494  1.060593 -1.991425 -240.00592  0.0  0.0           0.0  \n",
      "2 -2.125244  3.280617 -1.931789 -223.76889  0.0  0.0           0.0  \n",
      "3 -1.122395  5.743889 -1.243538 -235.55556  0.0  0.0           0.0  \n",
      "4 -1.362953  6.514030 -0.954163 -254.03260  0.0  0.0           0.0  \n",
      "******training features******\n",
      "               vo          r      u_200     u_850      v_200     v_850  \\\n",
      "0        0.000007  80.761185   1.909660 -3.323872   1.687164 -1.823624   \n",
      "1        0.000004  80.703650   1.165733 -2.844494   1.060593 -1.991425   \n",
      "2        0.000007  78.231514  -1.311676 -2.125244   3.280617 -1.931789   \n",
      "3        0.000010  79.631010  -3.777573 -1.122395   5.743889 -1.243538   \n",
      "4        0.000010  71.573875  -5.734505 -1.362953   6.514030 -0.954163   \n",
      "...           ...        ...        ...       ...        ...       ...   \n",
      "4268766  0.000015  26.797535  25.075424 -3.653679  -1.221291  1.515594   \n",
      "4268767 -0.000006  27.766910  24.175919 -2.866638  -6.724304  0.861771   \n",
      "4268768  0.000010  29.111805  24.655510 -2.809170 -10.138817  0.051220   \n",
      "4268769  0.000006  27.833050  25.088104 -2.730087 -11.036507  0.666927   \n",
      "4268770  0.000007  15.843884  24.510345 -3.213837 -10.213325 -0.098499   \n",
      "\n",
      "               ttr        sst  \n",
      "0       -247.54074    0.00000  \n",
      "1       -240.00592    0.00000  \n",
      "2       -223.76889    0.00000  \n",
      "3       -235.55556    0.00000  \n",
      "4       -254.03260    0.00000  \n",
      "...            ...        ...  \n",
      "4268766 -273.34204  296.89227  \n",
      "4268767 -280.37018  296.03314  \n",
      "4268768 -281.05167  295.36078  \n",
      "4268769 -280.05610  295.10638  \n",
      "4268770 -279.40427  294.44766  \n",
      "\n",
      "[4268771 rows x 8 columns]\n",
      "******training target******\n",
      "         Real_tom_lsm\n",
      "0                 0.0\n",
      "1                 0.0\n",
      "2                 0.0\n",
      "3                 0.0\n",
      "4                 0.0\n",
      "...               ...\n",
      "4268766           0.0\n",
      "4268767           0.0\n",
      "4268768           0.0\n",
      "4268769           0.0\n",
      "4268770           0.0\n",
      "\n",
      "[4268771 rows x 1 columns]\n",
      "******test features******\n",
      "              vo          r      u_200     u_850      v_200     v_850  \\\n",
      "0       0.000011  80.796135  -2.052292  0.008678   4.996910 -1.678764   \n",
      "1       0.000011  77.748420  -4.445312  0.740505   7.517281  0.792618   \n",
      "2      -0.000001  71.178825  -3.778427  1.056324   9.333221  0.688252   \n",
      "3      -0.000005  73.585754  -4.695709  1.236446   9.589882  0.555519   \n",
      "4      -0.000016  72.382780  -4.002563  0.734211   5.410950 -1.086350   \n",
      "...          ...        ...        ...       ...        ...       ...   \n",
      "539482  0.000006   2.637233  33.277840  5.379345  -0.286896  5.558327   \n",
      "539483 -0.000020  23.660923  34.272537  6.438683 -13.026535  2.857349   \n",
      "539484 -0.000019  46.051540  35.755882  7.248966 -18.870102 -3.349407   \n",
      "539485 -0.000014  55.855648  34.069664  6.349327 -18.801796 -8.172478   \n",
      "539486  0.000006  61.602300  29.167267  4.805675 -15.093590 -9.708778   \n",
      "\n",
      "              ttr        sst  \n",
      "0      -272.04962    0.00000  \n",
      "1      -250.63333    0.00000  \n",
      "2      -229.52519    0.00000  \n",
      "3      -240.80815    0.00000  \n",
      "4      -262.45557    0.00000  \n",
      "...           ...        ...  \n",
      "539482 -277.60870  294.14987  \n",
      "539483 -270.80573  294.23798  \n",
      "539484 -249.43092  294.26890  \n",
      "539485 -239.36870  294.36630  \n",
      "539486 -251.60574  293.74924  \n",
      "\n",
      "[539487 rows x 8 columns]\n",
      "******test target******\n",
      "        Real_tom_lsm\n",
      "0                0.0\n",
      "1                0.0\n",
      "2                0.0\n",
      "3                0.0\n",
      "4                0.0\n",
      "...              ...\n",
      "539482           0.0\n",
      "539483           0.0\n",
      "539484           0.0\n",
      "539485           0.0\n",
      "539486           0.0\n",
      "\n",
      "[539487 rows x 1 columns]\n",
      "******validation features******\n",
      "              vo          r      u_200     u_850     v_200     v_850  \\\n",
      "0       0.000003  73.016390  -5.760780 -4.216808  6.860649 -4.352928   \n",
      "1       0.000003  74.569660  -4.942451 -3.857407  6.459419 -3.991157   \n",
      "2       0.000004  80.080090  -3.848740 -3.175144  6.303680 -3.446140   \n",
      "3       0.000012  83.676704   0.330811 -2.526569  7.235268 -2.307594   \n",
      "4       0.000011  76.225440   3.678749 -1.027561  7.020271 -0.077572   \n",
      "...          ...        ...        ...       ...       ...       ...   \n",
      "688397  0.000014  70.662056  23.560066  1.655861  9.690376  3.621418   \n",
      "688398 -0.000006  51.213654  22.381706  0.321705  9.860390 -0.099480   \n",
      "688399  0.000009  46.678970  22.464828  0.851299  7.661758 -0.725330   \n",
      "688400  0.000002  59.362090  22.364807  0.543045  5.595253 -1.542034   \n",
      "688401  0.000014  65.915980  23.052147  0.048565  1.080147 -1.203087   \n",
      "\n",
      "              ttr        sst  \n",
      "0      -212.59741    0.00000  \n",
      "1      -198.23593    0.00000  \n",
      "2      -195.83296    0.00000  \n",
      "3      -191.47444    0.00000  \n",
      "4      -191.98111    0.00000  \n",
      "...           ...        ...  \n",
      "688397 -271.57556  296.77530  \n",
      "688398 -269.94592  296.44290  \n",
      "688399 -270.18890  295.73486  \n",
      "688400 -264.07333  295.24792  \n",
      "688401 -259.79480  295.79680  \n",
      "\n",
      "[688402 rows x 8 columns]\n",
      "******validation target******\n",
      "        Real_tom_lsm\n",
      "0                0.0\n",
      "1                0.0\n",
      "2                0.0\n",
      "3                0.0\n",
      "4                0.0\n",
      "...              ...\n",
      "688397           0.0\n",
      "688398           0.0\n",
      "688399           0.0\n",
      "688400           0.0\n",
      "688401           0.0\n",
      "\n",
      "[688402 rows x 1 columns]\n",
      "Before Smote\n",
      "[0. 1.]\n",
      "> Class=0 : 4260067/4268771 (99.8%)\n",
      "> Class=1 : 8704/4268771 (0.2%)\n",
      "After SMOTE\n",
      "[0. 1.]\n",
      "> Class=0 : 4260067/8520134 (50.0%)\n",
      "> Class=1 : 4260067/8520134 (50.0%)\n"
     ]
    }
   ],
   "source": [
    "# Standardize,Convert to numpy - Classification\n",
    "x_train_sm, y_train_sm, x_val, y_val, x_test, y_test = dataLoad()\n",
    "\n",
    "from sklearn.preprocessing import StandardScaler\n",
    "trainScaler = StandardScaler()\n",
    "\n",
    "x_train_scaled_noVO = trainScaler.fit_transform(x_train_sm.iloc[:,1:])\n",
    "x_val_scaled_noVO = trainScaler.transform(x_val.iloc[:,1:])\n",
    "x_test_scaled_noVO = trainScaler.transform(x_test.iloc[:,1:])\n",
    "\n",
    "y_train = y_train_sm.values\n",
    "y_val = y_val.values\n",
    "y_test = y_test.values"
   ]
  },
  {
   "cell_type": "code",
   "execution_count": 5,
   "id": "09647062",
   "metadata": {},
   "outputs": [
    {
     "data": {
      "text/plain": [
       "7"
      ]
     },
     "execution_count": 5,
     "metadata": {},
     "output_type": "execute_result"
    }
   ],
   "source": [
    "len(x_train_scaled_noVO[0])"
   ]
  },
  {
   "cell_type": "code",
   "execution_count": 6,
   "id": "11e34319",
   "metadata": {},
   "outputs": [
    {
     "name": "stderr",
     "output_type": "stream",
     "text": [
      "2022-12-06 18:15:56.635651: I tensorflow/core/common_runtime/pluggable_device/pluggable_device_factory.cc:306] Could not identify NUMA node of platform GPU ID 0, defaulting to 0. Your kernel may not have been built with NUMA support.\n",
      "2022-12-06 18:15:56.636220: I tensorflow/core/common_runtime/pluggable_device/pluggable_device_factory.cc:272] Created TensorFlow device (/job:localhost/replica:0/task:0/device:GPU:0 with 0 MB memory) -> physical PluggableDevice (device: 0, name: METAL, pci bus id: <undefined>)\n"
     ]
    },
    {
     "name": "stdout",
     "output_type": "stream",
     "text": [
      "Metal device set to: Apple M1\n",
      "Epoch 1/10\n"
     ]
    },
    {
     "name": "stderr",
     "output_type": "stream",
     "text": [
      "2022-12-06 18:15:57.024491: W tensorflow/core/platform/profile_utils/cpu_utils.cc:128] Failed to get CPU frequency: 0 Hz\n",
      "2022-12-06 18:15:57.198772: I tensorflow/core/grappler/optimizers/custom_graph_optimizer_registry.cc:114] Plugin optimizer for device_type GPU is enabled.\n"
     ]
    },
    {
     "name": "stdout",
     "output_type": "stream",
     "text": [
      "266255/266255 [==============================] - ETA: 0s - loss: 0.2364"
     ]
    },
    {
     "name": "stderr",
     "output_type": "stream",
     "text": [
      "2022-12-06 18:47:33.165821: I tensorflow/core/grappler/optimizers/custom_graph_optimizer_registry.cc:114] Plugin optimizer for device_type GPU is enabled.\n"
     ]
    },
    {
     "name": "stdout",
     "output_type": "stream",
     "text": [
      "266255/266255 [==============================] - 1941s 7ms/step - loss: 0.2364 - val_loss: 0.2087\n",
      "Epoch 2/10\n",
      "266255/266255 [==============================] - 1077s 4ms/step - loss: 0.2276 - val_loss: 0.1978\n",
      "Epoch 3/10\n",
      "266255/266255 [==============================] - 1046s 4ms/step - loss: 0.2252 - val_loss: 0.1983\n",
      "Epoch 4/10\n",
      "266255/266255 [==============================] - 1057s 4ms/step - loss: 0.2239 - val_loss: 0.2058\n",
      "Epoch 5/10\n",
      "266255/266255 [==============================] - 1064s 4ms/step - loss: 0.2230 - val_loss: 0.2036\n",
      "Epoch 6/10\n",
      "266255/266255 [==============================] - 1046s 4ms/step - loss: 0.2215 - val_loss: 0.2034\n",
      "Epoch 7/10\n",
      "266254/266255 [============================>.] - ETA: 0s - loss: 0.2197Restoring model weights from the end of the best epoch: 2.\n",
      "266255/266255 [==============================] - 1055s 4ms/step - loss: 0.2197 - val_loss: 0.2225\n",
      "Epoch 7: early stopping\n"
     ]
    },
    {
     "data": {
      "text/plain": [
       "<keras.callbacks.History at 0x151553820>"
      ]
     },
     "execution_count": 6,
     "metadata": {},
     "output_type": "execute_result"
    }
   ],
   "source": [
    "model_std_relu_dropout_noVO = Sequential()\n",
    "model_std_relu_dropout_noVO.add(Dense(512, input_dim=7, activation='relu'))\n",
    "model_std_relu_dropout_noVO.add(Dropout(0.5))\n",
    "model_std_relu_dropout_noVO.add(Dense(1,activation='sigmoid')) # Output\n",
    "model_std_relu_dropout_noVO.compile(loss='binary_crossentropy', optimizer='adam')\n",
    "\n",
    "monitor = EarlyStopping(monitor='val_loss', min_delta=1e-3, patience=5, \n",
    "        verbose=1, mode='auto', restore_best_weights=True)\n",
    "\n",
    "model_std_relu_dropout_noVO.fit(x_train_scaled_noVO,y_train,validation_data=(x_val_scaled_noVO,y_val),\n",
    "        callbacks=[monitor],epochs=10)\n"
   ]
  },
  {
   "cell_type": "code",
   "execution_count": 7,
   "id": "ed107ea2",
   "metadata": {},
   "outputs": [],
   "source": [
    "# only VO\n",
    "\n",
    "x_train_scaled_VO = trainScaler.fit_transform(np.array(x_train_sm.iloc[:,0]).reshape(-1, 1))\n",
    "x_val_scaled_VO = trainScaler.transform(np.array(x_val.iloc[:,0]).reshape(-1, 1))\n",
    "x_test_scaled_VO = trainScaler.transform(np.array(x_test.iloc[:,0]).reshape(-1, 1))\n",
    "\n",
    "y_train = y_train_sm.values"
   ]
  },
  {
   "cell_type": "code",
   "execution_count": 8,
   "id": "9c5bdeab",
   "metadata": {},
   "outputs": [
    {
     "name": "stdout",
     "output_type": "stream",
     "text": [
      "Epoch 1/10\n"
     ]
    },
    {
     "name": "stderr",
     "output_type": "stream",
     "text": [
      "2022-12-06 20:34:03.048595: I tensorflow/core/grappler/optimizers/custom_graph_optimizer_registry.cc:114] Plugin optimizer for device_type GPU is enabled.\n"
     ]
    },
    {
     "name": "stdout",
     "output_type": "stream",
     "text": [
      "266255/266255 [==============================] - ETA: 0s - loss: 0.5344"
     ]
    },
    {
     "name": "stderr",
     "output_type": "stream",
     "text": [
      "2022-12-06 20:50:44.325554: I tensorflow/core/grappler/optimizers/custom_graph_optimizer_registry.cc:114] Plugin optimizer for device_type GPU is enabled.\n"
     ]
    },
    {
     "name": "stdout",
     "output_type": "stream",
     "text": [
      "266255/266255 [==============================] - 1046s 4ms/step - loss: 0.5344 - val_loss: 0.4791\n",
      "Epoch 2/10\n",
      "266255/266255 [==============================] - 1047s 4ms/step - loss: 0.5341 - val_loss: 0.4870\n",
      "Epoch 3/10\n",
      "266255/266255 [==============================] - 1044s 4ms/step - loss: 0.5341 - val_loss: 0.5043\n",
      "Epoch 4/10\n",
      "266255/266255 [==============================] - 1043s 4ms/step - loss: 0.5341 - val_loss: 0.5039\n",
      "Epoch 5/10\n",
      "266255/266255 [==============================] - 1056s 4ms/step - loss: 0.5340 - val_loss: 0.5100\n",
      "Epoch 6/10\n",
      "266251/266255 [============================>.] - ETA: 0s - loss: 0.5341Restoring model weights from the end of the best epoch: 1.\n",
      "266255/266255 [==============================] - 1058s 4ms/step - loss: 0.5341 - val_loss: 0.4968\n",
      "Epoch 6: early stopping\n"
     ]
    },
    {
     "data": {
      "text/plain": [
       "<keras.callbacks.History at 0x151e7fd90>"
      ]
     },
     "execution_count": 8,
     "metadata": {},
     "output_type": "execute_result"
    }
   ],
   "source": [
    "model_std_relu_dropout_VO = Sequential()\n",
    "model_std_relu_dropout_VO.add(Dense(32, input_dim=1, activation='relu'))\n",
    "model_std_relu_dropout_VO.add(Dropout(0.5))\n",
    "model_std_relu_dropout_VO.add(Dense(1,activation='sigmoid')) # Output\n",
    "model_std_relu_dropout_VO.compile(loss='binary_crossentropy', optimizer='adam')\n",
    "\n",
    "monitor = EarlyStopping(monitor='val_loss', min_delta=1e-3, patience=5, \n",
    "        verbose=1, mode='auto', restore_best_weights=True)\n",
    "\n",
    "model_std_relu_dropout_VO.fit(x_train_scaled_VO,y_train,validation_data=(x_val_scaled_VO,y_val),\n",
    "        callbacks=[monitor],epochs=10)\n"
   ]
  },
  {
   "cell_type": "code",
   "execution_count": 11,
   "id": "9d089b26",
   "metadata": {},
   "outputs": [
    {
     "name": "stdout",
     "output_type": "stream",
     "text": [
      "   77/16859 [..............................] - ETA: 22s   "
     ]
    },
    {
     "name": "stderr",
     "output_type": "stream",
     "text": [
      "2022-12-07 09:34:53.186726: I tensorflow/core/grappler/optimizers/custom_graph_optimizer_registry.cc:114] Plugin optimizer for device_type GPU is enabled.\n"
     ]
    },
    {
     "name": "stdout",
     "output_type": "stream",
     "text": [
      "16859/16859 [==============================] - 20s 1ms/step\n",
      "  103/16859 [..............................] - ETA: 25s"
     ]
    },
    {
     "name": "stderr",
     "output_type": "stream",
     "text": [
      "2022-12-07 09:35:28.153873: I tensorflow/core/grappler/optimizers/custom_graph_optimizer_registry.cc:114] Plugin optimizer for device_type GPU is enabled.\n"
     ]
    },
    {
     "name": "stdout",
     "output_type": "stream",
     "text": [
      "16859/16859 [==============================] - 20s 1ms/step\n"
     ]
    },
    {
     "data": {
      "image/png": "[encoded data removed]",
      "text/plain": [
       "<Figure size 640x480 with 1 Axes>"
      ]
     },
     "metadata": {},
     "output_type": "display_data"
    },
    {
     "data": {
      "image/png": "[encoded data removed]",
      "text/plain": [
       "<Figure size 640x480 with 1 Axes>"
      ]
     },
     "metadata": {},
     "output_type": "display_data"
    },
    {
     "name": "stdout",
     "output_type": "stream",
     "text": [
      "Accuracy score 1: 0.9223632821550843, accuracy score relu: 0.9165169874343589\n",
      "[[496672  41766]\n",
      " [   118    931]]\n",
      "[[493897  44541]\n",
      " [   497    552]]\n"
     ]
    }
   ],
   "source": [
    "test_models(model_std_relu_dropout_noVO, model_std_relu_dropout_VO, x_test_scaled_noVO, x_test_scaled_VO, y_test)\n"
   ]
  },
  {
   "cell_type": "code",
   "execution_count": null,
   "id": "3e4a5839",
   "metadata": {},
   "outputs": [],
   "source": []
  },
  {
   "cell_type": "code",
   "execution_count": null,
   "id": "657d2f65",
   "metadata": {},
   "outputs": [],
   "source": []
  },
  {
   "cell_type": "code",
   "execution_count": null,
   "id": "60559cfe",
   "metadata": {},
   "outputs": [],
   "source": []
  },
  {
   "cell_type": "code",
   "execution_count": null,
   "id": "3eaf58d0",
   "metadata": {},
   "outputs": [],
   "source": []
  },
  {
   "cell_type": "code",
   "execution_count": null,
   "id": "c35d84a2",
   "metadata": {},
   "outputs": [],
   "source": []
  },
  {
   "cell_type": "code",
   "execution_count": null,
   "id": "9eb159ec",
   "metadata": {},
   "outputs": [],
   "source": []
  },
  {
   "cell_type": "code",
   "execution_count": null,
   "id": "1fbd71aa",
   "metadata": {},
   "outputs": [],
   "source": []
  },
  {
   "cell_type": "code",
   "execution_count": null,
   "id": "038c353c",
   "metadata": {},
   "outputs": [],
   "source": []
  },
  {
   "cell_type": "code",
   "execution_count": null,
   "id": "d4c33dfd",
   "metadata": {},
   "outputs": [],
   "source": []
  },
  {
   "cell_type": "code",
   "execution_count": null,
   "id": "2879aeec",
   "metadata": {},
   "outputs": [],
   "source": []
  },
  {
   "cell_type": "code",
   "execution_count": null,
   "id": "ccdf451c",
   "metadata": {},
   "outputs": [],
   "source": []
  },
  {
   "cell_type": "code",
   "execution_count": null,
   "id": "0060db12",
   "metadata": {},
   "outputs": [],
   "source": []
  },
  {
   "cell_type": "code",
   "execution_count": null,
   "id": "a1f8f59d",
   "metadata": {},
   "outputs": [],
   "source": []
  },
  {
   "cell_type": "code",
   "execution_count": null,
   "id": "a2ed71c4",
   "metadata": {},
   "outputs": [],
   "source": []
  },
  {
   "cell_type": "code",
   "execution_count": null,
   "id": "19819063",
   "metadata": {},
   "outputs": [],
   "source": []
  }
 ],
 "metadata": {
  "kernelspec": {
   "display_name": "Python 3.9 (tensorflow)",
   "language": "python",
   "name": "tensorflow"
  },
  "language_info": {
   "codemirror_mode": {
    "name": "ipython",
    "version": 3
   },
   "file_extension": ".py",
   "mimetype": "text/x-python",
   "name": "python",
   "nbconvert_exporter": "python",
   "pygments_lexer": "ipython3",
   "version": "3.9.13"
  }
 },
 "nbformat": 4,
 "nbformat_minor": 5
}
