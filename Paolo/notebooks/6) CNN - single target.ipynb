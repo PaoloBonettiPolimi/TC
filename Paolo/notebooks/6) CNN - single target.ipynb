{
 "cells": [
  {
   "cell_type": "code",
   "execution_count": 1,
   "id": "be7b8f62",
   "metadata": {},
   "outputs": [
    {
     "name": "stdout",
     "output_type": "stream",
     "text": [
      "pandas: 1.5.0\n",
      "geopandas: 1.23.2\n",
      "Tensorflow/Keras: 2.10.0\n",
      "pandas: 1.5.0\n",
      "numpy: 1.23.2\n"
     ]
    }
   ],
   "source": [
    "#import libraries\n",
    "import pandas as pd\n",
    "print('pandas: %s' % pd.__version__)\n",
    "\n",
    "pd.options.display.max_columns = None\n",
    "pd.set_option('display.max_rows', 150)\n",
    "\n",
    "import numpy as np\n",
    "print('geopandas: %s' % np.__version__)\n",
    "\n",
    "# Tensorflow / Keras\n",
    "import tensorflow as tf # used to access argmax function\n",
    "from tensorflow import keras # for building Neural Networks\n",
    "print('Tensorflow/Keras: %s' % keras.__version__) # print version\n",
    "from keras import Sequential # for creating a linear stack of layers for our Neural Network\n",
    "from keras import Input # for instantiating a keras tensor\n",
    "from keras.layers import Dense # for creating regular densely-connected NN layer.\n",
    "from keras.layers import Dense, Conv2D, MaxPool2D, Flatten, Dropout # for adding Concolutional and densely-connected NN layers.\n",
    "from tensorflow.keras import layers\n",
    "\n",
    "# Data manipulation\n",
    "import pandas as pd # for data manipulation\n",
    "print('pandas: %s' % pd.__version__) # print version\n",
    "import numpy as np # for data manipulation\n",
    "print('numpy: %s' % np.__version__) # print version\n",
    "\n",
    "import decimal\n",
    "from decimal import Decimal\n",
    "\n",
    "import keras \n",
    "import tensorflow as tf\n",
    "from tensorflow.keras.layers import Dropout,BatchNormalization,Conv2D,MaxPooling2D,Dense,Flatten\n",
    "from tensorflow.keras.datasets import cifar10\n",
    "from tensorflow.keras import regularizers\n",
    "from keras import callbacks\n",
    "from sklearn.preprocessing import StandardScaler\n",
    "from keras.models import Sequential\n",
    "import matplotlib.pyplot as plt\n",
    "from keras.layers import Dense # for creating regular densely-connected NN layer.\n",
    "from keras.layers import Dense, Conv2D, MaxPool2D, Flatten, Dropout,MaxPooling2D # for adding Concolutional and densely-connected NN layers.\n",
    "from tensorflow.keras import layers\n",
    "\n",
    "from pathlib import Path  \n",
    "\n",
    "from sklearn.model_selection import train_test_split # for splitting the data into train and test samples\n",
    "from sklearn.metrics import classification_report # for model evaluation metrics\n",
    "from sklearn.preprocessing import OrdinalEncoder # for encoding labels\n",
    "from keras.models import load_model\n",
    "from sklearn.preprocessing import StandardScaler\n",
    "\n"
   ]
  },
  {
   "cell_type": "code",
   "execution_count": 2,
   "id": "d9ca9cc8",
   "metadata": {},
   "outputs": [
    {
     "name": "stdout",
     "output_type": "stream",
     "text": [
      "Metal device set to: Apple M1\n"
     ]
    },
    {
     "name": "stderr",
     "output_type": "stream",
     "text": [
      "2023-01-17 09:24:49.283984: I tensorflow/core/common_runtime/pluggable_device/pluggable_device_factory.cc:306] Could not identify NUMA node of platform GPU ID 0, defaulting to 0. Your kernel may not have been built with NUMA support.\n",
      "2023-01-17 09:24:49.284284: I tensorflow/core/common_runtime/pluggable_device/pluggable_device_factory.cc:272] Created TensorFlow device (/job:localhost/replica:0/task:0/device:GPU:0 with 0 MB memory) -> physical PluggableDevice (device: 0, name: METAL, pci bus id: <undefined>)\n"
     ]
    }
   ],
   "source": [
    "model = load_model(\"/Users/paolo/Documents/TC_old/data/model_1l_512n_relu_dropout_std.h5\")\n",
    "test = pd.read_csv('/Users/paolo/Documents/TC/data/test_real_tom_target.csv').drop(columns=['Unnamed: 0'])\n",
    "train = pd.read_csv('/Users/paolo/Documents/TC/data/training_real_tom_target.csv').drop(columns=['Unnamed: 0'])\n",
    "val = pd.read_csv('/Users/paolo/Documents/TC/data/validation_real_tom_target.csv').drop(columns=['Unnamed: 0'])"
   ]
  },
  {
   "cell_type": "code",
   "execution_count": 3,
   "id": "cd710895",
   "metadata": {},
   "outputs": [
    {
     "data": {
      "text/html": [
       "<div>\n",
       "<style scoped>\n",
       "    .dataframe tbody tr th:only-of-type {\n",
       "        vertical-align: middle;\n",
       "    }\n",
       "\n",
       "    .dataframe tbody tr th {\n",
       "        vertical-align: top;\n",
       "    }\n",
       "\n",
       "    .dataframe thead th {\n",
       "        text-align: right;\n",
       "    }\n",
       "</style>\n",
       "<table border=\"1\" class=\"dataframe\">\n",
       "  <thead>\n",
       "    <tr style=\"text-align: right;\">\n",
       "      <th></th>\n",
       "      <th>time</th>\n",
       "      <th>latitude</th>\n",
       "      <th>longitude</th>\n",
       "      <th>vo</th>\n",
       "      <th>r</th>\n",
       "      <th>u_200</th>\n",
       "      <th>u_850</th>\n",
       "      <th>v_200</th>\n",
       "      <th>v_850</th>\n",
       "      <th>ttr</th>\n",
       "      <th>sst</th>\n",
       "      <th>lsm</th>\n",
       "      <th>Real_tom_lsm</th>\n",
       "    </tr>\n",
       "  </thead>\n",
       "  <tbody>\n",
       "    <tr>\n",
       "      <th>0</th>\n",
       "      <td>2016-01-01</td>\n",
       "      <td>0.0</td>\n",
       "      <td>20.0</td>\n",
       "      <td>0.000011</td>\n",
       "      <td>80.796135</td>\n",
       "      <td>-2.052292</td>\n",
       "      <td>0.008678</td>\n",
       "      <td>4.996910</td>\n",
       "      <td>-1.678764</td>\n",
       "      <td>-272.04962</td>\n",
       "      <td>0.00000</td>\n",
       "      <td>0.0</td>\n",
       "      <td>0.0</td>\n",
       "    </tr>\n",
       "    <tr>\n",
       "      <th>1</th>\n",
       "      <td>2016-01-01</td>\n",
       "      <td>0.0</td>\n",
       "      <td>22.5</td>\n",
       "      <td>0.000011</td>\n",
       "      <td>77.748420</td>\n",
       "      <td>-4.445312</td>\n",
       "      <td>0.740505</td>\n",
       "      <td>7.517281</td>\n",
       "      <td>0.792618</td>\n",
       "      <td>-250.63333</td>\n",
       "      <td>0.00000</td>\n",
       "      <td>0.0</td>\n",
       "      <td>0.0</td>\n",
       "    </tr>\n",
       "    <tr>\n",
       "      <th>2</th>\n",
       "      <td>2016-01-01</td>\n",
       "      <td>0.0</td>\n",
       "      <td>25.0</td>\n",
       "      <td>-0.000001</td>\n",
       "      <td>71.178825</td>\n",
       "      <td>-3.778427</td>\n",
       "      <td>1.056324</td>\n",
       "      <td>9.333221</td>\n",
       "      <td>0.688252</td>\n",
       "      <td>-229.52519</td>\n",
       "      <td>0.00000</td>\n",
       "      <td>0.0</td>\n",
       "      <td>0.0</td>\n",
       "    </tr>\n",
       "    <tr>\n",
       "      <th>3</th>\n",
       "      <td>2016-01-01</td>\n",
       "      <td>0.0</td>\n",
       "      <td>27.5</td>\n",
       "      <td>-0.000005</td>\n",
       "      <td>73.585754</td>\n",
       "      <td>-4.695709</td>\n",
       "      <td>1.236446</td>\n",
       "      <td>9.589882</td>\n",
       "      <td>0.555519</td>\n",
       "      <td>-240.80815</td>\n",
       "      <td>0.00000</td>\n",
       "      <td>0.0</td>\n",
       "      <td>0.0</td>\n",
       "    </tr>\n",
       "    <tr>\n",
       "      <th>4</th>\n",
       "      <td>2016-01-01</td>\n",
       "      <td>0.0</td>\n",
       "      <td>30.0</td>\n",
       "      <td>-0.000016</td>\n",
       "      <td>72.382780</td>\n",
       "      <td>-4.002563</td>\n",
       "      <td>0.734211</td>\n",
       "      <td>5.410950</td>\n",
       "      <td>-1.086350</td>\n",
       "      <td>-262.45557</td>\n",
       "      <td>0.00000</td>\n",
       "      <td>0.0</td>\n",
       "      <td>0.0</td>\n",
       "    </tr>\n",
       "    <tr>\n",
       "      <th>...</th>\n",
       "      <td>...</td>\n",
       "      <td>...</td>\n",
       "      <td>...</td>\n",
       "      <td>...</td>\n",
       "      <td>...</td>\n",
       "      <td>...</td>\n",
       "      <td>...</td>\n",
       "      <td>...</td>\n",
       "      <td>...</td>\n",
       "      <td>...</td>\n",
       "      <td>...</td>\n",
       "      <td>...</td>\n",
       "      <td>...</td>\n",
       "    </tr>\n",
       "    <tr>\n",
       "      <th>539482</th>\n",
       "      <td>2019-12-01</td>\n",
       "      <td>-30.0</td>\n",
       "      <td>80.0</td>\n",
       "      <td>0.000006</td>\n",
       "      <td>2.637233</td>\n",
       "      <td>33.277840</td>\n",
       "      <td>5.379345</td>\n",
       "      <td>-0.286896</td>\n",
       "      <td>5.558327</td>\n",
       "      <td>-277.60870</td>\n",
       "      <td>294.14987</td>\n",
       "      <td>0.0</td>\n",
       "      <td>0.0</td>\n",
       "    </tr>\n",
       "    <tr>\n",
       "      <th>539483</th>\n",
       "      <td>2019-12-01</td>\n",
       "      <td>-30.0</td>\n",
       "      <td>82.5</td>\n",
       "      <td>-0.000020</td>\n",
       "      <td>23.660923</td>\n",
       "      <td>34.272537</td>\n",
       "      <td>6.438683</td>\n",
       "      <td>-13.026535</td>\n",
       "      <td>2.857349</td>\n",
       "      <td>-270.80573</td>\n",
       "      <td>294.23798</td>\n",
       "      <td>0.0</td>\n",
       "      <td>0.0</td>\n",
       "    </tr>\n",
       "    <tr>\n",
       "      <th>539484</th>\n",
       "      <td>2019-12-01</td>\n",
       "      <td>-30.0</td>\n",
       "      <td>85.0</td>\n",
       "      <td>-0.000019</td>\n",
       "      <td>46.051540</td>\n",
       "      <td>35.755882</td>\n",
       "      <td>7.248966</td>\n",
       "      <td>-18.870102</td>\n",
       "      <td>-3.349407</td>\n",
       "      <td>-249.43092</td>\n",
       "      <td>294.26890</td>\n",
       "      <td>0.0</td>\n",
       "      <td>0.0</td>\n",
       "    </tr>\n",
       "    <tr>\n",
       "      <th>539485</th>\n",
       "      <td>2019-12-01</td>\n",
       "      <td>-30.0</td>\n",
       "      <td>87.5</td>\n",
       "      <td>-0.000014</td>\n",
       "      <td>55.855648</td>\n",
       "      <td>34.069664</td>\n",
       "      <td>6.349327</td>\n",
       "      <td>-18.801796</td>\n",
       "      <td>-8.172478</td>\n",
       "      <td>-239.36870</td>\n",
       "      <td>294.36630</td>\n",
       "      <td>0.0</td>\n",
       "      <td>0.0</td>\n",
       "    </tr>\n",
       "    <tr>\n",
       "      <th>539486</th>\n",
       "      <td>2019-12-01</td>\n",
       "      <td>-30.0</td>\n",
       "      <td>90.0</td>\n",
       "      <td>0.000006</td>\n",
       "      <td>61.602300</td>\n",
       "      <td>29.167267</td>\n",
       "      <td>4.805675</td>\n",
       "      <td>-15.093590</td>\n",
       "      <td>-9.708778</td>\n",
       "      <td>-251.60574</td>\n",
       "      <td>293.74924</td>\n",
       "      <td>0.0</td>\n",
       "      <td>0.0</td>\n",
       "    </tr>\n",
       "  </tbody>\n",
       "</table>\n",
       "<p>539487 rows × 13 columns</p>\n",
       "</div>"
      ],
      "text/plain": [
       "              time  latitude  longitude        vo          r      u_200  \\\n",
       "0       2016-01-01       0.0       20.0  0.000011  80.796135  -2.052292   \n",
       "1       2016-01-01       0.0       22.5  0.000011  77.748420  -4.445312   \n",
       "2       2016-01-01       0.0       25.0 -0.000001  71.178825  -3.778427   \n",
       "3       2016-01-01       0.0       27.5 -0.000005  73.585754  -4.695709   \n",
       "4       2016-01-01       0.0       30.0 -0.000016  72.382780  -4.002563   \n",
       "...            ...       ...        ...       ...        ...        ...   \n",
       "539482  2019-12-01     -30.0       80.0  0.000006   2.637233  33.277840   \n",
       "539483  2019-12-01     -30.0       82.5 -0.000020  23.660923  34.272537   \n",
       "539484  2019-12-01     -30.0       85.0 -0.000019  46.051540  35.755882   \n",
       "539485  2019-12-01     -30.0       87.5 -0.000014  55.855648  34.069664   \n",
       "539486  2019-12-01     -30.0       90.0  0.000006  61.602300  29.167267   \n",
       "\n",
       "           u_850      v_200     v_850        ttr        sst  lsm  Real_tom_lsm  \n",
       "0       0.008678   4.996910 -1.678764 -272.04962    0.00000  0.0           0.0  \n",
       "1       0.740505   7.517281  0.792618 -250.63333    0.00000  0.0           0.0  \n",
       "2       1.056324   9.333221  0.688252 -229.52519    0.00000  0.0           0.0  \n",
       "3       1.236446   9.589882  0.555519 -240.80815    0.00000  0.0           0.0  \n",
       "4       0.734211   5.410950 -1.086350 -262.45557    0.00000  0.0           0.0  \n",
       "...          ...        ...       ...        ...        ...  ...           ...  \n",
       "539482  5.379345  -0.286896  5.558327 -277.60870  294.14987  0.0           0.0  \n",
       "539483  6.438683 -13.026535  2.857349 -270.80573  294.23798  0.0           0.0  \n",
       "539484  7.248966 -18.870102 -3.349407 -249.43092  294.26890  0.0           0.0  \n",
       "539485  6.349327 -18.801796 -8.172478 -239.36870  294.36630  0.0           0.0  \n",
       "539486  4.805675 -15.093590 -9.708778 -251.60574  293.74924  0.0           0.0  \n",
       "\n",
       "[539487 rows x 13 columns]"
      ]
     },
     "execution_count": 3,
     "metadata": {},
     "output_type": "execute_result"
    }
   ],
   "source": [
    "test"
   ]
  },
  {
   "cell_type": "markdown",
   "id": "49cc0707",
   "metadata": {},
   "source": [
    "# Standardization"
   ]
  },
  {
   "cell_type": "code",
   "execution_count": 4,
   "id": "8f3c66ee",
   "metadata": {},
   "outputs": [],
   "source": [
    "from sklearn.preprocessing import StandardScaler\n",
    "scaler = StandardScaler()\n",
    "\n",
    "cols_to_std = [ 'vo', 'r', 'u_200', 'u_850', 'v_200','v_850', 'ttr','sst']\n",
    "train_std,val_std,test_std = train,val,test\n",
    "\n",
    "# apply standardization on numerical features\n",
    "train_std[cols_to_std] = scaler.fit_transform(train[[ 'vo', 'r', 'u_200', 'u_850', 'v_200','v_850', 'ttr','sst']])\n",
    "val_std[cols_to_std] = scaler.transform(val[[ 'vo', 'r', 'u_200', 'u_850', 'v_200','v_850', 'ttr','sst']])\n",
    "test_std[cols_to_std] = scaler.transform(test[[ 'vo', 'r', 'u_200', 'u_850', 'v_200','v_850', 'ttr','sst']])\n"
   ]
  },
  {
   "cell_type": "markdown",
   "id": "70be55fd",
   "metadata": {},
   "source": [
    "# Image extraction"
   ]
  },
  {
   "cell_type": "code",
   "execution_count": 5,
   "id": "6c210ac6",
   "metadata": {},
   "outputs": [],
   "source": [
    "def extract_images(df, variables, verbose=False):\n",
    "    number_of_img, rows, cols = len(df.time.unique()), len(df.latitude.unique()), len(df.longitude.unique())\n",
    "    images = np.zeros( (number_of_img, rows, cols, len(variables)) )\n",
    "    \n",
    "    df = df.sort_values(by=['time','latitude','longitude'])\n",
    "    k=0\n",
    "    \n",
    "    for day in range(0,number_of_img):\n",
    "        \n",
    "        a=df.iloc[377*day:377*(day+1)]\n",
    "        i=0\n",
    "        for var in variables:\n",
    "            images[day,:,:,i] = a.pivot(index='latitude', columns='longitude')[var]\n",
    "            i+=1\n",
    "        k+=1\n",
    "        if (k%100==0) & (verbose==True): print(k)\n",
    "    return images"
   ]
  },
  {
   "cell_type": "code",
   "execution_count": 6,
   "id": "0b2d3cb5",
   "metadata": {
    "scrolled": false
   },
   "outputs": [
    {
     "name": "stdout",
     "output_type": "stream",
     "text": [
      "(11323, 13, 29, 8)\n"
     ]
    }
   ],
   "source": [
    "#training set has 11323 days\n",
    "variables = [ 'vo', 'r', 'u_200', 'u_850', 'v_200','v_850', 'ttr','sst']\n",
    "train_img_std = extract_images(train_std, variables, verbose=False)\n",
    "print(train_img_std.shape)"
   ]
  },
  {
   "cell_type": "code",
   "execution_count": 7,
   "id": "ca518bc6",
   "metadata": {
    "scrolled": false
   },
   "outputs": [
    {
     "name": "stdout",
     "output_type": "stream",
     "text": [
      "(1826, 13, 29, 8)\n"
     ]
    }
   ],
   "source": [
    "#validation set has 1826 days\n",
    "variables = [ 'vo', 'r', 'u_200', 'u_850', 'v_200','v_850', 'ttr','sst']\n",
    "val_img_std = extract_images(val_std, variables, verbose=False)\n",
    "print(val_img_std.shape)"
   ]
  },
  {
   "cell_type": "code",
   "execution_count": 8,
   "id": "4cb1cdef",
   "metadata": {},
   "outputs": [
    {
     "name": "stdout",
     "output_type": "stream",
     "text": [
      "(1431, 13, 29, 8)\n"
     ]
    }
   ],
   "source": [
    "#test set has 1431 days\n",
    "variables = [ 'vo', 'r', 'u_200', 'u_850', 'v_200','v_850', 'ttr','sst']\n",
    "test_img_std = extract_images(test_std, variables, verbose=False)\n",
    "print(test_img_std.shape)"
   ]
  },
  {
   "cell_type": "code",
   "execution_count": 9,
   "id": "7d570b91",
   "metadata": {},
   "outputs": [
    {
     "name": "stdout",
     "output_type": "stream",
     "text": [
      "(11323,) (1826,) (1431,)\n"
     ]
    }
   ],
   "source": [
    "y_train = train.loc[(train.latitude == -15.0) & (train.longitude == 55),'Real_tom_lsm']\n",
    "y_val = val.loc[(val.latitude == -15.0) & (val.longitude == 55),'Real_tom_lsm']\n",
    "y_test = test.loc[(test.latitude == -15.0) & (test.longitude == 55),'Real_tom_lsm']\n",
    "print(y_train.shape, y_val.shape, y_test.shape)"
   ]
  },
  {
   "cell_type": "markdown",
   "id": "b491dac3",
   "metadata": {},
   "source": [
    "# basic CNN"
   ]
  },
  {
   "cell_type": "code",
   "execution_count": 13,
   "id": "6cfb090a",
   "metadata": {
    "scrolled": true
   },
   "outputs": [
    {
     "name": "stdout",
     "output_type": "stream",
     "text": [
      "Model: \"sequential_1\"\n",
      "_________________________________________________________________\n",
      " Layer (type)                Output Shape              Param #   \n",
      "=================================================================\n",
      " conv2d_2 (Conv2D)           (None, 11, 27, 8)         584       \n",
      "                                                                 \n",
      " max_pooling2d_2 (MaxPooling  (None, 5, 13, 8)         0         \n",
      " 2D)                                                             \n",
      "                                                                 \n",
      " conv2d_3 (Conv2D)           (None, 3, 11, 16)         1168      \n",
      "                                                                 \n",
      " max_pooling2d_3 (MaxPooling  (None, 1, 5, 16)         0         \n",
      " 2D)                                                             \n",
      "                                                                 \n",
      " flatten_1 (Flatten)         (None, 80)                0         \n",
      "                                                                 \n",
      " dense_2 (Dense)             (None, 16)                1296      \n",
      "                                                                 \n",
      " dense_3 (Dense)             (None, 1)                 17        \n",
      "                                                                 \n",
      "=================================================================\n",
      "Total params: 3,065\n",
      "Trainable params: 3,065\n",
      "Non-trainable params: 0\n",
      "_________________________________________________________________\n"
     ]
    }
   ],
   "source": [
    "from tensorflow.keras.models import Sequential\n",
    "from tensorflow.keras import layers\n",
    "from tensorflow.keras.callbacks import EarlyStopping\n",
    "\n",
    "model = Sequential()\n",
    "\n",
    "model.add(layers.Conv2D(8, (3, 3), activation='relu', input_shape=(13, 29, 8)))\n",
    "model.add(layers.MaxPooling2D((2, 2)))\n",
    "\n",
    "model.add(layers.Conv2D(16, (3, 3), activation='relu'))\n",
    "model.add(layers.MaxPooling2D((2, 2)))\n",
    "\n",
    "model.add(layers.Flatten())\n",
    "model.add(layers.Dense(16, activation='relu'))\n",
    "\n",
    "model.add(Dense(1,activation='sigmoid')) # Output\n",
    "\n",
    "model.compile(loss='binary_crossentropy', optimizer='adam')\n",
    "\n",
    "\n",
    "monitor = EarlyStopping(monitor='val_loss', min_delta=1e-3, patience=20, \n",
    "        verbose=1, mode='auto', restore_best_weights=True)\n",
    "\n",
    "model.summary()\n"
   ]
  },
  {
   "cell_type": "code",
   "execution_count": 14,
   "id": "3f710a52",
   "metadata": {
    "scrolled": true
   },
   "outputs": [
    {
     "name": "stdout",
     "output_type": "stream",
     "text": [
      "Epoch 1/100\n",
      "  9/354 [..............................] - ETA: 2s - loss: 0.5902  "
     ]
    },
    {
     "name": "stderr",
     "output_type": "stream",
     "text": [
      "2023-01-17 09:28:34.498370: I tensorflow/core/grappler/optimizers/custom_graph_optimizer_registry.cc:114] Plugin optimizer for device_type GPU is enabled.\n"
     ]
    },
    {
     "name": "stdout",
     "output_type": "stream",
     "text": [
      "354/354 [==============================] - 2s 6ms/step - loss: 0.0538 - val_loss: 0.0258\n",
      "Epoch 2/100\n",
      "  1/354 [..............................] - ETA: 2s - loss: 0.0056"
     ]
    },
    {
     "name": "stderr",
     "output_type": "stream",
     "text": [
      "2023-01-17 09:28:36.658871: I tensorflow/core/grappler/optimizers/custom_graph_optimizer_registry.cc:114] Plugin optimizer for device_type GPU is enabled.\n"
     ]
    },
    {
     "name": "stdout",
     "output_type": "stream",
     "text": [
      "354/354 [==============================] - 2s 6ms/step - loss: 0.0236 - val_loss: 0.0236\n",
      "Epoch 3/100\n",
      "354/354 [==============================] - 2s 6ms/step - loss: 0.0195 - val_loss: 0.0231\n",
      "Epoch 4/100\n",
      "354/354 [==============================] - 2s 6ms/step - loss: 0.0185 - val_loss: 0.0203\n",
      "Epoch 5/100\n",
      "354/354 [==============================] - 2s 6ms/step - loss: 0.0152 - val_loss: 0.0264\n",
      "Epoch 6/100\n",
      "354/354 [==============================] - 2s 6ms/step - loss: 0.0139 - val_loss: 0.0202\n",
      "Epoch 7/100\n",
      "354/354 [==============================] - 2s 6ms/step - loss: 0.0125 - val_loss: 0.0291\n",
      "Epoch 8/100\n",
      "354/354 [==============================] - 2s 6ms/step - loss: 0.0114 - val_loss: 0.0236\n",
      "Epoch 9/100\n",
      "354/354 [==============================] - 2s 6ms/step - loss: 0.0109 - val_loss: 0.0209\n",
      "Epoch 10/100\n",
      "354/354 [==============================] - 2s 6ms/step - loss: 0.0088 - val_loss: 0.0236\n",
      "Epoch 11/100\n",
      "354/354 [==============================] - 2s 6ms/step - loss: 0.0077 - val_loss: 0.0292\n",
      "Epoch 12/100\n",
      "354/354 [==============================] - 2s 6ms/step - loss: 0.0055 - val_loss: 0.0264\n",
      "Epoch 13/100\n",
      "354/354 [==============================] - 2s 6ms/step - loss: 0.0069 - val_loss: 0.0288\n",
      "Epoch 14/100\n",
      "354/354 [==============================] - 2s 6ms/step - loss: 0.0032 - val_loss: 0.0339\n",
      "Epoch 15/100\n",
      "354/354 [==============================] - 2s 6ms/step - loss: 0.0032 - val_loss: 0.0455\n",
      "Epoch 16/100\n",
      "354/354 [==============================] - 2s 6ms/step - loss: 0.0019 - val_loss: 0.0350\n",
      "Epoch 17/100\n",
      "354/354 [==============================] - 2s 6ms/step - loss: 0.0019 - val_loss: 0.0408\n",
      "Epoch 18/100\n",
      "354/354 [==============================] - 2s 6ms/step - loss: 0.0033 - val_loss: 0.0381\n",
      "Epoch 19/100\n",
      "354/354 [==============================] - 2s 6ms/step - loss: 8.7896e-04 - val_loss: 0.0386\n",
      "Epoch 20/100\n",
      "354/354 [==============================] - 2s 6ms/step - loss: 4.3036e-04 - val_loss: 0.0465\n",
      "Epoch 21/100\n",
      "354/354 [==============================] - 2s 6ms/step - loss: 2.1882e-04 - val_loss: 0.0421\n",
      "Epoch 22/100\n",
      "354/354 [==============================] - 2s 6ms/step - loss: 1.4156e-04 - val_loss: 0.0453\n",
      "Epoch 23/100\n",
      "354/354 [==============================] - 2s 6ms/step - loss: 1.0845e-04 - val_loss: 0.0448\n",
      "Epoch 24/100\n",
      "347/354 [============================>.] - ETA: 0s - loss: 8.4594e-05Restoring model weights from the end of the best epoch: 4.\n",
      "354/354 [==============================] - 2s 6ms/step - loss: 8.6342e-05 - val_loss: 0.0491\n",
      "Epoch 24: early stopping\n"
     ]
    },
    {
     "data": {
      "text/plain": [
       "<keras.callbacks.History at 0x17c9bd3a0>"
      ]
     },
     "execution_count": 14,
     "metadata": {},
     "output_type": "execute_result"
    }
   ],
   "source": [
    "model.fit(train_img_std, y_train, validation_data=(val_img_std,y_val),\n",
    "        callbacks=[monitor],epochs=100)"
   ]
  },
  {
   "cell_type": "code",
   "execution_count": 15,
   "id": "ab217acc",
   "metadata": {
    "scrolled": true
   },
   "outputs": [
    {
     "name": "stdout",
     "output_type": "stream",
     "text": [
      "45/45 [==============================] - 0s 2ms/step\n",
      " 1/45 [..............................] - ETA: 0s"
     ]
    },
    {
     "name": "stderr",
     "output_type": "stream",
     "text": [
      "2023-01-17 09:29:46.178473: I tensorflow/core/grappler/optimizers/custom_graph_optimizer_registry.cc:114] Plugin optimizer for device_type GPU is enabled.\n"
     ]
    },
    {
     "name": "stdout",
     "output_type": "stream",
     "text": [
      "45/45 [==============================] - 0s 2ms/step\n"
     ]
    },
    {
     "data": {
      "text/plain": [
       "<sklearn.metrics._plot.confusion_matrix.ConfusionMatrixDisplay at 0x17c99b7f0>"
      ]
     },
     "execution_count": 15,
     "metadata": {},
     "output_type": "execute_result"
    },
    {
     "data": {
      "image/png": "[encoded data removed]",
      "text/plain": [
       "<Figure size 640x480 with 1 Axes>"
      ]
     },
     "metadata": {},
     "output_type": "display_data"
    },
    {
     "data": {
      "image/png": "[encoded data removed]",
      "text/plain": [
       "<Figure size 640x480 with 1 Axes>"
      ]
     },
     "metadata": {},
     "output_type": "display_data"
    }
   ],
   "source": [
    "from sklearn.metrics import ConfusionMatrixDisplay\n",
    "from sklearn.metrics import confusion_matrix\n",
    "#data1 = pd.read_csv(path4)\n",
    "ConfusionMatrixDisplay(confusion_matrix(y_test, np.rint(model.predict(test_img_std)))).plot(colorbar=False,cmap=plt.cm.Blues, values_format='d')\n",
    "ConfusionMatrixDisplay(confusion_matrix(y_test, np.rint(model.predict(test_img_std)), normalize='true')).plot(colorbar=False,cmap=plt.cm.Blues)\n"
   ]
  },
  {
   "cell_type": "markdown",
   "id": "ca93c1b5",
   "metadata": {},
   "source": [
    "# CNN with SMOTE"
   ]
  },
  {
   "cell_type": "code",
   "execution_count": 163,
   "id": "86408cca",
   "metadata": {},
   "outputs": [
    {
     "name": "stdout",
     "output_type": "stream",
     "text": [
      "Before Smote\n",
      "[0. 1.]\n",
      "> Class=0 : 11243/11323 (99.3%)\n",
      "> Class=1 : 80/11323 (0.7%)\n",
      "After SMOTE\n",
      "[0. 1.]\n",
      "> Class=0 : 11243/22486 (50.0%)\n",
      "> Class=1 : 11243/22486 (50.0%)\n"
     ]
    }
   ],
   "source": [
    "from imblearn.over_sampling import SMOTE\n",
    "from collections import Counter\n",
    "from numpy import * \n",
    "\n",
    "dataset = np.reshape(train_img_std, (11323,-1 ))\n",
    "\n",
    "print('Before Smote')\n",
    "\n",
    "dff = y_train\n",
    "M = y_train.to_numpy()\n",
    "# summarize dataset\n",
    "classes = unique(M)\n",
    "print(classes)\n",
    "total = len(M)\n",
    "for c in classes:\n",
    "    n_examples = len(M[M==c])\n",
    "    percent = n_examples / total * 100\n",
    "    print('> Class=%d : %d/%d (%.1f%%)' % (c, n_examples, total, percent))\n",
    "\n",
    "smt = SMOTE()\n",
    "\n",
    "train_img_std_sm, y_train_sm = smt.fit_resample(dataset, y_train)\n",
    "\n",
    "print('After SMOTE')\n",
    "dff = y_train_sm\n",
    "M = y_train_sm.to_numpy()\n",
    "# summarize dataset\n",
    "classes = unique(M)\n",
    "print(classes)\n",
    "total = len(M)\n",
    "for c in classes:\n",
    "    n_examples = len(M[M==c])\n",
    "    percent = n_examples / total * 100\n",
    "    print('> Class=%d : %d/%d (%.1f%%)' % (c, n_examples, total, percent))"
   ]
  },
  {
   "cell_type": "code",
   "execution_count": 164,
   "id": "105c59f1",
   "metadata": {},
   "outputs": [],
   "source": [
    "train_img_std_sm = train_img_std_sm.reshape(22486,13, 29, 8)"
   ]
  },
  {
   "cell_type": "code",
   "execution_count": 173,
   "id": "5fb83832",
   "metadata": {},
   "outputs": [
    {
     "name": "stdout",
     "output_type": "stream",
     "text": [
      "Epoch 1/10\n"
     ]
    },
    {
     "name": "stderr",
     "output_type": "stream",
     "text": [
      "2022-11-28 14:03:32.669792: I tensorflow/core/grappler/optimizers/custom_graph_optimizer_registry.cc:114] Plugin optimizer for device_type GPU is enabled.\n"
     ]
    },
    {
     "name": "stdout",
     "output_type": "stream",
     "text": [
      "703/703 [==============================] - ETA: 0s - loss: 0.0818"
     ]
    },
    {
     "name": "stderr",
     "output_type": "stream",
     "text": [
      "2022-11-28 14:03:37.505966: I tensorflow/core/grappler/optimizers/custom_graph_optimizer_registry.cc:114] Plugin optimizer for device_type GPU is enabled.\n"
     ]
    },
    {
     "name": "stdout",
     "output_type": "stream",
     "text": [
      "703/703 [==============================] - 5s 7ms/step - loss: 0.0818 - val_loss: 0.0253\n",
      "Epoch 2/10\n",
      "703/703 [==============================] - 4s 6ms/step - loss: 0.0253 - val_loss: 0.0388\n",
      "Epoch 3/10\n",
      "703/703 [==============================] - 4s 6ms/step - loss: 0.0144 - val_loss: 0.0253\n",
      "Epoch 4/10\n",
      "703/703 [==============================] - 4s 5ms/step - loss: 0.0088 - val_loss: 0.0202\n",
      "Epoch 5/10\n",
      "703/703 [==============================] - 4s 5ms/step - loss: 0.0072 - val_loss: 0.0244\n",
      "Epoch 6/10\n",
      "703/703 [==============================] - 4s 5ms/step - loss: 0.0060 - val_loss: 0.0309\n",
      "Epoch 7/10\n",
      "703/703 [==============================] - 4s 5ms/step - loss: 0.0028 - val_loss: 0.0292\n",
      "Epoch 8/10\n",
      "703/703 [==============================] - 4s 5ms/step - loss: 0.0013 - val_loss: 0.0482\n",
      "Epoch 9/10\n",
      "702/703 [============================>.] - ETA: 0s - loss: 0.0012Restoring model weights from the end of the best epoch: 4.\n",
      "703/703 [==============================] - 4s 6ms/step - loss: 0.0012 - val_loss: 0.0380\n",
      "Epoch 9: early stopping\n"
     ]
    },
    {
     "data": {
      "text/plain": [
       "<keras.callbacks.History at 0x29a194bb0>"
      ]
     },
     "execution_count": 173,
     "metadata": {},
     "output_type": "execute_result"
    }
   ],
   "source": [
    "### same basic CNN\n",
    "\n",
    "from tensorflow.keras.models import Sequential\n",
    "from tensorflow.keras import layers\n",
    "from tensorflow.keras.callbacks import EarlyStopping\n",
    "\n",
    "model = Sequential()\n",
    "\n",
    "model.add(layers.Conv2D(8, (3, 3), activation='relu', input_shape=(13, 29, 8)))\n",
    "model.add(layers.MaxPooling2D((2, 2)))\n",
    "\n",
    "model.add(layers.Conv2D(16, (3, 3), activation='relu'))\n",
    "model.add(layers.MaxPooling2D((2, 2)))\n",
    "\n",
    "model.add(layers.Flatten())\n",
    "model.add(layers.Dense(16, activation='relu'))\n",
    "\n",
    "model.add(Dense(1,activation='sigmoid')) # Output\n",
    "\n",
    "model.compile(loss='binary_crossentropy', optimizer='adam')\n",
    "\n",
    "\n",
    "monitor = EarlyStopping(monitor='val_loss', min_delta=1e-3, patience=5, \n",
    "        verbose=1, mode='auto', restore_best_weights=True)\n",
    "\n",
    "model.fit(train_img_std_sm, y_train_sm, validation_data=(val_img_std,y_val),\n",
    "        callbacks=[monitor],epochs=10)\n"
   ]
  },
  {
   "cell_type": "code",
   "execution_count": 174,
   "id": "c46608f3",
   "metadata": {
    "scrolled": true
   },
   "outputs": [
    {
     "name": "stdout",
     "output_type": "stream",
     "text": [
      "45/45 [==============================] - 0s 2ms/step\n"
     ]
    },
    {
     "name": "stderr",
     "output_type": "stream",
     "text": [
      "2022-11-28 14:04:38.906090: I tensorflow/core/grappler/optimizers/custom_graph_optimizer_registry.cc:114] Plugin optimizer for device_type GPU is enabled.\n"
     ]
    },
    {
     "name": "stdout",
     "output_type": "stream",
     "text": [
      "45/45 [==============================] - 0s 2ms/step\n"
     ]
    },
    {
     "data": {
      "text/plain": [
       "<sklearn.metrics._plot.confusion_matrix.ConfusionMatrixDisplay at 0x29b68a3a0>"
      ]
     },
     "execution_count": 174,
     "metadata": {},
     "output_type": "execute_result"
    },
    {
     "data": {
      "image/png": "[encoded data removed]",
      "text/plain": [
       "<Figure size 640x480 with 1 Axes>"
      ]
     },
     "metadata": {},
     "output_type": "display_data"
    },
    {
     "data": {
      "image/png": "[encoded data removed]",
      "text/plain": [
       "<Figure size 640x480 with 1 Axes>"
      ]
     },
     "metadata": {},
     "output_type": "display_data"
    }
   ],
   "source": [
    "from sklearn.metrics import ConfusionMatrixDisplay\n",
    "from sklearn.metrics import confusion_matrix\n",
    "#data1 = pd.read_csv(path4)\n",
    "ConfusionMatrixDisplay(confusion_matrix(y_test, np.rint(model.predict(test_img_std)))).plot(colorbar=False,cmap=plt.cm.Blues, values_format='d')\n",
    "ConfusionMatrixDisplay(confusion_matrix(y_test, np.rint(model.predict(test_img_std)), normalize='true')).plot(colorbar=False,cmap=plt.cm.Blues)\n"
   ]
  },
  {
   "cell_type": "markdown",
   "id": "4beacd98",
   "metadata": {},
   "source": [
    "# sample weighting"
   ]
  },
  {
   "cell_type": "code",
   "execution_count": 17,
   "id": "e723558f",
   "metadata": {},
   "outputs": [],
   "source": [
    "from sklearn.utils import class_weight\n",
    "from sklearn.utils.class_weight import compute_sample_weight\n",
    "\n",
    "##n_samples / (n_classes * np.bincount(y))\n",
    "sample_weights = compute_sample_weight(class_weight = 'balanced', \n",
    "                                                  y = y_train)"
   ]
  },
  {
   "cell_type": "code",
   "execution_count": 18,
   "id": "ca58cbc1",
   "metadata": {},
   "outputs": [
    {
     "data": {
      "text/plain": [
       "(array([ 0.50355777, 70.76875   ]), array([11243,    80]))"
      ]
     },
     "execution_count": 18,
     "metadata": {},
     "output_type": "execute_result"
    }
   ],
   "source": [
    "np.unique(sample_weights, return_counts=True)"
   ]
  },
  {
   "cell_type": "code",
   "execution_count": 19,
   "id": "62501290",
   "metadata": {},
   "outputs": [
    {
     "name": "stdout",
     "output_type": "stream",
     "text": [
      "Epoch 1/50\n"
     ]
    },
    {
     "name": "stderr",
     "output_type": "stream",
     "text": [
      "2022-11-29 21:50:18.490943: I tensorflow/core/grappler/optimizers/custom_graph_optimizer_registry.cc:114] Plugin optimizer for device_type GPU is enabled.\n"
     ]
    },
    {
     "name": "stdout",
     "output_type": "stream",
     "text": [
      "354/354 [==============================] - ETA: 0s - loss: 0.3951"
     ]
    },
    {
     "name": "stderr",
     "output_type": "stream",
     "text": [
      "2022-11-29 21:50:26.268057: I tensorflow/core/grappler/optimizers/custom_graph_optimizer_registry.cc:114] Plugin optimizer for device_type GPU is enabled.\n"
     ]
    },
    {
     "name": "stdout",
     "output_type": "stream",
     "text": [
      "354/354 [==============================] - 10s 13ms/step - loss: 0.3951 - val_loss: 0.1061\n",
      "Epoch 2/50\n",
      "354/354 [==============================] - 2s 6ms/step - loss: 0.1887 - val_loss: 0.2964\n",
      "Epoch 3/50\n",
      "354/354 [==============================] - 2s 6ms/step - loss: 0.1205 - val_loss: 0.1231\n",
      "Epoch 4/50\n",
      "354/354 [==============================] - 2s 6ms/step - loss: 0.1249 - val_loss: 0.1332\n",
      "Epoch 5/50\n",
      "354/354 [==============================] - 2s 6ms/step - loss: 0.0942 - val_loss: 0.0835\n",
      "Epoch 6/50\n",
      "354/354 [==============================] - 2s 7ms/step - loss: 0.0949 - val_loss: 0.0826\n",
      "Epoch 7/50\n",
      "354/354 [==============================] - 2s 6ms/step - loss: 0.0759 - val_loss: 0.1290\n",
      "Epoch 8/50\n",
      "354/354 [==============================] - 2s 6ms/step - loss: 0.0695 - val_loss: 0.0583\n",
      "Epoch 9/50\n",
      "354/354 [==============================] - 2s 6ms/step - loss: 0.0571 - val_loss: 0.1344\n",
      "Epoch 10/50\n",
      "354/354 [==============================] - 2s 6ms/step - loss: 0.0530 - val_loss: 0.0669\n",
      "Epoch 11/50\n",
      "354/354 [==============================] - 2s 6ms/step - loss: 0.0491 - val_loss: 0.0804\n",
      "Epoch 12/50\n",
      "354/354 [==============================] - 2s 6ms/step - loss: 0.0729 - val_loss: 0.0621\n",
      "Epoch 13/50\n",
      "354/354 [==============================] - 2s 6ms/step - loss: 0.0583 - val_loss: 0.1021\n",
      "Epoch 14/50\n",
      "354/354 [==============================] - 2s 6ms/step - loss: 0.0484 - val_loss: 0.0567\n",
      "Epoch 15/50\n",
      "354/354 [==============================] - 2s 6ms/step - loss: 0.0503 - val_loss: 0.0828\n",
      "Epoch 16/50\n",
      "354/354 [==============================] - 2s 6ms/step - loss: 0.0460 - val_loss: 0.0484\n",
      "Epoch 17/50\n",
      "354/354 [==============================] - 2s 6ms/step - loss: 0.0564 - val_loss: 0.0648\n",
      "Epoch 18/50\n",
      "354/354 [==============================] - 2s 6ms/step - loss: 0.0463 - val_loss: 0.0549\n",
      "Epoch 19/50\n",
      "354/354 [==============================] - 2s 6ms/step - loss: 0.0418 - val_loss: 0.0487\n",
      "Epoch 20/50\n",
      "354/354 [==============================] - 2s 6ms/step - loss: 0.0281 - val_loss: 0.0473\n",
      "Epoch 21/50\n",
      "354/354 [==============================] - 2s 6ms/step - loss: 0.0683 - val_loss: 0.0928\n",
      "Epoch 22/50\n",
      "354/354 [==============================] - 2s 6ms/step - loss: 0.0998 - val_loss: 0.0913\n",
      "Epoch 23/50\n",
      "354/354 [==============================] - 2s 6ms/step - loss: 0.0648 - val_loss: 0.0901\n",
      "Epoch 24/50\n",
      "354/354 [==============================] - 2s 6ms/step - loss: 0.0407 - val_loss: 0.0587\n",
      "Epoch 25/50\n",
      "354/354 [==============================] - 2s 6ms/step - loss: 0.0378 - val_loss: 0.0614\n",
      "Epoch 26/50\n",
      "354/354 [==============================] - 2s 6ms/step - loss: 0.0234 - val_loss: 0.0548\n",
      "Epoch 27/50\n",
      "354/354 [==============================] - 2s 6ms/step - loss: 0.0244 - val_loss: 0.0422\n",
      "Epoch 28/50\n",
      "354/354 [==============================] - 2s 6ms/step - loss: 0.0197 - val_loss: 0.0375\n",
      "Epoch 29/50\n",
      "354/354 [==============================] - 2s 6ms/step - loss: 0.0170 - val_loss: 0.0385\n",
      "Epoch 30/50\n",
      "354/354 [==============================] - 2s 6ms/step - loss: 0.0146 - val_loss: 0.0430\n",
      "Epoch 31/50\n",
      "354/354 [==============================] - 2s 6ms/step - loss: 0.0241 - val_loss: 0.1370\n",
      "Epoch 32/50\n",
      "354/354 [==============================] - 2s 6ms/step - loss: 0.1064 - val_loss: 0.1895\n",
      "Epoch 33/50\n",
      "354/354 [==============================] - 2s 6ms/step - loss: 0.0778 - val_loss: 0.1892\n",
      "Epoch 34/50\n",
      "354/354 [==============================] - 2s 6ms/step - loss: 0.0570 - val_loss: 0.0476\n",
      "Epoch 35/50\n",
      "354/354 [==============================] - 2s 6ms/step - loss: 0.0412 - val_loss: 0.0399\n",
      "Epoch 36/50\n",
      "354/354 [==============================] - 48s 135ms/step - loss: 0.0193 - val_loss: 0.0353\n",
      "Epoch 37/50\n",
      "354/354 [==============================] - 10s 27ms/step - loss: 0.0149 - val_loss: 0.0321\n",
      "Epoch 38/50\n",
      "354/354 [==============================] - 2s 6ms/step - loss: 0.0123 - val_loss: 0.0357\n",
      "Epoch 39/50\n",
      "354/354 [==============================] - 2s 6ms/step - loss: 0.0231 - val_loss: 0.1065\n",
      "Epoch 40/50\n",
      "354/354 [==============================] - 2s 6ms/step - loss: 0.0728 - val_loss: 0.0476\n",
      "Epoch 41/50\n",
      "354/354 [==============================] - 2s 6ms/step - loss: 0.0669 - val_loss: 0.0483\n",
      "Epoch 42/50\n",
      "354/354 [==============================] - 2s 6ms/step - loss: 0.0191 - val_loss: 0.0352\n",
      "Epoch 43/50\n",
      "354/354 [==============================] - 2s 6ms/step - loss: 0.0144 - val_loss: 0.0341\n",
      "Epoch 44/50\n",
      "354/354 [==============================] - 2s 6ms/step - loss: 0.0106 - val_loss: 0.0389\n",
      "Epoch 45/50\n",
      "354/354 [==============================] - 2s 6ms/step - loss: 0.0081 - val_loss: 0.0399\n",
      "Epoch 46/50\n",
      "354/354 [==============================] - 2s 6ms/step - loss: 0.0074 - val_loss: 0.0363\n",
      "Epoch 47/50\n",
      "346/354 [============================>.] - ETA: 0s - loss: 0.0067Restoring model weights from the end of the best epoch: 37.\n",
      "354/354 [==============================] - 2s 6ms/step - loss: 0.0066 - val_loss: 0.0352\n",
      "Epoch 47: early stopping\n"
     ]
    },
    {
     "data": {
      "text/plain": [
       "<keras.callbacks.History at 0x524b4c850>"
      ]
     },
     "execution_count": 19,
     "metadata": {},
     "output_type": "execute_result"
    }
   ],
   "source": [
    "### same basic CNN\n",
    "\n",
    "from tensorflow.keras.models import Sequential\n",
    "from tensorflow.keras import layers\n",
    "from tensorflow.keras.callbacks import EarlyStopping\n",
    "\n",
    "model = Sequential()\n",
    "\n",
    "model.add(layers.Conv2D(8, (3, 3), activation='relu', input_shape=(13, 29, 8)))\n",
    "model.add(layers.MaxPooling2D((2, 2)))\n",
    "\n",
    "model.add(layers.Conv2D(16, (3, 3), activation='relu'))\n",
    "model.add(layers.MaxPooling2D((2, 2)))\n",
    "\n",
    "model.add(layers.Flatten())\n",
    "model.add(layers.Dense(16, activation='relu'))\n",
    "\n",
    "model.add(Dense(1,activation='sigmoid')) # Output\n",
    "\n",
    "model.compile(loss='binary_crossentropy', optimizer='adam')\n",
    "\n",
    "\n",
    "monitor = EarlyStopping(monitor='val_loss', min_delta=1e-3, patience=10, \n",
    "        verbose=1, mode='auto', restore_best_weights=True)\n",
    "\n",
    "model.fit(train_img_std, y_train, sample_weight=sample_weights, validation_data=(val_img_std,y_val),\n",
    "        callbacks=[monitor],epochs=50)\n"
   ]
  },
  {
   "cell_type": "code",
   "execution_count": 21,
   "id": "b15fd260",
   "metadata": {},
   "outputs": [
    {
     "name": "stdout",
     "output_type": "stream",
     "text": [
      "Model: \"sequential_1\"\n",
      "_________________________________________________________________\n",
      " Layer (type)                Output Shape              Param #   \n",
      "=================================================================\n",
      " conv2d_4 (Conv2D)           (None, 11, 27, 8)         584       \n",
      "                                                                 \n",
      " max_pooling2d_4 (MaxPooling  (None, 5, 13, 8)         0         \n",
      " 2D)                                                             \n",
      "                                                                 \n",
      " conv2d_5 (Conv2D)           (None, 3, 11, 16)         1168      \n",
      "                                                                 \n",
      " max_pooling2d_5 (MaxPooling  (None, 1, 5, 16)         0         \n",
      " 2D)                                                             \n",
      "                                                                 \n",
      " flatten_2 (Flatten)         (None, 80)                0         \n",
      "                                                                 \n",
      " dense_5 (Dense)             (None, 16)                1296      \n",
      "                                                                 \n",
      " dense_6 (Dense)             (None, 1)                 17        \n",
      "                                                                 \n",
      "=================================================================\n",
      "Total params: 3,065\n",
      "Trainable params: 3,065\n",
      "Non-trainable params: 0\n",
      "_________________________________________________________________\n"
     ]
    }
   ],
   "source": [
    "model.summary()"
   ]
  },
  {
   "cell_type": "code",
   "execution_count": 20,
   "id": "2dd3c455",
   "metadata": {
    "scrolled": true
   },
   "outputs": [
    {
     "name": "stderr",
     "output_type": "stream",
     "text": [
      "2022-11-29 21:52:55.381315: I tensorflow/core/grappler/optimizers/custom_graph_optimizer_registry.cc:114] Plugin optimizer for device_type GPU is enabled.\n"
     ]
    },
    {
     "name": "stdout",
     "output_type": "stream",
     "text": [
      "45/45 [==============================] - 2s 11ms/step\n",
      "45/45 [==============================] - 0s 2ms/step\n"
     ]
    },
    {
     "data": {
      "text/plain": [
       "<sklearn.metrics._plot.confusion_matrix.ConfusionMatrixDisplay at 0x538442970>"
      ]
     },
     "execution_count": 20,
     "metadata": {},
     "output_type": "execute_result"
    },
    {
     "data": {
      "image/png": "[encoded data removed]",
      "text/plain": [
       "<Figure size 640x480 with 1 Axes>"
      ]
     },
     "metadata": {},
     "output_type": "display_data"
    },
    {
     "data": {
      "image/png": "[encoded data removed]",
      "text/plain": [
       "<Figure size 640x480 with 1 Axes>"
      ]
     },
     "metadata": {},
     "output_type": "display_data"
    }
   ],
   "source": [
    "from sklearn.metrics import ConfusionMatrixDisplay\n",
    "from sklearn.metrics import confusion_matrix\n",
    "#data1 = pd.read_csv(path4)\n",
    "ConfusionMatrixDisplay(confusion_matrix(y_test, np.rint(model.predict(test_img_std)))).plot(colorbar=False,cmap=plt.cm.Blues, values_format='d')\n",
    "ConfusionMatrixDisplay(confusion_matrix(y_test, np.rint(model.predict(test_img_std)), normalize='true')).plot(colorbar=False,cmap=plt.cm.Blues)\n"
   ]
  },
  {
   "cell_type": "markdown",
   "id": "42f3f9ed",
   "metadata": {},
   "source": [
    "# Sample weighting, more complex models"
   ]
  },
  {
   "cell_type": "markdown",
   "id": "6d0105de",
   "metadata": {
    "heading_collapsed": true
   },
   "source": [
    "## More layers"
   ]
  },
  {
   "cell_type": "code",
   "execution_count": 10,
   "id": "6954edce",
   "metadata": {
    "hidden": true
   },
   "outputs": [],
   "source": [
    "from sklearn.utils import class_weight\n",
    "from sklearn.utils.class_weight import compute_sample_weight\n",
    "\n",
    "##n_samples / (n_classes * np.bincount(y))\n",
    "sample_weights = compute_sample_weight(class_weight = 'balanced', \n",
    "                                                  y = y_train)"
   ]
  },
  {
   "cell_type": "code",
   "execution_count": 11,
   "id": "9fcb161e",
   "metadata": {
    "hidden": true
   },
   "outputs": [
    {
     "data": {
      "text/plain": [
       "(array([ 0.50355777, 70.76875   ]), array([11243,    80]))"
      ]
     },
     "execution_count": 11,
     "metadata": {},
     "output_type": "execute_result"
    }
   ],
   "source": [
    "np.unique(sample_weights, return_counts=True)"
   ]
  },
  {
   "cell_type": "code",
   "execution_count": 12,
   "id": "2b8831da",
   "metadata": {
    "hidden": true
   },
   "outputs": [
    {
     "data": {
      "text/plain": [
       "(11323,)"
      ]
     },
     "execution_count": 12,
     "metadata": {},
     "output_type": "execute_result"
    }
   ],
   "source": [
    "sample_weights.shape"
   ]
  },
  {
   "cell_type": "code",
   "execution_count": 24,
   "id": "7b7bc36a",
   "metadata": {
    "hidden": true,
    "scrolled": true
   },
   "outputs": [
    {
     "name": "stdout",
     "output_type": "stream",
     "text": [
      "Model: \"Sequential_CNN\"\n",
      "_________________________________________________________________\n",
      " Layer (type)                Output Shape              Param #   \n",
      "=================================================================\n",
      " conv2d_6 (Conv2D)           (None, 7, 15, 16)         1168      \n",
      "                                                                 \n",
      " max_pooling2d_6 (MaxPooling  (None, 3, 7, 16)         0         \n",
      " 2D)                                                             \n",
      "                                                                 \n",
      " conv2d_7 (Conv2D)           (None, 2, 4, 32)          4640      \n",
      "                                                                 \n",
      " max_pooling2d_7 (MaxPooling  (None, 1, 2, 32)         0         \n",
      " 2D)                                                             \n",
      "                                                                 \n",
      " flatten_3 (Flatten)         (None, 64)                0         \n",
      "                                                                 \n",
      " dense_7 (Dense)             (None, 64)                4160      \n",
      "                                                                 \n",
      " dense_8 (Dense)             (None, 32)                2080      \n",
      "                                                                 \n",
      " dense_9 (Dense)             (None, 1)                 33        \n",
      "                                                                 \n",
      "=================================================================\n",
      "Total params: 12,081\n",
      "Trainable params: 12,081\n",
      "Non-trainable params: 0\n",
      "_________________________________________________________________\n",
      "Epoch 1/50\n"
     ]
    },
    {
     "name": "stderr",
     "output_type": "stream",
     "text": [
      "2022-11-29 22:10:15.965842: I tensorflow/core/grappler/optimizers/custom_graph_optimizer_registry.cc:114] Plugin optimizer for device_type GPU is enabled.\n"
     ]
    },
    {
     "name": "stdout",
     "output_type": "stream",
     "text": [
      "354/354 [==============================] - ETA: 0s - loss: 0.3764"
     ]
    },
    {
     "name": "stderr",
     "output_type": "stream",
     "text": [
      "2022-11-29 22:10:27.903098: I tensorflow/core/grappler/optimizers/custom_graph_optimizer_registry.cc:114] Plugin optimizer for device_type GPU is enabled.\n"
     ]
    },
    {
     "name": "stdout",
     "output_type": "stream",
     "text": [
      "354/354 [==============================] - 15s 14ms/step - loss: 0.3764 - val_loss: 0.1942\n",
      "Epoch 2/50\n",
      "354/354 [==============================] - 3s 7ms/step - loss: 0.1961 - val_loss: 0.1248\n",
      "Epoch 3/50\n",
      "354/354 [==============================] - 2s 6ms/step - loss: 0.1905 - val_loss: 0.2626\n",
      "Epoch 4/50\n",
      "354/354 [==============================] - 2s 6ms/step - loss: 0.1160 - val_loss: 0.1304\n",
      "Epoch 5/50\n",
      "354/354 [==============================] - 2s 6ms/step - loss: 0.0999 - val_loss: 0.0697\n",
      "Epoch 6/50\n",
      "354/354 [==============================] - 2s 6ms/step - loss: 0.1098 - val_loss: 0.2155\n",
      "Epoch 7/50\n",
      "354/354 [==============================] - 2s 6ms/step - loss: 0.0797 - val_loss: 0.1090\n",
      "Epoch 8/50\n",
      "354/354 [==============================] - 2s 6ms/step - loss: 0.0618 - val_loss: 0.1616\n",
      "Epoch 9/50\n",
      "354/354 [==============================] - 2s 6ms/step - loss: 0.0785 - val_loss: 0.0621\n",
      "Epoch 10/50\n",
      "354/354 [==============================] - 2s 6ms/step - loss: 0.0886 - val_loss: 0.0994\n",
      "Epoch 11/50\n",
      "354/354 [==============================] - 2s 6ms/step - loss: 0.1119 - val_loss: 0.3086\n",
      "Epoch 12/50\n",
      "354/354 [==============================] - 2s 6ms/step - loss: 0.1055 - val_loss: 0.0705\n",
      "Epoch 13/50\n",
      "354/354 [==============================] - 2s 6ms/step - loss: 0.0722 - val_loss: 0.1098\n",
      "Epoch 14/50\n",
      "354/354 [==============================] - 2s 6ms/step - loss: 0.0978 - val_loss: 0.0801\n",
      "Epoch 15/50\n",
      "354/354 [==============================] - 2s 6ms/step - loss: 0.0651 - val_loss: 0.1197\n",
      "Epoch 16/50\n",
      "354/354 [==============================] - 5s 13ms/step - loss: 0.0553 - val_loss: 0.1632\n",
      "Epoch 17/50\n",
      "354/354 [==============================] - 52s 146ms/step - loss: 0.1085 - val_loss: 0.0946\n",
      "Epoch 18/50\n",
      "354/354 [==============================] - 14s 39ms/step - loss: 0.1355 - val_loss: 0.0782\n",
      "Epoch 19/50\n",
      "350/354 [============================>.] - ETA: 0s - loss: 0.0722Restoring model weights from the end of the best epoch: 9.\n",
      "354/354 [==============================] - 2s 6ms/step - loss: 0.0726 - val_loss: 0.1642\n",
      "Epoch 19: early stopping\n"
     ]
    },
    {
     "data": {
      "text/plain": [
       "<keras.callbacks.History at 0x5252e5730>"
      ]
     },
     "execution_count": 24,
     "metadata": {},
     "output_type": "execute_result"
    }
   ],
   "source": [
    "### more complex CNN: LeNet-5 CNN\n",
    "\n",
    "from tensorflow.keras.models import Sequential\n",
    "from tensorflow.keras import layers\n",
    "from tensorflow.keras.callbacks import EarlyStopping\n",
    "\n",
    "CNN = Sequential(name=\"Sequential_CNN\")\n",
    "\n",
    "CNN.add(Conv2D(16, kernel_size=(3, 3),\n",
    "               strides=(2, 2), padding=\"same\",\n",
    "               activation=\"relu\", input_shape=(13, 29, 8)))\n",
    "\n",
    "CNN.add(MaxPooling2D(pool_size=(2, 2), strides=(2, 2),\n",
    "                     padding=\"valid\"))\n",
    "\n",
    "\n",
    "CNN.add(Conv2D(32, kernel_size=(3, 3),\n",
    "               strides=(2, 2), padding=\"same\",\n",
    "               activation=\"relu\"))\n",
    "\n",
    "CNN.add(MaxPooling2D(pool_size=(2, 2), strides=(2, 2),\n",
    "                     padding=\"valid\"))\n",
    "\n",
    "CNN.add(Flatten())\n",
    "\n",
    "CNN.add(Dense(64, activation='relu'))\n",
    "CNN.add(Dense(32, activation='relu'))\n",
    "CNN.add(Dense(1, activation='sigmoid'))\n",
    "\n",
    "CNN.summary()\n",
    "\n",
    "CNN.compile(loss='binary_crossentropy', optimizer='adam')\n",
    "\n",
    "\n",
    "monitor = EarlyStopping(monitor='val_loss', min_delta=1e-3, patience=10, \n",
    "        verbose=1, mode='auto', restore_best_weights=True)\n",
    "\n",
    "CNN.fit(train_img_std, y_train, sample_weight=sample_weights, validation_data=(val_img_std,y_val),\n",
    "        callbacks=[monitor],epochs=50)\n"
   ]
  },
  {
   "cell_type": "code",
   "execution_count": 25,
   "id": "039f016e",
   "metadata": {
    "hidden": true,
    "scrolled": true
   },
   "outputs": [
    {
     "name": "stderr",
     "output_type": "stream",
     "text": [
      "2022-11-29 22:12:11.553376: I tensorflow/core/grappler/optimizers/custom_graph_optimizer_registry.cc:114] Plugin optimizer for device_type GPU is enabled.\n"
     ]
    },
    {
     "name": "stdout",
     "output_type": "stream",
     "text": [
      "45/45 [==============================] - 3s 17ms/step\n",
      "45/45 [==============================] - 0s 3ms/step\n"
     ]
    },
    {
     "data": {
      "text/plain": [
       "<sklearn.metrics._plot.confusion_matrix.ConfusionMatrixDisplay at 0x525326df0>"
      ]
     },
     "execution_count": 25,
     "metadata": {},
     "output_type": "execute_result"
    },
    {
     "data": {
      "image/png": "[encoded data removed]",
      "text/plain": [
       "<Figure size 640x480 with 1 Axes>"
      ]
     },
     "metadata": {},
     "output_type": "display_data"
    },
    {
     "data": {
      "image/png": "[encoded data removed]",
      "text/plain": [
       "<Figure size 640x480 with 1 Axes>"
      ]
     },
     "metadata": {},
     "output_type": "display_data"
    }
   ],
   "source": [
    "from sklearn.metrics import ConfusionMatrixDisplay\n",
    "from sklearn.metrics import confusion_matrix\n",
    "#data1 = pd.read_csv(path4)\n",
    "ConfusionMatrixDisplay(confusion_matrix(y_test, np.rint(CNN.predict(test_img_std)))).plot(colorbar=False,cmap=plt.cm.Blues, values_format='d')\n",
    "ConfusionMatrixDisplay(confusion_matrix(y_test, np.rint(CNN.predict(test_img_std)), normalize='true')).plot(colorbar=False,cmap=plt.cm.Blues)\n"
   ]
  },
  {
   "cell_type": "code",
   "execution_count": 28,
   "id": "ad490157",
   "metadata": {
    "hidden": true
   },
   "outputs": [],
   "source": [
    "%matplotlib inline\n",
    "import matplotlib.pyplot as plt\n",
    "from sklearn.metrics import roc_curve, auc\n",
    "from sklearn.metrics import confusion_matrix\n",
    "from sklearn import metrics\n",
    "def plot_roc(pred,y):\n",
    "    fpr, tpr, _ = roc_curve(y, pred)\n",
    "    roc_auc = auc(fpr, tpr)\n",
    "\n",
    "    plt.figure()\n",
    "    plt.plot(fpr, tpr, label='ROC curve (area = %0.2f)' % roc_auc)\n",
    "    plt.plot([0, 1], [0, 1], 'k--')\n",
    "    plt.xlim([0.0, 1.0])\n",
    "    plt.ylim([0.0, 1.05])\n",
    "    plt.xlabel('False Positive Rate')\n",
    "    plt.ylabel('True Positive Rate')\n",
    "    plt.title('Receiver Operating Characteristic (ROC)')\n",
    "    plt.legend(loc=\"lower right\")\n",
    "    plt.show()"
   ]
  },
  {
   "cell_type": "code",
   "execution_count": 29,
   "id": "c2c69b90",
   "metadata": {
    "hidden": true
   },
   "outputs": [
    {
     "name": "stdout",
     "output_type": "stream",
     "text": [
      "45/45 [==============================] - 0s 2ms/step\n"
     ]
    },
    {
     "data": {
      "image/png": "[encoded data removed]",
      "text/plain": [
       "<Figure size 640x480 with 1 Axes>"
      ]
     },
     "metadata": {},
     "output_type": "display_data"
    }
   ],
   "source": [
    "plot_roc(CNN.predict(test_img_std),y_test)"
   ]
  },
  {
   "cell_type": "markdown",
   "id": "ebde040b",
   "metadata": {},
   "source": [
    "## Larger kernel"
   ]
  },
  {
   "cell_type": "code",
   "execution_count": 21,
   "id": "652f7d89",
   "metadata": {},
   "outputs": [
    {
     "name": "stdout",
     "output_type": "stream",
     "text": [
      "Model: \"Sequential_CNN\"\n",
      "_________________________________________________________________\n",
      " Layer (type)                Output Shape              Param #   \n",
      "=================================================================\n",
      " conv2d_12 (Conv2D)          (None, 7, 15, 16)         3216      \n",
      "                                                                 \n",
      " max_pooling2d_12 (MaxPoolin  (None, 6, 14, 16)        0         \n",
      " g2D)                                                            \n",
      "                                                                 \n",
      " conv2d_13 (Conv2D)          (None, 3, 7, 32)          12832     \n",
      "                                                                 \n",
      " max_pooling2d_13 (MaxPoolin  (None, 1, 3, 32)         0         \n",
      " g2D)                                                            \n",
      "                                                                 \n",
      " flatten_4 (Flatten)         (None, 96)                0         \n",
      "                                                                 \n",
      " dense_10 (Dense)            (None, 64)                6208      \n",
      "                                                                 \n",
      " dense_11 (Dense)            (None, 32)                2080      \n",
      "                                                                 \n",
      " dense_12 (Dense)            (None, 1)                 33        \n",
      "                                                                 \n",
      "=================================================================\n",
      "Total params: 24,369\n",
      "Trainable params: 24,369\n",
      "Non-trainable params: 0\n",
      "_________________________________________________________________\n"
     ]
    }
   ],
   "source": [
    "from sklearn.utils import class_weight\n",
    "from sklearn.utils.class_weight import compute_sample_weight\n",
    "\n",
    "##n_samples / (n_classes * np.bincount(y))\n",
    "sample_weights = compute_sample_weight(class_weight = 'balanced', \n",
    "                                                  y = y_train)\n",
    "\n",
    "### more complex CNN: LeNet-5 CNN\n",
    "\n",
    "from tensorflow.keras.models import Sequential\n",
    "from tensorflow.keras import layers\n",
    "from tensorflow.keras.callbacks import EarlyStopping\n",
    "\n",
    "CNN = Sequential(name=\"Sequential_CNN\")\n",
    "\n",
    "CNN.add(Conv2D(16, kernel_size=(5, 5),\n",
    "               strides=(2, 2), padding=\"same\",\n",
    "               activation=\"relu\", input_shape=(13, 29, 8)))\n",
    "\n",
    "CNN.add(MaxPooling2D(pool_size=(2, 2), strides=(2,2),\n",
    "                     padding=\"valid\"))\n",
    "\n",
    "\n",
    "CNN.add(Conv2D(32, kernel_size=(5, 5),\n",
    "               strides=(2, 2), padding=\"same\",\n",
    "               activation=\"relu\"))\n",
    "\n",
    "CNN.add(MaxPooling2D(pool_size=(2,2), strides=(2, 2),\n",
    "                     padding=\"valid\"))\n",
    "\n",
    "CNN.add(Flatten())\n",
    "\n",
    "CNN.add(Dense(64, activation='relu'))\n",
    "CNN.add(Dense(32, activation='relu'))\n",
    "CNN.add(Dense(1, activation='sigmoid'))\n",
    "\n",
    "CNN.summary()\n",
    "\n",
    "CNN.compile(loss='binary_crossentropy', optimizer='adam')\n",
    "\n",
    "\n",
    "monitor = EarlyStopping(monitor='val_loss', min_delta=1e-3, patience=10, \n",
    "        verbose=1, mode='auto', restore_best_weights=True)\n",
    "\n"
   ]
  },
  {
   "cell_type": "code",
   "execution_count": 22,
   "id": "d73cf800",
   "metadata": {},
   "outputs": [
    {
     "name": "stdout",
     "output_type": "stream",
     "text": [
      "Epoch 1/50\n"
     ]
    },
    {
     "name": "stderr",
     "output_type": "stream",
     "text": [
      "2023-01-17 10:05:11.765492: I tensorflow/core/grappler/optimizers/custom_graph_optimizer_registry.cc:114] Plugin optimizer for device_type GPU is enabled.\n"
     ]
    },
    {
     "name": "stdout",
     "output_type": "stream",
     "text": [
      "354/354 [==============================] - ETA: 0s - loss: 0.4395"
     ]
    },
    {
     "name": "stderr",
     "output_type": "stream",
     "text": [
      "2023-01-17 10:05:18.885143: I tensorflow/core/grappler/optimizers/custom_graph_optimizer_registry.cc:114] Plugin optimizer for device_type GPU is enabled.\n"
     ]
    },
    {
     "name": "stdout",
     "output_type": "stream",
     "text": [
      "354/354 [==============================] - 9s 8ms/step - loss: 0.4395 - val_loss: 0.2640\n",
      "Epoch 2/50\n",
      "354/354 [==============================] - 2s 7ms/step - loss: 0.2886 - val_loss: 0.0910\n",
      "Epoch 3/50\n",
      "354/354 [==============================] - 2s 7ms/step - loss: 0.1613 - val_loss: 0.0892\n",
      "Epoch 4/50\n",
      "354/354 [==============================] - 2s 7ms/step - loss: 0.1195 - val_loss: 0.0982\n",
      "Epoch 5/50\n",
      "354/354 [==============================] - 2s 7ms/step - loss: 0.2181 - val_loss: 0.2771\n",
      "Epoch 6/50\n",
      "354/354 [==============================] - 2s 6ms/step - loss: 0.2230 - val_loss: 0.1840\n",
      "Epoch 7/50\n",
      "354/354 [==============================] - 2s 6ms/step - loss: 0.1118 - val_loss: 0.1463\n",
      "Epoch 8/50\n",
      "354/354 [==============================] - 2s 6ms/step - loss: 0.1537 - val_loss: 0.1139\n",
      "Epoch 9/50\n",
      "354/354 [==============================] - 2s 6ms/step - loss: 0.1467 - val_loss: 0.3363\n",
      "Epoch 10/50\n",
      "354/354 [==============================] - 2s 6ms/step - loss: 0.0926 - val_loss: 0.0790\n",
      "Epoch 11/50\n",
      "354/354 [==============================] - 2s 6ms/step - loss: 0.0754 - val_loss: 0.1127\n",
      "Epoch 12/50\n",
      "354/354 [==============================] - 2s 7ms/step - loss: 0.0658 - val_loss: 0.0817\n",
      "Epoch 13/50\n",
      "354/354 [==============================] - 2s 6ms/step - loss: 0.0565 - val_loss: 0.0726\n",
      "Epoch 14/50\n",
      "354/354 [==============================] - 2s 6ms/step - loss: 0.0457 - val_loss: 0.1271\n",
      "Epoch 15/50\n",
      "354/354 [==============================] - 2s 6ms/step - loss: 0.0707 - val_loss: 0.0953\n",
      "Epoch 16/50\n",
      "354/354 [==============================] - 2s 6ms/step - loss: 0.0537 - val_loss: 0.0699\n",
      "Epoch 17/50\n",
      "354/354 [==============================] - 2s 7ms/step - loss: 0.0631 - val_loss: 0.0819\n",
      "Epoch 18/50\n",
      "354/354 [==============================] - 2s 6ms/step - loss: 0.0487 - val_loss: 0.1315\n",
      "Epoch 19/50\n",
      "354/354 [==============================] - 2s 7ms/step - loss: 0.0561 - val_loss: 0.0951\n",
      "Epoch 20/50\n",
      "354/354 [==============================] - 2s 7ms/step - loss: 0.0907 - val_loss: 0.0993\n",
      "Epoch 21/50\n",
      "354/354 [==============================] - 2s 6ms/step - loss: 0.1153 - val_loss: 0.1623\n",
      "Epoch 22/50\n",
      "354/354 [==============================] - 2s 6ms/step - loss: 0.0609 - val_loss: 0.0960\n",
      "Epoch 23/50\n",
      "354/354 [==============================] - 2s 6ms/step - loss: 0.0457 - val_loss: 0.0974\n",
      "Epoch 24/50\n",
      "354/354 [==============================] - 2s 6ms/step - loss: 0.0917 - val_loss: 0.0985\n",
      "Epoch 25/50\n",
      "354/354 [==============================] - 2s 6ms/step - loss: 0.0676 - val_loss: 0.1113\n",
      "Epoch 26/50\n",
      "354/354 [==============================] - ETA: 0s - loss: 0.0607Restoring model weights from the end of the best epoch: 16.\n",
      "354/354 [==============================] - 2s 7ms/step - loss: 0.0607 - val_loss: 0.1385\n",
      "Epoch 26: early stopping\n"
     ]
    },
    {
     "data": {
      "text/plain": [
       "<keras.callbacks.History at 0x165540fa0>"
      ]
     },
     "execution_count": 22,
     "metadata": {},
     "output_type": "execute_result"
    }
   ],
   "source": [
    "CNN.fit(train_img_std, y_train, sample_weight=sample_weights, validation_data=(val_img_std,y_val),\n",
    "        callbacks=[monitor],epochs=50)\n"
   ]
  },
  {
   "cell_type": "code",
   "execution_count": 23,
   "id": "0aaeb407",
   "metadata": {},
   "outputs": [
    {
     "name": "stderr",
     "output_type": "stream",
     "text": [
      "2023-01-17 10:06:17.108263: I tensorflow/core/grappler/optimizers/custom_graph_optimizer_registry.cc:114] Plugin optimizer for device_type GPU is enabled.\n"
     ]
    },
    {
     "name": "stdout",
     "output_type": "stream",
     "text": [
      "45/45 [==============================] - 1s 3ms/step\n",
      "45/45 [==============================] - 0s 2ms/step\n"
     ]
    },
    {
     "data": {
      "text/plain": [
       "<sklearn.metrics._plot.confusion_matrix.ConfusionMatrixDisplay at 0x54b115700>"
      ]
     },
     "execution_count": 23,
     "metadata": {},
     "output_type": "execute_result"
    },
    {
     "data": {
      "image/png": "[encoded data removed]",
      "text/plain": [
       "<Figure size 640x480 with 1 Axes>"
      ]
     },
     "metadata": {},
     "output_type": "display_data"
    },
    {
     "data": {
      "image/png": "[encoded data removed]",
      "text/plain": [
       "<Figure size 640x480 with 1 Axes>"
      ]
     },
     "metadata": {},
     "output_type": "display_data"
    }
   ],
   "source": [
    "from sklearn.metrics import ConfusionMatrixDisplay\n",
    "from sklearn.metrics import confusion_matrix\n",
    "#data1 = pd.read_csv(path4)\n",
    "ConfusionMatrixDisplay(confusion_matrix(y_test, np.rint(CNN.predict(test_img_std)))).plot(colorbar=False,cmap=plt.cm.Blues, values_format='d')\n",
    "ConfusionMatrixDisplay(confusion_matrix(y_test, np.rint(CNN.predict(test_img_std)), normalize='true')).plot(colorbar=False,cmap=plt.cm.Blues)\n"
   ]
  },
  {
   "cell_type": "code",
   "execution_count": 23,
   "id": "b391e537",
   "metadata": {},
   "outputs": [
    {
     "data": {
      "text/plain": [
       "2.0"
      ]
     },
     "execution_count": 23,
     "metadata": {},
     "output_type": "execute_result"
    }
   ],
   "source": [
    "(4)/2"
   ]
  },
  {
   "cell_type": "code",
   "execution_count": 22,
   "id": "e4e7beae",
   "metadata": {},
   "outputs": [
    {
     "data": {
      "text/plain": [
       "0.6666666666666666"
      ]
     },
     "execution_count": 22,
     "metadata": {},
     "output_type": "execute_result"
    }
   ],
   "source": [
    "(4/3)/2"
   ]
  },
  {
   "cell_type": "code",
   "execution_count": 1,
   "id": "801897bc",
   "metadata": {},
   "outputs": [],
   "source": [
    "from sklearn.utils.class_weight import compute_sample_weight"
   ]
  },
  {
   "cell_type": "code",
   "execution_count": null,
   "id": "d4331d3c",
   "metadata": {},
   "outputs": [],
   "source": []
  },
  {
   "cell_type": "code",
   "execution_count": null,
   "id": "75caae08",
   "metadata": {},
   "outputs": [],
   "source": []
  }
 ],
 "metadata": {
  "kernelspec": {
   "display_name": "Python 3.9 (tensorflow)",
   "language": "python",
   "name": "tensorflow"
  },
  "language_info": {
   "codemirror_mode": {
    "name": "ipython",
    "version": 3
   },
   "file_extension": ".py",
   "mimetype": "text/x-python",
   "name": "python",
   "nbconvert_exporter": "python",
   "pygments_lexer": "ipython3",
   "version": "3.9.13"
  }
 },
 "nbformat": 4,
 "nbformat_minor": 5
}
