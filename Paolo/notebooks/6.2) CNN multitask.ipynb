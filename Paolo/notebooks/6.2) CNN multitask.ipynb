{
 "cells": [
  {
   "cell_type": "code",
   "execution_count": 1,
   "id": "92de91d7",
   "metadata": {},
   "outputs": [
    {
     "name": "stdout",
     "output_type": "stream",
     "text": [
      "pandas: 1.5.0\n",
      "geopandas: 1.23.2\n",
      "Tensorflow/Keras: 2.10.0\n",
      "pandas: 1.5.0\n",
      "numpy: 1.23.2\n"
     ]
    }
   ],
   "source": [
    "#import libraries\n",
    "import pandas as pd\n",
    "print('pandas: %s' % pd.__version__)\n",
    "\n",
    "pd.options.display.max_columns = None\n",
    "pd.set_option('display.max_rows', 150)\n",
    "\n",
    "import numpy as np\n",
    "print('geopandas: %s' % np.__version__)\n",
    "\n",
    "# Tensorflow / Keras\n",
    "import tensorflow as tf # used to access argmax function\n",
    "from tensorflow import keras # for building Neural Networks\n",
    "print('Tensorflow/Keras: %s' % keras.__version__) # print version\n",
    "from keras import Sequential # for creating a linear stack of layers for our Neural Network\n",
    "from keras import Input # for instantiating a keras tensor\n",
    "from keras.layers import Dense # for creating regular densely-connected NN layer.\n",
    "from keras.layers import Dense, Conv2D, MaxPool2D, Flatten, Dropout # for adding Concolutional and densely-connected NN layers.\n",
    "from tensorflow.keras import layers\n",
    "\n",
    "# Data manipulation\n",
    "import pandas as pd # for data manipulation\n",
    "print('pandas: %s' % pd.__version__) # print version\n",
    "import numpy as np # for data manipulation\n",
    "print('numpy: %s' % np.__version__) # print version\n",
    "\n",
    "import decimal\n",
    "from decimal import Decimal\n",
    "\n",
    "import keras \n",
    "import tensorflow as tf\n",
    "from tensorflow.keras.layers import Dropout,BatchNormalization,Conv2D,MaxPooling2D,Dense,Flatten\n",
    "from tensorflow.keras.datasets import cifar10\n",
    "from tensorflow.keras import regularizers\n",
    "from keras import callbacks\n",
    "from sklearn.preprocessing import StandardScaler\n",
    "from keras.models import Sequential\n",
    "import matplotlib.pyplot as plt\n",
    "from keras.layers import Dense # for creating regular densely-connected NN layer.\n",
    "from keras.layers import Dense, Conv2D, MaxPool2D, Flatten, Dropout,MaxPooling2D # for adding Concolutional and densely-connected NN layers.\n",
    "from tensorflow.keras import layers\n",
    "\n",
    "from pathlib import Path  \n",
    "\n",
    "from sklearn.model_selection import train_test_split # for splitting the data into train and test samples\n",
    "from sklearn.metrics import classification_report # for model evaluation metrics\n",
    "from sklearn.preprocessing import OrdinalEncoder # for encoding labels\n",
    "from keras.models import load_model\n",
    "from sklearn.preprocessing import StandardScaler\n",
    "\n"
   ]
  },
  {
   "cell_type": "code",
   "execution_count": 2,
   "id": "04001dd5",
   "metadata": {},
   "outputs": [
    {
     "name": "stdout",
     "output_type": "stream",
     "text": [
      "Metal device set to: Apple M1\n"
     ]
    },
    {
     "name": "stderr",
     "output_type": "stream",
     "text": [
      "2023-01-17 11:43:02.335661: I tensorflow/core/common_runtime/pluggable_device/pluggable_device_factory.cc:306] Could not identify NUMA node of platform GPU ID 0, defaulting to 0. Your kernel may not have been built with NUMA support.\n",
      "2023-01-17 11:43:02.335892: I tensorflow/core/common_runtime/pluggable_device/pluggable_device_factory.cc:272] Created TensorFlow device (/job:localhost/replica:0/task:0/device:GPU:0 with 0 MB memory) -> physical PluggableDevice (device: 0, name: METAL, pci bus id: <undefined>)\n"
     ]
    }
   ],
   "source": [
    "model = load_model(\"/Users/paolo/Documents/TC_old/data/model_1l_512n_relu_dropout_std.h5\")\n",
    "test = pd.read_csv('/Users/paolo/Documents/TC/data/test_real_tom_target.csv').drop(columns=['Unnamed: 0'])\n",
    "train = pd.read_csv('/Users/paolo/Documents/TC/data/training_real_tom_target.csv').drop(columns=['Unnamed: 0'])\n",
    "val = pd.read_csv('/Users/paolo/Documents/TC/data/validation_real_tom_target.csv').drop(columns=['Unnamed: 0'])"
   ]
  },
  {
   "cell_type": "markdown",
   "id": "393b0377",
   "metadata": {},
   "source": [
    "# Standardization"
   ]
  },
  {
   "cell_type": "code",
   "execution_count": 3,
   "id": "2ef003bf",
   "metadata": {},
   "outputs": [],
   "source": [
    "from sklearn.preprocessing import StandardScaler\n",
    "scaler = StandardScaler()\n",
    "\n",
    "cols_to_std = [ 'vo', 'r', 'u_200', 'u_850', 'v_200','v_850', 'ttr','sst']\n",
    "train_std,val_std,test_std = train,val,test\n",
    "\n",
    "# apply standardization on numerical features\n",
    "train_std[cols_to_std] = scaler.fit_transform(train[[ 'vo', 'r', 'u_200', 'u_850', 'v_200','v_850', 'ttr','sst']])\n",
    "val_std[cols_to_std] = scaler.transform(val[[ 'vo', 'r', 'u_200', 'u_850', 'v_200','v_850', 'ttr','sst']])\n",
    "test_std[cols_to_std] = scaler.transform(test[[ 'vo', 'r', 'u_200', 'u_850', 'v_200','v_850', 'ttr','sst']])\n"
   ]
  },
  {
   "cell_type": "markdown",
   "id": "70be55fd",
   "metadata": {},
   "source": [
    "# Image extraction"
   ]
  },
  {
   "cell_type": "code",
   "execution_count": 4,
   "id": "38e9a9b5",
   "metadata": {},
   "outputs": [],
   "source": [
    "def extract_images(df, variables, verbose=False):\n",
    "    number_of_img, rows, cols = len(df.time.unique()), len(df.latitude.unique()), len(df.longitude.unique())\n",
    "    images = np.zeros( (number_of_img, rows, cols, len(variables)) )\n",
    "    \n",
    "    df = df.sort_values(by=['time','latitude','longitude'])\n",
    "    k=0\n",
    "    \n",
    "    for day in range(0,number_of_img):\n",
    "        \n",
    "        a=df.iloc[377*day:377*(day+1)]\n",
    "        i=0\n",
    "        for var in variables:\n",
    "            images[day,:,:,i] = a.pivot(index='latitude', columns='longitude')[var]\n",
    "            i+=1\n",
    "        k+=1\n",
    "        if (k%100==0) & (verbose==True): print(k)\n",
    "    return images"
   ]
  },
  {
   "cell_type": "code",
   "execution_count": 5,
   "id": "6c2c495c",
   "metadata": {},
   "outputs": [
    {
     "name": "stdout",
     "output_type": "stream",
     "text": [
      "(11323, 13, 29, 8)\n"
     ]
    }
   ],
   "source": [
    "#training set has 11323 days\n",
    "variables = [ 'vo', 'r', 'u_200', 'u_850', 'v_200','v_850', 'ttr','sst']\n",
    "train_img_std = extract_images(train_std, variables, verbose=False)\n",
    "print(train_img_std.shape)"
   ]
  },
  {
   "cell_type": "code",
   "execution_count": 6,
   "id": "fce04c54",
   "metadata": {},
   "outputs": [
    {
     "name": "stdout",
     "output_type": "stream",
     "text": [
      "(1826, 13, 29, 8)\n"
     ]
    }
   ],
   "source": [
    "#validation set has 1826 days\n",
    "variables = [ 'vo', 'r', 'u_200', 'u_850', 'v_200','v_850', 'ttr','sst']\n",
    "val_img_std = extract_images(val_std, variables, verbose=False)\n",
    "print(val_img_std.shape)"
   ]
  },
  {
   "cell_type": "code",
   "execution_count": 7,
   "id": "eeb7f1b2",
   "metadata": {},
   "outputs": [
    {
     "name": "stdout",
     "output_type": "stream",
     "text": [
      "(1431, 13, 29, 8)\n"
     ]
    }
   ],
   "source": [
    "#test set has 1431 days\n",
    "variables = [ 'vo', 'r', 'u_200', 'u_850', 'v_200','v_850', 'ttr','sst']\n",
    "test_img_std = extract_images(test_std, variables, verbose=False)\n",
    "print(test_img_std.shape)"
   ]
  },
  {
   "cell_type": "markdown",
   "id": "08ca6efe",
   "metadata": {},
   "source": [
    "# Target Extraction"
   ]
  },
  {
   "cell_type": "code",
   "execution_count": 8,
   "id": "c8051559",
   "metadata": {},
   "outputs": [],
   "source": [
    "def extract_target_vector(df, verbose=False):\n",
    "    number_of_img, lat_lon = len(df.time.unique()), len(df.latitude.unique())*len(df.longitude.unique())\n",
    "    vectors = np.zeros( (number_of_img, lat_lon) )\n",
    "    \n",
    "    df = df.sort_values(by=['time','latitude','longitude'])\n",
    "    k=0\n",
    "    \n",
    "    for day in range(0,number_of_img):\n",
    "        \n",
    "        a=df.iloc[377*day:377*(day+1)]\n",
    "        i=0\n",
    "        vectors[day] = a.Real_tom_lsm.values\n",
    "        k+=1\n",
    "        if (k%100==0) & (verbose==True): print(k)\n",
    "    return vectors"
   ]
  },
  {
   "cell_type": "code",
   "execution_count": 9,
   "id": "7f1fd84e",
   "metadata": {},
   "outputs": [
    {
     "name": "stdout",
     "output_type": "stream",
     "text": [
      "(4268771, 4) (688402, 4) (539487, 4)\n"
     ]
    }
   ],
   "source": [
    "y_train = train.loc[:,['Real_tom_lsm','latitude','longitude','time']]\n",
    "y_val = val.loc[:,['Real_tom_lsm','latitude','longitude','time']]\n",
    "y_test = test.loc[:,['Real_tom_lsm','latitude','longitude','time']]\n",
    "print(y_train.shape, y_val.shape, y_test.shape)"
   ]
  },
  {
   "cell_type": "code",
   "execution_count": 10,
   "id": "ab280aa6",
   "metadata": {},
   "outputs": [
    {
     "name": "stdout",
     "output_type": "stream",
     "text": [
      "100\n",
      "200\n",
      "300\n",
      "400\n",
      "500\n",
      "600\n",
      "700\n",
      "800\n",
      "900\n",
      "1000\n",
      "1100\n",
      "1200\n",
      "1300\n",
      "1400\n",
      "1500\n",
      "1600\n",
      "1700\n",
      "1800\n",
      "1900\n",
      "2000\n",
      "2100\n",
      "2200\n",
      "2300\n",
      "2400\n",
      "2500\n",
      "2600\n",
      "2700\n",
      "2800\n",
      "2900\n",
      "3000\n",
      "3100\n",
      "3200\n",
      "3300\n",
      "3400\n",
      "3500\n",
      "3600\n",
      "3700\n",
      "3800\n",
      "3900\n",
      "4000\n",
      "4100\n",
      "4200\n",
      "4300\n",
      "4400\n",
      "4500\n",
      "4600\n",
      "4700\n",
      "4800\n",
      "4900\n",
      "5000\n",
      "5100\n",
      "5200\n",
      "5300\n",
      "5400\n",
      "5500\n",
      "5600\n",
      "5700\n",
      "5800\n",
      "5900\n",
      "6000\n",
      "6100\n",
      "6200\n",
      "6300\n",
      "6400\n",
      "6500\n",
      "6600\n",
      "6700\n",
      "6800\n",
      "6900\n",
      "7000\n",
      "7100\n",
      "7200\n",
      "7300\n",
      "7400\n",
      "7500\n",
      "7600\n",
      "7700\n",
      "7800\n",
      "7900\n",
      "8000\n",
      "8100\n",
      "8200\n",
      "8300\n",
      "8400\n",
      "8500\n",
      "8600\n",
      "8700\n",
      "8800\n",
      "8900\n",
      "9000\n",
      "9100\n",
      "9200\n",
      "9300\n",
      "9400\n",
      "9500\n",
      "9600\n",
      "9700\n",
      "9800\n",
      "9900\n",
      "10000\n",
      "10100\n",
      "10200\n",
      "10300\n",
      "10400\n",
      "10500\n",
      "10600\n",
      "10700\n",
      "10800\n",
      "10900\n",
      "11000\n",
      "11100\n",
      "11200\n",
      "11300\n",
      "100\n",
      "200\n",
      "300\n",
      "400\n",
      "500\n",
      "600\n",
      "700\n",
      "800\n",
      "900\n",
      "1000\n",
      "1100\n",
      "1200\n",
      "1300\n",
      "1400\n",
      "1500\n",
      "1600\n",
      "1700\n",
      "1800\n",
      "100\n",
      "200\n",
      "300\n",
      "400\n",
      "500\n",
      "600\n",
      "700\n",
      "800\n",
      "900\n",
      "1000\n",
      "1100\n",
      "1200\n",
      "1300\n",
      "1400\n"
     ]
    }
   ],
   "source": [
    "y_train_vec = extract_target_vector(y_train, verbose=True)\n",
    "y_val_vec = extract_target_vector(y_val, verbose=True)\n",
    "y_test_vec = extract_target_vector(y_test, verbose=True)"
   ]
  },
  {
   "cell_type": "code",
   "execution_count": 11,
   "id": "3d61a049",
   "metadata": {},
   "outputs": [
    {
     "name": "stdout",
     "output_type": "stream",
     "text": [
      "15 \n",
      " (array([130, 131, 159, 160]),) \n",
      "\n",
      "\n",
      "16 \n",
      " (array([100, 101, 129, 130, 131, 159]),) \n",
      "\n",
      "\n",
      "17 \n",
      " (array([128, 129, 130, 157, 158]),) \n",
      "\n",
      "\n",
      "18 \n",
      " (array([128, 156, 157, 158, 186]),) \n",
      "\n",
      "\n",
      "19 \n",
      " (array([128, 129, 156, 157, 158, 186]),) \n",
      "\n",
      "\n"
     ]
    }
   ],
   "source": [
    "for i in range(10,20):\n",
    "    if max(y_train_vec[i])>0: print(i,'\\n',np.where(y_train_vec[i]>0),'\\n\\n')"
   ]
  },
  {
   "cell_type": "code",
   "execution_count": 12,
   "id": "496b9564",
   "metadata": {
    "scrolled": true
   },
   "outputs": [
    {
     "name": "stdout",
     "output_type": "stream",
     "text": [
      "     Real_tom_lsm  latitude  longitude        time\n",
      "130           1.0     -20.0       55.0  1980-01-16\n",
      "131           1.0     -20.0       57.5  1980-01-16\n",
      "159           1.0     -17.5       55.0  1980-01-16\n",
      "160           1.0     -17.5       57.5  1980-01-16\n",
      "     Real_tom_lsm  latitude  longitude        time\n",
      "100           1.0     -22.5       52.5  1980-01-17\n",
      "101           1.0     -22.5       55.0  1980-01-17\n",
      "129           1.0     -20.0       52.5  1980-01-17\n",
      "130           1.0     -20.0       55.0  1980-01-17\n",
      "131           1.0     -20.0       57.5  1980-01-17\n",
      "159           1.0     -17.5       55.0  1980-01-17\n",
      "     Real_tom_lsm  latitude  longitude        time\n",
      "128           1.0     -20.0       50.0  1980-01-18\n",
      "129           1.0     -20.0       52.5  1980-01-18\n",
      "130           1.0     -20.0       55.0  1980-01-18\n",
      "157           1.0     -17.5       50.0  1980-01-18\n",
      "158           1.0     -17.5       52.5  1980-01-18\n",
      "     Real_tom_lsm  latitude  longitude        time\n",
      "128           1.0     -20.0       50.0  1980-01-19\n",
      "156           1.0     -17.5       47.5  1980-01-19\n",
      "157           1.0     -17.5       50.0  1980-01-19\n",
      "158           1.0     -17.5       52.5  1980-01-19\n",
      "186           1.0     -15.0       50.0  1980-01-19\n",
      "     Real_tom_lsm  latitude  longitude        time\n",
      "128           1.0     -20.0       50.0  1980-01-20\n",
      "129           1.0     -20.0       52.5  1980-01-20\n",
      "156           1.0     -17.5       47.5  1980-01-20\n",
      "157           1.0     -17.5       50.0  1980-01-20\n",
      "158           1.0     -17.5       52.5  1980-01-20\n",
      "186           1.0     -15.0       50.0  1980-01-20\n"
     ]
    }
   ],
   "source": [
    "for i in range(10,20):\n",
    "    if (max(y_train.Real_tom_lsm.iloc[377*i:377*(i+1)])): \n",
    "        a = y_train.iloc[377*i:377*(i+1)].sort_values(by=['time','latitude','longitude']).reset_index(drop=True)\n",
    "        print(a.loc[a.Real_tom_lsm>0])"
   ]
  },
  {
   "cell_type": "markdown",
   "id": "94561996",
   "metadata": {},
   "source": [
    "# basic CNN MTL (same parameters until output)"
   ]
  },
  {
   "cell_type": "code",
   "execution_count": 13,
   "id": "2b002a51",
   "metadata": {},
   "outputs": [],
   "source": [
    "from sklearn.utils import class_weight\n",
    "from sklearn.utils.class_weight import compute_sample_weight\n",
    "\n",
    "sample_weights = compute_sample_weight(class_weight = 'balanced', \n",
    "                                                  y = y_train_vec)"
   ]
  },
  {
   "cell_type": "code",
   "execution_count": 14,
   "id": "d6f19032",
   "metadata": {},
   "outputs": [
    {
     "data": {
      "text/plain": [
       "(11323,)"
      ]
     },
     "execution_count": 14,
     "metadata": {},
     "output_type": "execute_result"
    }
   ],
   "source": [
    "sample_weights.shape"
   ]
  },
  {
   "cell_type": "code",
   "execution_count": 15,
   "id": "bdfc94e0",
   "metadata": {},
   "outputs": [
    {
     "data": {
      "text/plain": [
       "(array([7.64490749e-74, 1.03528627e-71, 1.24689549e-71, ...,\n",
       "        3.88968935e-27, 8.65212496e-27, 2.35431786e-26]),\n",
       " array([9954,    4,    1, ...,    1,    1,    1]))"
      ]
     },
     "execution_count": 15,
     "metadata": {},
     "output_type": "execute_result"
    }
   ],
   "source": [
    "np.unique(sample_weights, return_counts=True)"
   ]
  },
  {
   "cell_type": "code",
   "execution_count": 16,
   "id": "91696076",
   "metadata": {},
   "outputs": [
    {
     "name": "stdout",
     "output_type": "stream",
     "text": [
      "Model: \"Sequential_CNN\"\n",
      "_________________________________________________________________\n",
      " Layer (type)                Output Shape              Param #   \n",
      "=================================================================\n",
      " conv2d (Conv2D)             (None, 7, 15, 16)         1168      \n",
      "                                                                 \n",
      " max_pooling2d (MaxPooling2D  (None, 3, 7, 16)         0         \n",
      " )                                                               \n",
      "                                                                 \n",
      " conv2d_1 (Conv2D)           (None, 2, 4, 32)          4640      \n",
      "                                                                 \n",
      " max_pooling2d_1 (MaxPooling  (None, 1, 2, 32)         0         \n",
      " 2D)                                                             \n",
      "                                                                 \n",
      " flatten (Flatten)           (None, 64)                0         \n",
      "                                                                 \n",
      " dense (Dense)               (None, 64)                4160      \n",
      "                                                                 \n",
      " dense_1 (Dense)             (None, 32)                2080      \n",
      "                                                                 \n",
      " dense_2 (Dense)             (None, 377)               12441     \n",
      "                                                                 \n",
      "=================================================================\n",
      "Total params: 24,489\n",
      "Trainable params: 24,489\n",
      "Non-trainable params: 0\n",
      "_________________________________________________________________\n",
      "Epoch 1/50\n"
     ]
    },
    {
     "name": "stderr",
     "output_type": "stream",
     "text": [
      "2023-01-17 11:49:37.303105: W tensorflow/core/platform/profile_utils/cpu_utils.cc:128] Failed to get CPU frequency: 0 Hz\n",
      "2023-01-17 11:49:41.583277: I tensorflow/core/grappler/optimizers/custom_graph_optimizer_registry.cc:114] Plugin optimizer for device_type GPU is enabled.\n"
     ]
    },
    {
     "name": "stdout",
     "output_type": "stream",
     "text": [
      "354/354 [==============================] - ETA: 0s - loss: 2.2134e-30"
     ]
    },
    {
     "name": "stderr",
     "output_type": "stream",
     "text": [
      "2023-01-17 11:49:48.568645: I tensorflow/core/grappler/optimizers/custom_graph_optimizer_registry.cc:114] Plugin optimizer for device_type GPU is enabled.\n"
     ]
    },
    {
     "name": "stdout",
     "output_type": "stream",
     "text": [
      "354/354 [==============================] - 12s 9ms/step - loss: 2.2134e-30 - val_loss: 0.6952\n",
      "Epoch 2/50\n",
      "354/354 [==============================] - 2s 7ms/step - loss: 2.2134e-30 - val_loss: 0.6952\n",
      "Epoch 3/50\n",
      "354/354 [==============================] - 2s 7ms/step - loss: 2.2134e-30 - val_loss: 0.6952\n",
      "Epoch 4/50\n",
      "354/354 [==============================] - 2s 7ms/step - loss: 2.2134e-30 - val_loss: 0.6952\n",
      "Epoch 5/50\n",
      "354/354 [==============================] - 2s 6ms/step - loss: 2.2134e-30 - val_loss: 0.6952\n",
      "Epoch 6/50\n",
      "354/354 [==============================] - 2s 7ms/step - loss: 2.2134e-30 - val_loss: 0.6952\n",
      "Epoch 7/50\n",
      "354/354 [==============================] - 2s 7ms/step - loss: 2.2134e-30 - val_loss: 0.6952\n",
      "Epoch 8/50\n",
      "354/354 [==============================] - 2s 6ms/step - loss: 2.2134e-30 - val_loss: 0.6952\n",
      "Epoch 9/50\n",
      "354/354 [==============================] - 2s 7ms/step - loss: 2.2134e-30 - val_loss: 0.6952\n",
      "Epoch 10/50\n",
      "354/354 [==============================] - 3s 7ms/step - loss: 2.2134e-30 - val_loss: 0.6952\n",
      "Epoch 11/50\n",
      "350/354 [============================>.] - ETA: 0s - loss: 2.2377e-30Restoring model weights from the end of the best epoch: 1.\n",
      "354/354 [==============================] - 2s 7ms/step - loss: 2.2134e-30 - val_loss: 0.6952\n",
      "Epoch 11: early stopping\n"
     ]
    },
    {
     "data": {
      "text/plain": [
       "<keras.callbacks.History at 0x155067a60>"
      ]
     },
     "execution_count": 16,
     "metadata": {},
     "output_type": "execute_result"
    }
   ],
   "source": [
    "from tensorflow.keras.models import Sequential\n",
    "from tensorflow.keras import layers\n",
    "from tensorflow.keras.callbacks import EarlyStopping\n",
    "\n",
    "CNN = Sequential(name=\"Sequential_CNN\")\n",
    "\n",
    "CNN.add(Conv2D(16, kernel_size=(3, 3),\n",
    "               strides=(2, 2), padding=\"same\",\n",
    "               activation=\"relu\", input_shape=(13, 29, 8)))\n",
    "\n",
    "CNN.add(MaxPooling2D(pool_size=(2, 2), strides=(2, 2),\n",
    "                     padding=\"valid\"))\n",
    "\n",
    "\n",
    "CNN.add(Conv2D(32, kernel_size=(3, 3),\n",
    "               strides=(2, 2), padding=\"same\",\n",
    "               activation=\"relu\"))\n",
    "\n",
    "CNN.add(MaxPooling2D(pool_size=(2, 2), strides=(2, 2),\n",
    "                     padding=\"valid\"))\n",
    "\n",
    "CNN.add(Flatten())\n",
    "\n",
    "CNN.add(Dense(64, activation='relu'))\n",
    "CNN.add(Dense(32, activation='relu'))\n",
    "CNN.add(Dense(377, activation='sigmoid'))\n",
    "\n",
    "CNN.summary()\n",
    "\n",
    "CNN.compile(loss='binary_crossentropy', optimizer='adam')\n",
    "\n",
    "\n",
    "monitor = EarlyStopping(monitor='val_loss', min_delta=1e-3, patience=10, \n",
    "        verbose=1, mode='auto', restore_best_weights=True)\n",
    "\n",
    "CNN.fit(train_img_std, y_train_vec, sample_weight=sample_weights, validation_data=(val_img_std,y_val_vec),\n",
    "        callbacks=[monitor],epochs=50)\n"
   ]
  },
  {
   "cell_type": "code",
   "execution_count": 17,
   "id": "c700e3d9",
   "metadata": {},
   "outputs": [
    {
     "name": "stderr",
     "output_type": "stream",
     "text": [
      "2023-01-17 11:50:13.508555: I tensorflow/core/grappler/optimizers/custom_graph_optimizer_registry.cc:114] Plugin optimizer for device_type GPU is enabled.\n"
     ]
    },
    {
     "name": "stdout",
     "output_type": "stream",
     "text": [
      "45/45 [==============================] - 1s 3ms/step\n"
     ]
    },
    {
     "data": {
      "text/plain": [
       "array([[0.52598035, 0.53117234, 0.42047542, ..., 0.45903322, 0.5031313 ,\n",
       "        0.45023146],\n",
       "       [0.526133  , 0.52749217, 0.4340475 , ..., 0.46207574, 0.4902413 ,\n",
       "        0.45970297],\n",
       "       [0.52776474, 0.52025545, 0.43331432, ..., 0.4567208 , 0.47427252,\n",
       "        0.44717702],\n",
       "       ...,\n",
       "       [0.517769  , 0.5304532 , 0.446617  , ..., 0.47458217, 0.5067726 ,\n",
       "        0.46638283],\n",
       "       [0.51224935, 0.5206356 , 0.44727343, ..., 0.47146198, 0.49596635,\n",
       "        0.46091446],\n",
       "       [0.5162575 , 0.5255741 , 0.45257452, ..., 0.47627458, 0.50251895,\n",
       "        0.4668228 ]], dtype=float32)"
      ]
     },
     "execution_count": 17,
     "metadata": {},
     "output_type": "execute_result"
    }
   ],
   "source": [
    "t = CNN.predict(test_img_std)\n",
    "t"
   ]
  },
  {
   "cell_type": "code",
   "execution_count": 22,
   "id": "ca890791",
   "metadata": {},
   "outputs": [
    {
     "data": {
      "text/plain": [
       "<sklearn.metrics._plot.confusion_matrix.ConfusionMatrixDisplay at 0x15745fc70>"
      ]
     },
     "execution_count": 22,
     "metadata": {},
     "output_type": "execute_result"
    },
    {
     "data": {
      "image/png": "[encoded data removed]",
      "text/plain": [
       "<Figure size 640x480 with 1 Axes>"
      ]
     },
     "metadata": {},
     "output_type": "display_data"
    },
    {
     "data": {
      "image/png": "[encoded data removed]",
      "text/plain": [
       "<Figure size 640x480 with 1 Axes>"
      ]
     },
     "metadata": {},
     "output_type": "display_data"
    }
   ],
   "source": [
    "## Non imparas\n",
    "from sklearn.metrics import ConfusionMatrixDisplay\n",
    "from sklearn.metrics import confusion_matrix\n",
    "#data1 = pd.read_csv(path4)\n",
    "ConfusionMatrixDisplay(confusion_matrix(y_test_vec.reshape(-1,1), np.rint(t.reshape(-1,1)))).plot(colorbar=False,cmap=plt.cm.Blues, values_format='d')\n",
    "ConfusionMatrixDisplay(confusion_matrix(y_test_vec.reshape(-1,1), np.rint(t.reshape(-1,1)), normalize='true')).plot(colorbar=False,cmap=plt.cm.Blues)\n"
   ]
  }
 ],
 "metadata": {
  "kernelspec": {
   "display_name": "Python 3.9 (tensorflow)",
   "language": "python",
   "name": "tensorflow"
  },
  "language_info": {
   "codemirror_mode": {
    "name": "ipython",
    "version": 3
   },
   "file_extension": ".py",
   "mimetype": "text/x-python",
   "name": "python",
   "nbconvert_exporter": "python",
   "pygments_lexer": "ipython3",
   "version": "3.9.13"
  }
 },
 "nbformat": 4,
 "nbformat_minor": 5
}
