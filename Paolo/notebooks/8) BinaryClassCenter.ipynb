{
 "cells": [
  {
   "cell_type": "markdown",
   "id": "16e67b92",
   "metadata": {
    "heading_collapsed": true
   },
   "source": [
    "# Preliminaries"
   ]
  },
  {
   "cell_type": "code",
   "execution_count": 1,
   "id": "ae4854f2",
   "metadata": {
    "hidden": true
   },
   "outputs": [
    {
     "name": "stdout",
     "output_type": "stream",
     "text": [
      "pandas: 1.5.0\n",
      "geopandas: 1.23.2\n",
      "Tensorflow/Keras: 2.10.0\n",
      "pandas: 1.5.0\n",
      "numpy: 1.23.2\n"
     ]
    }
   ],
   "source": [
    "#import libraries\n",
    "import pandas as pd\n",
    "print('pandas: %s' % pd.__version__)\n",
    "\n",
    "pd.options.display.max_columns = None\n",
    "pd.set_option('display.max_rows', 150)\n",
    "\n",
    "import numpy as np\n",
    "print('geopandas: %s' % np.__version__)\n",
    "\n",
    "# Tensorflow / Keras\n",
    "import tensorflow as tf # used to access argmax function\n",
    "from tensorflow import keras # for building Neural Networks\n",
    "print('Tensorflow/Keras: %s' % keras.__version__) # print version\n",
    "from keras import Sequential # for creating a linear stack of layers for our Neural Network\n",
    "from keras import Input # for instantiating a keras tensor\n",
    "from keras.layers import Dense # for creating regular densely-connected NN layer.\n",
    "from keras.layers import Dense, Conv2D, MaxPool2D, Flatten, Dropout # for adding Concolutional and densely-connected NN layers.\n",
    "from tensorflow.keras import layers\n",
    "from tensorflow.keras.layers import Dense, Input, Flatten,\\\n",
    "                                    Reshape, LeakyReLU as LR,\\\n",
    "                                    Activation, Dropout\n",
    "from tensorflow.keras.models import Sequential\n",
    "from tensorflow.keras import layers\n",
    "from tensorflow.keras.callbacks import EarlyStopping\n",
    "\n",
    "# Data manipulation\n",
    "import pandas as pd # for data manipulation\n",
    "print('pandas: %s' % pd.__version__) # print version\n",
    "import numpy as np # for data manipulation\n",
    "print('numpy: %s' % np.__version__) # print version\n",
    "\n",
    "import decimal\n",
    "from decimal import Decimal\n",
    "\n",
    "import keras \n",
    "import tensorflow as tf\n",
    "from tensorflow.keras.layers import Dropout,BatchNormalization,Conv2D,MaxPooling2D,Dense,Flatten\n",
    "from tensorflow.keras.datasets import cifar10\n",
    "from tensorflow.keras import regularizers\n",
    "from keras import callbacks\n",
    "from sklearn.preprocessing import StandardScaler\n",
    "from keras.models import Sequential\n",
    "import matplotlib.pyplot as plt\n",
    "from keras.layers import Dense # for creating regular densely-connected NN layer.\n",
    "from keras.layers import Dense, Conv2D, MaxPool2D, Flatten, Dropout,MaxPooling2D # for adding Concolutional and densely-connected NN layers.\n",
    "from tensorflow.keras import layers\n",
    "from tensorflow.keras.models import Model, Sequential\n",
    "\n",
    "from pathlib import Path  \n",
    "\n",
    "from sklearn.model_selection import train_test_split # for splitting the data into train and test samples\n",
    "from sklearn.metrics import classification_report # for model evaluation metrics\n",
    "from sklearn.preprocessing import OrdinalEncoder # for encoding labels\n",
    "from keras.models import load_model\n",
    "from sklearn.preprocessing import StandardScaler\n",
    "\n",
    "from sklearn.metrics import ConfusionMatrixDisplay\n",
    "from sklearn.metrics import confusion_matrix\n",
    "\n",
    "from tensorflow.keras.utils import plot_model\n"
   ]
  },
  {
   "cell_type": "code",
   "execution_count": 2,
   "id": "0e3dd085",
   "metadata": {
    "hidden": true
   },
   "outputs": [
    {
     "name": "stdout",
     "output_type": "stream",
     "text": [
      "pandas: 1.5.0\n",
      "geopandas: 1.23.2\n",
      "Tensorflow/Keras: 2.10.0\n",
      "pandas: 1.5.0\n",
      "numpy: 1.23.2\n"
     ]
    }
   ],
   "source": [
    "import sys\n",
    "sys.path.append(\"/Users/paolo/Documents/TC/Paolo/scripts/\")\n",
    "from aux import extract_cyclones, extract_target, find_neighbour\n",
    "radius=2.5\n",
    "train_path='/Users/paolo/Documents/TC/data/training_real_tom_target.csv'\n",
    "val_path='/Users/paolo/Documents/TC/data/validation_real_tom_target.csv'\n",
    "test_path='/Users/paolo/Documents/TC/data/test_real_tom_target.csv'\n"
   ]
  },
  {
   "cell_type": "markdown",
   "id": "058cbc9e",
   "metadata": {
    "heading_collapsed": true
   },
   "source": [
    "# full features, standardized"
   ]
  },
  {
   "cell_type": "code",
   "execution_count": 3,
   "id": "3525c0db",
   "metadata": {
    "hidden": true
   },
   "outputs": [],
   "source": [
    "test = pd.read_csv('/Users/paolo/Documents/TC/data/test_real_tom_target.csv').drop(columns=['Unnamed: 0'])\n",
    "train = pd.read_csv('/Users/paolo/Documents/TC/data/training_real_tom_target.csv').drop(columns=['Unnamed: 0'])\n",
    "val = pd.read_csv('/Users/paolo/Documents/TC/data/validation_real_tom_target.csv').drop(columns=['Unnamed: 0'])\n",
    "\n",
    "from sklearn.preprocessing import StandardScaler\n",
    "scaler = StandardScaler()\n",
    "\n",
    "cols_to_std = [ 'vo', 'r', 'u_200', 'u_850', 'v_200','v_850', 'ttr','sst']\n",
    "train_std,val_std,test_std = train,val,test\n",
    "\n",
    "# apply standardization on numerical features\n",
    "train_std[cols_to_std] = scaler.fit_transform(train[[ 'vo', 'r', 'u_200', 'u_850', 'v_200','v_850', 'ttr','sst']])\n",
    "val_std[cols_to_std] = scaler.transform(val[[ 'vo', 'r', 'u_200', 'u_850', 'v_200','v_850', 'ttr','sst']])\n",
    "test_std[cols_to_std] = scaler.transform(test[[ 'vo', 'r', 'u_200', 'u_850', 'v_200','v_850', 'ttr','sst']])\n"
   ]
  },
  {
   "cell_type": "code",
   "execution_count": null,
   "id": "cd6f7564",
   "metadata": {
    "hidden": true
   },
   "outputs": [],
   "source": []
  },
  {
   "cell_type": "markdown",
   "id": "2081d20b",
   "metadata": {
    "heading_collapsed": true
   },
   "source": [
    "# Single point of features"
   ]
  },
  {
   "cell_type": "code",
   "execution_count": 4,
   "id": "68bcc73f",
   "metadata": {
    "hidden": true,
    "scrolled": true
   },
   "outputs": [
    {
     "name": "stderr",
     "output_type": "stream",
     "text": [
      "/Users/paolo/Documents/TC/Paolo/scripts/aux.py:89: SettingWithCopyWarning: \n",
      "A value is trying to be set on a copy of a slice from a DataFrame.\n",
      "Try using .loc[row_indexer,col_indexer] = value instead\n",
      "\n",
      "See the caveats in the documentation: https://pandas.pydata.org/pandas-docs/stable/user_guide/indexing.html#returning-a-view-versus-a-copy\n",
      "  df['key']=df.apply(lambda x: [x.latitude,x.longitude,x.time], axis=1)\n",
      "/Users/paolo/Documents/TC/Paolo/scripts/aux.py:89: SettingWithCopyWarning: \n",
      "A value is trying to be set on a copy of a slice from a DataFrame.\n",
      "Try using .loc[row_indexer,col_indexer] = value instead\n",
      "\n",
      "See the caveats in the documentation: https://pandas.pydata.org/pandas-docs/stable/user_guide/indexing.html#returning-a-view-versus-a-copy\n",
      "  df['key']=df.apply(lambda x: [x.latitude,x.longitude,x.time], axis=1)\n",
      "/Users/paolo/Documents/TC/Paolo/scripts/aux.py:89: SettingWithCopyWarning: \n",
      "A value is trying to be set on a copy of a slice from a DataFrame.\n",
      "Try using .loc[row_indexer,col_indexer] = value instead\n",
      "\n",
      "See the caveats in the documentation: https://pandas.pydata.org/pandas-docs/stable/user_guide/indexing.html#returning-a-view-versus-a-copy\n",
      "  df['key']=df.apply(lambda x: [x.latitude,x.longitude,x.time], axis=1)\n"
     ]
    }
   ],
   "source": [
    "train_cyclones, val_cyclones, test_cyclones = extract_cyclones()\n"
   ]
  },
  {
   "cell_type": "code",
   "execution_count": 5,
   "id": "778d3691",
   "metadata": {
    "hidden": true,
    "scrolled": true
   },
   "outputs": [
    {
     "name": "stdout",
     "output_type": "stream",
     "text": [
      "1635\n"
     ]
    }
   ],
   "source": [
    "print(len(train_cyclones))"
   ]
  },
  {
   "cell_type": "code",
   "execution_count": 6,
   "id": "ec94a681",
   "metadata": {
    "hidden": true
   },
   "outputs": [],
   "source": [
    "train_zero_samples = train_std.loc[train_std.Real_tom_lsm==0].sample(len(train_cyclones))"
   ]
  },
  {
   "cell_type": "code",
   "execution_count": 7,
   "id": "81d983d4",
   "metadata": {
    "hidden": true
   },
   "outputs": [],
   "source": [
    "train_one_samples = train_std.loc[train_std.apply(lambda x: [x.latitude,x.longitude,x.time] in train_cyclones, axis=1)]\n"
   ]
  },
  {
   "cell_type": "code",
   "execution_count": 8,
   "id": "68e13861",
   "metadata": {
    "hidden": true
   },
   "outputs": [],
   "source": [
    "train_balanced_samples = pd.concat((train_zero_samples.reset_index(),train_one_samples.reset_index()),axis=0).reset_index()\n"
   ]
  },
  {
   "cell_type": "markdown",
   "id": "2d16ac31",
   "metadata": {},
   "source": [
    "# Models"
   ]
  },
  {
   "cell_type": "markdown",
   "id": "d026cd70",
   "metadata": {
    "heading_collapsed": true
   },
   "source": [
    "## Data preparation"
   ]
  },
  {
   "cell_type": "code",
   "execution_count": 14,
   "id": "78837751",
   "metadata": {
    "hidden": true
   },
   "outputs": [],
   "source": [
    "features_list = [ 'vo', 'r', 'u_200', 'u_850', 'v_200','v_850', 'ttr','sst']\n",
    "x_train = train_balanced_samples[features_list]\n",
    "x_val = val_std[features_list]\n",
    "x_test = test_std[features_list]\n",
    "y_train = train_balanced_samples.Real_tom_lsm\n",
    "y_val = val_std.Real_tom_lsm\n",
    "y_test = test_std.Real_tom_lsm"
   ]
  },
  {
   "cell_type": "markdown",
   "id": "d4921480",
   "metadata": {
    "heading_collapsed": true
   },
   "source": [
    "## FFNN, 1L, 8N"
   ]
  },
  {
   "cell_type": "code",
   "execution_count": 15,
   "id": "af4d0bf5",
   "metadata": {
    "hidden": true
   },
   "outputs": [
    {
     "name": "stdout",
     "output_type": "stream",
     "text": [
      "Metal device set to: Apple M1\n",
      "Model: \"sequential\"\n",
      "_________________________________________________________________\n",
      " Layer (type)                Output Shape              Param #   \n",
      "=================================================================\n",
      " dense (Dense)               (None, 8)                 72        \n",
      "                                                                 \n",
      " dropout (Dropout)           (None, 8)                 0         \n",
      "                                                                 \n",
      " dense_1 (Dense)             (None, 1)                 9         \n",
      "                                                                 \n",
      "=================================================================\n",
      "Total params: 81\n",
      "Trainable params: 81\n",
      "Non-trainable params: 0\n",
      "_________________________________________________________________\n"
     ]
    },
    {
     "name": "stderr",
     "output_type": "stream",
     "text": [
      "2023-01-18 15:10:29.090602: I tensorflow/core/common_runtime/pluggable_device/pluggable_device_factory.cc:306] Could not identify NUMA node of platform GPU ID 0, defaulting to 0. Your kernel may not have been built with NUMA support.\n",
      "2023-01-18 15:10:29.092557: I tensorflow/core/common_runtime/pluggable_device/pluggable_device_factory.cc:272] Created TensorFlow device (/job:localhost/replica:0/task:0/device:GPU:0 with 0 MB memory) -> physical PluggableDevice (device: 0, name: METAL, pci bus id: <undefined>)\n"
     ]
    }
   ],
   "source": [
    "model = Sequential()\n",
    "model.add(Dense(8, input_dim=8, activation='relu'))\n",
    "model.add(Dropout(0.5))\n",
    "model.add(Dense(1,activation='sigmoid')) # Output\n",
    "model.compile(loss='binary_crossentropy', optimizer='adam')\n",
    "\n",
    "monitor = EarlyStopping(monitor='val_loss', min_delta=1e-3, patience=20, \n",
    "        verbose=1, mode='auto', restore_best_weights=True)\n",
    "\n",
    "model.summary()\n",
    "\n"
   ]
  },
  {
   "cell_type": "code",
   "execution_count": 16,
   "id": "0c049eea",
   "metadata": {
    "hidden": true,
    "scrolled": true
   },
   "outputs": [
    {
     "name": "stdout",
     "output_type": "stream",
     "text": [
      "Epoch 1/100\n"
     ]
    },
    {
     "name": "stderr",
     "output_type": "stream",
     "text": [
      "2023-01-18 15:10:31.622232: W tensorflow/core/platform/profile_utils/cpu_utils.cc:128] Failed to get CPU frequency: 0 Hz\n",
      "2023-01-18 15:10:31.922395: I tensorflow/core/grappler/optimizers/custom_graph_optimizer_registry.cc:114] Plugin optimizer for device_type GPU is enabled.\n"
     ]
    },
    {
     "name": "stdout",
     "output_type": "stream",
     "text": [
      "103/103 [==============================] - ETA: 0s - loss: 0.6154"
     ]
    },
    {
     "name": "stderr",
     "output_type": "stream",
     "text": [
      "2023-01-18 15:10:33.579270: I tensorflow/core/grappler/optimizers/custom_graph_optimizer_registry.cc:114] Plugin optimizer for device_type GPU is enabled.\n"
     ]
    },
    {
     "name": "stdout",
     "output_type": "stream",
     "text": [
      "103/103 [==============================] - 45s 429ms/step - loss: 0.6154 - val_loss: 0.5223\n",
      "Epoch 2/100\n",
      "103/103 [==============================] - 45s 440ms/step - loss: 0.5273 - val_loss: 0.4799\n",
      "Epoch 3/100\n",
      "103/103 [==============================] - 44s 435ms/step - loss: 0.4934 - val_loss: 0.4195\n",
      "Epoch 4/100\n",
      "103/103 [==============================] - 44s 432ms/step - loss: 0.4709 - val_loss: 0.3785\n",
      "Epoch 5/100\n",
      "103/103 [==============================] - 44s 432ms/step - loss: 0.4306 - val_loss: 0.3590\n",
      "Epoch 6/100\n",
      "103/103 [==============================] - 44s 431ms/step - loss: 0.4299 - val_loss: 0.3421\n",
      "Epoch 7/100\n",
      "103/103 [==============================] - 44s 436ms/step - loss: 0.4194 - val_loss: 0.3243\n",
      "Epoch 8/100\n",
      "103/103 [==============================] - 46s 446ms/step - loss: 0.4117 - val_loss: 0.3179\n",
      "Epoch 9/100\n",
      "103/103 [==============================] - 44s 431ms/step - loss: 0.4044 - val_loss: 0.3142\n",
      "Epoch 10/100\n",
      "103/103 [==============================] - 44s 430ms/step - loss: 0.3941 - val_loss: 0.3105\n",
      "Epoch 11/100\n",
      "103/103 [==============================] - 45s 439ms/step - loss: 0.3886 - val_loss: 0.3032\n",
      "Epoch 12/100\n",
      "103/103 [==============================] - 44s 428ms/step - loss: 0.3845 - val_loss: 0.3033\n",
      "Epoch 13/100\n",
      "103/103 [==============================] - 45s 438ms/step - loss: 0.3960 - val_loss: 0.3005\n",
      "Epoch 14/100\n",
      "103/103 [==============================] - 44s 429ms/step - loss: 0.3926 - val_loss: 0.2936\n",
      "Epoch 15/100\n",
      "103/103 [==============================] - 45s 437ms/step - loss: 0.3825 - val_loss: 0.2928\n",
      "Epoch 16/100\n",
      "103/103 [==============================] - 46s 450ms/step - loss: 0.3785 - val_loss: 0.2895\n",
      "Epoch 17/100\n",
      "103/103 [==============================] - 46s 448ms/step - loss: 0.3800 - val_loss: 0.2882\n",
      "Epoch 18/100\n",
      "103/103 [==============================] - 47s 458ms/step - loss: 0.3803 - val_loss: 0.2861\n",
      "Epoch 19/100\n",
      "103/103 [==============================] - 47s 459ms/step - loss: 0.3727 - val_loss: 0.2861\n",
      "Epoch 20/100\n",
      "103/103 [==============================] - 45s 441ms/step - loss: 0.3723 - val_loss: 0.2878\n",
      "Epoch 21/100\n",
      "103/103 [==============================] - 44s 432ms/step - loss: 0.3650 - val_loss: 0.2848\n",
      "Epoch 22/100\n",
      "103/103 [==============================] - 45s 443ms/step - loss: 0.3760 - val_loss: 0.2755\n",
      "Epoch 23/100\n",
      "103/103 [==============================] - 48s 467ms/step - loss: 0.3707 - val_loss: 0.2769\n",
      "Epoch 24/100\n",
      "103/103 [==============================] - 47s 460ms/step - loss: 0.3658 - val_loss: 0.2734\n",
      "Epoch 25/100\n",
      "103/103 [==============================] - 47s 457ms/step - loss: 0.3667 - val_loss: 0.2752\n",
      "Epoch 26/100\n",
      "103/103 [==============================] - 47s 460ms/step - loss: 0.3727 - val_loss: 0.2747\n",
      "Epoch 27/100\n",
      "103/103 [==============================] - 47s 456ms/step - loss: 0.3626 - val_loss: 0.2708\n",
      "Epoch 28/100\n",
      "103/103 [==============================] - 46s 451ms/step - loss: 0.3673 - val_loss: 0.2685\n",
      "Epoch 29/100\n",
      "103/103 [==============================] - 46s 449ms/step - loss: 0.3697 - val_loss: 0.2717\n",
      "Epoch 30/100\n",
      "103/103 [==============================] - 46s 452ms/step - loss: 0.3562 - val_loss: 0.2716\n",
      "Epoch 31/100\n",
      "103/103 [==============================] - 47s 458ms/step - loss: 0.3572 - val_loss: 0.2668\n",
      "Epoch 32/100\n",
      "103/103 [==============================] - 48s 471ms/step - loss: 0.3621 - val_loss: 0.2745\n",
      "Epoch 33/100\n",
      "103/103 [==============================] - 47s 462ms/step - loss: 0.3508 - val_loss: 0.2692\n",
      "Epoch 34/100\n",
      "103/103 [==============================] - 48s 471ms/step - loss: 0.3607 - val_loss: 0.2684\n",
      "Epoch 35/100\n",
      "103/103 [==============================] - 48s 471ms/step - loss: 0.3536 - val_loss: 0.2676\n",
      "Epoch 36/100\n",
      "103/103 [==============================] - 47s 459ms/step - loss: 0.3564 - val_loss: 0.2717\n",
      "Epoch 37/100\n",
      "103/103 [==============================] - 48s 466ms/step - loss: 0.3588 - val_loss: 0.2692\n",
      "Epoch 38/100\n",
      "103/103 [==============================] - 46s 448ms/step - loss: 0.3657 - val_loss: 0.2706\n",
      "Epoch 39/100\n",
      "103/103 [==============================] - 47s 463ms/step - loss: 0.3463 - val_loss: 0.2695\n",
      "Epoch 40/100\n",
      "103/103 [==============================] - 44s 427ms/step - loss: 0.3531 - val_loss: 0.2671\n",
      "Epoch 41/100\n",
      "103/103 [==============================] - 45s 438ms/step - loss: 0.3552 - val_loss: 0.2624\n",
      "Epoch 42/100\n",
      "103/103 [==============================] - 44s 433ms/step - loss: 0.3533 - val_loss: 0.2684\n",
      "Epoch 43/100\n",
      "103/103 [==============================] - 44s 434ms/step - loss: 0.3520 - val_loss: 0.2636\n",
      "Epoch 44/100\n",
      "103/103 [==============================] - 45s 438ms/step - loss: 0.3539 - val_loss: 0.2654\n",
      "Epoch 45/100\n",
      "103/103 [==============================] - 44s 431ms/step - loss: 0.3544 - val_loss: 0.2684\n",
      "Epoch 46/100\n",
      "103/103 [==============================] - 44s 428ms/step - loss: 0.3566 - val_loss: 0.2650\n",
      "Epoch 47/100\n",
      "103/103 [==============================] - 45s 437ms/step - loss: 0.3502 - val_loss: 0.2669\n",
      "Epoch 48/100\n",
      "103/103 [==============================] - 45s 440ms/step - loss: 0.3423 - val_loss: 0.2635\n",
      "Epoch 49/100\n",
      "103/103 [==============================] - 45s 439ms/step - loss: 0.3473 - val_loss: 0.2641\n",
      "Epoch 50/100\n",
      "103/103 [==============================] - 45s 440ms/step - loss: 0.3383 - val_loss: 0.2629\n",
      "Epoch 51/100\n",
      "103/103 [==============================] - 44s 429ms/step - loss: 0.3391 - val_loss: 0.2605\n",
      "Epoch 52/100\n",
      "103/103 [==============================] - 45s 437ms/step - loss: 0.3541 - val_loss: 0.2549\n",
      "Epoch 53/100\n",
      "103/103 [==============================] - 44s 434ms/step - loss: 0.3419 - val_loss: 0.2501\n",
      "Epoch 54/100\n",
      "103/103 [==============================] - 44s 428ms/step - loss: 0.3532 - val_loss: 0.2513\n",
      "Epoch 55/100\n",
      "103/103 [==============================] - 45s 439ms/step - loss: 0.3454 - val_loss: 0.2594\n",
      "Epoch 56/100\n",
      "103/103 [==============================] - 44s 436ms/step - loss: 0.3483 - val_loss: 0.2608\n",
      "Epoch 57/100\n",
      "103/103 [==============================] - 44s 431ms/step - loss: 0.3372 - val_loss: 0.2521\n",
      "Epoch 58/100\n",
      "103/103 [==============================] - 44s 433ms/step - loss: 0.3483 - val_loss: 0.2517\n",
      "Epoch 59/100\n",
      "103/103 [==============================] - 44s 432ms/step - loss: 0.3549 - val_loss: 0.2544\n",
      "Epoch 60/100\n",
      "103/103 [==============================] - 44s 430ms/step - loss: 0.3417 - val_loss: 0.2617\n",
      "Epoch 61/100\n",
      "103/103 [==============================] - 44s 432ms/step - loss: 0.3521 - val_loss: 0.2584\n",
      "Epoch 62/100\n",
      "103/103 [==============================] - 44s 429ms/step - loss: 0.3518 - val_loss: 0.2511\n",
      "Epoch 63/100\n",
      "103/103 [==============================] - 44s 429ms/step - loss: 0.3431 - val_loss: 0.2539\n",
      "Epoch 64/100\n",
      "103/103 [==============================] - 44s 436ms/step - loss: 0.3442 - val_loss: 0.2518\n",
      "Epoch 65/100\n",
      "103/103 [==============================] - 44s 433ms/step - loss: 0.3484 - val_loss: 0.2549\n",
      "Epoch 66/100\n",
      "103/103 [==============================] - 44s 430ms/step - loss: 0.3420 - val_loss: 0.2526\n",
      "Epoch 67/100\n",
      "103/103 [==============================] - 44s 435ms/step - loss: 0.3409 - val_loss: 0.2487\n",
      "Epoch 68/100\n",
      "103/103 [==============================] - 44s 431ms/step - loss: 0.3464 - val_loss: 0.2486\n",
      "Epoch 69/100\n",
      "103/103 [==============================] - 44s 427ms/step - loss: 0.3441 - val_loss: 0.2523\n",
      "Epoch 70/100\n",
      "103/103 [==============================] - 45s 439ms/step - loss: 0.3421 - val_loss: 0.2534\n",
      "Epoch 71/100\n",
      "103/103 [==============================] - 44s 429ms/step - loss: 0.3467 - val_loss: 0.2529\n",
      "Epoch 72/100\n",
      "103/103 [==============================] - 44s 430ms/step - loss: 0.3456 - val_loss: 0.2524\n",
      "Epoch 73/100\n",
      "103/103 [==============================] - 44s 429ms/step - loss: 0.3432 - val_loss: 0.2539\n",
      "Epoch 74/100\n",
      "103/103 [==============================] - 45s 438ms/step - loss: 0.3418 - val_loss: 0.2492\n",
      "Epoch 75/100\n",
      "103/103 [==============================] - 44s 428ms/step - loss: 0.3487 - val_loss: 0.2522\n",
      "Epoch 76/100\n",
      "103/103 [==============================] - 44s 427ms/step - loss: 0.3406 - val_loss: 0.2522\n",
      "Epoch 77/100\n",
      "103/103 [==============================] - 44s 431ms/step - loss: 0.3372 - val_loss: 0.2536\n",
      "Epoch 78/100\n",
      "103/103 [==============================] - 44s 428ms/step - loss: 0.3497 - val_loss: 0.2486\n",
      "Epoch 79/100\n",
      "103/103 [==============================] - 44s 429ms/step - loss: 0.3386 - val_loss: 0.2489\n",
      "Epoch 80/100\n",
      "103/103 [==============================] - 44s 427ms/step - loss: 0.3377 - val_loss: 0.2516\n",
      "Epoch 81/100\n",
      "103/103 [==============================] - 45s 438ms/step - loss: 0.3455 - val_loss: 0.2526\n",
      "Epoch 82/100\n",
      "103/103 [==============================] - 44s 432ms/step - loss: 0.3294 - val_loss: 0.2539\n",
      "Epoch 83/100\n",
      "103/103 [==============================] - 44s 431ms/step - loss: 0.3453 - val_loss: 0.2497\n",
      "Epoch 84/100\n",
      "103/103 [==============================] - 44s 433ms/step - loss: 0.3510 - val_loss: 0.2505\n",
      "Epoch 85/100\n",
      "103/103 [==============================] - 44s 435ms/step - loss: 0.3358 - val_loss: 0.2527\n",
      "Epoch 86/100\n",
      "103/103 [==============================] - 44s 427ms/step - loss: 0.3393 - val_loss: 0.2487\n",
      "Epoch 87/100\n",
      "103/103 [==============================] - 44s 429ms/step - loss: 0.3326 - val_loss: 0.2476\n",
      "Epoch 88/100\n",
      "103/103 [==============================] - 45s 444ms/step - loss: 0.3400 - val_loss: 0.2463\n",
      "Epoch 89/100\n",
      "103/103 [==============================] - 43s 425ms/step - loss: 0.3473 - val_loss: 0.2528\n",
      "Epoch 90/100\n",
      "103/103 [==============================] - 43s 417ms/step - loss: 0.3485 - val_loss: 0.2520\n",
      "Epoch 91/100\n",
      "103/103 [==============================] - 44s 427ms/step - loss: 0.3430 - val_loss: 0.2457\n",
      "Epoch 92/100\n",
      "103/103 [==============================] - 44s 433ms/step - loss: 0.3485 - val_loss: 0.2507\n",
      "Epoch 93/100\n",
      "103/103 [==============================] - 44s 435ms/step - loss: 0.3427 - val_loss: 0.2478\n",
      "Epoch 94/100\n",
      "103/103 [==============================] - 44s 430ms/step - loss: 0.3388 - val_loss: 0.2504\n",
      "Epoch 95/100\n",
      "103/103 [==============================] - 44s 433ms/step - loss: 0.3376 - val_loss: 0.2512\n",
      "Epoch 96/100\n",
      "103/103 [==============================] - 44s 429ms/step - loss: 0.3424 - val_loss: 0.2507\n",
      "Epoch 97/100\n",
      "103/103 [==============================] - 44s 431ms/step - loss: 0.3442 - val_loss: 0.2443\n",
      "Epoch 98/100\n",
      "103/103 [==============================] - 45s 440ms/step - loss: 0.3365 - val_loss: 0.2522\n",
      "Epoch 99/100\n",
      "103/103 [==============================] - 44s 428ms/step - loss: 0.3370 - val_loss: 0.2481\n",
      "Epoch 100/100\n",
      "103/103 [==============================] - 44s 427ms/step - loss: 0.3403 - val_loss: 0.2496\n"
     ]
    },
    {
     "data": {
      "text/plain": [
       "<keras.callbacks.History at 0x16c451730>"
      ]
     },
     "execution_count": 16,
     "metadata": {},
     "output_type": "execute_result"
    }
   ],
   "source": [
    "model.fit(x_train,y_train,validation_data=(x_val,y_val),\n",
    "        callbacks=[monitor],epochs=100)\n"
   ]
  },
  {
   "cell_type": "code",
   "execution_count": 19,
   "id": "7662fd0b",
   "metadata": {
    "hidden": true,
    "scrolled": true
   },
   "outputs": [
    {
     "name": "stdout",
     "output_type": "stream",
     "text": [
      "16859/16859 [==============================] - 20s 1ms/step\n"
     ]
    },
    {
     "data": {
      "text/plain": [
       "<sklearn.metrics._plot.confusion_matrix.ConfusionMatrixDisplay at 0x17fac8fa0>"
      ]
     },
     "execution_count": 19,
     "metadata": {},
     "output_type": "execute_result"
    },
    {
     "data": {
      "image/png": "[encoded data removed]",
      "text/plain": [
       "<Figure size 640x480 with 1 Axes>"
      ]
     },
     "metadata": {},
     "output_type": "display_data"
    },
    {
     "data": {
      "image/png": "[encoded data removed]",
      "text/plain": [
       "<Figure size 640x480 with 1 Axes>"
      ]
     },
     "metadata": {},
     "output_type": "display_data"
    }
   ],
   "source": [
    "t = model.predict(x_test)\n",
    "\n",
    "classes = []\n",
    "for i in t.reshape(-1,1):\n",
    "    if i<=0.5: classes.append(0)\n",
    "    else: classes.append(1)\n",
    "\n",
    "# confusion matrix with threshold on 0.5 \n",
    "ConfusionMatrixDisplay(confusion_matrix(y_test, classes)).plot(colorbar=False,cmap=plt.cm.Blues, values_format='d')\n",
    "ConfusionMatrixDisplay(confusion_matrix(y_test, classes, normalize='true')).plot(colorbar=False,cmap=plt.cm.Blues)\n"
   ]
  },
  {
   "cell_type": "markdown",
   "id": "6757f1f8",
   "metadata": {
    "heading_collapsed": true
   },
   "source": [
    "## FFNN, 1L, 64N"
   ]
  },
  {
   "cell_type": "code",
   "execution_count": 20,
   "id": "0f1beb02",
   "metadata": {
    "hidden": true
   },
   "outputs": [
    {
     "name": "stdout",
     "output_type": "stream",
     "text": [
      "Model: \"sequential_1\"\n",
      "_________________________________________________________________\n",
      " Layer (type)                Output Shape              Param #   \n",
      "=================================================================\n",
      " dense_2 (Dense)             (None, 64)                576       \n",
      "                                                                 \n",
      " dropout_1 (Dropout)         (None, 64)                0         \n",
      "                                                                 \n",
      " dense_3 (Dense)             (None, 1)                 65        \n",
      "                                                                 \n",
      "=================================================================\n",
      "Total params: 641\n",
      "Trainable params: 641\n",
      "Non-trainable params: 0\n",
      "_________________________________________________________________\n"
     ]
    }
   ],
   "source": [
    "model_1_64 = Sequential()\n",
    "model_1_64.add(Dense(64, input_dim=8, activation='relu'))\n",
    "model_1_64.add(Dropout(0.5))\n",
    "model_1_64.add(Dense(1,activation='sigmoid')) # Output\n",
    "model_1_64.compile(loss='binary_crossentropy', optimizer='adam')\n",
    "\n",
    "monitor = EarlyStopping(monitor='val_loss', min_delta=1e-3, patience=20, \n",
    "        verbose=1, mode='auto', restore_best_weights=True)\n",
    "\n",
    "model_1_64.summary()"
   ]
  },
  {
   "cell_type": "code",
   "execution_count": 23,
   "id": "92659e1f",
   "metadata": {
    "hidden": true,
    "scrolled": true
   },
   "outputs": [
    {
     "name": "stdout",
     "output_type": "stream",
     "text": [
      "Epoch 1/100\n"
     ]
    },
    {
     "name": "stderr",
     "output_type": "stream",
     "text": [
      "2023-01-18 17:36:47.568656: I tensorflow/core/grappler/optimizers/custom_graph_optimizer_registry.cc:114] Plugin optimizer for device_type GPU is enabled.\n"
     ]
    },
    {
     "name": "stdout",
     "output_type": "stream",
     "text": [
      "103/103 [==============================] - ETA: 0s - loss: 0.6087"
     ]
    },
    {
     "name": "stderr",
     "output_type": "stream",
     "text": [
      "2023-01-18 17:36:48.611538: I tensorflow/core/grappler/optimizers/custom_graph_optimizer_registry.cc:114] Plugin optimizer for device_type GPU is enabled.\n"
     ]
    },
    {
     "name": "stdout",
     "output_type": "stream",
     "text": [
      "103/103 [==============================] - 45s 436ms/step - loss: 0.6087 - val_loss: 0.5484\n",
      "Epoch 2/100\n",
      "103/103 [==============================] - 44s 433ms/step - loss: 0.3900 - val_loss: 0.3996\n",
      "Epoch 3/100\n",
      "103/103 [==============================] - 44s 434ms/step - loss: 0.3281 - val_loss: 0.3317\n",
      "Epoch 4/100\n",
      "103/103 [==============================] - 44s 435ms/step - loss: 0.2933 - val_loss: 0.2990\n",
      "Epoch 5/100\n",
      "103/103 [==============================] - 45s 439ms/step - loss: 0.2904 - val_loss: 0.2840\n",
      "Epoch 6/100\n",
      "103/103 [==============================] - 45s 436ms/step - loss: 0.2728 - val_loss: 0.2662\n",
      "Epoch 7/100\n",
      "103/103 [==============================] - 45s 439ms/step - loss: 0.2676 - val_loss: 0.2727\n",
      "Epoch 8/100\n",
      "103/103 [==============================] - 45s 440ms/step - loss: 0.2618 - val_loss: 0.2736\n",
      "Epoch 9/100\n",
      "103/103 [==============================] - 45s 444ms/step - loss: 0.2582 - val_loss: 0.2700\n",
      "Epoch 10/100\n",
      "103/103 [==============================] - 45s 444ms/step - loss: 0.2508 - val_loss: 0.2543\n",
      "Epoch 11/100\n",
      "103/103 [==============================] - 45s 443ms/step - loss: 0.2477 - val_loss: 0.2526\n",
      "Epoch 12/100\n",
      "103/103 [==============================] - 45s 444ms/step - loss: 0.2432 - val_loss: 0.2384\n",
      "Epoch 13/100\n",
      "103/103 [==============================] - 45s 438ms/step - loss: 0.2394 - val_loss: 0.2519\n",
      "Epoch 14/100\n",
      "103/103 [==============================] - 45s 442ms/step - loss: 0.2427 - val_loss: 0.2420\n",
      "Epoch 15/100\n",
      "103/103 [==============================] - 45s 444ms/step - loss: 0.2332 - val_loss: 0.2354\n",
      "Epoch 16/100\n",
      "103/103 [==============================] - 45s 444ms/step - loss: 0.2317 - val_loss: 0.2457\n",
      "Epoch 17/100\n",
      "103/103 [==============================] - 45s 441ms/step - loss: 0.2331 - val_loss: 0.2433\n",
      "Epoch 18/100\n",
      "103/103 [==============================] - 45s 439ms/step - loss: 0.2343 - val_loss: 0.2372\n",
      "Epoch 19/100\n",
      "103/103 [==============================] - 45s 441ms/step - loss: 0.2341 - val_loss: 0.2159\n",
      "Epoch 20/100\n",
      "103/103 [==============================] - 45s 443ms/step - loss: 0.2300 - val_loss: 0.2340\n",
      "Epoch 21/100\n",
      "103/103 [==============================] - 46s 450ms/step - loss: 0.2267 - val_loss: 0.2231\n",
      "Epoch 22/100\n",
      "103/103 [==============================] - 46s 448ms/step - loss: 0.2276 - val_loss: 0.2321\n",
      "Epoch 23/100\n",
      "103/103 [==============================] - 45s 442ms/step - loss: 0.2203 - val_loss: 0.2369\n",
      "Epoch 24/100\n",
      "103/103 [==============================] - 45s 439ms/step - loss: 0.2238 - val_loss: 0.2428\n",
      "Epoch 25/100\n",
      "103/103 [==============================] - 45s 440ms/step - loss: 0.2241 - val_loss: 0.2247\n",
      "Epoch 26/100\n",
      "103/103 [==============================] - 45s 441ms/step - loss: 0.2215 - val_loss: 0.2223\n",
      "Epoch 27/100\n",
      "103/103 [==============================] - 45s 437ms/step - loss: 0.2174 - val_loss: 0.2159\n",
      "Epoch 28/100\n",
      "103/103 [==============================] - 44s 435ms/step - loss: 0.2219 - val_loss: 0.2303\n",
      "Epoch 29/100\n",
      "103/103 [==============================] - 44s 433ms/step - loss: 0.2197 - val_loss: 0.2375\n",
      "Epoch 30/100\n",
      "103/103 [==============================] - 44s 435ms/step - loss: 0.2207 - val_loss: 0.2324\n",
      "Epoch 31/100\n",
      "103/103 [==============================] - 44s 434ms/step - loss: 0.2217 - val_loss: 0.2230\n",
      "Epoch 32/100\n",
      "103/103 [==============================] - 45s 441ms/step - loss: 0.2158 - val_loss: 0.2251\n",
      "Epoch 33/100\n",
      "103/103 [==============================] - 45s 438ms/step - loss: 0.2155 - val_loss: 0.2211\n",
      "Epoch 34/100\n",
      "103/103 [==============================] - 45s 437ms/step - loss: 0.2218 - val_loss: 0.2338\n",
      "Epoch 35/100\n",
      "103/103 [==============================] - 44s 436ms/step - loss: 0.2144 - val_loss: 0.2130\n",
      "Epoch 36/100\n",
      "103/103 [==============================] - 44s 435ms/step - loss: 0.2186 - val_loss: 0.2314\n",
      "Epoch 37/100\n",
      "103/103 [==============================] - 45s 439ms/step - loss: 0.2187 - val_loss: 0.2187\n",
      "Epoch 38/100\n",
      "103/103 [==============================] - 45s 437ms/step - loss: 0.2190 - val_loss: 0.2157\n",
      "Epoch 39/100\n",
      "103/103 [==============================] - 45s 436ms/step - loss: 0.2204 - val_loss: 0.2260\n",
      "Epoch 40/100\n",
      "103/103 [==============================] - 46s 448ms/step - loss: 0.2125 - val_loss: 0.2261\n",
      "Epoch 41/100\n",
      "103/103 [==============================] - 45s 445ms/step - loss: 0.2183 - val_loss: 0.2222\n",
      "Epoch 42/100\n",
      "103/103 [==============================] - 45s 442ms/step - loss: 0.2150 - val_loss: 0.2172\n",
      "Epoch 43/100\n",
      "103/103 [==============================] - 44s 435ms/step - loss: 0.2163 - val_loss: 0.2173\n",
      "Epoch 44/100\n",
      "103/103 [==============================] - 46s 451ms/step - loss: 0.2134 - val_loss: 0.2203\n",
      "Epoch 45/100\n",
      "103/103 [==============================] - 45s 442ms/step - loss: 0.2123 - val_loss: 0.2252\n",
      "Epoch 46/100\n",
      "103/103 [==============================] - 45s 438ms/step - loss: 0.2159 - val_loss: 0.2292\n",
      "Epoch 47/100\n",
      "103/103 [==============================] - 45s 436ms/step - loss: 0.2118 - val_loss: 0.2149\n",
      "Epoch 48/100\n",
      "103/103 [==============================] - 45s 437ms/step - loss: 0.2125 - val_loss: 0.2284\n",
      "Epoch 49/100\n",
      "103/103 [==============================] - 44s 436ms/step - loss: 0.2111 - val_loss: 0.2354\n",
      "Epoch 50/100\n",
      "103/103 [==============================] - 44s 436ms/step - loss: 0.2121 - val_loss: 0.2215\n",
      "Epoch 51/100\n",
      "103/103 [==============================] - 48s 470ms/step - loss: 0.2109 - val_loss: 0.2207\n",
      "Epoch 52/100\n",
      "103/103 [==============================] - 54s 531ms/step - loss: 0.2060 - val_loss: 0.2275\n",
      "Epoch 53/100\n",
      "103/103 [==============================] - 49s 478ms/step - loss: 0.2080 - val_loss: 0.2209\n",
      "Epoch 54/100\n",
      "103/103 [==============================] - 47s 462ms/step - loss: 0.2084 - val_loss: 0.2154\n",
      "Epoch 55/100\n",
      " 95/103 [==========================>...] - ETA: 0s - loss: 0.2099Restoring model weights from the end of the best epoch: 35.\n",
      "103/103 [==============================] - 49s 477ms/step - loss: 0.2122 - val_loss: 0.2120\n",
      "Epoch 55: early stopping\n"
     ]
    },
    {
     "data": {
      "text/plain": [
       "<keras.callbacks.History at 0x29c48aca0>"
      ]
     },
     "execution_count": 23,
     "metadata": {},
     "output_type": "execute_result"
    }
   ],
   "source": [
    "model_1_64.fit(x_train,y_train,validation_data=(x_val,y_val),\n",
    "        callbacks=[monitor],epochs=100)\n"
   ]
  },
  {
   "cell_type": "code",
   "execution_count": 24,
   "id": "1fdb4d9c",
   "metadata": {
    "hidden": true,
    "scrolled": true
   },
   "outputs": [
    {
     "name": "stdout",
     "output_type": "stream",
     "text": [
      "   61/16859 [..............................] - ETA: 28s "
     ]
    },
    {
     "name": "stderr",
     "output_type": "stream",
     "text": [
      "2023-01-18 18:18:17.650014: I tensorflow/core/grappler/optimizers/custom_graph_optimizer_registry.cc:114] Plugin optimizer for device_type GPU is enabled.\n"
     ]
    },
    {
     "name": "stdout",
     "output_type": "stream",
     "text": [
      "16859/16859 [==============================] - 21s 1ms/step\n"
     ]
    },
    {
     "data": {
      "text/plain": [
       "<sklearn.metrics._plot.confusion_matrix.ConfusionMatrixDisplay at 0x283e91250>"
      ]
     },
     "execution_count": 24,
     "metadata": {},
     "output_type": "execute_result"
    },
    {
     "data": {
      "image/png": "[encoded data removed]",
      "text/plain": [
       "<Figure size 640x480 with 1 Axes>"
      ]
     },
     "metadata": {},
     "output_type": "display_data"
    },
    {
     "data": {
      "image/png": "[encoded data removed]",
      "text/plain": [
       "<Figure size 640x480 with 1 Axes>"
      ]
     },
     "metadata": {},
     "output_type": "display_data"
    }
   ],
   "source": [
    "t = model_1_64.predict(x_test)\n",
    "\n",
    "classes = []\n",
    "for i in t.reshape(-1,1):\n",
    "    if i<=0.5: classes.append(0)\n",
    "    else: classes.append(1)\n",
    "\n",
    "# confusion matrix with threshold on 0.5 \n",
    "ConfusionMatrixDisplay(confusion_matrix(y_test, classes)).plot(colorbar=False,cmap=plt.cm.Blues, values_format='d')\n",
    "ConfusionMatrixDisplay(confusion_matrix(y_test, classes, normalize='true')).plot(colorbar=False,cmap=plt.cm.Blues)\n"
   ]
  },
  {
   "cell_type": "markdown",
   "id": "187e9d04",
   "metadata": {
    "heading_collapsed": true
   },
   "source": [
    "## FFNN, 2L, 16N"
   ]
  },
  {
   "cell_type": "code",
   "execution_count": 28,
   "id": "9dff1ae7",
   "metadata": {
    "hidden": true
   },
   "outputs": [
    {
     "name": "stdout",
     "output_type": "stream",
     "text": [
      "Model: \"sequential_3\"\n",
      "_________________________________________________________________\n",
      " Layer (type)                Output Shape              Param #   \n",
      "=================================================================\n",
      " dense_6 (Dense)             (None, 16)                144       \n",
      "                                                                 \n",
      " dropout_3 (Dropout)         (None, 16)                0         \n",
      "                                                                 \n",
      " dense_7 (Dense)             (None, 16)                272       \n",
      "                                                                 \n",
      " dropout_4 (Dropout)         (None, 16)                0         \n",
      "                                                                 \n",
      " dense_8 (Dense)             (None, 1)                 17        \n",
      "                                                                 \n",
      "=================================================================\n",
      "Total params: 433\n",
      "Trainable params: 433\n",
      "Non-trainable params: 0\n",
      "_________________________________________________________________\n"
     ]
    }
   ],
   "source": [
    "model_2_16 = Sequential()\n",
    "model_2_16.add(Dense(16, input_dim=8, activation='relu'))\n",
    "model_2_16.add(Dropout(0.5))\n",
    "model_2_16.add(Dense(16, input_dim=8, activation='relu'))\n",
    "model_2_16.add(Dropout(0.5))\n",
    "model_2_16.add(Dense(1,activation='sigmoid')) # Output\n",
    "model_2_16.compile(loss='binary_crossentropy', optimizer='adam')\n",
    "\n",
    "monitor = EarlyStopping(monitor='val_loss', min_delta=1e-3, patience=20, \n",
    "        verbose=1, mode='auto', restore_best_weights=True)\n",
    "\n",
    "model_2_16.summary()"
   ]
  },
  {
   "cell_type": "code",
   "execution_count": 29,
   "id": "e09ca4dc",
   "metadata": {
    "hidden": true,
    "scrolled": true
   },
   "outputs": [
    {
     "name": "stdout",
     "output_type": "stream",
     "text": [
      "Epoch 1/100\n"
     ]
    },
    {
     "name": "stderr",
     "output_type": "stream",
     "text": [
      "2023-01-19 09:38:36.169351: I tensorflow/core/grappler/optimizers/custom_graph_optimizer_registry.cc:114] Plugin optimizer for device_type GPU is enabled.\n"
     ]
    },
    {
     "name": "stdout",
     "output_type": "stream",
     "text": [
      "103/103 [==============================] - ETA: 0s - loss: 0.7117"
     ]
    },
    {
     "name": "stderr",
     "output_type": "stream",
     "text": [
      "2023-01-19 09:38:37.312419: I tensorflow/core/grappler/optimizers/custom_graph_optimizer_registry.cc:114] Plugin optimizer for device_type GPU is enabled.\n"
     ]
    },
    {
     "name": "stdout",
     "output_type": "stream",
     "text": [
      "103/103 [==============================] - 48s 466ms/step - loss: 0.7117 - val_loss: 0.5464\n",
      "Epoch 2/100\n",
      "103/103 [==============================] - 48s 472ms/step - loss: 0.5922 - val_loss: 0.4857\n",
      "Epoch 3/100\n",
      "103/103 [==============================] - 48s 475ms/step - loss: 0.4993 - val_loss: 0.4302\n",
      "Epoch 4/100\n",
      "103/103 [==============================] - 46s 453ms/step - loss: 0.4394 - val_loss: 0.3844\n",
      "Epoch 5/100\n",
      "103/103 [==============================] - 46s 452ms/step - loss: 0.4007 - val_loss: 0.3502\n",
      "Epoch 6/100\n",
      "103/103 [==============================] - 48s 466ms/step - loss: 0.3857 - val_loss: 0.3348\n",
      "Epoch 7/100\n",
      "103/103 [==============================] - 47s 457ms/step - loss: 0.3733 - val_loss: 0.3108\n",
      "Epoch 8/100\n",
      "103/103 [==============================] - 47s 461ms/step - loss: 0.3621 - val_loss: 0.2993\n",
      "Epoch 9/100\n",
      "103/103 [==============================] - 47s 462ms/step - loss: 0.3512 - val_loss: 0.2756\n",
      "Epoch 10/100\n",
      "103/103 [==============================] - 47s 457ms/step - loss: 0.3359 - val_loss: 0.2928\n",
      "Epoch 11/100\n",
      "103/103 [==============================] - 47s 457ms/step - loss: 0.3276 - val_loss: 0.2825\n",
      "Epoch 12/100\n",
      "103/103 [==============================] - 48s 471ms/step - loss: 0.3249 - val_loss: 0.2675\n",
      "Epoch 13/100\n",
      "103/103 [==============================] - 48s 472ms/step - loss: 0.3229 - val_loss: 0.2705\n",
      "Epoch 14/100\n",
      "103/103 [==============================] - 48s 468ms/step - loss: 0.3184 - val_loss: 0.2669\n",
      "Epoch 15/100\n",
      "103/103 [==============================] - 49s 478ms/step - loss: 0.3111 - val_loss: 0.2771\n",
      "Epoch 16/100\n",
      "103/103 [==============================] - 48s 466ms/step - loss: 0.3030 - val_loss: 0.2641\n",
      "Epoch 17/100\n",
      "103/103 [==============================] - 48s 468ms/step - loss: 0.3134 - val_loss: 0.2584\n",
      "Epoch 18/100\n",
      "103/103 [==============================] - 48s 466ms/step - loss: 0.3049 - val_loss: 0.2574\n",
      "Epoch 19/100\n",
      "103/103 [==============================] - 49s 479ms/step - loss: 0.3007 - val_loss: 0.2492\n",
      "Epoch 20/100\n",
      "103/103 [==============================] - 48s 473ms/step - loss: 0.3034 - val_loss: 0.2623\n",
      "Epoch 21/100\n",
      "103/103 [==============================] - 49s 483ms/step - loss: 0.2923 - val_loss: 0.2679\n",
      "Epoch 22/100\n",
      "103/103 [==============================] - 48s 467ms/step - loss: 0.3004 - val_loss: 0.2493\n",
      "Epoch 23/100\n",
      "103/103 [==============================] - 47s 457ms/step - loss: 0.2899 - val_loss: 0.2367\n",
      "Epoch 24/100\n",
      "103/103 [==============================] - 47s 459ms/step - loss: 0.2892 - val_loss: 0.2511\n",
      "Epoch 25/100\n",
      "103/103 [==============================] - 47s 460ms/step - loss: 0.2920 - val_loss: 0.2585\n",
      "Epoch 26/100\n",
      "103/103 [==============================] - 47s 457ms/step - loss: 0.2844 - val_loss: 0.2531\n",
      "Epoch 27/100\n",
      "103/103 [==============================] - 46s 448ms/step - loss: 0.2754 - val_loss: 0.2398\n",
      "Epoch 28/100\n",
      "103/103 [==============================] - 46s 448ms/step - loss: 0.2757 - val_loss: 0.2365\n",
      "Epoch 29/100\n",
      "103/103 [==============================] - 46s 446ms/step - loss: 0.2757 - val_loss: 0.2438\n",
      "Epoch 30/100\n",
      "103/103 [==============================] - 45s 445ms/step - loss: 0.2720 - val_loss: 0.2436\n",
      "Epoch 31/100\n",
      "103/103 [==============================] - 46s 456ms/step - loss: 0.2801 - val_loss: 0.2429\n",
      "Epoch 32/100\n",
      "103/103 [==============================] - 47s 460ms/step - loss: 0.2720 - val_loss: 0.2374\n",
      "Epoch 33/100\n",
      "103/103 [==============================] - 48s 467ms/step - loss: 0.2707 - val_loss: 0.2318\n",
      "Epoch 34/100\n",
      "103/103 [==============================] - 45s 446ms/step - loss: 0.2687 - val_loss: 0.2470\n",
      "Epoch 35/100\n",
      "103/103 [==============================] - 45s 443ms/step - loss: 0.2630 - val_loss: 0.2434\n",
      "Epoch 36/100\n",
      "103/103 [==============================] - 46s 456ms/step - loss: 0.2689 - val_loss: 0.2354\n",
      "Epoch 37/100\n",
      "103/103 [==============================] - 46s 450ms/step - loss: 0.2593 - val_loss: 0.2357\n",
      "Epoch 38/100\n",
      "103/103 [==============================] - 46s 449ms/step - loss: 0.2596 - val_loss: 0.2331\n",
      "Epoch 39/100\n",
      "103/103 [==============================] - 46s 446ms/step - loss: 0.2599 - val_loss: 0.2477\n",
      "Epoch 40/100\n",
      "103/103 [==============================] - 46s 449ms/step - loss: 0.2644 - val_loss: 0.2182\n",
      "Epoch 41/100\n",
      "103/103 [==============================] - 46s 447ms/step - loss: 0.2539 - val_loss: 0.2308\n",
      "Epoch 42/100\n",
      "103/103 [==============================] - 46s 449ms/step - loss: 0.2566 - val_loss: 0.2313\n",
      "Epoch 43/100\n",
      "103/103 [==============================] - 46s 452ms/step - loss: 0.2592 - val_loss: 0.2218\n",
      "Epoch 44/100\n",
      "103/103 [==============================] - 46s 455ms/step - loss: 0.2577 - val_loss: 0.2187\n",
      "Epoch 45/100\n",
      "103/103 [==============================] - 46s 452ms/step - loss: 0.2578 - val_loss: 0.2311\n",
      "Epoch 46/100\n",
      "103/103 [==============================] - 46s 453ms/step - loss: 0.2581 - val_loss: 0.2342\n",
      "Epoch 47/100\n",
      "103/103 [==============================] - 47s 464ms/step - loss: 0.2565 - val_loss: 0.2300\n",
      "Epoch 48/100\n",
      "103/103 [==============================] - 46s 450ms/step - loss: 0.2548 - val_loss: 0.2284\n",
      "Epoch 49/100\n",
      "103/103 [==============================] - 47s 460ms/step - loss: 0.2494 - val_loss: 0.2349\n",
      "Epoch 50/100\n",
      "103/103 [==============================] - 47s 458ms/step - loss: 0.2546 - val_loss: 0.2337\n",
      "Epoch 51/100\n",
      "103/103 [==============================] - 47s 463ms/step - loss: 0.2472 - val_loss: 0.2288\n",
      "Epoch 52/100\n",
      "103/103 [==============================] - 46s 453ms/step - loss: 0.2471 - val_loss: 0.2362\n",
      "Epoch 53/100\n",
      "103/103 [==============================] - 47s 457ms/step - loss: 0.2468 - val_loss: 0.2198\n",
      "Epoch 54/100\n",
      "103/103 [==============================] - 48s 466ms/step - loss: 0.2604 - val_loss: 0.2178\n",
      "Epoch 55/100\n",
      "103/103 [==============================] - 48s 468ms/step - loss: 0.2490 - val_loss: 0.2210\n",
      "Epoch 56/100\n",
      "103/103 [==============================] - 47s 461ms/step - loss: 0.2524 - val_loss: 0.2225\n",
      "Epoch 57/100\n",
      "103/103 [==============================] - 47s 464ms/step - loss: 0.2465 - val_loss: 0.2257\n",
      "Epoch 58/100\n",
      "103/103 [==============================] - 47s 462ms/step - loss: 0.2483 - val_loss: 0.2264\n",
      "Epoch 59/100\n",
      "103/103 [==============================] - 48s 473ms/step - loss: 0.2409 - val_loss: 0.2298\n",
      "Epoch 60/100\n",
      " 95/103 [==========================>...] - ETA: 0s - loss: 0.2493Restoring model weights from the end of the best epoch: 40.\n",
      "103/103 [==============================] - 47s 463ms/step - loss: 0.2487 - val_loss: 0.2261\n",
      "Epoch 60: early stopping\n"
     ]
    },
    {
     "data": {
      "text/plain": [
       "<keras.callbacks.History at 0x1780d0730>"
      ]
     },
     "execution_count": 29,
     "metadata": {},
     "output_type": "execute_result"
    }
   ],
   "source": [
    "model_2_16.fit(x_train,y_train,validation_data=(x_val,y_val),\n",
    "        callbacks=[monitor],epochs=100)\n"
   ]
  },
  {
   "cell_type": "code",
   "execution_count": 30,
   "id": "6a8587d9",
   "metadata": {
    "hidden": true,
    "scrolled": true
   },
   "outputs": [
    {
     "name": "stdout",
     "output_type": "stream",
     "text": [
      "   67/16859 [..............................] - ETA: 25s "
     ]
    },
    {
     "name": "stderr",
     "output_type": "stream",
     "text": [
      "2023-01-19 10:25:31.083528: I tensorflow/core/grappler/optimizers/custom_graph_optimizer_registry.cc:114] Plugin optimizer for device_type GPU is enabled.\n"
     ]
    },
    {
     "name": "stdout",
     "output_type": "stream",
     "text": [
      "16859/16859 [==============================] - 22s 1ms/step\n"
     ]
    },
    {
     "data": {
      "text/plain": [
       "<sklearn.metrics._plot.confusion_matrix.ConfusionMatrixDisplay at 0x17cf1bbe0>"
      ]
     },
     "execution_count": 30,
     "metadata": {},
     "output_type": "execute_result"
    },
    {
     "data": {
      "image/png": "[encoded data removed]",
      "text/plain": [
       "<Figure size 640x480 with 1 Axes>"
      ]
     },
     "metadata": {},
     "output_type": "display_data"
    },
    {
     "data": {
      "image/png": "[encoded data removed]",
      "text/plain": [
       "<Figure size 640x480 with 1 Axes>"
      ]
     },
     "metadata": {},
     "output_type": "display_data"
    }
   ],
   "source": [
    "t = model_2_16.predict(x_test)\n",
    "\n",
    "classes = []\n",
    "for i in t.reshape(-1,1):\n",
    "    if i<=0.5: classes.append(0)\n",
    "    else: classes.append(1)\n",
    "\n",
    "# confusion matrix with threshold on 0.5 \n",
    "ConfusionMatrixDisplay(confusion_matrix(y_test, classes)).plot(colorbar=False,cmap=plt.cm.Blues, values_format='d')\n",
    "ConfusionMatrixDisplay(confusion_matrix(y_test, classes, normalize='true')).plot(colorbar=False,cmap=plt.cm.Blues)\n"
   ]
  },
  {
   "cell_type": "markdown",
   "id": "9cac1ed4",
   "metadata": {},
   "source": [
    "## FFNN, 3L, 8-16-32N"
   ]
  },
  {
   "cell_type": "code",
   "execution_count": 32,
   "id": "2194e963",
   "metadata": {},
   "outputs": [
    {
     "name": "stdout",
     "output_type": "stream",
     "text": [
      "Model: \"sequential_5\"\n",
      "_________________________________________________________________\n",
      " Layer (type)                Output Shape              Param #   \n",
      "=================================================================\n",
      " dense_13 (Dense)            (None, 8)                 72        \n",
      "                                                                 \n",
      " dropout_8 (Dropout)         (None, 8)                 0         \n",
      "                                                                 \n",
      " dense_14 (Dense)            (None, 16)                144       \n",
      "                                                                 \n",
      " dropout_9 (Dropout)         (None, 16)                0         \n",
      "                                                                 \n",
      " dense_15 (Dense)            (None, 32)                544       \n",
      "                                                                 \n",
      " dropout_10 (Dropout)        (None, 32)                0         \n",
      "                                                                 \n",
      " dense_16 (Dense)            (None, 1)                 33        \n",
      "                                                                 \n",
      "=================================================================\n",
      "Total params: 793\n",
      "Trainable params: 793\n",
      "Non-trainable params: 0\n",
      "_________________________________________________________________\n"
     ]
    }
   ],
   "source": [
    "model_3_81632 = Sequential()\n",
    "model_3_81632.add(Dense(8, input_dim=8, activation='relu'))\n",
    "model_3_81632.add(Dropout(0.5))\n",
    "model_3_81632.add(Dense(16, input_dim=8, activation='relu'))\n",
    "model_3_81632.add(Dropout(0.5))\n",
    "model_3_81632.add(Dense(32, input_dim=8, activation='relu'))\n",
    "model_3_81632.add(Dropout(0.5))\n",
    "model_3_81632.add(Dense(1,activation='sigmoid')) # Output\n",
    "model_3_81632.compile(loss='binary_crossentropy', optimizer='adam')\n",
    "\n",
    "monitor = EarlyStopping(monitor='val_loss', min_delta=1e-3, patience=20, \n",
    "        verbose=1, mode='auto', restore_best_weights=True)\n",
    "\n",
    "model_3_81632.summary()"
   ]
  },
  {
   "cell_type": "code",
   "execution_count": 33,
   "id": "71773a6b",
   "metadata": {
    "scrolled": true
   },
   "outputs": [
    {
     "name": "stdout",
     "output_type": "stream",
     "text": [
      "Epoch 1/100\n"
     ]
    },
    {
     "name": "stderr",
     "output_type": "stream",
     "text": [
      "2023-01-19 10:39:10.149005: I tensorflow/core/grappler/optimizers/custom_graph_optimizer_registry.cc:114] Plugin optimizer for device_type GPU is enabled.\n"
     ]
    },
    {
     "name": "stdout",
     "output_type": "stream",
     "text": [
      "103/103 [==============================] - ETA: 0s - loss: 0.6602"
     ]
    },
    {
     "name": "stderr",
     "output_type": "stream",
     "text": [
      "2023-01-19 10:39:11.528613: I tensorflow/core/grappler/optimizers/custom_graph_optimizer_registry.cc:114] Plugin optimizer for device_type GPU is enabled.\n"
     ]
    },
    {
     "name": "stdout",
     "output_type": "stream",
     "text": [
      "103/103 [==============================] - 50s 481ms/step - loss: 0.6602 - val_loss: 0.6849\n",
      "Epoch 2/100\n",
      "103/103 [==============================] - 49s 483ms/step - loss: 0.5581 - val_loss: 0.5937\n",
      "Epoch 3/100\n",
      "103/103 [==============================] - 49s 484ms/step - loss: 0.4910 - val_loss: 0.4988\n",
      "Epoch 4/100\n",
      "103/103 [==============================] - 49s 484ms/step - loss: 0.4594 - val_loss: 0.4027\n",
      "Epoch 5/100\n",
      "103/103 [==============================] - 50s 493ms/step - loss: 0.4273 - val_loss: 0.3417\n",
      "Epoch 6/100\n",
      "103/103 [==============================] - 49s 475ms/step - loss: 0.4131 - val_loss: 0.3074\n",
      "Epoch 7/100\n",
      "103/103 [==============================] - 49s 480ms/step - loss: 0.3892 - val_loss: 0.2803\n",
      "Epoch 8/100\n",
      "103/103 [==============================] - 50s 488ms/step - loss: 0.3725 - val_loss: 0.2579\n",
      "Epoch 9/100\n",
      "103/103 [==============================] - 48s 475ms/step - loss: 0.3623 - val_loss: 0.2402\n",
      "Epoch 10/100\n",
      "103/103 [==============================] - 49s 479ms/step - loss: 0.3573 - val_loss: 0.2394\n",
      "Epoch 11/100\n",
      "103/103 [==============================] - 49s 477ms/step - loss: 0.3580 - val_loss: 0.2120\n",
      "Epoch 12/100\n",
      "103/103 [==============================] - 49s 476ms/step - loss: 0.3506 - val_loss: 0.2151\n",
      "Epoch 13/100\n",
      "103/103 [==============================] - 49s 476ms/step - loss: 0.3522 - val_loss: 0.2237\n",
      "Epoch 14/100\n",
      "103/103 [==============================] - 49s 476ms/step - loss: 0.3356 - val_loss: 0.2094\n",
      "Epoch 15/100\n",
      "103/103 [==============================] - 49s 481ms/step - loss: 0.3450 - val_loss: 0.2097\n",
      "Epoch 16/100\n",
      "103/103 [==============================] - 49s 477ms/step - loss: 0.3325 - val_loss: 0.1967\n",
      "Epoch 17/100\n",
      "103/103 [==============================] - 49s 480ms/step - loss: 0.3339 - val_loss: 0.1918\n",
      "Epoch 18/100\n",
      "103/103 [==============================] - 49s 482ms/step - loss: 0.3330 - val_loss: 0.1961\n",
      "Epoch 19/100\n",
      "103/103 [==============================] - 48s 473ms/step - loss: 0.3220 - val_loss: 0.1983\n",
      "Epoch 20/100\n",
      "103/103 [==============================] - 49s 482ms/step - loss: 0.3233 - val_loss: 0.1888\n",
      "Epoch 21/100\n",
      "103/103 [==============================] - 153s 2s/step - loss: 0.3212 - val_loss: 0.1835\n",
      "Epoch 22/100\n",
      "103/103 [==============================] - 142s 1s/step - loss: 0.3183 - val_loss: 0.1840\n",
      "Epoch 23/100\n",
      "103/103 [==============================] - 50s 490ms/step - loss: 0.3151 - val_loss: 0.1788\n",
      "Epoch 24/100\n",
      "103/103 [==============================] - 50s 487ms/step - loss: 0.3173 - val_loss: 0.1772\n",
      "Epoch 25/100\n",
      "103/103 [==============================] - 52s 505ms/step - loss: 0.3163 - val_loss: 0.1861\n",
      "Epoch 26/100\n",
      "103/103 [==============================] - 48s 471ms/step - loss: 0.3091 - val_loss: 0.1811\n",
      "Epoch 27/100\n",
      "103/103 [==============================] - 49s 481ms/step - loss: 0.3116 - val_loss: 0.1819\n",
      "Epoch 28/100\n",
      "103/103 [==============================] - 48s 474ms/step - loss: 0.3148 - val_loss: 0.1877\n",
      "Epoch 29/100\n",
      "103/103 [==============================] - 48s 475ms/step - loss: 0.3117 - val_loss: 0.1792\n",
      "Epoch 30/100\n",
      "103/103 [==============================] - 49s 485ms/step - loss: 0.3030 - val_loss: 0.1755\n",
      "Epoch 31/100\n",
      "103/103 [==============================] - 48s 474ms/step - loss: 0.3111 - val_loss: 0.1830\n",
      "Epoch 32/100\n",
      "103/103 [==============================] - 48s 471ms/step - loss: 0.3085 - val_loss: 0.1784\n",
      "Epoch 33/100\n",
      "103/103 [==============================] - 49s 478ms/step - loss: 0.3140 - val_loss: 0.1800\n",
      "Epoch 34/100\n",
      "103/103 [==============================] - 49s 477ms/step - loss: 0.3041 - val_loss: 0.1784\n",
      "Epoch 35/100\n",
      "103/103 [==============================] - 48s 472ms/step - loss: 0.2993 - val_loss: 0.1724\n",
      "Epoch 36/100\n",
      "103/103 [==============================] - 48s 473ms/step - loss: 0.3062 - val_loss: 0.1756\n",
      "Epoch 37/100\n",
      "103/103 [==============================] - 48s 473ms/step - loss: 0.3029 - val_loss: 0.1736\n",
      "Epoch 38/100\n",
      "103/103 [==============================] - 48s 471ms/step - loss: 0.3015 - val_loss: 0.1723\n",
      "Epoch 39/100\n",
      "103/103 [==============================] - 49s 479ms/step - loss: 0.2970 - val_loss: 0.1707\n",
      "Epoch 40/100\n",
      "103/103 [==============================] - 48s 472ms/step - loss: 0.3044 - val_loss: 0.1719\n",
      "Epoch 41/100\n",
      "103/103 [==============================] - 49s 481ms/step - loss: 0.2919 - val_loss: 0.1683\n",
      "Epoch 42/100\n",
      "103/103 [==============================] - 49s 484ms/step - loss: 0.2919 - val_loss: 0.1755\n",
      "Epoch 43/100\n",
      "103/103 [==============================] - 49s 483ms/step - loss: 0.2949 - val_loss: 0.1687\n",
      "Epoch 44/100\n",
      "103/103 [==============================] - 51s 496ms/step - loss: 0.2953 - val_loss: 0.1764\n",
      "Epoch 45/100\n",
      "103/103 [==============================] - 49s 484ms/step - loss: 0.2963 - val_loss: 0.1622\n",
      "Epoch 46/100\n",
      "103/103 [==============================] - 50s 491ms/step - loss: 0.2972 - val_loss: 0.1662\n",
      "Epoch 47/100\n",
      "103/103 [==============================] - 52s 505ms/step - loss: 0.2969 - val_loss: 0.1686\n",
      "Epoch 48/100\n",
      "103/103 [==============================] - 49s 484ms/step - loss: 0.2915 - val_loss: 0.1753\n",
      "Epoch 49/100\n",
      "103/103 [==============================] - 50s 488ms/step - loss: 0.2915 - val_loss: 0.1685\n",
      "Epoch 50/100\n",
      "103/103 [==============================] - 49s 481ms/step - loss: 0.2916 - val_loss: 0.1733\n",
      "Epoch 51/100\n",
      "103/103 [==============================] - 48s 472ms/step - loss: 0.2943 - val_loss: 0.1755\n",
      "Epoch 52/100\n",
      "103/103 [==============================] - 48s 469ms/step - loss: 0.2881 - val_loss: 0.1709\n",
      "Epoch 53/100\n",
      "103/103 [==============================] - 48s 468ms/step - loss: 0.2831 - val_loss: 0.1817\n",
      "Epoch 54/100\n",
      "103/103 [==============================] - 48s 469ms/step - loss: 0.2847 - val_loss: 0.1604\n",
      "Epoch 55/100\n",
      "103/103 [==============================] - 48s 474ms/step - loss: 0.2897 - val_loss: 0.1635\n",
      "Epoch 56/100\n",
      "103/103 [==============================] - 48s 472ms/step - loss: 0.2858 - val_loss: 0.1605\n",
      "Epoch 57/100\n",
      "103/103 [==============================] - 49s 478ms/step - loss: 0.2845 - val_loss: 0.1634\n",
      "Epoch 58/100\n",
      "103/103 [==============================] - 48s 475ms/step - loss: 0.2919 - val_loss: 0.1532\n",
      "Epoch 59/100\n",
      "103/103 [==============================] - 48s 475ms/step - loss: 0.2843 - val_loss: 0.1572\n",
      "Epoch 60/100\n",
      "103/103 [==============================] - 48s 471ms/step - loss: 0.2891 - val_loss: 0.1644\n",
      "Epoch 61/100\n",
      "103/103 [==============================] - 48s 472ms/step - loss: 0.2793 - val_loss: 0.1567\n",
      "Epoch 62/100\n",
      "103/103 [==============================] - 48s 470ms/step - loss: 0.2851 - val_loss: 0.1621\n",
      "Epoch 63/100\n",
      "103/103 [==============================] - 48s 471ms/step - loss: 0.2881 - val_loss: 0.1674\n",
      "Epoch 64/100\n",
      "103/103 [==============================] - 48s 474ms/step - loss: 0.2904 - val_loss: 0.1552\n",
      "Epoch 65/100\n",
      "103/103 [==============================] - 49s 482ms/step - loss: 0.2789 - val_loss: 0.1528\n",
      "Epoch 66/100\n",
      "103/103 [==============================] - 50s 493ms/step - loss: 0.2915 - val_loss: 0.1539\n",
      "Epoch 67/100\n",
      "103/103 [==============================] - 51s 499ms/step - loss: 0.2868 - val_loss: 0.1486\n",
      "Epoch 68/100\n",
      "103/103 [==============================] - 52s 507ms/step - loss: 0.2922 - val_loss: 0.1535\n",
      "Epoch 69/100\n",
      "103/103 [==============================] - 51s 501ms/step - loss: 0.2847 - val_loss: 0.1566\n",
      "Epoch 70/100\n",
      "103/103 [==============================] - 51s 502ms/step - loss: 0.2902 - val_loss: 0.1539\n",
      "Epoch 71/100\n",
      "103/103 [==============================] - 51s 505ms/step - loss: 0.2789 - val_loss: 0.1573\n",
      "Epoch 72/100\n",
      "103/103 [==============================] - 50s 492ms/step - loss: 0.2828 - val_loss: 0.1532\n",
      "Epoch 73/100\n",
      "103/103 [==============================] - 50s 486ms/step - loss: 0.2867 - val_loss: 0.1511\n",
      "Epoch 74/100\n",
      "103/103 [==============================] - 51s 495ms/step - loss: 0.2822 - val_loss: 0.1565\n",
      "Epoch 75/100\n",
      "103/103 [==============================] - 49s 478ms/step - loss: 0.2797 - val_loss: 0.1455\n",
      "Epoch 76/100\n",
      "103/103 [==============================] - 49s 482ms/step - loss: 0.2858 - val_loss: 0.1608\n",
      "Epoch 77/100\n",
      "103/103 [==============================] - 50s 490ms/step - loss: 0.2826 - val_loss: 0.1677\n",
      "Epoch 78/100\n",
      "103/103 [==============================] - 50s 486ms/step - loss: 0.2797 - val_loss: 0.1650\n",
      "Epoch 79/100\n",
      "103/103 [==============================] - 49s 483ms/step - loss: 0.2846 - val_loss: 0.1614\n",
      "Epoch 80/100\n",
      "103/103 [==============================] - 49s 478ms/step - loss: 0.2802 - val_loss: 0.1544\n",
      "Epoch 81/100\n",
      "103/103 [==============================] - 51s 502ms/step - loss: 0.2804 - val_loss: 0.1589\n",
      "Epoch 82/100\n",
      "103/103 [==============================] - 51s 500ms/step - loss: 0.2838 - val_loss: 0.1627\n",
      "Epoch 83/100\n",
      "103/103 [==============================] - 51s 495ms/step - loss: 0.2844 - val_loss: 0.1638\n",
      "Epoch 84/100\n",
      "103/103 [==============================] - 50s 489ms/step - loss: 0.2842 - val_loss: 0.1612\n",
      "Epoch 85/100\n",
      "103/103 [==============================] - 50s 494ms/step - loss: 0.2782 - val_loss: 0.1564\n",
      "Epoch 86/100\n",
      "103/103 [==============================] - 51s 501ms/step - loss: 0.2794 - val_loss: 0.1645\n",
      "Epoch 87/100\n",
      "103/103 [==============================] - 49s 477ms/step - loss: 0.2869 - val_loss: 0.1582\n",
      "Epoch 88/100\n",
      "103/103 [==============================] - 49s 480ms/step - loss: 0.2797 - val_loss: 0.1539\n",
      "Epoch 89/100\n",
      "103/103 [==============================] - 49s 479ms/step - loss: 0.2773 - val_loss: 0.1634\n",
      "Epoch 90/100\n",
      "103/103 [==============================] - 48s 475ms/step - loss: 0.2767 - val_loss: 0.1588\n",
      "Epoch 91/100\n",
      "103/103 [==============================] - 49s 482ms/step - loss: 0.2815 - val_loss: 0.1624\n",
      "Epoch 92/100\n",
      "103/103 [==============================] - 49s 483ms/step - loss: 0.2858 - val_loss: 0.1700\n",
      "Epoch 93/100\n",
      "103/103 [==============================] - 50s 494ms/step - loss: 0.2889 - val_loss: 0.1633\n",
      "Epoch 94/100\n",
      "103/103 [==============================] - 48s 475ms/step - loss: 0.2780 - val_loss: 0.1549\n",
      "Epoch 95/100\n",
      " 98/103 [===========================>..] - ETA: 0s - loss: 0.2762Restoring model weights from the end of the best epoch: 75.\n",
      "103/103 [==============================] - 48s 473ms/step - loss: 0.2756 - val_loss: 0.1582\n",
      "Epoch 95: early stopping\n"
     ]
    },
    {
     "data": {
      "text/plain": [
       "<keras.callbacks.History at 0x17c579eb0>"
      ]
     },
     "execution_count": 33,
     "metadata": {},
     "output_type": "execute_result"
    }
   ],
   "source": [
    "model_3_81632.fit(x_train,y_train,validation_data=(x_val,y_val),\n",
    "        callbacks=[monitor],epochs=100)\n"
   ]
  },
  {
   "cell_type": "code",
   "execution_count": 34,
   "id": "fd9d10a8",
   "metadata": {
    "scrolled": true
   },
   "outputs": [
    {
     "name": "stderr",
     "output_type": "stream",
     "text": [
      "2023-01-19 12:00:24.106703: I tensorflow/core/grappler/optimizers/custom_graph_optimizer_registry.cc:114] Plugin optimizer for device_type GPU is enabled.\n"
     ]
    },
    {
     "name": "stdout",
     "output_type": "stream",
     "text": [
      "16859/16859 [==============================] - 24s 1ms/step\n"
     ]
    },
    {
     "data": {
      "text/plain": [
       "<sklearn.metrics._plot.confusion_matrix.ConfusionMatrixDisplay at 0x282319ac0>"
      ]
     },
     "execution_count": 34,
     "metadata": {},
     "output_type": "execute_result"
    },
    {
     "data": {
      "image/png": "[encoded data removed]",
      "text/plain": [
       "<Figure size 640x480 with 1 Axes>"
      ]
     },
     "metadata": {},
     "output_type": "display_data"
    },
    {
     "data": {
      "image/png": "[encoded data removed]",
      "text/plain": [
       "<Figure size 640x480 with 1 Axes>"
      ]
     },
     "metadata": {},
     "output_type": "display_data"
    }
   ],
   "source": [
    "t = model_3_81632.predict(x_test)\n",
    "\n",
    "classes = []\n",
    "for i in t.reshape(-1,1):\n",
    "    if i<=0.5: classes.append(0)\n",
    "    else: classes.append(1)\n",
    "\n",
    "# confusion matrix with threshold on 0.5 \n",
    "ConfusionMatrixDisplay(confusion_matrix(y_test, classes)).plot(colorbar=False,cmap=plt.cm.Blues, values_format='d')\n",
    "ConfusionMatrixDisplay(confusion_matrix(y_test, classes, normalize='true')).plot(colorbar=False,cmap=plt.cm.Blues)\n"
   ]
  },
  {
   "cell_type": "code",
   "execution_count": null,
   "id": "cd2347ba",
   "metadata": {},
   "outputs": [],
   "source": []
  },
  {
   "cell_type": "markdown",
   "id": "fe14bca4",
   "metadata": {
    "heading_collapsed": true
   },
   "source": [
    "## FFNN, 3L, 8-16-32-64N"
   ]
  },
  {
   "cell_type": "code",
   "execution_count": 37,
   "id": "138aca76",
   "metadata": {
    "hidden": true,
    "scrolled": true
   },
   "outputs": [
    {
     "name": "stdout",
     "output_type": "stream",
     "text": [
      "Model: \"sequential_7\"\n",
      "_________________________________________________________________\n",
      " Layer (type)                Output Shape              Param #   \n",
      "=================================================================\n",
      " dense_21 (Dense)            (None, 8)                 72        \n",
      "                                                                 \n",
      " dropout_14 (Dropout)        (None, 8)                 0         \n",
      "                                                                 \n",
      " dense_22 (Dense)            (None, 16)                144       \n",
      "                                                                 \n",
      " dropout_15 (Dropout)        (None, 16)                0         \n",
      "                                                                 \n",
      " dense_23 (Dense)            (None, 32)                544       \n",
      "                                                                 \n",
      " dropout_16 (Dropout)        (None, 32)                0         \n",
      "                                                                 \n",
      " dense_24 (Dense)            (None, 64)                2112      \n",
      "                                                                 \n",
      " dropout_17 (Dropout)        (None, 64)                0         \n",
      "                                                                 \n",
      " dense_25 (Dense)            (None, 1)                 65        \n",
      "                                                                 \n",
      "=================================================================\n",
      "Total params: 2,937\n",
      "Trainable params: 2,937\n",
      "Non-trainable params: 0\n",
      "_________________________________________________________________\n"
     ]
    }
   ],
   "source": [
    "model_4_8163264 = Sequential()\n",
    "model_4_8163264.add(Dense(8, input_dim=8, activation='relu'))\n",
    "model_4_8163264.add(Dropout(0.5))\n",
    "model_4_8163264.add(Dense(16, input_dim=8, activation='relu'))\n",
    "model_4_8163264.add(Dropout(0.5))\n",
    "model_4_8163264.add(Dense(32, input_dim=8, activation='relu'))\n",
    "model_4_8163264.add(Dropout(0.5))\n",
    "model_4_8163264.add(Dense(64, input_dim=8, activation='relu'))\n",
    "model_4_8163264.add(Dropout(0.5))\n",
    "model_4_8163264.add(Dense(1,activation='sigmoid')) # Output\n",
    "model_4_8163264.compile(loss='binary_crossentropy', optimizer='adam')\n",
    "\n",
    "monitor = EarlyStopping(monitor='val_loss', min_delta=1e-3, patience=20, \n",
    "        verbose=1, mode='auto', restore_best_weights=True)\n",
    "\n",
    "model_4_8163264.summary()"
   ]
  },
  {
   "cell_type": "code",
   "execution_count": 38,
   "id": "4b0aa266",
   "metadata": {
    "hidden": true,
    "scrolled": true
   },
   "outputs": [
    {
     "name": "stdout",
     "output_type": "stream",
     "text": [
      "Epoch 1/100\n"
     ]
    },
    {
     "name": "stderr",
     "output_type": "stream",
     "text": [
      "2023-01-19 13:28:36.338400: I tensorflow/core/grappler/optimizers/custom_graph_optimizer_registry.cc:114] Plugin optimizer for device_type GPU is enabled.\n"
     ]
    },
    {
     "name": "stdout",
     "output_type": "stream",
     "text": [
      "103/103 [==============================] - ETA: 0s - loss: 0.6624"
     ]
    },
    {
     "name": "stderr",
     "output_type": "stream",
     "text": [
      "2023-01-19 13:28:37.545401: I tensorflow/core/grappler/optimizers/custom_graph_optimizer_registry.cc:114] Plugin optimizer for device_type GPU is enabled.\n"
     ]
    },
    {
     "name": "stdout",
     "output_type": "stream",
     "text": [
      "103/103 [==============================] - 52s 502ms/step - loss: 0.6624 - val_loss: 0.6183\n",
      "Epoch 2/100\n",
      "103/103 [==============================] - 52s 508ms/step - loss: 0.5877 - val_loss: 0.5306\n",
      "Epoch 3/100\n",
      "103/103 [==============================] - 53s 516ms/step - loss: 0.5384 - val_loss: 0.4510\n",
      "Epoch 4/100\n",
      "103/103 [==============================] - 52s 510ms/step - loss: 0.4823 - val_loss: 0.3499\n",
      "Epoch 5/100\n",
      "103/103 [==============================] - 52s 512ms/step - loss: 0.4432 - val_loss: 0.3022\n",
      "Epoch 6/100\n",
      "103/103 [==============================] - 52s 507ms/step - loss: 0.4142 - val_loss: 0.2613\n",
      "Epoch 7/100\n",
      "103/103 [==============================] - 51s 498ms/step - loss: 0.3947 - val_loss: 0.2369\n",
      "Epoch 8/100\n",
      "103/103 [==============================] - 52s 509ms/step - loss: 0.3777 - val_loss: 0.2052\n",
      "Epoch 9/100\n",
      "103/103 [==============================] - 54s 528ms/step - loss: 0.3580 - val_loss: 0.2173\n",
      "Epoch 10/100\n",
      "103/103 [==============================] - 52s 507ms/step - loss: 0.3430 - val_loss: 0.1894\n",
      "Epoch 11/100\n",
      "103/103 [==============================] - 50s 493ms/step - loss: 0.3452 - val_loss: 0.1929\n",
      "Epoch 12/100\n",
      "103/103 [==============================] - 51s 500ms/step - loss: 0.3385 - val_loss: 0.2052\n",
      "Epoch 13/100\n",
      "103/103 [==============================] - 52s 509ms/step - loss: 0.3314 - val_loss: 0.1841\n",
      "Epoch 14/100\n",
      "103/103 [==============================] - 51s 499ms/step - loss: 0.3184 - val_loss: 0.1881\n",
      "Epoch 15/100\n",
      "103/103 [==============================] - 52s 510ms/step - loss: 0.3202 - val_loss: 0.1689\n",
      "Epoch 16/100\n",
      "103/103 [==============================] - 51s 495ms/step - loss: 0.3127 - val_loss: 0.1464\n",
      "Epoch 17/100\n",
      "103/103 [==============================] - 51s 498ms/step - loss: 0.3146 - val_loss: 0.1718\n",
      "Epoch 18/100\n",
      "103/103 [==============================] - 51s 501ms/step - loss: 0.3047 - val_loss: 0.1616\n",
      "Epoch 19/100\n",
      "103/103 [==============================] - 52s 508ms/step - loss: 0.3128 - val_loss: 0.1600\n",
      "Epoch 20/100\n",
      "103/103 [==============================] - 51s 499ms/step - loss: 0.3079 - val_loss: 0.1579\n",
      "Epoch 21/100\n",
      "103/103 [==============================] - 51s 499ms/step - loss: 0.3003 - val_loss: 0.1516\n",
      "Epoch 22/100\n",
      "103/103 [==============================] - 50s 494ms/step - loss: 0.3036 - val_loss: 0.1654\n",
      "Epoch 23/100\n",
      "103/103 [==============================] - 52s 514ms/step - loss: 0.3032 - val_loss: 0.1621\n",
      "Epoch 24/100\n",
      "103/103 [==============================] - 54s 528ms/step - loss: 0.2895 - val_loss: 0.1643\n",
      "Epoch 25/100\n",
      "103/103 [==============================] - 51s 499ms/step - loss: 0.2937 - val_loss: 0.1617\n",
      "Epoch 26/100\n",
      "103/103 [==============================] - 51s 501ms/step - loss: 0.2956 - val_loss: 0.1532\n",
      "Epoch 27/100\n",
      "103/103 [==============================] - 51s 500ms/step - loss: 0.2956 - val_loss: 0.1607\n",
      "Epoch 28/100\n",
      "103/103 [==============================] - 51s 500ms/step - loss: 0.2899 - val_loss: 0.1481\n",
      "Epoch 29/100\n",
      "103/103 [==============================] - 51s 501ms/step - loss: 0.2966 - val_loss: 0.1508\n",
      "Epoch 30/100\n",
      "103/103 [==============================] - 52s 506ms/step - loss: 0.2906 - val_loss: 0.1397\n",
      "Epoch 31/100\n",
      "103/103 [==============================] - 51s 500ms/step - loss: 0.2971 - val_loss: 0.1692\n",
      "Epoch 32/100\n",
      "103/103 [==============================] - 51s 498ms/step - loss: 0.2942 - val_loss: 0.1431\n",
      "Epoch 33/100\n",
      "103/103 [==============================] - 51s 501ms/step - loss: 0.2940 - val_loss: 0.1661\n",
      "Epoch 34/100\n",
      "103/103 [==============================] - 50s 494ms/step - loss: 0.2864 - val_loss: 0.1459\n",
      "Epoch 35/100\n",
      "103/103 [==============================] - 282s 3s/step - loss: 0.2978 - val_loss: 0.1382\n",
      "Epoch 36/100\n",
      "103/103 [==============================] - 90s 886ms/step - loss: 0.2838 - val_loss: 0.1514\n",
      "Epoch 37/100\n",
      "103/103 [==============================] - 97s 949ms/step - loss: 0.2888 - val_loss: 0.1319\n",
      "Epoch 38/100\n",
      "103/103 [==============================] - 1495s 15s/step - loss: 0.2890 - val_loss: 0.1306\n",
      "Epoch 39/100\n",
      "103/103 [==============================] - 51s 500ms/step - loss: 0.2831 - val_loss: 0.1294\n",
      "Epoch 40/100\n",
      "103/103 [==============================] - 51s 499ms/step - loss: 0.2896 - val_loss: 0.1317\n",
      "Epoch 41/100\n",
      "103/103 [==============================] - 51s 496ms/step - loss: 0.2844 - val_loss: 0.1413\n",
      "Epoch 42/100\n",
      "103/103 [==============================] - 51s 500ms/step - loss: 0.2859 - val_loss: 0.1418\n",
      "Epoch 43/100\n",
      "103/103 [==============================] - 51s 504ms/step - loss: 0.2850 - val_loss: 0.1370\n",
      "Epoch 44/100\n",
      "103/103 [==============================] - 507s 5s/step - loss: 0.2891 - val_loss: 0.1314\n",
      "Epoch 45/100\n",
      "103/103 [==============================] - 218s 2s/step - loss: 0.2756 - val_loss: 0.1340\n",
      "Epoch 46/100\n",
      "103/103 [==============================] - 51s 498ms/step - loss: 0.2842 - val_loss: 0.1366\n",
      "Epoch 47/100\n",
      "103/103 [==============================] - 51s 504ms/step - loss: 0.2827 - val_loss: 0.1277\n",
      "Epoch 48/100\n",
      "103/103 [==============================] - 51s 495ms/step - loss: 0.2733 - val_loss: 0.1248\n",
      "Epoch 49/100\n",
      "103/103 [==============================] - 51s 496ms/step - loss: 0.2779 - val_loss: 0.1404\n",
      "Epoch 50/100\n",
      "103/103 [==============================] - 51s 502ms/step - loss: 0.2778 - val_loss: 0.1314\n",
      "Epoch 51/100\n",
      "103/103 [==============================] - 51s 497ms/step - loss: 0.2795 - val_loss: 0.1257\n",
      "Epoch 52/100\n",
      "103/103 [==============================] - 51s 497ms/step - loss: 0.2761 - val_loss: 0.1263\n",
      "Epoch 53/100\n",
      "103/103 [==============================] - 51s 498ms/step - loss: 0.2798 - val_loss: 0.1190\n",
      "Epoch 54/100\n",
      "103/103 [==============================] - 52s 509ms/step - loss: 0.2757 - val_loss: 0.1254\n",
      "Epoch 55/100\n",
      "103/103 [==============================] - 50s 494ms/step - loss: 0.2808 - val_loss: 0.1267\n",
      "Epoch 56/100\n",
      "103/103 [==============================] - 51s 497ms/step - loss: 0.2755 - val_loss: 0.1260\n",
      "Epoch 57/100\n",
      "103/103 [==============================] - 52s 508ms/step - loss: 0.2741 - val_loss: 0.1218\n",
      "Epoch 58/100\n",
      "103/103 [==============================] - 52s 507ms/step - loss: 0.2726 - val_loss: 0.1139\n",
      "Epoch 59/100\n",
      "103/103 [==============================] - 51s 503ms/step - loss: 0.2691 - val_loss: 0.1167\n",
      "Epoch 60/100\n",
      "103/103 [==============================] - 51s 499ms/step - loss: 0.2741 - val_loss: 0.1224\n",
      "Epoch 61/100\n",
      "103/103 [==============================] - 50s 493ms/step - loss: 0.2731 - val_loss: 0.1222\n",
      "Epoch 62/100\n",
      "103/103 [==============================] - 51s 497ms/step - loss: 0.2681 - val_loss: 0.1120\n",
      "Epoch 63/100\n",
      "103/103 [==============================] - 51s 503ms/step - loss: 0.2750 - val_loss: 0.1356\n",
      "Epoch 64/100\n",
      "103/103 [==============================] - 52s 508ms/step - loss: 0.2767 - val_loss: 0.1335\n",
      "Epoch 65/100\n",
      "103/103 [==============================] - 50s 494ms/step - loss: 0.2720 - val_loss: 0.1238\n",
      "Epoch 66/100\n",
      "103/103 [==============================] - 52s 505ms/step - loss: 0.2752 - val_loss: 0.1337\n",
      "Epoch 67/100\n",
      "103/103 [==============================] - 52s 511ms/step - loss: 0.2751 - val_loss: 0.1346\n",
      "Epoch 68/100\n",
      "103/103 [==============================] - 58s 570ms/step - loss: 0.2753 - val_loss: 0.1249\n",
      "Epoch 69/100\n",
      "103/103 [==============================] - 63s 616ms/step - loss: 0.2756 - val_loss: 0.1239\n",
      "Epoch 70/100\n",
      "103/103 [==============================] - 51s 500ms/step - loss: 0.2741 - val_loss: 0.1223\n",
      "Epoch 71/100\n",
      "103/103 [==============================] - 51s 495ms/step - loss: 0.2753 - val_loss: 0.1218\n",
      "Epoch 72/100\n",
      "103/103 [==============================] - 61s 602ms/step - loss: 0.2678 - val_loss: 0.1201\n",
      "Epoch 73/100\n",
      "103/103 [==============================] - 52s 514ms/step - loss: 0.2730 - val_loss: 0.1217\n",
      "Epoch 74/100\n",
      "103/103 [==============================] - 52s 509ms/step - loss: 0.2684 - val_loss: 0.1217\n",
      "Epoch 75/100\n",
      "103/103 [==============================] - 65s 640ms/step - loss: 0.2671 - val_loss: 0.1192\n",
      "Epoch 76/100\n",
      "103/103 [==============================] - 64s 629ms/step - loss: 0.2659 - val_loss: 0.1184\n",
      "Epoch 77/100\n",
      "103/103 [==============================] - 65s 638ms/step - loss: 0.2693 - val_loss: 0.1262\n",
      "Epoch 78/100\n",
      "103/103 [==============================] - 64s 632ms/step - loss: 0.2761 - val_loss: 0.1238\n",
      "Epoch 79/100\n",
      "103/103 [==============================] - 65s 633ms/step - loss: 0.2712 - val_loss: 0.1177\n",
      "Epoch 80/100\n",
      "103/103 [==============================] - 61s 600ms/step - loss: 0.2732 - val_loss: 0.1220\n",
      "Epoch 81/100\n",
      "103/103 [==============================] - 61s 599ms/step - loss: 0.2671 - val_loss: 0.1179\n",
      "Epoch 82/100\n",
      "102/103 [============================>.] - ETA: 0s - loss: 0.2687Restoring model weights from the end of the best epoch: 62.\n",
      "103/103 [==============================] - 60s 584ms/step - loss: 0.2683 - val_loss: 0.1152\n",
      "Epoch 82: early stopping\n"
     ]
    },
    {
     "data": {
      "text/plain": [
       "<keras.callbacks.History at 0x394ccdac0>"
      ]
     },
     "execution_count": 38,
     "metadata": {},
     "output_type": "execute_result"
    }
   ],
   "source": [
    "model_4_8163264.fit(x_train,y_train,validation_data=(x_val,y_val),\n",
    "        callbacks=[monitor],epochs=100)\n"
   ]
  },
  {
   "cell_type": "code",
   "execution_count": 39,
   "id": "6353a7e0",
   "metadata": {
    "hidden": true
   },
   "outputs": [
    {
     "name": "stdout",
     "output_type": "stream",
     "text": [
      "   42/16859 [..............................] - ETA: 42s "
     ]
    },
    {
     "name": "stderr",
     "output_type": "stream",
     "text": [
      "2023-01-19 15:20:31.084630: I tensorflow/core/grappler/optimizers/custom_graph_optimizer_registry.cc:114] Plugin optimizer for device_type GPU is enabled.\n"
     ]
    },
    {
     "name": "stdout",
     "output_type": "stream",
     "text": [
      "16859/16859 [==============================] - 30s 2ms/step\n"
     ]
    },
    {
     "data": {
      "text/plain": [
       "<sklearn.metrics._plot.confusion_matrix.ConfusionMatrixDisplay at 0x3952cb580>"
      ]
     },
     "execution_count": 39,
     "metadata": {},
     "output_type": "execute_result"
    },
    {
     "data": {
      "image/png": "[encoded data removed]",
      "text/plain": [
       "<Figure size 640x480 with 1 Axes>"
      ]
     },
     "metadata": {},
     "output_type": "display_data"
    },
    {
     "data": {
      "image/png": "[encoded data removed]",
      "text/plain": [
       "<Figure size 640x480 with 1 Axes>"
      ]
     },
     "metadata": {},
     "output_type": "display_data"
    }
   ],
   "source": [
    "t = model_4_8163264.predict(x_test)\n",
    "\n",
    "classes = []\n",
    "for i in t.reshape(-1,1):\n",
    "    if i<=0.5: classes.append(0)\n",
    "    else: classes.append(1)\n",
    "\n",
    "# confusion matrix with threshold on 0.5 \n",
    "ConfusionMatrixDisplay(confusion_matrix(y_test, classes)).plot(colorbar=False,cmap=plt.cm.Blues, values_format='d')\n",
    "ConfusionMatrixDisplay(confusion_matrix(y_test, classes, normalize='true')).plot(colorbar=False,cmap=plt.cm.Blues)\n"
   ]
  },
  {
   "cell_type": "code",
   "execution_count": null,
   "id": "355162e5",
   "metadata": {
    "hidden": true
   },
   "outputs": [],
   "source": []
  }
 ],
 "metadata": {
  "kernelspec": {
   "display_name": "Python 3.9 (tensorflow)",
   "language": "python",
   "name": "tensorflow"
  },
  "language_info": {
   "codemirror_mode": {
    "name": "ipython",
    "version": 3
   },
   "file_extension": ".py",
   "mimetype": "text/x-python",
   "name": "python",
   "nbconvert_exporter": "python",
   "pygments_lexer": "ipython3",
   "version": "3.9.13"
  }
 },
 "nbformat": 4,
 "nbformat_minor": 5
}
