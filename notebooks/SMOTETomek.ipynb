{
 "cells": [
  {
   "cell_type": "markdown",
   "id": "35b20d21",
   "metadata": {},
   "source": [
    "\n",
    "# Import libraries"
   ]
  },
  {
   "cell_type": "code",
   "execution_count": 2,
   "id": "3d02b79d",
   "metadata": {},
   "outputs": [
    {
     "name": "stdout",
     "output_type": "stream",
     "text": [
      "pandas: 1.3.5\n",
      "xarray: 0.20.1\n",
      "geopandas: 1.21.5\n",
      "tensorflow: 2.0.0\n",
      "Tensorflow/Keras: 2.2.4-tf\n",
      "pandas: 1.3.5\n"
     ]
    },
    {
     "name": "stderr",
     "output_type": "stream",
     "text": [
      "Using TensorFlow backend.\n"
     ]
    },
    {
     "name": "stdout",
     "output_type": "stream",
     "text": [
      "sklearn: 1.0.2\n",
      "plotly: 5.6.0\n",
      "/Users/3rfanian/P_main\n"
     ]
    }
   ],
   "source": [
    "#import libraries\n",
    "import pandas as pd\n",
    "print('pandas: %s' % pd.__version__)\n",
    "\n",
    "import xarray as xr\n",
    "print('xarray: %s' % xr.__version__)\n",
    "\n",
    "pd.options.display.max_columns = None\n",
    "pd.set_option('display.max_rows', 150)\n",
    "\n",
    "import numpy as np\n",
    "print('geopandas: %s' % np.__version__)\n",
    "\n",
    "\n",
    "# tensorflow\n",
    "import tensorflow as tf\n",
    "print('tensorflow: %s' % tf.__version__)\n",
    "\n",
    "# Tensorflow / Keras\n",
    "from tensorflow import keras # for building Neural Networks\n",
    "print('Tensorflow/Keras: %s' % keras.__version__) # print version\n",
    "from keras.models import Sequential # for creating a linear stack of layers for our Neural Network\n",
    "from keras import Input # for instantiating a keras tensor\n",
    "from keras.layers import Dense # for creating regular densely-connected NN layer.\n",
    "\n",
    "# Data manipulation\n",
    "import pandas as pd # for data manipulation\n",
    "print('pandas: %s' % pd.__version__) # print version\n",
    "\n",
    "\n",
    "# Sklearn\n",
    "import sklearn # for model evaluation\n",
    "print('sklearn: %s' % sklearn.__version__) # print version\n",
    "from sklearn.model_selection import train_test_split # for splitting the data into train and test samples\n",
    "from sklearn.metrics import classification_report # for model evaluation metrics\n",
    "\n",
    "# Visualization\n",
    "import plotly \n",
    "import plotly.express as px\n",
    "import plotly.graph_objects as go\n",
    "print('plotly: %s' % plotly.__version__) # print version\n",
    "\n",
    "# Other utilities\n",
    "import sys\n",
    "import os\n",
    "\n",
    "\n",
    "from imblearn.over_sampling import SMOTE\n",
    "from imblearn.over_sampling import ADASYN\n",
    "from imblearn.combine import SMOTETomek\n",
    "\n",
    "\n",
    "from collections import Counter\n",
    "from numpy import * \n",
    "\n",
    "\n",
    "\n",
    "# Assign main directory to a variable\n",
    "main_dir=os.path.dirname(sys.path[0])\n",
    "print(main_dir)"
   ]
  },
  {
   "cell_type": "markdown",
   "id": "581de75f",
   "metadata": {},
   "source": [
    "# DATA importing"
   ]
  },
  {
   "cell_type": "code",
   "execution_count": 3,
   "id": "6b083f80",
   "metadata": {},
   "outputs": [
    {
     "name": "stdout",
     "output_type": "stream",
     "text": [
      "******training features******\n",
      "******training target******\n",
      "******test features******\n",
      "******test target******\n",
      "******validation features******\n",
      "******validation target******\n"
     ]
    }
   ],
   "source": [
    "test_set = pd.read_csv('data_with_newtarget/test_set_with_newtarget.csv')\n",
    "validation_set = pd.read_csv('data_with_newtarget/validation_set_with_newtarget.csv')\n",
    "traning_set = pd.read_csv('data_with_newtarget/traning_set_with_newtarget.csv')\n",
    "\n",
    "#training with yestersay lsm\n",
    "traning_df = traning_set['newlsm']\n",
    "traning_df\n",
    "ndf = traning_df.iloc[1:]\n",
    "ndf.loc[4268771,] = 0.0\n",
    "nd = ndf.reset_index()\n",
    "del nd[\"index\"]\n",
    "nd =nd.rename(columns={'newlsm': 'Tomorrow_lsm'})\n",
    "df2 = traning_set.assign(Tomorrow_lsm=nd)\n",
    "del df2[\"Unnamed: 0\"]\n",
    "\n",
    "#validation with yestersay lsm\n",
    "validation_df = validation_set['newlsm']\n",
    "ndf_val = validation_df.iloc[1:]\n",
    "ndf_val.loc[688402,] = 0.0\n",
    "nd_val = ndf_val.reset_index()\n",
    "del nd_val[\"index\"]\n",
    "nd_val =nd_val.rename(columns={'newlsm': 'Tomorrow_lsm'})\n",
    "df3 = validation_set.assign(Tomorrow_lsm=nd_val)\n",
    "del df3[\"Unnamed: 0\"]\n",
    "\n",
    "\n",
    "#test with yestersay lsm\n",
    "test_df = test_set['newlsm']\n",
    "ndf_test = test_df.iloc[1:]\n",
    "ndf_test.loc[539487,] = 0.0\n",
    "nd_test = ndf_test.reset_index()\n",
    "del nd_test[\"index\"]\n",
    "nd_test =nd_test.rename(columns={'newlsm': 'Tomorrow_lsm'})\n",
    "df4 = test_set.assign(Tomorrow_lsm=nd_test)\n",
    "del df4[\"Unnamed: 0\"]\n",
    "\n",
    "\n",
    "training_set_wt = df2\n",
    "validation_set_wt =df3\n",
    "test_set_wt = df4\n",
    "\n",
    "\n",
    "##### Step 2 - Split training data\n",
    "x_training = training_set_wt[[ 'vo', 'r', 'u_200', 'u_850', 'v_200','v_850', 'ttr','sst']]\n",
    "print (\"******training features******\")\n",
    "#print (x_training)\n",
    "y_training = training_set_wt[['Tomorrow_lsm']]\n",
    "print (\"******training target******\")\n",
    "#print (y_training)\n",
    "\n",
    "##### Step 3 - Split test data\n",
    "x_test = test_set_wt[[ 'vo', 'r', 'u_200', 'u_850', 'v_200','v_850', 'ttr','sst']]\n",
    "print (\"******test features******\")\n",
    "#print (x_test)\n",
    "y_test = test_set_wt[['Tomorrow_lsm']]\n",
    "print (\"******test target******\")\n",
    "#print (y_test)\n",
    "\n",
    "##### Step 4 - Split validation data\n",
    "x_validation = validation_set_wt[[ 'vo', 'r', 'u_200', 'u_850', 'v_200','v_850', 'ttr','sst']]\n",
    "print (\"******validation features******\")\n",
    "#print (x_validation)\n",
    "y_validation = validation_set_wt[['Tomorrow_lsm']]\n",
    "print (\"******validation target******\")\n",
    "#print (y_validation)"
   ]
  },
  {
   "cell_type": "markdown",
   "id": "aeb2ba06",
   "metadata": {},
   "source": [
    "# SMOTETomek"
   ]
  },
  {
   "cell_type": "code",
   "execution_count": 4,
   "id": "40f72d62",
   "metadata": {},
   "outputs": [
    {
     "name": "stdout",
     "output_type": "stream",
     "text": [
      "Before SMOTETomek\n",
      "[0. 1.]\n",
      "> Class=0 : 4254174/4268771 (99.7%)\n",
      "> Class=1 : 14597/4268771 (0.3%)\n",
      "After SMOTETomek\n",
      "[0. 1.]\n",
      "> Class=0 : 4254174/8508348 (50.0%)\n",
      "> Class=1 : 4254174/8508348 (50.0%)\n"
     ]
    }
   ],
   "source": [
    "\n",
    "print('Before SMOTETomek')\n",
    "\n",
    "dff = y_training\n",
    "M = y_training.to_numpy()\n",
    "# summarize dataset\n",
    "classes = unique(M)\n",
    "print(classes)\n",
    "total = len(M)\n",
    "for c in classes:\n",
    "    n_examples = len(M[M==c])\n",
    "    percent = n_examples / total * 100\n",
    "    print('> Class=%d : %d/%d (%.1f%%)' % (c, n_examples, total, percent))\n",
    "\n",
    "smtmek = SMOTETomek(random_state=1)\n",
    "\n",
    "X_training_smtmek, Y_traning_smtmek = smtmek.fit_resample(x_training, y_training)\n",
    "\n",
    "print('After SMOTETomek')\n",
    "dff = Y_traning_smtmek\n",
    "M = Y_traning_smtmek.to_numpy()\n",
    "# summarize dataset\n",
    "classes = unique(M)\n",
    "print(classes)\n",
    "total = len(M)\n",
    "for c in classes:\n",
    "    n_examples = len(M[M==c])\n",
    "    percent = n_examples / total * 100\n",
    "    print('> Class=%d : %d/%d (%.1f%%)' % (c, n_examples, total, percent))"
   ]
  },
  {
   "cell_type": "code",
   "execution_count": 15,
   "id": "cbf9ee94",
   "metadata": {},
   "outputs": [
    {
     "name": "stderr",
     "output_type": "stream",
     "text": [
      "2022-06-24 19:32:36.580043: W tensorflow/python/util/util.cc:299] Sets are not currently considered sequences, but this may change in the future, so consider avoiding using them.\n"
     ]
    },
    {
     "name": "stdout",
     "output_type": "stream",
     "text": [
      "WARNING:tensorflow:From /Users/3rfanian/opt/anaconda3/envs/project_thesis/lib/python3.7/site-packages/tensorflow_core/python/ops/resource_variable_ops.py:1781: calling BaseResourceVariable.__init__ (from tensorflow.python.ops.resource_variable_ops) with constraint is deprecated and will be removed in a future version.\n",
      "Instructions for updating:\n",
      "If using Keras pass *_constraint arguments to layers.\n",
      "INFO:tensorflow:Assets written to: ComModel_512n_SMOTETomek/assets\n"
     ]
    }
   ],
   "source": [
    "model_simple_SMOTETomek.save('ComModel_512n_SMOTETomek')\n",
    "model_simple_SMOTETomek.save('ComModel_512n_SMOTETomek.h5')"
   ]
  },
  {
   "cell_type": "code",
   "execution_count": 8,
   "id": "342605f9",
   "metadata": {},
   "outputs": [
    {
     "name": "stdout",
     "output_type": "stream",
     "text": [
      "WARNING:tensorflow:Falling back from v2 loop because of error: Failed to find data adapter that can handle input: <class 'pandas.core.frame.DataFrame'>, <class 'NoneType'>\n",
      "Train on 8508348 samples, validate on 688402 samples\n",
      "8508348/8508348 [==============================] - 1631s 192us/sample - loss: 0.4087 - accuracy: 0.8040 - val_loss: 0.3675 - val_accuracy: 0.8309\n"
     ]
    },
    {
     "data": {
      "text/plain": [
       "<tensorflow.python.keras.callbacks.History at 0x7fccc0722f10>"
      ]
     },
     "execution_count": 8,
     "metadata": {},
     "output_type": "execute_result"
    }
   ],
   "source": [
    "##### Step 5 - Specify the structure of a Neural Network\n",
    "model_simple_SMOTETomek = tf.keras.models.Sequential([\n",
    "    tf.keras.layers.Flatten(input_shape=(8,)),\n",
    "    tf.keras.layers.Dense(512, activation='tanh', name='Hidden-Layer1'),\n",
    "    tf.keras.layers.Dense(512, activation='tanh', name='Hidden-Layer2'),\n",
    "    tf.keras.layers.Dense(512, activation='tanh', name='Hidden-Layer3'),\n",
    "    tf.keras.layers.Dense(512, activation='tanh', name='Hidden-Layer4'),\n",
    "    tf.keras.layers.Dropout(0.2),\n",
    "    tf.keras.layers.Dense(1, activation='sigmoid', name='Output-Layer')\n",
    "])\n",
    "model_simple_SMOTETomek.compile(optimizer='adam',\n",
    "    loss='binary_crossentropy',\n",
    "    metrics=['accuracy'])\n",
    "\n",
    "model_simple_SMOTETomek.fit(X_training_smtmek, Y_traning_smtmek, epochs = 1 ,  validation_data=(x_validation, y_validation))#*********more epochs = 5\n"
   ]
  },
  {
   "cell_type": "code",
   "execution_count": 11,
   "id": "3899eeb2",
   "metadata": {},
   "outputs": [
    {
     "name": "stdout",
     "output_type": "stream",
     "text": [
      "WARNING:tensorflow:Falling back from v2 loop because of error: Failed to find data adapter that can handle input: <class 'pandas.core.frame.DataFrame'>, <class 'NoneType'>\n",
      "WARNING:tensorflow:Falling back from v2 loop because of error: Failed to find data adapter that can handle input: <class 'pandas.core.frame.DataFrame'>, <class 'NoneType'>\n"
     ]
    }
   ],
   "source": [
    "##### Step 6 - Use model to make predictions\n",
    "# Predict class labels on training data\n",
    "pred_labels_tr_simple_SMOTETomek_512n = (model_simple_SMOTETomek.predict(x_training))\n",
    "# Predict class labels on a test data\n",
    "pred_labels_te_simple_SMOTETomek_512n = (model_simple_SMOTETomek.predict(x_test))\n",
    "#> 0.01).astype(int)\n"
   ]
  },
  {
   "cell_type": "code",
   "execution_count": 13,
   "id": "33bfa453",
   "metadata": {},
   "outputs": [
    {
     "data": {
      "text/plain": [
       "<matplotlib.legend.Legend at 0x7fcccfe6a710>"
      ]
     },
     "execution_count": 13,
     "metadata": {},
     "output_type": "execute_result"
    },
    {
     "data": {
      "image/png": "[encoded data removed]",
      "text/plain": [
       "<Figure size 432x288 with 1 Axes>"
      ]
     },
     "metadata": {
      "needs_background": "light"
     },
     "output_type": "display_data"
    }
   ],
   "source": [
    "from sklearn import metrics\n",
    "from sklearn import datasets\n",
    "from sklearn.model_selection import train_test_split\n",
    "from sklearn.linear_model import LogisticRegression\n",
    "from sklearn.ensemble import GradientBoostingClassifier\n",
    "import numpy as np\n",
    "import matplotlib.pyplot as plt\n",
    "\n",
    "plt.figure(0).clf()\n",
    "\n",
    "\n",
    "fpr, tpr, _ = metrics.roc_curve(y_test, pred_labels_te_simple_SMOTETomek_512n)\n",
    "auc = round(metrics.roc_auc_score(y_test, pred_labels_te_simple_SMOTETomek_512n), 4)\n",
    "plt.plot(fpr,tpr,label=\"simple_ADASYN, AUC=\"+str(auc))\n",
    "\n",
    "\n",
    "\n",
    "\n",
    "\n",
    "#add legend\n",
    "plt.legend()"
   ]
  },
  {
   "cell_type": "code",
   "execution_count": 7,
   "id": "23ce476a",
   "metadata": {},
   "outputs": [
    {
     "name": "stdout",
     "output_type": "stream",
     "text": [
      "WARNING:tensorflow:Falling back from v2 loop because of error: Failed to find data adapter that can handle input: <class 'pandas.core.frame.DataFrame'>, <class 'NoneType'>\n",
      "Train on 8508348 samples, validate on 688402 samples\n",
      "Epoch 1/2\n",
      "8508348/8508348 [==============================] - 4953s 582us/sample - loss: 0.4206 - accuracy: 0.7961 - val_loss: 0.4386 - val_accuracy: 0.8058\n",
      "Epoch 2/2\n",
      "8508348/8508348 [==============================] - 4443s 522us/sample - loss: 0.4119 - accuracy: 0.8019 - val_loss: 0.3850 - val_accuracy: 0.7710\n"
     ]
    },
    {
     "data": {
      "text/plain": [
       "<tensorflow.python.keras.callbacks.History at 0x7fe13feb3ad0>"
      ]
     },
     "execution_count": 7,
     "metadata": {},
     "output_type": "execute_result"
    }
   ],
   "source": [
    "##### Step 5 - Specify the structure of a Neural Network\n",
    "model_complex_SMOTETomek_4l_512n = tf.keras.models.Sequential([\n",
    "    tf.keras.layers.Flatten(input_shape=(8,)),\n",
    "    tf.keras.layers.Dense(512, activation='tanh', name='Hidden-Layer1'),\n",
    "    tf.keras.layers.Dense(512, activation='tanh', name='Hidden-Layer2'),\n",
    "    tf.keras.layers.Dense(512, activation='tanh', name='Hidden-Layer3'),\n",
    "    tf.keras.layers.Dense(512, activation='tanh', name='Hidden-Layer4'),\n",
    "    tf.keras.layers.Dropout(0.2),\n",
    "    tf.keras.layers.Dense(1, activation='sigmoid', name='Output-Layer')\n",
    "])\n",
    "model_complex_SMOTETomek_4l_512n.compile(optimizer='adam',\n",
    "    loss='binary_crossentropy',\n",
    "    metrics=['accuracy'])\n",
    "\n",
    "model_complex_SMOTETomek_4l_512n.fit(X_training_smtmek, Y_traning_smtmek, epochs = 2 ,  validation_data=(x_validation, y_validation))#*********more epochs = 5\n"
   ]
  },
  {
   "cell_type": "code",
   "execution_count": 8,
   "id": "3c9d5c32",
   "metadata": {},
   "outputs": [
    {
     "name": "stdout",
     "output_type": "stream",
     "text": [
      "WARNING:tensorflow:From /Users/3rfanian/opt/anaconda3/envs/project_thesis/lib/python3.7/site-packages/tensorflow_core/python/ops/resource_variable_ops.py:1781: calling BaseResourceVariable.__init__ (from tensorflow.python.ops.resource_variable_ops) with constraint is deprecated and will be removed in a future version.\n",
      "Instructions for updating:\n",
      "If using Keras pass *_constraint arguments to layers.\n"
     ]
    },
    {
     "name": "stderr",
     "output_type": "stream",
     "text": [
      "2022-06-26 18:53:57.560453: W tensorflow/python/util/util.cc:299] Sets are not currently considered sequences, but this may change in the future, so consider avoiding using them.\n"
     ]
    },
    {
     "name": "stdout",
     "output_type": "stream",
     "text": [
      "INFO:tensorflow:Assets written to: model_complex_SMOTETomek_4l_512n/assets\n"
     ]
    }
   ],
   "source": [
    "model_complex_SMOTETomek_4l_512n.save('model_complex_SMOTETomek_4l_512n')\n",
    "model_complex_SMOTETomek_4l_512n.save('model_complex_SMOTETomek_4l_512n.h5')"
   ]
  },
  {
   "cell_type": "code",
   "execution_count": 9,
   "id": "0176378a",
   "metadata": {},
   "outputs": [
    {
     "name": "stdout",
     "output_type": "stream",
     "text": [
      "WARNING:tensorflow:Falling back from v2 loop because of error: Failed to find data adapter that can handle input: <class 'pandas.core.frame.DataFrame'>, <class 'NoneType'>\n",
      "WARNING:tensorflow:Falling back from v2 loop because of error: Failed to find data adapter that can handle input: <class 'pandas.core.frame.DataFrame'>, <class 'NoneType'>\n"
     ]
    }
   ],
   "source": [
    "##### Step 6 - Use model to make predictions\n",
    "# Predict class labels on training data\n",
    "pred_labels_tr_complex_SMOTETomek_4l_512n = (model_complex_SMOTETomek_4l_512n.predict(x_training))\n",
    "# Predict class labels on a test data\n",
    "pred_labels_te_complex_SMOTETomek_4l_512n = (model_complex_SMOTETomek_4l_512n.predict(x_test))\n",
    "#> 0.01).astype(int)\n"
   ]
  },
  {
   "cell_type": "code",
   "execution_count": 10,
   "id": "93af22ac",
   "metadata": {},
   "outputs": [
    {
     "data": {
      "text/plain": [
       "<matplotlib.legend.Legend at 0x7fe1083bead0>"
      ]
     },
     "execution_count": 10,
     "metadata": {},
     "output_type": "execute_result"
    },
    {
     "data": {
      "image/png": "[encoded data removed]",
      "text/plain": [
       "<Figure size 432x288 with 1 Axes>"
      ]
     },
     "metadata": {
      "needs_background": "light"
     },
     "output_type": "display_data"
    }
   ],
   "source": [
    "from sklearn import metrics\n",
    "from sklearn import datasets\n",
    "from sklearn.model_selection import train_test_split\n",
    "from sklearn.linear_model import LogisticRegression\n",
    "from sklearn.ensemble import GradientBoostingClassifier\n",
    "import numpy as np\n",
    "import matplotlib.pyplot as plt\n",
    "\n",
    "plt.figure(0).clf()\n",
    "\n",
    "\n",
    "fpr, tpr, _ = metrics.roc_curve(y_test, pred_labels_te_complex_SMOTETomek_4l_512n)\n",
    "auc = round(metrics.roc_auc_score(y_test, pred_labels_te_complex_SMOTETomek_4l_512n), 4)\n",
    "plt.plot(fpr,tpr,label=\"complex_SMOTETomek_4l_512n, AUC=\"+str(auc))\n",
    "\n",
    "\n",
    "\n",
    "\n",
    "\n",
    "#add legend\n",
    "plt.legend()"
   ]
  },
  {
   "cell_type": "code",
   "execution_count": 4,
   "id": "c49ca284",
   "metadata": {},
   "outputs": [
    {
     "name": "stderr",
     "output_type": "stream",
     "text": [
      "2022-07-06 18:21:10.794535: I tensorflow/core/platform/cpu_feature_guard.cc:145] This TensorFlow binary is optimized with Intel(R) MKL-DNN to use the following CPU instructions in performance critical operations:  SSE4.1 SSE4.2\n",
      "To enable them in non-MKL-DNN operations, rebuild TensorFlow with the appropriate compiler flags.\n",
      "2022-07-06 18:21:10.797721: I tensorflow/core/common_runtime/process_util.cc:115] Creating new thread pool with default inter op setting: 8. Tune using inter_op_parallelism_threads for best performance.\n"
     ]
    },
    {
     "name": "stdout",
     "output_type": "stream",
     "text": [
      "WARNING:tensorflow:Falling back from v2 loop because of error: Failed to find data adapter that can handle input: <class 'pandas.core.frame.DataFrame'>, <class 'NoneType'>\n",
      "Train on 8508348 samples, validate on 688402 samples\n",
      "Epoch 1/25\n",
      "8508348/8508348 [==============================] - 665s 78us/sample - loss: 0.6765 - accuracy: 0.5702 - val_loss: 0.6747 - val_accuracy: 0.2863\n",
      "Epoch 2/25\n",
      "8508348/8508348 [==============================] - 347s 41us/sample - loss: 0.6747 - accuracy: 0.5714 - val_loss: 0.6693 - val_accuracy: 0.2863\n",
      "Epoch 3/25\n",
      "8508348/8508348 [==============================] - 1386s 163us/sample - loss: 0.6747 - accuracy: 0.5714 - val_loss: 0.6730 - val_accuracy: 0.2863\n",
      "Epoch 4/25\n",
      "8508348/8508348 [==============================] - 530s 62us/sample - loss: 0.6747 - accuracy: 0.5714 - val_loss: 0.6635 - val_accuracy: 0.2863\n",
      "Epoch 5/25\n",
      "8508348/8508348 [==============================] - 1426s 168us/sample - loss: 0.6748 - accuracy: 0.5713 - val_loss: 0.6707 - val_accuracy: 0.2863\n",
      "Epoch 6/25\n",
      "8508348/8508348 [==============================] - 476s 56us/sample - loss: 0.6747 - accuracy: 0.5715 - val_loss: 0.6687 - val_accuracy: 0.2863\n",
      "Epoch 7/25\n",
      "8508348/8508348 [==============================] - 499s 59us/sample - loss: 0.6748 - accuracy: 0.5714 - val_loss: 0.6865 - val_accuracy: 0.2863\n",
      "Epoch 8/25\n",
      "8508348/8508348 [==============================] - 369s 43us/sample - loss: 0.6747 - accuracy: 0.5716 - val_loss: 0.6685 - val_accuracy: 0.2863\n",
      "Epoch 9/25\n",
      "8508348/8508348 [==============================] - 320s 38us/sample - loss: 0.6748 - accuracy: 0.5712 - val_loss: 0.6674 - val_accuracy: 0.2863\n",
      "Epoch 10/25\n",
      "8508348/8508348 [==============================] - 322s 38us/sample - loss: 0.6748 - accuracy: 0.5713 - val_loss: 0.6663 - val_accuracy: 0.2863\n",
      "Epoch 11/25\n",
      "8508348/8508348 [==============================] - 339s 40us/sample - loss: 0.6748 - accuracy: 0.5714 - val_loss: 0.6792 - val_accuracy: 0.2863\n",
      "Epoch 12/25\n",
      "8508348/8508348 [==============================] - 320s 38us/sample - loss: 0.6747 - accuracy: 0.5715 - val_loss: 0.6719 - val_accuracy: 0.2863\n",
      "Epoch 13/25\n",
      "8508348/8508348 [==============================] - 324s 38us/sample - loss: 0.6747 - accuracy: 0.5715 - val_loss: 0.6851 - val_accuracy: 0.2863\n",
      "Epoch 14/25\n",
      "8508348/8508348 [==============================] - 723s 85us/sample - loss: 0.6747 - accuracy: 0.5714 - val_loss: 0.6617 - val_accuracy: 0.2863\n",
      "Epoch 15/25\n",
      "8508348/8508348 [==============================] - 329s 39us/sample - loss: 0.6748 - accuracy: 0.5713 - val_loss: 0.6800 - val_accuracy: 0.2863\n",
      "Epoch 16/25\n",
      "8508348/8508348 [==============================] - 317s 37us/sample - loss: 0.6747 - accuracy: 0.5717 - val_loss: 0.6689 - val_accuracy: 0.2863\n",
      "Epoch 17/25\n",
      "8508348/8508348 [==============================] - 327s 38us/sample - loss: 0.6748 - accuracy: 0.5712 - val_loss: 0.6792 - val_accuracy: 0.2863\n",
      "Epoch 18/25\n",
      "8508348/8508348 [==============================] - 348s 41us/sample - loss: 0.6748 - accuracy: 0.5713 - val_loss: 0.6769 - val_accuracy: 0.2863\n",
      "Epoch 19/25\n",
      "8508348/8508348 [==============================] - 322s 38us/sample - loss: 0.6747 - accuracy: 0.5715 - val_loss: 0.6566 - val_accuracy: 0.2863\n",
      "Epoch 20/25\n",
      "8508348/8508348 [==============================] - 1394s 164us/sample - loss: 0.6747 - accuracy: 0.5714 - val_loss: 0.6586 - val_accuracy: 0.2863\n",
      "Epoch 21/25\n",
      "8508348/8508348 [==============================] - 3595s 423us/sample - loss: 0.6748 - accuracy: 0.5714 - val_loss: 0.6763 - val_accuracy: 0.2863\n",
      "Epoch 22/25\n",
      "8508348/8508348 [==============================] - 324s 38us/sample - loss: 0.6747 - accuracy: 0.5715 - val_loss: 0.6685 - val_accuracy: 0.2863\n",
      "Epoch 23/25\n",
      "8508348/8508348 [==============================] - 341s 40us/sample - loss: 0.6748 - accuracy: 0.5713 - val_loss: 0.6667 - val_accuracy: 0.2863\n",
      "Epoch 24/25\n",
      "8508348/8508348 [==============================] - 320s 38us/sample - loss: 0.6748 - accuracy: 0.5712 - val_loss: 0.6778 - val_accuracy: 0.2863\n",
      "Epoch 25/25\n",
      "8508348/8508348 [==============================] - 1373s 161us/sample - loss: 0.6748 - accuracy: 0.5714 - val_loss: 0.6682 - val_accuracy: 0.2863\n"
     ]
    },
    {
     "data": {
      "text/plain": [
       "<tensorflow.python.keras.callbacks.History at 0x7fb4e8235d10>"
      ]
     },
     "execution_count": 4,
     "metadata": {},
     "output_type": "execute_result"
    }
   ],
   "source": [
    "##### Step 5 - Specify the structure of a Neural Network\n",
    "model_simple_SMOTETomek_1n_1l = tf.keras.models.Sequential([\n",
    "    tf.keras.layers.Flatten(input_shape=(8,)),\n",
    "    tf.keras.layers.Dense(1, activation='tanh', name='Hidden-Layer1'),\n",
    "    tf.keras.layers.Dropout(0.2),\n",
    "    tf.keras.layers.Dense(1, activation='sigmoid', name='Output-Layer')\n",
    "])\n",
    "\n",
    "checkpoint_filepath = '/tmp/checkpoint2'\n",
    "model_checkpoint_callback = tf.keras.callbacks.ModelCheckpoint(\n",
    "    filepath=checkpoint_filepath,\n",
    "    save_weights_only=True,\n",
    "    monitor='val_accuracy',\n",
    "    mode='max',\n",
    "    save_best_only=True)\n",
    "\n",
    "\n",
    "model_simple_SMOTETomek_1n_1l.compile(optimizer='adam',\n",
    "    loss='binary_crossentropy',\n",
    "    metrics=['accuracy'])\n",
    "\n",
    "model_simple_SMOTETomek_1n_1l.fit(X_training_smtmek, Y_traning_smtmek, epochs = 25 ,callbacks=[model_checkpoint_callback],  validation_data=(x_validation, y_validation))#*********more epochs = 5\n"
   ]
  },
  {
   "cell_type": "code",
   "execution_count": 5,
   "id": "82315ec6",
   "metadata": {},
   "outputs": [
    {
     "name": "stdout",
     "output_type": "stream",
     "text": [
      "WARNING:tensorflow:From /Users/3rfanian/opt/anaconda3/envs/project_thesis/lib/python3.7/site-packages/tensorflow_core/python/ops/resource_variable_ops.py:1781: calling BaseResourceVariable.__init__ (from tensorflow.python.ops.resource_variable_ops) with constraint is deprecated and will be removed in a future version.\n",
      "Instructions for updating:\n",
      "If using Keras pass *_constraint arguments to layers.\n"
     ]
    },
    {
     "name": "stderr",
     "output_type": "stream",
     "text": [
      "2022-07-06 23:52:50.413955: W tensorflow/python/util/util.cc:299] Sets are not currently considered sequences, but this may change in the future, so consider avoiding using them.\n"
     ]
    },
    {
     "name": "stdout",
     "output_type": "stream",
     "text": [
      "INFO:tensorflow:Assets written to: model_simple_SMOTETomek_1n_1l/assets\n"
     ]
    }
   ],
   "source": [
    "model_simple_SMOTETomek_1n_1l.save('model_simple_SMOTETomek_1n_1l')\n",
    "model_simple_SMOTETomek_1n_1l.save('model_simple_SMOTETomek_1n_1l.h5')"
   ]
  },
  {
   "cell_type": "code",
   "execution_count": 7,
   "id": "116dcb40",
   "metadata": {},
   "outputs": [
    {
     "name": "stdout",
     "output_type": "stream",
     "text": [
      "WARNING:tensorflow:Falling back from v2 loop because of error: Failed to find data adapter that can handle input: <class 'pandas.core.frame.DataFrame'>, <class 'NoneType'>\n",
      "WARNING:tensorflow:Falling back from v2 loop because of error: Failed to find data adapter that can handle input: <class 'pandas.core.frame.DataFrame'>, <class 'NoneType'>\n",
      "\n",
      "-------------------- Model Summary --------------------\n",
      "Model: \"sequential\"\n",
      "_________________________________________________________________\n",
      "Layer (type)                 Output Shape              Param #   \n",
      "=================================================================\n",
      "flatten (Flatten)            (None, 8)                 0         \n",
      "_________________________________________________________________\n",
      "Hidden-Layer1 (Dense)        (None, 1)                 9         \n",
      "_________________________________________________________________\n",
      "dropout (Dropout)            (None, 1)                 0         \n",
      "_________________________________________________________________\n",
      "Output-Layer (Dense)         (None, 1)                 2         \n",
      "=================================================================\n",
      "Total params: 11\n",
      "Trainable params: 11\n",
      "Non-trainable params: 0\n",
      "_________________________________________________________________\n",
      "\n",
      "-------------------- Weights and Biases --------------------\n",
      "Layer:  flatten\n",
      "Layer:  Hidden-Layer1\n",
      "Layer:  dropout\n",
      "Layer:  Output-Layer\n",
      "\n",
      "---------- Evaluation on Training Data ----------\n",
      "              precision    recall  f1-score   support\n",
      "\n",
      "         0.0       1.00      0.28      0.44   4254174\n",
      "         1.0       0.00      0.89      0.01     14597\n",
      "\n",
      "    accuracy                           0.29   4268771\n",
      "   macro avg       0.50      0.59      0.23   4268771\n",
      "weighted avg       1.00      0.29      0.44   4268771\n",
      "\n",
      "\n",
      "---------- Evaluation on Test Data ----------\n",
      "              precision    recall  f1-score   support\n",
      "\n",
      "         0.0       1.00      0.28      0.44    537732\n",
      "         1.0       0.00      0.89      0.01      1755\n",
      "\n",
      "    accuracy                           0.29    539487\n",
      "   macro avg       0.50      0.59      0.23    539487\n",
      "weighted avg       1.00      0.29      0.44    539487\n",
      "\n",
      "\n"
     ]
    },
    {
     "data": {
      "text/plain": [
       "<sklearn.metrics._plot.confusion_matrix.ConfusionMatrixDisplay at 0x7fb4ea651f10>"
      ]
     },
     "execution_count": 7,
     "metadata": {},
     "output_type": "execute_result"
    },
    {
     "data": {
      "image/png": "[encoded data removed]",
      "text/plain": [
       "<Figure size 432x288 with 1 Axes>"
      ]
     },
     "metadata": {
      "needs_background": "light"
     },
     "output_type": "display_data"
    },
    {
     "data": {
      "image/png": "[encoded data removed]",
      "text/plain": [
       "<Figure size 432x288 with 1 Axes>"
      ]
     },
     "metadata": {
      "needs_background": "light"
     },
     "output_type": "display_data"
    }
   ],
   "source": [
    "##### Step 6 - Use model to make predictions\n",
    "# Predict class labels on training data\n",
    "pred_labels_tr_SimpleSMOTEETOMEK_1nl_prob = (model_simple_SMOTETomek_1n_1l.predict(x_training)> 0.5).astype(int)\n",
    "# Predict class labels on a test data\n",
    "pred_labels_te_SimpleSMOTEETOMEK_1nl_prob = (model_simple_SMOTETomek_1n_1l.predict(x_test)> 0.5).astype(int)\n",
    "#> 0.01).astype(int)\n",
    "\n",
    "\n",
    "##### Step 7 - Model Performance Summary\n",
    "print(\"\")\n",
    "print('-------------------- Model Summary --------------------')\n",
    "model_simple_SMOTETomek_1n_1l.summary() # print model summary\n",
    "print(\"\")\n",
    "print('-------------------- Weights and Biases --------------------')\n",
    "for layer in model_simple_SMOTETomek_1n_1l.layers:\n",
    "    print(\"Layer: \", layer.name) # print layer name\n",
    "    \n",
    "print(\"\")\n",
    "print('---------- Evaluation on Training Data ----------')\n",
    "print(classification_report(y_training, pred_labels_tr_SimpleSMOTEETOMEK_1nl_prob))\n",
    "print(\"\")\n",
    "\n",
    "print('---------- Evaluation on Test Data ----------')\n",
    "print(classification_report(y_test, pred_labels_te_SimpleSMOTEETOMEK_1nl_prob))\n",
    "print(\"\")\n",
    "\n",
    "from sklearn.metrics import confusion_matrix\n",
    "import matplotlib.pyplot as plt\n",
    "\n",
    "from sklearn.metrics import ConfusionMatrixDisplay\n",
    "ConfusionMatrixDisplay(confusion_matrix(y_test, pred_labels_te_SimpleSMOTEETOMEK_1nl_prob)).plot(colorbar=False,cmap=plt.cm.Blues)\n",
    "ConfusionMatrixDisplay(confusion_matrix(y_test, pred_labels_te_SimpleSMOTEETOMEK_1nl_prob,normalize='true')).plot(colorbar=False,cmap=plt.cm.Blues)"
   ]
  },
  {
   "cell_type": "code",
   "execution_count": 8,
   "id": "d1fb3aec",
   "metadata": {},
   "outputs": [
    {
     "name": "stdout",
     "output_type": "stream",
     "text": [
      "WARNING:tensorflow:Falling back from v2 loop because of error: Failed to find data adapter that can handle input: <class 'pandas.core.frame.DataFrame'>, <class 'NoneType'>\n",
      "WARNING:tensorflow:Falling back from v2 loop because of error: Failed to find data adapter that can handle input: <class 'pandas.core.frame.DataFrame'>, <class 'NoneType'>\n",
      "\n",
      "-------------------- Model Summary --------------------\n",
      "Model: \"sequential\"\n",
      "_________________________________________________________________\n",
      "Layer (type)                 Output Shape              Param #   \n",
      "=================================================================\n",
      "flatten (Flatten)            (None, 8)                 0         \n",
      "_________________________________________________________________\n",
      "Hidden-Layer1 (Dense)        (None, 1)                 9         \n",
      "_________________________________________________________________\n",
      "dropout (Dropout)            (None, 1)                 0         \n",
      "_________________________________________________________________\n",
      "Output-Layer (Dense)         (None, 1)                 2         \n",
      "=================================================================\n",
      "Total params: 11\n",
      "Trainable params: 11\n",
      "Non-trainable params: 0\n",
      "_________________________________________________________________\n",
      "\n"
     ]
    },
    {
     "data": {
      "text/plain": [
       "<matplotlib.legend.Legend at 0x7fb4d22139d0>"
      ]
     },
     "execution_count": 8,
     "metadata": {},
     "output_type": "execute_result"
    },
    {
     "data": {
      "image/png": "[encoded data removed]",
      "text/plain": [
       "<Figure size 432x288 with 1 Axes>"
      ]
     },
     "metadata": {
      "needs_background": "light"
     },
     "output_type": "display_data"
    }
   ],
   "source": [
    "##### Step 6 - Use model to make predictions\n",
    "# Predict class labels on training data\n",
    "pred_labels_tr_SimpleSMOTEETOMEK_1nl = (model_simple_SMOTETomek_1n_1l.predict(x_training))\n",
    "# Predict class labels on a test data\n",
    "pred_labels_te_SimpleSMOTEETOMEK_1nl = (model_simple_SMOTETomek_1n_1l.predict(x_test))\n",
    "#> 0.01).astype(int)\n",
    "\n",
    "\n",
    "##### Step 7 - Model Performance Summary\n",
    "print(\"\")\n",
    "print('-------------------- Model Summary --------------------')\n",
    "model_simple_SMOTETomek_1n_1l.summary() # print model summary\n",
    "print(\"\")\n",
    "\n",
    "\n",
    "from sklearn import metrics\n",
    "from sklearn import datasets\n",
    "from sklearn.model_selection import train_test_split\n",
    "from sklearn.linear_model import LogisticRegression\n",
    "from sklearn.ensemble import GradientBoostingClassifier\n",
    "import numpy as np\n",
    "import matplotlib.pyplot as plt\n",
    "\n",
    "plt.figure(0).clf()\n",
    "\n",
    "\n",
    "fpr, tpr, _ = metrics.roc_curve(y_test, pred_labels_te_SimpleSMOTEETOMEK_1nl)\n",
    "auc = round(metrics.roc_auc_score(y_test, pred_labels_te_SimpleSMOTEETOMEK_1nl), 4)\n",
    "plt.plot(fpr,tpr,label=\"Simple_SMOTETOMEK_1n1l, AUC=\"+str(auc))\n",
    "\n",
    "\n",
    "\n",
    "\n",
    "\n",
    "#add legend\n",
    "plt.legend()"
   ]
  },
  {
   "cell_type": "code",
   "execution_count": 10,
   "id": "174bb5bf",
   "metadata": {},
   "outputs": [
    {
     "name": "stdout",
     "output_type": "stream",
     "text": [
      "WARNING:tensorflow:Falling back from v2 loop because of error: Failed to find data adapter that can handle input: <class 'pandas.core.frame.DataFrame'>, <class 'NoneType'>\n",
      "Train on 8508348 samples, validate on 688402 samples\n",
      "Epoch 1/7\n",
      "8508348/8508348 [==============================] - 5203s 612us/sample - loss: 0.4205 - accuracy: 0.7960 - val_loss: 0.4329 - val_accuracy: 0.8055\n",
      "Epoch 2/7\n",
      "8508348/8508348 [==============================] - 4941s 581us/sample - loss: 0.4117 - accuracy: 0.8013 - val_loss: 0.5264 - val_accuracy: 0.7827\n",
      "Epoch 3/7\n",
      "8508348/8508348 [==============================] - 4872s 573us/sample - loss: 0.4131 - accuracy: 0.8020 - val_loss: 0.3791 - val_accuracy: 0.8037\n",
      "Epoch 4/7\n",
      "8508348/8508348 [==============================] - 4988s 586us/sample - loss: 0.4140 - accuracy: 0.8014 - val_loss: 0.4598 - val_accuracy: 0.7689\n",
      "Epoch 5/7\n",
      "8508348/8508348 [==============================] - 5008s 589us/sample - loss: 0.4126 - accuracy: 0.8029 - val_loss: 0.4699 - val_accuracy: 0.7843\n",
      "Epoch 6/7\n",
      "8508348/8508348 [==============================] - 4884s 574us/sample - loss: 0.4136 - accuracy: 0.8030 - val_loss: 0.4185 - val_accuracy: 0.8316\n",
      "Epoch 7/7\n",
      "8508348/8508348 [==============================] - 5034s 592us/sample - loss: 0.4128 - accuracy: 0.8035 - val_loss: 0.4246 - val_accuracy: 0.8376\n"
     ]
    },
    {
     "data": {
      "text/plain": [
       "<tensorflow.python.keras.callbacks.History at 0x7fb4d48efd50>"
      ]
     },
     "execution_count": 10,
     "metadata": {},
     "output_type": "execute_result"
    }
   ],
   "source": [
    "##### Step 5 - Specify the structure of a Neural Network\n",
    "model_complexSMOTETomek_523n_4l = tf.keras.models.Sequential([\n",
    "    tf.keras.layers.Flatten(input_shape=(8,)),\n",
    "    tf.keras.layers.Dense(512, activation='tanh', name='Hidden-Layer1'),\n",
    "    tf.keras.layers.Dense(512, activation='tanh', name='Hidden-Layer2'),\n",
    "    tf.keras.layers.Dense(512, activation='tanh', name='Hidden-Layer3'),\n",
    "    tf.keras.layers.Dense(512, activation='tanh', name='Hidden-Layer4'),\n",
    "    tf.keras.layers.Dropout(0.2),\n",
    "    tf.keras.layers.Dense(1, activation='sigmoid', name='Output-Layer')\n",
    "])\n",
    "\n",
    "checkpoint_filepath = '/tmp/checkpoint2'\n",
    "model_checkpoint_callback = tf.keras.callbacks.ModelCheckpoint(\n",
    "    filepath=checkpoint_filepath,\n",
    "    save_weights_only=True,\n",
    "    monitor='val_accuracy',\n",
    "    mode='max',\n",
    "    save_best_only=True)\n",
    "\n",
    "\n",
    "model_complexSMOTETomek_523n_4l.compile(optimizer='adam',\n",
    "    loss='binary_crossentropy',\n",
    "    metrics=['accuracy'])\n",
    "\n",
    "model_complexSMOTETomek_523n_4l.fit(X_training_smtmek, Y_traning_smtmek, epochs = 7 ,callbacks=[model_checkpoint_callback],  validation_data=(x_validation, y_validation))#*********more epochs = 5\n"
   ]
  },
  {
   "cell_type": "code",
   "execution_count": 13,
   "id": "74213023",
   "metadata": {},
   "outputs": [
    {
     "name": "stdout",
     "output_type": "stream",
     "text": [
      "INFO:tensorflow:Assets written to: model_complexSMOTETomek_523n_4l/assets\n"
     ]
    }
   ],
   "source": [
    "model_complexSMOTETomek_523n_4l.save('model_complexSMOTETomek_523n_4l')\n",
    "model_complexSMOTETomek_523n_4l.save('model_complexSMOTETomek_523n_4l.h5')"
   ]
  },
  {
   "cell_type": "code",
   "execution_count": 11,
   "id": "13f595b0",
   "metadata": {},
   "outputs": [
    {
     "name": "stdout",
     "output_type": "stream",
     "text": [
      "WARNING:tensorflow:Falling back from v2 loop because of error: Failed to find data adapter that can handle input: <class 'pandas.core.frame.DataFrame'>, <class 'NoneType'>\n",
      "WARNING:tensorflow:Falling back from v2 loop because of error: Failed to find data adapter that can handle input: <class 'pandas.core.frame.DataFrame'>, <class 'NoneType'>\n",
      "\n",
      "-------------------- Model Summary --------------------\n",
      "Model: \"sequential_2\"\n",
      "_________________________________________________________________\n",
      "Layer (type)                 Output Shape              Param #   \n",
      "=================================================================\n",
      "flatten_2 (Flatten)          (None, 8)                 0         \n",
      "_________________________________________________________________\n",
      "Hidden-Layer1 (Dense)        (None, 512)               4608      \n",
      "_________________________________________________________________\n",
      "Hidden-Layer2 (Dense)        (None, 512)               262656    \n",
      "_________________________________________________________________\n",
      "Hidden-Layer3 (Dense)        (None, 512)               262656    \n",
      "_________________________________________________________________\n",
      "Hidden-Layer4 (Dense)        (None, 512)               262656    \n",
      "_________________________________________________________________\n",
      "dropout_2 (Dropout)          (None, 512)               0         \n",
      "_________________________________________________________________\n",
      "Output-Layer (Dense)         (None, 1)                 513       \n",
      "=================================================================\n",
      "Total params: 793,089\n",
      "Trainable params: 793,089\n",
      "Non-trainable params: 0\n",
      "_________________________________________________________________\n",
      "\n",
      "-------------------- Weights and Biases --------------------\n",
      "Layer:  flatten_2\n",
      "Layer:  Hidden-Layer1\n",
      "Layer:  Hidden-Layer2\n",
      "Layer:  Hidden-Layer3\n",
      "Layer:  Hidden-Layer4\n",
      "Layer:  dropout_2\n",
      "Layer:  Output-Layer\n",
      "\n",
      "---------- Evaluation on Training Data ----------\n",
      "              precision    recall  f1-score   support\n",
      "\n",
      "         0.0       1.00      0.84      0.91   4254174\n",
      "         1.0       0.02      0.77      0.03     14597\n",
      "\n",
      "    accuracy                           0.84   4268771\n",
      "   macro avg       0.51      0.80      0.47   4268771\n",
      "weighted avg       1.00      0.84      0.91   4268771\n",
      "\n",
      "\n",
      "---------- Evaluation on Test Data ----------\n",
      "              precision    recall  f1-score   support\n",
      "\n",
      "         0.0       1.00      0.83      0.91    537732\n",
      "         1.0       0.02      0.83      0.03      1755\n",
      "\n",
      "    accuracy                           0.83    539487\n",
      "   macro avg       0.51      0.83      0.47    539487\n",
      "weighted avg       1.00      0.83      0.91    539487\n",
      "\n",
      "\n"
     ]
    },
    {
     "data": {
      "text/plain": [
       "<sklearn.metrics._plot.confusion_matrix.ConfusionMatrixDisplay at 0x7fb4d42d5d10>"
      ]
     },
     "execution_count": 11,
     "metadata": {},
     "output_type": "execute_result"
    },
    {
     "data": {
      "image/png": "[encoded data removed]",
      "text/plain": [
       "<Figure size 432x288 with 1 Axes>"
      ]
     },
     "metadata": {
      "needs_background": "light"
     },
     "output_type": "display_data"
    },
    {
     "data": {
      "image/png": "[encoded data removed]",
      "text/plain": [
       "<Figure size 432x288 with 1 Axes>"
      ]
     },
     "metadata": {
      "needs_background": "light"
     },
     "output_type": "display_data"
    }
   ],
   "source": [
    "##### Step 6 - Use model to make predictions\n",
    "# Predict class labels on training data\n",
    "pred_labels_tr_complexSMOTETomek_523n_4l_prob = (model_complexSMOTETomek_523n_4l.predict(x_training)> 0.5).astype(int)\n",
    "# Predict class labels on a test data\n",
    "pred_labels_te_complexSMOTETomek_523n_4l_prob = (model_complexSMOTETomek_523n_4l.predict(x_test)> 0.5).astype(int)\n",
    "#> 0.01).astype(int)\n",
    "\n",
    "\n",
    "##### Step 7 - Model Performance Summary\n",
    "print(\"\")\n",
    "print('-------------------- Model Summary --------------------')\n",
    "model_complexSMOTETomek_523n_4l.summary() # print model summary\n",
    "print(\"\")\n",
    "print('-------------------- Weights and Biases --------------------')\n",
    "for layer in model_complexSMOTETomek_523n_4l.layers:\n",
    "    print(\"Layer: \", layer.name) # print layer name\n",
    "    \n",
    "print(\"\")\n",
    "print('---------- Evaluation on Training Data ----------')\n",
    "print(classification_report(y_training, pred_labels_tr_complexSMOTETomek_523n_4l_prob))\n",
    "print(\"\")\n",
    "\n",
    "print('---------- Evaluation on Test Data ----------')\n",
    "print(classification_report(y_test, pred_labels_te_complexSMOTETomek_523n_4l_prob))\n",
    "print(\"\")\n",
    "\n",
    "from sklearn.metrics import confusion_matrix\n",
    "import matplotlib.pyplot as plt\n",
    "\n",
    "from sklearn.metrics import ConfusionMatrixDisplay\n",
    "ConfusionMatrixDisplay(confusion_matrix(y_test, pred_labels_te_complexSMOTETomek_523n_4l_prob)).plot(colorbar=False,cmap=plt.cm.Blues)\n",
    "ConfusionMatrixDisplay(confusion_matrix(y_test, pred_labels_te_complexSMOTETomek_523n_4l_prob,normalize='true')).plot(colorbar=False,cmap=plt.cm.Blues)"
   ]
  },
  {
   "cell_type": "code",
   "execution_count": 12,
   "id": "a7f6732a",
   "metadata": {},
   "outputs": [
    {
     "name": "stdout",
     "output_type": "stream",
     "text": [
      "WARNING:tensorflow:Falling back from v2 loop because of error: Failed to find data adapter that can handle input: <class 'pandas.core.frame.DataFrame'>, <class 'NoneType'>\n",
      "WARNING:tensorflow:Falling back from v2 loop because of error: Failed to find data adapter that can handle input: <class 'pandas.core.frame.DataFrame'>, <class 'NoneType'>\n",
      "\n",
      "-------------------- Model Summary --------------------\n",
      "Model: \"sequential_2\"\n",
      "_________________________________________________________________\n",
      "Layer (type)                 Output Shape              Param #   \n",
      "=================================================================\n",
      "flatten_2 (Flatten)          (None, 8)                 0         \n",
      "_________________________________________________________________\n",
      "Hidden-Layer1 (Dense)        (None, 512)               4608      \n",
      "_________________________________________________________________\n",
      "Hidden-Layer2 (Dense)        (None, 512)               262656    \n",
      "_________________________________________________________________\n",
      "Hidden-Layer3 (Dense)        (None, 512)               262656    \n",
      "_________________________________________________________________\n",
      "Hidden-Layer4 (Dense)        (None, 512)               262656    \n",
      "_________________________________________________________________\n",
      "dropout_2 (Dropout)          (None, 512)               0         \n",
      "_________________________________________________________________\n",
      "Output-Layer (Dense)         (None, 1)                 513       \n",
      "=================================================================\n",
      "Total params: 793,089\n",
      "Trainable params: 793,089\n",
      "Non-trainable params: 0\n",
      "_________________________________________________________________\n",
      "\n"
     ]
    },
    {
     "data": {
      "text/plain": [
       "<matplotlib.legend.Legend at 0x7fb4d3dc5810>"
      ]
     },
     "execution_count": 12,
     "metadata": {},
     "output_type": "execute_result"
    },
    {
     "data": {
      "image/png": "[encoded data removed]",
      "text/plain": [
       "<Figure size 432x288 with 1 Axes>"
      ]
     },
     "metadata": {
      "needs_background": "light"
     },
     "output_type": "display_data"
    }
   ],
   "source": [
    "##### Step 6 - Use model to make predictions\n",
    "# Predict class labels on training data\n",
    "pred_labels_tr_complexSMOTETomek_523n_4l = (model_complexSMOTETomek_523n_4l.predict(x_training))\n",
    "# Predict class labels on a test data\n",
    "pred_labels_te_complexSMOTETomek_523n_4l = (model_complexSMOTETomek_523n_4l.predict(x_test))\n",
    "#> 0.01).astype(int)\n",
    "\n",
    "\n",
    "##### Step 7 - Model Performance Summary\n",
    "print(\"\")\n",
    "print('-------------------- Model Summary --------------------')\n",
    "model_complexSMOTETomek_523n_4l.summary() # print model summary\n",
    "print(\"\")\n",
    "\n",
    "\n",
    "from sklearn import metrics\n",
    "from sklearn import datasets\n",
    "from sklearn.model_selection import train_test_split\n",
    "from sklearn.linear_model import LogisticRegression\n",
    "from sklearn.ensemble import GradientBoostingClassifier\n",
    "import numpy as np\n",
    "import matplotlib.pyplot as plt\n",
    "\n",
    "plt.figure(0).clf()\n",
    "\n",
    "\n",
    "fpr, tpr, _ = metrics.roc_curve(y_test, pred_labels_te_complexSMOTETomek_523n_4l)\n",
    "auc = round(metrics.roc_auc_score(y_test, pred_labels_te_complexSMOTETomek_523n_4l), 4)\n",
    "plt.plot(fpr,tpr,label=\"complex_SMOTETOMEK_512n4l, AUC=\"+str(auc))\n",
    "\n",
    "\n",
    "\n",
    "\n",
    "\n",
    "#add legend\n",
    "plt.legend()"
   ]
  },
  {
   "cell_type": "code",
   "execution_count": 5,
   "id": "6c397c54",
   "metadata": {},
   "outputs": [
    {
     "name": "stdout",
     "output_type": "stream",
     "text": [
      "WARNING:tensorflow:Falling back from v2 loop because of error: Failed to find data adapter that can handle input: <class 'pandas.core.frame.DataFrame'>, <class 'NoneType'>\n"
     ]
    },
    {
     "name": "stderr",
     "output_type": "stream",
     "text": [
      "2022-07-08 15:30:17.628647: I tensorflow/core/platform/cpu_feature_guard.cc:145] This TensorFlow binary is optimized with Intel(R) MKL-DNN to use the following CPU instructions in performance critical operations:  SSE4.1 SSE4.2\n",
      "To enable them in non-MKL-DNN operations, rebuild TensorFlow with the appropriate compiler flags.\n",
      "2022-07-08 15:30:17.631686: I tensorflow/core/common_runtime/process_util.cc:115] Creating new thread pool with default inter op setting: 8. Tune using inter_op_parallelism_threads for best performance.\n"
     ]
    },
    {
     "name": "stdout",
     "output_type": "stream",
     "text": [
      "Train on 8508348 samples, validate on 688402 samples\n",
      "Epoch 1/7\n",
      "8508348/8508348 [==============================] - 2027s 238us/sample - loss: 0.4020 - accuracy: 0.8066 - val_loss: 0.4095 - val_accuracy: 0.8231\n",
      "Epoch 2/7\n",
      "8508348/8508348 [==============================] - 1977s 232us/sample - loss: 0.3900 - accuracy: 0.8140 - val_loss: 0.3589 - val_accuracy: 0.8630\n",
      "Epoch 3/7\n",
      "8508348/8508348 [==============================] - 2056s 242us/sample - loss: 0.3878 - accuracy: 0.8153 - val_loss: 0.4376 - val_accuracy: 0.7716\n",
      "Epoch 4/7\n",
      "8508348/8508348 [==============================] - 2013s 237us/sample - loss: 0.3881 - accuracy: 0.8150 - val_loss: 0.4615 - val_accuracy: 0.7611\n",
      "Epoch 5/7\n",
      "8508348/8508348 [==============================] - 2918s 343us/sample - loss: 0.3905 - accuracy: 0.8138 - val_loss: 0.3809 - val_accuracy: 0.8126\n",
      "Epoch 6/7\n",
      "8508348/8508348 [==============================] - 3388s 398us/sample - loss: 0.3920 - accuracy: 0.8134 - val_loss: 0.3922 - val_accuracy: 0.8140\n",
      "Epoch 7/7\n",
      "8508348/8508348 [==============================] - 2230s 262us/sample - loss: 0.3932 - accuracy: 0.8131 - val_loss: 0.3876 - val_accuracy: 0.8297\n"
     ]
    },
    {
     "data": {
      "text/plain": [
       "<tensorflow.python.keras.callbacks.History at 0x7f843b2632d0>"
      ]
     },
     "execution_count": 5,
     "metadata": {},
     "output_type": "execute_result"
    }
   ],
   "source": [
    "##### Step 5 - Specify the structure of a Neural Network\n",
    "model_complexSMOTETomek_256n_4l = tf.keras.models.Sequential([\n",
    "    tf.keras.layers.Flatten(input_shape=(8,)),\n",
    "    tf.keras.layers.Dense(256, activation='tanh', name='Hidden-Layer1'),\n",
    "    tf.keras.layers.Dense(256, activation='tanh', name='Hidden-Layer2'),\n",
    "    tf.keras.layers.Dense(256, activation='tanh', name='Hidden-Layer3'),\n",
    "    tf.keras.layers.Dense(256, activation='tanh', name='Hidden-Layer4'),\n",
    "    tf.keras.layers.Dropout(0.2),\n",
    "    tf.keras.layers.Dense(1, activation='sigmoid', name='Output-Layer')\n",
    "])\n",
    "\n",
    "checkpoint_filepath = '/tmp/checkpointcomplexSMOTETomek_256n_4l'\n",
    "model_checkpoint_callback = tf.keras.callbacks.ModelCheckpoint(\n",
    "    filepath=checkpoint_filepath,\n",
    "    save_weights_only=True,\n",
    "    monitor='val_loss',\n",
    "    mode='max',\n",
    "    save_best_only=True)\n",
    "\n",
    "\n",
    "model_complexSMOTETomek_256n_4l.compile(optimizer='adam',\n",
    "    loss='binary_crossentropy',\n",
    "    metrics=['accuracy'])\n",
    "\n",
    "model_complexSMOTETomek_256n_4l.fit(X_training_smtmek, Y_traning_smtmek, epochs = 7 ,callbacks=[model_checkpoint_callback],  validation_data=(x_validation, y_validation))#*********more epochs = 5\n"
   ]
  },
  {
   "cell_type": "code",
   "execution_count": 6,
   "id": "50387457",
   "metadata": {},
   "outputs": [
    {
     "name": "stdout",
     "output_type": "stream",
     "text": [
      "WARNING:tensorflow:From /Users/3rfanian/opt/anaconda3/envs/project_thesis/lib/python3.7/site-packages/tensorflow_core/python/ops/resource_variable_ops.py:1781: calling BaseResourceVariable.__init__ (from tensorflow.python.ops.resource_variable_ops) with constraint is deprecated and will be removed in a future version.\n",
      "Instructions for updating:\n",
      "If using Keras pass *_constraint arguments to layers.\n"
     ]
    },
    {
     "name": "stderr",
     "output_type": "stream",
     "text": [
      "2022-07-08 20:13:48.859440: W tensorflow/python/util/util.cc:299] Sets are not currently considered sequences, but this may change in the future, so consider avoiding using them.\n"
     ]
    },
    {
     "name": "stdout",
     "output_type": "stream",
     "text": [
      "INFO:tensorflow:Assets written to: model_complexSMOTETomek_256n_4l/assets\n"
     ]
    }
   ],
   "source": [
    "model_complexSMOTETomek_256n_4l.save('model_complexSMOTETomek_256n_4l')\n",
    "model_complexSMOTETomek_256n_4l.save('model_complexSMOTETomek_256n_4l.h5')"
   ]
  },
  {
   "cell_type": "code",
   "execution_count": 7,
   "id": "cc691492",
   "metadata": {},
   "outputs": [
    {
     "name": "stdout",
     "output_type": "stream",
     "text": [
      "WARNING:tensorflow:Falling back from v2 loop because of error: Failed to find data adapter that can handle input: <class 'pandas.core.frame.DataFrame'>, <class 'NoneType'>\n",
      "WARNING:tensorflow:Falling back from v2 loop because of error: Failed to find data adapter that can handle input: <class 'pandas.core.frame.DataFrame'>, <class 'NoneType'>\n",
      "\n",
      "-------------------- Model Summary --------------------\n",
      "Model: \"sequential\"\n",
      "_________________________________________________________________\n",
      "Layer (type)                 Output Shape              Param #   \n",
      "=================================================================\n",
      "flatten (Flatten)            (None, 8)                 0         \n",
      "_________________________________________________________________\n",
      "Hidden-Layer1 (Dense)        (None, 256)               2304      \n",
      "_________________________________________________________________\n",
      "Hidden-Layer2 (Dense)        (None, 256)               65792     \n",
      "_________________________________________________________________\n",
      "Hidden-Layer3 (Dense)        (None, 256)               65792     \n",
      "_________________________________________________________________\n",
      "Hidden-Layer4 (Dense)        (None, 256)               65792     \n",
      "_________________________________________________________________\n",
      "dropout (Dropout)            (None, 256)               0         \n",
      "_________________________________________________________________\n",
      "Output-Layer (Dense)         (None, 1)                 257       \n",
      "=================================================================\n",
      "Total params: 199,937\n",
      "Trainable params: 199,937\n",
      "Non-trainable params: 0\n",
      "_________________________________________________________________\n",
      "\n",
      "-------------------- Weights and Biases --------------------\n",
      "Layer:  flatten\n",
      "Layer:  Hidden-Layer1\n",
      "Layer:  Hidden-Layer2\n",
      "Layer:  Hidden-Layer3\n",
      "Layer:  Hidden-Layer4\n",
      "Layer:  dropout\n",
      "Layer:  Output-Layer\n",
      "\n",
      "---------- Evaluation on Training Data ----------\n",
      "              precision    recall  f1-score   support\n",
      "\n",
      "         0.0       1.00      0.83      0.91   4254174\n",
      "         1.0       0.02      0.79      0.03     14597\n",
      "\n",
      "    accuracy                           0.83   4268771\n",
      "   macro avg       0.51      0.81      0.47   4268771\n",
      "weighted avg       1.00      0.83      0.90   4268771\n",
      "\n",
      "\n",
      "---------- Evaluation on Test Data ----------\n",
      "              precision    recall  f1-score   support\n",
      "\n",
      "         0.0       1.00      0.83      0.91    537732\n",
      "         1.0       0.02      0.87      0.03      1755\n",
      "\n",
      "    accuracy                           0.83    539487\n",
      "   macro avg       0.51      0.85      0.47    539487\n",
      "weighted avg       1.00      0.83      0.90    539487\n",
      "\n",
      "\n"
     ]
    },
    {
     "data": {
      "text/plain": [
       "<sklearn.metrics._plot.confusion_matrix.ConfusionMatrixDisplay at 0x7f84a19ce910>"
      ]
     },
     "execution_count": 7,
     "metadata": {},
     "output_type": "execute_result"
    },
    {
     "data": {
      "image/png": "[encoded data removed]",
      "text/plain": [
       "<Figure size 432x288 with 1 Axes>"
      ]
     },
     "metadata": {
      "needs_background": "light"
     },
     "output_type": "display_data"
    },
    {
     "data": {
      "image/png": "[encoded data removed]",
      "text/plain": [
       "<Figure size 432x288 with 1 Axes>"
      ]
     },
     "metadata": {
      "needs_background": "light"
     },
     "output_type": "display_data"
    }
   ],
   "source": [
    "##### Step 6 - Use model to make predictions\n",
    "# Predict class labels on training data\n",
    "pred_labels_tr_complx_SMOTETomek_4l_256n = (model_complexSMOTETomek_256n_4l.predict(x_training)> 0.5).astype(int)\n",
    "# Predict class labels on a test data\n",
    "pred_labels_te_complx_SMOTETomek_4l_256n = (model_complexSMOTETomek_256n_4l.predict(x_test)> 0.5).astype(int)\n",
    "#> 0.01).astype(int)\n",
    "\n",
    "\n",
    "##### Step 7 - Model Performance Summary\n",
    "print(\"\")\n",
    "print('-------------------- Model Summary --------------------')\n",
    "model_complexSMOTETomek_256n_4l.summary() # print model summary\n",
    "print(\"\")\n",
    "print('-------------------- Weights and Biases --------------------')\n",
    "for layer in model_complexSMOTETomek_256n_4l.layers:\n",
    "    print(\"Layer: \", layer.name) # print layer name\n",
    "    \n",
    "print(\"\")\n",
    "print('---------- Evaluation on Training Data ----------')\n",
    "print(classification_report(y_training, pred_labels_tr_complx_SMOTETomek_4l_256n))\n",
    "print(\"\")\n",
    "\n",
    "print('---------- Evaluation on Test Data ----------')\n",
    "print(classification_report(y_test, pred_labels_te_complx_SMOTETomek_4l_256n))\n",
    "print(\"\")\n",
    "\n",
    "from sklearn.metrics import confusion_matrix\n",
    "import matplotlib.pyplot as plt\n",
    "\n",
    "from sklearn.metrics import ConfusionMatrixDisplay\n",
    "ConfusionMatrixDisplay(confusion_matrix(y_test, pred_labels_te_complx_SMOTETomek_4l_256n)).plot(colorbar=False,cmap=plt.cm.Blues)\n",
    "ConfusionMatrixDisplay(confusion_matrix(y_test, pred_labels_te_complx_SMOTETomek_4l_256n,normalize='true')).plot(colorbar=False,cmap=plt.cm.Blues)"
   ]
  },
  {
   "cell_type": "code",
   "execution_count": 8,
   "id": "437636d0",
   "metadata": {},
   "outputs": [
    {
     "name": "stdout",
     "output_type": "stream",
     "text": [
      "WARNING:tensorflow:Falling back from v2 loop because of error: Failed to find data adapter that can handle input: <class 'pandas.core.frame.DataFrame'>, <class 'NoneType'>\n",
      "WARNING:tensorflow:Falling back from v2 loop because of error: Failed to find data adapter that can handle input: <class 'pandas.core.frame.DataFrame'>, <class 'NoneType'>\n",
      "\n",
      "-------------------- Model Summary --------------------\n",
      "Model: \"sequential\"\n",
      "_________________________________________________________________\n",
      "Layer (type)                 Output Shape              Param #   \n",
      "=================================================================\n",
      "flatten (Flatten)            (None, 8)                 0         \n",
      "_________________________________________________________________\n",
      "Hidden-Layer1 (Dense)        (None, 256)               2304      \n",
      "_________________________________________________________________\n",
      "Hidden-Layer2 (Dense)        (None, 256)               65792     \n",
      "_________________________________________________________________\n",
      "Hidden-Layer3 (Dense)        (None, 256)               65792     \n",
      "_________________________________________________________________\n",
      "Hidden-Layer4 (Dense)        (None, 256)               65792     \n",
      "_________________________________________________________________\n",
      "dropout (Dropout)            (None, 256)               0         \n",
      "_________________________________________________________________\n",
      "Output-Layer (Dense)         (None, 1)                 257       \n",
      "=================================================================\n",
      "Total params: 199,937\n",
      "Trainable params: 199,937\n",
      "Non-trainable params: 0\n",
      "_________________________________________________________________\n",
      "\n"
     ]
    },
    {
     "data": {
      "text/plain": [
       "<matplotlib.legend.Legend at 0x7f84939ff550>"
      ]
     },
     "execution_count": 8,
     "metadata": {},
     "output_type": "execute_result"
    },
    {
     "data": {
      "image/png": "[encoded data removed]",
      "text/plain": [
       "<Figure size 432x288 with 1 Axes>"
      ]
     },
     "metadata": {
      "needs_background": "light"
     },
     "output_type": "display_data"
    }
   ],
   "source": [
    "##### Step 6 - Use model to make predictions\n",
    "# Predict class labels on training data\n",
    "pred_labels_tr_complx_SMOTETomek_4l_256n_prob = (model_complexSMOTETomek_256n_4l.predict(x_training))\n",
    "# Predict class labels on a test data\n",
    "pred_labels_te_complx_SMOTETomek_4l_256n_prob = (model_complexSMOTETomek_256n_4l.predict(x_test))\n",
    "#> 0.01).astype(int)\n",
    "\n",
    "\n",
    "##### Step 7 - Model Performance Summary\n",
    "print(\"\")\n",
    "print('-------------------- Model Summary --------------------')\n",
    "model_complexSMOTETomek_256n_4l.summary() # print model summary\n",
    "print(\"\")\n",
    "\n",
    "\n",
    "from sklearn import metrics\n",
    "from sklearn import datasets\n",
    "from sklearn.model_selection import train_test_split\n",
    "from sklearn.linear_model import LogisticRegression\n",
    "from sklearn.ensemble import GradientBoostingClassifier\n",
    "import numpy as np\n",
    "import matplotlib.pyplot as plt\n",
    "\n",
    "plt.figure(0).clf()\n",
    "\n",
    "\n",
    "fpr, tpr, _ = metrics.roc_curve(y_test, pred_labels_te_complx_SMOTETomek_4l_256n_prob)\n",
    "auc = round(metrics.roc_auc_score(y_test, pred_labels_te_complx_SMOTETomek_4l_256n_prob), 4)\n",
    "plt.plot(fpr,tpr,label=\"complx_SMOTETOMEK_4l_256n, AUC=\"+str(auc))\n",
    "\n",
    "\n",
    "\n",
    "\n",
    "\n",
    "#add legend\n",
    "plt.legend()"
   ]
  },
  {
   "cell_type": "code",
   "execution_count": 9,
   "id": "d9b8713f",
   "metadata": {},
   "outputs": [
    {
     "name": "stdout",
     "output_type": "stream",
     "text": [
      "WARNING:tensorflow:Falling back from v2 loop because of error: Failed to find data adapter that can handle input: <class 'pandas.core.frame.DataFrame'>, <class 'NoneType'>\n",
      "Train on 8508348 samples, validate on 688402 samples\n",
      "Epoch 1/25\n",
      "8508348/8508348 [==============================] - 320s 38us/sample - loss: 0.5142 - accuracy: 0.7406 - val_loss: 0.5036 - val_accuracy: 0.8363\n",
      "Epoch 2/25\n",
      "8508348/8508348 [==============================] - 646s 76us/sample - loss: 0.4938 - accuracy: 0.7543 - val_loss: 0.4569 - val_accuracy: 0.8438\n",
      "Epoch 3/25\n",
      "8508348/8508348 [==============================] - 1636s 192us/sample - loss: 0.4893 - accuracy: 0.7578 - val_loss: 0.4456 - val_accuracy: 0.8265\n",
      "Epoch 4/25\n",
      "8508348/8508348 [==============================] - 432s 51us/sample - loss: 0.4891 - accuracy: 0.7580 - val_loss: 0.4362 - val_accuracy: 0.7421\n",
      "Epoch 5/25\n",
      "8508348/8508348 [==============================] - 564s 66us/sample - loss: 0.4889 - accuracy: 0.7581 - val_loss: 0.4935 - val_accuracy: 0.6820\n",
      "Epoch 6/25\n",
      "8508348/8508348 [==============================] - 318s 37us/sample - loss: 0.4890 - accuracy: 0.7583 - val_loss: 0.4372 - val_accuracy: 0.8634\n",
      "Epoch 7/25\n",
      "8508348/8508348 [==============================] - 606s 71us/sample - loss: 0.4889 - accuracy: 0.7583 - val_loss: 0.4901 - val_accuracy: 0.8000\n",
      "Epoch 8/25\n",
      "8508348/8508348 [==============================] - 321s 38us/sample - loss: 0.4889 - accuracy: 0.7582 - val_loss: 0.4698 - val_accuracy: 0.8456\n",
      "Epoch 9/25\n",
      "8508348/8508348 [==============================] - 339s 40us/sample - loss: 0.4888 - accuracy: 0.7583 - val_loss: 0.4588 - val_accuracy: 0.8538\n",
      "Epoch 10/25\n",
      "8508348/8508348 [==============================] - 565s 66us/sample - loss: 0.4887 - accuracy: 0.7582 - val_loss: 0.4594 - val_accuracy: 0.8539\n",
      "Epoch 11/25\n",
      "8508348/8508348 [==============================] - 496s 58us/sample - loss: 0.4887 - accuracy: 0.7578 - val_loss: 0.4837 - val_accuracy: 0.7516\n",
      "Epoch 12/25\n",
      "8508348/8508348 [==============================] - 325s 38us/sample - loss: 0.4887 - accuracy: 0.7576 - val_loss: 0.4759 - val_accuracy: 0.8584\n",
      "Epoch 13/25\n",
      "8508348/8508348 [==============================] - 325s 38us/sample - loss: 0.4886 - accuracy: 0.7584 - val_loss: 0.5042 - val_accuracy: 0.8339\n",
      "Epoch 14/25\n",
      "8508348/8508348 [==============================] - 450s 53us/sample - loss: 0.4885 - accuracy: 0.7583 - val_loss: 0.4652 - val_accuracy: 0.8303\n",
      "Epoch 15/25\n",
      "8508348/8508348 [==============================] - 539s 63us/sample - loss: 0.4887 - accuracy: 0.7588 - val_loss: 0.4665 - val_accuracy: 0.7353\n",
      "Epoch 16/25\n",
      "8508348/8508348 [==============================] - 322s 38us/sample - loss: 0.4884 - accuracy: 0.7586 - val_loss: 0.4753 - val_accuracy: 0.8421\n",
      "Epoch 17/25\n",
      "8508348/8508348 [==============================] - 330s 39us/sample - loss: 0.4887 - accuracy: 0.7581 - val_loss: 0.4989 - val_accuracy: 0.6850\n",
      "Epoch 18/25\n",
      "8508348/8508348 [==============================] - 365s 43us/sample - loss: 0.4884 - accuracy: 0.7584 - val_loss: 0.4626 - val_accuracy: 0.7201\n",
      "Epoch 19/25\n",
      "8508348/8508348 [==============================] - 324s 38us/sample - loss: 0.4884 - accuracy: 0.7582 - val_loss: 0.4746 - val_accuracy: 0.8321\n",
      "Epoch 20/25\n",
      "8508348/8508348 [==============================] - 318s 37us/sample - loss: 0.4887 - accuracy: 0.7585 - val_loss: 0.4663 - val_accuracy: 0.8454\n",
      "Epoch 21/25\n",
      "8508348/8508348 [==============================] - 351s 41us/sample - loss: 0.4885 - accuracy: 0.7588 - val_loss: 0.4573 - val_accuracy: 0.8412\n",
      "Epoch 22/25\n",
      "8508348/8508348 [==============================] - 325s 38us/sample - loss: 0.4883 - accuracy: 0.7591 - val_loss: 0.4605 - val_accuracy: 0.8526\n",
      "Epoch 23/25\n",
      "8508348/8508348 [==============================] - 354s 42us/sample - loss: 0.4883 - accuracy: 0.7588 - val_loss: 0.4438 - val_accuracy: 0.8763\n",
      "Epoch 24/25\n",
      "8508348/8508348 [==============================] - 544s 64us/sample - loss: 0.4884 - accuracy: 0.7590 - val_loss: 0.4556 - val_accuracy: 0.7477\n",
      "Epoch 25/25\n",
      "8508348/8508348 [==============================] - 476s 56us/sample - loss: 0.4885 - accuracy: 0.7587 - val_loss: 0.4573 - val_accuracy: 0.8672\n"
     ]
    },
    {
     "data": {
      "text/plain": [
       "<tensorflow.python.keras.callbacks.History at 0x7f839031edd0>"
      ]
     },
     "execution_count": 9,
     "metadata": {},
     "output_type": "execute_result"
    }
   ],
   "source": [
    "##### Step 5 - Specify the structure of a Neural Network\n",
    "model_simple_SMOTETomek_8n_1l = tf.keras.models.Sequential([\n",
    "    tf.keras.layers.Flatten(input_shape=(8,)),\n",
    "    tf.keras.layers.Dense(8, activation='tanh', name='Hidden-Layer1'),\n",
    "    tf.keras.layers.Dropout(0.2),\n",
    "    tf.keras.layers.Dense(1, activation='sigmoid', name='Output-Layer')\n",
    "])\n",
    "\n",
    "checkpoint_filepath = '/tmp/checkpoint8nSMOTETOMEK'\n",
    "model_checkpoint_callback = tf.keras.callbacks.ModelCheckpoint(\n",
    "    filepath=checkpoint_filepath,\n",
    "    save_weights_only=True,\n",
    "    monitor='val_accuracy',\n",
    "    mode='max',\n",
    "    save_best_only=True)\n",
    "\n",
    "\n",
    "model_simple_SMOTETomek_8n_1l.compile(optimizer='adam',\n",
    "    loss='binary_crossentropy',\n",
    "    metrics=['accuracy'])\n",
    "\n",
    "model_simple_SMOTETomek_8n_1l.fit(X_training_smtmek, Y_traning_smtmek, epochs = 25 ,callbacks=[model_checkpoint_callback],  validation_data=(x_validation, y_validation))#*********more epochs = 5\n"
   ]
  },
  {
   "cell_type": "code",
   "execution_count": 10,
   "id": "8cce9fb4",
   "metadata": {},
   "outputs": [
    {
     "name": "stdout",
     "output_type": "stream",
     "text": [
      "INFO:tensorflow:Assets written to: model_simple_SMOTETomek_8n_1l/assets\n"
     ]
    }
   ],
   "source": [
    "model_simple_SMOTETomek_8n_1l.save('model_simple_SMOTETomek_8n_1l')\n",
    "model_simple_SMOTETomek_8n_1l.save('model_simple_SMOTETomek_8n_1l.h5')"
   ]
  },
  {
   "cell_type": "code",
   "execution_count": 11,
   "id": "e18e466a",
   "metadata": {},
   "outputs": [
    {
     "name": "stdout",
     "output_type": "stream",
     "text": [
      "WARNING:tensorflow:Falling back from v2 loop because of error: Failed to find data adapter that can handle input: <class 'pandas.core.frame.DataFrame'>, <class 'NoneType'>\n",
      "WARNING:tensorflow:Falling back from v2 loop because of error: Failed to find data adapter that can handle input: <class 'pandas.core.frame.DataFrame'>, <class 'NoneType'>\n",
      "\n",
      "-------------------- Model Summary --------------------\n",
      "Model: \"sequential_1\"\n",
      "_________________________________________________________________\n",
      "Layer (type)                 Output Shape              Param #   \n",
      "=================================================================\n",
      "flatten_1 (Flatten)          (None, 8)                 0         \n",
      "_________________________________________________________________\n",
      "Hidden-Layer1 (Dense)        (None, 8)                 72        \n",
      "_________________________________________________________________\n",
      "dropout_1 (Dropout)          (None, 8)                 0         \n",
      "_________________________________________________________________\n",
      "Output-Layer (Dense)         (None, 1)                 9         \n",
      "=================================================================\n",
      "Total params: 81\n",
      "Trainable params: 81\n",
      "Non-trainable params: 0\n",
      "_________________________________________________________________\n",
      "\n",
      "-------------------- Weights and Biases --------------------\n",
      "Layer:  flatten_1\n",
      "Layer:  Hidden-Layer1\n",
      "Layer:  dropout_1\n",
      "Layer:  Output-Layer\n",
      "\n",
      "---------- Evaluation on Training Data ----------\n",
      "              precision    recall  f1-score   support\n",
      "\n",
      "         0.0       1.00      0.87      0.93   4254174\n",
      "         1.0       0.02      0.66      0.03     14597\n",
      "\n",
      "    accuracy                           0.87   4268771\n",
      "   macro avg       0.51      0.77      0.48   4268771\n",
      "weighted avg       1.00      0.87      0.93   4268771\n",
      "\n",
      "\n",
      "---------- Evaluation on Test Data ----------\n",
      "              precision    recall  f1-score   support\n",
      "\n",
      "         0.0       1.00      0.86      0.93    537732\n",
      "         1.0       0.02      0.75      0.03      1755\n",
      "\n",
      "    accuracy                           0.86    539487\n",
      "   macro avg       0.51      0.80      0.48    539487\n",
      "weighted avg       1.00      0.86      0.92    539487\n",
      "\n",
      "\n"
     ]
    },
    {
     "data": {
      "text/plain": [
       "<sklearn.metrics._plot.confusion_matrix.ConfusionMatrixDisplay at 0x7f84a4599890>"
      ]
     },
     "execution_count": 11,
     "metadata": {},
     "output_type": "execute_result"
    },
    {
     "data": {
      "image/png": "[encoded data removed]",
      "text/plain": [
       "<Figure size 432x288 with 1 Axes>"
      ]
     },
     "metadata": {
      "needs_background": "light"
     },
     "output_type": "display_data"
    },
    {
     "data": {
      "image/png": "[encoded data removed]",
      "text/plain": [
       "<Figure size 432x288 with 1 Axes>"
      ]
     },
     "metadata": {
      "needs_background": "light"
     },
     "output_type": "display_data"
    }
   ],
   "source": [
    "##### Step 6 - Use model to make predictions\n",
    "# Predict class labels on training data\n",
    "pred_labels_tr_simple_SMOTETomek_8n_1l = (model_simple_SMOTETomek_8n_1l.predict(x_training)> 0.5).astype(int)\n",
    "# Predict class labels on a test data\n",
    "pred_labels_te_simple_SMOTETomek_8n_1l = (model_simple_SMOTETomek_8n_1l.predict(x_test)> 0.5).astype(int)\n",
    "#> 0.01).astype(int)\n",
    "\n",
    "\n",
    "##### Step 7 - Model Performance Summary\n",
    "print(\"\")\n",
    "print('-------------------- Model Summary --------------------')\n",
    "model_simple_SMOTETomek_8n_1l.summary() # print model summary\n",
    "print(\"\")\n",
    "print('-------------------- Weights and Biases --------------------')\n",
    "for layer in model_simple_SMOTETomek_8n_1l.layers:\n",
    "    print(\"Layer: \", layer.name) # print layer name\n",
    "    \n",
    "print(\"\")\n",
    "print('---------- Evaluation on Training Data ----------')\n",
    "print(classification_report(y_training, pred_labels_tr_simple_SMOTETomek_8n_1l))\n",
    "print(\"\")\n",
    "\n",
    "print('---------- Evaluation on Test Data ----------')\n",
    "print(classification_report(y_test, pred_labels_te_simple_SMOTETomek_8n_1l))\n",
    "print(\"\")\n",
    "\n",
    "from sklearn.metrics import confusion_matrix\n",
    "import matplotlib.pyplot as plt\n",
    "\n",
    "from sklearn.metrics import ConfusionMatrixDisplay\n",
    "ConfusionMatrixDisplay(confusion_matrix(y_test, pred_labels_te_simple_SMOTETomek_8n_1l)).plot(colorbar=False,cmap=plt.cm.Blues)\n",
    "ConfusionMatrixDisplay(confusion_matrix(y_test, pred_labels_te_simple_SMOTETomek_8n_1l,normalize='true')).plot(colorbar=False,cmap=plt.cm.Blues)"
   ]
  },
  {
   "cell_type": "code",
   "execution_count": 12,
   "id": "f5ccd937",
   "metadata": {},
   "outputs": [
    {
     "name": "stdout",
     "output_type": "stream",
     "text": [
      "WARNING:tensorflow:Falling back from v2 loop because of error: Failed to find data adapter that can handle input: <class 'pandas.core.frame.DataFrame'>, <class 'NoneType'>\n",
      "WARNING:tensorflow:Falling back from v2 loop because of error: Failed to find data adapter that can handle input: <class 'pandas.core.frame.DataFrame'>, <class 'NoneType'>\n",
      "\n",
      "-------------------- Model Summary --------------------\n",
      "Model: \"sequential_1\"\n",
      "_________________________________________________________________\n",
      "Layer (type)                 Output Shape              Param #   \n",
      "=================================================================\n",
      "flatten_1 (Flatten)          (None, 8)                 0         \n",
      "_________________________________________________________________\n",
      "Hidden-Layer1 (Dense)        (None, 8)                 72        \n",
      "_________________________________________________________________\n",
      "dropout_1 (Dropout)          (None, 8)                 0         \n",
      "_________________________________________________________________\n",
      "Output-Layer (Dense)         (None, 1)                 9         \n",
      "=================================================================\n",
      "Total params: 81\n",
      "Trainable params: 81\n",
      "Non-trainable params: 0\n",
      "_________________________________________________________________\n",
      "\n"
     ]
    },
    {
     "data": {
      "text/plain": [
       "<matplotlib.legend.Legend at 0x7f849627a610>"
      ]
     },
     "execution_count": 12,
     "metadata": {},
     "output_type": "execute_result"
    },
    {
     "data": {
      "image/png": "[encoded data removed]",
      "text/plain": [
       "<Figure size 432x288 with 1 Axes>"
      ]
     },
     "metadata": {
      "needs_background": "light"
     },
     "output_type": "display_data"
    }
   ],
   "source": [
    "##### Step 6 - Use model to make predictions\n",
    "# Predict class labels on training data\n",
    "pred_labels_tr_simple_SMOTETomek_8n_1l_prob = (model_simple_SMOTETomek_8n_1l.predict(x_training))\n",
    "# Predict class labels on a test data\n",
    "pred_labels_te_simple_SMOTETomek_8n_1l_prob = (model_simple_SMOTETomek_8n_1l.predict(x_test))\n",
    "#> 0.01).astype(int)\n",
    "\n",
    "\n",
    "##### Step 7 - Model Performance Summary\n",
    "print(\"\")\n",
    "print('-------------------- Model Summary --------------------')\n",
    "model_simple_SMOTETomek_8n_1l.summary() # print model summary\n",
    "print(\"\")\n",
    "\n",
    "\n",
    "from sklearn import metrics\n",
    "from sklearn import datasets\n",
    "from sklearn.model_selection import train_test_split\n",
    "from sklearn.linear_model import LogisticRegression\n",
    "from sklearn.ensemble import GradientBoostingClassifier\n",
    "import numpy as np\n",
    "import matplotlib.pyplot as plt\n",
    "\n",
    "plt.figure(0).clf()\n",
    "\n",
    "\n",
    "fpr, tpr, _ = metrics.roc_curve(y_test, pred_labels_te_simple_SMOTETomek_8n_1l_prob)\n",
    "auc = round(metrics.roc_auc_score(y_test, pred_labels_te_simple_SMOTETomek_8n_1l_prob), 4)\n",
    "plt.plot(fpr,tpr,label=\"simple_SMOTETomek_8n_1l, AUC=\"+str(auc))\n",
    "\n",
    "\n",
    "\n",
    "\n",
    "\n",
    "#add legend\n",
    "plt.legend()"
   ]
  },
  {
   "cell_type": "code",
   "execution_count": 14,
   "id": "17d31dbf",
   "metadata": {},
   "outputs": [
    {
     "name": "stdout",
     "output_type": "stream",
     "text": [
      "WARNING:tensorflow:Falling back from v2 loop because of error: Failed to find data adapter that can handle input: <class 'pandas.core.frame.DataFrame'>, <class 'NoneType'>\n",
      "Train on 8508348 samples, validate on 688402 samples\n",
      "Epoch 1/10\n",
      "8508348/8508348 [==============================] - 2310s 271us/sample - loss: 0.4077 - accuracy: 0.8050 - val_loss: 0.4802 - val_accuracy: 0.7541\n",
      "Epoch 2/10\n",
      "8508348/8508348 [==============================] - 1495s 176us/sample - loss: 0.3945 - accuracy: 0.8131 - val_loss: 0.2906 - val_accuracy: 0.8796\n",
      "Epoch 3/10\n",
      "8508348/8508348 [==============================] - 2108s 248us/sample - loss: 0.3909 - accuracy: 0.8148 - val_loss: 0.3861 - val_accuracy: 0.8181\n",
      "Epoch 4/10\n",
      "8508348/8508348 [==============================] - 1940s 228us/sample - loss: 0.3893 - accuracy: 0.8157 - val_loss: 0.4530 - val_accuracy: 0.7740\n",
      "Epoch 5/10\n",
      "8508348/8508348 [==============================] - 1706s 201us/sample - loss: 0.3877 - accuracy: 0.8167 - val_loss: 0.2769 - val_accuracy: 0.8898\n",
      "Epoch 6/10\n",
      "8508348/8508348 [==============================] - 1712s 201us/sample - loss: 0.3864 - accuracy: 0.8174 - val_loss: 0.3365 - val_accuracy: 0.8492\n",
      "Epoch 7/10\n",
      "8508348/8508348 [==============================] - 1342s 158us/sample - loss: 0.3858 - accuracy: 0.8177 - val_loss: 0.4253 - val_accuracy: 0.7908\n",
      "Epoch 8/10\n",
      "8508348/8508348 [==============================] - 1537s 181us/sample - loss: 0.3852 - accuracy: 0.8183 - val_loss: 0.3545 - val_accuracy: 0.8350\n",
      "Epoch 9/10\n",
      "8508348/8508348 [==============================] - 1967s 231us/sample - loss: 0.3851 - accuracy: 0.8182 - val_loss: 0.3580 - val_accuracy: 0.8357\n",
      "Epoch 10/10\n",
      "8508348/8508348 [==============================] - 1951s 229us/sample - loss: 0.3842 - accuracy: 0.8188 - val_loss: 0.5547 - val_accuracy: 0.7151\n"
     ]
    },
    {
     "data": {
      "text/plain": [
       "<tensorflow.python.keras.callbacks.History at 0x7f8476509bd0>"
      ]
     },
     "execution_count": 14,
     "metadata": {},
     "output_type": "execute_result"
    }
   ],
   "source": [
    "##### Step 5 - Specify the structure of a Neural Network\n",
    "model_simple_SMOTETomek_512n_1l = tf.keras.models.Sequential([\n",
    "    tf.keras.layers.Flatten(input_shape=(8,)),\n",
    "    tf.keras.layers.Dense(512, activation='tanh', name='Hidden-Layer1'),\n",
    "    tf.keras.layers.Dropout(0.2),\n",
    "    tf.keras.layers.Dense(1, activation='sigmoid', name='Output-Layer')\n",
    "])\n",
    "\n",
    "checkpoint_filepath = '/tmp/checkpoint512nSMOTETOMEK'\n",
    "model_checkpoint_callback = tf.keras.callbacks.ModelCheckpoint(\n",
    "    filepath=checkpoint_filepath,\n",
    "    save_weights_only=True,\n",
    "    monitor='val_accuracy',\n",
    "    mode='max',\n",
    "    save_best_only=True)\n",
    "\n",
    "\n",
    "model_simple_SMOTETomek_512n_1l.compile(optimizer='adam',\n",
    "    loss='binary_crossentropy',\n",
    "    metrics=['accuracy'])\n",
    "\n",
    "model_simple_SMOTETomek_512n_1l.fit(X_training_smtmek, Y_traning_smtmek, epochs = 10 ,callbacks=[model_checkpoint_callback],  validation_data=(x_validation, y_validation))#*********more epochs = 5\n"
   ]
  },
  {
   "cell_type": "code",
   "execution_count": 15,
   "id": "a5ea2bd4",
   "metadata": {},
   "outputs": [
    {
     "name": "stdout",
     "output_type": "stream",
     "text": [
      "INFO:tensorflow:Assets written to: model_simple_SMOTETomek_512n_1l/assets\n"
     ]
    }
   ],
   "source": [
    "model_simple_SMOTETomek_512n_1l.save('model_simple_SMOTETomek_512n_1l')\n",
    "model_simple_SMOTETomek_512n_1l.save('model_simple_SMOTETomek_512n_1l.h5')"
   ]
  },
  {
   "cell_type": "code",
   "execution_count": null,
   "id": "e3c7d299",
   "metadata": {},
   "outputs": [
    {
     "name": "stdout",
     "output_type": "stream",
     "text": [
      "WARNING:tensorflow:Falling back from v2 loop because of error: Failed to find data adapter that can handle input: <class 'pandas.core.frame.DataFrame'>, <class 'NoneType'>\n",
      "WARNING:tensorflow:Falling back from v2 loop because of error: Failed to find data adapter that can handle input: <class 'pandas.core.frame.DataFrame'>, <class 'NoneType'>\n",
      "\n",
      "-------------------- Model Summary --------------------\n",
      "Model: \"sequential_3\"\n",
      "_________________________________________________________________\n",
      "Layer (type)                 Output Shape              Param #   \n",
      "=================================================================\n",
      "flatten_3 (Flatten)          (None, 8)                 0         \n",
      "_________________________________________________________________\n",
      "Hidden-Layer1 (Dense)        (None, 512)               4608      \n",
      "_________________________________________________________________\n",
      "dropout_3 (Dropout)          (None, 512)               0         \n",
      "_________________________________________________________________\n",
      "Output-Layer (Dense)         (None, 1)                 513       \n",
      "=================================================================\n",
      "Total params: 5,121\n",
      "Trainable params: 5,121\n",
      "Non-trainable params: 0\n",
      "_________________________________________________________________\n",
      "\n",
      "-------------------- Weights and Biases --------------------\n",
      "Layer:  flatten_3\n",
      "Layer:  Hidden-Layer1\n",
      "Layer:  dropout_3\n",
      "Layer:  Output-Layer\n",
      "\n",
      "---------- Evaluation on Training Data ----------\n"
     ]
    }
   ],
   "source": [
    "##### Step 6 - Use model to make predictions\n",
    "# Predict class labels on training data\n",
    "pred_labels_tr_simple_SMOTETomek_512n_1l = (model_simple_SMOTETomek_512n_1l.predict(x_training)> 0.5).astype(int)\n",
    "# Predict class labels on a test data\n",
    "pred_labels_te_simple_SMOTETomek_512n_1l = (model_simple_SMOTETomek_512n_1l.predict(x_test)> 0.5).astype(int)\n",
    "#> 0.01).astype(int)\n",
    "\n",
    "\n",
    "##### Step 7 - Model Performance Summary\n",
    "print(\"\")\n",
    "print('-------------------- Model Summary --------------------')\n",
    "model_simple_SMOTETomek_512n_1l.summary() # print model summary\n",
    "print(\"\")\n",
    "print('-------------------- Weights and Biases --------------------')\n",
    "for layer in model_simple_SMOTETomek_512n_1l.layers:\n",
    "    print(\"Layer: \", layer.name) # print layer name\n",
    "    \n",
    "print(\"\")\n",
    "print('---------- Evaluation on Training Data ----------')\n",
    "print(classification_report(y_training, pred_labels_tr_simple_SMOTETomek_512n_1l))\n",
    "print(\"\")\n",
    "\n",
    "print('---------- Evaluation on Test Data ----------')\n",
    "print(classification_report(y_test, pred_labels_te_simple_SMOTETomek_512n_1l))\n",
    "print(\"\")\n",
    "\n",
    "from sklearn.metrics import confusion_matrix\n",
    "import matplotlib.pyplot as plt\n",
    "\n",
    "from sklearn.metrics import ConfusionMatrixDisplay\n",
    "ConfusionMatrixDisplay(confusion_matrix(y_test, pred_labels_te_simple_SMOTETomek_512n_1l)).plot(colorbar=False,cmap=plt.cm.Blues)\n",
    "ConfusionMatrixDisplay(confusion_matrix(y_test, pred_labels_te_simple_SMOTETomek_512n_1l,normalize='true')).plot(colorbar=False,cmap=plt.cm.Blues)"
   ]
  },
  {
   "cell_type": "code",
   "execution_count": null,
   "id": "73cefc04",
   "metadata": {},
   "outputs": [],
   "source": [
    "##### Step 6 - Use model to make predictions\n",
    "# Predict class labels on training data\n",
    "pred_labels_tr_simple_SMOTETomek_512n_1l_prob = (model_simple_SMOTETomek_512n_1l.predict(x_training))\n",
    "# Predict class labels on a test data\n",
    "pred_labels_te_simple_SMOTETomek_512n_1l_prob = (model_simple_SMOTETomek_512n_1l.predict(x_test))\n",
    "#> 0.01).astype(int)\n",
    "\n",
    "\n",
    "##### Step 7 - Model Performance Summary\n",
    "print(\"\")\n",
    "print('-------------------- Model Summary --------------------')\n",
    "model_simple_SMOTETomek_512n_1l.summary() # print model summary\n",
    "print(\"\")\n",
    "\n",
    "\n",
    "from sklearn import metrics\n",
    "from sklearn import datasets\n",
    "from sklearn.model_selection import train_test_split\n",
    "from sklearn.linear_model import LogisticRegression\n",
    "from sklearn.ensemble import GradientBoostingClassifier\n",
    "import numpy as np\n",
    "import matplotlib.pyplot as plt\n",
    "\n",
    "plt.figure(0).clf()\n",
    "\n",
    "\n",
    "fpr, tpr, _ = metrics.roc_curve(y_test, pred_labels_te_simple_SMOTETomek_512n_1l_prob)\n",
    "auc = round(metrics.roc_auc_score(y_test, pred_labels_te_simple_SMOTETomek_512n_1l_prob), 4)\n",
    "plt.plot(fpr,tpr,label=\"simple_SMOTETomek_512n_1l, AUC=\"+str(auc))\n",
    "\n",
    "\n",
    "\n",
    "\n",
    "\n",
    "#add legend\n",
    "plt.legend()"
   ]
  },
  {
   "cell_type": "code",
   "execution_count": 4,
   "id": "7669d13e",
   "metadata": {},
   "outputs": [
    {
     "name": "stderr",
     "output_type": "stream",
     "text": [
      "2022-07-09 11:11:32.690266: I tensorflow/core/platform/cpu_feature_guard.cc:145] This TensorFlow binary is optimized with Intel(R) MKL-DNN to use the following CPU instructions in performance critical operations:  SSE4.1 SSE4.2\n",
      "To enable them in non-MKL-DNN operations, rebuild TensorFlow with the appropriate compiler flags.\n",
      "2022-07-09 11:11:32.693580: I tensorflow/core/common_runtime/process_util.cc:115] Creating new thread pool with default inter op setting: 8. Tune using inter_op_parallelism_threads for best performance.\n"
     ]
    },
    {
     "name": "stdout",
     "output_type": "stream",
     "text": [
      "Model: \"sequential_3\"\n",
      "_________________________________________________________________\n",
      "Layer (type)                 Output Shape              Param #   \n",
      "=================================================================\n",
      "flatten_3 (Flatten)          (None, 8)                 0         \n",
      "_________________________________________________________________\n",
      "Hidden-Layer1 (Dense)        (None, 512)               4608      \n",
      "_________________________________________________________________\n",
      "dropout_3 (Dropout)          (None, 512)               0         \n",
      "_________________________________________________________________\n",
      "Output-Layer (Dense)         (None, 1)                 513       \n",
      "=================================================================\n",
      "Total params: 5,121\n",
      "Trainable params: 5,121\n",
      "Non-trainable params: 0\n",
      "_________________________________________________________________\n"
     ]
    }
   ],
   "source": [
    "complex_SMOTETOMEK_512n_1l = tf.keras.models.load_model('model_simple_SMOTETomek_512n_1l')\n",
    "\n",
    "# Check its architecture\n",
    "complex_SMOTETOMEK_512n_1l.summary()"
   ]
  },
  {
   "cell_type": "code",
   "execution_count": 5,
   "id": "811ce064",
   "metadata": {},
   "outputs": [
    {
     "name": "stdout",
     "output_type": "stream",
     "text": [
      "WARNING:tensorflow:Falling back from v2 loop because of error: Failed to find data adapter that can handle input: <class 'pandas.core.frame.DataFrame'>, <class 'NoneType'>\n",
      "WARNING:tensorflow:Falling back from v2 loop because of error: Failed to find data adapter that can handle input: <class 'pandas.core.frame.DataFrame'>, <class 'NoneType'>\n",
      "\n",
      "-------------------- Model Summary --------------------\n",
      "Model: \"sequential_3\"\n",
      "_________________________________________________________________\n",
      "Layer (type)                 Output Shape              Param #   \n",
      "=================================================================\n",
      "flatten_3 (Flatten)          (None, 8)                 0         \n",
      "_________________________________________________________________\n",
      "Hidden-Layer1 (Dense)        (None, 512)               4608      \n",
      "_________________________________________________________________\n",
      "dropout_3 (Dropout)          (None, 512)               0         \n",
      "_________________________________________________________________\n",
      "Output-Layer (Dense)         (None, 1)                 513       \n",
      "=================================================================\n",
      "Total params: 5,121\n",
      "Trainable params: 5,121\n",
      "Non-trainable params: 0\n",
      "_________________________________________________________________\n",
      "\n",
      "-------------------- Weights and Biases --------------------\n",
      "Layer:  flatten_3\n",
      "Layer:  Hidden-Layer1\n",
      "Layer:  dropout_3\n",
      "Layer:  Output-Layer\n",
      "\n",
      "---------- Evaluation on Training Data ----------\n",
      "              precision    recall  f1-score   support\n",
      "\n",
      "         0.0       1.00      0.71      0.83   4254174\n",
      "         1.0       0.01      0.90      0.02     14597\n",
      "\n",
      "    accuracy                           0.71   4268771\n",
      "   macro avg       0.51      0.80      0.43   4268771\n",
      "weighted avg       1.00      0.71      0.83   4268771\n",
      "\n",
      "\n",
      "---------- Evaluation on Test Data ----------\n",
      "              precision    recall  f1-score   support\n",
      "\n",
      "         0.0       1.00      0.71      0.83    537732\n",
      "         1.0       0.01      0.93      0.02      1755\n",
      "\n",
      "    accuracy                           0.71    539487\n",
      "   macro avg       0.50      0.82      0.43    539487\n",
      "weighted avg       1.00      0.71      0.83    539487\n",
      "\n",
      "\n"
     ]
    },
    {
     "data": {
      "text/plain": [
       "<sklearn.metrics._plot.confusion_matrix.ConfusionMatrixDisplay at 0x7f93787ebf10>"
      ]
     },
     "execution_count": 5,
     "metadata": {},
     "output_type": "execute_result"
    },
    {
     "data": {
      "image/png": "[encoded data removed]",
      "text/plain": [
       "<Figure size 432x288 with 1 Axes>"
      ]
     },
     "metadata": {
      "needs_background": "light"
     },
     "output_type": "display_data"
    },
    {
     "data": {
      "image/png": "[encoded data removed]",
      "text/plain": [
       "<Figure size 432x288 with 1 Axes>"
      ]
     },
     "metadata": {
      "needs_background": "light"
     },
     "output_type": "display_data"
    }
   ],
   "source": [
    "##### Step 6 - Use model to make predictions\n",
    "# Predict class labels on training data\n",
    "pred_labels_tr_simple_SMOTETomek_512n_1l = (complex_SMOTETOMEK_512n_1l.predict(x_training)> 0.5).astype(int)\n",
    "# Predict class labels on a test data\n",
    "pred_labels_te_simple_SMOTETomek_512n_1l = (complex_SMOTETOMEK_512n_1l.predict(x_test)> 0.5).astype(int)\n",
    "#> 0.01).astype(int)\n",
    "\n",
    "\n",
    "##### Step 7 - Model Performance Summary\n",
    "print(\"\")\n",
    "print('-------------------- Model Summary --------------------')\n",
    "complex_SMOTETOMEK_512n_1l.summary() # print model summary\n",
    "print(\"\")\n",
    "print('-------------------- Weights and Biases --------------------')\n",
    "for layer in complex_SMOTETOMEK_512n_1l.layers:\n",
    "    print(\"Layer: \", layer.name) # print layer name\n",
    "    \n",
    "print(\"\")\n",
    "print('---------- Evaluation on Training Data ----------')\n",
    "print(classification_report(y_training, pred_labels_tr_simple_SMOTETomek_512n_1l))\n",
    "print(\"\")\n",
    "\n",
    "print('---------- Evaluation on Test Data ----------')\n",
    "print(classification_report(y_test, pred_labels_te_simple_SMOTETomek_512n_1l))\n",
    "print(\"\")\n",
    "\n",
    "from sklearn.metrics import confusion_matrix\n",
    "import matplotlib.pyplot as plt\n",
    "\n",
    "from sklearn.metrics import ConfusionMatrixDisplay\n",
    "ConfusionMatrixDisplay(confusion_matrix(y_test, pred_labels_te_simple_SMOTETomek_512n_1l)).plot(colorbar=False,cmap=plt.cm.Blues)\n",
    "ConfusionMatrixDisplay(confusion_matrix(y_test, pred_labels_te_simple_SMOTETomek_512n_1l,normalize='true')).plot(colorbar=False,cmap=plt.cm.Blues)"
   ]
  },
  {
   "cell_type": "code",
   "execution_count": 6,
   "id": "910c0b4b",
   "metadata": {},
   "outputs": [
    {
     "name": "stdout",
     "output_type": "stream",
     "text": [
      "WARNING:tensorflow:Falling back from v2 loop because of error: Failed to find data adapter that can handle input: <class 'pandas.core.frame.DataFrame'>, <class 'NoneType'>\n",
      "WARNING:tensorflow:Falling back from v2 loop because of error: Failed to find data adapter that can handle input: <class 'pandas.core.frame.DataFrame'>, <class 'NoneType'>\n",
      "\n",
      "-------------------- Model Summary --------------------\n",
      "Model: \"sequential_3\"\n",
      "_________________________________________________________________\n",
      "Layer (type)                 Output Shape              Param #   \n",
      "=================================================================\n",
      "flatten_3 (Flatten)          (None, 8)                 0         \n",
      "_________________________________________________________________\n",
      "Hidden-Layer1 (Dense)        (None, 512)               4608      \n",
      "_________________________________________________________________\n",
      "dropout_3 (Dropout)          (None, 512)               0         \n",
      "_________________________________________________________________\n",
      "Output-Layer (Dense)         (None, 1)                 513       \n",
      "=================================================================\n",
      "Total params: 5,121\n",
      "Trainable params: 5,121\n",
      "Non-trainable params: 0\n",
      "_________________________________________________________________\n",
      "\n"
     ]
    },
    {
     "data": {
      "text/plain": [
       "<matplotlib.legend.Legend at 0x7f937880ac50>"
      ]
     },
     "execution_count": 6,
     "metadata": {},
     "output_type": "execute_result"
    },
    {
     "data": {
      "image/png": "[encoded data removed]",
      "text/plain": [
       "<Figure size 432x288 with 1 Axes>"
      ]
     },
     "metadata": {
      "needs_background": "light"
     },
     "output_type": "display_data"
    }
   ],
   "source": [
    "##### Step 6 - Use model to make predictions\n",
    "# Predict class labels on training data\n",
    "pred_labels_tr_simple_SMOTETomek_512n_1l_prob = (complex_SMOTETOMEK_512n_1l.predict(x_training))\n",
    "# Predict class labels on a test data\n",
    "pred_labels_te_simple_SMOTETomek_512n_1l_prob = (complex_SMOTETOMEK_512n_1l.predict(x_test))\n",
    "#> 0.01).astype(int)\n",
    "\n",
    "\n",
    "##### Step 7 - Model Performance Summary\n",
    "print(\"\")\n",
    "print('-------------------- Model Summary --------------------')\n",
    "complex_SMOTETOMEK_512n_1l.summary() # print model summary\n",
    "print(\"\")\n",
    "\n",
    "\n",
    "from sklearn import metrics\n",
    "from sklearn import datasets\n",
    "from sklearn.model_selection import train_test_split\n",
    "from sklearn.linear_model import LogisticRegression\n",
    "from sklearn.ensemble import GradientBoostingClassifier\n",
    "import numpy as np\n",
    "import matplotlib.pyplot as plt\n",
    "\n",
    "plt.figure(0).clf()\n",
    "\n",
    "\n",
    "fpr, tpr, _ = metrics.roc_curve(y_test, pred_labels_te_simple_SMOTETomek_512n_1l_prob)\n",
    "auc = round(metrics.roc_auc_score(y_test, pred_labels_te_simple_SMOTETomek_512n_1l_prob), 4)\n",
    "plt.plot(fpr,tpr,label=\"simple_SMOTETomek_512n_1l, AUC=\"+str(auc))\n",
    "\n",
    "\n",
    "\n",
    "\n",
    "\n",
    "#add legend\n",
    "plt.legend()"
   ]
  },
  {
   "cell_type": "code",
   "execution_count": 7,
   "id": "86f5f76d",
   "metadata": {},
   "outputs": [
    {
     "ename": "NameError",
     "evalue": "name 'pred_labels_te_simple8_SMOTEENN_prob' is not defined",
     "output_type": "error",
     "traceback": [
      "\u001b[0;31m---------------------------------------------------------------------------\u001b[0m",
      "\u001b[0;31mNameError\u001b[0m                                 Traceback (most recent call last)",
      "\u001b[0;32m/var/folders/6l/2k5dphhj4z30f5zpqx44561c0000gn/T/ipykernel_23422/1228996516.py\u001b[0m in \u001b[0;36m<module>\u001b[0;34m\u001b[0m\n\u001b[1;32m      2\u001b[0m \u001b[0;34m\u001b[0m\u001b[0m\n\u001b[1;32m      3\u001b[0m \u001b[0;34m\u001b[0m\u001b[0m\n\u001b[0;32m----> 4\u001b[0;31m \u001b[0mfpr\u001b[0m\u001b[0;34m,\u001b[0m \u001b[0mtpr\u001b[0m\u001b[0;34m,\u001b[0m \u001b[0m_\u001b[0m \u001b[0;34m=\u001b[0m \u001b[0mmetrics\u001b[0m\u001b[0;34m.\u001b[0m\u001b[0mroc_curve\u001b[0m\u001b[0;34m(\u001b[0m\u001b[0my_test\u001b[0m\u001b[0;34m,\u001b[0m \u001b[0mpred_labels_te_simple8_SMOTEENN_prob\u001b[0m\u001b[0;34m)\u001b[0m\u001b[0;34m\u001b[0m\u001b[0;34m\u001b[0m\u001b[0m\n\u001b[0m\u001b[1;32m      5\u001b[0m \u001b[0mauc\u001b[0m \u001b[0;34m=\u001b[0m \u001b[0mround\u001b[0m\u001b[0;34m(\u001b[0m\u001b[0mmetrics\u001b[0m\u001b[0;34m.\u001b[0m\u001b[0mroc_auc_score\u001b[0m\u001b[0;34m(\u001b[0m\u001b[0my_test\u001b[0m\u001b[0;34m,\u001b[0m \u001b[0mpred_labels_te_simple8_SMOTEENN_prob\u001b[0m\u001b[0;34m)\u001b[0m\u001b[0;34m,\u001b[0m \u001b[0;36m4\u001b[0m\u001b[0;34m)\u001b[0m\u001b[0;34m\u001b[0m\u001b[0;34m\u001b[0m\u001b[0m\n\u001b[1;32m      6\u001b[0m \u001b[0mplt\u001b[0m\u001b[0;34m.\u001b[0m\u001b[0mplot\u001b[0m\u001b[0;34m(\u001b[0m\u001b[0mfpr\u001b[0m\u001b[0;34m,\u001b[0m\u001b[0mtpr\u001b[0m\u001b[0;34m,\u001b[0m\u001b[0mlabel\u001b[0m\u001b[0;34m=\u001b[0m\u001b[0;34m\"simple_model_SMOTEEEN ,8n,1l, AUC=\"\u001b[0m\u001b[0;34m+\u001b[0m\u001b[0mstr\u001b[0m\u001b[0;34m(\u001b[0m\u001b[0mauc\u001b[0m\u001b[0;34m)\u001b[0m\u001b[0;34m)\u001b[0m\u001b[0;34m\u001b[0m\u001b[0;34m\u001b[0m\u001b[0m\n",
      "\u001b[0;31mNameError\u001b[0m: name 'pred_labels_te_simple8_SMOTEENN_prob' is not defined"
     ]
    },
    {
     "data": {
      "text/plain": [
       "<Figure size 432x288 with 0 Axes>"
      ]
     },
     "metadata": {},
     "output_type": "display_data"
    }
   ],
   "source": [
    "plt.figure(0).clf()\n",
    "\n",
    "\n",
    "fpr, tpr, _ = metrics.roc_curve(y_test, pred_labels_te_simple8_SMOTEENN_prob)\n",
    "auc = round(metrics.roc_auc_score(y_test, pred_labels_te_simple8_SMOTEENN_prob), 4)\n",
    "plt.plot(fpr,tpr,label=\"simple_model_SMOTEEEN ,8n,1l, AUC=\"+str(auc))\n",
    "\n",
    "\n",
    "fpr, tpr, _ = metrics.roc_curve(y_test, pred_labels_te_complx_SMOTEENN_1l_512n_prob)\n",
    "auc = round(metrics.roc_auc_score(y_test, pred_labels_te_complx_SMOTEENN_1l_512n_prob), 4)\n",
    "plt.plot(fpr,tpr,label=\"complex_model_SMOTEEEN 512n,1l, AUC=\"+str(auc))\n",
    "\n",
    "fpr, tpr, _ = metrics.roc_curve(y_test, pred_labels_te_complx_SMOTEENN_4l_256n_prob)\n",
    "auc = round(metrics.roc_auc_score(y_test, pred_labels_te_complx_SMOTEENN_4l_256n_prob), 4)\n",
    "plt.plot(fpr,tpr,label=\"complex_model_SMOTEEEN,256n,4l,  AUC=\"+str(auc))\n",
    "\n",
    "\n",
    "\n",
    "#add legend\n",
    "plt.legend()"
   ]
  },
  {
   "cell_type": "code",
   "execution_count": 10,
   "id": "bb542214",
   "metadata": {},
   "outputs": [
    {
     "name": "stdout",
     "output_type": "stream",
     "text": [
      "Model: \"sequential_1\"\n",
      "_________________________________________________________________\n",
      "Layer (type)                 Output Shape              Param #   \n",
      "=================================================================\n",
      "flatten_1 (Flatten)          (None, 8)                 0         \n",
      "_________________________________________________________________\n",
      "Hidden-Layer1 (Dense)        (None, 8)                 72        \n",
      "_________________________________________________________________\n",
      "dropout_1 (Dropout)          (None, 8)                 0         \n",
      "_________________________________________________________________\n",
      "Output-Layer (Dense)         (None, 1)                 9         \n",
      "=================================================================\n",
      "Total params: 81\n",
      "Trainable params: 81\n",
      "Non-trainable params: 0\n",
      "_________________________________________________________________\n",
      "WARNING:tensorflow:Falling back from v2 loop because of error: Failed to find data adapter that can handle input: <class 'pandas.core.frame.DataFrame'>, <class 'NoneType'>\n",
      "WARNING:tensorflow:Falling back from v2 loop because of error: Failed to find data adapter that can handle input: <class 'pandas.core.frame.DataFrame'>, <class 'NoneType'>\n",
      "\n",
      "-------------------- Model Summary --------------------\n",
      "Model: \"sequential_1\"\n",
      "_________________________________________________________________\n",
      "Layer (type)                 Output Shape              Param #   \n",
      "=================================================================\n",
      "flatten_1 (Flatten)          (None, 8)                 0         \n",
      "_________________________________________________________________\n",
      "Hidden-Layer1 (Dense)        (None, 8)                 72        \n",
      "_________________________________________________________________\n",
      "dropout_1 (Dropout)          (None, 8)                 0         \n",
      "_________________________________________________________________\n",
      "Output-Layer (Dense)         (None, 1)                 9         \n",
      "=================================================================\n",
      "Total params: 81\n",
      "Trainable params: 81\n",
      "Non-trainable params: 0\n",
      "_________________________________________________________________\n",
      "\n",
      "-------------------- Weights and Biases --------------------\n",
      "Layer:  flatten_1\n",
      "Layer:  Hidden-Layer1\n",
      "Layer:  dropout_1\n",
      "Layer:  Output-Layer\n",
      "\n",
      "---------- Evaluation on Training Data ----------\n",
      "              precision    recall  f1-score   support\n",
      "\n",
      "         0.0       1.00      0.87      0.93   4254174\n",
      "         1.0       0.02      0.66      0.03     14597\n",
      "\n",
      "    accuracy                           0.87   4268771\n",
      "   macro avg       0.51      0.77      0.48   4268771\n",
      "weighted avg       1.00      0.87      0.93   4268771\n",
      "\n",
      "\n",
      "---------- Evaluation on Test Data ----------\n",
      "              precision    recall  f1-score   support\n",
      "\n",
      "         0.0       1.00      0.86      0.93    537732\n",
      "         1.0       0.02      0.75      0.03      1755\n",
      "\n",
      "    accuracy                           0.86    539487\n",
      "   macro avg       0.51      0.80      0.48    539487\n",
      "weighted avg       1.00      0.86      0.92    539487\n",
      "\n",
      "\n",
      "WARNING:tensorflow:Falling back from v2 loop because of error: Failed to find data adapter that can handle input: <class 'pandas.core.frame.DataFrame'>, <class 'NoneType'>\n",
      "WARNING:tensorflow:Falling back from v2 loop because of error: Failed to find data adapter that can handle input: <class 'pandas.core.frame.DataFrame'>, <class 'NoneType'>\n",
      "\n",
      "-------------------- Model Summary --------------------\n",
      "Model: \"sequential_1\"\n",
      "_________________________________________________________________\n",
      "Layer (type)                 Output Shape              Param #   \n",
      "=================================================================\n",
      "flatten_1 (Flatten)          (None, 8)                 0         \n",
      "_________________________________________________________________\n",
      "Hidden-Layer1 (Dense)        (None, 8)                 72        \n",
      "_________________________________________________________________\n",
      "dropout_1 (Dropout)          (None, 8)                 0         \n",
      "_________________________________________________________________\n",
      "Output-Layer (Dense)         (None, 1)                 9         \n",
      "=================================================================\n",
      "Total params: 81\n",
      "Trainable params: 81\n",
      "Non-trainable params: 0\n",
      "_________________________________________________________________\n",
      "\n"
     ]
    },
    {
     "data": {
      "text/plain": [
       "<matplotlib.legend.Legend at 0x7f93cef99950>"
      ]
     },
     "execution_count": 10,
     "metadata": {},
     "output_type": "execute_result"
    },
    {
     "data": {
      "image/png": "[encoded data removed]",
      "text/plain": [
       "<Figure size 432x288 with 1 Axes>"
      ]
     },
     "metadata": {
      "needs_background": "light"
     },
     "output_type": "display_data"
    },
    {
     "data": {
      "image/png": "[encoded data removed]",
      "text/plain": [
       "<Figure size 432x288 with 1 Axes>"
      ]
     },
     "metadata": {
      "needs_background": "light"
     },
     "output_type": "display_data"
    },
    {
     "data": {
      "image/png": "[encoded data removed]",
      "text/plain": [
       "<Figure size 432x288 with 1 Axes>"
      ]
     },
     "metadata": {
      "needs_background": "light"
     },
     "output_type": "display_data"
    }
   ],
   "source": [
    "model_simple_SMOTETomek_8n_1l = tf.keras.models.load_model('model_simple_SMOTETomek_8n_1l')\n",
    "\n",
    "# Check its architecture\n",
    "model_simple_SMOTETomek_8n_1l.summary()\n",
    "\n",
    "##### Step 6 - Use model to make predictions\n",
    "# Predict class labels on training data\n",
    "pred_labels_tr_simple_SMOTETomek_8n_1l = (model_simple_SMOTETomek_8n_1l.predict(x_training)> 0.5).astype(int)\n",
    "# Predict class labels on a test data\n",
    "pred_labels_te_simple_SMOTETomek_8n_1l = (model_simple_SMOTETomek_8n_1l.predict(x_test)> 0.5).astype(int)\n",
    "#> 0.01).astype(int)\n",
    "\n",
    "\n",
    "##### Step 7 - Model Performance Summary\n",
    "print(\"\")\n",
    "print('-------------------- Model Summary --------------------')\n",
    "model_simple_SMOTETomek_8n_1l.summary() # print model summary\n",
    "print(\"\")\n",
    "print('-------------------- Weights and Biases --------------------')\n",
    "for layer in model_simple_SMOTETomek_8n_1l.layers:\n",
    "    print(\"Layer: \", layer.name) # print layer name\n",
    "    \n",
    "print(\"\")\n",
    "print('---------- Evaluation on Training Data ----------')\n",
    "print(classification_report(y_training, pred_labels_tr_simple_SMOTETomek_8n_1l))\n",
    "print(\"\")\n",
    "\n",
    "print('---------- Evaluation on Test Data ----------')\n",
    "print(classification_report(y_test, pred_labels_te_simple_SMOTETomek_8n_1l))\n",
    "print(\"\")\n",
    "\n",
    "from sklearn.metrics import confusion_matrix\n",
    "import matplotlib.pyplot as plt\n",
    "\n",
    "from sklearn.metrics import ConfusionMatrixDisplay\n",
    "ConfusionMatrixDisplay(confusion_matrix(y_test, pred_labels_te_simple_SMOTETomek_8n_1l)).plot(colorbar=False,cmap=plt.cm.Blues)\n",
    "ConfusionMatrixDisplay(confusion_matrix(y_test, pred_labels_te_simple_SMOTETomek_8n_1l,normalize='true')).plot(colorbar=False,cmap=plt.cm.Blues)\n",
    "\n",
    "##### Step 6 - Use model to make predictions\n",
    "# Predict class labels on training data\n",
    "pred_labels_tr_simple_SMOTETomek_8n_1l_prob = (model_simple_SMOTETomek_8n_1l.predict(x_training))\n",
    "# Predict class labels on a test data\n",
    "pred_labels_te_simple_SMOTETomek_8n_1l_prob = (model_simple_SMOTETomek_8n_1l.predict(x_test))\n",
    "#> 0.01).astype(int)\n",
    "\n",
    "\n",
    "##### Step 7 - Model Performance Summary\n",
    "print(\"\")\n",
    "print('-------------------- Model Summary --------------------')\n",
    "model_simple_SMOTETomek_8n_1l.summary() # print model summary\n",
    "print(\"\")\n",
    "\n",
    "\n",
    "from sklearn import metrics\n",
    "from sklearn import datasets\n",
    "from sklearn.model_selection import train_test_split\n",
    "from sklearn.linear_model import LogisticRegression\n",
    "from sklearn.ensemble import GradientBoostingClassifier\n",
    "import numpy as np\n",
    "import matplotlib.pyplot as plt\n",
    "\n",
    "plt.figure(0).clf()\n",
    "\n",
    "\n",
    "fpr, tpr, _ = metrics.roc_curve(y_test, pred_labels_te_simple_SMOTETomek_8n_1l_prob)\n",
    "auc = round(metrics.roc_auc_score(y_test, pred_labels_te_simple_SMOTETomek_8n_1l_prob), 4)\n",
    "plt.plot(fpr,tpr,label=\"simple_SMOTETomek_8n_1l, AUC=\"+str(auc))\n",
    "\n",
    "\n",
    "\n",
    "\n",
    "\n",
    "#add legend\n",
    "plt.legend()"
   ]
  },
  {
   "cell_type": "code",
   "execution_count": 11,
   "id": "ab9a1b07",
   "metadata": {},
   "outputs": [
    {
     "name": "stdout",
     "output_type": "stream",
     "text": [
      "Model: \"sequential\"\n",
      "_________________________________________________________________\n",
      "Layer (type)                 Output Shape              Param #   \n",
      "=================================================================\n",
      "flatten (Flatten)            (None, 8)                 0         \n",
      "_________________________________________________________________\n",
      "Hidden-Layer1 (Dense)        (None, 256)               2304      \n",
      "_________________________________________________________________\n",
      "Hidden-Layer2 (Dense)        (None, 256)               65792     \n",
      "_________________________________________________________________\n",
      "Hidden-Layer3 (Dense)        (None, 256)               65792     \n",
      "_________________________________________________________________\n",
      "Hidden-Layer4 (Dense)        (None, 256)               65792     \n",
      "_________________________________________________________________\n",
      "dropout (Dropout)            (None, 256)               0         \n",
      "_________________________________________________________________\n",
      "Output-Layer (Dense)         (None, 1)                 257       \n",
      "=================================================================\n",
      "Total params: 199,937\n",
      "Trainable params: 199,937\n",
      "Non-trainable params: 0\n",
      "_________________________________________________________________\n",
      "WARNING:tensorflow:Falling back from v2 loop because of error: Failed to find data adapter that can handle input: <class 'pandas.core.frame.DataFrame'>, <class 'NoneType'>\n",
      "WARNING:tensorflow:Falling back from v2 loop because of error: Failed to find data adapter that can handle input: <class 'pandas.core.frame.DataFrame'>, <class 'NoneType'>\n",
      "\n",
      "-------------------- Model Summary --------------------\n",
      "Model: \"sequential\"\n",
      "_________________________________________________________________\n",
      "Layer (type)                 Output Shape              Param #   \n",
      "=================================================================\n",
      "flatten (Flatten)            (None, 8)                 0         \n",
      "_________________________________________________________________\n",
      "Hidden-Layer1 (Dense)        (None, 256)               2304      \n",
      "_________________________________________________________________\n",
      "Hidden-Layer2 (Dense)        (None, 256)               65792     \n",
      "_________________________________________________________________\n",
      "Hidden-Layer3 (Dense)        (None, 256)               65792     \n",
      "_________________________________________________________________\n",
      "Hidden-Layer4 (Dense)        (None, 256)               65792     \n",
      "_________________________________________________________________\n",
      "dropout (Dropout)            (None, 256)               0         \n",
      "_________________________________________________________________\n",
      "Output-Layer (Dense)         (None, 1)                 257       \n",
      "=================================================================\n",
      "Total params: 199,937\n",
      "Trainable params: 199,937\n",
      "Non-trainable params: 0\n",
      "_________________________________________________________________\n",
      "\n",
      "-------------------- Weights and Biases --------------------\n",
      "Layer:  flatten\n",
      "Layer:  Hidden-Layer1\n",
      "Layer:  Hidden-Layer2\n",
      "Layer:  Hidden-Layer3\n",
      "Layer:  Hidden-Layer4\n",
      "Layer:  dropout\n",
      "Layer:  Output-Layer\n",
      "\n",
      "---------- Evaluation on Training Data ----------\n",
      "              precision    recall  f1-score   support\n",
      "\n",
      "         0.0       1.00      0.83      0.91   4254174\n",
      "         1.0       0.02      0.79      0.03     14597\n",
      "\n",
      "    accuracy                           0.83   4268771\n",
      "   macro avg       0.51      0.81      0.47   4268771\n",
      "weighted avg       1.00      0.83      0.90   4268771\n",
      "\n",
      "\n",
      "---------- Evaluation on Test Data ----------\n",
      "              precision    recall  f1-score   support\n",
      "\n",
      "         0.0       1.00      0.83      0.91    537732\n",
      "         1.0       0.02      0.87      0.03      1755\n",
      "\n",
      "    accuracy                           0.83    539487\n",
      "   macro avg       0.51      0.85      0.47    539487\n",
      "weighted avg       1.00      0.83      0.90    539487\n",
      "\n",
      "\n",
      "WARNING:tensorflow:Falling back from v2 loop because of error: Failed to find data adapter that can handle input: <class 'pandas.core.frame.DataFrame'>, <class 'NoneType'>\n",
      "WARNING:tensorflow:Falling back from v2 loop because of error: Failed to find data adapter that can handle input: <class 'pandas.core.frame.DataFrame'>, <class 'NoneType'>\n",
      "\n",
      "-------------------- Model Summary --------------------\n",
      "Model: \"sequential\"\n",
      "_________________________________________________________________\n",
      "Layer (type)                 Output Shape              Param #   \n",
      "=================================================================\n",
      "flatten (Flatten)            (None, 8)                 0         \n",
      "_________________________________________________________________\n",
      "Hidden-Layer1 (Dense)        (None, 256)               2304      \n",
      "_________________________________________________________________\n",
      "Hidden-Layer2 (Dense)        (None, 256)               65792     \n",
      "_________________________________________________________________\n",
      "Hidden-Layer3 (Dense)        (None, 256)               65792     \n",
      "_________________________________________________________________\n",
      "Hidden-Layer4 (Dense)        (None, 256)               65792     \n",
      "_________________________________________________________________\n",
      "dropout (Dropout)            (None, 256)               0         \n",
      "_________________________________________________________________\n",
      "Output-Layer (Dense)         (None, 1)                 257       \n",
      "=================================================================\n",
      "Total params: 199,937\n",
      "Trainable params: 199,937\n",
      "Non-trainable params: 0\n",
      "_________________________________________________________________\n",
      "\n"
     ]
    },
    {
     "data": {
      "text/plain": [
       "<matplotlib.legend.Legend at 0x7f93714d5e90>"
      ]
     },
     "execution_count": 11,
     "metadata": {},
     "output_type": "execute_result"
    },
    {
     "data": {
      "image/png": "[encoded data removed]",
      "text/plain": [
       "<Figure size 432x288 with 1 Axes>"
      ]
     },
     "metadata": {
      "needs_background": "light"
     },
     "output_type": "display_data"
    },
    {
     "data": {
      "image/png": "[encoded data removed]",
      "text/plain": [
       "<Figure size 432x288 with 1 Axes>"
      ]
     },
     "metadata": {
      "needs_background": "light"
     },
     "output_type": "display_data"
    },
    {
     "data": {
      "image/png": "[encoded data removed]",
      "text/plain": [
       "<Figure size 432x288 with 1 Axes>"
      ]
     },
     "metadata": {
      "needs_background": "light"
     },
     "output_type": "display_data"
    }
   ],
   "source": [
    "model_complexSMOTETomek_256n_4l = tf.keras.models.load_model('model_complexSMOTETomek_256n_4l')\n",
    "\n",
    "# Check its architecture\n",
    "model_complexSMOTETomek_256n_4l.summary()\n",
    "##### Step 6 - Use model to make predictions\n",
    "# Predict class labels on training data\n",
    "pred_labels_tr_complx_SMOTETomek_4l_256n = (model_complexSMOTETomek_256n_4l.predict(x_training)> 0.5).astype(int)\n",
    "# Predict class labels on a test data\n",
    "pred_labels_te_complx_SMOTETomek_4l_256n = (model_complexSMOTETomek_256n_4l.predict(x_test)> 0.5).astype(int)\n",
    "#> 0.01).astype(int)\n",
    "\n",
    "\n",
    "##### Step 7 - Model Performance Summary\n",
    "print(\"\")\n",
    "print('-------------------- Model Summary --------------------')\n",
    "model_complexSMOTETomek_256n_4l.summary() # print model summary\n",
    "print(\"\")\n",
    "print('-------------------- Weights and Biases --------------------')\n",
    "for layer in model_complexSMOTETomek_256n_4l.layers:\n",
    "    print(\"Layer: \", layer.name) # print layer name\n",
    "    \n",
    "print(\"\")\n",
    "print('---------- Evaluation on Training Data ----------')\n",
    "print(classification_report(y_training, pred_labels_tr_complx_SMOTETomek_4l_256n))\n",
    "print(\"\")\n",
    "\n",
    "print('---------- Evaluation on Test Data ----------')\n",
    "print(classification_report(y_test, pred_labels_te_complx_SMOTETomek_4l_256n))\n",
    "print(\"\")\n",
    "\n",
    "from sklearn.metrics import confusion_matrix\n",
    "import matplotlib.pyplot as plt\n",
    "\n",
    "from sklearn.metrics import ConfusionMatrixDisplay\n",
    "ConfusionMatrixDisplay(confusion_matrix(y_test, pred_labels_te_complx_SMOTETomek_4l_256n)).plot(colorbar=False,cmap=plt.cm.Blues)\n",
    "ConfusionMatrixDisplay(confusion_matrix(y_test, pred_labels_te_complx_SMOTETomek_4l_256n,normalize='true')).plot(colorbar=False,cmap=plt.cm.Blues)\n",
    "\n",
    "\n",
    "##### Step 6 - Use model to make predictions\n",
    "# Predict class labels on training data\n",
    "pred_labels_tr_complx_SMOTETomek_4l_256n_prob = (model_complexSMOTETomek_256n_4l.predict(x_training))\n",
    "# Predict class labels on a test data\n",
    "pred_labels_te_complx_SMOTETomek_4l_256n_prob = (model_complexSMOTETomek_256n_4l.predict(x_test))\n",
    "#> 0.01).astype(int)\n",
    "\n",
    "\n",
    "##### Step 7 - Model Performance Summary\n",
    "print(\"\")\n",
    "print('-------------------- Model Summary --------------------')\n",
    "model_complexSMOTETomek_256n_4l.summary() # print model summary\n",
    "print(\"\")\n",
    "\n",
    "\n",
    "from sklearn import metrics\n",
    "from sklearn import datasets\n",
    "from sklearn.model_selection import train_test_split\n",
    "from sklearn.linear_model import LogisticRegression\n",
    "from sklearn.ensemble import GradientBoostingClassifier\n",
    "import numpy as np\n",
    "import matplotlib.pyplot as plt\n",
    "\n",
    "plt.figure(0).clf()\n",
    "\n",
    "\n",
    "fpr, tpr, _ = metrics.roc_curve(y_test, pred_labels_te_complx_SMOTETomek_4l_256n_prob)\n",
    "auc = round(metrics.roc_auc_score(y_test, pred_labels_te_complx_SMOTETomek_4l_256n_prob), 4)\n",
    "plt.plot(fpr,tpr,label=\"complx_SMOTETOMEK_4l_256n, AUC=\"+str(auc))\n",
    "\n",
    "\n",
    "\n",
    "\n",
    "\n",
    "#add legend\n",
    "plt.legend()"
   ]
  },
  {
   "cell_type": "code",
   "execution_count": 12,
   "id": "f755f7f6",
   "metadata": {},
   "outputs": [
    {
     "data": {
      "text/plain": [
       "<matplotlib.legend.Legend at 0x7f938b43d690>"
      ]
     },
     "execution_count": 12,
     "metadata": {},
     "output_type": "execute_result"
    },
    {
     "data": {
      "image/png": "[encoded data removed]",
      "text/plain": [
       "<Figure size 432x288 with 1 Axes>"
      ]
     },
     "metadata": {
      "needs_background": "light"
     },
     "output_type": "display_data"
    }
   ],
   "source": [
    "plt.figure(0).clf()\n",
    "\n",
    "\n",
    "fpr, tpr, _ = metrics.roc_curve(y_test, pred_labels_te_simple_SMOTETomek_512n_1l_prob)\n",
    "auc = round(metrics.roc_auc_score(y_test, pred_labels_te_simple_SMOTETomek_512n_1l_prob), 4)\n",
    "plt.plot(fpr,tpr,label=\"complex_SMOTETomek_512n_1l, AUC=\"+str(auc))\n",
    "\n",
    "\n",
    "fpr, tpr, _ = metrics.roc_curve(y_test, pred_labels_te_simple_SMOTETomek_8n_1l_prob)\n",
    "auc = round(metrics.roc_auc_score(y_test, pred_labels_te_simple_SMOTETomek_8n_1l_prob), 4)\n",
    "plt.plot(fpr,tpr,label=\"simple_SMOTETomek_8n_1l, AUC=\"+str(auc))\n",
    "\n",
    "fpr, tpr, _ = metrics.roc_curve(y_test, pred_labels_te_complx_SMOTETomek_4l_256n_prob)\n",
    "auc = round(metrics.roc_auc_score(y_test, pred_labels_te_complx_SMOTETomek_4l_256n_prob), 4)\n",
    "plt.plot(fpr,tpr,label=\"complx_SMOTETOMEK_4l_256n,  AUC=\"+str(auc))\n",
    "\n",
    "\n",
    "\n",
    "#add legend\n",
    "plt.legend()"
   ]
  },
  {
   "cell_type": "code",
   "execution_count": null,
   "id": "31826488",
   "metadata": {},
   "outputs": [],
   "source": []
  }
 ],
 "metadata": {
  "kernelspec": {
   "display_name": "Python 3",
   "language": "python",
   "name": "python3"
  },
  "language_info": {
   "codemirror_mode": {
    "name": "ipython",
    "version": 3
   },
   "file_extension": ".py",
   "mimetype": "text/x-python",
   "name": "python",
   "nbconvert_exporter": "python",
   "pygments_lexer": "ipython3",
   "version": "3.6.13"
  }
 },
 "nbformat": 4,
 "nbformat_minor": 5
}
