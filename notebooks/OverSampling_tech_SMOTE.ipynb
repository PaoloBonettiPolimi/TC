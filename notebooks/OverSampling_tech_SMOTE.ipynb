{
 "cells": [
  {
   "cell_type": "code",
   "execution_count": 4,
   "id": "52a6b238",
   "metadata": {},
   "outputs": [
    {
     "name": "stdout",
     "output_type": "stream",
     "text": [
      "pandas: 1.4.3\n",
      "xarray: 0.20.1\n",
      "geopandas: 1.23.1\n"
     ]
    },
    {
     "ename": "ModuleNotFoundError",
     "evalue": "No module named 'tensorflow'",
     "output_type": "error",
     "traceback": [
      "\u001b[0;31m---------------------------------------------------------------------------\u001b[0m",
      "\u001b[0;31mModuleNotFoundError\u001b[0m                       Traceback (most recent call last)",
      "Input \u001b[0;32mIn [4]\u001b[0m, in \u001b[0;36m<cell line: 16>\u001b[0;34m()\u001b[0m\n\u001b[1;32m     12\u001b[0m \u001b[38;5;28mprint\u001b[39m(\u001b[38;5;124m'\u001b[39m\u001b[38;5;124mgeopandas: \u001b[39m\u001b[38;5;132;01m%s\u001b[39;00m\u001b[38;5;124m'\u001b[39m \u001b[38;5;241m%\u001b[39m np\u001b[38;5;241m.\u001b[39m__version__)\n\u001b[1;32m     15\u001b[0m \u001b[38;5;66;03m# tensorflow\u001b[39;00m\n\u001b[0;32m---> 16\u001b[0m \u001b[38;5;28;01mimport\u001b[39;00m \u001b[38;5;21;01mtensorflow\u001b[39;00m \u001b[38;5;28;01mas\u001b[39;00m \u001b[38;5;21;01mtf\u001b[39;00m\n\u001b[1;32m     17\u001b[0m \u001b[38;5;28mprint\u001b[39m(\u001b[38;5;124m'\u001b[39m\u001b[38;5;124mtensorflow: \u001b[39m\u001b[38;5;132;01m%s\u001b[39;00m\u001b[38;5;124m'\u001b[39m \u001b[38;5;241m%\u001b[39m tf\u001b[38;5;241m.\u001b[39m__version__)\n\u001b[1;32m     19\u001b[0m \u001b[38;5;66;03m# Tensorflow / Keras\u001b[39;00m\n",
      "\u001b[0;31mModuleNotFoundError\u001b[0m: No module named 'tensorflow'"
     ]
    }
   ],
   "source": [
    "#import libraries\n",
    "import pandas as pd\n",
    "print('pandas: %s' % pd.__version__)\n",
    "\n",
    "import xarray as xr\n",
    "print('xarray: %s' % xr.__version__)\n",
    "\n",
    "pd.options.display.max_columns = None\n",
    "pd.set_option('display.max_rows', 150)\n",
    "\n",
    "import numpy as np\n",
    "print('geopandas: %s' % np.__version__)\n",
    "\n",
    "\n",
    "# tensorflow\n",
    "import tensorflow as tf\n",
    "print('tensorflow: %s' % tf.__version__)\n",
    "\n",
    "# Tensorflow / Keras\n",
    "from tensorflow import keras # for building Neural Networks\n",
    "print('Tensorflow/Keras: %s' % keras.__version__) # print version\n",
    "from keras.models import Sequential # for creating a linear stack of layers for our Neural Network\n",
    "from keras import Input # for instantiating a keras tensor\n",
    "from keras.layers import Dense # for creating regular densely-connected NN layer.\n",
    "\n",
    "# Data manipulation\n",
    "import pandas as pd # for data manipulation\n",
    "print('pandas: %s' % pd.__version__) # print version\n",
    "import numpy as np # for data manipulation\n",
    "print('numpy: %s' % np.__version__) # print version\n",
    "\n",
    "# Sklearn\n",
    "import sklearn # for model evaluation\n",
    "print('sklearn: %s' % sklearn.__version__) # print version\n",
    "from sklearn.model_selection import train_test_split # for splitting the data into train and test samples\n",
    "from sklearn.metrics import classification_report # for model evaluation metrics\n",
    "\n",
    "# Visualization\n",
    "import plotly \n",
    "import plotly.express as px\n",
    "import plotly.graph_objects as go\n",
    "print('plotly: %s' % plotly.__version__) # print version\n",
    "\n",
    "# Other utilities\n",
    "import sys\n",
    "import os\n",
    "\n",
    "# Assign main directory to a variable\n",
    "main_dir=os.path.dirname(sys.path[0])\n",
    "print(main_dir)"
   ]
  },
  {
   "cell_type": "code",
   "execution_count": 3,
   "id": "2400d384",
   "metadata": {},
   "outputs": [],
   "source": [
    "test_set = pd.read_csv('data_with_newtarget/test_set_with_newtarget.csv')\n",
    "validation_set = pd.read_csv('data_with_newtarget/validation_set_with_newtarget.csv')\n",
    "traning_set = pd.read_csv('data_with_newtarget/traning_set_with_newtarget.csv')"
   ]
  },
  {
   "cell_type": "code",
   "execution_count": 3,
   "id": "108bf01f",
   "metadata": {},
   "outputs": [
    {
     "data": {
      "text/html": [
       "<div>\n",
       "<style scoped>\n",
       "    .dataframe tbody tr th:only-of-type {\n",
       "        vertical-align: middle;\n",
       "    }\n",
       "\n",
       "    .dataframe tbody tr th {\n",
       "        vertical-align: top;\n",
       "    }\n",
       "\n",
       "    .dataframe thead th {\n",
       "        text-align: right;\n",
       "    }\n",
       "</style>\n",
       "<table border=\"1\" class=\"dataframe\">\n",
       "  <thead>\n",
       "    <tr style=\"text-align: right;\">\n",
       "      <th></th>\n",
       "      <th>time</th>\n",
       "      <th>latitude</th>\n",
       "      <th>longitude</th>\n",
       "      <th>vo</th>\n",
       "      <th>r</th>\n",
       "      <th>u_200</th>\n",
       "      <th>u_850</th>\n",
       "      <th>v_200</th>\n",
       "      <th>v_850</th>\n",
       "      <th>ttr</th>\n",
       "      <th>sst</th>\n",
       "      <th>lsm</th>\n",
       "      <th>newlsm</th>\n",
       "      <th>Tomorrow_lsm</th>\n",
       "    </tr>\n",
       "  </thead>\n",
       "  <tbody>\n",
       "    <tr>\n",
       "      <th>0</th>\n",
       "      <td>2016-01-01</td>\n",
       "      <td>0.0</td>\n",
       "      <td>20.0</td>\n",
       "      <td>0.000011</td>\n",
       "      <td>80.796135</td>\n",
       "      <td>-2.052292</td>\n",
       "      <td>0.008678</td>\n",
       "      <td>4.996910</td>\n",
       "      <td>-1.678764</td>\n",
       "      <td>-272.04962</td>\n",
       "      <td>0.00000</td>\n",
       "      <td>0.0</td>\n",
       "      <td>0.0</td>\n",
       "      <td>0.0</td>\n",
       "    </tr>\n",
       "    <tr>\n",
       "      <th>1</th>\n",
       "      <td>2016-01-01</td>\n",
       "      <td>0.0</td>\n",
       "      <td>22.5</td>\n",
       "      <td>0.000011</td>\n",
       "      <td>77.748420</td>\n",
       "      <td>-4.445312</td>\n",
       "      <td>0.740505</td>\n",
       "      <td>7.517281</td>\n",
       "      <td>0.792618</td>\n",
       "      <td>-250.63333</td>\n",
       "      <td>0.00000</td>\n",
       "      <td>0.0</td>\n",
       "      <td>0.0</td>\n",
       "      <td>0.0</td>\n",
       "    </tr>\n",
       "    <tr>\n",
       "      <th>2</th>\n",
       "      <td>2016-01-01</td>\n",
       "      <td>0.0</td>\n",
       "      <td>25.0</td>\n",
       "      <td>-0.000001</td>\n",
       "      <td>71.178825</td>\n",
       "      <td>-3.778427</td>\n",
       "      <td>1.056324</td>\n",
       "      <td>9.333221</td>\n",
       "      <td>0.688252</td>\n",
       "      <td>-229.52519</td>\n",
       "      <td>0.00000</td>\n",
       "      <td>0.0</td>\n",
       "      <td>0.0</td>\n",
       "      <td>0.0</td>\n",
       "    </tr>\n",
       "    <tr>\n",
       "      <th>3</th>\n",
       "      <td>2016-01-01</td>\n",
       "      <td>0.0</td>\n",
       "      <td>27.5</td>\n",
       "      <td>-0.000005</td>\n",
       "      <td>73.585754</td>\n",
       "      <td>-4.695709</td>\n",
       "      <td>1.236446</td>\n",
       "      <td>9.589882</td>\n",
       "      <td>0.555519</td>\n",
       "      <td>-240.80815</td>\n",
       "      <td>0.00000</td>\n",
       "      <td>0.0</td>\n",
       "      <td>0.0</td>\n",
       "      <td>0.0</td>\n",
       "    </tr>\n",
       "    <tr>\n",
       "      <th>4</th>\n",
       "      <td>2016-01-01</td>\n",
       "      <td>0.0</td>\n",
       "      <td>30.0</td>\n",
       "      <td>-0.000016</td>\n",
       "      <td>72.382780</td>\n",
       "      <td>-4.002563</td>\n",
       "      <td>0.734211</td>\n",
       "      <td>5.410950</td>\n",
       "      <td>-1.086350</td>\n",
       "      <td>-262.45557</td>\n",
       "      <td>0.00000</td>\n",
       "      <td>0.0</td>\n",
       "      <td>0.0</td>\n",
       "      <td>0.0</td>\n",
       "    </tr>\n",
       "    <tr>\n",
       "      <th>...</th>\n",
       "      <td>...</td>\n",
       "      <td>...</td>\n",
       "      <td>...</td>\n",
       "      <td>...</td>\n",
       "      <td>...</td>\n",
       "      <td>...</td>\n",
       "      <td>...</td>\n",
       "      <td>...</td>\n",
       "      <td>...</td>\n",
       "      <td>...</td>\n",
       "      <td>...</td>\n",
       "      <td>...</td>\n",
       "      <td>...</td>\n",
       "      <td>...</td>\n",
       "    </tr>\n",
       "    <tr>\n",
       "      <th>539482</th>\n",
       "      <td>2019-12-01</td>\n",
       "      <td>-30.0</td>\n",
       "      <td>80.0</td>\n",
       "      <td>0.000006</td>\n",
       "      <td>2.637233</td>\n",
       "      <td>33.277840</td>\n",
       "      <td>5.379345</td>\n",
       "      <td>-0.286896</td>\n",
       "      <td>5.558327</td>\n",
       "      <td>-277.60870</td>\n",
       "      <td>294.14987</td>\n",
       "      <td>0.0</td>\n",
       "      <td>0.0</td>\n",
       "      <td>0.0</td>\n",
       "    </tr>\n",
       "    <tr>\n",
       "      <th>539483</th>\n",
       "      <td>2019-12-01</td>\n",
       "      <td>-30.0</td>\n",
       "      <td>82.5</td>\n",
       "      <td>-0.000020</td>\n",
       "      <td>23.660923</td>\n",
       "      <td>34.272537</td>\n",
       "      <td>6.438683</td>\n",
       "      <td>-13.026535</td>\n",
       "      <td>2.857349</td>\n",
       "      <td>-270.80573</td>\n",
       "      <td>294.23798</td>\n",
       "      <td>0.0</td>\n",
       "      <td>0.0</td>\n",
       "      <td>0.0</td>\n",
       "    </tr>\n",
       "    <tr>\n",
       "      <th>539484</th>\n",
       "      <td>2019-12-01</td>\n",
       "      <td>-30.0</td>\n",
       "      <td>85.0</td>\n",
       "      <td>-0.000019</td>\n",
       "      <td>46.051540</td>\n",
       "      <td>35.755882</td>\n",
       "      <td>7.248966</td>\n",
       "      <td>-18.870102</td>\n",
       "      <td>-3.349407</td>\n",
       "      <td>-249.43092</td>\n",
       "      <td>294.26890</td>\n",
       "      <td>0.0</td>\n",
       "      <td>0.0</td>\n",
       "      <td>0.0</td>\n",
       "    </tr>\n",
       "    <tr>\n",
       "      <th>539485</th>\n",
       "      <td>2019-12-01</td>\n",
       "      <td>-30.0</td>\n",
       "      <td>87.5</td>\n",
       "      <td>-0.000014</td>\n",
       "      <td>55.855648</td>\n",
       "      <td>34.069664</td>\n",
       "      <td>6.349327</td>\n",
       "      <td>-18.801796</td>\n",
       "      <td>-8.172478</td>\n",
       "      <td>-239.36870</td>\n",
       "      <td>294.36630</td>\n",
       "      <td>0.0</td>\n",
       "      <td>0.0</td>\n",
       "      <td>0.0</td>\n",
       "    </tr>\n",
       "    <tr>\n",
       "      <th>539486</th>\n",
       "      <td>2019-12-01</td>\n",
       "      <td>-30.0</td>\n",
       "      <td>90.0</td>\n",
       "      <td>0.000006</td>\n",
       "      <td>61.602300</td>\n",
       "      <td>29.167267</td>\n",
       "      <td>4.805676</td>\n",
       "      <td>-15.093590</td>\n",
       "      <td>-9.708778</td>\n",
       "      <td>-251.60574</td>\n",
       "      <td>293.74924</td>\n",
       "      <td>0.0</td>\n",
       "      <td>0.0</td>\n",
       "      <td>0.0</td>\n",
       "    </tr>\n",
       "  </tbody>\n",
       "</table>\n",
       "<p>539487 rows × 14 columns</p>\n",
       "</div>"
      ],
      "text/plain": [
       "              time  latitude  longitude        vo          r      u_200  \\\n",
       "0       2016-01-01       0.0       20.0  0.000011  80.796135  -2.052292   \n",
       "1       2016-01-01       0.0       22.5  0.000011  77.748420  -4.445312   \n",
       "2       2016-01-01       0.0       25.0 -0.000001  71.178825  -3.778427   \n",
       "3       2016-01-01       0.0       27.5 -0.000005  73.585754  -4.695709   \n",
       "4       2016-01-01       0.0       30.0 -0.000016  72.382780  -4.002563   \n",
       "...            ...       ...        ...       ...        ...        ...   \n",
       "539482  2019-12-01     -30.0       80.0  0.000006   2.637233  33.277840   \n",
       "539483  2019-12-01     -30.0       82.5 -0.000020  23.660923  34.272537   \n",
       "539484  2019-12-01     -30.0       85.0 -0.000019  46.051540  35.755882   \n",
       "539485  2019-12-01     -30.0       87.5 -0.000014  55.855648  34.069664   \n",
       "539486  2019-12-01     -30.0       90.0  0.000006  61.602300  29.167267   \n",
       "\n",
       "           u_850      v_200     v_850        ttr        sst  lsm  newlsm  \\\n",
       "0       0.008678   4.996910 -1.678764 -272.04962    0.00000  0.0     0.0   \n",
       "1       0.740505   7.517281  0.792618 -250.63333    0.00000  0.0     0.0   \n",
       "2       1.056324   9.333221  0.688252 -229.52519    0.00000  0.0     0.0   \n",
       "3       1.236446   9.589882  0.555519 -240.80815    0.00000  0.0     0.0   \n",
       "4       0.734211   5.410950 -1.086350 -262.45557    0.00000  0.0     0.0   \n",
       "...          ...        ...       ...        ...        ...  ...     ...   \n",
       "539482  5.379345  -0.286896  5.558327 -277.60870  294.14987  0.0     0.0   \n",
       "539483  6.438683 -13.026535  2.857349 -270.80573  294.23798  0.0     0.0   \n",
       "539484  7.248966 -18.870102 -3.349407 -249.43092  294.26890  0.0     0.0   \n",
       "539485  6.349327 -18.801796 -8.172478 -239.36870  294.36630  0.0     0.0   \n",
       "539486  4.805676 -15.093590 -9.708778 -251.60574  293.74924  0.0     0.0   \n",
       "\n",
       "        Tomorrow_lsm  \n",
       "0                0.0  \n",
       "1                0.0  \n",
       "2                0.0  \n",
       "3                0.0  \n",
       "4                0.0  \n",
       "...              ...  \n",
       "539482           0.0  \n",
       "539483           0.0  \n",
       "539484           0.0  \n",
       "539485           0.0  \n",
       "539486           0.0  \n",
       "\n",
       "[539487 rows x 14 columns]"
      ]
     },
     "execution_count": 3,
     "metadata": {},
     "output_type": "execute_result"
    }
   ],
   "source": [
    "#training with yestersay lsm\n",
    "traning_df = traning_set['newlsm']\n",
    "traning_df\n",
    "ndf = traning_df.iloc[1:]\n",
    "ndf.loc[4268771,] = 0.0\n",
    "nd = ndf.reset_index()\n",
    "del nd[\"index\"]\n",
    "nd =nd.rename(columns={'newlsm': 'Tomorrow_lsm'})\n",
    "df2 = traning_set.assign(Tomorrow_lsm=nd)\n",
    "del df2[\"Unnamed: 0\"]\n",
    "df2\n",
    "\n",
    "#validation with yestersay lsm\n",
    "validation_df = validation_set['newlsm']\n",
    "ndf_val = validation_df.iloc[1:]\n",
    "ndf_val.loc[688402,] = 0.0\n",
    "nd_val = ndf_val.reset_index()\n",
    "del nd_val[\"index\"]\n",
    "nd_val =nd_val.rename(columns={'newlsm': 'Tomorrow_lsm'})\n",
    "df3 = validation_set.assign(Tomorrow_lsm=nd_val)\n",
    "del df3[\"Unnamed: 0\"]\n",
    "df3\n",
    "\n",
    "#test with yestersay lsm\n",
    "test_df = test_set['newlsm']\n",
    "ndf_test = test_df.iloc[1:]\n",
    "ndf_test.loc[539487,] = 0.0\n",
    "nd_test = ndf_test.reset_index()\n",
    "del nd_test[\"index\"]\n",
    "nd_test =nd_test.rename(columns={'newlsm': 'Tomorrow_lsm'})\n",
    "df4 = test_set.assign(Tomorrow_lsm=nd_test)\n",
    "del df4[\"Unnamed: 0\"]\n",
    "df4"
   ]
  },
  {
   "cell_type": "code",
   "execution_count": 4,
   "id": "69ce3caf",
   "metadata": {},
   "outputs": [],
   "source": [
    "training_set_wt = df2\n",
    "validation_set_wt =df3\n",
    "test_set_wt = df4"
   ]
  },
  {
   "cell_type": "markdown",
   "id": "2bb5e1be",
   "metadata": {},
   "source": [
    "# modeling before smote modeling\n"
   ]
  },
  {
   "cell_type": "code",
   "execution_count": 5,
   "id": "f3c11a8a",
   "metadata": {},
   "outputs": [
    {
     "name": "stdout",
     "output_type": "stream",
     "text": [
      "******training features******\n",
      "               vo          r      u_200     u_850      v_200     v_850  \\\n",
      "0        0.000007  80.761185   1.909660 -3.323872   1.687164 -1.823624   \n",
      "1        0.000004  80.703650   1.165733 -2.844494   1.060593 -1.991425   \n",
      "2        0.000007  78.231514  -1.311676 -2.125244   3.280617 -1.931789   \n",
      "3        0.000010  79.631010  -3.777573 -1.122395   5.743889 -1.243538   \n",
      "4        0.000010  71.573875  -5.734505 -1.362953   6.514030 -0.954163   \n",
      "...           ...        ...        ...       ...        ...       ...   \n",
      "4268766  0.000015  26.797535  25.075424 -3.653679  -1.221291  1.515594   \n",
      "4268767 -0.000006  27.766910  24.175919 -2.866638  -6.724304  0.861771   \n",
      "4268768  0.000010  29.111805  24.655510 -2.809170 -10.138817  0.051220   \n",
      "4268769  0.000006  27.833050  25.088104 -2.730087 -11.036507  0.666927   \n",
      "4268770  0.000007  15.843884  24.510345 -3.213837 -10.213325 -0.098499   \n",
      "\n",
      "               ttr        sst  \n",
      "0       -247.54074    0.00000  \n",
      "1       -240.00592    0.00000  \n",
      "2       -223.76889    0.00000  \n",
      "3       -235.55556    0.00000  \n",
      "4       -254.03260    0.00000  \n",
      "...            ...        ...  \n",
      "4268766 -273.34204  296.89227  \n",
      "4268767 -280.37018  296.03314  \n",
      "4268768 -281.05167  295.36078  \n",
      "4268769 -280.05610  295.10638  \n",
      "4268770 -279.40427  294.44766  \n",
      "\n",
      "[4268771 rows x 8 columns]\n",
      "******training target******\n",
      "         Tomorrow_lsm\n",
      "0                 0.0\n",
      "1                 0.0\n",
      "2                 0.0\n",
      "3                 0.0\n",
      "4                 0.0\n",
      "...               ...\n",
      "4268766           0.0\n",
      "4268767           0.0\n",
      "4268768           0.0\n",
      "4268769           0.0\n",
      "4268770           0.0\n",
      "\n",
      "[4268771 rows x 1 columns]\n",
      "******test features******\n",
      "              vo          r      u_200     u_850      v_200     v_850  \\\n",
      "0       0.000011  80.796135  -2.052292  0.008678   4.996910 -1.678764   \n",
      "1       0.000011  77.748420  -4.445312  0.740505   7.517281  0.792618   \n",
      "2      -0.000001  71.178825  -3.778427  1.056324   9.333221  0.688252   \n",
      "3      -0.000005  73.585754  -4.695709  1.236446   9.589882  0.555519   \n",
      "4      -0.000016  72.382780  -4.002563  0.734211   5.410950 -1.086350   \n",
      "...          ...        ...        ...       ...        ...       ...   \n",
      "539482  0.000006   2.637233  33.277840  5.379345  -0.286896  5.558327   \n",
      "539483 -0.000020  23.660923  34.272537  6.438683 -13.026535  2.857349   \n",
      "539484 -0.000019  46.051540  35.755882  7.248966 -18.870102 -3.349407   \n",
      "539485 -0.000014  55.855648  34.069664  6.349327 -18.801796 -8.172478   \n",
      "539486  0.000006  61.602300  29.167267  4.805676 -15.093590 -9.708778   \n",
      "\n",
      "              ttr        sst  \n",
      "0      -272.04962    0.00000  \n",
      "1      -250.63333    0.00000  \n",
      "2      -229.52519    0.00000  \n",
      "3      -240.80815    0.00000  \n",
      "4      -262.45557    0.00000  \n",
      "...           ...        ...  \n",
      "539482 -277.60870  294.14987  \n",
      "539483 -270.80573  294.23798  \n",
      "539484 -249.43092  294.26890  \n",
      "539485 -239.36870  294.36630  \n",
      "539486 -251.60574  293.74924  \n",
      "\n",
      "[539487 rows x 8 columns]\n",
      "******test target******\n",
      "        Tomorrow_lsm\n",
      "0                0.0\n",
      "1                0.0\n",
      "2                0.0\n",
      "3                0.0\n",
      "4                0.0\n",
      "...              ...\n",
      "539482           0.0\n",
      "539483           0.0\n",
      "539484           0.0\n",
      "539485           0.0\n",
      "539486           0.0\n",
      "\n",
      "[539487 rows x 1 columns]\n",
      "******validation features******\n",
      "              vo          r      u_200     u_850     v_200     v_850  \\\n",
      "0       0.000003  73.016390  -5.760780 -4.216808  6.860649 -4.352928   \n",
      "1       0.000003  74.569660  -4.942451 -3.857407  6.459419 -3.991157   \n",
      "2       0.000004  80.080090  -3.848740 -3.175144  6.303680 -3.446140   \n",
      "3       0.000012  83.676704   0.330811 -2.526569  7.235268 -2.307594   \n",
      "4       0.000011  76.225440   3.678749 -1.027561  7.020271 -0.077572   \n",
      "...          ...        ...        ...       ...       ...       ...   \n",
      "688397  0.000014  70.662056  23.560066  1.655861  9.690376  3.621418   \n",
      "688398 -0.000006  51.213654  22.381706  0.321705  9.860390 -0.099480   \n",
      "688399  0.000009  46.678970  22.464828  0.851299  7.661758 -0.725330   \n",
      "688400  0.000002  59.362090  22.364807  0.543045  5.595253 -1.542034   \n",
      "688401  0.000014  65.915980  23.052147  0.048565  1.080147 -1.203087   \n",
      "\n",
      "              ttr        sst  \n",
      "0      -212.59741    0.00000  \n",
      "1      -198.23593    0.00000  \n",
      "2      -195.83296    0.00000  \n",
      "3      -191.47444    0.00000  \n",
      "4      -191.98111    0.00000  \n",
      "...           ...        ...  \n",
      "688397 -271.57556  296.77530  \n",
      "688398 -269.94592  296.44290  \n",
      "688399 -270.18890  295.73486  \n",
      "688400 -264.07333  295.24792  \n",
      "688401 -259.79480  295.79680  \n",
      "\n",
      "[688402 rows x 8 columns]\n",
      "******validation target******\n",
      "        Tomorrow_lsm\n",
      "0                0.0\n",
      "1                0.0\n",
      "2                0.0\n",
      "3                0.0\n",
      "4                0.0\n",
      "...              ...\n",
      "688397           0.0\n",
      "688398           0.0\n",
      "688399           0.0\n",
      "688400           0.0\n",
      "688401           0.0\n",
      "\n",
      "[688402 rows x 1 columns]\n"
     ]
    }
   ],
   "source": [
    "##### Step 2 - Split training data\n",
    "x_training = training_set_wt[[ 'vo', 'r', 'u_200', 'u_850', 'v_200','v_850', 'ttr','sst']]\n",
    "print (\"******training features******\")\n",
    "print (x_training)\n",
    "y_training = training_set_wt[['Tomorrow_lsm']]\n",
    "print (\"******training target******\")\n",
    "print (y_training)\n",
    "\n",
    "##### Step 3 - Split test data\n",
    "x_test = test_set_wt[[ 'vo', 'r', 'u_200', 'u_850', 'v_200','v_850', 'ttr','sst']]\n",
    "print (\"******test features******\")\n",
    "print (x_test)\n",
    "y_test = test_set_wt[['Tomorrow_lsm']]\n",
    "print (\"******test target******\")\n",
    "print (y_test)\n",
    "\n",
    "##### Step 4 - Split validation data\n",
    "x_validation = validation_set_wt[[ 'vo', 'r', 'u_200', 'u_850', 'v_200','v_850', 'ttr','sst']]\n",
    "print (\"******validation features******\")\n",
    "print (x_validation)\n",
    "y_validation = validation_set_wt[['Tomorrow_lsm']]\n",
    "print (\"******validation target******\")\n",
    "print (y_validation)"
   ]
  },
  {
   "cell_type": "code",
   "execution_count": 45,
   "id": "cd0abf86",
   "metadata": {},
   "outputs": [
    {
     "name": "stdout",
     "output_type": "stream",
     "text": [
      "WARNING:tensorflow:Falling back from v2 loop because of error: Failed to find data adapter that can handle input: <class 'pandas.core.frame.DataFrame'>, <class 'NoneType'>\n",
      "Train on 4268771 samples, validate on 688402 samples\n",
      "4268771/4268771 [==============================] - 261s 61us/sample - loss: 0.0223 - accuracy: 0.9965 - val_loss: 0.0184 - val_accuracy: 0.9969\n"
     ]
    },
    {
     "data": {
      "text/plain": [
       "<tensorflow.python.keras.callbacks.History at 0x7f9866240790>"
      ]
     },
     "execution_count": 45,
     "metadata": {},
     "output_type": "execute_result"
    }
   ],
   "source": [
    "##### Step 5 - Specify the structure of a Neural Network\n",
    "model_simple = tf.keras.models.Sequential([\n",
    "    tf.keras.layers.Flatten(input_shape=(8,)),\n",
    "    tf.keras.layers.Dense(8, activation='tanh', name='Hidden-Layer'),\n",
    "    tf.keras.layers.Dropout(0.2),\n",
    "    tf.keras.layers.Dense(1, activation='sigmoid', name='Output-Layer')\n",
    "])\n",
    "model_simple.compile(optimizer='adam',\n",
    "    loss='binary_crossentropy',\n",
    "    metrics=['accuracy'])\n",
    "\n",
    "model_simple.fit(x_training, y_training, epochs = 1 ,  validation_data=(x_validation, y_validation))#*********more epochs = 5\n"
   ]
  },
  {
   "cell_type": "code",
   "execution_count": 47,
   "id": "b4561ec2",
   "metadata": {},
   "outputs": [
    {
     "name": "stdout",
     "output_type": "stream",
     "text": [
      "WARNING:tensorflow:Falling back from v2 loop because of error: Failed to find data adapter that can handle input: <class 'pandas.core.frame.DataFrame'>, <class 'NoneType'>\n",
      "WARNING:tensorflow:Falling back from v2 loop because of error: Failed to find data adapter that can handle input: <class 'pandas.core.frame.DataFrame'>, <class 'NoneType'>\n",
      "\n",
      "-------------------- Model Summary --------------------\n",
      "Model: \"sequential_13\"\n",
      "_________________________________________________________________\n",
      "Layer (type)                 Output Shape              Param #   \n",
      "=================================================================\n",
      "flatten_13 (Flatten)         (None, 8)                 0         \n",
      "_________________________________________________________________\n",
      "Hidden-Layer (Dense)         (None, 8)                 72        \n",
      "_________________________________________________________________\n",
      "dropout_13 (Dropout)         (None, 8)                 0         \n",
      "_________________________________________________________________\n",
      "Output-Layer (Dense)         (None, 1)                 9         \n",
      "=================================================================\n",
      "Total params: 81\n",
      "Trainable params: 81\n",
      "Non-trainable params: 0\n",
      "_________________________________________________________________\n",
      "\n",
      "-------------------- Weights and Biases --------------------\n",
      "Layer:  flatten_13\n",
      "Layer:  Hidden-Layer\n",
      "Layer:  dropout_13\n",
      "Layer:  Output-Layer\n",
      "\n",
      "---------- Evaluation on Training Data ----------\n",
      "              precision    recall  f1-score   support\n",
      "\n",
      "         0.0       1.00      0.85      0.92   4254174\n",
      "         1.0       0.01      0.62      0.03     14597\n",
      "\n",
      "    accuracy                           0.85   4268771\n",
      "   macro avg       0.51      0.73      0.47   4268771\n",
      "weighted avg       1.00      0.85      0.92   4268771\n",
      "\n",
      "\n",
      "---------- Evaluation on Test Data ----------\n",
      "              precision    recall  f1-score   support\n",
      "\n",
      "         0.0       1.00      0.85      0.92    537732\n",
      "         1.0       0.01      0.64      0.03      1755\n",
      "\n",
      "    accuracy                           0.85    539487\n",
      "   macro avg       0.51      0.74      0.47    539487\n",
      "weighted avg       1.00      0.85      0.92    539487\n",
      "\n",
      "\n"
     ]
    }
   ],
   "source": [
    "##### Step 6 - Use model to make predictions\n",
    "# Predict class labels on training data\n",
    "pred_labels_tr_simple = (model_simple.predict(x_training)> 0.01).astype(int)\n",
    "# Predict class labels on a test data\n",
    "pred_labels_te_simple = (model_simple.predict(x_test)> 0.01).astype(int)\n",
    "#> 0.01).astype(int)\n",
    "\n",
    "##### Step 7 - Model Performance Summary\n",
    "print(\"\")\n",
    "print('-------------------- Model Summary --------------------')\n",
    "model_simple.summary() # print model summary\n",
    "print(\"\")\n",
    "print('-------------------- Weights and Biases --------------------')\n",
    "for layer in model_simple.layers:\n",
    "    print(\"Layer: \", layer.name) # print layer name\n",
    "    \n",
    "print(\"\")\n",
    "print('---------- Evaluation on Training Data ----------')\n",
    "print(classification_report(y_training, pred_labels_tr_simple))\n",
    "print(\"\")\n",
    "\n",
    "print('---------- Evaluation on Test Data ----------')\n",
    "print(classification_report(y_test, pred_labels_te_simple))\n",
    "print(\"\")\n"
   ]
  },
  {
   "cell_type": "code",
   "execution_count": 8,
   "id": "af5fda56",
   "metadata": {},
   "outputs": [
    {
     "name": "stdout",
     "output_type": "stream",
     "text": [
      "[[498928  38804]\n",
      " [   890    865]]\n"
     ]
    },
    {
     "data": {
      "image/png": "[encoded data removed]",
      "text/plain": [
       "<Figure size 432x288 with 2 Axes>"
      ]
     },
     "metadata": {
      "needs_background": "light"
     },
     "output_type": "display_data"
    },
    {
     "data": {
      "image/png": "[encoded data removed]",
      "text/plain": [
       "<Figure size 432x288 with 2 Axes>"
      ]
     },
     "metadata": {
      "needs_background": "light"
     },
     "output_type": "display_data"
    }
   ],
   "source": [
    "from sklearn.metrics import confusion_matrix\n",
    "\n",
    "import seaborn as sns\n",
    "import matplotlib.pyplot as plt\n",
    "\n",
    "\n",
    "#Generate the confusion matrix\n",
    "cf_matrix = confusion_matrix(y_test, pred_labels_te)\n",
    "\n",
    "print(cf_matrix)\n",
    "\n",
    "ax = sns.heatmap(cf_matrix, annot=True, cmap='Blues')\n",
    "\n",
    "ax.set_title('Tropical cyclones Confusion Matrix with labels\\n\\n');\n",
    "ax.set_xlabel('\\nPredicted Values')\n",
    "ax.set_ylabel('Actual Values ');\n",
    "\n",
    "## Ticket labels - List must be in alphabetical order\n",
    "ax.xaxis.set_ticklabels(['False','True'])\n",
    "ax.yaxis.set_ticklabels(['False','True'])\n",
    "\n",
    "## Display the visualization of the Confusion Matrix.\n",
    "plt.show()\n",
    "\n",
    "ax = sns.heatmap(cf_matrix/np.sum(cf_matrix), annot=True, \n",
    "            fmt='.2%', cmap='Blues')\n",
    "\n",
    "ax.set_title('Tropical cyclones Confusion Matrix with labels\\n\\n');\n",
    "ax.set_xlabel('\\nPredicted Values')\n",
    "ax.set_ylabel('Actual Values ');\n",
    "\n",
    "## Ticket labels - List must be in alphabetical order\n",
    "ax.xaxis.set_ticklabels(['False','True'])\n",
    "ax.yaxis.set_ticklabels(['False','True'])\n",
    "\n",
    "## Display the visualization of the Confusion Matrix.\n",
    "plt.show()"
   ]
  },
  {
   "cell_type": "code",
   "execution_count": 48,
   "id": "2b0e7571",
   "metadata": {},
   "outputs": [
    {
     "name": "stdout",
     "output_type": "stream",
     "text": [
      "Model: ROC AUC=0.744\n"
     ]
    },
    {
     "data": {
      "image/png": "[encoded data removed]",
      "text/plain": [
       "<Figure size 432x288 with 1 Axes>"
      ]
     },
     "metadata": {
      "needs_background": "light"
     },
     "output_type": "display_data"
    }
   ],
   "source": [
    "plot_roc_curve(y_test, pred_labels_te_simple)"
   ]
  },
  {
   "cell_type": "markdown",
   "id": "f6192dff",
   "metadata": {},
   "source": [
    "# Smote\n"
   ]
  },
  {
   "cell_type": "code",
   "execution_count": 6,
   "id": "b038a038",
   "metadata": {},
   "outputs": [
    {
     "name": "stdout",
     "output_type": "stream",
     "text": [
      "Before Smote\n",
      "[0. 1.]\n",
      "> Class=0 : 4254174/4268771 (99.7%)\n",
      "> Class=1 : 14597/4268771 (0.3%)\n",
      "After SMOTE\n",
      "[0. 1.]\n",
      "> Class=0 : 4254174/8508348 (50.0%)\n",
      "> Class=1 : 4254174/8508348 (50.0%)\n"
     ]
    }
   ],
   "source": [
    "from imblearn.over_sampling import SMOTE\n",
    "from collections import Counter\n",
    "from numpy import * \n",
    "\n",
    "\n",
    "print('Before Smote')\n",
    "\n",
    "dff = y_training\n",
    "M = y_training.to_numpy()\n",
    "# summarize dataset\n",
    "classes = unique(M)\n",
    "print(classes)\n",
    "total = len(M)\n",
    "for c in classes:\n",
    "    n_examples = len(M[M==c])\n",
    "    percent = n_examples / total * 100\n",
    "    print('> Class=%d : %d/%d (%.1f%%)' % (c, n_examples, total, percent))\n",
    "\n",
    "smt = SMOTE()\n",
    "\n",
    "X_training_sm, Y_traning_sm = smt.fit_resample(x_training, y_training)\n",
    "\n",
    "print('After SMOTE')\n",
    "dff = Y_traning_sm\n",
    "M = Y_traning_sm.to_numpy()\n",
    "# summarize dataset\n",
    "classes = unique(M)\n",
    "print(classes)\n",
    "total = len(M)\n",
    "for c in classes:\n",
    "    n_examples = len(M[M==c])\n",
    "    percent = n_examples / total * 100\n",
    "    print('> Class=%d : %d/%d (%.1f%%)' % (c, n_examples, total, percent))"
   ]
  },
  {
   "cell_type": "code",
   "execution_count": 17,
   "id": "d448acc9",
   "metadata": {},
   "outputs": [
    {
     "name": "stdout",
     "output_type": "stream",
     "text": [
      "WARNING:tensorflow:Falling back from v2 loop because of error: Failed to find data adapter that can handle input: <class 'pandas.core.frame.DataFrame'>, <class 'NoneType'>\n",
      "Train on 8508348 samples, validate on 688402 samples\n",
      "Epoch 1/3\n",
      "8508348/8508348 [==============================] - 2072s 244us/sample - loss: 0.4049 - accuracy: 0.8055 - val_loss: 0.3706 - val_accuracy: 0.8732\n",
      "Epoch 2/3\n",
      "8508348/8508348 [==============================] - 1933s 227us/sample - loss: 0.3944 - accuracy: 0.8120 - val_loss: 0.3556 - val_accuracy: 0.8561\n",
      "Epoch 3/3\n",
      "8508348/8508348 [==============================] - 1905s 224us/sample - loss: 0.3936 - accuracy: 0.8124 - val_loss: 0.3307 - val_accuracy: 0.8788\n"
     ]
    },
    {
     "data": {
      "text/plain": [
       "<tensorflow.python.keras.callbacks.History at 0x7f9867c45f90>"
      ]
     },
     "execution_count": 17,
     "metadata": {},
     "output_type": "execute_result"
    }
   ],
   "source": [
    "##### Step 5 - Specify the structure of a Neural Network\n",
    "model = tf.keras.models.Sequential([\n",
    "    tf.keras.layers.Flatten(input_shape=(8,)),\n",
    "    tf.keras.layers.Dense(256, activation='tanh', name='Hidden-Layer1'),\n",
    "    tf.keras.layers.Dense(256, activation='tanh', name='Hidden-Layer2'),\n",
    "    tf.keras.layers.Dense(256, activation='tanh', name='Hidden-Layer3'),\n",
    "    tf.keras.layers.Dense(256, activation='tanh', name='Hidden-Layer4'),\n",
    "    tf.keras.layers.Dropout(0.2),\n",
    "    tf.keras.layers.Dense(1, activation='sigmoid', name='Output-Layer')\n",
    "])\n",
    "model.compile(optimizer='adam',\n",
    "    loss='binary_crossentropy',\n",
    "    metrics=['accuracy'])\n",
    "\n",
    "model.fit(X_training_sm, Y_traning_sm, epochs = 3 ,  validation_data=(x_validation, y_validation))#*********more epochs = 5\n"
   ]
  },
  {
   "cell_type": "code",
   "execution_count": 58,
   "id": "deaf8186",
   "metadata": {},
   "outputs": [
    {
     "name": "stdout",
     "output_type": "stream",
     "text": [
      "WARNING:tensorflow:Falling back from v2 loop because of error: Failed to find data adapter that can handle input: <class 'pandas.core.frame.DataFrame'>, <class 'NoneType'>\n",
      "WARNING:tensorflow:Falling back from v2 loop because of error: Failed to find data adapter that can handle input: <class 'pandas.core.frame.DataFrame'>, <class 'NoneType'>\n",
      "\n",
      "-------------------- Model Summary --------------------\n",
      "Model: \"sequential_12\"\n",
      "_________________________________________________________________\n",
      "Layer (type)                 Output Shape              Param #   \n",
      "=================================================================\n",
      "flatten_12 (Flatten)         (None, 8)                 0         \n",
      "_________________________________________________________________\n",
      "Hidden-Layer (Dense)         (None, 8)                 72        \n",
      "_________________________________________________________________\n",
      "dropout_12 (Dropout)         (None, 8)                 0         \n",
      "_________________________________________________________________\n",
      "Output-Layer (Dense)         (None, 1)                 9         \n",
      "=================================================================\n",
      "Total params: 81\n",
      "Trainable params: 81\n",
      "Non-trainable params: 0\n",
      "_________________________________________________________________\n",
      "\n",
      "-------------------- Weights and Biases --------------------\n",
      "Layer:  flatten_12\n",
      "Layer:  Hidden-Layer\n",
      "Layer:  dropout_12\n",
      "Layer:  Output-Layer\n",
      "\n",
      "---------- Evaluation on Training Data ----------\n"
     ]
    },
    {
     "name": "stderr",
     "output_type": "stream",
     "text": [
      "/Users/3rfanian/opt/anaconda3/envs/project_thesis/lib/python3.7/site-packages/sklearn/metrics/_classification.py:1318: UndefinedMetricWarning: Precision and F-score are ill-defined and being set to 0.0 in labels with no predicted samples. Use `zero_division` parameter to control this behavior.\n",
      "  _warn_prf(average, modifier, msg_start, len(result))\n",
      "/Users/3rfanian/opt/anaconda3/envs/project_thesis/lib/python3.7/site-packages/sklearn/metrics/_classification.py:1318: UndefinedMetricWarning: Precision and F-score are ill-defined and being set to 0.0 in labels with no predicted samples. Use `zero_division` parameter to control this behavior.\n",
      "  _warn_prf(average, modifier, msg_start, len(result))\n",
      "/Users/3rfanian/opt/anaconda3/envs/project_thesis/lib/python3.7/site-packages/sklearn/metrics/_classification.py:1318: UndefinedMetricWarning: Precision and F-score are ill-defined and being set to 0.0 in labels with no predicted samples. Use `zero_division` parameter to control this behavior.\n",
      "  _warn_prf(average, modifier, msg_start, len(result))\n"
     ]
    },
    {
     "name": "stdout",
     "output_type": "stream",
     "text": [
      "              precision    recall  f1-score   support\n",
      "\n",
      "         0.0       1.00      1.00      1.00   4254174\n",
      "         1.0       0.00      0.00      0.00     14597\n",
      "\n",
      "    accuracy                           1.00   4268771\n",
      "   macro avg       0.50      0.50      0.50   4268771\n",
      "weighted avg       0.99      1.00      0.99   4268771\n",
      "\n",
      "\n",
      "---------- Evaluation on Test Data ----------\n"
     ]
    },
    {
     "name": "stderr",
     "output_type": "stream",
     "text": [
      "/Users/3rfanian/opt/anaconda3/envs/project_thesis/lib/python3.7/site-packages/sklearn/metrics/_classification.py:1318: UndefinedMetricWarning: Precision and F-score are ill-defined and being set to 0.0 in labels with no predicted samples. Use `zero_division` parameter to control this behavior.\n",
      "  _warn_prf(average, modifier, msg_start, len(result))\n"
     ]
    },
    {
     "name": "stdout",
     "output_type": "stream",
     "text": [
      "              precision    recall  f1-score   support\n",
      "\n",
      "         0.0       1.00      1.00      1.00    537732\n",
      "         1.0       0.00      0.00      0.00      1755\n",
      "\n",
      "    accuracy                           1.00    539487\n",
      "   macro avg       0.50      0.50      0.50    539487\n",
      "weighted avg       0.99      1.00      1.00    539487\n",
      "\n",
      "\n"
     ]
    },
    {
     "name": "stderr",
     "output_type": "stream",
     "text": [
      "/Users/3rfanian/opt/anaconda3/envs/project_thesis/lib/python3.7/site-packages/sklearn/metrics/_classification.py:1318: UndefinedMetricWarning: Precision and F-score are ill-defined and being set to 0.0 in labels with no predicted samples. Use `zero_division` parameter to control this behavior.\n",
      "  _warn_prf(average, modifier, msg_start, len(result))\n",
      "/Users/3rfanian/opt/anaconda3/envs/project_thesis/lib/python3.7/site-packages/sklearn/metrics/_classification.py:1318: UndefinedMetricWarning: Precision and F-score are ill-defined and being set to 0.0 in labels with no predicted samples. Use `zero_division` parameter to control this behavior.\n",
      "  _warn_prf(average, modifier, msg_start, len(result))\n"
     ]
    }
   ],
   "source": [
    "##### Step 6 - Use model to make predictions\n",
    "# Predict class labels on training data\n",
    "pred_labels_tr_complex_400n_4l_SMOTE = (model.predict(x_training)> 0.5).astype(int)\n",
    "# Predict class labels on a test data\n",
    "pred_labels_te_complex_400n_4l_SMOTE = (model.predict(x_test)> 0.5).astype(int)\n",
    "#   > 0.01).astype(int)\n",
    "\n",
    "##### Step 7 - Model Performance Summary\n",
    "print(\"\")\n",
    "print('-------------------- Model Summary --------------------')\n",
    "model.summary() # print model summary\n",
    "print(\"\")\n",
    "print('-------------------- Weights and Biases --------------------')\n",
    "for layer in model.layers:\n",
    "    print(\"Layer: \", layer.name) # print layer name\n",
    "    \n",
    "print(\"\")\n",
    "print('---------- Evaluation on Training Data ----------')\n",
    "print(classification_report(y_training, pred_labels_tr_complex_400n_4l_SMOTE))\n",
    "print(\"\")\n",
    "\n",
    "print('---------- Evaluation on Test Data ----------')\n",
    "print(classification_report(y_test, pred_labels_te_complex_400n_4l_SMOTE))\n",
    "print(\"\")"
   ]
  },
  {
   "cell_type": "code",
   "execution_count": 19,
   "id": "4ac665e5",
   "metadata": {},
   "outputs": [],
   "source": [
    "dfq = test_set_wt.assign(predict_value=pred_labels_te)\n",
    "dfq\n",
    "dfq.to_csv('data_with_newtarget/Predicted_value_Complexmodel_256noodes_4hiddenlayers__SMOTE.csv')  \n",
    "\n"
   ]
  },
  {
   "cell_type": "code",
   "execution_count": 22,
   "id": "8a43fe07",
   "metadata": {},
   "outputs": [
    {
     "data": {
      "text/plain": [
       "<sklearn.metrics._plot.confusion_matrix.ConfusionMatrixDisplay at 0x7f986798bad0>"
      ]
     },
     "execution_count": 22,
     "metadata": {},
     "output_type": "execute_result"
    },
    {
     "data": {
      "image/png": "[encoded data removed]",
      "text/plain": [
       "<Figure size 432x288 with 1 Axes>"
      ]
     },
     "metadata": {
      "needs_background": "light"
     },
     "output_type": "display_data"
    },
    {
     "data": {
      "image/png": "[encoded data removed]",
      "text/plain": [
       "<Figure size 432x288 with 1 Axes>"
      ]
     },
     "metadata": {
      "needs_background": "light"
     },
     "output_type": "display_data"
    }
   ],
   "source": [
    "from sklearn.metrics import confusion_matrix\n",
    "import matplotlib.pyplot as plt\n",
    "\n",
    "from sklearn.metrics import ConfusionMatrixDisplay\n",
    "ConfusionMatrixDisplay(confusion_matrix(y_test, pred_labels_te)).plot(colorbar=False,cmap=plt.cm.Blues)\n",
    "ConfusionMatrixDisplay(confusion_matrix(y_test, pred_labels_te,normalize='true')).plot(colorbar=False,cmap=plt.cm.Blues)"
   ]
  },
  {
   "cell_type": "code",
   "execution_count": 23,
   "id": "15eaa489",
   "metadata": {},
   "outputs": [],
   "source": [
    "# Imports\n",
    "import matplotlib.pyplot as plt\n",
    "from sklearn.metrics import roc_auc_score, roc_curve\n",
    "\n",
    "# ROC Function\n",
    "def plot_roc_curve(Y_test, model_probs):\n",
    "\n",
    "    random_probs = [0 for _ in range(len(Y_test))]\n",
    "    # calculate AUC\n",
    "    model_auc = roc_auc_score(Y_test, model_probs)\n",
    "    # summarize score\n",
    "    print('Model: ROC AUC=%.3f' % (model_auc))\n",
    "    # calculate ROC Curve\n",
    "        # For the Random Model\n",
    "    random_fpr, random_tpr, _ = roc_curve(Y_test, random_probs)\n",
    "        # For the actual model\n",
    "    model_fpr, model_tpr, _ = roc_curve(Y_test, model_probs)\n",
    "    # Plot the roc curve for the model and the random model line\n",
    "    plt.plot(random_fpr, random_tpr, linestyle='--', label='Random')\n",
    "    plt.plot(model_fpr, model_tpr, marker='.', label='Model')\n",
    "    # Create labels for the axis\n",
    "    plt.xlabel('False Positive Rate')\n",
    "    plt.ylabel('True Positive Rate')\n",
    "    # show the legend\n",
    "    plt.legend()\n",
    "    # show the plot\n",
    "    plt.show()"
   ]
  },
  {
   "cell_type": "code",
   "execution_count": 59,
   "id": "8f09697d",
   "metadata": {},
   "outputs": [
    {
     "name": "stdout",
     "output_type": "stream",
     "text": [
      "Model: ROC AUC=0.652\n"
     ]
    },
    {
     "data": {
      "image/png": "[encoded data removed]",
      "text/plain": [
       "<Figure size 432x288 with 1 Axes>"
      ]
     },
     "metadata": {
      "needs_background": "light"
     },
     "output_type": "display_data"
    }
   ],
   "source": [
    "plot_roc_curve(y_test, pred_labels_te)"
   ]
  },
  {
   "cell_type": "code",
   "execution_count": 26,
   "id": "10f2097b",
   "metadata": {},
   "outputs": [
    {
     "name": "stdout",
     "output_type": "stream",
     "text": [
      "INFO:tensorflow:Assets written to: ComModel_256n_4l_SMOTE/assets\n"
     ]
    }
   ],
   "source": [
    "model.save('ComModel_256n_4l_SMOTE')\n",
    "model.save('ComModel_256n_4l_SMOTE.h5')"
   ]
  },
  {
   "cell_type": "markdown",
   "id": "98316434",
   "metadata": {},
   "source": [
    "# after nodes256\n"
   ]
  },
  {
   "cell_type": "code",
   "execution_count": 35,
   "id": "d648d4c1",
   "metadata": {},
   "outputs": [
    {
     "data": {
      "text/html": [
       "<div>\n",
       "<style scoped>\n",
       "    .dataframe tbody tr th:only-of-type {\n",
       "        vertical-align: middle;\n",
       "    }\n",
       "\n",
       "    .dataframe tbody tr th {\n",
       "        vertical-align: top;\n",
       "    }\n",
       "\n",
       "    .dataframe thead th {\n",
       "        text-align: right;\n",
       "    }\n",
       "</style>\n",
       "<table border=\"1\" class=\"dataframe\">\n",
       "  <thead>\n",
       "    <tr style=\"text-align: right;\">\n",
       "      <th></th>\n",
       "      <th>time</th>\n",
       "      <th>latitude</th>\n",
       "      <th>longitude</th>\n",
       "      <th>vo</th>\n",
       "      <th>r</th>\n",
       "      <th>u_200</th>\n",
       "      <th>u_850</th>\n",
       "      <th>v_200</th>\n",
       "      <th>v_850</th>\n",
       "      <th>ttr</th>\n",
       "      <th>sst</th>\n",
       "      <th>lsm</th>\n",
       "      <th>newlsm</th>\n",
       "      <th>Tomorrow_lsm</th>\n",
       "    </tr>\n",
       "    <tr>\n",
       "      <th>predict_value</th>\n",
       "      <th></th>\n",
       "      <th></th>\n",
       "      <th></th>\n",
       "      <th></th>\n",
       "      <th></th>\n",
       "      <th></th>\n",
       "      <th></th>\n",
       "      <th></th>\n",
       "      <th></th>\n",
       "      <th></th>\n",
       "      <th></th>\n",
       "      <th></th>\n",
       "      <th></th>\n",
       "      <th></th>\n",
       "    </tr>\n",
       "  </thead>\n",
       "  <tbody>\n",
       "    <tr>\n",
       "      <th>0.058402</th>\n",
       "      <td>52322</td>\n",
       "      <td>52322</td>\n",
       "      <td>52322</td>\n",
       "      <td>52322</td>\n",
       "      <td>52322</td>\n",
       "      <td>52322</td>\n",
       "      <td>52322</td>\n",
       "      <td>52322</td>\n",
       "      <td>52322</td>\n",
       "      <td>52322</td>\n",
       "      <td>52322</td>\n",
       "      <td>52322</td>\n",
       "      <td>52322</td>\n",
       "      <td>52322</td>\n",
       "    </tr>\n",
       "    <tr>\n",
       "      <th>0.058402</th>\n",
       "      <td>162</td>\n",
       "      <td>162</td>\n",
       "      <td>162</td>\n",
       "      <td>162</td>\n",
       "      <td>162</td>\n",
       "      <td>162</td>\n",
       "      <td>162</td>\n",
       "      <td>162</td>\n",
       "      <td>162</td>\n",
       "      <td>162</td>\n",
       "      <td>162</td>\n",
       "      <td>162</td>\n",
       "      <td>162</td>\n",
       "      <td>162</td>\n",
       "    </tr>\n",
       "    <tr>\n",
       "      <th>0.058402</th>\n",
       "      <td>294</td>\n",
       "      <td>294</td>\n",
       "      <td>294</td>\n",
       "      <td>294</td>\n",
       "      <td>294</td>\n",
       "      <td>294</td>\n",
       "      <td>294</td>\n",
       "      <td>294</td>\n",
       "      <td>294</td>\n",
       "      <td>294</td>\n",
       "      <td>294</td>\n",
       "      <td>294</td>\n",
       "      <td>294</td>\n",
       "      <td>294</td>\n",
       "    </tr>\n",
       "    <tr>\n",
       "      <th>0.058402</th>\n",
       "      <td>32</td>\n",
       "      <td>32</td>\n",
       "      <td>32</td>\n",
       "      <td>32</td>\n",
       "      <td>32</td>\n",
       "      <td>32</td>\n",
       "      <td>32</td>\n",
       "      <td>32</td>\n",
       "      <td>32</td>\n",
       "      <td>32</td>\n",
       "      <td>32</td>\n",
       "      <td>32</td>\n",
       "      <td>32</td>\n",
       "      <td>32</td>\n",
       "    </tr>\n",
       "    <tr>\n",
       "      <th>0.058402</th>\n",
       "      <td>98</td>\n",
       "      <td>98</td>\n",
       "      <td>98</td>\n",
       "      <td>98</td>\n",
       "      <td>98</td>\n",
       "      <td>98</td>\n",
       "      <td>98</td>\n",
       "      <td>98</td>\n",
       "      <td>98</td>\n",
       "      <td>98</td>\n",
       "      <td>98</td>\n",
       "      <td>98</td>\n",
       "      <td>98</td>\n",
       "      <td>98</td>\n",
       "    </tr>\n",
       "    <tr>\n",
       "      <th>...</th>\n",
       "      <td>...</td>\n",
       "      <td>...</td>\n",
       "      <td>...</td>\n",
       "      <td>...</td>\n",
       "      <td>...</td>\n",
       "      <td>...</td>\n",
       "      <td>...</td>\n",
       "      <td>...</td>\n",
       "      <td>...</td>\n",
       "      <td>...</td>\n",
       "      <td>...</td>\n",
       "      <td>...</td>\n",
       "      <td>...</td>\n",
       "      <td>...</td>\n",
       "    </tr>\n",
       "    <tr>\n",
       "      <th>0.873528</th>\n",
       "      <td>77</td>\n",
       "      <td>77</td>\n",
       "      <td>77</td>\n",
       "      <td>77</td>\n",
       "      <td>77</td>\n",
       "      <td>77</td>\n",
       "      <td>77</td>\n",
       "      <td>77</td>\n",
       "      <td>77</td>\n",
       "      <td>77</td>\n",
       "      <td>77</td>\n",
       "      <td>77</td>\n",
       "      <td>77</td>\n",
       "      <td>77</td>\n",
       "    </tr>\n",
       "    <tr>\n",
       "      <th>0.873529</th>\n",
       "      <td>126</td>\n",
       "      <td>126</td>\n",
       "      <td>126</td>\n",
       "      <td>126</td>\n",
       "      <td>126</td>\n",
       "      <td>126</td>\n",
       "      <td>126</td>\n",
       "      <td>126</td>\n",
       "      <td>126</td>\n",
       "      <td>126</td>\n",
       "      <td>126</td>\n",
       "      <td>126</td>\n",
       "      <td>126</td>\n",
       "      <td>126</td>\n",
       "    </tr>\n",
       "    <tr>\n",
       "      <th>0.873529</th>\n",
       "      <td>133</td>\n",
       "      <td>133</td>\n",
       "      <td>133</td>\n",
       "      <td>133</td>\n",
       "      <td>133</td>\n",
       "      <td>133</td>\n",
       "      <td>133</td>\n",
       "      <td>133</td>\n",
       "      <td>133</td>\n",
       "      <td>133</td>\n",
       "      <td>133</td>\n",
       "      <td>133</td>\n",
       "      <td>133</td>\n",
       "      <td>133</td>\n",
       "    </tr>\n",
       "    <tr>\n",
       "      <th>0.873529</th>\n",
       "      <td>76</td>\n",
       "      <td>76</td>\n",
       "      <td>76</td>\n",
       "      <td>76</td>\n",
       "      <td>76</td>\n",
       "      <td>76</td>\n",
       "      <td>76</td>\n",
       "      <td>76</td>\n",
       "      <td>76</td>\n",
       "      <td>76</td>\n",
       "      <td>76</td>\n",
       "      <td>76</td>\n",
       "      <td>76</td>\n",
       "      <td>76</td>\n",
       "    </tr>\n",
       "    <tr>\n",
       "      <th>0.873529</th>\n",
       "      <td>12987</td>\n",
       "      <td>12987</td>\n",
       "      <td>12987</td>\n",
       "      <td>12987</td>\n",
       "      <td>12987</td>\n",
       "      <td>12987</td>\n",
       "      <td>12987</td>\n",
       "      <td>12987</td>\n",
       "      <td>12987</td>\n",
       "      <td>12987</td>\n",
       "      <td>12987</td>\n",
       "      <td>12987</td>\n",
       "      <td>12987</td>\n",
       "      <td>12987</td>\n",
       "    </tr>\n",
       "  </tbody>\n",
       "</table>\n",
       "<p>53722 rows × 14 columns</p>\n",
       "</div>"
      ],
      "text/plain": [
       "                time  latitude  longitude     vo      r  u_200  u_850  v_200  \\\n",
       "predict_value                                                                  \n",
       "0.058402       52322     52322      52322  52322  52322  52322  52322  52322   \n",
       "0.058402         162       162        162    162    162    162    162    162   \n",
       "0.058402         294       294        294    294    294    294    294    294   \n",
       "0.058402          32        32         32     32     32     32     32     32   \n",
       "0.058402          98        98         98     98     98     98     98     98   \n",
       "...              ...       ...        ...    ...    ...    ...    ...    ...   \n",
       "0.873528          77        77         77     77     77     77     77     77   \n",
       "0.873529         126       126        126    126    126    126    126    126   \n",
       "0.873529         133       133        133    133    133    133    133    133   \n",
       "0.873529          76        76         76     76     76     76     76     76   \n",
       "0.873529       12987     12987      12987  12987  12987  12987  12987  12987   \n",
       "\n",
       "               v_850    ttr    sst    lsm  newlsm  Tomorrow_lsm  \n",
       "predict_value                                                    \n",
       "0.058402       52322  52322  52322  52322   52322         52322  \n",
       "0.058402         162    162    162    162     162           162  \n",
       "0.058402         294    294    294    294     294           294  \n",
       "0.058402          32     32     32     32      32            32  \n",
       "0.058402          98     98     98     98      98            98  \n",
       "...              ...    ...    ...    ...     ...           ...  \n",
       "0.873528          77     77     77     77      77            77  \n",
       "0.873529         126    126    126    126     126           126  \n",
       "0.873529         133    133    133    133     133           133  \n",
       "0.873529          76     76     76     76      76            76  \n",
       "0.873529       12987  12987  12987  12987   12987         12987  \n",
       "\n",
       "[53722 rows x 14 columns]"
      ]
     },
     "execution_count": 35,
     "metadata": {},
     "output_type": "execute_result"
    }
   ],
   "source": [
    "neee = dfq.groupby(['predict_value']).count()\n",
    "neee"
   ]
  },
  {
   "cell_type": "code",
   "execution_count": 100,
   "id": "b58b86b8",
   "metadata": {},
   "outputs": [],
   "source": [
    "dfq.to_csv('data_with_newtarget/Predicted_value_SimpleModel_SMOTE.csv')  \n"
   ]
  },
  {
   "cell_type": "code",
   "execution_count": 86,
   "id": "8500505b",
   "metadata": {},
   "outputs": [
    {
     "name": "stdout",
     "output_type": "stream",
     "text": [
      "[[529910   7822]\n",
      " [  1216    539]]\n"
     ]
    },
    {
     "data": {
      "image/png": "[encoded data removed]",
      "text/plain": [
       "<Figure size 432x288 with 2 Axes>"
      ]
     },
     "metadata": {
      "needs_background": "light"
     },
     "output_type": "display_data"
    },
    {
     "data": {
      "image/png": "[encoded data removed]",
      "text/plain": [
       "<Figure size 432x288 with 2 Axes>"
      ]
     },
     "metadata": {
      "needs_background": "light"
     },
     "output_type": "display_data"
    }
   ],
   "source": [
    "\n",
    "#Generate the confusion matrix\n",
    "cf_matrix = confusion_matrix(y_test, pred_labels_te)\n",
    "\n",
    "print(cf_matrix)\n",
    "\n",
    "ax = sns.heatmap(cf_matrix, annot=True, cmap='Blues', fmt='g')\n",
    "\n",
    "ax.set_title('Tropical cyclones Confusion Matrix with labels\\n\\n');\n",
    "ax.set_xlabel('\\nPredicted Values')\n",
    "ax.set_ylabel('Actual Values ');\n",
    "\n",
    "## Ticket labels - List must be in alphabetical order\n",
    "ax.xaxis.set_ticklabels(['False','True'])\n",
    "ax.yaxis.set_ticklabels(['False','True'])\n",
    "\n",
    "## Display the visualization of the Confusion Matrix.\n",
    "plt.show()\n",
    "\n",
    "ax = sns.heatmap(cf_matrix/np.sum(cf_matrix), annot=True, \n",
    "            fmt='0.001%', cmap='Blues')\n",
    "\n",
    "ax.set_title('Tropical cyclones Confusion Matrix with labels\\n\\n');\n",
    "ax.set_xlabel('\\nPredicted Values')\n",
    "ax.set_ylabel('Actual Values ');\n",
    "\n",
    "## Ticket labels - List must be in alphabetical order\n",
    "ax.xaxis.set_ticklabels(['False','True'])\n",
    "ax.yaxis.set_ticklabels(['False','True'])\n",
    "\n",
    "## Display the visualization of the Confusion Matrix.\n",
    "plt.show()"
   ]
  },
  {
   "cell_type": "code",
   "execution_count": 72,
   "id": "b13ba5d7",
   "metadata": {},
   "outputs": [
    {
     "name": "stdout",
     "output_type": "stream",
     "text": [
      "[[412460 125272]\n",
      " [   311   1444]]\n"
     ]
    },
    {
     "data": {
      "image/png": "[encoded data removed]",
      "text/plain": [
       "<Figure size 432x288 with 2 Axes>"
      ]
     },
     "metadata": {
      "needs_background": "light"
     },
     "output_type": "display_data"
    },
    {
     "data": {
      "image/png": "[encoded data removed]",
      "text/plain": [
       "<Figure size 432x288 with 2 Axes>"
      ]
     },
     "metadata": {
      "needs_background": "light"
     },
     "output_type": "display_data"
    }
   ],
   "source": [
    "\n",
    "#Generate the confusion matrix\n",
    "cf_matrix = confusion_matrix(y_test, pred_labels_te)\n",
    "\n",
    "print(cf_matrix)\n",
    "\n",
    "ax = sns.heatmap(cf_matrix, annot=True, cmap='Blues')\n",
    "\n",
    "ax.set_title('Tropical cyclones Confusion Matrix with labels\\n\\n');\n",
    "ax.set_xlabel('\\nPredicted Values')\n",
    "ax.set_ylabel('Actual Values ');\n",
    "\n",
    "## Ticket labels - List must be in alphabetical order\n",
    "ax.xaxis.set_ticklabels(['False','True'])\n",
    "ax.yaxis.set_ticklabels(['False','True'])\n",
    "\n",
    "## Display the visualization of the Confusion Matrix.\n",
    "plt.show()\n",
    "\n",
    "ax = sns.heatmap(cf_matrix/np.sum(cf_matrix), annot=True, \n",
    "            fmt='.2%', cmap='Blues')\n",
    "\n",
    "ax.set_title('Tropical cyclones Confusion Matrix with labels\\n\\n');\n",
    "ax.set_xlabel('\\nPredicted Values')\n",
    "ax.set_ylabel('Actual Values ');\n",
    "\n",
    "## Ticket labels - List must be in alphabetical order\n",
    "ax.xaxis.set_ticklabels(['False','True'])\n",
    "ax.yaxis.set_ticklabels(['False','True'])\n",
    "\n",
    "## Display the visualization of the Confusion Matrix.\n",
    "plt.show()"
   ]
  },
  {
   "cell_type": "code",
   "execution_count": 87,
   "id": "049c846a",
   "metadata": {},
   "outputs": [],
   "source": [
    "# Imports\n",
    "import matplotlib.pyplot as plt\n",
    "from sklearn.metrics import roc_auc_score, roc_curve\n",
    "\n",
    "# ROC Function\n",
    "def plot_roc_curve(Y_test, model_probs):\n",
    "\n",
    "    random_probs = [0 for _ in range(len(Y_test))]\n",
    "    # calculate AUC\n",
    "    model_auc = roc_auc_score(Y_test, model_probs)\n",
    "    # summarize score\n",
    "    print('Model: ROC AUC=%.3f' % (model_auc))\n",
    "    # calculate ROC Curve\n",
    "        # For the Random Model\n",
    "    random_fpr, random_tpr, _ = roc_curve(Y_test, random_probs)\n",
    "        # For the actual model\n",
    "    model_fpr, model_tpr, _ = roc_curve(Y_test, model_probs)\n",
    "    # Plot the roc curve for the model and the random model line\n",
    "    plt.plot(random_fpr, random_tpr, linestyle='--', label='Random')\n",
    "    plt.plot(model_fpr, model_tpr, marker='.', label='Model')\n",
    "    # Create labels for the axis\n",
    "    plt.xlabel('False Positive Rate')\n",
    "    plt.ylabel('True Positive Rate')\n",
    "    # show the legend\n",
    "    plt.legend()\n",
    "    # show the plot\n",
    "    plt.show()"
   ]
  },
  {
   "cell_type": "code",
   "execution_count": 88,
   "id": "7bff2e79",
   "metadata": {},
   "outputs": [
    {
     "name": "stdout",
     "output_type": "stream",
     "text": [
      "Model: ROC AUC=0.646\n"
     ]
    },
    {
     "data": {
      "image/png": "[encoded data removed]",
      "text/plain": [
       "<Figure size 432x288 with 1 Axes>"
      ]
     },
     "metadata": {
      "needs_background": "light"
     },
     "output_type": "display_data"
    }
   ],
   "source": [
    "plot_roc_curve(y_test, pred_labels_te)"
   ]
  },
  {
   "cell_type": "code",
   "execution_count": 96,
   "id": "21b00b2f",
   "metadata": {},
   "outputs": [
    {
     "data": {
      "text/plain": [
       "<sklearn.metrics._plot.confusion_matrix.ConfusionMatrixDisplay at 0x7f8977eb2090>"
      ]
     },
     "execution_count": 96,
     "metadata": {},
     "output_type": "execute_result"
    },
    {
     "data": {
      "image/png": "[encoded data removed]",
      "text/plain": [
       "<Figure size 432x288 with 1 Axes>"
      ]
     },
     "metadata": {
      "needs_background": "light"
     },
     "output_type": "display_data"
    },
    {
     "data": {
      "image/png": "[encoded data removed]",
      "text/plain": [
       "<Figure size 432x288 with 1 Axes>"
      ]
     },
     "metadata": {
      "needs_background": "light"
     },
     "output_type": "display_data"
    }
   ],
   "source": [
    "from sklearn.metrics import confusion_matrix\n",
    "from sklearn.metrics import ConfusionMatrixDisplay\n",
    "ConfusionMatrixDisplay(confusion_matrix(y_test, pred_labels_te)).plot(colorbar=False,cmap=plt.cm.Blues)\n",
    "ConfusionMatrixDisplay(confusion_matrix(y_test, pred_labels_te,normalize='true')).plot(colorbar=False,cmap=plt.cm.Blues)"
   ]
  },
  {
   "cell_type": "code",
   "execution_count": 103,
   "id": "6e72cfe9",
   "metadata": {},
   "outputs": [
    {
     "name": "stdout",
     "output_type": "stream",
     "text": [
      "WARNING:tensorflow:Falling back from v2 loop because of error: Failed to find data adapter that can handle input: <class 'pandas.core.frame.DataFrame'>, <class 'NoneType'>\n",
      "Train on 8508348 samples, validate on 688402 samples\n",
      "Epoch 1/2\n",
      "8508348/8508348 [==============================] - 1238s 146us/sample - loss: 0.4070 - accuracy: 0.8054 - val_loss: 0.4575 - val_accuracy: 0.7745\n",
      "Epoch 2/2\n",
      "8508348/8508348 [==============================] - 1234s 145us/sample - loss: 0.3947 - accuracy: 0.8126 - val_loss: 0.3310 - val_accuracy: 0.8530\n"
     ]
    },
    {
     "data": {
      "text/plain": [
       "<tensorflow.python.keras.callbacks.History at 0x7f8729a138d0>"
      ]
     },
     "execution_count": 103,
     "metadata": {},
     "output_type": "execute_result"
    }
   ],
   "source": [
    "##model with more nodes\n",
    "##### Step 5 - Specify the structure of a Neural Network\n",
    "model = tf.keras.models.Sequential([\n",
    "    tf.keras.layers.Flatten(input_shape=(8,)),\n",
    "    tf.keras.layers.Dense(400, activation='tanh', name='Hidden-Layer'),\n",
    "    \n",
    "    tf.keras.layers.Dropout(0.2),\n",
    "    tf.keras.layers.Dense(1, activation='sigmoid', name='Output-Layer')\n",
    "])\n",
    "model.compile(optimizer='adam',\n",
    "    loss='binary_crossentropy',\n",
    "    metrics=['accuracy'])\n",
    "\n",
    "model.fit(X_training_sm, Y_traning_sm, epochs = 2 ,  validation_data=(x_validation, y_validation))#*********more epochs = 5\n"
   ]
  },
  {
   "cell_type": "code",
   "execution_count": 111,
   "id": "337959a4",
   "metadata": {},
   "outputs": [
    {
     "name": "stdout",
     "output_type": "stream",
     "text": [
      "WARNING:tensorflow:Falling back from v2 loop because of error: Failed to find data adapter that can handle input: <class 'pandas.core.frame.DataFrame'>, <class 'NoneType'>\n",
      "WARNING:tensorflow:Falling back from v2 loop because of error: Failed to find data adapter that can handle input: <class 'pandas.core.frame.DataFrame'>, <class 'NoneType'>\n",
      "\n",
      "-------------------- Model Summary --------------------\n",
      "Model: \"sequential_12\"\n",
      "_________________________________________________________________\n",
      "Layer (type)                 Output Shape              Param #   \n",
      "=================================================================\n",
      "flatten_12 (Flatten)         (None, 8)                 0         \n",
      "_________________________________________________________________\n",
      "Hidden-Layer0 (Dense)        (None, 10)                90        \n",
      "_________________________________________________________________\n",
      "Hidden-Layer1 (Dense)        (None, 10)                110       \n",
      "_________________________________________________________________\n",
      "Hidden-Layer2 (Dense)        (None, 10)                110       \n",
      "_________________________________________________________________\n",
      "Hidden-Layer3 (Dense)        (None, 10)                110       \n",
      "_________________________________________________________________\n",
      "Hidden-Layer4 (Dense)        (None, 10)                110       \n",
      "_________________________________________________________________\n",
      "dropout_12 (Dropout)         (None, 10)                0         \n",
      "_________________________________________________________________\n",
      "Output-Layer (Dense)         (None, 1)                 11        \n",
      "=================================================================\n",
      "Total params: 541\n",
      "Trainable params: 541\n",
      "Non-trainable params: 0\n",
      "_________________________________________________________________\n",
      "\n",
      "-------------------- Weights and Biases --------------------\n",
      "Layer:  flatten_12\n",
      "Layer:  Hidden-Layer0\n",
      "Layer:  Hidden-Layer1\n",
      "Layer:  Hidden-Layer2\n",
      "Layer:  Hidden-Layer3\n",
      "Layer:  Hidden-Layer4\n",
      "Layer:  dropout_12\n",
      "Layer:  Output-Layer\n",
      "\n",
      "---------- Evaluation on Training Data ----------\n",
      "\n",
      "---------- Evaluation on Test Data ----------\n",
      "\n"
     ]
    }
   ],
   "source": [
    "##### Step 6 - Use model to make predictions\n",
    "# Predict class labels on training data\n",
    "pred_labels_tr = (model.predict(x_training))\n",
    "# Predict class labels on a test data\n",
    "pred_labels_te = (model.predict(x_test))\n",
    "#> 0.01).astype(int)\n",
    "\n",
    "##### Step 7 - Model Performance Summary\n",
    "print(\"\")\n",
    "print('-------------------- Model Summary --------------------')\n",
    "model.summary() # print model summary\n",
    "print(\"\")\n",
    "print('-------------------- Weights and Biases --------------------')\n",
    "for layer in model.layers:\n",
    "    print(\"Layer: \", layer.name) # print layer name\n",
    "    \n",
    "print(\"\")\n",
    "print('---------- Evaluation on Training Data ----------')\n",
    "#print(classification_report(y_training, pred_labels_tr))\n",
    "print(\"\")\n",
    "\n",
    "print('---------- Evaluation on Test Data ----------')\n",
    "#print(classification_report(y_test, pred_labels_te))\n",
    "print(\"\")"
   ]
  },
  {
   "cell_type": "code",
   "execution_count": 108,
   "id": "5dd55db1",
   "metadata": {},
   "outputs": [
    {
     "data": {
      "text/plain": [
       "<sklearn.metrics._plot.confusion_matrix.ConfusionMatrixDisplay at 0x7f898d4a0190>"
      ]
     },
     "execution_count": 108,
     "metadata": {},
     "output_type": "execute_result"
    },
    {
     "data": {
      "image/png": "[encoded data removed]",
      "text/plain": [
       "<Figure size 432x288 with 1 Axes>"
      ]
     },
     "metadata": {
      "needs_background": "light"
     },
     "output_type": "display_data"
    },
    {
     "data": {
      "image/png": "[encoded data removed]",
      "text/plain": [
       "<Figure size 432x288 with 1 Axes>"
      ]
     },
     "metadata": {
      "needs_background": "light"
     },
     "output_type": "display_data"
    }
   ],
   "source": [
    "from sklearn.metrics import confusion_matrix\n",
    "from sklearn.metrics import ConfusionMatrixDisplay\n",
    "ConfusionMatrixDisplay(confusion_matrix(y_test, pred_labels_te)).plot(colorbar=False,cmap=plt.cm.Blues)\n",
    "ConfusionMatrixDisplay(confusion_matrix(y_test, pred_labels_te,normalize='true')).plot(colorbar=False,cmap=plt.cm.Blues)"
   ]
  },
  {
   "cell_type": "code",
   "execution_count": 112,
   "id": "650e280d",
   "metadata": {},
   "outputs": [
    {
     "name": "stdout",
     "output_type": "stream",
     "text": [
      "Model: ROC AUC=0.897\n"
     ]
    },
    {
     "data": {
      "image/png": "[encoded data removed]",
      "text/plain": [
       "<Figure size 432x288 with 1 Axes>"
      ]
     },
     "metadata": {
      "needs_background": "light"
     },
     "output_type": "display_data"
    }
   ],
   "source": [
    "plot_roc_curve(y_test, pred_labels_te)"
   ]
  },
  {
   "cell_type": "code",
   "execution_count": 113,
   "id": "2ab2ee1e",
   "metadata": {},
   "outputs": [
    {
     "data": {
      "text/html": [
       "<div>\n",
       "<style scoped>\n",
       "    .dataframe tbody tr th:only-of-type {\n",
       "        vertical-align: middle;\n",
       "    }\n",
       "\n",
       "    .dataframe tbody tr th {\n",
       "        vertical-align: top;\n",
       "    }\n",
       "\n",
       "    .dataframe thead th {\n",
       "        text-align: right;\n",
       "    }\n",
       "</style>\n",
       "<table border=\"1\" class=\"dataframe\">\n",
       "  <thead>\n",
       "    <tr style=\"text-align: right;\">\n",
       "      <th></th>\n",
       "      <th>time</th>\n",
       "      <th>latitude</th>\n",
       "      <th>longitude</th>\n",
       "      <th>vo</th>\n",
       "      <th>r</th>\n",
       "      <th>u_200</th>\n",
       "      <th>u_850</th>\n",
       "      <th>v_200</th>\n",
       "      <th>v_850</th>\n",
       "      <th>ttr</th>\n",
       "      <th>sst</th>\n",
       "      <th>lsm</th>\n",
       "      <th>newlsm</th>\n",
       "      <th>Tomorrow_lsm</th>\n",
       "      <th>predict_value</th>\n",
       "    </tr>\n",
       "  </thead>\n",
       "  <tbody>\n",
       "    <tr>\n",
       "      <th>0</th>\n",
       "      <td>2016-01-01</td>\n",
       "      <td>0.0</td>\n",
       "      <td>20.0</td>\n",
       "      <td>0.000011</td>\n",
       "      <td>80.796135</td>\n",
       "      <td>-2.052292</td>\n",
       "      <td>0.008678</td>\n",
       "      <td>4.996910</td>\n",
       "      <td>-1.678764</td>\n",
       "      <td>-272.04962</td>\n",
       "      <td>0.00000</td>\n",
       "      <td>0.0</td>\n",
       "      <td>0.0</td>\n",
       "      <td>0.0</td>\n",
       "      <td>0.203044</td>\n",
       "    </tr>\n",
       "    <tr>\n",
       "      <th>1</th>\n",
       "      <td>2016-01-01</td>\n",
       "      <td>0.0</td>\n",
       "      <td>22.5</td>\n",
       "      <td>0.000011</td>\n",
       "      <td>77.748420</td>\n",
       "      <td>-4.445312</td>\n",
       "      <td>0.740505</td>\n",
       "      <td>7.517281</td>\n",
       "      <td>0.792618</td>\n",
       "      <td>-250.63333</td>\n",
       "      <td>0.00000</td>\n",
       "      <td>0.0</td>\n",
       "      <td>0.0</td>\n",
       "      <td>0.0</td>\n",
       "      <td>0.203242</td>\n",
       "    </tr>\n",
       "    <tr>\n",
       "      <th>2</th>\n",
       "      <td>2016-01-01</td>\n",
       "      <td>0.0</td>\n",
       "      <td>25.0</td>\n",
       "      <td>-0.000001</td>\n",
       "      <td>71.178825</td>\n",
       "      <td>-3.778427</td>\n",
       "      <td>1.056324</td>\n",
       "      <td>9.333221</td>\n",
       "      <td>0.688252</td>\n",
       "      <td>-229.52519</td>\n",
       "      <td>0.00000</td>\n",
       "      <td>0.0</td>\n",
       "      <td>0.0</td>\n",
       "      <td>0.0</td>\n",
       "      <td>0.203278</td>\n",
       "    </tr>\n",
       "    <tr>\n",
       "      <th>3</th>\n",
       "      <td>2016-01-01</td>\n",
       "      <td>0.0</td>\n",
       "      <td>27.5</td>\n",
       "      <td>-0.000005</td>\n",
       "      <td>73.585754</td>\n",
       "      <td>-4.695709</td>\n",
       "      <td>1.236446</td>\n",
       "      <td>9.589882</td>\n",
       "      <td>0.555519</td>\n",
       "      <td>-240.80815</td>\n",
       "      <td>0.00000</td>\n",
       "      <td>0.0</td>\n",
       "      <td>0.0</td>\n",
       "      <td>0.0</td>\n",
       "      <td>0.203145</td>\n",
       "    </tr>\n",
       "    <tr>\n",
       "      <th>4</th>\n",
       "      <td>2016-01-01</td>\n",
       "      <td>0.0</td>\n",
       "      <td>30.0</td>\n",
       "      <td>-0.000016</td>\n",
       "      <td>72.382780</td>\n",
       "      <td>-4.002563</td>\n",
       "      <td>0.734211</td>\n",
       "      <td>5.410950</td>\n",
       "      <td>-1.086350</td>\n",
       "      <td>-262.45557</td>\n",
       "      <td>0.00000</td>\n",
       "      <td>0.0</td>\n",
       "      <td>0.0</td>\n",
       "      <td>0.0</td>\n",
       "      <td>0.203044</td>\n",
       "    </tr>\n",
       "    <tr>\n",
       "      <th>...</th>\n",
       "      <td>...</td>\n",
       "      <td>...</td>\n",
       "      <td>...</td>\n",
       "      <td>...</td>\n",
       "      <td>...</td>\n",
       "      <td>...</td>\n",
       "      <td>...</td>\n",
       "      <td>...</td>\n",
       "      <td>...</td>\n",
       "      <td>...</td>\n",
       "      <td>...</td>\n",
       "      <td>...</td>\n",
       "      <td>...</td>\n",
       "      <td>...</td>\n",
       "      <td>...</td>\n",
       "    </tr>\n",
       "    <tr>\n",
       "      <th>539482</th>\n",
       "      <td>2019-12-01</td>\n",
       "      <td>-30.0</td>\n",
       "      <td>80.0</td>\n",
       "      <td>0.000006</td>\n",
       "      <td>2.637233</td>\n",
       "      <td>33.277840</td>\n",
       "      <td>5.379345</td>\n",
       "      <td>-0.286896</td>\n",
       "      <td>5.558327</td>\n",
       "      <td>-277.60870</td>\n",
       "      <td>294.14987</td>\n",
       "      <td>0.0</td>\n",
       "      <td>0.0</td>\n",
       "      <td>0.0</td>\n",
       "      <td>0.049964</td>\n",
       "    </tr>\n",
       "    <tr>\n",
       "      <th>539483</th>\n",
       "      <td>2019-12-01</td>\n",
       "      <td>-30.0</td>\n",
       "      <td>82.5</td>\n",
       "      <td>-0.000020</td>\n",
       "      <td>23.660923</td>\n",
       "      <td>34.272537</td>\n",
       "      <td>6.438683</td>\n",
       "      <td>-13.026535</td>\n",
       "      <td>2.857349</td>\n",
       "      <td>-270.80573</td>\n",
       "      <td>294.23798</td>\n",
       "      <td>0.0</td>\n",
       "      <td>0.0</td>\n",
       "      <td>0.0</td>\n",
       "      <td>0.049778</td>\n",
       "    </tr>\n",
       "    <tr>\n",
       "      <th>539484</th>\n",
       "      <td>2019-12-01</td>\n",
       "      <td>-30.0</td>\n",
       "      <td>85.0</td>\n",
       "      <td>-0.000019</td>\n",
       "      <td>46.051540</td>\n",
       "      <td>35.755882</td>\n",
       "      <td>7.248966</td>\n",
       "      <td>-18.870102</td>\n",
       "      <td>-3.349407</td>\n",
       "      <td>-249.43092</td>\n",
       "      <td>294.26890</td>\n",
       "      <td>0.0</td>\n",
       "      <td>0.0</td>\n",
       "      <td>0.0</td>\n",
       "      <td>0.049763</td>\n",
       "    </tr>\n",
       "    <tr>\n",
       "      <th>539485</th>\n",
       "      <td>2019-12-01</td>\n",
       "      <td>-30.0</td>\n",
       "      <td>87.5</td>\n",
       "      <td>-0.000014</td>\n",
       "      <td>55.855648</td>\n",
       "      <td>34.069664</td>\n",
       "      <td>6.349327</td>\n",
       "      <td>-18.801796</td>\n",
       "      <td>-8.172478</td>\n",
       "      <td>-239.36870</td>\n",
       "      <td>294.36630</td>\n",
       "      <td>0.0</td>\n",
       "      <td>0.0</td>\n",
       "      <td>0.0</td>\n",
       "      <td>0.049764</td>\n",
       "    </tr>\n",
       "    <tr>\n",
       "      <th>539486</th>\n",
       "      <td>2019-12-01</td>\n",
       "      <td>-30.0</td>\n",
       "      <td>90.0</td>\n",
       "      <td>0.000006</td>\n",
       "      <td>61.602300</td>\n",
       "      <td>29.167267</td>\n",
       "      <td>4.805676</td>\n",
       "      <td>-15.093590</td>\n",
       "      <td>-9.708778</td>\n",
       "      <td>-251.60574</td>\n",
       "      <td>293.74924</td>\n",
       "      <td>0.0</td>\n",
       "      <td>0.0</td>\n",
       "      <td>0.0</td>\n",
       "      <td>0.052762</td>\n",
       "    </tr>\n",
       "  </tbody>\n",
       "</table>\n",
       "<p>539487 rows × 15 columns</p>\n",
       "</div>"
      ],
      "text/plain": [
       "              time  latitude  longitude        vo          r      u_200  \\\n",
       "0       2016-01-01       0.0       20.0  0.000011  80.796135  -2.052292   \n",
       "1       2016-01-01       0.0       22.5  0.000011  77.748420  -4.445312   \n",
       "2       2016-01-01       0.0       25.0 -0.000001  71.178825  -3.778427   \n",
       "3       2016-01-01       0.0       27.5 -0.000005  73.585754  -4.695709   \n",
       "4       2016-01-01       0.0       30.0 -0.000016  72.382780  -4.002563   \n",
       "...            ...       ...        ...       ...        ...        ...   \n",
       "539482  2019-12-01     -30.0       80.0  0.000006   2.637233  33.277840   \n",
       "539483  2019-12-01     -30.0       82.5 -0.000020  23.660923  34.272537   \n",
       "539484  2019-12-01     -30.0       85.0 -0.000019  46.051540  35.755882   \n",
       "539485  2019-12-01     -30.0       87.5 -0.000014  55.855648  34.069664   \n",
       "539486  2019-12-01     -30.0       90.0  0.000006  61.602300  29.167267   \n",
       "\n",
       "           u_850      v_200     v_850        ttr        sst  lsm  newlsm  \\\n",
       "0       0.008678   4.996910 -1.678764 -272.04962    0.00000  0.0     0.0   \n",
       "1       0.740505   7.517281  0.792618 -250.63333    0.00000  0.0     0.0   \n",
       "2       1.056324   9.333221  0.688252 -229.52519    0.00000  0.0     0.0   \n",
       "3       1.236446   9.589882  0.555519 -240.80815    0.00000  0.0     0.0   \n",
       "4       0.734211   5.410950 -1.086350 -262.45557    0.00000  0.0     0.0   \n",
       "...          ...        ...       ...        ...        ...  ...     ...   \n",
       "539482  5.379345  -0.286896  5.558327 -277.60870  294.14987  0.0     0.0   \n",
       "539483  6.438683 -13.026535  2.857349 -270.80573  294.23798  0.0     0.0   \n",
       "539484  7.248966 -18.870102 -3.349407 -249.43092  294.26890  0.0     0.0   \n",
       "539485  6.349327 -18.801796 -8.172478 -239.36870  294.36630  0.0     0.0   \n",
       "539486  4.805676 -15.093590 -9.708778 -251.60574  293.74924  0.0     0.0   \n",
       "\n",
       "        Tomorrow_lsm  predict_value  \n",
       "0                0.0       0.203044  \n",
       "1                0.0       0.203242  \n",
       "2                0.0       0.203278  \n",
       "3                0.0       0.203145  \n",
       "4                0.0       0.203044  \n",
       "...              ...            ...  \n",
       "539482           0.0       0.049964  \n",
       "539483           0.0       0.049778  \n",
       "539484           0.0       0.049763  \n",
       "539485           0.0       0.049764  \n",
       "539486           0.0       0.052762  \n",
       "\n",
       "[539487 rows x 15 columns]"
      ]
     },
     "execution_count": 113,
     "metadata": {},
     "output_type": "execute_result"
    }
   ],
   "source": [
    "dfq = test_set_wt.assign(predict_value=pred_labels_te)\n",
    "\n",
    "dfq.to_csv('data_with_newtarget/Predicted_value_SimpleModel_SMOTE_400nodes&2epochs.csv')  \n",
    "dfq"
   ]
  },
  {
   "cell_type": "code",
   "execution_count": 117,
   "id": "1b0e58db",
   "metadata": {},
   "outputs": [
    {
     "name": "stdout",
     "output_type": "stream",
     "text": [
      "WARNING:tensorflow:Falling back from v2 loop because of error: Failed to find data adapter that can handle input: <class 'pandas.core.frame.DataFrame'>, <class 'NoneType'>\n",
      "Train on 8508348 samples, validate on 688402 samples\n",
      "Epoch 1/2\n",
      "8508348/8508348 [==============================] - 592s 70us/sample - loss: 0.4721 - accuracy: 0.7696 - val_loss: 0.5023 - val_accuracy: 0.6647\n",
      "Epoch 2/2\n",
      "8508348/8508348 [==============================] - 464s 55us/sample - loss: 0.4641 - accuracy: 0.7701 - val_loss: 0.4248 - val_accuracy: 0.8421\n"
     ]
    },
    {
     "data": {
      "text/plain": [
       "<tensorflow.python.keras.callbacks.History at 0x7f894b539fd0>"
      ]
     },
     "execution_count": 117,
     "metadata": {},
     "output_type": "execute_result"
    }
   ],
   "source": [
    "##model with more layers\n",
    "##### Step 5 - Specify the structure of a Neural Network\n",
    "model = tf.keras.models.Sequential([\n",
    "    tf.keras.layers.Flatten(input_shape=(8,)),\n",
    "    tf.keras.layers.Dense(8, activation='tanh', name='Hidden-Layer0'),\n",
    "    tf.keras.layers.Dense(8, activation='tanh', name='Hidden-Layer1'),\n",
    "    tf.keras.layers.Dense(8, activation='tanh', name='Hidden-Layer2'),\n",
    "    tf.keras.layers.Dense(8, activation='tanh', name='Hidden-Layer3'),\n",
    "    tf.keras.layers.Dropout(0.2),\n",
    "    tf.keras.layers.Dense(1, activation='sigmoid', name='Output-Layer')\n",
    "])\n",
    "model.compile(optimizer='adam',\n",
    "    loss='binary_crossentropy',\n",
    "    metrics=['accuracy'])\n",
    "\n",
    "model.fit(X_training_sm, Y_traning_sm, epochs = 2 ,  validation_data=(x_validation, y_validation))#*********more epochs = 5\n"
   ]
  },
  {
   "cell_type": "code",
   "execution_count": 118,
   "id": "0a62c4ed",
   "metadata": {},
   "outputs": [
    {
     "name": "stdout",
     "output_type": "stream",
     "text": [
      "WARNING:tensorflow:Falling back from v2 loop because of error: Failed to find data adapter that can handle input: <class 'pandas.core.frame.DataFrame'>, <class 'NoneType'>\n",
      "WARNING:tensorflow:Falling back from v2 loop because of error: Failed to find data adapter that can handle input: <class 'pandas.core.frame.DataFrame'>, <class 'NoneType'>\n",
      "\n",
      "-------------------- Model Summary --------------------\n",
      "Model: \"sequential_16\"\n",
      "_________________________________________________________________\n",
      "Layer (type)                 Output Shape              Param #   \n",
      "=================================================================\n",
      "flatten_16 (Flatten)         (None, 8)                 0         \n",
      "_________________________________________________________________\n",
      "Hidden-Layer0 (Dense)        (None, 8)                 72        \n",
      "_________________________________________________________________\n",
      "Hidden-Layer1 (Dense)        (None, 8)                 72        \n",
      "_________________________________________________________________\n",
      "Hidden-Layer2 (Dense)        (None, 8)                 72        \n",
      "_________________________________________________________________\n",
      "Hidden-Layer3 (Dense)        (None, 8)                 72        \n",
      "_________________________________________________________________\n",
      "dropout_16 (Dropout)         (None, 8)                 0         \n",
      "_________________________________________________________________\n",
      "Output-Layer (Dense)         (None, 1)                 9         \n",
      "=================================================================\n",
      "Total params: 297\n",
      "Trainable params: 297\n",
      "Non-trainable params: 0\n",
      "_________________________________________________________________\n",
      "\n",
      "-------------------- Weights and Biases --------------------\n",
      "Layer:  flatten_16\n",
      "Layer:  Hidden-Layer0\n",
      "Layer:  Hidden-Layer1\n",
      "Layer:  Hidden-Layer2\n",
      "Layer:  Hidden-Layer3\n",
      "Layer:  dropout_16\n",
      "Layer:  Output-Layer\n",
      "\n",
      "---------- Evaluation on Training Data ----------\n",
      "              precision    recall  f1-score   support\n",
      "\n",
      "         0.0       1.00      0.84      0.91   4254174\n",
      "         1.0       0.01      0.70      0.03     14597\n",
      "\n",
      "    accuracy                           0.84   4268771\n",
      "   macro avg       0.51      0.77      0.47   4268771\n",
      "weighted avg       1.00      0.84      0.91   4268771\n",
      "\n",
      "\n",
      "---------- Evaluation on Test Data ----------\n",
      "              precision    recall  f1-score   support\n",
      "\n",
      "         0.0       1.00      0.84      0.91    537732\n",
      "         1.0       0.02      0.77      0.03      1755\n",
      "\n",
      "    accuracy                           0.84    539487\n",
      "   macro avg       0.51      0.80      0.47    539487\n",
      "weighted avg       1.00      0.84      0.91    539487\n",
      "\n",
      "\n"
     ]
    }
   ],
   "source": [
    "##### Step 6 - Use model to make predictions\n",
    "# Predict class labels on training data\n",
    "pred_labels_tr = (model.predict(x_training)> 0.5).astype(int)\n",
    "# Predict class labels on a test data\n",
    "pred_labels_te = (model.predict(x_test)> 0.5).astype(int)\n",
    "#> 0.01).astype(int)\n",
    "\n",
    "##### Step 7 - Model Performance Summary\n",
    "print(\"\")\n",
    "print('-------------------- Model Summary --------------------')\n",
    "model.summary() # print model summary\n",
    "print(\"\")\n",
    "print('-------------------- Weights and Biases --------------------')\n",
    "for layer in model.layers:\n",
    "    print(\"Layer: \", layer.name) # print layer name\n",
    "    \n",
    "print(\"\")\n",
    "print('---------- Evaluation on Training Data ----------')\n",
    "print(classification_report(y_training, pred_labels_tr))\n",
    "print(\"\")\n",
    "\n",
    "print('---------- Evaluation on Test Data ----------')\n",
    "print(classification_report(y_test, pred_labels_te))\n",
    "print(\"\")"
   ]
  },
  {
   "cell_type": "code",
   "execution_count": 119,
   "id": "10971c1e",
   "metadata": {},
   "outputs": [
    {
     "data": {
      "text/plain": [
       "<sklearn.metrics._plot.confusion_matrix.ConfusionMatrixDisplay at 0x7f898d8473d0>"
      ]
     },
     "execution_count": 119,
     "metadata": {},
     "output_type": "execute_result"
    },
    {
     "data": {
      "image/png": "[encoded data removed]",
      "text/plain": [
       "<Figure size 432x288 with 1 Axes>"
      ]
     },
     "metadata": {
      "needs_background": "light"
     },
     "output_type": "display_data"
    },
    {
     "data": {
      "image/png": "[encoded data removed]",
      "text/plain": [
       "<Figure size 432x288 with 1 Axes>"
      ]
     },
     "metadata": {
      "needs_background": "light"
     },
     "output_type": "display_data"
    }
   ],
   "source": [
    "from sklearn.metrics import confusion_matrix\n",
    "from sklearn.metrics import ConfusionMatrixDisplay\n",
    "ConfusionMatrixDisplay(confusion_matrix(y_test, pred_labels_te)).plot(colorbar=False,cmap=plt.cm.Blues)\n",
    "ConfusionMatrixDisplay(confusion_matrix(y_test, pred_labels_te,normalize='true')).plot(colorbar=False,cmap=plt.cm.Blues)"
   ]
  },
  {
   "cell_type": "code",
   "execution_count": 7,
   "id": "a94d973b",
   "metadata": {},
   "outputs": [
    {
     "name": "stdout",
     "output_type": "stream",
     "text": [
      "WARNING:tensorflow:Falling back from v2 loop because of error: Failed to find data adapter that can handle input: <class 'pandas.core.frame.DataFrame'>, <class 'NoneType'>\n"
     ]
    },
    {
     "name": "stderr",
     "output_type": "stream",
     "text": [
      "2022-06-15 16:53:46.701434: I tensorflow/core/platform/cpu_feature_guard.cc:145] This TensorFlow binary is optimized with Intel(R) MKL-DNN to use the following CPU instructions in performance critical operations:  SSE4.1 SSE4.2\n",
      "To enable them in non-MKL-DNN operations, rebuild TensorFlow with the appropriate compiler flags.\n",
      "2022-06-15 16:53:46.703198: I tensorflow/core/common_runtime/process_util.cc:115] Creating new thread pool with default inter op setting: 8. Tune using inter_op_parallelism_threads for best performance.\n"
     ]
    },
    {
     "name": "stdout",
     "output_type": "stream",
     "text": [
      "Train on 8508348 samples, validate on 688402 samples\n",
      "Epoch 1/50\n",
      " 157760/8508348 [..............................] - ETA: 57:15 - loss: 0.4594 - accuracy: 0.7740"
     ]
    },
    {
     "ename": "KeyboardInterrupt",
     "evalue": "",
     "output_type": "error",
     "traceback": [
      "\u001b[0;31m---------------------------------------------------------------------------\u001b[0m",
      "\u001b[0;31mKeyboardInterrupt\u001b[0m                         Traceback (most recent call last)",
      "\u001b[0;32m/var/folders/6l/2k5dphhj4z30f5zpqx44561c0000gn/T/ipykernel_43677/1977269439.py\u001b[0m in \u001b[0;36m<module>\u001b[0;34m\u001b[0m\n\u001b[1;32m     14\u001b[0m     metrics=['accuracy'])\n\u001b[1;32m     15\u001b[0m \u001b[0;34m\u001b[0m\u001b[0m\n\u001b[0;32m---> 16\u001b[0;31m \u001b[0mmodel\u001b[0m\u001b[0;34m.\u001b[0m\u001b[0mfit\u001b[0m\u001b[0;34m(\u001b[0m\u001b[0mX_training_sm\u001b[0m\u001b[0;34m,\u001b[0m \u001b[0mY_traning_sm\u001b[0m\u001b[0;34m,\u001b[0m \u001b[0mepochs\u001b[0m \u001b[0;34m=\u001b[0m \u001b[0;36m50\u001b[0m \u001b[0;34m,\u001b[0m  \u001b[0mvalidation_data\u001b[0m\u001b[0;34m=\u001b[0m\u001b[0;34m(\u001b[0m\u001b[0mx_validation\u001b[0m\u001b[0;34m,\u001b[0m \u001b[0my_validation\u001b[0m\u001b[0;34m)\u001b[0m\u001b[0;34m)\u001b[0m\u001b[0;31m#*********more epochs = 5\u001b[0m\u001b[0;34m\u001b[0m\u001b[0;34m\u001b[0m\u001b[0m\n\u001b[0m",
      "\u001b[0;32m~/opt/anaconda3/envs/project_thesis/lib/python3.7/site-packages/tensorflow_core/python/keras/engine/training.py\u001b[0m in \u001b[0;36mfit\u001b[0;34m(self, x, y, batch_size, epochs, verbose, callbacks, validation_split, validation_data, shuffle, class_weight, sample_weight, initial_epoch, steps_per_epoch, validation_steps, validation_freq, max_queue_size, workers, use_multiprocessing, **kwargs)\u001b[0m\n\u001b[1;32m    726\u001b[0m         \u001b[0mmax_queue_size\u001b[0m\u001b[0;34m=\u001b[0m\u001b[0mmax_queue_size\u001b[0m\u001b[0;34m,\u001b[0m\u001b[0;34m\u001b[0m\u001b[0;34m\u001b[0m\u001b[0m\n\u001b[1;32m    727\u001b[0m         \u001b[0mworkers\u001b[0m\u001b[0;34m=\u001b[0m\u001b[0mworkers\u001b[0m\u001b[0;34m,\u001b[0m\u001b[0;34m\u001b[0m\u001b[0;34m\u001b[0m\u001b[0m\n\u001b[0;32m--> 728\u001b[0;31m         use_multiprocessing=use_multiprocessing)\n\u001b[0m\u001b[1;32m    729\u001b[0m \u001b[0;34m\u001b[0m\u001b[0m\n\u001b[1;32m    730\u001b[0m   def evaluate(self,\n",
      "\u001b[0;32m~/opt/anaconda3/envs/project_thesis/lib/python3.7/site-packages/tensorflow_core/python/keras/engine/training_arrays.py\u001b[0m in \u001b[0;36mfit\u001b[0;34m(self, model, x, y, batch_size, epochs, verbose, callbacks, validation_split, validation_data, shuffle, class_weight, sample_weight, initial_epoch, steps_per_epoch, validation_steps, validation_freq, **kwargs)\u001b[0m\n\u001b[1;32m    672\u001b[0m         \u001b[0mvalidation_steps\u001b[0m\u001b[0;34m=\u001b[0m\u001b[0mvalidation_steps\u001b[0m\u001b[0;34m,\u001b[0m\u001b[0;34m\u001b[0m\u001b[0;34m\u001b[0m\u001b[0m\n\u001b[1;32m    673\u001b[0m         \u001b[0mvalidation_freq\u001b[0m\u001b[0;34m=\u001b[0m\u001b[0mvalidation_freq\u001b[0m\u001b[0;34m,\u001b[0m\u001b[0;34m\u001b[0m\u001b[0;34m\u001b[0m\u001b[0m\n\u001b[0;32m--> 674\u001b[0;31m         steps_name='steps_per_epoch')\n\u001b[0m\u001b[1;32m    675\u001b[0m \u001b[0;34m\u001b[0m\u001b[0m\n\u001b[1;32m    676\u001b[0m   def evaluate(self,\n",
      "\u001b[0;32m~/opt/anaconda3/envs/project_thesis/lib/python3.7/site-packages/tensorflow_core/python/keras/engine/training_arrays.py\u001b[0m in \u001b[0;36mmodel_iteration\u001b[0;34m(model, inputs, targets, sample_weights, batch_size, epochs, verbose, callbacks, val_inputs, val_targets, val_sample_weights, shuffle, initial_epoch, steps_per_epoch, validation_steps, validation_freq, mode, validation_in_fit, prepared_feed_values_from_dataset, steps_name, **kwargs)\u001b[0m\n\u001b[1;32m    391\u001b[0m \u001b[0;34m\u001b[0m\u001b[0m\n\u001b[1;32m    392\u001b[0m         \u001b[0;31m# Get outputs.\u001b[0m\u001b[0;34m\u001b[0m\u001b[0;34m\u001b[0m\u001b[0;34m\u001b[0m\u001b[0m\n\u001b[0;32m--> 393\u001b[0;31m         \u001b[0mbatch_outs\u001b[0m \u001b[0;34m=\u001b[0m \u001b[0mf\u001b[0m\u001b[0;34m(\u001b[0m\u001b[0mins_batch\u001b[0m\u001b[0;34m)\u001b[0m\u001b[0;34m\u001b[0m\u001b[0;34m\u001b[0m\u001b[0m\n\u001b[0m\u001b[1;32m    394\u001b[0m         \u001b[0;32mif\u001b[0m \u001b[0;32mnot\u001b[0m \u001b[0misinstance\u001b[0m\u001b[0;34m(\u001b[0m\u001b[0mbatch_outs\u001b[0m\u001b[0;34m,\u001b[0m \u001b[0mlist\u001b[0m\u001b[0;34m)\u001b[0m\u001b[0;34m:\u001b[0m\u001b[0;34m\u001b[0m\u001b[0;34m\u001b[0m\u001b[0m\n\u001b[1;32m    395\u001b[0m           \u001b[0mbatch_outs\u001b[0m \u001b[0;34m=\u001b[0m \u001b[0;34m[\u001b[0m\u001b[0mbatch_outs\u001b[0m\u001b[0;34m]\u001b[0m\u001b[0;34m\u001b[0m\u001b[0;34m\u001b[0m\u001b[0m\n",
      "\u001b[0;32m~/opt/anaconda3/envs/project_thesis/lib/python3.7/site-packages/tensorflow_core/python/keras/backend.py\u001b[0m in \u001b[0;36m__call__\u001b[0;34m(self, inputs)\u001b[0m\n\u001b[1;32m   3738\u001b[0m         \u001b[0mvalue\u001b[0m \u001b[0;34m=\u001b[0m \u001b[0mmath_ops\u001b[0m\u001b[0;34m.\u001b[0m\u001b[0mcast\u001b[0m\u001b[0;34m(\u001b[0m\u001b[0mvalue\u001b[0m\u001b[0;34m,\u001b[0m \u001b[0mtensor\u001b[0m\u001b[0;34m.\u001b[0m\u001b[0mdtype\u001b[0m\u001b[0;34m)\u001b[0m\u001b[0;34m\u001b[0m\u001b[0;34m\u001b[0m\u001b[0m\n\u001b[1;32m   3739\u001b[0m       \u001b[0mconverted_inputs\u001b[0m\u001b[0;34m.\u001b[0m\u001b[0mappend\u001b[0m\u001b[0;34m(\u001b[0m\u001b[0mvalue\u001b[0m\u001b[0;34m)\u001b[0m\u001b[0;34m\u001b[0m\u001b[0;34m\u001b[0m\u001b[0m\n\u001b[0;32m-> 3740\u001b[0;31m     \u001b[0moutputs\u001b[0m \u001b[0;34m=\u001b[0m \u001b[0mself\u001b[0m\u001b[0;34m.\u001b[0m\u001b[0m_graph_fn\u001b[0m\u001b[0;34m(\u001b[0m\u001b[0;34m*\u001b[0m\u001b[0mconverted_inputs\u001b[0m\u001b[0;34m)\u001b[0m\u001b[0;34m\u001b[0m\u001b[0;34m\u001b[0m\u001b[0m\n\u001b[0m\u001b[1;32m   3741\u001b[0m \u001b[0;34m\u001b[0m\u001b[0m\n\u001b[1;32m   3742\u001b[0m     \u001b[0;31m# EagerTensor.numpy() will often make a copy to ensure memory safety.\u001b[0m\u001b[0;34m\u001b[0m\u001b[0;34m\u001b[0m\u001b[0;34m\u001b[0m\u001b[0m\n",
      "\u001b[0;32m~/opt/anaconda3/envs/project_thesis/lib/python3.7/site-packages/tensorflow_core/python/eager/function.py\u001b[0m in \u001b[0;36m__call__\u001b[0;34m(self, *args, **kwargs)\u001b[0m\n\u001b[1;32m   1079\u001b[0m       \u001b[0mTypeError\u001b[0m\u001b[0;34m:\u001b[0m \u001b[0mFor\u001b[0m \u001b[0minvalid\u001b[0m \u001b[0mpositional\u001b[0m\u001b[0;34m/\u001b[0m\u001b[0mkeyword\u001b[0m \u001b[0margument\u001b[0m \u001b[0mcombinations\u001b[0m\u001b[0;34m.\u001b[0m\u001b[0;34m\u001b[0m\u001b[0;34m\u001b[0m\u001b[0m\n\u001b[1;32m   1080\u001b[0m     \"\"\"\n\u001b[0;32m-> 1081\u001b[0;31m     \u001b[0;32mreturn\u001b[0m \u001b[0mself\u001b[0m\u001b[0;34m.\u001b[0m\u001b[0m_call_impl\u001b[0m\u001b[0;34m(\u001b[0m\u001b[0margs\u001b[0m\u001b[0;34m,\u001b[0m \u001b[0mkwargs\u001b[0m\u001b[0;34m)\u001b[0m\u001b[0;34m\u001b[0m\u001b[0;34m\u001b[0m\u001b[0m\n\u001b[0m\u001b[1;32m   1082\u001b[0m \u001b[0;34m\u001b[0m\u001b[0m\n\u001b[1;32m   1083\u001b[0m   \u001b[0;32mdef\u001b[0m \u001b[0m_call_impl\u001b[0m\u001b[0;34m(\u001b[0m\u001b[0mself\u001b[0m\u001b[0;34m,\u001b[0m \u001b[0margs\u001b[0m\u001b[0;34m,\u001b[0m \u001b[0mkwargs\u001b[0m\u001b[0;34m,\u001b[0m \u001b[0mcancellation_manager\u001b[0m\u001b[0;34m=\u001b[0m\u001b[0;32mNone\u001b[0m\u001b[0;34m)\u001b[0m\u001b[0;34m:\u001b[0m\u001b[0;34m\u001b[0m\u001b[0;34m\u001b[0m\u001b[0m\n",
      "\u001b[0;32m~/opt/anaconda3/envs/project_thesis/lib/python3.7/site-packages/tensorflow_core/python/eager/function.py\u001b[0m in \u001b[0;36m_call_impl\u001b[0;34m(self, args, kwargs, cancellation_manager)\u001b[0m\n\u001b[1;32m   1119\u001b[0m       raise TypeError(\"Keyword arguments {} unknown. Expected {}.\".format(\n\u001b[1;32m   1120\u001b[0m           list(kwargs.keys()), list(self._arg_keywords)))\n\u001b[0;32m-> 1121\u001b[0;31m     \u001b[0;32mreturn\u001b[0m \u001b[0mself\u001b[0m\u001b[0;34m.\u001b[0m\u001b[0m_call_flat\u001b[0m\u001b[0;34m(\u001b[0m\u001b[0margs\u001b[0m\u001b[0;34m,\u001b[0m \u001b[0mself\u001b[0m\u001b[0;34m.\u001b[0m\u001b[0mcaptured_inputs\u001b[0m\u001b[0;34m,\u001b[0m \u001b[0mcancellation_manager\u001b[0m\u001b[0;34m)\u001b[0m\u001b[0;34m\u001b[0m\u001b[0;34m\u001b[0m\u001b[0m\n\u001b[0m\u001b[1;32m   1122\u001b[0m \u001b[0;34m\u001b[0m\u001b[0m\n\u001b[1;32m   1123\u001b[0m   \u001b[0;32mdef\u001b[0m \u001b[0m_filtered_call\u001b[0m\u001b[0;34m(\u001b[0m\u001b[0mself\u001b[0m\u001b[0;34m,\u001b[0m \u001b[0margs\u001b[0m\u001b[0;34m,\u001b[0m \u001b[0mkwargs\u001b[0m\u001b[0;34m)\u001b[0m\u001b[0;34m:\u001b[0m\u001b[0;34m\u001b[0m\u001b[0;34m\u001b[0m\u001b[0m\n",
      "\u001b[0;32m~/opt/anaconda3/envs/project_thesis/lib/python3.7/site-packages/tensorflow_core/python/eager/function.py\u001b[0m in \u001b[0;36m_call_flat\u001b[0;34m(self, args, captured_inputs, cancellation_manager)\u001b[0m\n\u001b[1;32m   1222\u001b[0m     \u001b[0;32mif\u001b[0m \u001b[0mexecuting_eagerly\u001b[0m\u001b[0;34m:\u001b[0m\u001b[0;34m\u001b[0m\u001b[0;34m\u001b[0m\u001b[0m\n\u001b[1;32m   1223\u001b[0m       flat_outputs = forward_function.call(\n\u001b[0;32m-> 1224\u001b[0;31m           ctx, args, cancellation_manager=cancellation_manager)\n\u001b[0m\u001b[1;32m   1225\u001b[0m     \u001b[0;32melse\u001b[0m\u001b[0;34m:\u001b[0m\u001b[0;34m\u001b[0m\u001b[0;34m\u001b[0m\u001b[0m\n\u001b[1;32m   1226\u001b[0m       \u001b[0mgradient_name\u001b[0m \u001b[0;34m=\u001b[0m \u001b[0mself\u001b[0m\u001b[0;34m.\u001b[0m\u001b[0m_delayed_rewrite_functions\u001b[0m\u001b[0;34m.\u001b[0m\u001b[0mregister\u001b[0m\u001b[0;34m(\u001b[0m\u001b[0;34m)\u001b[0m\u001b[0;34m\u001b[0m\u001b[0;34m\u001b[0m\u001b[0m\n",
      "\u001b[0;32m~/opt/anaconda3/envs/project_thesis/lib/python3.7/site-packages/tensorflow_core/python/eager/function.py\u001b[0m in \u001b[0;36mcall\u001b[0;34m(self, ctx, args, cancellation_manager)\u001b[0m\n\u001b[1;32m    509\u001b[0m               \u001b[0minputs\u001b[0m\u001b[0;34m=\u001b[0m\u001b[0margs\u001b[0m\u001b[0;34m,\u001b[0m\u001b[0;34m\u001b[0m\u001b[0;34m\u001b[0m\u001b[0m\n\u001b[1;32m    510\u001b[0m               \u001b[0mattrs\u001b[0m\u001b[0;34m=\u001b[0m\u001b[0;34m(\u001b[0m\u001b[0;34m\"executor_type\"\u001b[0m\u001b[0;34m,\u001b[0m \u001b[0mexecutor_type\u001b[0m\u001b[0;34m,\u001b[0m \u001b[0;34m\"config_proto\"\u001b[0m\u001b[0;34m,\u001b[0m \u001b[0mconfig\u001b[0m\u001b[0;34m)\u001b[0m\u001b[0;34m,\u001b[0m\u001b[0;34m\u001b[0m\u001b[0;34m\u001b[0m\u001b[0m\n\u001b[0;32m--> 511\u001b[0;31m               ctx=ctx)\n\u001b[0m\u001b[1;32m    512\u001b[0m         \u001b[0;32melse\u001b[0m\u001b[0;34m:\u001b[0m\u001b[0;34m\u001b[0m\u001b[0;34m\u001b[0m\u001b[0m\n\u001b[1;32m    513\u001b[0m           outputs = execute.execute_with_cancellation(\n",
      "\u001b[0;32m~/opt/anaconda3/envs/project_thesis/lib/python3.7/site-packages/tensorflow_core/python/eager/execute.py\u001b[0m in \u001b[0;36mquick_execute\u001b[0;34m(op_name, num_outputs, inputs, attrs, ctx, name)\u001b[0m\n\u001b[1;32m     59\u001b[0m     tensors = pywrap_tensorflow.TFE_Py_Execute(ctx._handle, device_name,\n\u001b[1;32m     60\u001b[0m                                                \u001b[0mop_name\u001b[0m\u001b[0;34m,\u001b[0m \u001b[0minputs\u001b[0m\u001b[0;34m,\u001b[0m \u001b[0mattrs\u001b[0m\u001b[0;34m,\u001b[0m\u001b[0;34m\u001b[0m\u001b[0;34m\u001b[0m\u001b[0m\n\u001b[0;32m---> 61\u001b[0;31m                                                num_outputs)\n\u001b[0m\u001b[1;32m     62\u001b[0m   \u001b[0;32mexcept\u001b[0m \u001b[0mcore\u001b[0m\u001b[0;34m.\u001b[0m\u001b[0m_NotOkStatusException\u001b[0m \u001b[0;32mas\u001b[0m \u001b[0me\u001b[0m\u001b[0;34m:\u001b[0m\u001b[0;34m\u001b[0m\u001b[0;34m\u001b[0m\u001b[0m\n\u001b[1;32m     63\u001b[0m     \u001b[0;32mif\u001b[0m \u001b[0mname\u001b[0m \u001b[0;32mis\u001b[0m \u001b[0;32mnot\u001b[0m \u001b[0;32mNone\u001b[0m\u001b[0;34m:\u001b[0m\u001b[0;34m\u001b[0m\u001b[0;34m\u001b[0m\u001b[0m\n",
      "\u001b[0;31mKeyboardInterrupt\u001b[0m: "
     ]
    }
   ],
   "source": [
    "##model with more nodes\n",
    "##### Step 5 - Specify the structure of a Neural Network\n",
    "model = tf.keras.models.Sequential([\n",
    "    tf.keras.layers.Flatten(input_shape=(8,)),\n",
    "    tf.keras.layers.Dense(400, activation='tanh', name='Hidden-Layer0'),\n",
    "    tf.keras.layers.Dense(400, activation='tanh', name='Hidden-Layer1'),\n",
    "    tf.keras.layers.Dense(400, activation='tanh', name='Hidden-Layer2'),\n",
    "    tf.keras.layers.Dense(400, activation='tanh', name='Hidden-Layer3'),\n",
    "    tf.keras.layers.Dropout(0.2),\n",
    "    tf.keras.layers.Dense(1, activation='sigmoid', name='Output-Layer')\n",
    "])\n",
    "model.compile(optimizer='adam',\n",
    "    loss='binary_crossentropy',\n",
    "    metrics=['accuracy'])\n",
    "\n",
    "model.fit(X_training_sm, Y_traning_sm, epochs = 50 ,  validation_data=(x_validation, y_validation))#*********more epochs = 5\n"
   ]
  },
  {
   "cell_type": "markdown",
   "id": "fdd5075b",
   "metadata": {},
   "source": [
    "# 400nodes\n"
   ]
  },
  {
   "cell_type": "code",
   "execution_count": 38,
   "id": "081d93aa",
   "metadata": {},
   "outputs": [
    {
     "name": "stdout",
     "output_type": "stream",
     "text": [
      "WARNING:tensorflow:Falling back from v2 loop because of error: Failed to find data adapter that can handle input: <class 'pandas.core.frame.DataFrame'>, <class 'NoneType'>\n",
      "Train on 8508348 samples, validate on 688402 samples\n",
      "8508348/8508348 [==============================] - 1959s 230us/sample - loss: 0.4080 - accuracy: 0.8049 - val_loss: 0.3975 - val_accuracy: 0.8071\n"
     ]
    },
    {
     "data": {
      "text/plain": [
       "<tensorflow.python.keras.callbacks.History at 0x7f9817157e10>"
      ]
     },
     "execution_count": 38,
     "metadata": {},
     "output_type": "execute_result"
    }
   ],
   "source": [
    "##model with more nodes\n",
    "##### Step 5 - Specify the structure of a Neural Network\n",
    "model_400n = tf.keras.models.Sequential([\n",
    "    tf.keras.layers.Flatten(input_shape=(8,)),\n",
    "    tf.keras.layers.Dense(400, activation='tanh', name='Hidden-Layer'),\n",
    "    tf.keras.layers.Dropout(0.2),\n",
    "    tf.keras.layers.Dense(1, activation='sigmoid', name='Output-Layer')\n",
    "])\n",
    "model_400n.compile(optimizer='adam',\n",
    "    loss='binary_crossentropy',\n",
    "    metrics=['accuracy'])\n",
    "\n",
    "model_400n.fit(X_training_sm, Y_traning_sm, epochs = 1 ,  validation_data=(x_validation, y_validation))#*********more epochs = 5\n"
   ]
  },
  {
   "cell_type": "code",
   "execution_count": 41,
   "id": "97845d54",
   "metadata": {},
   "outputs": [
    {
     "name": "stdout",
     "output_type": "stream",
     "text": [
      "WARNING:tensorflow:Falling back from v2 loop because of error: Failed to find data adapter that can handle input: <class 'pandas.core.frame.DataFrame'>, <class 'NoneType'>\n",
      "WARNING:tensorflow:Falling back from v2 loop because of error: Failed to find data adapter that can handle input: <class 'pandas.core.frame.DataFrame'>, <class 'NoneType'>\n",
      "\n",
      "-------------------- Model Summary --------------------\n",
      "Model: \"sequential_11\"\n",
      "_________________________________________________________________\n",
      "Layer (type)                 Output Shape              Param #   \n",
      "=================================================================\n",
      "flatten_11 (Flatten)         (None, 8)                 0         \n",
      "_________________________________________________________________\n",
      "Hidden-Layer (Dense)         (None, 400)               3600      \n",
      "_________________________________________________________________\n",
      "dropout_11 (Dropout)         (None, 400)               0         \n",
      "_________________________________________________________________\n",
      "Output-Layer (Dense)         (None, 1)                 401       \n",
      "=================================================================\n",
      "Total params: 4,001\n",
      "Trainable params: 4,001\n",
      "Non-trainable params: 0\n",
      "_________________________________________________________________\n",
      "\n",
      "-------------------- Weights and Biases --------------------\n",
      "Layer:  flatten_11\n",
      "Layer:  Hidden-Layer\n",
      "Layer:  dropout_11\n",
      "Layer:  Output-Layer\n",
      "\n",
      "---------- Evaluation on Training Data ----------\n",
      "              precision    recall  f1-score   support\n",
      "\n",
      "         0.0       1.00      0.81      0.89   4254174\n",
      "         1.0       0.01      0.83      0.03     14597\n",
      "\n",
      "    accuracy                           0.81   4268771\n",
      "   macro avg       0.51      0.82      0.46   4268771\n",
      "weighted avg       1.00      0.81      0.89   4268771\n",
      "\n",
      "\n",
      "---------- Evaluation on Test Data ----------\n",
      "              precision    recall  f1-score   support\n",
      "\n",
      "         0.0       1.00      0.80      0.89    537732\n",
      "         1.0       0.01      0.89      0.03      1755\n",
      "\n",
      "    accuracy                           0.81    539487\n",
      "   macro avg       0.51      0.85      0.46    539487\n",
      "weighted avg       1.00      0.81      0.89    539487\n",
      "\n",
      "\n"
     ]
    }
   ],
   "source": [
    "##### Step 6 - Use model to make predictions\n",
    "# Predict class labels on training data\n",
    "pred_labels_tr_400n = (model_400n.predict(x_training)> 0.5).astype(int)\n",
    "# Predict class labels on a test data\n",
    "pred_labels_te_400n = (model_400n.predict(x_test)> 0.5).astype(int)\n",
    "#   > 0.5).astype(int)\n",
    "\n",
    "##### Step 7 - Model Performance Summary\n",
    "print(\"\")\n",
    "print('-------------------- Model Summary --------------------')\n",
    "model_400n.summary() # print model summary\n",
    "print(\"\")\n",
    "print('-------------------- Weights and Biases --------------------')\n",
    "for layer in model_400n.layers:\n",
    "    print(\"Layer: \", layer.name) # print layer name\n",
    "    \n",
    "print(\"\")\n",
    "print('---------- Evaluation on Training Data ----------')\n",
    "print(classification_report(y_training, pred_labels_tr_400n))\n",
    "print(\"\")\n",
    "\n",
    "print('---------- Evaluation on Test Data ----------')\n",
    "print(classification_report(y_test, pred_labels_te_400n))\n",
    "print(\"\")"
   ]
  },
  {
   "cell_type": "code",
   "execution_count": 67,
   "id": "9b1be3a1",
   "metadata": {},
   "outputs": [
    {
     "name": "stdout",
     "output_type": "stream",
     "text": [
      "INFO:tensorflow:Assets written to: ComModel_400n_SMOTE/assets\n"
     ]
    }
   ],
   "source": [
    "model_400n.save('ComModel_400n_SMOTE')\n",
    "model_400n.save('ComModel_400n_SMOTE.h5')"
   ]
  },
  {
   "cell_type": "code",
   "execution_count": 40,
   "id": "e8a30635",
   "metadata": {},
   "outputs": [],
   "source": [
    "dfq = test_set_wt.assign(predict_value=pred_labels_te_400n)\n",
    "dfq\n",
    "dfq.to_csv('data_with_newtarget/Predicted_value_simplemodel_400noodes_SMOTE.csv')  \n",
    "\n"
   ]
  },
  {
   "cell_type": "code",
   "execution_count": 42,
   "id": "39232249",
   "metadata": {},
   "outputs": [
    {
     "data": {
      "text/plain": [
       "<sklearn.metrics._plot.confusion_matrix.ConfusionMatrixDisplay at 0x7f98914d7710>"
      ]
     },
     "execution_count": 42,
     "metadata": {},
     "output_type": "execute_result"
    },
    {
     "data": {
      "image/png": "[encoded data removed]",
      "text/plain": [
       "<Figure size 432x288 with 1 Axes>"
      ]
     },
     "metadata": {
      "needs_background": "light"
     },
     "output_type": "display_data"
    },
    {
     "data": {
      "image/png": "[encoded data removed]",
      "text/plain": [
       "<Figure size 432x288 with 1 Axes>"
      ]
     },
     "metadata": {
      "needs_background": "light"
     },
     "output_type": "display_data"
    }
   ],
   "source": [
    "\n",
    "ConfusionMatrixDisplay(confusion_matrix(y_test, pred_labels_te_400n)).plot(colorbar=False,cmap=plt.cm.Blues)\n",
    "ConfusionMatrixDisplay(confusion_matrix(y_test, pred_labels_te_400n,normalize='true')).plot(colorbar=False,cmap=plt.cm.Blues)"
   ]
  },
  {
   "cell_type": "code",
   "execution_count": 43,
   "id": "d7ce985a",
   "metadata": {},
   "outputs": [
    {
     "name": "stdout",
     "output_type": "stream",
     "text": [
      "Model: ROC AUC=0.849\n"
     ]
    },
    {
     "data": {
      "image/png": "[encoded data removed]",
      "text/plain": [
       "<Figure size 432x288 with 1 Axes>"
      ]
     },
     "metadata": {
      "needs_background": "light"
     },
     "output_type": "display_data"
    }
   ],
   "source": [
    "plot_roc_curve(y_test, pred_labels_te_400n)"
   ]
  },
  {
   "cell_type": "markdown",
   "id": "5b75b081",
   "metadata": {},
   "source": [
    "# simpleSMOTE"
   ]
  },
  {
   "cell_type": "code",
   "execution_count": 50,
   "id": "276f6f78",
   "metadata": {},
   "outputs": [
    {
     "name": "stdout",
     "output_type": "stream",
     "text": [
      "WARNING:tensorflow:Falling back from v2 loop because of error: Failed to find data adapter that can handle input: <class 'pandas.core.frame.DataFrame'>, <class 'NoneType'>\n",
      "Train on 8508348 samples, validate on 688402 samples\n",
      "Epoch 1/2\n",
      "8508348/8508348 [==============================] - 1266s 149us/sample - loss: 0.6003 - accuracy: 0.6702 - val_loss: 0.5290 - val_accuracy: 0.8222\n",
      "Epoch 2/2\n",
      "8508348/8508348 [==============================] - 1817s 214us/sample - loss: 0.5822 - accuracy: 0.7028 - val_loss: 0.6517 - val_accuracy: 0.6361\n"
     ]
    },
    {
     "data": {
      "text/plain": [
       "<tensorflow.python.keras.callbacks.History at 0x7f9817612e50>"
      ]
     },
     "execution_count": 50,
     "metadata": {},
     "output_type": "execute_result"
    }
   ],
   "source": [
    "##model with more nodes\n",
    "##### Step 5 - Specify the structure of a Neural Network\n",
    "model_SimpleSMOTE = tf.keras.models.Sequential([\n",
    "    tf.keras.layers.Flatten(input_shape=(8,)),\n",
    "    tf.keras.layers.Dense(1, activation='tanh', name='Hidden-Layer1'),\n",
    "    tf.keras.layers.Dropout(0.2),\n",
    "    tf.keras.layers.Dense(1, activation='sigmoid', name='Output-Layer')\n",
    "])\n",
    "model_SimpleSMOTE.compile(optimizer='adam',\n",
    "    loss='binary_crossentropy',\n",
    "    metrics=['accuracy'])\n",
    "\n",
    "model_SimpleSMOTE.fit(X_training_sm, Y_traning_sm, epochs = 2 ,  validation_data=(x_validation, y_validation))#*********more epochs = 5\n"
   ]
  },
  {
   "cell_type": "code",
   "execution_count": 54,
   "id": "95ebfadf",
   "metadata": {},
   "outputs": [
    {
     "name": "stdout",
     "output_type": "stream",
     "text": [
      "WARNING:tensorflow:Falling back from v2 loop because of error: Failed to find data adapter that can handle input: <class 'pandas.core.frame.DataFrame'>, <class 'NoneType'>\n",
      "WARNING:tensorflow:Falling back from v2 loop because of error: Failed to find data adapter that can handle input: <class 'pandas.core.frame.DataFrame'>, <class 'NoneType'>\n",
      "\n",
      "-------------------- Model Summary --------------------\n",
      "Model: \"sequential_15\"\n",
      "_________________________________________________________________\n",
      "Layer (type)                 Output Shape              Param #   \n",
      "=================================================================\n",
      "flatten_15 (Flatten)         (None, 8)                 0         \n",
      "_________________________________________________________________\n",
      "Hidden-Layer1 (Dense)        (None, 1)                 9         \n",
      "_________________________________________________________________\n",
      "dropout_15 (Dropout)         (None, 1)                 0         \n",
      "_________________________________________________________________\n",
      "Output-Layer (Dense)         (None, 1)                 2         \n",
      "=================================================================\n",
      "Total params: 11\n",
      "Trainable params: 11\n",
      "Non-trainable params: 0\n",
      "_________________________________________________________________\n",
      "\n",
      "-------------------- Weights and Biases --------------------\n",
      "Layer:  flatten_15\n",
      "Layer:  Hidden-Layer1\n",
      "Layer:  dropout_15\n",
      "Layer:  Output-Layer\n",
      "\n",
      "---------- Evaluation on Training Data ----------\n",
      "              precision    recall  f1-score   support\n",
      "\n",
      "         0.0       1.00      0.63      0.78   4254174\n",
      "         1.0       0.01      0.84      0.02     14597\n",
      "\n",
      "    accuracy                           0.63   4268771\n",
      "   macro avg       0.50      0.74      0.40   4268771\n",
      "weighted avg       1.00      0.63      0.77   4268771\n",
      "\n",
      "\n",
      "---------- Evaluation on Test Data ----------\n",
      "              precision    recall  f1-score   support\n",
      "\n",
      "         0.0       1.00      0.63      0.77    537732\n",
      "         1.0       0.01      0.87      0.02      1755\n",
      "\n",
      "    accuracy                           0.63    539487\n",
      "   macro avg       0.50      0.75      0.39    539487\n",
      "weighted avg       1.00      0.63      0.77    539487\n",
      "\n",
      "\n"
     ]
    }
   ],
   "source": [
    "##### Step 6 - Use model to make predictions\n",
    "# Predict class labels on training data\n",
    "pred_labels_tr_SimpleSMOTE = (model_SimpleSMOTE.predict(x_training)> 0.5).astype(int)\n",
    "# Predict class labels on a test data\n",
    "pred_labels_te_SimpleSMOTE = (model_SimpleSMOTE.predict(x_test)> 0.5).astype(int)\n",
    "#> 0.01).astype(int)\n",
    "\n",
    "##### Step 7 - Model Performance Summary\n",
    "print(\"\")\n",
    "print('-------------------- Model Summary --------------------')\n",
    "model_SimpleSMOTE.summary() # print model summary\n",
    "print(\"\")\n",
    "print('-------------------- Weights and Biases --------------------')\n",
    "for layer in model_SimpleSMOTE.layers:\n",
    "    print(\"Layer: \", layer.name) # print layer name\n",
    "    \n",
    "print(\"\")\n",
    "print('---------- Evaluation on Training Data ----------')\n",
    "print(classification_report(y_training, pred_labels_tr_SimpleSMOTE))\n",
    "print(\"\")\n",
    "\n",
    "print('---------- Evaluation on Test Data ----------')\n",
    "print(classification_report(y_test, pred_labels_te_SimpleSMOTE))\n",
    "print(\"\")"
   ]
  },
  {
   "cell_type": "code",
   "execution_count": 53,
   "id": "2f8b9479",
   "metadata": {},
   "outputs": [],
   "source": [
    "dfq = test_set_wt.assign(predict_value=pred_labels_te_SimpleSMOTE)\n",
    "dfq\n",
    "dfq.to_csv('data_with_newtarget/Predicted_value_SimpleSMOTE.csv')  \n",
    "\n"
   ]
  },
  {
   "cell_type": "code",
   "execution_count": 55,
   "id": "e46e38b8",
   "metadata": {},
   "outputs": [
    {
     "data": {
      "text/plain": [
       "<sklearn.metrics._plot.confusion_matrix.ConfusionMatrixDisplay at 0x7f9817612990>"
      ]
     },
     "execution_count": 55,
     "metadata": {},
     "output_type": "execute_result"
    },
    {
     "data": {
      "image/png": "[encoded data removed]",
      "text/plain": [
       "<Figure size 432x288 with 1 Axes>"
      ]
     },
     "metadata": {
      "needs_background": "light"
     },
     "output_type": "display_data"
    },
    {
     "data": {
      "image/png": "[encoded data removed]",
      "text/plain": [
       "<Figure size 432x288 with 1 Axes>"
      ]
     },
     "metadata": {
      "needs_background": "light"
     },
     "output_type": "display_data"
    }
   ],
   "source": [
    "\n",
    "ConfusionMatrixDisplay(confusion_matrix(y_test, pred_labels_te_SimpleSMOTE)).plot(colorbar=False,cmap=plt.cm.Blues)\n",
    "ConfusionMatrixDisplay(confusion_matrix(y_test, pred_labels_te_SimpleSMOTE,normalize='true')).plot(colorbar=False,cmap=plt.cm.Blues)"
   ]
  },
  {
   "cell_type": "code",
   "execution_count": 56,
   "id": "9fbf82ec",
   "metadata": {},
   "outputs": [
    {
     "name": "stdout",
     "output_type": "stream",
     "text": [
      "Model: ROC AUC=0.751\n"
     ]
    },
    {
     "data": {
      "image/png": "[encoded data removed]",
      "text/plain": [
       "<Figure size 432x288 with 1 Axes>"
      ]
     },
     "metadata": {
      "needs_background": "light"
     },
     "output_type": "display_data"
    }
   ],
   "source": [
    "plot_roc_curve(y_test, pred_labels_te_SimpleSMOTE)"
   ]
  },
  {
   "cell_type": "code",
   "execution_count": 1,
   "id": "a71ca125",
   "metadata": {},
   "outputs": [
    {
     "ename": "NameError",
     "evalue": "name 'tf' is not defined",
     "output_type": "error",
     "traceback": [
      "\u001b[0;31m---------------------------------------------------------------------------\u001b[0m",
      "\u001b[0;31mNameError\u001b[0m                                 Traceback (most recent call last)",
      "\u001b[0;32m/var/folders/6l/2k5dphhj4z30f5zpqx44561c0000gn/T/ipykernel_1006/524541912.py\u001b[0m in \u001b[0;36m<module>\u001b[0;34m\u001b[0m\n\u001b[0;32m----> 1\u001b[0;31m \u001b[0mnew_model\u001b[0m \u001b[0;34m=\u001b[0m \u001b[0mtf\u001b[0m\u001b[0;34m.\u001b[0m\u001b[0mkeras\u001b[0m\u001b[0;34m.\u001b[0m\u001b[0mmodels\u001b[0m\u001b[0;34m.\u001b[0m\u001b[0mload_model\u001b[0m\u001b[0;34m(\u001b[0m\u001b[0;34m'ComModel_256n_4l_SMOTE'\u001b[0m\u001b[0;34m)\u001b[0m\u001b[0;34m\u001b[0m\u001b[0;34m\u001b[0m\u001b[0m\n\u001b[0m\u001b[1;32m      2\u001b[0m \u001b[0;34m\u001b[0m\u001b[0m\n\u001b[1;32m      3\u001b[0m \u001b[0;31m# Check its architecture\u001b[0m\u001b[0;34m\u001b[0m\u001b[0;34m\u001b[0m\u001b[0;34m\u001b[0m\u001b[0m\n\u001b[1;32m      4\u001b[0m \u001b[0mnew_model\u001b[0m\u001b[0;34m.\u001b[0m\u001b[0msummary\u001b[0m\u001b[0;34m(\u001b[0m\u001b[0;34m)\u001b[0m\u001b[0;34m\u001b[0m\u001b[0;34m\u001b[0m\u001b[0m\n",
      "\u001b[0;31mNameError\u001b[0m: name 'tf' is not defined"
     ]
    }
   ],
   "source": [
    "new_model = tf.keras.models.load_model('ComModel_256n_4l_SMOTE')\n",
    "\n",
    "# Check its architecture\n",
    "new_model.summary()"
   ]
  },
  {
   "cell_type": "code",
   "execution_count": 61,
   "id": "18cd4d90",
   "metadata": {},
   "outputs": [
    {
     "name": "stdout",
     "output_type": "stream",
     "text": [
      "WARNING:tensorflow:Falling back from v2 loop because of error: Failed to find data adapter that can handle input: <class 'pandas.core.frame.DataFrame'>, <class 'NoneType'>\n",
      "WARNING:tensorflow:Falling back from v2 loop because of error: Failed to find data adapter that can handle input: <class 'pandas.core.frame.DataFrame'>, <class 'NoneType'>\n",
      "\n",
      "-------------------- Model Summary --------------------\n",
      "Model: \"sequential_4\"\n",
      "_________________________________________________________________\n",
      "Layer (type)                 Output Shape              Param #   \n",
      "=================================================================\n",
      "flatten_4 (Flatten)          (None, 8)                 0         \n",
      "_________________________________________________________________\n",
      "Hidden-Layer1 (Dense)        (None, 256)               2304      \n",
      "_________________________________________________________________\n",
      "Hidden-Layer2 (Dense)        (None, 256)               65792     \n",
      "_________________________________________________________________\n",
      "Hidden-Layer3 (Dense)        (None, 256)               65792     \n",
      "_________________________________________________________________\n",
      "Hidden-Layer4 (Dense)        (None, 256)               65792     \n",
      "_________________________________________________________________\n",
      "dropout_4 (Dropout)          (None, 256)               0         \n",
      "_________________________________________________________________\n",
      "Output-Layer (Dense)         (None, 1)                 257       \n",
      "=================================================================\n",
      "Total params: 199,937\n",
      "Trainable params: 199,937\n",
      "Non-trainable params: 0\n",
      "_________________________________________________________________\n",
      "\n",
      "-------------------- Weights and Biases --------------------\n",
      "Layer:  flatten_4\n",
      "Layer:  Hidden-Layer1\n",
      "Layer:  Hidden-Layer2\n",
      "Layer:  Hidden-Layer3\n",
      "Layer:  Hidden-Layer4\n",
      "Layer:  dropout_4\n",
      "Layer:  Output-Layer\n",
      "\n",
      "---------- Evaluation on Training Data ----------\n",
      "              precision    recall  f1-score   support\n",
      "\n",
      "         0.0       1.00      0.88      0.94   4254174\n",
      "         1.0       0.02      0.73      0.04     14597\n",
      "\n",
      "    accuracy                           0.88   4268771\n",
      "   macro avg       0.51      0.81      0.49   4268771\n",
      "weighted avg       1.00      0.88      0.93   4268771\n",
      "\n",
      "\n",
      "---------- Evaluation on Test Data ----------\n",
      "              precision    recall  f1-score   support\n",
      "\n",
      "         0.0       1.00      0.88      0.94    537732\n",
      "         1.0       0.02      0.82      0.04      1755\n",
      "\n",
      "    accuracy                           0.88    539487\n",
      "   macro avg       0.51      0.85      0.49    539487\n",
      "weighted avg       1.00      0.88      0.93    539487\n",
      "\n",
      "\n"
     ]
    }
   ],
   "source": [
    "##### Step 6 - Use model to make predictions\n",
    "# Predict class labels on training data\n",
    "pred_labels_tr_complex_400n_4l = (new_model.predict(x_training)> 0.5).astype(int)\n",
    "# Predict class labels on a test data\n",
    "pred_labels_te_complex_400n_4l = (new_model.predict(x_test)> 0.5).astype(int)\n",
    "#> 0.01).astype(int)\n",
    "\n",
    "##### Step 7 - Model Performance Summary\n",
    "print(\"\")\n",
    "print('-------------------- Model Summary --------------------')\n",
    "new_model.summary() # print model summary\n",
    "print(\"\")\n",
    "print('-------------------- Weights and Biases --------------------')\n",
    "for layer in new_model.layers:\n",
    "    print(\"Layer: \", layer.name) # print layer name\n",
    "    \n",
    "print(\"\")\n",
    "print('---------- Evaluation on Training Data ----------')\n",
    "print(classification_report(y_training, pred_labels_tr_complex_400n_4l))\n",
    "print(\"\")\n",
    "\n",
    "print('---------- Evaluation on Test Data ----------')\n",
    "print(classification_report(y_test, pred_labels_te_complex_400n_4l))\n",
    "print(\"\")"
   ]
  },
  {
   "cell_type": "code",
   "execution_count": 62,
   "id": "ab107882",
   "metadata": {},
   "outputs": [
    {
     "data": {
      "text/plain": [
       "<sklearn.metrics._plot.confusion_matrix.ConfusionMatrixDisplay at 0x7f98837ebc10>"
      ]
     },
     "execution_count": 62,
     "metadata": {},
     "output_type": "execute_result"
    },
    {
     "data": {
      "image/png": "[encoded data removed]",
      "text/plain": [
       "<Figure size 432x288 with 1 Axes>"
      ]
     },
     "metadata": {
      "needs_background": "light"
     },
     "output_type": "display_data"
    },
    {
     "data": {
      "image/png": "[encoded data removed]",
      "text/plain": [
       "<Figure size 432x288 with 1 Axes>"
      ]
     },
     "metadata": {
      "needs_background": "light"
     },
     "output_type": "display_data"
    }
   ],
   "source": [
    "\n",
    "ConfusionMatrixDisplay(confusion_matrix(y_test, pred_labels_te_complex_400n_4l)).plot(colorbar=False,cmap=plt.cm.Blues)\n",
    "ConfusionMatrixDisplay(confusion_matrix(y_test, pred_labels_te_complex_400n_4l,normalize='true')).plot(colorbar=False,cmap=plt.cm.Blues)"
   ]
  },
  {
   "cell_type": "code",
   "execution_count": 66,
   "id": "62d17924",
   "metadata": {},
   "outputs": [
    {
     "data": {
      "text/plain": [
       "<matplotlib.legend.Legend at 0x7f9863571a50>"
      ]
     },
     "execution_count": 66,
     "metadata": {},
     "output_type": "execute_result"
    },
    {
     "data": {
      "image/png": "[encoded data removed]",
      "text/plain": [
       "<Figure size 432x288 with 1 Axes>"
      ]
     },
     "metadata": {
      "needs_background": "light"
     },
     "output_type": "display_data"
    }
   ],
   "source": [
    "from sklearn import metrics\n",
    "from sklearn import datasets\n",
    "from sklearn.model_selection import train_test_split\n",
    "from sklearn.linear_model import LogisticRegression\n",
    "from sklearn.ensemble import GradientBoostingClassifier\n",
    "import numpy as np\n",
    "import matplotlib.pyplot as plt\n",
    "\n",
    "plt.figure(0).clf()\n",
    "\n",
    "\n",
    "fpr, tpr, _ = metrics.roc_curve(y_test, pred_labels_te_complex_400n_4l)\n",
    "auc = round(metrics.roc_auc_score(y_test, pred_labels_te_complex_400n_4l), 4)\n",
    "plt.plot(fpr,tpr,label=\"Complex Model,256n,4l, AUC=\"+str(auc))\n",
    "\n",
    "\n",
    "fpr, tpr, _ = metrics.roc_curve(y_test, pred_labels_te_SimpleSMOTE)\n",
    "auc = round(metrics.roc_auc_score(y_test, pred_labels_te_SimpleSMOTE), 4)\n",
    "plt.plot(fpr,tpr,label=\"Simple Model,SMOTE, AUC=\"+str(auc))\n",
    "\n",
    "fpr, tpr, _ = metrics.roc_curve(y_test, pred_labels_te_400n)\n",
    "auc = round(metrics.roc_auc_score(y_test, pred_labels_te_400n), 4)\n",
    "plt.plot(fpr,tpr,label=\"Simple Model,400n, AUC=\"+str(auc))\n",
    "\n",
    "\n",
    "\n",
    "#add legend\n",
    "plt.legend()"
   ]
  },
  {
   "cell_type": "markdown",
   "id": "b1ed7c14",
   "metadata": {},
   "source": [
    "# finfing number of hidden layers\n"
   ]
  },
  {
   "cell_type": "code",
   "execution_count": 12,
   "id": "633cbb80",
   "metadata": {},
   "outputs": [
    {
     "data": {
      "text/plain": [
       "47430.78888888889"
      ]
     },
     "execution_count": 12,
     "metadata": {},
     "output_type": "execute_result"
    }
   ],
   "source": [
    "\n",
    "#𝑁ℎ=𝑁𝑠/(𝛼∗(𝑁𝑖+𝑁𝑜)) \n",
    "#𝑁𝑖  = number of input neurons.\n",
    "#𝑁𝑜 = number of output neurons.\n",
    "#𝑁𝑠 = number of samples in training data set.\n",
    "#𝛼 = an arbitrary scaling factor usually 2-10.\n",
    "\n",
    "\n",
    "n_i = 8\n",
    "n_o = 1\n",
    "n_s = 4268771\n",
    "alpha = 10\n",
    "\n",
    "n_h = n_s / (alpha * (n_i + n_o))\n",
    "n_h"
   ]
  },
  {
   "cell_type": "code",
   "execution_count": 18,
   "id": "a15fbec5",
   "metadata": {},
   "outputs": [
    {
     "name": "stdout",
     "output_type": "stream",
     "text": [
      "WARNING:tensorflow:Falling back from v2 loop because of error: Failed to find data adapter that can handle input: <class 'pandas.core.frame.DataFrame'>, <class 'NoneType'>\n",
      "Train on 8508348 samples, validate on 688402 samples\n",
      "Epoch 1/20\n",
      "8508348/8508348 [==============================] - 1709s 201us/sample - loss: 0.6181 - accuracy: 0.6356 - val_loss: 0.5634 - val_accuracy: 0.5477\n",
      "Epoch 2/20\n",
      "8508348/8508348 [==============================] - 2127s 250us/sample - loss: 0.5567 - accuracy: 0.7230 - val_loss: 0.5670 - val_accuracy: 0.4930\n",
      "Epoch 3/20\n",
      "8508348/8508348 [==============================] - 3405s 400us/sample - loss: 0.5579 - accuracy: 0.7277 - val_loss: 0.5750 - val_accuracy: 0.6023\n",
      "Epoch 4/20\n",
      "8508348/8508348 [==============================] - 2099s 247us/sample - loss: 0.5526 - accuracy: 0.7413 - val_loss: 0.5574 - val_accuracy: 0.7617\n",
      "Epoch 5/20\n",
      "8508348/8508348 [==============================] - 2696s 317us/sample - loss: 0.5468 - accuracy: 0.7420 - val_loss: 0.5422 - val_accuracy: 0.8534\n",
      "Epoch 6/20\n",
      "8508348/8508348 [==============================] - 1637s 192us/sample - loss: 0.5465 - accuracy: 0.7432 - val_loss: 0.5339 - val_accuracy: 0.8643\n",
      "Epoch 7/20\n",
      "8508348/8508348 [==============================] - 1846s 217us/sample - loss: 0.5458 - accuracy: 0.7412 - val_loss: 0.5584 - val_accuracy: 0.8935\n",
      "Epoch 8/20\n",
      "8508348/8508348 [==============================] - 1783s 210us/sample - loss: 0.5458 - accuracy: 0.7428 - val_loss: 0.5370 - val_accuracy: 0.7162\n",
      "Epoch 9/20\n",
      "8508348/8508348 [==============================] - 510s 60us/sample - loss: 0.5465 - accuracy: 0.7411 - val_loss: 0.5246 - val_accuracy: 0.8931\n",
      "Epoch 10/20\n",
      "8508348/8508348 [==============================] - 971s 114us/sample - loss: 0.5466 - accuracy: 0.7446 - val_loss: 0.5399 - val_accuracy: 0.8449\n",
      "Epoch 11/20\n",
      "8508348/8508348 [==============================] - 1785s 210us/sample - loss: 0.5451 - accuracy: 0.7447 - val_loss: 0.5343 - val_accuracy: 0.7572\n",
      "Epoch 12/20\n",
      "8508348/8508348 [==============================] - 2016s 237us/sample - loss: 0.5465 - accuracy: 0.7479 - val_loss: 0.5767 - val_accuracy: 0.6910\n",
      "Epoch 13/20\n",
      "8508348/8508348 [==============================] - 956s 112us/sample - loss: 0.5459 - accuracy: 0.7472 - val_loss: 0.5214 - val_accuracy: 0.8253\n",
      "Epoch 14/20\n",
      "8508348/8508348 [==============================] - 2954s 347us/sample - loss: 0.5495 - accuracy: 0.7433 - val_loss: 0.5723 - val_accuracy: 0.7315\n",
      "Epoch 15/20\n",
      "8508348/8508348 [==============================] - 911s 107us/sample - loss: 0.5502 - accuracy: 0.7431 - val_loss: 0.5672 - val_accuracy: 0.7632\n",
      "Epoch 16/20\n",
      "8508348/8508348 [==============================] - 2363s 278us/sample - loss: 0.5464 - accuracy: 0.7441 - val_loss: 0.5445 - val_accuracy: 0.7399\n",
      "Epoch 17/20\n",
      "8508348/8508348 [==============================] - 2144s 252us/sample - loss: 0.5515 - accuracy: 0.7409 - val_loss: 0.5618 - val_accuracy: 0.8222\n",
      "Epoch 18/20\n",
      "8508348/8508348 [==============================] - 549s 65us/sample - loss: 0.5468 - accuracy: 0.7490 - val_loss: 0.5682 - val_accuracy: 0.7769\n",
      "Epoch 19/20\n",
      "8508348/8508348 [==============================] - 1375s 162us/sample - loss: 0.5470 - accuracy: 0.7437 - val_loss: 0.5224 - val_accuracy: 0.6934\n",
      "Epoch 20/20\n",
      "8508348/8508348 [==============================] - 537s 63us/sample - loss: 0.5467 - accuracy: 0.7469 - val_loss: 0.5531 - val_accuracy: 0.8087\n"
     ]
    },
    {
     "data": {
      "text/plain": [
       "<tensorflow.python.keras.callbacks.History at 0x7fcb7696e910>"
      ]
     },
     "execution_count": 18,
     "metadata": {},
     "output_type": "execute_result"
    }
   ],
   "source": [
    "##model with more layers\n",
    "##### Step 5 - Specify the structure of a Neural Network\n",
    "model_test = tf.keras.models.Sequential([\n",
    "    tf.keras.layers.Flatten(input_shape=(8,)),\n",
    "    tf.keras.layers.Dense(8, activation='tanh', name='Hidden-Layer0'),\n",
    "    tf.keras.layers.Dense(8, activation='tanh', name='Hidden-Layer1'),\n",
    "    tf.keras.layers.Dense(8, activation='tanh', name='Hidden-Layer2'),\n",
    "    tf.keras.layers.Dense(8, activation='tanh', name='Hidden-Layer3'),\n",
    "    tf.keras.layers.Dense(8, activation='tanh', name='Hidden-Layer4'),\n",
    "    tf.keras.layers.Dense(8, activation='tanh', name='Hidden-Layer5'),\n",
    "    tf.keras.layers.Dense(8, activation='tanh', name='Hidden-Layer6'),\n",
    "    tf.keras.layers.Dense(8, activation='tanh', name='Hidden-Layer7'),\n",
    "\n",
    "    tf.keras.layers.Dropout(0.2),\n",
    "    tf.keras.layers.Dense(1, activation='sigmoid', name='Output-Layer')\n",
    "])\n",
    "model_test.compile(optimizer='adam',\n",
    "    loss='binary_crossentropy',\n",
    "    metrics=['accuracy'])\n",
    "\n",
    "checkpoint_filepath = '/tmp/checkpointtest'\n",
    "model_checkpoint_callback = tf.keras.callbacks.ModelCheckpoint(\n",
    "    filepath=checkpoint_filepath,\n",
    "    save_weights_only=True,\n",
    "    monitor='val_loss',\n",
    "    mode='min',\n",
    "    save_best_only=True)\n",
    "\n",
    "model_test.fit(X_training_sm, Y_traning_sm, epochs = 20,callbacks=[model_checkpoint_callback],  validation_data=(x_validation, y_validation))#*********more epochs = 5\n"
   ]
  },
  {
   "cell_type": "code",
   "execution_count": 16,
   "id": "27ae9afd",
   "metadata": {},
   "outputs": [
    {
     "name": "stdout",
     "output_type": "stream",
     "text": [
      "WARNING:tensorflow:Falling back from v2 loop because of error: Failed to find data adapter that can handle input: <class 'pandas.core.frame.DataFrame'>, <class 'NoneType'>\n",
      "WARNING:tensorflow:Falling back from v2 loop because of error: Failed to find data adapter that can handle input: <class 'pandas.core.frame.DataFrame'>, <class 'NoneType'>\n",
      "\n",
      "-------------------- Model Summary --------------------\n",
      "Model: \"sequential_1\"\n",
      "_________________________________________________________________\n",
      "Layer (type)                 Output Shape              Param #   \n",
      "=================================================================\n",
      "flatten_1 (Flatten)          (None, 8)                 0         \n",
      "_________________________________________________________________\n",
      "Hidden-Layer0 (Dense)        (None, 8)                 72        \n",
      "_________________________________________________________________\n",
      "Hidden-Layer1 (Dense)        (None, 8)                 72        \n",
      "_________________________________________________________________\n",
      "Hidden-Layer2 (Dense)        (None, 8)                 72        \n",
      "_________________________________________________________________\n",
      "Hidden-Layer3 (Dense)        (None, 8)                 72        \n",
      "_________________________________________________________________\n",
      "Hidden-Layer4 (Dense)        (None, 8)                 72        \n",
      "_________________________________________________________________\n",
      "Hidden-Layer5 (Dense)        (None, 8)                 72        \n",
      "_________________________________________________________________\n",
      "Hidden-Layer6 (Dense)        (None, 8)                 72        \n",
      "_________________________________________________________________\n",
      "Hidden-Layer7 (Dense)        (None, 8)                 72        \n",
      "_________________________________________________________________\n",
      "dropout_1 (Dropout)          (None, 8)                 0         \n",
      "_________________________________________________________________\n",
      "Output-Layer (Dense)         (None, 1)                 9         \n",
      "=================================================================\n",
      "Total params: 585\n",
      "Trainable params: 585\n",
      "Non-trainable params: 0\n",
      "_________________________________________________________________\n",
      "\n",
      "-------------------- Weights and Biases --------------------\n",
      "Layer:  flatten_1\n",
      "Layer:  Hidden-Layer0\n",
      "Layer:  Hidden-Layer1\n",
      "Layer:  Hidden-Layer2\n",
      "Layer:  Hidden-Layer3\n",
      "Layer:  Hidden-Layer4\n",
      "Layer:  Hidden-Layer5\n",
      "Layer:  Hidden-Layer6\n",
      "Layer:  Hidden-Layer7\n",
      "Layer:  dropout_1\n",
      "Layer:  Output-Layer\n",
      "\n",
      "---------- Evaluation on Training Data ----------\n",
      "              precision    recall  f1-score   support\n",
      "\n",
      "         0.0       1.00      0.97      0.98   4254174\n",
      "         1.0       0.04      0.42      0.07     14597\n",
      "\n",
      "    accuracy                           0.96   4268771\n",
      "   macro avg       0.52      0.69      0.53   4268771\n",
      "weighted avg       0.99      0.96      0.98   4268771\n",
      "\n",
      "\n",
      "---------- Evaluation on Test Data ----------\n",
      "              precision    recall  f1-score   support\n",
      "\n",
      "         0.0       1.00      0.96      0.98    537732\n",
      "         1.0       0.04      0.50      0.07      1755\n",
      "\n",
      "    accuracy                           0.96    539487\n",
      "   macro avg       0.52      0.73      0.53    539487\n",
      "weighted avg       1.00      0.96      0.98    539487\n",
      "\n",
      "\n"
     ]
    },
    {
     "data": {
      "text/plain": [
       "<sklearn.metrics._plot.confusion_matrix.ConfusionMatrixDisplay at 0x7fca28388e90>"
      ]
     },
     "execution_count": 16,
     "metadata": {},
     "output_type": "execute_result"
    },
    {
     "data": {
      "image/png": "[encoded data removed]",
      "text/plain": [
       "<Figure size 432x288 with 1 Axes>"
      ]
     },
     "metadata": {
      "needs_background": "light"
     },
     "output_type": "display_data"
    },
    {
     "data": {
      "image/png": "[encoded data removed]",
      "text/plain": [
       "<Figure size 432x288 with 1 Axes>"
      ]
     },
     "metadata": {
      "needs_background": "light"
     },
     "output_type": "display_data"
    }
   ],
   "source": [
    "##### Step 6 - Use model to make predictions\n",
    "# Predict class labels on training data\n",
    "pred_labels_tr_test = (model_test.predict(x_training)> 0.5).astype(int)\n",
    "# Predict class labels on a test data\n",
    "pred_labels_te_test = (model_test.predict(x_test)> 0.5).astype(int)\n",
    "#> 0.01).astype(int)\n",
    "\n",
    "\n",
    "##### Step 7 - Model Performance Summary\n",
    "print(\"\")\n",
    "print('-------------------- Model Summary --------------------')\n",
    "model_test.summary() # print model summary\n",
    "print(\"\")\n",
    "print('-------------------- Weights and Biases --------------------')\n",
    "for layer in model_test.layers:\n",
    "    print(\"Layer: \", layer.name) # print layer name\n",
    "    \n",
    "print(\"\")\n",
    "print('---------- Evaluation on Training Data ----------')\n",
    "print(classification_report(y_training, pred_labels_tr_test))\n",
    "print(\"\")\n",
    "\n",
    "print('---------- Evaluation on Test Data ----------')\n",
    "print(classification_report(y_test, pred_labels_te_test))\n",
    "print(\"\")\n",
    "\n",
    "from sklearn.metrics import confusion_matrix\n",
    "import matplotlib.pyplot as plt\n",
    "\n",
    "from sklearn.metrics import ConfusionMatrixDisplay\n",
    "ConfusionMatrixDisplay(confusion_matrix(y_test, pred_labels_te_test)).plot(colorbar=False,cmap=plt.cm.Blues)\n",
    "ConfusionMatrixDisplay(confusion_matrix(y_test, pred_labels_te_test,normalize='true')).plot(colorbar=False,cmap=plt.cm.Blues)\n",
    "\n"
   ]
  },
  {
   "cell_type": "code",
   "execution_count": 17,
   "id": "a63fd2f3",
   "metadata": {},
   "outputs": [
    {
     "name": "stdout",
     "output_type": "stream",
     "text": [
      "WARNING:tensorflow:Falling back from v2 loop because of error: Failed to find data adapter that can handle input: <class 'pandas.core.frame.DataFrame'>, <class 'NoneType'>\n",
      "WARNING:tensorflow:Falling back from v2 loop because of error: Failed to find data adapter that can handle input: <class 'pandas.core.frame.DataFrame'>, <class 'NoneType'>\n",
      "\n",
      "-------------------- Model Summary --------------------\n",
      "Model: \"sequential_1\"\n",
      "_________________________________________________________________\n",
      "Layer (type)                 Output Shape              Param #   \n",
      "=================================================================\n",
      "flatten_1 (Flatten)          (None, 8)                 0         \n",
      "_________________________________________________________________\n",
      "Hidden-Layer0 (Dense)        (None, 8)                 72        \n",
      "_________________________________________________________________\n",
      "Hidden-Layer1 (Dense)        (None, 8)                 72        \n",
      "_________________________________________________________________\n",
      "Hidden-Layer2 (Dense)        (None, 8)                 72        \n",
      "_________________________________________________________________\n",
      "Hidden-Layer3 (Dense)        (None, 8)                 72        \n",
      "_________________________________________________________________\n",
      "Hidden-Layer4 (Dense)        (None, 8)                 72        \n",
      "_________________________________________________________________\n",
      "Hidden-Layer5 (Dense)        (None, 8)                 72        \n",
      "_________________________________________________________________\n",
      "Hidden-Layer6 (Dense)        (None, 8)                 72        \n",
      "_________________________________________________________________\n",
      "Hidden-Layer7 (Dense)        (None, 8)                 72        \n",
      "_________________________________________________________________\n",
      "dropout_1 (Dropout)          (None, 8)                 0         \n",
      "_________________________________________________________________\n",
      "Output-Layer (Dense)         (None, 1)                 9         \n",
      "=================================================================\n",
      "Total params: 585\n",
      "Trainable params: 585\n",
      "Non-trainable params: 0\n",
      "_________________________________________________________________\n",
      "\n"
     ]
    },
    {
     "data": {
      "text/plain": [
       "<matplotlib.legend.Legend at 0x7fcb1596c490>"
      ]
     },
     "execution_count": 17,
     "metadata": {},
     "output_type": "execute_result"
    },
    {
     "data": {
      "image/png": "[encoded data removed]",
      "text/plain": [
       "<Figure size 432x288 with 1 Axes>"
      ]
     },
     "metadata": {
      "needs_background": "light"
     },
     "output_type": "display_data"
    }
   ],
   "source": [
    "##### Step 6 - Use model to make predictions\n",
    "# Predict class labels on training data\n",
    "pred_labels_tr_test_prob = (model_test.predict(x_training))\n",
    "# Predict class labels on a test data\n",
    "pred_labels_te_test_prob = (model_test.predict(x_test))\n",
    "#> 0.01).astype(int)\n",
    "\n",
    "\n",
    "##### Step 7 - Model Performance Summary\n",
    "print(\"\")\n",
    "print('-------------------- Model Summary --------------------')\n",
    "model_test.summary() # print model summary\n",
    "print(\"\")\n",
    "\n",
    "\n",
    "from sklearn import metrics\n",
    "from sklearn import datasets\n",
    "from sklearn.model_selection import train_test_split\n",
    "from sklearn.linear_model import LogisticRegression\n",
    "from sklearn.ensemble import GradientBoostingClassifier\n",
    "import numpy as np\n",
    "import matplotlib.pyplot as plt\n",
    "\n",
    "plt.figure(0).clf()\n",
    "\n",
    "\n",
    "fpr, tpr, _ = metrics.roc_curve(y_test, pred_labels_te_test_prob)\n",
    "auc = round(metrics.roc_auc_score(y_test, pred_labels_te_test_prob), 4)\n",
    "plt.plot(fpr,tpr,label=\"complx_SMOTE_8l_8n, AUC=\"+str(auc))\n",
    "\n",
    "\n",
    "\n",
    "\n",
    "\n",
    "#add legend\n",
    "plt.legend()"
   ]
  },
  {
   "cell_type": "code",
   "execution_count": 19,
   "id": "65e6cf21",
   "metadata": {
    "scrolled": false
   },
   "outputs": [
    {
     "name": "stdout",
     "output_type": "stream",
     "text": [
      "WARNING:tensorflow:Falling back from v2 loop because of error: Failed to find data adapter that can handle input: <class 'pandas.core.frame.DataFrame'>, <class 'NoneType'>\n",
      "WARNING:tensorflow:Falling back from v2 loop because of error: Failed to find data adapter that can handle input: <class 'pandas.core.frame.DataFrame'>, <class 'NoneType'>\n",
      "\n",
      "-------------------- Model Summary --------------------\n",
      "Model: \"sequential_2\"\n",
      "_________________________________________________________________\n",
      "Layer (type)                 Output Shape              Param #   \n",
      "=================================================================\n",
      "flatten_2 (Flatten)          (None, 8)                 0         \n",
      "_________________________________________________________________\n",
      "Hidden-Layer0 (Dense)        (None, 8)                 72        \n",
      "_________________________________________________________________\n",
      "Hidden-Layer1 (Dense)        (None, 8)                 72        \n",
      "_________________________________________________________________\n",
      "Hidden-Layer2 (Dense)        (None, 8)                 72        \n",
      "_________________________________________________________________\n",
      "Hidden-Layer3 (Dense)        (None, 8)                 72        \n",
      "_________________________________________________________________\n",
      "Hidden-Layer4 (Dense)        (None, 8)                 72        \n",
      "_________________________________________________________________\n",
      "Hidden-Layer5 (Dense)        (None, 8)                 72        \n",
      "_________________________________________________________________\n",
      "Hidden-Layer6 (Dense)        (None, 8)                 72        \n",
      "_________________________________________________________________\n",
      "Hidden-Layer7 (Dense)        (None, 8)                 72        \n",
      "_________________________________________________________________\n",
      "dropout_2 (Dropout)          (None, 8)                 0         \n",
      "_________________________________________________________________\n",
      "Output-Layer (Dense)         (None, 1)                 9         \n",
      "=================================================================\n",
      "Total params: 585\n",
      "Trainable params: 585\n",
      "Non-trainable params: 0\n",
      "_________________________________________________________________\n",
      "\n",
      "-------------------- Weights and Biases --------------------\n",
      "Layer:  flatten_2\n",
      "Layer:  Hidden-Layer0\n",
      "Layer:  Hidden-Layer1\n",
      "Layer:  Hidden-Layer2\n",
      "Layer:  Hidden-Layer3\n",
      "Layer:  Hidden-Layer4\n",
      "Layer:  Hidden-Layer5\n",
      "Layer:  Hidden-Layer6\n",
      "Layer:  Hidden-Layer7\n",
      "Layer:  dropout_2\n",
      "Layer:  Output-Layer\n",
      "\n",
      "---------- Evaluation on Training Data ----------\n",
      "              precision    recall  f1-score   support\n",
      "\n",
      "         0.0       1.00      0.81      0.89   4254174\n",
      "         1.0       0.01      0.69      0.02     14597\n",
      "\n",
      "    accuracy                           0.81   4268771\n",
      "   macro avg       0.51      0.75      0.46   4268771\n",
      "weighted avg       1.00      0.81      0.89   4268771\n",
      "\n",
      "\n",
      "---------- Evaluation on Test Data ----------\n",
      "              precision    recall  f1-score   support\n",
      "\n",
      "         0.0       1.00      0.81      0.89    537732\n",
      "         1.0       0.01      0.74      0.02      1755\n",
      "\n",
      "    accuracy                           0.81    539487\n",
      "   macro avg       0.51      0.77      0.46    539487\n",
      "weighted avg       1.00      0.81      0.89    539487\n",
      "\n",
      "\n"
     ]
    },
    {
     "data": {
      "text/plain": [
       "<sklearn.metrics._plot.confusion_matrix.ConfusionMatrixDisplay at 0x7fcb7695a750>"
      ]
     },
     "execution_count": 19,
     "metadata": {},
     "output_type": "execute_result"
    },
    {
     "data": {
      "image/png": "[encoded data removed]",
      "text/plain": [
       "<Figure size 432x288 with 1 Axes>"
      ]
     },
     "metadata": {
      "needs_background": "light"
     },
     "output_type": "display_data"
    },
    {
     "data": {
      "image/png": "[encoded data removed]",
      "text/plain": [
       "<Figure size 432x288 with 1 Axes>"
      ]
     },
     "metadata": {
      "needs_background": "light"
     },
     "output_type": "display_data"
    }
   ],
   "source": [
    "##### Step 6 - Use model to make predictions\n",
    "# Predict class labels on training data\n",
    "pred_labels_tr_test = (model_test.predict(x_training)> 0.5).astype(int)\n",
    "# Predict class labels on a test data\n",
    "pred_labels_te_test = (model_test.predict(x_test)> 0.5).astype(int)\n",
    "#> 0.01).astype(int)\n",
    "\n",
    "\n",
    "##### Step 7 - Model Performance Summary\n",
    "print(\"\")\n",
    "print('-------------------- Model Summary --------------------')\n",
    "model_test.summary() # print model summary\n",
    "print(\"\")\n",
    "print('-------------------- Weights and Biases --------------------')\n",
    "for layer in model_test.layers:\n",
    "    print(\"Layer: \", layer.name) # print layer name\n",
    "    \n",
    "print(\"\")\n",
    "print('---------- Evaluation on Training Data ----------')\n",
    "print(classification_report(y_training, pred_labels_tr_test))\n",
    "print(\"\")\n",
    "\n",
    "print('---------- Evaluation on Test Data ----------')\n",
    "print(classification_report(y_test, pred_labels_te_test))\n",
    "print(\"\")\n",
    "\n",
    "from sklearn.metrics import confusion_matrix\n",
    "import matplotlib.pyplot as plt\n",
    "\n",
    "from sklearn.metrics import ConfusionMatrixDisplay\n",
    "ConfusionMatrixDisplay(confusion_matrix(y_test, pred_labels_te_test)).plot(colorbar=False,cmap=plt.cm.Blues)\n",
    "ConfusionMatrixDisplay(confusion_matrix(y_test, pred_labels_te_test,normalize='true')).plot(colorbar=False,cmap=plt.cm.Blues)\n",
    "\n"
   ]
  },
  {
   "cell_type": "code",
   "execution_count": 23,
   "id": "eaca0db7",
   "metadata": {},
   "outputs": [
    {
     "name": "stdout",
     "output_type": "stream",
     "text": [
      "WARNING:tensorflow:Falling back from v2 loop because of error: Failed to find data adapter that can handle input: <class 'pandas.core.frame.DataFrame'>, <class 'NoneType'>\n",
      "WARNING:tensorflow:Falling back from v2 loop because of error: Failed to find data adapter that can handle input: <class 'pandas.core.frame.DataFrame'>, <class 'NoneType'>\n",
      "\n",
      "-------------------- Model Summary --------------------\n",
      "Model: \"sequential_2\"\n",
      "_________________________________________________________________\n",
      "Layer (type)                 Output Shape              Param #   \n",
      "=================================================================\n",
      "flatten_2 (Flatten)          (None, 8)                 0         \n",
      "_________________________________________________________________\n",
      "Hidden-Layer0 (Dense)        (None, 8)                 72        \n",
      "_________________________________________________________________\n",
      "Hidden-Layer1 (Dense)        (None, 8)                 72        \n",
      "_________________________________________________________________\n",
      "Hidden-Layer2 (Dense)        (None, 8)                 72        \n",
      "_________________________________________________________________\n",
      "Hidden-Layer3 (Dense)        (None, 8)                 72        \n",
      "_________________________________________________________________\n",
      "Hidden-Layer4 (Dense)        (None, 8)                 72        \n",
      "_________________________________________________________________\n",
      "Hidden-Layer5 (Dense)        (None, 8)                 72        \n",
      "_________________________________________________________________\n",
      "Hidden-Layer6 (Dense)        (None, 8)                 72        \n",
      "_________________________________________________________________\n",
      "Hidden-Layer7 (Dense)        (None, 8)                 72        \n",
      "_________________________________________________________________\n",
      "dropout_2 (Dropout)          (None, 8)                 0         \n",
      "_________________________________________________________________\n",
      "Output-Layer (Dense)         (None, 1)                 9         \n",
      "=================================================================\n",
      "Total params: 585\n",
      "Trainable params: 585\n",
      "Non-trainable params: 0\n",
      "_________________________________________________________________\n",
      "\n"
     ]
    },
    {
     "data": {
      "text/plain": [
       "<matplotlib.legend.Legend at 0x7fcb556a3310>"
      ]
     },
     "execution_count": 23,
     "metadata": {},
     "output_type": "execute_result"
    },
    {
     "data": {
      "image/png": "[encoded data removed]",
      "text/plain": [
       "<Figure size 432x288 with 1 Axes>"
      ]
     },
     "metadata": {
      "needs_background": "light"
     },
     "output_type": "display_data"
    }
   ],
   "source": [
    "##### Step 6 - Use model to make predictions\n",
    "# Predict class labels on training data\n",
    "pred_labels_tr_test_prob = (model_test.predict(x_training))\n",
    "# Predict class labels on a test data\n",
    "pred_labels_te_test_prob = (model_test.predict(x_test))\n",
    "#> 0.01).astype(int)\n",
    "\n",
    "\n",
    "##### Step 7 - Model Performance Summary\n",
    "print(\"\")\n",
    "print('-------------------- Model Summary --------------------')\n",
    "model_test.summary() # print model summary\n",
    "print(\"\")\n",
    "\n",
    "\n",
    "from sklearn import metrics\n",
    "from sklearn import datasets\n",
    "from sklearn.model_selection import train_test_split\n",
    "from sklearn.linear_model import LogisticRegression\n",
    "from sklearn.ensemble import GradientBoostingClassifier\n",
    "import numpy as np\n",
    "import matplotlib.pyplot as plt\n",
    "\n",
    "plt.figure(0).clf()\n",
    "\n",
    "\n",
    "fpr, tpr, _ = metrics.roc_curve(y_test, pred_labels_te_test_prob)\n",
    "auc = round(metrics.roc_auc_score(y_test, pred_labels_te_test_prob), 4)\n",
    "plt.plot(fpr,tpr,label=\"complx_SMOTE_8l_8n, AUC=\"+str(auc))\n",
    "\n",
    "\n",
    "\n",
    "\n",
    "\n",
    "#add legend\n",
    "plt.legend()"
   ]
  },
  {
   "cell_type": "code",
   "execution_count": 20,
   "id": "8bc2622b",
   "metadata": {},
   "outputs": [
    {
     "name": "stdout",
     "output_type": "stream",
     "text": [
      "WARNING:tensorflow:Falling back from v2 loop because of error: Failed to find data adapter that can handle input: <class 'pandas.core.frame.DataFrame'>, <class 'NoneType'>\n",
      "Train on 8508348 samples, validate on 688402 samples\n",
      "Epoch 1/20\n",
      "8508348/8508348 [==============================] - 1158s 136us/sample - loss: 0.4696 - accuracy: 0.7735 - val_loss: 0.3956 - val_accuracy: 0.8874\n",
      "Epoch 2/20\n",
      "8508348/8508348 [==============================] - 1066s 125us/sample - loss: 0.4618 - accuracy: 0.7799 - val_loss: 0.4554 - val_accuracy: 0.8274\n",
      "Epoch 3/20\n",
      "8508348/8508348 [==============================] - 615s 72us/sample - loss: 0.4623 - accuracy: 0.7804 - val_loss: 0.4220 - val_accuracy: 0.8551\n",
      "Epoch 4/20\n",
      "8508348/8508348 [==============================] - 932s 110us/sample - loss: 0.4586 - accuracy: 0.7838 - val_loss: 0.4509 - val_accuracy: 0.8168\n",
      "Epoch 5/20\n",
      "8508348/8508348 [==============================] - 815s 96us/sample - loss: 0.4581 - accuracy: 0.7849 - val_loss: 0.4840 - val_accuracy: 0.7564\n",
      "Epoch 6/20\n",
      "8508348/8508348 [==============================] - 660s 78us/sample - loss: 0.4573 - accuracy: 0.7869 - val_loss: 0.4511 - val_accuracy: 0.8333\n",
      "Epoch 7/20\n",
      "8508348/8508348 [==============================] - 778s 91us/sample - loss: 0.4548 - accuracy: 0.7891 - val_loss: 0.4629 - val_accuracy: 0.7523\n",
      "Epoch 8/20\n",
      "8508348/8508348 [==============================] - 950s 112us/sample - loss: 0.4535 - accuracy: 0.7897 - val_loss: 0.4508 - val_accuracy: 0.8233\n",
      "Epoch 9/20\n",
      "8508348/8508348 [==============================] - 1054s 124us/sample - loss: 0.4504 - accuracy: 0.7909 - val_loss: 0.4221 - val_accuracy: 0.8316\n",
      "Epoch 10/20\n",
      "8508348/8508348 [==============================] - 1002s 118us/sample - loss: 0.4499 - accuracy: 0.7912 - val_loss: 0.4568 - val_accuracy: 0.8103\n",
      "Epoch 11/20\n",
      "8508348/8508348 [==============================] - 926s 109us/sample - loss: 0.4497 - accuracy: 0.7906 - val_loss: 0.4500 - val_accuracy: 0.8456\n",
      "Epoch 12/20\n",
      "8508348/8508348 [==============================] - 984s 116us/sample - loss: 0.4834 - accuracy: 0.7689 - val_loss: 0.4701 - val_accuracy: 0.6450\n",
      "Epoch 13/20\n",
      "8508348/8508348 [==============================] - 725s 85us/sample - loss: 0.4742 - accuracy: 0.7756 - val_loss: 0.4797 - val_accuracy: 0.8356\n",
      "Epoch 14/20\n",
      "8508348/8508348 [==============================] - 664s 78us/sample - loss: 0.4645 - accuracy: 0.7773 - val_loss: 0.4501 - val_accuracy: 0.8646\n",
      "Epoch 15/20\n",
      "8508348/8508348 [==============================] - 1322s 155us/sample - loss: 0.4647 - accuracy: 0.7769 - val_loss: 0.4545 - val_accuracy: 0.8473\n",
      "Epoch 16/20\n",
      "8508348/8508348 [==============================] - 2440s 287us/sample - loss: 0.4599 - accuracy: 0.7791 - val_loss: 0.4176 - val_accuracy: 0.7028\n",
      "Epoch 17/20\n",
      "8508348/8508348 [==============================] - 1157s 136us/sample - loss: 0.4591 - accuracy: 0.7805 - val_loss: 0.4599 - val_accuracy: 0.7548\n",
      "Epoch 18/20\n",
      "8508348/8508348 [==============================] - 2416s 284us/sample - loss: 0.4579 - accuracy: 0.7820 - val_loss: 0.4779 - val_accuracy: 0.7533\n",
      "Epoch 19/20\n",
      "8508348/8508348 [==============================] - 2417s 284us/sample - loss: 0.4594 - accuracy: 0.7810 - val_loss: 0.4631 - val_accuracy: 0.7906\n",
      "Epoch 20/20\n",
      "8508348/8508348 [==============================] - 1788s 210us/sample - loss: 0.4614 - accuracy: 0.7787 - val_loss: 0.4416 - val_accuracy: 0.7332\n"
     ]
    },
    {
     "data": {
      "text/plain": [
       "<tensorflow.python.keras.callbacks.History at 0x7fcb72e477d0>"
      ]
     },
     "execution_count": 20,
     "metadata": {},
     "output_type": "execute_result"
    }
   ],
   "source": [
    "##model with more layers\n",
    "##### Step 5 - Specify the structure of a Neural Network\n",
    "model_test2 = tf.keras.models.Sequential([\n",
    "    tf.keras.layers.Flatten(input_shape=(8,)),\n",
    "    tf.keras.layers.Dense(8, activation='tanh', name='Hidden-Layer0'),\n",
    "    tf.keras.layers.Dense(8, activation='tanh', name='Hidden-Layer1'),\n",
    "    tf.keras.layers.Dense(8, activation='tanh', name='Hidden-Layer2'),\n",
    "    tf.keras.layers.Dense(8, activation='tanh', name='Hidden-Layer3'),\n",
    "    tf.keras.layers.Dense(8, activation='tanh', name='Hidden-Layer4'),\n",
    "    tf.keras.layers.Dense(8, activation='tanh', name='Hidden-Layer5'),\n",
    "\n",
    "\n",
    "    tf.keras.layers.Dropout(0.2),\n",
    "    tf.keras.layers.Dense(1, activation='sigmoid', name='Output-Layer')\n",
    "])\n",
    "model_test2.compile(optimizer='adam',\n",
    "    loss='binary_crossentropy',\n",
    "    metrics=['accuracy'])\n",
    "\n",
    "checkpoint_filepath = '/tmp/checkpointtest2'\n",
    "model_checkpoint_callback = tf.keras.callbacks.ModelCheckpoint(\n",
    "    filepath=checkpoint_filepath,\n",
    "    save_weights_only=True,\n",
    "    monitor='val_loss',\n",
    "    mode='min',\n",
    "    save_best_only=True)\n",
    "\n",
    "model_test2.fit(X_training_sm, Y_traning_sm, epochs = 20,callbacks=[model_checkpoint_callback],  validation_data=(x_validation, y_validation))#*********more epochs = 5\n"
   ]
  },
  {
   "cell_type": "code",
   "execution_count": 21,
   "id": "6cff5696",
   "metadata": {},
   "outputs": [
    {
     "name": "stdout",
     "output_type": "stream",
     "text": [
      "WARNING:tensorflow:Falling back from v2 loop because of error: Failed to find data adapter that can handle input: <class 'pandas.core.frame.DataFrame'>, <class 'NoneType'>\n",
      "WARNING:tensorflow:Falling back from v2 loop because of error: Failed to find data adapter that can handle input: <class 'pandas.core.frame.DataFrame'>, <class 'NoneType'>\n",
      "\n",
      "-------------------- Model Summary --------------------\n",
      "Model: \"sequential_3\"\n",
      "_________________________________________________________________\n",
      "Layer (type)                 Output Shape              Param #   \n",
      "=================================================================\n",
      "flatten_3 (Flatten)          (None, 8)                 0         \n",
      "_________________________________________________________________\n",
      "Hidden-Layer0 (Dense)        (None, 8)                 72        \n",
      "_________________________________________________________________\n",
      "Hidden-Layer1 (Dense)        (None, 8)                 72        \n",
      "_________________________________________________________________\n",
      "Hidden-Layer2 (Dense)        (None, 8)                 72        \n",
      "_________________________________________________________________\n",
      "Hidden-Layer3 (Dense)        (None, 8)                 72        \n",
      "_________________________________________________________________\n",
      "Hidden-Layer4 (Dense)        (None, 8)                 72        \n",
      "_________________________________________________________________\n",
      "Hidden-Layer5 (Dense)        (None, 8)                 72        \n",
      "_________________________________________________________________\n",
      "dropout_3 (Dropout)          (None, 8)                 0         \n",
      "_________________________________________________________________\n",
      "Output-Layer (Dense)         (None, 1)                 9         \n",
      "=================================================================\n",
      "Total params: 441\n",
      "Trainable params: 441\n",
      "Non-trainable params: 0\n",
      "_________________________________________________________________\n",
      "\n",
      "-------------------- Weights and Biases --------------------\n",
      "Layer:  flatten_3\n",
      "Layer:  Hidden-Layer0\n",
      "Layer:  Hidden-Layer1\n",
      "Layer:  Hidden-Layer2\n",
      "Layer:  Hidden-Layer3\n",
      "Layer:  Hidden-Layer4\n",
      "Layer:  Hidden-Layer5\n",
      "Layer:  dropout_3\n",
      "Layer:  Output-Layer\n",
      "\n",
      "---------- Evaluation on Training Data ----------\n",
      "              precision    recall  f1-score   support\n",
      "\n",
      "         0.0       1.00      0.73      0.84   4254174\n",
      "         1.0       0.01      0.82      0.02     14597\n",
      "\n",
      "    accuracy                           0.73   4268771\n",
      "   macro avg       0.50      0.77      0.43   4268771\n",
      "weighted avg       1.00      0.73      0.84   4268771\n",
      "\n",
      "\n",
      "---------- Evaluation on Test Data ----------\n",
      "              precision    recall  f1-score   support\n",
      "\n",
      "         0.0       1.00      0.73      0.84    537732\n",
      "         1.0       0.01      0.85      0.02      1755\n",
      "\n",
      "    accuracy                           0.73    539487\n",
      "   macro avg       0.50      0.79      0.43    539487\n",
      "weighted avg       1.00      0.73      0.84    539487\n",
      "\n",
      "\n"
     ]
    },
    {
     "data": {
      "text/plain": [
       "<sklearn.metrics._plot.confusion_matrix.ConfusionMatrixDisplay at 0x7fcb3481ce10>"
      ]
     },
     "execution_count": 21,
     "metadata": {},
     "output_type": "execute_result"
    },
    {
     "data": {
      "image/png": "[encoded data removed]",
      "text/plain": [
       "<Figure size 432x288 with 1 Axes>"
      ]
     },
     "metadata": {
      "needs_background": "light"
     },
     "output_type": "display_data"
    },
    {
     "data": {
      "image/png": "[encoded data removed]",
      "text/plain": [
       "<Figure size 432x288 with 1 Axes>"
      ]
     },
     "metadata": {
      "needs_background": "light"
     },
     "output_type": "display_data"
    }
   ],
   "source": [
    "##### Step 6 - Use model to make predictions\n",
    "# Predict class labels on training data\n",
    "pred_labels_tr_test2 = (model_test2.predict(x_training)> 0.5).astype(int)\n",
    "# Predict class labels on a test data\n",
    "pred_labels_te_test2 = (model_test2.predict(x_test)> 0.5).astype(int)\n",
    "#> 0.01).astype(int)\n",
    "\n",
    "\n",
    "##### Step 7 - Model Performance Summary\n",
    "print(\"\")\n",
    "print('-------------------- Model Summary --------------------')\n",
    "model_test2.summary() # print model summary\n",
    "print(\"\")\n",
    "print('-------------------- Weights and Biases --------------------')\n",
    "for layer in model_test2.layers:\n",
    "    print(\"Layer: \", layer.name) # print layer name\n",
    "    \n",
    "print(\"\")\n",
    "print('---------- Evaluation on Training Data ----------')\n",
    "print(classification_report(y_training, pred_labels_tr_test2))\n",
    "print(\"\")\n",
    "\n",
    "print('---------- Evaluation on Test Data ----------')\n",
    "print(classification_report(y_test, pred_labels_te_test2))\n",
    "print(\"\")\n",
    "\n",
    "from sklearn.metrics import confusion_matrix\n",
    "import matplotlib.pyplot as plt\n",
    "\n",
    "from sklearn.metrics import ConfusionMatrixDisplay\n",
    "ConfusionMatrixDisplay(confusion_matrix(y_test, pred_labels_te_test2)).plot(colorbar=False,cmap=plt.cm.Blues)\n",
    "ConfusionMatrixDisplay(confusion_matrix(y_test, pred_labels_te_test2,normalize='true')).plot(colorbar=False,cmap=plt.cm.Blues)\n",
    "\n"
   ]
  },
  {
   "cell_type": "code",
   "execution_count": 22,
   "id": "835ed6ba",
   "metadata": {},
   "outputs": [
    {
     "name": "stdout",
     "output_type": "stream",
     "text": [
      "WARNING:tensorflow:Falling back from v2 loop because of error: Failed to find data adapter that can handle input: <class 'pandas.core.frame.DataFrame'>, <class 'NoneType'>\n",
      "WARNING:tensorflow:Falling back from v2 loop because of error: Failed to find data adapter that can handle input: <class 'pandas.core.frame.DataFrame'>, <class 'NoneType'>\n",
      "\n",
      "-------------------- Model Summary --------------------\n",
      "Model: \"sequential_3\"\n",
      "_________________________________________________________________\n",
      "Layer (type)                 Output Shape              Param #   \n",
      "=================================================================\n",
      "flatten_3 (Flatten)          (None, 8)                 0         \n",
      "_________________________________________________________________\n",
      "Hidden-Layer0 (Dense)        (None, 8)                 72        \n",
      "_________________________________________________________________\n",
      "Hidden-Layer1 (Dense)        (None, 8)                 72        \n",
      "_________________________________________________________________\n",
      "Hidden-Layer2 (Dense)        (None, 8)                 72        \n",
      "_________________________________________________________________\n",
      "Hidden-Layer3 (Dense)        (None, 8)                 72        \n",
      "_________________________________________________________________\n",
      "Hidden-Layer4 (Dense)        (None, 8)                 72        \n",
      "_________________________________________________________________\n",
      "Hidden-Layer5 (Dense)        (None, 8)                 72        \n",
      "_________________________________________________________________\n",
      "dropout_3 (Dropout)          (None, 8)                 0         \n",
      "_________________________________________________________________\n",
      "Output-Layer (Dense)         (None, 1)                 9         \n",
      "=================================================================\n",
      "Total params: 441\n",
      "Trainable params: 441\n",
      "Non-trainable params: 0\n",
      "_________________________________________________________________\n",
      "\n"
     ]
    },
    {
     "data": {
      "text/plain": [
       "<matplotlib.legend.Legend at 0x7fcb157e8950>"
      ]
     },
     "execution_count": 22,
     "metadata": {},
     "output_type": "execute_result"
    },
    {
     "data": {
      "image/png": "[encoded data removed]",
      "text/plain": [
       "<Figure size 432x288 with 1 Axes>"
      ]
     },
     "metadata": {
      "needs_background": "light"
     },
     "output_type": "display_data"
    }
   ],
   "source": [
    "##### Step 6 - Use model to make predictions\n",
    "# Predict class labels on training data\n",
    "pred_labels_tr_test2_prob = (model_test2.predict(x_training))\n",
    "# Predict class labels on a test data\n",
    "pred_labels_te_test2_prob = (model_test2.predict(x_test))\n",
    "#> 0.01).astype(int)\n",
    "\n",
    "\n",
    "##### Step 7 - Model Performance Summary\n",
    "print(\"\")\n",
    "print('-------------------- Model Summary --------------------')\n",
    "model_test2.summary() # print model summary\n",
    "print(\"\")\n",
    "\n",
    "\n",
    "from sklearn import metrics\n",
    "from sklearn import datasets\n",
    "from sklearn.model_selection import train_test_split\n",
    "from sklearn.linear_model import LogisticRegression\n",
    "from sklearn.ensemble import GradientBoostingClassifier\n",
    "import numpy as np\n",
    "import matplotlib.pyplot as plt\n",
    "\n",
    "plt.figure(0).clf()\n",
    "\n",
    "\n",
    "fpr, tpr, _ = metrics.roc_curve(y_test, pred_labels_te_test2_prob)\n",
    "auc = round(metrics.roc_auc_score(y_test, pred_labels_te_test2_prob), 4)\n",
    "plt.plot(fpr,tpr,label=\"complx_SMOTE_8l_6n, AUC=\"+str(auc))\n",
    "\n",
    "\n",
    "\n",
    "\n",
    "\n",
    "#add legend\n",
    "plt.legend()"
   ]
  },
  {
   "cell_type": "code",
   "execution_count": null,
   "id": "20c06ae5",
   "metadata": {},
   "outputs": [],
   "source": []
  }
 ],
 "metadata": {
  "kernelspec": {
   "display_name": "Python 3 (ipykernel)",
   "language": "python",
   "name": "python3"
  },
  "language_info": {
   "codemirror_mode": {
    "name": "ipython",
    "version": 3
   },
   "file_extension": ".py",
   "mimetype": "text/x-python",
   "name": "python",
   "nbconvert_exporter": "python",
   "pygments_lexer": "ipython3",
   "version": "3.8.13"
  }
 },
 "nbformat": 4,
 "nbformat_minor": 5
}
