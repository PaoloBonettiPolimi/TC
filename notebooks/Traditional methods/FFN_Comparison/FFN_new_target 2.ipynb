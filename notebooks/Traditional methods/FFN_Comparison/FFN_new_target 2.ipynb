{
 "cells": [
  {
   "cell_type": "markdown",
   "id": "fb13443d",
   "metadata": {
    "heading_collapsed": true
   },
   "source": [
    "# Preliminaries\n"
   ]
  },
  {
   "cell_type": "code",
   "execution_count": 1,
   "id": "8ad8947f",
   "metadata": {
    "hidden": true
   },
   "outputs": [
    {
     "name": "stdout",
     "output_type": "stream",
     "text": [
      "tensorflow version 2.9.1\n",
      "sklearn: 1.1.2\n"
     ]
    }
   ],
   "source": [
    "import tensorflow as tf\n",
    "\n",
    "print(f'tensorflow version {tf.__version__}')\n",
    "\n",
    "from imblearn.over_sampling import SMOTE\n",
    "from collections import Counter\n",
    "from numpy import * \n",
    "\n",
    "import pandas as pd\n",
    "import io\n",
    "import requests\n",
    "import numpy as np\n",
    "from sklearn import metrics\n",
    "from sklearn.model_selection import train_test_split\n",
    "from tensorflow.keras.models import Sequential\n",
    "from tensorflow.keras.layers import Dense, Activation\n",
    "from tensorflow.keras.callbacks import EarlyStopping\n",
    "from tensorflow.keras.layers import Dense, Activation, Dropout\n",
    "from sklearn.metrics import ConfusionMatrixDisplay\n",
    "from sklearn.metrics import confusion_matrix\n",
    "from sklearn.preprocessing import StandardScaler\n",
    "import sklearn # for model evaluation\n",
    "print('sklearn: %s' % sklearn.__version__) # print version\n",
    "from sklearn.model_selection import train_test_split # for splitting the data into train and test samples\n",
    "from sklearn.metrics import classification_report\n",
    "\n",
    "import os\n"
   ]
  },
  {
   "cell_type": "code",
   "execution_count": 2,
   "id": "7ff3b81f",
   "metadata": {
    "hidden": true
   },
   "outputs": [],
   "source": [
    "def dataLoad_old():\n",
    "    test = pd.read_csv('data/Real_Tomorrow/test_real_tom_target.csv')\n",
    "    train = pd.read_csv('data/Real_Tomorrow/training_real_tom_target.csv')\n",
    "    val = pd.read_csv('data/Real_Tomorrow/validation_real_tom_target.csv')\n",
    "    print(train.head())\n",
    "    train['shear'] = train.apply(lambda x: sqrt((x.u_200-x.u_850)**2 + (x.v_200-x.v_850)**2),axis=1)\n",
    "    val['shear'] = val.apply(lambda x: sqrt((x.u_200-x.u_850)**2 + (x.v_200-x.v_850)**2),axis=1)\n",
    "    test['shear'] = test.apply(lambda x: sqrt((x.u_200-x.u_850)**2 + (x.v_200-x.v_850)**2),axis=1)\n",
    "    train = train.drop(columns=['Unnamed: 0'])\n",
    "    test = test.drop(columns=['Unnamed: 0'])\n",
    "    val = val.drop(columns=['Unnamed: 0'])\n",
    "    #Split data\n",
    "    x_train = train[[ 'vo', 'r', 'u_200', 'u_850', 'v_200','v_850', 'ttr','sst','shear']]\n",
    "    print (\"******training features******\")\n",
    "    print (x_train)\n",
    "    y_train = train[['Real_tom_lsm']]\n",
    "    print (\"******training target******\")\n",
    "    print (y_train)\n",
    "    \n",
    "    x_test = test.loc[test.time>='2016-04-01'][[ 'vo', 'r', 'u_200', 'u_850', 'v_200','v_850', 'ttr','sst','shear']]\n",
    "    print (\"******test features******\")\n",
    "    print (x_test)\n",
    "    y_test = test.loc[test.time>='2016-04-01'][['Real_tom_lsm']]\n",
    "    print (\"******test target******\")\n",
    "    print (y_test)\n",
    "    \n",
    "    x_val = val[[ 'vo', 'r', 'u_200', 'u_850', 'v_200','v_850', 'ttr','sst','shear']]\n",
    "    print (\"******validation features******\")\n",
    "    print (x_val)\n",
    "    y_val = val[['Real_tom_lsm']]\n",
    "    print (\"******validation target******\")\n",
    "    print (y_val)\n",
    "    \n",
    "    print('Before Smote')\n",
    "\n",
    "    dff = y_train\n",
    "    M = y_train.to_numpy()\n",
    "    # summarize dataset\n",
    "    classes = unique(M)\n",
    "    print(classes)\n",
    "    total = len(M)\n",
    "    for c in classes:\n",
    "        n_examples = len(M[M==c])\n",
    "        percent = n_examples / total * 100\n",
    "        print('> Class=%d : %d/%d (%.1f%%)' % (c, n_examples, total, percent))\n",
    "    \n",
    "    smt = SMOTE()\n",
    "    \n",
    "    X_train_sm, Y_train_sm = smt.fit_resample(x_train, y_train)\n",
    "    \n",
    "    print('After SMOTE')\n",
    "    dff = Y_train_sm\n",
    "    M = Y_train_sm.to_numpy()\n",
    "    # summarize dataset\n",
    "    classes = unique(M)\n",
    "    print(classes)\n",
    "    total = len(M)\n",
    "    for c in classes:\n",
    "        n_examples = len(M[M==c])\n",
    "        percent = n_examples / total * 100\n",
    "        print('> Class=%d : %d/%d (%.1f%%)' % (c, n_examples, total, percent))\n",
    "        \n",
    "    return X_train_sm, Y_train_sm, x_val, y_val, x_test, y_test"
   ]
  },
  {
   "cell_type": "code",
   "execution_count": 3,
   "id": "3a408edf",
   "metadata": {
    "hidden": true
   },
   "outputs": [],
   "source": [
    "def dataLoad_old_48H():\n",
    "    test = pd.read_csv('data/Real_Tomorrow/test_real_tom_target.csv')\n",
    "    train = pd.read_csv('data/Real_Tomorrow/training_real_tom_target.csv')\n",
    "    val = pd.read_csv('data/Real_Tomorrow/validation_real_tom_target.csv')\n",
    "    print(train.head())\n",
    "    train['shear'] = train.apply(lambda x: sqrt((x.u_200-x.u_850)**2 + (x.v_200-x.v_850)**2),axis=1)\n",
    "    val['shear'] = val.apply(lambda x: sqrt((x.u_200-x.u_850)**2 + (x.v_200-x.v_850)**2),axis=1)\n",
    "    test['shear'] = test.apply(lambda x: sqrt((x.u_200-x.u_850)**2 + (x.v_200-x.v_850)**2),axis=1)\n",
    "    train = train.drop(columns=['Unnamed: 0'])\n",
    "    test = test.drop(columns=['Unnamed: 0'])\n",
    "    val = val.drop(columns=['Unnamed: 0'])\n",
    "    def tom_generate(df):\n",
    "        new_traning_sets = df\n",
    "        new_traning_sets['Real_tom_lsm48'] = new_traning_sets['Real_tom_lsm']\n",
    "        for i in range(0,int((new_traning_sets.shape[0]/377)-1)):\n",
    "            j=i+1\n",
    "            each_row2 = new_traning_sets.iloc[377*j:377*(j+1),:]\n",
    "            new_traning_sets.iloc[377*i:377*(i+1),14:15] = each_row2['Real_tom_lsm'].values\n",
    "        print(\"======== Done ========\")\n",
    "        return new_traning_sets\n",
    "\n",
    "    train = tom_generate(train)\n",
    "    test = tom_generate(test)\n",
    "    val = tom_generate(val)\n",
    "    \n",
    "    #Split data\n",
    "    x_train = train[[ 'vo', 'r', 'u_200', 'u_850', 'v_200','v_850', 'ttr','sst','shear']]\n",
    "    print (\"******training features******\")\n",
    "    print (x_train)\n",
    "    y_train = train[['Real_tom_lsm48']]\n",
    "    print (\"******training target******\")\n",
    "    print (y_train)\n",
    "    \n",
    "    x_test = test.loc[test.time>='2016-04-01'][[ 'vo', 'r', 'u_200', 'u_850', 'v_200','v_850', 'ttr','sst','shear']]\n",
    "    print (\"******test features******\")\n",
    "    print (x_test)\n",
    "    y_test = test.loc[test.time>='2016-04-01'][['Real_tom_lsm48']]\n",
    "    print (\"******test target******\")\n",
    "    print (y_test)\n",
    "    \n",
    "    x_val = val[[ 'vo', 'r', 'u_200', 'u_850', 'v_200','v_850', 'ttr','sst','shear']]\n",
    "    print (\"******validation features******\")\n",
    "    print (x_val)\n",
    "    y_val = val[['Real_tom_lsm48']]\n",
    "    print (\"******validation target******\")\n",
    "    print (y_val)\n",
    "    \n",
    "    print('Before Smote')\n",
    "\n",
    "    dff = y_train\n",
    "    M = y_train.to_numpy()\n",
    "    # summarize dataset\n",
    "    classes = unique(M)\n",
    "    print(classes)\n",
    "    total = len(M)\n",
    "    for c in classes:\n",
    "        n_examples = len(M[M==c])\n",
    "        percent = n_examples / total * 100\n",
    "        print('> Class=%d : %d/%d (%.1f%%)' % (c, n_examples, total, percent))\n",
    "    \n",
    "    smt = SMOTE()\n",
    "    \n",
    "    X_train_sm, Y_train_sm = smt.fit_resample(x_train, y_train)\n",
    "    \n",
    "    print('After SMOTE')\n",
    "    dff = Y_train_sm\n",
    "    M = Y_train_sm.to_numpy()\n",
    "    # summarize dataset\n",
    "    classes = unique(M)\n",
    "    print(classes)\n",
    "    total = len(M)\n",
    "    for c in classes:\n",
    "        n_examples = len(M[M==c])\n",
    "        percent = n_examples / total * 100\n",
    "        print('> Class=%d : %d/%d (%.1f%%)' % (c, n_examples, total, percent))\n",
    "        \n",
    "    return X_train_sm, Y_train_sm, x_val, y_val, x_test, y_test"
   ]
  },
  {
   "cell_type": "code",
   "execution_count": 4,
   "id": "c4807772",
   "metadata": {
    "hidden": true
   },
   "outputs": [],
   "source": [
    "def dataLoad_old_24_48H():\n",
    "    test = pd.read_csv('data/Real_Tomorrow/test_real_tom_target.csv')\n",
    "    train = pd.read_csv('data/Real_Tomorrow/training_real_tom_target.csv')\n",
    "    val = pd.read_csv('data/Real_Tomorrow/validation_real_tom_target.csv')\n",
    "    print(train.head())\n",
    "    train['shear'] = train.apply(lambda x: sqrt((x.u_200-x.u_850)**2 + (x.v_200-x.v_850)**2),axis=1)\n",
    "    val['shear'] = val.apply(lambda x: sqrt((x.u_200-x.u_850)**2 + (x.v_200-x.v_850)**2),axis=1)\n",
    "    test['shear'] = test.apply(lambda x: sqrt((x.u_200-x.u_850)**2 + (x.v_200-x.v_850)**2),axis=1)\n",
    "    train = train.drop(columns=['Unnamed: 0'])\n",
    "    test = test.drop(columns=['Unnamed: 0'])\n",
    "    val = val.drop(columns=['Unnamed: 0'])\n",
    "    def tom_generate(df):\n",
    "        new_traning_sets = df\n",
    "        new_traning_sets['Real_tom_lsm48'] = new_traning_sets['Real_tom_lsm']\n",
    "        for i in range(0,int((new_traning_sets.shape[0]/377)-1)):\n",
    "            j=i+1\n",
    "            each_row2 = new_traning_sets.iloc[377*j:377*(j+1),:]\n",
    "            new_traning_sets.iloc[377*i:377*(i+1),14:15] = each_row2['Real_tom_lsm'].values\n",
    "        print(\"======== Done ========\")\n",
    "        return new_traning_sets\n",
    "\n",
    "    train = tom_generate(train)\n",
    "    test = tom_generate(test)\n",
    "    val = tom_generate(val)\n",
    "    \n",
    "    #Split data\n",
    "    x_train = train[[ 'vo', 'r', 'u_200', 'u_850', 'v_200','v_850', 'ttr','sst','shear']]\n",
    "    print (\"******training features******\")\n",
    "    print (x_train)\n",
    "    y_train = train.apply(lambda x: 1 if x.Real_tom_lsm ==1 or x.Real_tom_lsm48 == 1 else 0,axis=1)\n",
    "    print (\"******training target******\")\n",
    "    print (y_train)\n",
    "    \n",
    "    x_test = test.loc[test.time>='2016-04-01'][[ 'vo', 'r', 'u_200', 'u_850', 'v_200','v_850', 'ttr','sst','shear']]\n",
    "    print (\"******test features******\")\n",
    "    print (x_test)\n",
    "    y_test = test.loc[test.time>='2016-04-01'].apply(lambda x: 1 if x.Real_tom_lsm ==1 or x.Real_tom_lsm48 == 1 else 0,axis=1)\n",
    "    print (\"******test target******\")\n",
    "    print (y_test)\n",
    "    \n",
    "    x_val = val[[ 'vo', 'r', 'u_200', 'u_850', 'v_200','v_850', 'ttr','sst','shear']]\n",
    "    print (\"******validation features******\")\n",
    "    print (x_val)\n",
    "    y_val = val.apply(lambda x: 1 if x.Real_tom_lsm ==1 or x.Real_tom_lsm48 == 1 else 0,axis=1)\n",
    "    print (\"******validation target******\")\n",
    "    print (y_val)\n",
    "    \n",
    "    print('Before Smote')\n",
    "\n",
    "    dff = y_train\n",
    "    M = y_train.to_numpy()\n",
    "    # summarize dataset\n",
    "    classes = unique(M)\n",
    "    print(classes)\n",
    "    total = len(M)\n",
    "    for c in classes:\n",
    "        n_examples = len(M[M==c])\n",
    "        percent = n_examples / total * 100\n",
    "        print('> Class=%d : %d/%d (%.1f%%)' % (c, n_examples, total, percent))\n",
    "    \n",
    "    smt = SMOTE()\n",
    "    \n",
    "    X_train_sm, Y_train_sm = smt.fit_resample(x_train, y_train)\n",
    "    \n",
    "    print('After SMOTE')\n",
    "    dff = Y_train_sm\n",
    "    M = Y_train_sm.to_numpy()\n",
    "    # summarize dataset\n",
    "    classes = unique(M)\n",
    "    print(classes)\n",
    "    total = len(M)\n",
    "    for c in classes:\n",
    "        n_examples = len(M[M==c])\n",
    "        percent = n_examples / total * 100\n",
    "        print('> Class=%d : %d/%d (%.1f%%)' % (c, n_examples, total, percent))\n",
    "        \n",
    "    return X_train_sm, Y_train_sm, x_val, y_val, x_test, y_test"
   ]
  },
  {
   "cell_type": "code",
   "execution_count": 5,
   "id": "780c6e37",
   "metadata": {
    "hidden": true
   },
   "outputs": [],
   "source": [
    "def dataLoad():\n",
    "    test = pd.read_csv('data/realtarget_shear/test_with_shear.csv')\n",
    "    train = pd.read_csv('data/realtarget_shear/training_with_shear.csv')\n",
    "    val = pd.read_csv('data/realtarget_shear/valid_with_shear.csv')\n",
    "\n",
    "    train = train.drop(columns=['Unnamed: 0'])\n",
    "    test = test.drop(columns=['Unnamed: 0'])\n",
    "    val = val.drop(columns=['Unnamed: 0'])\n",
    "    \n",
    "    def threshold(x):\n",
    "        if x >= 50.0:\n",
    "            return 1.0\n",
    "        else:\n",
    "            return 0.0\n",
    "\n",
    "    # apply the function to the \"Real_tom_target\" column\n",
    "    train['Real_tom_target'] = train['Real_tom_target'].apply(threshold)\n",
    "    test['Real_tom_target'] = test['Real_tom_target'].apply(threshold)\n",
    "    val['Real_tom_target'] = val['Real_tom_target'].apply(threshold)\n",
    "    \n",
    "    print(train.head())\n",
    "    print(train.shape)\n",
    "    \n",
    "    #Split data\n",
    "    x_train = train[[ 'vo', 'r', 'u_200', 'u_850', 'v_200','v_850', 'ttr','sst','shear']]\n",
    "    print (\"******training features******\")\n",
    "    print (x_train)\n",
    "    y_train = train[['Real_tom_target']]\n",
    "    print (\"******training target******\")\n",
    "    print (y_train)\n",
    "    \n",
    "    x_test = test.loc[test.time>='2016-04-01'][[ 'vo', 'r', 'u_200', 'u_850', 'v_200','v_850', 'ttr','sst','shear']]\n",
    "    print (\"******test features******\")\n",
    "    print (x_test)\n",
    "    y_test = test.loc[test.time>='2016-04-01'][['Real_tom_target']]\n",
    "    print (\"******test target******\")\n",
    "    print (y_test)\n",
    "    \n",
    "    x_val = val[[ 'vo', 'r', 'u_200', 'u_850', 'v_200','v_850', 'ttr','sst','shear']]\n",
    "    print (\"******validation features******\")\n",
    "    print (x_val)\n",
    "    y_val = val[['Real_tom_target']]\n",
    "    print (\"******validation target******\")\n",
    "    print (y_val)\n",
    "    \n",
    "    print('Before Smote')\n",
    "\n",
    "    dff = y_train\n",
    "    M = y_train.to_numpy()\n",
    "    # summarize dataset\n",
    "    classes = unique(M)\n",
    "    print(classes)\n",
    "    total = len(M)\n",
    "    for c in classes:\n",
    "        n_examples = len(M[M==c])\n",
    "        percent = n_examples / total * 100\n",
    "        print('> Class=%d : %d/%d (%.1f%%)' % (c, n_examples, total, percent))\n",
    "    \n",
    "    \n",
    "    smt = SMOTE()\n",
    "    \n",
    "    X_train_sm, Y_train_sm = smt.fit_resample(x_train, y_train)\n",
    "    \n",
    "    print('After SMOTE')\n",
    "    dff = Y_train_sm\n",
    "    M = Y_train_sm.to_numpy()\n",
    "    # summarize dataset\n",
    "    classes = unique(M)\n",
    "    print(classes)\n",
    "    total = len(M)\n",
    "    for c in classes:\n",
    "        n_examples = len(M[M==c])\n",
    "        percent = n_examples / total * 100\n",
    "        print('> Class=%d : %d/%d (%.1f%%)' % (c, n_examples, total, percent))\n",
    "        \n",
    "    return X_train_sm, Y_train_sm, x_val, y_val, x_test, y_test\n"
   ]
  },
  {
   "cell_type": "code",
   "execution_count": 6,
   "id": "0e425d2a",
   "metadata": {
    "hidden": true
   },
   "outputs": [],
   "source": [
    "def standard(x_train,x_val,x_test):\n",
    "    X_train_stand = x_train #smote\n",
    "    X_valid_stand = x_val #smote\n",
    "    X_test_stand = x_test #smote\n",
    "\n",
    "\n",
    "\n",
    "    num_cols = [ 'vo', 'r', 'u_200', 'u_850', 'v_200','v_850', 'ttr','sst', 'shear']\n",
    "\n",
    "    # apply standardization on numerical features\n",
    "    for i in num_cols:\n",
    "\n",
    "        # fit on training data column\n",
    "        scale = StandardScaler().fit(X_train_stand[[i]])\n",
    "\n",
    "        # transform the training data column\n",
    "        X_train_stand[i] = scale.transform(X_train_stand[[i]])\n",
    "\n",
    "        # transform the training data column\n",
    "        X_valid_stand[i] = scale.transform(X_valid_stand[[i]])   \n",
    "\n",
    "        # transform the testing data column\n",
    "        X_test_stand[i] = scale.transform(X_test_stand[[i]])\n",
    "    \n",
    "    return X_train_stand,X_valid_stand,X_test_stand"
   ]
  },
  {
   "cell_type": "markdown",
   "id": "e87b7c04",
   "metadata": {
    "heading_collapsed": true
   },
   "source": [
    "# Load, standardization and SMOTE on data"
   ]
  },
  {
   "cell_type": "code",
   "execution_count": 7,
   "id": "749e5d81",
   "metadata": {
    "hidden": true
   },
   "outputs": [
    {
     "name": "stdout",
     "output_type": "stream",
     "text": [
      "   Unnamed: 0        time  latitude  longitude        vo          r     u_200  \\\n",
      "0           0  1980-01-01       0.0       20.0  0.000007  80.761185  1.909660   \n",
      "1           1  1980-01-01       0.0       22.5  0.000004  80.703650  1.165733   \n",
      "2           2  1980-01-01       0.0       25.0  0.000007  78.231514 -1.311676   \n",
      "3           3  1980-01-01       0.0       27.5  0.000010  79.631010 -3.777573   \n",
      "4           4  1980-01-01       0.0       30.0  0.000010  71.573875 -5.734505   \n",
      "\n",
      "      u_850     v_200     v_850        ttr  sst  lsm  Real_tom_lsm  \n",
      "0 -3.323872  1.687164 -1.823624 -247.54074  0.0  0.0           0.0  \n",
      "1 -2.844494  1.060593 -1.991425 -240.00592  0.0  0.0           0.0  \n",
      "2 -2.125244  3.280617 -1.931789 -223.76889  0.0  0.0           0.0  \n",
      "3 -1.122395  5.743889 -1.243538 -235.55556  0.0  0.0           0.0  \n",
      "4 -1.362953  6.514030 -0.954163 -254.03260  0.0  0.0           0.0  \n",
      "******training features******\n",
      "               vo          r      u_200     u_850      v_200     v_850  \\\n",
      "0        0.000007  80.761185   1.909660 -3.323872   1.687164 -1.823624   \n",
      "1        0.000004  80.703650   1.165733 -2.844494   1.060593 -1.991425   \n",
      "2        0.000007  78.231514  -1.311676 -2.125244   3.280617 -1.931789   \n",
      "3        0.000010  79.631010  -3.777573 -1.122395   5.743889 -1.243538   \n",
      "4        0.000010  71.573875  -5.734505 -1.362953   6.514030 -0.954163   \n",
      "...           ...        ...        ...       ...        ...       ...   \n",
      "4268766  0.000015  26.797535  25.075424 -3.653679  -1.221291  1.515594   \n",
      "4268767 -0.000006  27.766910  24.175919 -2.866638  -6.724304  0.861771   \n",
      "4268768  0.000010  29.111805  24.655510 -2.809170 -10.138817  0.051220   \n",
      "4268769  0.000006  27.833050  25.088104 -2.730087 -11.036507  0.666927   \n",
      "4268770  0.000007  15.843884  24.510345 -3.213837 -10.213325 -0.098499   \n",
      "\n",
      "               ttr        sst      shear  \n",
      "0       -247.54074    0.00000   6.302023  \n",
      "1       -240.00592    0.00000   5.039517  \n",
      "2       -223.76889    0.00000   5.275516  \n",
      "3       -235.55556    0.00000   7.474898  \n",
      "4       -254.03260    0.00000   8.653576  \n",
      "...            ...        ...        ...  \n",
      "4268766 -273.34204  296.89227  28.859174  \n",
      "4268767 -280.37018  296.03314  28.086446  \n",
      "4268768 -281.05167  295.36078  29.294120  \n",
      "4268769 -280.05610  295.10638  30.179830  \n",
      "4268770 -279.40427  294.44766  29.511692  \n",
      "\n",
      "[4268771 rows x 9 columns]\n",
      "******training target******\n",
      "         Real_tom_lsm\n",
      "0                 0.0\n",
      "1                 0.0\n",
      "2                 0.0\n",
      "3                 0.0\n",
      "4                 0.0\n",
      "...               ...\n",
      "4268766           0.0\n",
      "4268767           0.0\n",
      "4268768           0.0\n",
      "4268769           0.0\n",
      "4268770           0.0\n",
      "\n",
      "[4268771 rows x 1 columns]\n",
      "******test features******\n",
      "              vo          r      u_200     u_850      v_200     v_850  \\\n",
      "34307   0.000004  81.055560  -8.377182  5.273445   2.527817  2.160847   \n",
      "34308  -0.000002  76.221700  -6.143539  4.284462   4.278809  2.030232   \n",
      "34309   0.000018  75.465416  -1.724731  3.315552   3.811935  1.344738   \n",
      "34310  -0.000009  72.850200   1.577347  1.549385   4.243774  2.951813   \n",
      "34311  -0.000009  82.229460   1.983276  1.535709   5.736717  0.056183   \n",
      "...          ...        ...        ...       ...        ...       ...   \n",
      "539482  0.000006   2.637233  33.277840  5.379345  -0.286896  5.558327   \n",
      "539483 -0.000020  23.660923  34.272537  6.438683 -13.026535  2.857349   \n",
      "539484 -0.000019  46.051540  35.755882  7.248966 -18.870102 -3.349407   \n",
      "539485 -0.000014  55.855648  34.069664  6.349327 -18.801796 -8.172478   \n",
      "539486  0.000006  61.602300  29.167267  4.805676 -15.093590 -9.708778   \n",
      "\n",
      "               ttr        sst      shear  \n",
      "34307  -171.625750    0.00000  13.655559  \n",
      "34308  -145.830180    0.00000  10.667676  \n",
      "34309  -121.705734    0.00000   5.611730  \n",
      "34310  -123.376850    0.00000   1.292264  \n",
      "34311  -144.360550    0.00000   5.698139  \n",
      "...            ...        ...        ...  \n",
      "539482 -277.608700  294.14987  28.504257  \n",
      "539483 -270.805730  294.23798  32.047172  \n",
      "539484 -249.430920  294.26890  32.458223  \n",
      "539485 -239.368700  294.36630  29.688373  \n",
      "539486 -251.605740  293.74924  24.949616  \n",
      "\n",
      "[505180 rows x 9 columns]\n",
      "******test target******\n",
      "        Real_tom_lsm\n",
      "34307            0.0\n",
      "34308            0.0\n",
      "34309            0.0\n",
      "34310            0.0\n",
      "34311            0.0\n",
      "...              ...\n",
      "539482           0.0\n",
      "539483           0.0\n",
      "539484           0.0\n",
      "539485           0.0\n",
      "539486           0.0\n",
      "\n",
      "[505180 rows x 1 columns]\n",
      "******validation features******\n",
      "              vo          r      u_200     u_850     v_200     v_850  \\\n",
      "0       0.000003  73.016390  -5.760780 -4.216808  6.860649 -4.352928   \n",
      "1       0.000003  74.569660  -4.942451 -3.857407  6.459419 -3.991157   \n",
      "2       0.000004  80.080090  -3.848740 -3.175144  6.303680 -3.446140   \n",
      "3       0.000012  83.676704   0.330811 -2.526569  7.235268 -2.307594   \n",
      "4       0.000011  76.225440   3.678749 -1.027561  7.020271 -0.077572   \n",
      "...          ...        ...        ...       ...       ...       ...   \n",
      "688397  0.000014  70.662056  23.560066  1.655861  9.690376  3.621418   \n",
      "688398 -0.000006  51.213654  22.381706  0.321705  9.860390 -0.099480   \n",
      "688399  0.000009  46.678970  22.464828  0.851299  7.661758 -0.725330   \n",
      "688400  0.000002  59.362090  22.364807  0.543045  5.595253 -1.542034   \n",
      "688401  0.000014  65.915980  23.052147  0.048565  1.080147 -1.203087   \n",
      "\n",
      "              ttr        sst      shear  \n",
      "0      -212.59741    0.00000  11.319371  \n",
      "1      -198.23593    0.00000  10.506754  \n",
      "2      -195.83296    0.00000   9.773062  \n",
      "3      -191.47444    0.00000   9.961467  \n",
      "4      -191.98111    0.00000   8.516380  \n",
      "...           ...        ...        ...  \n",
      "688397 -271.57556  296.77530  22.729418  \n",
      "688398 -269.94592  296.44290  24.204187  \n",
      "688399 -270.18890  295.73486  23.183785  \n",
      "688400 -264.07333  295.24792  22.959315  \n",
      "688401 -259.79480  295.79680  23.116616  \n",
      "\n",
      "[688402 rows x 9 columns]\n",
      "******validation target******\n",
      "        Real_tom_lsm\n",
      "0                0.0\n",
      "1                0.0\n",
      "2                0.0\n",
      "3                0.0\n",
      "4                0.0\n",
      "...              ...\n",
      "688397           0.0\n",
      "688398           0.0\n",
      "688399           0.0\n",
      "688400           0.0\n",
      "688401           0.0\n",
      "\n",
      "[688402 rows x 1 columns]\n",
      "Before Smote\n",
      "[0. 1.]\n",
      "> Class=0 : 4260067/4268771 (99.8%)\n",
      "> Class=1 : 8704/4268771 (0.2%)\n",
      "After SMOTE\n",
      "[0. 1.]\n",
      "> Class=0 : 4260067/8520134 (50.0%)\n",
      "> Class=1 : 4260067/8520134 (50.0%)\n"
     ]
    }
   ],
   "source": [
    "x_train_old, y_train_old, x_val_old, y_val_old, x_test_old, y_test_old = dataLoad_old()\n"
   ]
  },
  {
   "cell_type": "code",
   "execution_count": 8,
   "id": "f1f72845",
   "metadata": {
    "hidden": true
   },
   "outputs": [],
   "source": [
    "x_train_old_st, x_val_old_st, x_test_old_st = standard(x_train_old, x_val_old, x_test_old)"
   ]
  },
  {
   "cell_type": "code",
   "execution_count": 9,
   "id": "83cfffab",
   "metadata": {
    "hidden": true
   },
   "outputs": [
    {
     "name": "stdout",
     "output_type": "stream",
     "text": [
      "   Unnamed: 0        time  latitude  longitude        vo          r     u_200  \\\n",
      "0           0  1980-01-01       0.0       20.0  0.000007  80.761185  1.909660   \n",
      "1           1  1980-01-01       0.0       22.5  0.000004  80.703650  1.165733   \n",
      "2           2  1980-01-01       0.0       25.0  0.000007  78.231514 -1.311676   \n",
      "3           3  1980-01-01       0.0       27.5  0.000010  79.631010 -3.777573   \n",
      "4           4  1980-01-01       0.0       30.0  0.000010  71.573875 -5.734505   \n",
      "\n",
      "      u_850     v_200     v_850        ttr  sst  lsm  Real_tom_lsm  \n",
      "0 -3.323872  1.687164 -1.823624 -247.54074  0.0  0.0           0.0  \n",
      "1 -2.844494  1.060593 -1.991425 -240.00592  0.0  0.0           0.0  \n",
      "2 -2.125244  3.280617 -1.931789 -223.76889  0.0  0.0           0.0  \n",
      "3 -1.122395  5.743889 -1.243538 -235.55556  0.0  0.0           0.0  \n",
      "4 -1.362953  6.514030 -0.954163 -254.03260  0.0  0.0           0.0  \n",
      "======== Done ========\n",
      "======== Done ========\n",
      "======== Done ========\n",
      "******training features******\n",
      "               vo          r      u_200     u_850      v_200     v_850  \\\n",
      "0        0.000007  80.761185   1.909660 -3.323872   1.687164 -1.823624   \n",
      "1        0.000004  80.703650   1.165733 -2.844494   1.060593 -1.991425   \n",
      "2        0.000007  78.231514  -1.311676 -2.125244   3.280617 -1.931789   \n",
      "3        0.000010  79.631010  -3.777573 -1.122395   5.743889 -1.243538   \n",
      "4        0.000010  71.573875  -5.734505 -1.362953   6.514030 -0.954163   \n",
      "...           ...        ...        ...       ...        ...       ...   \n",
      "4268766  0.000015  26.797535  25.075424 -3.653679  -1.221291  1.515594   \n",
      "4268767 -0.000006  27.766910  24.175919 -2.866638  -6.724304  0.861771   \n",
      "4268768  0.000010  29.111805  24.655510 -2.809170 -10.138817  0.051220   \n",
      "4268769  0.000006  27.833050  25.088104 -2.730087 -11.036507  0.666927   \n",
      "4268770  0.000007  15.843884  24.510345 -3.213837 -10.213325 -0.098499   \n",
      "\n",
      "               ttr        sst      shear  \n",
      "0       -247.54074    0.00000   6.302023  \n",
      "1       -240.00592    0.00000   5.039517  \n",
      "2       -223.76889    0.00000   5.275516  \n",
      "3       -235.55556    0.00000   7.474898  \n",
      "4       -254.03260    0.00000   8.653576  \n",
      "...            ...        ...        ...  \n",
      "4268766 -273.34204  296.89227  28.859174  \n",
      "4268767 -280.37018  296.03314  28.086446  \n",
      "4268768 -281.05167  295.36078  29.294120  \n",
      "4268769 -280.05610  295.10638  30.179830  \n",
      "4268770 -279.40427  294.44766  29.511692  \n",
      "\n",
      "[4268771 rows x 9 columns]\n",
      "******training target******\n",
      "         Real_tom_lsm48\n",
      "0                   0.0\n",
      "1                   0.0\n",
      "2                   0.0\n",
      "3                   0.0\n",
      "4                   0.0\n",
      "...                 ...\n",
      "4268766             0.0\n",
      "4268767             0.0\n",
      "4268768             0.0\n",
      "4268769             0.0\n",
      "4268770             0.0\n",
      "\n",
      "[4268771 rows x 1 columns]\n",
      "******test features******\n",
      "              vo          r      u_200     u_850      v_200     v_850  \\\n",
      "34307   0.000004  81.055560  -8.377182  5.273445   2.527817  2.160847   \n",
      "34308  -0.000002  76.221700  -6.143539  4.284462   4.278809  2.030232   \n",
      "34309   0.000018  75.465416  -1.724731  3.315552   3.811935  1.344738   \n",
      "34310  -0.000009  72.850200   1.577347  1.549385   4.243774  2.951813   \n",
      "34311  -0.000009  82.229460   1.983276  1.535709   5.736717  0.056183   \n",
      "...          ...        ...        ...       ...        ...       ...   \n",
      "539482  0.000006   2.637233  33.277840  5.379345  -0.286896  5.558327   \n",
      "539483 -0.000020  23.660923  34.272537  6.438683 -13.026535  2.857349   \n",
      "539484 -0.000019  46.051540  35.755882  7.248966 -18.870102 -3.349407   \n",
      "539485 -0.000014  55.855648  34.069664  6.349327 -18.801796 -8.172478   \n",
      "539486  0.000006  61.602300  29.167267  4.805676 -15.093590 -9.708778   \n",
      "\n",
      "               ttr        sst      shear  \n",
      "34307  -171.625750    0.00000  13.655559  \n",
      "34308  -145.830180    0.00000  10.667676  \n",
      "34309  -121.705734    0.00000   5.611730  \n",
      "34310  -123.376850    0.00000   1.292264  \n",
      "34311  -144.360550    0.00000   5.698139  \n",
      "...            ...        ...        ...  \n",
      "539482 -277.608700  294.14987  28.504257  \n",
      "539483 -270.805730  294.23798  32.047172  \n",
      "539484 -249.430920  294.26890  32.458223  \n",
      "539485 -239.368700  294.36630  29.688373  \n",
      "539486 -251.605740  293.74924  24.949616  \n",
      "\n",
      "[505180 rows x 9 columns]\n",
      "******test target******\n",
      "        Real_tom_lsm48\n",
      "34307              0.0\n",
      "34308              0.0\n",
      "34309              0.0\n",
      "34310              0.0\n",
      "34311              0.0\n",
      "...                ...\n",
      "539482             0.0\n",
      "539483             0.0\n",
      "539484             0.0\n",
      "539485             0.0\n",
      "539486             0.0\n",
      "\n",
      "[505180 rows x 1 columns]\n",
      "******validation features******\n",
      "              vo          r      u_200     u_850     v_200     v_850  \\\n",
      "0       0.000003  73.016390  -5.760780 -4.216808  6.860649 -4.352928   \n",
      "1       0.000003  74.569660  -4.942451 -3.857407  6.459419 -3.991157   \n",
      "2       0.000004  80.080090  -3.848740 -3.175144  6.303680 -3.446140   \n",
      "3       0.000012  83.676704   0.330811 -2.526569  7.235268 -2.307594   \n",
      "4       0.000011  76.225440   3.678749 -1.027561  7.020271 -0.077572   \n",
      "...          ...        ...        ...       ...       ...       ...   \n",
      "688397  0.000014  70.662056  23.560066  1.655861  9.690376  3.621418   \n",
      "688398 -0.000006  51.213654  22.381706  0.321705  9.860390 -0.099480   \n",
      "688399  0.000009  46.678970  22.464828  0.851299  7.661758 -0.725330   \n",
      "688400  0.000002  59.362090  22.364807  0.543045  5.595253 -1.542034   \n",
      "688401  0.000014  65.915980  23.052147  0.048565  1.080147 -1.203087   \n",
      "\n",
      "              ttr        sst      shear  \n",
      "0      -212.59741    0.00000  11.319371  \n",
      "1      -198.23593    0.00000  10.506754  \n",
      "2      -195.83296    0.00000   9.773062  \n",
      "3      -191.47444    0.00000   9.961467  \n",
      "4      -191.98111    0.00000   8.516380  \n",
      "...           ...        ...        ...  \n",
      "688397 -271.57556  296.77530  22.729418  \n",
      "688398 -269.94592  296.44290  24.204187  \n",
      "688399 -270.18890  295.73486  23.183785  \n",
      "688400 -264.07333  295.24792  22.959315  \n",
      "688401 -259.79480  295.79680  23.116616  \n",
      "\n",
      "[688402 rows x 9 columns]\n",
      "******validation target******\n",
      "        Real_tom_lsm48\n",
      "0                  0.0\n",
      "1                  0.0\n",
      "2                  0.0\n",
      "3                  0.0\n",
      "4                  0.0\n",
      "...                ...\n",
      "688397             0.0\n",
      "688398             0.0\n",
      "688399             0.0\n",
      "688400             0.0\n",
      "688401             0.0\n",
      "\n",
      "[688402 rows x 1 columns]\n",
      "Before Smote\n",
      "[0. 1.]\n",
      "> Class=0 : 4260067/4268771 (99.8%)\n",
      "> Class=1 : 8704/4268771 (0.2%)\n",
      "After SMOTE\n",
      "[0. 1.]\n",
      "> Class=0 : 4260067/8520134 (50.0%)\n",
      "> Class=1 : 4260067/8520134 (50.0%)\n"
     ]
    }
   ],
   "source": [
    "x_train_old48, y_train_old48, x_val_old48, y_val_old48, x_test_old48, y_test_old48 = dataLoad_old_48H()\n"
   ]
  },
  {
   "cell_type": "code",
   "execution_count": 10,
   "id": "63d9bbae",
   "metadata": {
    "hidden": true
   },
   "outputs": [],
   "source": [
    "x_train_old48_st, x_val_old48_st, x_test_old48_st = standard(x_train_old48, x_val_old48, x_test_old48)"
   ]
  },
  {
   "cell_type": "code",
   "execution_count": 11,
   "id": "1927defc",
   "metadata": {
    "hidden": true
   },
   "outputs": [
    {
     "name": "stdout",
     "output_type": "stream",
     "text": [
      "   Unnamed: 0        time  latitude  longitude        vo          r     u_200  \\\n",
      "0           0  1980-01-01       0.0       20.0  0.000007  80.761185  1.909660   \n",
      "1           1  1980-01-01       0.0       22.5  0.000004  80.703650  1.165733   \n",
      "2           2  1980-01-01       0.0       25.0  0.000007  78.231514 -1.311676   \n",
      "3           3  1980-01-01       0.0       27.5  0.000010  79.631010 -3.777573   \n",
      "4           4  1980-01-01       0.0       30.0  0.000010  71.573875 -5.734505   \n",
      "\n",
      "      u_850     v_200     v_850        ttr  sst  lsm  Real_tom_lsm  \n",
      "0 -3.323872  1.687164 -1.823624 -247.54074  0.0  0.0           0.0  \n",
      "1 -2.844494  1.060593 -1.991425 -240.00592  0.0  0.0           0.0  \n",
      "2 -2.125244  3.280617 -1.931789 -223.76889  0.0  0.0           0.0  \n",
      "3 -1.122395  5.743889 -1.243538 -235.55556  0.0  0.0           0.0  \n",
      "4 -1.362953  6.514030 -0.954163 -254.03260  0.0  0.0           0.0  \n",
      "======== Done ========\n",
      "======== Done ========\n",
      "======== Done ========\n",
      "******training features******\n",
      "               vo          r      u_200     u_850      v_200     v_850  \\\n",
      "0        0.000007  80.761185   1.909660 -3.323872   1.687164 -1.823624   \n",
      "1        0.000004  80.703650   1.165733 -2.844494   1.060593 -1.991425   \n",
      "2        0.000007  78.231514  -1.311676 -2.125244   3.280617 -1.931789   \n",
      "3        0.000010  79.631010  -3.777573 -1.122395   5.743889 -1.243538   \n",
      "4        0.000010  71.573875  -5.734505 -1.362953   6.514030 -0.954163   \n",
      "...           ...        ...        ...       ...        ...       ...   \n",
      "4268766  0.000015  26.797535  25.075424 -3.653679  -1.221291  1.515594   \n",
      "4268767 -0.000006  27.766910  24.175919 -2.866638  -6.724304  0.861771   \n",
      "4268768  0.000010  29.111805  24.655510 -2.809170 -10.138817  0.051220   \n",
      "4268769  0.000006  27.833050  25.088104 -2.730087 -11.036507  0.666927   \n",
      "4268770  0.000007  15.843884  24.510345 -3.213837 -10.213325 -0.098499   \n",
      "\n",
      "               ttr        sst      shear  \n",
      "0       -247.54074    0.00000   6.302023  \n",
      "1       -240.00592    0.00000   5.039517  \n",
      "2       -223.76889    0.00000   5.275516  \n",
      "3       -235.55556    0.00000   7.474898  \n",
      "4       -254.03260    0.00000   8.653576  \n",
      "...            ...        ...        ...  \n",
      "4268766 -273.34204  296.89227  28.859174  \n",
      "4268767 -280.37018  296.03314  28.086446  \n",
      "4268768 -281.05167  295.36078  29.294120  \n",
      "4268769 -280.05610  295.10638  30.179830  \n",
      "4268770 -279.40427  294.44766  29.511692  \n",
      "\n",
      "[4268771 rows x 9 columns]\n",
      "******training target******\n",
      "0          0\n",
      "1          0\n",
      "2          0\n",
      "3          0\n",
      "4          0\n",
      "          ..\n",
      "4268766    0\n",
      "4268767    0\n",
      "4268768    0\n",
      "4268769    0\n",
      "4268770    0\n",
      "Length: 4268771, dtype: int64\n",
      "******test features******\n",
      "              vo          r      u_200     u_850      v_200     v_850  \\\n",
      "34307   0.000004  81.055560  -8.377182  5.273445   2.527817  2.160847   \n",
      "34308  -0.000002  76.221700  -6.143539  4.284462   4.278809  2.030232   \n",
      "34309   0.000018  75.465416  -1.724731  3.315552   3.811935  1.344738   \n",
      "34310  -0.000009  72.850200   1.577347  1.549385   4.243774  2.951813   \n",
      "34311  -0.000009  82.229460   1.983276  1.535709   5.736717  0.056183   \n",
      "...          ...        ...        ...       ...        ...       ...   \n",
      "539482  0.000006   2.637233  33.277840  5.379345  -0.286896  5.558327   \n",
      "539483 -0.000020  23.660923  34.272537  6.438683 -13.026535  2.857349   \n",
      "539484 -0.000019  46.051540  35.755882  7.248966 -18.870102 -3.349407   \n",
      "539485 -0.000014  55.855648  34.069664  6.349327 -18.801796 -8.172478   \n",
      "539486  0.000006  61.602300  29.167267  4.805676 -15.093590 -9.708778   \n",
      "\n",
      "               ttr        sst      shear  \n",
      "34307  -171.625750    0.00000  13.655559  \n",
      "34308  -145.830180    0.00000  10.667676  \n",
      "34309  -121.705734    0.00000   5.611730  \n",
      "34310  -123.376850    0.00000   1.292264  \n",
      "34311  -144.360550    0.00000   5.698139  \n",
      "...            ...        ...        ...  \n",
      "539482 -277.608700  294.14987  28.504257  \n",
      "539483 -270.805730  294.23798  32.047172  \n",
      "539484 -249.430920  294.26890  32.458223  \n",
      "539485 -239.368700  294.36630  29.688373  \n",
      "539486 -251.605740  293.74924  24.949616  \n",
      "\n",
      "[505180 rows x 9 columns]\n",
      "******test target******\n",
      "34307     0\n",
      "34308     0\n",
      "34309     0\n",
      "34310     0\n",
      "34311     0\n",
      "         ..\n",
      "539482    0\n",
      "539483    0\n",
      "539484    0\n",
      "539485    0\n",
      "539486    0\n",
      "Length: 505180, dtype: int64\n",
      "******validation features******\n",
      "              vo          r      u_200     u_850     v_200     v_850  \\\n",
      "0       0.000003  73.016390  -5.760780 -4.216808  6.860649 -4.352928   \n",
      "1       0.000003  74.569660  -4.942451 -3.857407  6.459419 -3.991157   \n",
      "2       0.000004  80.080090  -3.848740 -3.175144  6.303680 -3.446140   \n",
      "3       0.000012  83.676704   0.330811 -2.526569  7.235268 -2.307594   \n",
      "4       0.000011  76.225440   3.678749 -1.027561  7.020271 -0.077572   \n",
      "...          ...        ...        ...       ...       ...       ...   \n",
      "688397  0.000014  70.662056  23.560066  1.655861  9.690376  3.621418   \n",
      "688398 -0.000006  51.213654  22.381706  0.321705  9.860390 -0.099480   \n",
      "688399  0.000009  46.678970  22.464828  0.851299  7.661758 -0.725330   \n",
      "688400  0.000002  59.362090  22.364807  0.543045  5.595253 -1.542034   \n",
      "688401  0.000014  65.915980  23.052147  0.048565  1.080147 -1.203087   \n",
      "\n",
      "              ttr        sst      shear  \n",
      "0      -212.59741    0.00000  11.319371  \n",
      "1      -198.23593    0.00000  10.506754  \n",
      "2      -195.83296    0.00000   9.773062  \n",
      "3      -191.47444    0.00000   9.961467  \n",
      "4      -191.98111    0.00000   8.516380  \n",
      "...           ...        ...        ...  \n",
      "688397 -271.57556  296.77530  22.729418  \n",
      "688398 -269.94592  296.44290  24.204187  \n",
      "688399 -270.18890  295.73486  23.183785  \n",
      "688400 -264.07333  295.24792  22.959315  \n",
      "688401 -259.79480  295.79680  23.116616  \n",
      "\n",
      "[688402 rows x 9 columns]\n",
      "******validation target******\n",
      "0         0\n",
      "1         0\n",
      "2         0\n",
      "3         0\n",
      "4         0\n",
      "         ..\n",
      "688397    0\n",
      "688398    0\n",
      "688399    0\n",
      "688400    0\n",
      "688401    0\n",
      "Length: 688402, dtype: int64\n",
      "Before Smote\n",
      "[0 1]\n",
      "> Class=0 : 4255361/4268771 (99.7%)\n",
      "> Class=1 : 13410/4268771 (0.3%)\n",
      "After SMOTE\n",
      "[0 1]\n",
      "> Class=0 : 4255361/8510722 (50.0%)\n",
      "> Class=1 : 4255361/8510722 (50.0%)\n"
     ]
    }
   ],
   "source": [
    "x_train_old24_48, y_train_old24_48, x_val_old24_48, y_val_old24_48, x_test_old24_48, y_test_old24_48 = dataLoad_old_24_48H()\n"
   ]
  },
  {
   "cell_type": "code",
   "execution_count": 12,
   "id": "9d999a4c",
   "metadata": {
    "hidden": true
   },
   "outputs": [],
   "source": [
    "x_train_old24_48_st, x_val_old24_48_st, x_test_old24_48_st = standard(x_train_old24_48, x_val_old24_48, x_test_old24_48)"
   ]
  },
  {
   "cell_type": "code",
   "execution_count": 13,
   "id": "9026870d",
   "metadata": {
    "hidden": true
   },
   "outputs": [
    {
     "name": "stdout",
     "output_type": "stream",
     "text": [
      "         time  latitude  longitude        vo          r     u_200     u_850  \\\n",
      "0  1980-01-01       0.0       20.0  0.000007  80.761185  1.909660 -3.323872   \n",
      "1  1980-01-01       0.0       22.5  0.000004  80.703650  1.165733 -2.844494   \n",
      "2  1980-01-01       0.0       25.0  0.000007  78.231514 -1.311676 -2.125244   \n",
      "3  1980-01-01       0.0       27.5  0.000010  79.631010 -3.777573 -1.122395   \n",
      "4  1980-01-01       0.0       30.0  0.000010  71.573875 -5.734505 -1.362953   \n",
      "\n",
      "      v_200     v_850        ttr  sst  lsm  newlsm  new_target  \\\n",
      "0  1.687164 -1.823624 -247.54074  0.0  0.0     0.0         0.0   \n",
      "1  1.060593 -1.991425 -240.00592  0.0  0.0     0.0         0.0   \n",
      "2  3.280617 -1.931789 -223.76889  0.0  0.0     0.0         0.0   \n",
      "3  5.743889 -1.243538 -235.55556  0.0  0.0     0.0         0.0   \n",
      "4  6.514030 -0.954163 -254.03260  0.0  0.0     0.0         0.0   \n",
      "\n",
      "   Real_tom_target     shear  \n",
      "0              0.0  6.302023  \n",
      "1              0.0  5.039517  \n",
      "2              0.0  5.275516  \n",
      "3              0.0  7.474898  \n",
      "4              0.0  8.653576  \n",
      "(4268771, 16)\n",
      "******training features******\n",
      "               vo          r      u_200     u_850      v_200     v_850  \\\n",
      "0        0.000007  80.761185   1.909660 -3.323872   1.687164 -1.823624   \n",
      "1        0.000004  80.703650   1.165733 -2.844494   1.060593 -1.991425   \n",
      "2        0.000007  78.231514  -1.311676 -2.125244   3.280617 -1.931789   \n",
      "3        0.000010  79.631010  -3.777573 -1.122395   5.743889 -1.243538   \n",
      "4        0.000010  71.573875  -5.734505 -1.362953   6.514030 -0.954163   \n",
      "...           ...        ...        ...       ...        ...       ...   \n",
      "4268766  0.000015  26.797535  25.075424 -3.653679  -1.221291  1.515594   \n",
      "4268767 -0.000006  27.766910  24.175919 -2.866638  -6.724304  0.861771   \n",
      "4268768  0.000010  29.111805  24.655510 -2.809170 -10.138817  0.051220   \n",
      "4268769  0.000006  27.833050  25.088104 -2.730087 -11.036507  0.666927   \n",
      "4268770  0.000007  15.843884  24.510345 -3.213837 -10.213325 -0.098499   \n",
      "\n",
      "               ttr        sst      shear  \n",
      "0       -247.54074    0.00000   6.302023  \n",
      "1       -240.00592    0.00000   5.039517  \n",
      "2       -223.76889    0.00000   5.275516  \n",
      "3       -235.55556    0.00000   7.474898  \n",
      "4       -254.03260    0.00000   8.653576  \n",
      "...            ...        ...        ...  \n",
      "4268766 -273.34204  296.89227  28.859174  \n",
      "4268767 -280.37018  296.03314  28.086446  \n",
      "4268768 -281.05167  295.36078  29.294120  \n",
      "4268769 -280.05610  295.10638  30.179830  \n",
      "4268770 -279.40427  294.44766  29.511692  \n",
      "\n",
      "[4268771 rows x 9 columns]\n",
      "******training target******\n",
      "         Real_tom_target\n",
      "0                    0.0\n",
      "1                    0.0\n",
      "2                    0.0\n",
      "3                    0.0\n",
      "4                    0.0\n",
      "...                  ...\n",
      "4268766              0.0\n",
      "4268767              0.0\n",
      "4268768              0.0\n",
      "4268769              0.0\n",
      "4268770              0.0\n",
      "\n",
      "[4268771 rows x 1 columns]\n",
      "******test features******\n",
      "              vo          r      u_200     u_850      v_200     v_850  \\\n",
      "34307   0.000004  81.055560  -8.377182  5.273445   2.527817  2.160847   \n",
      "34308  -0.000002  76.221700  -6.143539  4.284462   4.278809  2.030232   \n",
      "34309   0.000018  75.465416  -1.724731  3.315552   3.811935  1.344738   \n",
      "34310  -0.000009  72.850200   1.577347  1.549385   4.243774  2.951813   \n",
      "34311  -0.000009  82.229460   1.983276  1.535709   5.736717  0.056183   \n",
      "...          ...        ...        ...       ...        ...       ...   \n",
      "963984  0.000011  13.485237  13.612839 -5.971649   5.094070 -1.689285   \n",
      "963985  0.000014  12.116096  12.431198 -6.154266   8.201492  0.429855   \n",
      "963986  0.000025   8.479378  15.138229 -5.186493  12.883133  2.463058   \n",
      "963987  0.000005   8.858284  19.495651 -4.598602  18.322586  3.715012   \n",
      "963988  0.000003   7.129768  22.185104 -3.670868  25.125320  4.077316   \n",
      "\n",
      "               ttr        sst      shear  \n",
      "34307  -171.625750    0.00000  13.655559  \n",
      "34308  -145.830180    0.00000  10.667676  \n",
      "34309  -121.705734    0.00000   5.611730  \n",
      "34310  -123.376850    0.00000   1.292264  \n",
      "34311  -144.360550    0.00000   5.698139  \n",
      "...            ...        ...        ...  \n",
      "963984 -278.462220  295.33667  20.725976  \n",
      "963985 -267.250370  295.08472  20.144921  \n",
      "963986 -266.361480  294.75952  22.840146  \n",
      "963987 -263.540740  294.41772  28.176484  \n",
      "963988 -261.371860  294.01343  33.339912  \n",
      "\n",
      "[929682 rows x 9 columns]\n",
      "******test target******\n",
      "        Real_tom_target\n",
      "34307               0.0\n",
      "34308               0.0\n",
      "34309               0.0\n",
      "34310               0.0\n",
      "34311               0.0\n",
      "...                 ...\n",
      "963984              0.0\n",
      "963985              0.0\n",
      "963986              0.0\n",
      "963987              0.0\n",
      "963988              0.0\n",
      "\n",
      "[929682 rows x 1 columns]\n",
      "******validation features******\n",
      "              vo          r      u_200     u_850     v_200     v_850  \\\n",
      "0       0.000003  73.016390  -5.760780 -4.216808  6.860649 -4.352928   \n",
      "1       0.000003  74.569660  -4.942451 -3.857407  6.459419 -3.991157   \n",
      "2       0.000004  80.080090  -3.848740 -3.175144  6.303680 -3.446140   \n",
      "3       0.000012  83.676704   0.330811 -2.526569  7.235268 -2.307594   \n",
      "4       0.000011  76.225440   3.678749 -1.027561  7.020271 -0.077572   \n",
      "...          ...        ...        ...       ...       ...       ...   \n",
      "688397  0.000014  70.662056  23.560066  1.655861  9.690376  3.621418   \n",
      "688398 -0.000006  51.213654  22.381706  0.321705  9.860390 -0.099480   \n",
      "688399  0.000009  46.678970  22.464828  0.851299  7.661758 -0.725330   \n",
      "688400  0.000002  59.362090  22.364807  0.543045  5.595253 -1.542034   \n",
      "688401  0.000014  65.915980  23.052147  0.048565  1.080147 -1.203087   \n",
      "\n",
      "              ttr        sst      shear  \n",
      "0      -212.59741    0.00000  11.319371  \n",
      "1      -198.23593    0.00000  10.506754  \n",
      "2      -195.83296    0.00000   9.773062  \n",
      "3      -191.47444    0.00000   9.961467  \n",
      "4      -191.98111    0.00000   8.516380  \n",
      "...           ...        ...        ...  \n",
      "688397 -271.57556  296.77530  22.729418  \n",
      "688398 -269.94592  296.44290  24.204187  \n",
      "688399 -270.18890  295.73486  23.183785  \n",
      "688400 -264.07333  295.24792  22.959315  \n",
      "688401 -259.79480  295.79680  23.116616  \n",
      "\n",
      "[688402 rows x 9 columns]\n",
      "******validation target******\n",
      "        Real_tom_target\n",
      "0                   0.0\n",
      "1                   0.0\n",
      "2                   0.0\n",
      "3                   0.0\n",
      "4                   0.0\n",
      "...                 ...\n",
      "688397              0.0\n",
      "688398              0.0\n",
      "688399              0.0\n",
      "688400              0.0\n",
      "688401              0.0\n",
      "\n",
      "[688402 rows x 1 columns]\n",
      "Before Smote\n",
      "[0. 1.]\n",
      "> Class=0 : 4250969/4268771 (99.6%)\n",
      "> Class=1 : 17802/4268771 (0.4%)\n",
      "After SMOTE\n",
      "[0. 1.]\n",
      "> Class=0 : 4250969/8501938 (50.0%)\n",
      "> Class=1 : 4250969/8501938 (50.0%)\n"
     ]
    }
   ],
   "source": [
    "x_train_new, y_train_new, x_val_new, y_val_new, x_test_new, y_test_new = dataLoad()\n"
   ]
  },
  {
   "cell_type": "code",
   "execution_count": 14,
   "id": "d07a3f44",
   "metadata": {
    "hidden": true
   },
   "outputs": [],
   "source": [
    "x_train_new_st, x_val_new_st, x_test_new_st = standard(x_train_new, x_val_new, x_test_new)"
   ]
  },
  {
   "cell_type": "markdown",
   "id": "809aaec9",
   "metadata": {
    "heading_collapsed": true
   },
   "source": [
    "# FFNN\n",
    "\n",
    "> datasets with new targets = \n",
    "    x_train_new, y_train_new, x_val_new, y_val_new, x_test_new, y_test_new \n",
    ">>put _st means scaled datasets\n",
    "\n",
    "> datasets with the target 1 if 24 or 48h later will Occur a cyclone = \n",
    "    x_train_old24_48, y_train_old24_48, x_val_old24_48, y_val_old24_48, x_test_old24_48, y_test_old24_48\n",
    ">>put _st means scaled datasets\n",
    "\n",
    "> datasets with the target 1 if 24-48h later will Occur a cyclone = \n",
    "    x_train_old48, y_train_old48, x_val_old48, y_val_old48, x_test_old48, y_test_old48\n",
    ">>put _st means scaled datasets\n",
    "\n",
    "> datasets with the target 1 if 24h later will Occur a cyclone = \n",
    "    x_train_old, y_train_old, x_val_old, y_val_old, x_test_old, y_test_old = dataLoad_old()\n",
    ">>put _st means scaled datasets\n"
   ]
  },
  {
   "cell_type": "markdown",
   "id": "7542bb37",
   "metadata": {
    "heading_collapsed": true
   },
   "source": [
    "# FFNN, new data"
   ]
  },
  {
   "cell_type": "code",
   "execution_count": 94,
   "id": "781034fa",
   "metadata": {
    "hidden": true
   },
   "outputs": [
    {
     "name": "stdout",
     "output_type": "stream",
     "text": [
      "Model: \"sequential\"\n",
      "_________________________________________________________________\n",
      " Layer (type)                Output Shape              Param #   \n",
      "=================================================================\n",
      " dense (Dense)               (None, 512)               5120      \n",
      "                                                                 \n",
      " dropout (Dropout)           (None, 512)               0         \n",
      "                                                                 \n",
      " dense_1 (Dense)             (None, 1)                 513       \n",
      "                                                                 \n",
      "=================================================================\n",
      "Total params: 5,633\n",
      "Trainable params: 5,633\n",
      "Non-trainable params: 0\n",
      "_________________________________________________________________\n"
     ]
    },
    {
     "name": "stderr",
     "output_type": "stream",
     "text": [
      "2023-03-09 11:03:10.486405: I tensorflow/core/platform/cpu_feature_guard.cc:193] This TensorFlow binary is optimized with oneAPI Deep Neural Network Library (oneDNN) to use the following CPU instructions in performance-critical operations:  SSE4.1 SSE4.2\n",
      "To enable them in other operations, rebuild TensorFlow with the appropriate compiler flags.\n"
     ]
    }
   ],
   "source": [
    "\n",
    "model_std_relu_dropout = Sequential()\n",
    "model_std_relu_dropout.add(Dense(512, input_dim=9, activation='relu'))\n",
    "model_std_relu_dropout.add(Dropout(0.5))\n",
    "model_std_relu_dropout.add(Dense(1,activation='sigmoid')) # Output\n",
    "model_std_relu_dropout.compile(loss='binary_crossentropy', optimizer='adam')\n",
    "\n",
    "monitor = EarlyStopping(monitor='val_loss', min_delta=1e-3, patience=5, \n",
    "        verbose=1, mode='auto', restore_best_weights=True)\n",
    "\n",
    "model_std_relu_dropout.summary()"
   ]
  },
  {
   "cell_type": "code",
   "execution_count": 95,
   "id": "bc1e080d",
   "metadata": {
    "hidden": true
   },
   "outputs": [
    {
     "name": "stdout",
     "output_type": "stream",
     "text": [
      "Epoch 1/50\n",
      "265686/265686 [==============================] - 169s 632us/step - loss: 0.3311 - val_loss: 0.3103\n",
      "Epoch 2/50\n",
      "265686/265686 [==============================] - 168s 633us/step - loss: 0.3216 - val_loss: 0.3113\n",
      "Epoch 3/50\n",
      "265686/265686 [==============================] - 171s 643us/step - loss: 0.3170 - val_loss: 0.3031\n",
      "Epoch 4/50\n",
      "265686/265686 [==============================] - 182s 684us/step - loss: 0.3138 - val_loss: 0.3169\n",
      "Epoch 5/50\n",
      "265686/265686 [==============================] - 179s 675us/step - loss: 0.3108 - val_loss: 0.2939\n",
      "Epoch 6/50\n",
      "265686/265686 [==============================] - 175s 660us/step - loss: 0.3087 - val_loss: 0.2777\n",
      "Epoch 7/50\n",
      "265686/265686 [==============================] - 177s 666us/step - loss: 0.3067 - val_loss: 0.2895\n",
      "Epoch 8/50\n",
      "265686/265686 [==============================] - 176s 663us/step - loss: 0.3048 - val_loss: 0.2753\n",
      "Epoch 9/50\n",
      "265686/265686 [==============================] - 172s 647us/step - loss: 0.3036 - val_loss: 0.3043\n",
      "Epoch 10/50\n",
      "265686/265686 [==============================] - 175s 659us/step - loss: 0.3022 - val_loss: 0.2697\n",
      "Epoch 11/50\n",
      "265686/265686 [==============================] - 180s 678us/step - loss: 0.3010 - val_loss: 0.3150\n",
      "Epoch 12/50\n",
      "265686/265686 [==============================] - 169s 637us/step - loss: 0.2999 - val_loss: 0.3153\n",
      "Epoch 13/50\n",
      "265686/265686 [==============================] - 168s 631us/step - loss: 0.2986 - val_loss: 0.2998\n",
      "Epoch 14/50\n",
      "265686/265686 [==============================] - 167s 630us/step - loss: 0.2978 - val_loss: 0.2814\n",
      "Epoch 15/50\n",
      "265640/265686 [============================>.] - ETA: 0s - loss: 0.2970Restoring model weights from the end of the best epoch: 10.\n",
      "265686/265686 [==============================] - 169s 635us/step - loss: 0.2970 - val_loss: 0.2713\n",
      "Epoch 15: early stopping\n"
     ]
    },
    {
     "data": {
      "text/plain": [
       "<keras.callbacks.History at 0x7fe0e368c550>"
      ]
     },
     "execution_count": 95,
     "metadata": {},
     "output_type": "execute_result"
    }
   ],
   "source": [
    "model_std_relu_dropout.fit(x_train_new_st,y_train_new,validation_data=(x_val_new_st,y_val_new),\n",
    "        callbacks=[monitor],epochs=50)"
   ]
  },
  {
   "cell_type": "code",
   "execution_count": 106,
   "id": "57a125b6",
   "metadata": {
    "hidden": true
   },
   "outputs": [
    {
     "name": "stdout",
     "output_type": "stream",
     "text": [
      "265686/265686 [==============================] - 93s 350us/step\n",
      "29053/29053 [==============================] - 10s 346us/step\n",
      "\n",
      "-------------------- Model Summary --------------------\n",
      "Model: \"sequential\"\n",
      "_________________________________________________________________\n",
      " Layer (type)                Output Shape              Param #   \n",
      "=================================================================\n",
      " dense (Dense)               (None, 512)               5120      \n",
      "                                                                 \n",
      " dropout (Dropout)           (None, 512)               0         \n",
      "                                                                 \n",
      " dense_1 (Dense)             (None, 1)                 513       \n",
      "                                                                 \n",
      "=================================================================\n",
      "Total params: 5,633\n",
      "Trainable params: 5,633\n",
      "Non-trainable params: 0\n",
      "_________________________________________________________________\n",
      "\n",
      "-------------------- Weights and Biases --------------------\n",
      "Layer:  dense\n",
      "Layer:  dropout\n",
      "Layer:  dense_1\n",
      "\n",
      "---------- Evaluation on Training Data ----------\n",
      "              precision    recall  f1-score   support\n",
      "\n",
      "         0.0       0.88      0.88      0.88   4250969\n",
      "         1.0       0.88      0.88      0.88   4250969\n",
      "\n",
      "    accuracy                           0.88   8501938\n",
      "   macro avg       0.88      0.88      0.88   8501938\n",
      "weighted avg       0.88      0.88      0.88   8501938\n",
      "\n",
      "\n",
      "---------- Evaluation on Test Data ----------\n",
      "              precision    recall  f1-score   support\n",
      "\n",
      "         0.0       1.00      0.88      0.94    926404\n",
      "         1.0       0.02      0.76      0.04      3278\n",
      "\n",
      "    accuracy                           0.88    929682\n",
      "   macro avg       0.51      0.82      0.49    929682\n",
      "weighted avg       1.00      0.88      0.93    929682\n",
      "\n",
      "\n",
      "---------- ROC Curve----------\n"
     ]
    },
    {
     "data": {
      "text/plain": [
       "<matplotlib.legend.Legend at 0x7fe0164877c0>"
      ]
     },
     "execution_count": 106,
     "metadata": {},
     "output_type": "execute_result"
    },
    {
     "data": {
      "image/png": "[encoded data removed]",
      "text/plain": [
       "<Figure size 640x480 with 1 Axes>"
      ]
     },
     "metadata": {},
     "output_type": "display_data"
    },
    {
     "data": {
      "image/png": "[encoded data removed]",
      "text/plain": [
       "<Figure size 640x480 with 1 Axes>"
      ]
     },
     "metadata": {},
     "output_type": "display_data"
    },
    {
     "data": {
      "image/png": "[encoded data removed]",
      "text/plain": [
       "<Figure size 640x480 with 1 Axes>"
      ]
     },
     "metadata": {},
     "output_type": "display_data"
    }
   ],
   "source": [
    "##### Step 6 - Use model to make predictions\n",
    "modelz = model_std_relu_dropout\n",
    "x_training = x_train_new_st\n",
    "y_training = y_train_new\n",
    "x_test = x_test_new\n",
    "y_test = y_test_new\n",
    "\n",
    "# Predict class labels on training data\n",
    "pred_labels_tr = (modelz.predict(x_training)> 0.5).astype(int)\n",
    "# Predict class labels on a test data\n",
    "pred_labels_te = (modelz.predict(x_test)> 0.5).astype(int)\n",
    "#> 0.01).astype(int)\n",
    "\n",
    "\n",
    "##### Step 7 - Model Performance Summary\n",
    "print(\"\")\n",
    "print('-------------------- Model Summary --------------------')\n",
    "modelz.summary() # print model summary\n",
    "print(\"\")\n",
    "print('-------------------- Weights and Biases --------------------')\n",
    "for layer in modelz.layers:\n",
    "    print(\"Layer: \", layer.name) # print layer name\n",
    "    \n",
    "print(\"\")\n",
    "print('---------- Evaluation on Training Data ----------')\n",
    "print(classification_report(y_training, pred_labels_tr))\n",
    "print(\"\")\n",
    "\n",
    "print('---------- Evaluation on Test Data ----------')\n",
    "print(classification_report(y_test, pred_labels_te))\n",
    "print(\"\")\n",
    "\n",
    "from sklearn.metrics import confusion_matrix\n",
    "import matplotlib.pyplot as plt\n",
    "\n",
    "from sklearn.metrics import ConfusionMatrixDisplay\n",
    "ConfusionMatrixDisplay(confusion_matrix(y_test, pred_labels_te)).plot(colorbar=False,cmap=plt.cm.Blues)\n",
    "ConfusionMatrixDisplay(confusion_matrix(y_test, pred_labels_te,normalize='true')).plot(colorbar=False,cmap=plt.cm.Blues)\n",
    "\n",
    "print('---------- ROC Curve----------')\n",
    "\n",
    "plt.figure(0).clf()\n",
    "\n",
    "\n",
    "fpr, tpr, _ = metrics.roc_curve(y_test, pred_labels_te)\n",
    "auc = round(metrics.roc_auc_score(y_test, pred_labels_te), 4)\n",
    "plt.plot(fpr,tpr,label=\"Complex_model_newdata, AUC=\"+str(auc))\n",
    "\n",
    "\n",
    "\n",
    "\n",
    "\n",
    "#add legend\n",
    "plt.legend()"
   ]
  },
  {
   "cell_type": "code",
   "execution_count": 102,
   "id": "4c596ce6",
   "metadata": {
    "hidden": true
   },
   "outputs": [],
   "source": [
    "\n",
    "model_std_relu_dropout.save(os.path.join(\"data/model_1l_512n_relu_dropout_std_newData.h5\"))"
   ]
  },
  {
   "cell_type": "markdown",
   "id": "514ae4c9",
   "metadata": {
    "heading_collapsed": true
   },
   "source": [
    "# Different Model, new data"
   ]
  },
  {
   "cell_type": "code",
   "execution_count": 103,
   "id": "46d79b34",
   "metadata": {
    "hidden": true
   },
   "outputs": [
    {
     "name": "stdout",
     "output_type": "stream",
     "text": [
      "Model: \"sequential_1\"\n",
      "_________________________________________________________________\n",
      " Layer (type)                Output Shape              Param #   \n",
      "=================================================================\n",
      " dense_2 (Dense)             (None, 9)                 90        \n",
      "                                                                 \n",
      " dropout_1 (Dropout)         (None, 9)                 0         \n",
      "                                                                 \n",
      " dense_3 (Dense)             (None, 16)                160       \n",
      "                                                                 \n",
      " dense_4 (Dense)             (None, 32)                544       \n",
      "                                                                 \n",
      " dense_5 (Dense)             (None, 64)                2112      \n",
      "                                                                 \n",
      " dense_6 (Dense)             (None, 128)               8320      \n",
      "                                                                 \n",
      " dense_7 (Dense)             (None, 1)                 129       \n",
      "                                                                 \n",
      "=================================================================\n",
      "Total params: 11,355\n",
      "Trainable params: 11,355\n",
      "Non-trainable params: 0\n",
      "_________________________________________________________________\n"
     ]
    }
   ],
   "source": [
    "### as an example, try different ones\n",
    "model2 = Sequential()\n",
    "model2.add(Dense(9, input_dim=9, activation='relu'))\n",
    "model2.add(Dropout(0.5))\n",
    "model2.add(Dense(16, activation='relu'))\n",
    "model2.add(Dense(32, activation='relu'))\n",
    "model2.add(Dense(64, activation='relu'))\n",
    "model2.add(Dense(128, activation='relu'))\n",
    "model2.add(Dense(1,activation='sigmoid')) # Output\n",
    "model2.compile(loss='binary_crossentropy', optimizer='adam')\n",
    "\n",
    "monitor = EarlyStopping(monitor='val_loss', min_delta=1e-3, patience=5, \n",
    "        verbose=1, mode='auto', restore_best_weights=True)\n",
    "\n",
    "model2.summary()"
   ]
  },
  {
   "cell_type": "code",
   "execution_count": 104,
   "id": "5e892470",
   "metadata": {
    "hidden": true
   },
   "outputs": [
    {
     "name": "stdout",
     "output_type": "stream",
     "text": [
      "Epoch 1/50\n",
      "265686/265686 [==============================] - 201s 754us/step - loss: 0.4240 - val_loss: 0.4504\n",
      "Epoch 2/50\n",
      "265686/265686 [==============================] - 197s 740us/step - loss: 0.4106 - val_loss: 0.4244\n",
      "Epoch 3/50\n",
      "265686/265686 [==============================] - 198s 743us/step - loss: 0.4052 - val_loss: 0.2293\n",
      "Epoch 4/50\n",
      "265686/265686 [==============================] - 191s 718us/step - loss: 0.4030 - val_loss: 0.2284\n",
      "Epoch 5/50\n",
      "265686/265686 [==============================] - 192s 723us/step - loss: 0.4016 - val_loss: 0.3040\n",
      "Epoch 6/50\n",
      "265686/265686 [==============================] - 191s 718us/step - loss: 0.4006 - val_loss: 0.1937\n",
      "Epoch 7/50\n",
      "265686/265686 [==============================] - 190s 714us/step - loss: 0.4000 - val_loss: 0.0910\n",
      "Epoch 8/50\n",
      "265686/265686 [==============================] - 190s 714us/step - loss: 0.3991 - val_loss: 0.1970\n",
      "Epoch 9/50\n",
      "265686/265686 [==============================] - 191s 719us/step - loss: 0.3994 - val_loss: 0.2226\n",
      "Epoch 10/50\n",
      "265686/265686 [==============================] - 190s 715us/step - loss: 0.3995 - val_loss: 0.1789\n",
      "Epoch 11/50\n",
      "265686/265686 [==============================] - 191s 721us/step - loss: 0.4001 - val_loss: 0.2233\n",
      "Epoch 12/50\n",
      "265631/265686 [============================>.] - ETA: 0s - loss: 0.4004Restoring model weights from the end of the best epoch: 7.\n",
      "265686/265686 [==============================] - 190s 713us/step - loss: 0.4004 - val_loss: 0.1691\n",
      "Epoch 12: early stopping\n"
     ]
    },
    {
     "data": {
      "text/plain": [
       "<keras.callbacks.History at 0x7fe0b8464e20>"
      ]
     },
     "execution_count": 104,
     "metadata": {},
     "output_type": "execute_result"
    }
   ],
   "source": [
    "model2.fit(x_train_new_st,y_train_new,validation_data=(x_val_new_st,y_val_new),\n",
    "        callbacks=[monitor],epochs=50)"
   ]
  },
  {
   "cell_type": "code",
   "execution_count": 110,
   "id": "612b2ba4",
   "metadata": {
    "hidden": true
   },
   "outputs": [
    {
     "name": "stdout",
     "output_type": "stream",
     "text": [
      "265686/265686 [==============================] - 104s 392us/step\n",
      "29053/29053 [==============================] - 11s 392us/step\n",
      "\n",
      "-------------------- Model Summary --------------------\n",
      "Model: \"sequential_1\"\n",
      "_________________________________________________________________\n",
      " Layer (type)                Output Shape              Param #   \n",
      "=================================================================\n",
      " dense_2 (Dense)             (None, 9)                 90        \n",
      "                                                                 \n",
      " dropout_1 (Dropout)         (None, 9)                 0         \n",
      "                                                                 \n",
      " dense_3 (Dense)             (None, 16)                160       \n",
      "                                                                 \n",
      " dense_4 (Dense)             (None, 32)                544       \n",
      "                                                                 \n",
      " dense_5 (Dense)             (None, 64)                2112      \n",
      "                                                                 \n",
      " dense_6 (Dense)             (None, 128)               8320      \n",
      "                                                                 \n",
      " dense_7 (Dense)             (None, 1)                 129       \n",
      "                                                                 \n",
      "=================================================================\n",
      "Total params: 11,355\n",
      "Trainable params: 11,355\n",
      "Non-trainable params: 0\n",
      "_________________________________________________________________\n",
      "\n",
      "-------------------- Weights and Biases --------------------\n",
      "Layer:  dense_2\n",
      "Layer:  dropout_1\n",
      "Layer:  dense_3\n",
      "Layer:  dense_4\n",
      "Layer:  dense_5\n",
      "Layer:  dense_6\n",
      "Layer:  dense_7\n",
      "\n",
      "---------- Evaluation on Training Data ----------\n",
      "              precision    recall  f1-score   support\n",
      "\n",
      "         0.0       0.52      1.00      0.68   4250969\n",
      "         1.0       0.95      0.09      0.16   4250969\n",
      "\n",
      "    accuracy                           0.54   8501938\n",
      "   macro avg       0.74      0.54      0.42   8501938\n",
      "weighted avg       0.74      0.54      0.42   8501938\n",
      "\n",
      "\n",
      "---------- Evaluation on Test Data ----------\n",
      "              precision    recall  f1-score   support\n",
      "\n",
      "         0.0       1.00      0.99      1.00    926404\n",
      "         1.0       0.06      0.11      0.07      3278\n",
      "\n",
      "    accuracy                           0.99    929682\n",
      "   macro avg       0.53      0.55      0.53    929682\n",
      "weighted avg       0.99      0.99      0.99    929682\n",
      "\n",
      "\n",
      "---------- ROC Curve----------\n"
     ]
    },
    {
     "data": {
      "image/png": "[encoded data removed]",
      "text/plain": [
       "<Figure size 640x480 with 1 Axes>"
      ]
     },
     "metadata": {},
     "output_type": "display_data"
    },
    {
     "data": {
      "image/png": "[encoded data removed]",
      "text/plain": [
       "<Figure size 640x480 with 1 Axes>"
      ]
     },
     "metadata": {},
     "output_type": "display_data"
    },
    {
     "data": {
      "image/png": "[encoded data removed]",
      "text/plain": [
       "<Figure size 640x480 with 1 Axes>"
      ]
     },
     "metadata": {},
     "output_type": "display_data"
    }
   ],
   "source": [
    "##### Step 6 - Use model to make predictions\n",
    "modelz = model2\n",
    "x_training = x_train_new_st\n",
    "y_training = y_train_new\n",
    "x_test = x_test_new_st\n",
    "y_test = y_test_new\n",
    "\n",
    "# Predict class labels on training data\n",
    "pred_labels_tr = (modelz.predict(x_training)> 0.5).astype(int)\n",
    "# Predict class labels on a test data\n",
    "pred_labels_te = (modelz.predict(x_test)> 0.5).astype(int)\n",
    "#> 0.01).astype(int)\n",
    "\n",
    "\n",
    "##### Step 7 - Model Performance Summary\n",
    "print(\"\")\n",
    "print('-------------------- Model Summary --------------------')\n",
    "modelz.summary() # print model summary\n",
    "print(\"\")\n",
    "print('-------------------- Weights and Biases --------------------')\n",
    "for layer in modelz.layers:\n",
    "    print(\"Layer: \", layer.name) # print layer name\n",
    "    \n",
    "print(\"\")\n",
    "print('---------- Evaluation on Training Data ----------')\n",
    "print(classification_report(y_training, pred_labels_tr))\n",
    "print(\"\")\n",
    "\n",
    "print('---------- Evaluation on Test Data ----------')\n",
    "print(classification_report(y_test, pred_labels_te))\n",
    "print(\"\")\n",
    "\n",
    "from sklearn.metrics import confusion_matrix\n",
    "import matplotlib.pyplot as plt\n",
    "\n",
    "from sklearn.metrics import ConfusionMatrixDisplay\n",
    "ConfusionMatrixDisplay(confusion_matrix(y_test, pred_labels_te)).plot(colorbar=False,cmap=plt.cm.Blues)\n",
    "ConfusionMatrixDisplay(confusion_matrix(y_test, pred_labels_te,normalize='true')).plot(colorbar=False,cmap=plt.cm.Blues)\n",
    "\n",
    "print('---------- ROC Curve----------')\n",
    "\n",
    "plt.figure(0).clf()\n",
    "\n",
    "\n",
    "fpr, tpr, _ = metrics.roc_curve(y_test, pred_labels_te)\n",
    "auc = round(metrics.roc_auc_score(y_test, pred_labels_te), 4)\n",
    "plt.plot(fpr,tpr,label=\"Complex_model_newdata, AUC=\"+str(auc))\n",
    "\n",
    "\n",
    "\n",
    "\n",
    "\n",
    "#add legend\n",
    "plt.legend()\n",
    "\n",
    "\n",
    "modelz.save(os.path.join(\"data/complex_model_std_newData.h5\"))"
   ]
  },
  {
   "cell_type": "markdown",
   "id": "a421bc1d",
   "metadata": {
    "heading_collapsed": true
   },
   "source": [
    "# complex model 4l 256n, new target"
   ]
  },
  {
   "cell_type": "code",
   "execution_count": 125,
   "id": "5e276fb3",
   "metadata": {
    "hidden": true
   },
   "outputs": [
    {
     "name": "stdout",
     "output_type": "stream",
     "text": [
      "Epoch 1/25\n",
      "265686/265686 [==============================] - 423s 2ms/step - loss: 0.2724 - accuracy: 0.8798 - val_loss: 0.2668 - val_accuracy: 0.8708\n",
      "Epoch 2/25\n",
      "265686/265686 [==============================] - 429s 2ms/step - loss: 0.2410 - accuracy: 0.8975 - val_loss: 0.2436 - val_accuracy: 0.8841\n",
      "Epoch 3/25\n",
      "265686/265686 [==============================] - 438s 2ms/step - loss: 0.2310 - accuracy: 0.9032 - val_loss: 0.2381 - val_accuracy: 0.8822\n",
      "Epoch 4/25\n",
      "265686/265686 [==============================] - 437s 2ms/step - loss: 0.2257 - accuracy: 0.9062 - val_loss: 0.2431 - val_accuracy: 0.8840\n",
      "Epoch 5/25\n",
      "265686/265686 [==============================] - 421s 2ms/step - loss: 0.2230 - accuracy: 0.9075 - val_loss: 0.2665 - val_accuracy: 0.8736\n",
      "Epoch 6/25\n",
      "265686/265686 [==============================] - 419s 2ms/step - loss: 0.2200 - accuracy: 0.9092 - val_loss: 0.2403 - val_accuracy: 0.8847\n",
      "Epoch 7/25\n",
      "265686/265686 [==============================] - 417s 2ms/step - loss: 0.2179 - accuracy: 0.9105 - val_loss: 0.2586 - val_accuracy: 0.8782\n",
      "Epoch 8/25\n",
      "265686/265686 [==============================] - 411s 2ms/step - loss: 0.2176 - accuracy: 0.9106 - val_loss: 0.2537 - val_accuracy: 0.8808\n",
      "Epoch 9/25\n",
      "265686/265686 [==============================] - 411s 2ms/step - loss: 0.2159 - accuracy: 0.9116 - val_loss: 0.2891 - val_accuracy: 0.8665\n",
      "Epoch 10/25\n",
      "265686/265686 [==============================] - 410s 2ms/step - loss: 0.2149 - accuracy: 0.9122 - val_loss: 0.2389 - val_accuracy: 0.8860\n",
      "Epoch 11/25\n",
      "265686/265686 [==============================] - 410s 2ms/step - loss: 0.2148 - accuracy: 0.9123 - val_loss: 0.2558 - val_accuracy: 0.8797\n",
      "Epoch 12/25\n",
      "265686/265686 [==============================] - 411s 2ms/step - loss: 0.2140 - accuracy: 0.9127 - val_loss: 0.2658 - val_accuracy: 0.8750\n",
      "Epoch 13/25\n",
      "265686/265686 [==============================] - 410s 2ms/step - loss: 0.2132 - accuracy: 0.9131 - val_loss: 0.2528 - val_accuracy: 0.8826\n",
      "Epoch 14/25\n",
      "265686/265686 [==============================] - 411s 2ms/step - loss: 0.2127 - accuracy: 0.9133 - val_loss: 0.2625 - val_accuracy: 0.8796\n",
      "Epoch 15/25\n",
      "265686/265686 [==============================] - 411s 2ms/step - loss: 0.2125 - accuracy: 0.9134 - val_loss: 0.2597 - val_accuracy: 0.8785\n",
      "Epoch 16/25\n",
      "265686/265686 [==============================] - 424s 2ms/step - loss: 0.2122 - accuracy: 0.9137 - val_loss: 0.2516 - val_accuracy: 0.8799\n",
      "Epoch 17/25\n",
      "265686/265686 [==============================] - 413s 2ms/step - loss: 0.2130 - accuracy: 0.9132 - val_loss: 0.2271 - val_accuracy: 0.8919\n",
      "Epoch 18/25\n",
      "265686/265686 [==============================] - 413s 2ms/step - loss: 0.2137 - accuracy: 0.9129 - val_loss: 0.2333 - val_accuracy: 0.8890\n",
      "Epoch 19/25\n",
      "265686/265686 [==============================] - 411s 2ms/step - loss: 0.2124 - accuracy: 0.9134 - val_loss: 0.2683 - val_accuracy: 0.8723\n",
      "Epoch 20/25\n",
      "265686/265686 [==============================] - 411s 2ms/step - loss: 0.2139 - accuracy: 0.9128 - val_loss: 0.2585 - val_accuracy: 0.8820\n",
      "Epoch 21/25\n",
      "265686/265686 [==============================] - 410s 2ms/step - loss: 0.2129 - accuracy: 0.9134 - val_loss: 0.2490 - val_accuracy: 0.8846\n",
      "Epoch 22/25\n",
      "265686/265686 [==============================] - 410s 2ms/step - loss: 0.2128 - accuracy: 0.9133 - val_loss: 0.2680 - val_accuracy: 0.8777\n",
      "Epoch 23/25\n",
      "265686/265686 [==============================] - 410s 2ms/step - loss: 0.2131 - accuracy: 0.9131 - val_loss: 0.2575 - val_accuracy: 0.8799\n",
      "Epoch 24/25\n",
      "265686/265686 [==============================] - 410s 2ms/step - loss: 0.2129 - accuracy: 0.9133 - val_loss: 0.2435 - val_accuracy: 0.8892\n",
      "Epoch 25/25\n",
      "265686/265686 [==============================] - 411s 2ms/step - loss: 0.2135 - accuracy: 0.9131 - val_loss: 0.2503 - val_accuracy: 0.8842\n"
     ]
    }
   ],
   "source": [
    "##### Step 5 - Specify the structure of a Neural Network\n",
    "model_FFNN_256n_4n_newtarget = tf.keras.models.Sequential([\n",
    "    tf.keras.layers.Flatten(input_shape=(9,)),\n",
    "    tf.keras.layers.Dense(256, activation='tanh', name='Hidden-Layer1'),\n",
    "    tf.keras.layers.Dense(256, activation='tanh', name='Hidden-Layer2'),\n",
    "    tf.keras.layers.Dense(256, activation='tanh', name='Hidden-Layer3'),\n",
    "    tf.keras.layers.Dense(256, activation='tanh', name='Hidden-Layer4'),\n",
    "\n",
    "    tf.keras.layers.Dropout(0.2),\n",
    "    tf.keras.layers.Dense(1, activation='sigmoid', name='Output-Layer')\n",
    "])\n",
    "model_FFNN_256n_4n_newtarget.compile(optimizer='adam',\n",
    "    loss='binary_crossentropy',\n",
    "    metrics=['accuracy'])\n",
    "\n",
    "#checkPoint\n",
    "checkpoint_filepath = '/tmp/checkpoint'\n",
    "model_checkpoint_callback = tf.keras.callbacks.ModelCheckpoint(\n",
    "    filepath=checkpoint_filepath,\n",
    "    save_weights_only=True,\n",
    "    monitor='val_accuracy',\n",
    "    mode='max',\n",
    "    save_best_only=True)\n",
    "\n",
    "\n",
    "h_model_FFNN_256n_4n_newtarget = model_FFNN_256n_4n_newtarget.fit(x_train_new_st,y_train_new, epochs = 25, callbacks=[model_checkpoint_callback],  validation_data=(x_val_new_st,y_val_new))#*********more epochs = 5\n"
   ]
  },
  {
   "cell_type": "code",
   "execution_count": 126,
   "id": "cacbd37a",
   "metadata": {
    "hidden": true
   },
   "outputs": [],
   "source": [
    "model_FFNN_256n_4n_newtarget.save(os.path.join(\"data/complex4l256n_model_std_new.h5\"))\n"
   ]
  },
  {
   "cell_type": "code",
   "execution_count": 127,
   "id": "30450711",
   "metadata": {
    "hidden": true
   },
   "outputs": [
    {
     "name": "stdout",
     "output_type": "stream",
     "text": [
      "265686/265686 [==============================] - 170s 640us/step\n",
      "29053/29053 [==============================] - 19s 637us/step\n",
      "\n",
      "-------------------- Model Summary --------------------\n",
      "Model: \"sequential_8\"\n",
      "_________________________________________________________________\n",
      " Layer (type)                Output Shape              Param #   \n",
      "=================================================================\n",
      " flatten_1 (Flatten)         (None, 9)                 0         \n",
      "                                                                 \n",
      " Hidden-Layer1 (Dense)       (None, 256)               2560      \n",
      "                                                                 \n",
      " Hidden-Layer2 (Dense)       (None, 256)               65792     \n",
      "                                                                 \n",
      " Hidden-Layer3 (Dense)       (None, 256)               65792     \n",
      "                                                                 \n",
      " Hidden-Layer4 (Dense)       (None, 256)               65792     \n",
      "                                                                 \n",
      " dropout_8 (Dropout)         (None, 256)               0         \n",
      "                                                                 \n",
      " Output-Layer (Dense)        (None, 1)                 257       \n",
      "                                                                 \n",
      "=================================================================\n",
      "Total params: 200,193\n",
      "Trainable params: 200,193\n",
      "Non-trainable params: 0\n",
      "_________________________________________________________________\n",
      "\n",
      "-------------------- Weights and Biases --------------------\n",
      "Layer:  flatten_1\n",
      "Layer:  Hidden-Layer1\n",
      "Layer:  Hidden-Layer2\n",
      "Layer:  Hidden-Layer3\n",
      "Layer:  Hidden-Layer4\n",
      "Layer:  dropout_8\n",
      "Layer:  Output-Layer\n",
      "\n",
      "---------- Evaluation on Training Data ----------\n",
      "              precision    recall  f1-score   support\n",
      "\n",
      "         0.0       0.94      0.89      0.91   4250969\n",
      "         1.0       0.89      0.94      0.92   4250969\n",
      "\n",
      "    accuracy                           0.91   8501938\n",
      "   macro avg       0.91      0.91      0.91   8501938\n",
      "weighted avg       0.91      0.91      0.91   8501938\n",
      "\n",
      "\n",
      "---------- Evaluation on Test Data ----------\n",
      "              precision    recall  f1-score   support\n",
      "\n",
      "         0.0       1.00      0.89      0.94    926404\n",
      "         1.0       0.02      0.71      0.04      3278\n",
      "\n",
      "    accuracy                           0.89    929682\n",
      "   macro avg       0.51      0.80      0.49    929682\n",
      "weighted avg       1.00      0.89      0.94    929682\n",
      "\n",
      "\n",
      "---------- ROC Curve----------\n"
     ]
    },
    {
     "data": {
      "text/plain": [
       "<matplotlib.legend.Legend at 0x7fe11696d090>"
      ]
     },
     "execution_count": 127,
     "metadata": {},
     "output_type": "execute_result"
    },
    {
     "data": {
      "image/png": "[encoded data removed]",
      "text/plain": [
       "<Figure size 640x480 with 1 Axes>"
      ]
     },
     "metadata": {},
     "output_type": "display_data"
    },
    {
     "data": {
      "image/png": "[encoded data removed]",
      "text/plain": [
       "<Figure size 640x480 with 1 Axes>"
      ]
     },
     "metadata": {},
     "output_type": "display_data"
    },
    {
     "data": {
      "image/png": "[encoded data removed]",
      "text/plain": [
       "<Figure size 640x480 with 1 Axes>"
      ]
     },
     "metadata": {},
     "output_type": "display_data"
    }
   ],
   "source": [
    "##### Step 6 - Use model to make predictions\n",
    "modelz = model_FFNN_256n_4n_newtarget\n",
    "x_training = x_train_new_st\n",
    "y_training = y_train_new\n",
    "x_test = x_test_new_st\n",
    "y_test = y_test_new\n",
    "\n",
    "# Predict class labels on training data\n",
    "pred_labels_tr = (modelz.predict(x_training)> 0.5).astype(int)\n",
    "# Predict class labels on a test data\n",
    "pred_labels_te = (modelz.predict(x_test)> 0.5).astype(int)\n",
    "#> 0.01).astype(int)\n",
    "\n",
    "\n",
    "##### Step 7 - Model Performance Summary\n",
    "print(\"\")\n",
    "print('-------------------- Model Summary --------------------')\n",
    "modelz.summary() # print model summary\n",
    "print(\"\")\n",
    "print('-------------------- Weights and Biases --------------------')\n",
    "for layer in modelz.layers:\n",
    "    print(\"Layer: \", layer.name) # print layer name\n",
    "    \n",
    "print(\"\")\n",
    "print('---------- Evaluation on Training Data ----------')\n",
    "print(classification_report(y_training, pred_labels_tr))\n",
    "print(\"\")\n",
    "\n",
    "print('---------- Evaluation on Test Data ----------')\n",
    "print(classification_report(y_test, pred_labels_te))\n",
    "print(\"\")\n",
    "\n",
    "from sklearn.metrics import confusion_matrix\n",
    "import matplotlib.pyplot as plt\n",
    "\n",
    "from sklearn.metrics import ConfusionMatrixDisplay\n",
    "ConfusionMatrixDisplay(confusion_matrix(y_test, pred_labels_te)).plot(colorbar=False,cmap=plt.cm.Blues)\n",
    "ConfusionMatrixDisplay(confusion_matrix(y_test, pred_labels_te,normalize='true')).plot(colorbar=False,cmap=plt.cm.Blues)\n",
    "\n",
    "print('---------- ROC Curve----------')\n",
    "\n",
    "plt.figure(0).clf()\n",
    "\n",
    "\n",
    "fpr, tpr, _ = metrics.roc_curve(y_test, pred_labels_te)\n",
    "auc = round(metrics.roc_auc_score(y_test, pred_labels_te), 4)\n",
    "plt.plot(fpr,tpr,label=\"complex_model_new, AUC=\"+str(auc))\n",
    "\n",
    "\n",
    "\n",
    "\n",
    "\n",
    "#add legend\n",
    "plt.legend()"
   ]
  },
  {
   "cell_type": "markdown",
   "id": "49ea07c9",
   "metadata": {
    "heading_collapsed": true
   },
   "source": [
    "# Old target, next 24 hours\n",
    "> x_train_old, y_train_old, x_val_old, y_val_old, x_test_old, y_test_old = dataLoad_old()"
   ]
  },
  {
   "cell_type": "code",
   "execution_count": 107,
   "id": "2bf6e0f2",
   "metadata": {
    "hidden": true
   },
   "outputs": [
    {
     "name": "stdout",
     "output_type": "stream",
     "text": [
      "Model: \"sequential_2\"\n",
      "_________________________________________________________________\n",
      " Layer (type)                Output Shape              Param #   \n",
      "=================================================================\n",
      " dense_8 (Dense)             (None, 512)               5120      \n",
      "                                                                 \n",
      " dropout_2 (Dropout)         (None, 512)               0         \n",
      "                                                                 \n",
      " dense_9 (Dense)             (None, 1)                 513       \n",
      "                                                                 \n",
      "=================================================================\n",
      "Total params: 5,633\n",
      "Trainable params: 5,633\n",
      "Non-trainable params: 0\n",
      "_________________________________________________________________\n"
     ]
    }
   ],
   "source": [
    "model_std_relu_dropout_24H_old = Sequential()\n",
    "model_std_relu_dropout_24H_old.add(Dense(512, input_dim=9, activation='relu'))\n",
    "model_std_relu_dropout_24H_old.add(Dropout(0.5))\n",
    "model_std_relu_dropout_24H_old.add(Dense(1,activation='sigmoid')) # Output\n",
    "model_std_relu_dropout_24H_old.compile(loss='binary_crossentropy', optimizer='adam')\n",
    "\n",
    "monitor = EarlyStopping(monitor='val_loss', min_delta=1e-3, patience=5, \n",
    "        verbose=1, mode='auto', restore_best_weights=True)\n",
    "\n",
    "model_std_relu_dropout_24H_old.summary()"
   ]
  },
  {
   "cell_type": "code",
   "execution_count": 108,
   "id": "d99caf66",
   "metadata": {
    "hidden": true
   },
   "outputs": [
    {
     "name": "stdout",
     "output_type": "stream",
     "text": [
      "Epoch 1/50\n",
      "266255/266255 [==============================] - 177s 664us/step - loss: 0.2164 - val_loss: 0.2040\n",
      "Epoch 2/50\n",
      "266255/266255 [==============================] - 171s 643us/step - loss: 0.2049 - val_loss: 0.2015\n",
      "Epoch 3/50\n",
      "266255/266255 [==============================] - 172s 646us/step - loss: 0.2003 - val_loss: 0.1790\n",
      "Epoch 4/50\n",
      "266255/266255 [==============================] - 173s 651us/step - loss: 0.1971 - val_loss: 0.1833\n",
      "Epoch 5/50\n",
      "266255/266255 [==============================] - 168s 631us/step - loss: 0.1942 - val_loss: 0.1909\n",
      "Epoch 6/50\n",
      "266255/266255 [==============================] - 169s 634us/step - loss: 0.1924 - val_loss: 0.1658\n",
      "Epoch 7/50\n",
      "266255/266255 [==============================] - 169s 635us/step - loss: 0.1905 - val_loss: 0.2060\n",
      "Epoch 8/50\n",
      "266255/266255 [==============================] - 170s 640us/step - loss: 0.1891 - val_loss: 0.1795\n",
      "Epoch 9/50\n",
      "266255/266255 [==============================] - 170s 639us/step - loss: 0.1878 - val_loss: 0.1620\n",
      "Epoch 10/50\n",
      "266255/266255 [==============================] - 169s 634us/step - loss: 0.1866 - val_loss: 0.1600\n",
      "Epoch 11/50\n",
      "266255/266255 [==============================] - 170s 637us/step - loss: 0.1855 - val_loss: 0.1906\n",
      "Epoch 12/50\n",
      "266255/266255 [==============================] - 171s 641us/step - loss: 0.1845 - val_loss: 0.1729\n",
      "Epoch 13/50\n",
      "266255/266255 [==============================] - 168s 631us/step - loss: 0.1836 - val_loss: 0.1757\n",
      "Epoch 14/50\n",
      "266255/266255 [==============================] - 167s 626us/step - loss: 0.1830 - val_loss: 0.1704\n",
      "Epoch 15/50\n",
      "266232/266255 [============================>.] - ETA: 0s - loss: 0.1822Restoring model weights from the end of the best epoch: 10.\n",
      "266255/266255 [==============================] - 168s 630us/step - loss: 0.1822 - val_loss: 0.1651\n",
      "Epoch 15: early stopping\n"
     ]
    },
    {
     "data": {
      "text/plain": [
       "<keras.callbacks.History at 0x7fdc81d09ff0>"
      ]
     },
     "execution_count": 108,
     "metadata": {},
     "output_type": "execute_result"
    }
   ],
   "source": [
    "model_std_relu_dropout_24H_old.fit(x_train_old_st,y_train_old,validation_data=(x_val_old_st, y_val_old),\n",
    "        callbacks=[monitor],epochs=50)\n"
   ]
  },
  {
   "cell_type": "code",
   "execution_count": 109,
   "id": "9297cb99",
   "metadata": {
    "hidden": true
   },
   "outputs": [
    {
     "name": "stdout",
     "output_type": "stream",
     "text": [
      "266255/266255 [==============================] - 93s 348us/step\n",
      "15787/15787 [==============================] - 6s 348us/step\n",
      "\n",
      "-------------------- Model Summary --------------------\n",
      "Model: \"sequential_2\"\n",
      "_________________________________________________________________\n",
      " Layer (type)                Output Shape              Param #   \n",
      "=================================================================\n",
      " dense_8 (Dense)             (None, 512)               5120      \n",
      "                                                                 \n",
      " dropout_2 (Dropout)         (None, 512)               0         \n",
      "                                                                 \n",
      " dense_9 (Dense)             (None, 1)                 513       \n",
      "                                                                 \n",
      "=================================================================\n",
      "Total params: 5,633\n",
      "Trainable params: 5,633\n",
      "Non-trainable params: 0\n",
      "_________________________________________________________________\n",
      "\n",
      "-------------------- Weights and Biases --------------------\n",
      "Layer:  dense_8\n",
      "Layer:  dropout_2\n",
      "Layer:  dense_9\n",
      "\n",
      "---------- Evaluation on Training Data ----------\n",
      "              precision    recall  f1-score   support\n",
      "\n",
      "         0.0       0.93      0.94      0.94   4260067\n",
      "         1.0       0.94      0.93      0.94   4260067\n",
      "\n",
      "    accuracy                           0.94   8520134\n",
      "   macro avg       0.94      0.94      0.94   8520134\n",
      "weighted avg       0.94      0.94      0.94   8520134\n",
      "\n",
      "\n",
      "---------- Evaluation on Test Data ----------\n",
      "              precision    recall  f1-score   support\n",
      "\n",
      "         0.0       1.00      0.94      0.97    504295\n",
      "         1.0       0.03      0.89      0.05       885\n",
      "\n",
      "    accuracy                           0.94    505180\n",
      "   macro avg       0.51      0.91      0.51    505180\n",
      "weighted avg       1.00      0.94      0.97    505180\n",
      "\n",
      "\n",
      "---------- ROC Curve----------\n"
     ]
    },
    {
     "data": {
      "text/plain": [
       "<matplotlib.legend.Legend at 0x7fdc81d09a80>"
      ]
     },
     "execution_count": 109,
     "metadata": {},
     "output_type": "execute_result"
    },
    {
     "data": {
      "image/png": "[encoded data removed]",
      "text/plain": [
       "<Figure size 640x480 with 1 Axes>"
      ]
     },
     "metadata": {},
     "output_type": "display_data"
    },
    {
     "data": {
      "image/png": "[encoded data removed]",
      "text/plain": [
       "<Figure size 640x480 with 1 Axes>"
      ]
     },
     "metadata": {},
     "output_type": "display_data"
    },
    {
     "data": {
      "image/png": "[encoded data removed]",
      "text/plain": [
       "<Figure size 640x480 with 1 Axes>"
      ]
     },
     "metadata": {},
     "output_type": "display_data"
    }
   ],
   "source": [
    "##### Step 6 - Use model to make predictions\n",
    "modelz = model_std_relu_dropout_24H_old\n",
    "x_training = x_train_old_st\n",
    "y_training = y_train_old\n",
    "x_test = x_test_old_st\n",
    "y_test =  y_test_old\n",
    "\n",
    "# Predict class labels on training data\n",
    "pred_labels_tr = (modelz.predict(x_training)> 0.5).astype(int)\n",
    "# Predict class labels on a test data\n",
    "pred_labels_te = (modelz.predict(x_test)> 0.5).astype(int)\n",
    "#> 0.01).astype(int)\n",
    "\n",
    "\n",
    "##### Step 7 - Model Performance Summary\n",
    "print(\"\")\n",
    "print('-------------------- Model Summary --------------------')\n",
    "modelz.summary() # print model summary\n",
    "print(\"\")\n",
    "print('-------------------- Weights and Biases --------------------')\n",
    "for layer in modelz.layers:\n",
    "    print(\"Layer: \", layer.name) # print layer name\n",
    "    \n",
    "print(\"\")\n",
    "print('---------- Evaluation on Training Data ----------')\n",
    "print(classification_report(y_training, pred_labels_tr))\n",
    "print(\"\")\n",
    "\n",
    "print('---------- Evaluation on Test Data ----------')\n",
    "print(classification_report(y_test, pred_labels_te))\n",
    "print(\"\")\n",
    "\n",
    "from sklearn.metrics import confusion_matrix\n",
    "import matplotlib.pyplot as plt\n",
    "\n",
    "from sklearn.metrics import ConfusionMatrixDisplay\n",
    "ConfusionMatrixDisplay(confusion_matrix(y_test, pred_labels_te)).plot(colorbar=False,cmap=plt.cm.Blues)\n",
    "ConfusionMatrixDisplay(confusion_matrix(y_test, pred_labels_te,normalize='true')).plot(colorbar=False,cmap=plt.cm.Blues)\n",
    "\n",
    "print('---------- ROC Curve----------')\n",
    "\n",
    "plt.figure(0).clf()\n",
    "\n",
    "\n",
    "fpr, tpr, _ = metrics.roc_curve(y_test, pred_labels_te)\n",
    "auc = round(metrics.roc_auc_score(y_test, pred_labels_te), 4)\n",
    "plt.plot(fpr,tpr,label=\"simple_model_olddata, AUC=\"+str(auc))\n",
    "\n",
    "\n",
    "\n",
    "\n",
    "\n",
    "#add legend\n",
    "plt.legend()"
   ]
  },
  {
   "cell_type": "markdown",
   "id": "3f192f2e",
   "metadata": {
    "heading_collapsed": true
   },
   "source": [
    "# Different Model, 24H\n"
   ]
  },
  {
   "cell_type": "code",
   "execution_count": 111,
   "id": "4d51c12e",
   "metadata": {
    "hidden": true
   },
   "outputs": [
    {
     "name": "stdout",
     "output_type": "stream",
     "text": [
      "Model: \"sequential_3\"\n",
      "_________________________________________________________________\n",
      " Layer (type)                Output Shape              Param #   \n",
      "=================================================================\n",
      " dense_10 (Dense)            (None, 9)                 90        \n",
      "                                                                 \n",
      " dropout_3 (Dropout)         (None, 9)                 0         \n",
      "                                                                 \n",
      " dense_11 (Dense)            (None, 16)                160       \n",
      "                                                                 \n",
      " dense_12 (Dense)            (None, 32)                544       \n",
      "                                                                 \n",
      " dense_13 (Dense)            (None, 64)                2112      \n",
      "                                                                 \n",
      " dense_14 (Dense)            (None, 128)               8320      \n",
      "                                                                 \n",
      " dense_15 (Dense)            (None, 1)                 129       \n",
      "                                                                 \n",
      "=================================================================\n",
      "Total params: 11,355\n",
      "Trainable params: 11,355\n",
      "Non-trainable params: 0\n",
      "_________________________________________________________________\n"
     ]
    }
   ],
   "source": [
    "### as an example, try different ones\n",
    "modelcom_24h = Sequential()\n",
    "modelcom_24h.add(Dense(9, input_dim=9, activation='relu'))\n",
    "modelcom_24h.add(Dropout(0.5))\n",
    "modelcom_24h.add(Dense(16, activation='relu'))\n",
    "modelcom_24h.add(Dense(32, activation='relu'))\n",
    "modelcom_24h.add(Dense(64, activation='relu'))\n",
    "modelcom_24h.add(Dense(128, activation='relu'))\n",
    "modelcom_24h.add(Dense(1,activation='sigmoid')) # Output\n",
    "modelcom_24h.compile(loss='binary_crossentropy', optimizer='adam')\n",
    "\n",
    "monitor = EarlyStopping(monitor='val_loss', min_delta=1e-3, patience=5, \n",
    "        verbose=1, mode='auto', restore_best_weights=True)\n",
    "\n",
    "modelcom_24h.summary()"
   ]
  },
  {
   "cell_type": "code",
   "execution_count": 112,
   "id": "586b2da0",
   "metadata": {
    "hidden": true
   },
   "outputs": [
    {
     "name": "stdout",
     "output_type": "stream",
     "text": [
      "Epoch 1/50\n",
      "266255/266255 [==============================] - 191s 715us/step - loss: 0.3155 - val_loss: 0.7838\n",
      "Epoch 2/50\n",
      "266255/266255 [==============================] - 190s 713us/step - loss: 0.3048 - val_loss: 0.9848\n",
      "Epoch 3/50\n",
      "266255/266255 [==============================] - 189s 711us/step - loss: 0.3016 - val_loss: 1.0468\n",
      "Epoch 4/50\n",
      "266255/266255 [==============================] - 193s 725us/step - loss: 0.2995 - val_loss: 1.6332\n",
      "Epoch 5/50\n",
      "266255/266255 [==============================] - 190s 715us/step - loss: 0.2965 - val_loss: 2.4196\n",
      "Epoch 6/50\n",
      "266188/266255 [============================>.] - ETA: 0s - loss: 0.2958Restoring model weights from the end of the best epoch: 1.\n",
      "266255/266255 [==============================] - 192s 721us/step - loss: 0.2958 - val_loss: 2.2858\n",
      "Epoch 6: early stopping\n"
     ]
    },
    {
     "data": {
      "text/plain": [
       "<keras.callbacks.History at 0x7fe0a4594c40>"
      ]
     },
     "execution_count": 112,
     "metadata": {},
     "output_type": "execute_result"
    }
   ],
   "source": [
    "modelcom_24h.fit(x_train_old_st,y_train_old,validation_data=(x_val_old_st, y_val_old),\n",
    "        callbacks=[monitor],epochs=50)"
   ]
  },
  {
   "cell_type": "code",
   "execution_count": 113,
   "id": "cd843c11",
   "metadata": {
    "hidden": true
   },
   "outputs": [
    {
     "name": "stdout",
     "output_type": "stream",
     "text": [
      "266255/266255 [==============================] - 105s 393us/step\n",
      "15787/15787 [==============================] - 6s 387us/step\n",
      "\n",
      "-------------------- Model Summary --------------------\n",
      "Model: \"sequential_3\"\n",
      "_________________________________________________________________\n",
      " Layer (type)                Output Shape              Param #   \n",
      "=================================================================\n",
      " dense_10 (Dense)            (None, 9)                 90        \n",
      "                                                                 \n",
      " dropout_3 (Dropout)         (None, 9)                 0         \n",
      "                                                                 \n",
      " dense_11 (Dense)            (None, 16)                160       \n",
      "                                                                 \n",
      " dense_12 (Dense)            (None, 32)                544       \n",
      "                                                                 \n",
      " dense_13 (Dense)            (None, 64)                2112      \n",
      "                                                                 \n",
      " dense_14 (Dense)            (None, 128)               8320      \n",
      "                                                                 \n",
      " dense_15 (Dense)            (None, 1)                 129       \n",
      "                                                                 \n",
      "=================================================================\n",
      "Total params: 11,355\n",
      "Trainable params: 11,355\n",
      "Non-trainable params: 0\n",
      "_________________________________________________________________\n",
      "\n",
      "-------------------- Weights and Biases --------------------\n",
      "Layer:  dense_10\n",
      "Layer:  dropout_3\n",
      "Layer:  dense_11\n",
      "Layer:  dense_12\n",
      "Layer:  dense_13\n",
      "Layer:  dense_14\n",
      "Layer:  dense_15\n",
      "\n",
      "---------- Evaluation on Training Data ----------\n",
      "              precision    recall  f1-score   support\n",
      "\n",
      "         0.0       0.64      0.49      0.55   4260067\n",
      "         1.0       0.59      0.73      0.65   4260067\n",
      "\n",
      "    accuracy                           0.61   8520134\n",
      "   macro avg       0.61      0.61      0.60   8520134\n",
      "weighted avg       0.61      0.61      0.60   8520134\n",
      "\n",
      "\n",
      "---------- Evaluation on Test Data ----------\n",
      "              precision    recall  f1-score   support\n",
      "\n",
      "         0.0       1.00      0.49      0.66    504295\n",
      "         1.0       0.00      0.73      0.01       885\n",
      "\n",
      "    accuracy                           0.49    505180\n",
      "   macro avg       0.50      0.61      0.33    505180\n",
      "weighted avg       1.00      0.49      0.66    505180\n",
      "\n",
      "\n",
      "---------- ROC Curve----------\n"
     ]
    },
    {
     "data": {
      "text/plain": [
       "<matplotlib.legend.Legend at 0x7fdc81d63ca0>"
      ]
     },
     "execution_count": 113,
     "metadata": {},
     "output_type": "execute_result"
    },
    {
     "data": {
      "image/png": "[encoded data removed]",
      "text/plain": [
       "<Figure size 640x480 with 1 Axes>"
      ]
     },
     "metadata": {},
     "output_type": "display_data"
    },
    {
     "data": {
      "image/png": "[encoded data removed]",
      "text/plain": [
       "<Figure size 640x480 with 1 Axes>"
      ]
     },
     "metadata": {},
     "output_type": "display_data"
    },
    {
     "data": {
      "image/png": "[encoded data removed]",
      "text/plain": [
       "<Figure size 640x480 with 1 Axes>"
      ]
     },
     "metadata": {},
     "output_type": "display_data"
    }
   ],
   "source": [
    "##### Step 6 - Use model to make predictions\n",
    "modelz = modelcom_24h\n",
    "x_training = x_train_old_st\n",
    "y_training = y_train_old\n",
    "x_test = x_test_old_st\n",
    "y_test =  y_test_old\n",
    "\n",
    "# Predict class labels on training data\n",
    "pred_labels_tr = (modelz.predict(x_training)> 0.5).astype(int)\n",
    "# Predict class labels on a test data\n",
    "pred_labels_te = (modelz.predict(x_test)> 0.5).astype(int)\n",
    "#> 0.01).astype(int)\n",
    "\n",
    "\n",
    "##### Step 7 - Model Performance Summary\n",
    "print(\"\")\n",
    "print('-------------------- Model Summary --------------------')\n",
    "modelz.summary() # print model summary\n",
    "print(\"\")\n",
    "print('-------------------- Weights and Biases --------------------')\n",
    "for layer in modelz.layers:\n",
    "    print(\"Layer: \", layer.name) # print layer name\n",
    "    \n",
    "print(\"\")\n",
    "print('---------- Evaluation on Training Data ----------')\n",
    "print(classification_report(y_training, pred_labels_tr))\n",
    "print(\"\")\n",
    "\n",
    "print('---------- Evaluation on Test Data ----------')\n",
    "print(classification_report(y_test, pred_labels_te))\n",
    "print(\"\")\n",
    "\n",
    "from sklearn.metrics import confusion_matrix\n",
    "import matplotlib.pyplot as plt\n",
    "\n",
    "from sklearn.metrics import ConfusionMatrixDisplay\n",
    "ConfusionMatrixDisplay(confusion_matrix(y_test, pred_labels_te)).plot(colorbar=False,cmap=plt.cm.Blues)\n",
    "ConfusionMatrixDisplay(confusion_matrix(y_test, pred_labels_te,normalize='true')).plot(colorbar=False,cmap=plt.cm.Blues)\n",
    "\n",
    "print('---------- ROC Curve----------')\n",
    "\n",
    "plt.figure(0).clf()\n",
    "\n",
    "\n",
    "fpr, tpr, _ = metrics.roc_curve(y_test, pred_labels_te)\n",
    "auc = round(metrics.roc_auc_score(y_test, pred_labels_te), 4)\n",
    "plt.plot(fpr,tpr,label=\"simple_model_olddata, AUC=\"+str(auc))\n",
    "\n",
    "\n",
    "\n",
    "\n",
    "\n",
    "#add legend\n",
    "plt.legend()"
   ]
  },
  {
   "cell_type": "code",
   "execution_count": 114,
   "id": "c73c196e",
   "metadata": {
    "hidden": true
   },
   "outputs": [],
   "source": [
    "modelcom_24h.save(os.path.join(\"data/complex_model_std_24H.h5\"))\n",
    "model_std_relu_dropout_24H_old.save(os.path.join(\"data/model_std_relu_dropout_24H_old.h5\"))\n"
   ]
  },
  {
   "cell_type": "markdown",
   "id": "fd94d2f0",
   "metadata": {},
   "source": [
    "# complex model 4l 256n, 0-24H"
   ]
  },
  {
   "cell_type": "code",
   "execution_count": 20,
   "id": "1b57c357",
   "metadata": {},
   "outputs": [
    {
     "name": "stdout",
     "output_type": "stream",
     "text": [
      "Epoch 1/50\n",
      "266255/266255 [==============================] - 426s 2ms/step - loss: 0.1443 - accuracy: 0.9446 - val_loss: 0.1323 - val_accuracy: 0.9460\n",
      "Epoch 2/50\n",
      "266255/266255 [==============================] - 415s 2ms/step - loss: 0.1184 - accuracy: 0.9572 - val_loss: 0.1571 - val_accuracy: 0.9372\n",
      "Epoch 3/50\n",
      "266255/266255 [==============================] - 410s 2ms/step - loss: 0.1130 - accuracy: 0.9596 - val_loss: 0.1469 - val_accuracy: 0.9408\n",
      "Epoch 4/50\n",
      "266255/266255 [==============================] - 416s 2ms/step - loss: 0.1100 - accuracy: 0.9610 - val_loss: 0.1388 - val_accuracy: 0.9460\n",
      "Epoch 5/50\n",
      "266255/266255 [==============================] - 449s 2ms/step - loss: 0.1072 - accuracy: 0.9621 - val_loss: 0.1289 - val_accuracy: 0.9461\n",
      "Epoch 6/50\n",
      "266255/266255 [==============================] - 411s 2ms/step - loss: 0.1053 - accuracy: 0.9632 - val_loss: 0.1309 - val_accuracy: 0.9500\n",
      "Epoch 7/50\n",
      "266255/266255 [==============================] - 412s 2ms/step - loss: 0.1036 - accuracy: 0.9638 - val_loss: 0.1432 - val_accuracy: 0.9452\n",
      "Epoch 8/50\n",
      "266255/266255 [==============================] - 413s 2ms/step - loss: 0.1019 - accuracy: 0.9645 - val_loss: 0.1361 - val_accuracy: 0.9499\n",
      "Epoch 9/50\n",
      "266255/266255 [==============================] - 413s 2ms/step - loss: 0.1012 - accuracy: 0.9648 - val_loss: 0.1370 - val_accuracy: 0.9489\n",
      "Epoch 10/50\n",
      "266255/266255 [==============================] - 414s 2ms/step - loss: 0.1007 - accuracy: 0.9651 - val_loss: 0.1180 - val_accuracy: 0.9517\n",
      "Epoch 11/50\n",
      "266255/266255 [==============================] - 408s 2ms/step - loss: 0.0998 - accuracy: 0.9654 - val_loss: 0.1360 - val_accuracy: 0.9501\n",
      "Epoch 12/50\n",
      "266255/266255 [==============================] - 409s 2ms/step - loss: 0.0999 - accuracy: 0.9654 - val_loss: 0.1202 - val_accuracy: 0.9517\n",
      "Epoch 13/50\n",
      "266255/266255 [==============================] - 411s 2ms/step - loss: 0.0987 - accuracy: 0.9659 - val_loss: 0.1426 - val_accuracy: 0.9478\n",
      "Epoch 14/50\n",
      "266255/266255 [==============================] - 421s 2ms/step - loss: 0.0987 - accuracy: 0.9658 - val_loss: 0.1198 - val_accuracy: 0.9556\n",
      "Epoch 15/50\n",
      "266232/266255 [============================>.] - ETA: 0s - loss: 0.0978 - accuracy: 0.9662Restoring model weights from the end of the best epoch: 10.\n",
      "266255/266255 [==============================] - 413s 2ms/step - loss: 0.0978 - accuracy: 0.9662 - val_loss: 0.1177 - val_accuracy: 0.9536\n",
      "Epoch 15: early stopping\n"
     ]
    }
   ],
   "source": [
    "##### Step 5 - Specify the structure of a Neural Network\n",
    "model_FFNN_256n_4n_0_24H = tf.keras.models.Sequential([\n",
    "    tf.keras.layers.Flatten(input_shape=(9,)),\n",
    "    tf.keras.layers.Dense(256, activation='tanh', name='Hidden-Layer1'),\n",
    "    tf.keras.layers.Dense(256, activation='tanh', name='Hidden-Layer2'),\n",
    "    tf.keras.layers.Dense(256, activation='tanh', name='Hidden-Layer3'),\n",
    "    tf.keras.layers.Dense(256, activation='tanh', name='Hidden-Layer4'),\n",
    "\n",
    "    tf.keras.layers.Dropout(0.2),\n",
    "    tf.keras.layers.Dense(1, activation='sigmoid', name='Output-Layer')\n",
    "])\n",
    "model_FFNN_256n_4n_0_24H.compile(optimizer='adam',\n",
    "    loss='binary_crossentropy',\n",
    "    metrics=['accuracy'])\n",
    "\n",
    "#checkPoint\n",
    "monitor = EarlyStopping(monitor='val_loss', min_delta=1e-3, patience=5, \n",
    "        verbose=1, mode='auto', restore_best_weights=True)\n",
    "\n",
    "h_model_FFNN_256n_4n_0_24H = model_FFNN_256n_4n_0_24H.fit(x_train_old_st,y_train_old, epochs = 50,  callbacks=[monitor],  validation_data=(x_val_old_st,  y_val_old))#*********more epochs = 5\n"
   ]
  },
  {
   "cell_type": "code",
   "execution_count": 21,
   "id": "4c1ce844",
   "metadata": {},
   "outputs": [
    {
     "name": "stdout",
     "output_type": "stream",
     "text": [
      "266255/266255 [==============================] - 171s 641us/step\n",
      "15787/15787 [==============================] - 10s 637us/step\n",
      "\n",
      "-------------------- Model Summary --------------------\n",
      "Model: \"sequential_2\"\n",
      "_________________________________________________________________\n",
      " Layer (type)                Output Shape              Param #   \n",
      "=================================================================\n",
      " flatten_2 (Flatten)         (None, 9)                 0         \n",
      "                                                                 \n",
      " Hidden-Layer1 (Dense)       (None, 256)               2560      \n",
      "                                                                 \n",
      " Hidden-Layer2 (Dense)       (None, 256)               65792     \n",
      "                                                                 \n",
      " Hidden-Layer3 (Dense)       (None, 256)               65792     \n",
      "                                                                 \n",
      " Hidden-Layer4 (Dense)       (None, 256)               65792     \n",
      "                                                                 \n",
      " dropout_2 (Dropout)         (None, 256)               0         \n",
      "                                                                 \n",
      " Output-Layer (Dense)        (None, 1)                 257       \n",
      "                                                                 \n",
      "=================================================================\n",
      "Total params: 200,193\n",
      "Trainable params: 200,193\n",
      "Non-trainable params: 0\n",
      "_________________________________________________________________\n",
      "\n",
      "-------------------- Weights and Biases --------------------\n",
      "Layer:  flatten_2\n",
      "Layer:  Hidden-Layer1\n",
      "Layer:  Hidden-Layer2\n",
      "Layer:  Hidden-Layer3\n",
      "Layer:  Hidden-Layer4\n",
      "Layer:  dropout_2\n",
      "Layer:  Output-Layer\n",
      "\n",
      "---------- Evaluation on Training Data ----------\n",
      "              precision    recall  f1-score   support\n",
      "\n",
      "         0.0       0.98      0.96      0.97   4260067\n",
      "         1.0       0.96      0.98      0.97   4260067\n",
      "\n",
      "    accuracy                           0.97   8520134\n",
      "   macro avg       0.97      0.97      0.97   8520134\n",
      "weighted avg       0.97      0.97      0.97   8520134\n",
      "\n",
      "\n",
      "---------- Evaluation on Test Data ----------\n",
      "              precision    recall  f1-score   support\n",
      "\n",
      "         0.0       1.00      0.96      0.98    504295\n",
      "         1.0       0.03      0.84      0.06       885\n",
      "\n",
      "    accuracy                           0.96    505180\n",
      "   macro avg       0.52      0.90      0.52    505180\n",
      "weighted avg       1.00      0.96      0.98    505180\n",
      "\n",
      "\n",
      "---------- ROC Curve----------\n"
     ]
    },
    {
     "data": {
      "text/plain": [
       "<matplotlib.legend.Legend at 0x7fd57c037c40>"
      ]
     },
     "execution_count": 21,
     "metadata": {},
     "output_type": "execute_result"
    },
    {
     "data": {
      "image/png": "[encoded data removed]",
      "text/plain": [
       "<Figure size 640x480 with 1 Axes>"
      ]
     },
     "metadata": {},
     "output_type": "display_data"
    },
    {
     "data": {
      "image/png": "[encoded data removed]",
      "text/plain": [
       "<Figure size 640x480 with 1 Axes>"
      ]
     },
     "metadata": {},
     "output_type": "display_data"
    },
    {
     "data": {
      "image/png": "[encoded data removed]",
      "text/plain": [
       "<Figure size 640x480 with 1 Axes>"
      ]
     },
     "metadata": {},
     "output_type": "display_data"
    }
   ],
   "source": [
    "##### Step 6 - Use model to make predictions\n",
    "modelz = model_FFNN_256n_4n_0_24H\n",
    "x_training = x_train_old_st\n",
    "y_training = y_train_old\n",
    "x_test =  x_test_old_st\n",
    "y_test = y_test_old\n",
    "\n",
    "# Predict class labels on training data\n",
    "pred_labels_tr = (modelz.predict(x_training)> 0.5).astype(int)\n",
    "# Predict class labels on a test data\n",
    "pred_labels_te = (modelz.predict(x_test)> 0.5).astype(int)\n",
    "#> 0.01).astype(int)\n",
    "\n",
    "\n",
    "##### Step 7 - Model Performance Summary\n",
    "print(\"\")\n",
    "print('-------------------- Model Summary --------------------')\n",
    "modelz.summary() # print model summary\n",
    "print(\"\")\n",
    "print('-------------------- Weights and Biases --------------------')\n",
    "for layer in modelz.layers:\n",
    "    print(\"Layer: \", layer.name) # print layer name\n",
    "    \n",
    "print(\"\")\n",
    "print('---------- Evaluation on Training Data ----------')\n",
    "print(classification_report(y_training, pred_labels_tr))\n",
    "print(\"\")\n",
    "\n",
    "print('---------- Evaluation on Test Data ----------')\n",
    "print(classification_report(y_test, pred_labels_te))\n",
    "print(\"\")\n",
    "\n",
    "from sklearn.metrics import confusion_matrix\n",
    "import matplotlib.pyplot as plt\n",
    "\n",
    "from sklearn.metrics import ConfusionMatrixDisplay\n",
    "ConfusionMatrixDisplay(confusion_matrix(y_test, pred_labels_te)).plot(colorbar=False,cmap=plt.cm.Blues)\n",
    "ConfusionMatrixDisplay(confusion_matrix(y_test, pred_labels_te,normalize='true')).plot(colorbar=False,cmap=plt.cm.Blues)\n",
    "\n",
    "print('---------- ROC Curve----------')\n",
    "\n",
    "plt.figure(0).clf()\n",
    "\n",
    "\n",
    "fpr, tpr, _ = metrics.roc_curve(y_test, pred_labels_te)\n",
    "auc = round(metrics.roc_auc_score(y_test, pred_labels_te), 4)\n",
    "plt.plot(fpr,tpr,label=\"model_FFNN_256n_4n_0_24H, AUC=\"+str(auc))\n",
    "\n",
    "\n",
    "\n",
    "\n",
    "\n",
    "#add legend\n",
    "plt.legend()"
   ]
  },
  {
   "cell_type": "code",
   "execution_count": 22,
   "id": "adedee7a",
   "metadata": {},
   "outputs": [],
   "source": [
    "model_FFNN_256n_4n_0_24H.save(os.path.join(\"data/model_FFNN_256n_4n_0_24H.h5\"))\n"
   ]
  },
  {
   "cell_type": "markdown",
   "id": "83efa40d",
   "metadata": {
    "heading_collapsed": true
   },
   "source": [
    "# Old target, next 48 hours\n",
    "> x_train_old48, y_train_old48, x_val_old48, y_val_old48, x_test_old48, y_test_old48"
   ]
  },
  {
   "cell_type": "code",
   "execution_count": 115,
   "id": "9a5cda60",
   "metadata": {
    "hidden": true
   },
   "outputs": [
    {
     "name": "stdout",
     "output_type": "stream",
     "text": [
      "Model: \"sequential_4\"\n",
      "_________________________________________________________________\n",
      " Layer (type)                Output Shape              Param #   \n",
      "=================================================================\n",
      " dense_16 (Dense)            (None, 512)               5120      \n",
      "                                                                 \n",
      " dropout_4 (Dropout)         (None, 512)               0         \n",
      "                                                                 \n",
      " dense_17 (Dense)            (None, 1)                 513       \n",
      "                                                                 \n",
      "=================================================================\n",
      "Total params: 5,633\n",
      "Trainable params: 5,633\n",
      "Non-trainable params: 0\n",
      "_________________________________________________________________\n"
     ]
    }
   ],
   "source": [
    "model_std_relu_dropout_48H_old = Sequential()\n",
    "model_std_relu_dropout_48H_old.add(Dense(512, input_dim=9, activation='relu'))\n",
    "model_std_relu_dropout_48H_old.add(Dropout(0.5))\n",
    "model_std_relu_dropout_48H_old.add(Dense(1,activation='sigmoid')) # Output\n",
    "model_std_relu_dropout_48H_old.compile(loss='binary_crossentropy', optimizer='adam')\n",
    "\n",
    "monitor = EarlyStopping(monitor='val_loss', min_delta=1e-3, patience=5, \n",
    "        verbose=1, mode='auto', restore_best_weights=True)\n",
    "\n",
    "model_std_relu_dropout_48H_old.summary()"
   ]
  },
  {
   "cell_type": "code",
   "execution_count": 116,
   "id": "d076d504",
   "metadata": {
    "hidden": true
   },
   "outputs": [
    {
     "name": "stdout",
     "output_type": "stream",
     "text": [
      "Epoch 1/50\n",
      "266255/266255 [==============================] - 176s 661us/step - loss: 0.3526 - val_loss: 0.3469\n",
      "Epoch 2/50\n",
      "266255/266255 [==============================] - 174s 654us/step - loss: 0.3358 - val_loss: 0.3054\n",
      "Epoch 3/50\n",
      "266255/266255 [==============================] - 173s 650us/step - loss: 0.3284 - val_loss: 0.3035\n",
      "Epoch 4/50\n",
      "266255/266255 [==============================] - 171s 643us/step - loss: 0.3233 - val_loss: 0.2914\n",
      "Epoch 5/50\n",
      "266255/266255 [==============================] - 170s 637us/step - loss: 0.3195 - val_loss: 0.3311\n",
      "Epoch 6/50\n",
      "266255/266255 [==============================] - 171s 643us/step - loss: 0.3165 - val_loss: 0.3097\n",
      "Epoch 7/50\n",
      "266255/266255 [==============================] - 171s 640us/step - loss: 0.3141 - val_loss: 0.2958\n",
      "Epoch 8/50\n",
      "266255/266255 [==============================] - 169s 635us/step - loss: 0.3119 - val_loss: 0.3103\n",
      "Epoch 9/50\n",
      "266232/266255 [============================>.] - ETA: 0s - loss: 0.3100Restoring model weights from the end of the best epoch: 4.\n",
      "266255/266255 [==============================] - 168s 632us/step - loss: 0.3100 - val_loss: 0.2914\n",
      "Epoch 9: early stopping\n"
     ]
    },
    {
     "data": {
      "text/plain": [
       "<keras.callbacks.History at 0x7fe0e0386680>"
      ]
     },
     "execution_count": 116,
     "metadata": {},
     "output_type": "execute_result"
    }
   ],
   "source": [
    "model_std_relu_dropout_48H_old.fit(x_train_old48_st,y_train_old48,validation_data=(x_val_old48_st, y_val_old48),\n",
    "        callbacks=[monitor],epochs=50)\n"
   ]
  },
  {
   "cell_type": "code",
   "execution_count": 117,
   "id": "e8cc65b8",
   "metadata": {
    "hidden": true
   },
   "outputs": [
    {
     "name": "stdout",
     "output_type": "stream",
     "text": [
      "266255/266255 [==============================] - 93s 348us/step\n",
      "15787/15787 [==============================] - 6s 349us/step\n",
      "\n",
      "-------------------- Model Summary --------------------\n",
      "Model: \"sequential_4\"\n",
      "_________________________________________________________________\n",
      " Layer (type)                Output Shape              Param #   \n",
      "=================================================================\n",
      " dense_16 (Dense)            (None, 512)               5120      \n",
      "                                                                 \n",
      " dropout_4 (Dropout)         (None, 512)               0         \n",
      "                                                                 \n",
      " dense_17 (Dense)            (None, 1)                 513       \n",
      "                                                                 \n",
      "=================================================================\n",
      "Total params: 5,633\n",
      "Trainable params: 5,633\n",
      "Non-trainable params: 0\n",
      "_________________________________________________________________\n",
      "\n",
      "-------------------- Weights and Biases --------------------\n",
      "Layer:  dense_16\n",
      "Layer:  dropout_4\n",
      "Layer:  dense_17\n",
      "\n",
      "---------- Evaluation on Training Data ----------\n",
      "              precision    recall  f1-score   support\n",
      "\n",
      "         0.0       0.88      0.87      0.87   4260067\n",
      "         1.0       0.87      0.88      0.87   4260067\n",
      "\n",
      "    accuracy                           0.87   8520134\n",
      "   macro avg       0.87      0.87      0.87   8520134\n",
      "weighted avg       0.87      0.87      0.87   8520134\n",
      "\n",
      "\n",
      "---------- Evaluation on Test Data ----------\n",
      "              precision    recall  f1-score   support\n",
      "\n",
      "         0.0       1.00      0.86      0.93    504295\n",
      "         1.0       0.01      0.81      0.02       885\n",
      "\n",
      "    accuracy                           0.86    505180\n",
      "   macro avg       0.50      0.84      0.47    505180\n",
      "weighted avg       1.00      0.86      0.93    505180\n",
      "\n",
      "\n",
      "---------- ROC Curve----------\n"
     ]
    },
    {
     "data": {
      "image/png": "[encoded data removed]",
      "text/plain": [
       "<Figure size 640x480 with 1 Axes>"
      ]
     },
     "metadata": {},
     "output_type": "display_data"
    },
    {
     "data": {
      "image/png": "[encoded data removed]",
      "text/plain": [
       "<Figure size 640x480 with 1 Axes>"
      ]
     },
     "metadata": {},
     "output_type": "display_data"
    },
    {
     "data": {
      "image/png": "[encoded data removed]",
      "text/plain": [
       "<Figure size 640x480 with 1 Axes>"
      ]
     },
     "metadata": {},
     "output_type": "display_data"
    }
   ],
   "source": [
    "##### Step 6 - Use model to make predictions\n",
    "modelz = model_std_relu_dropout_48H_old\n",
    "x_training = x_train_old48_st\n",
    "y_training = y_train_old48\n",
    "x_test = x_test_old48_st\n",
    "y_test =  y_test_old48\n",
    "\n",
    "# Predict class labels on training data\n",
    "pred_labels_tr = (modelz.predict(x_training)> 0.5).astype(int)\n",
    "# Predict class labels on a test data\n",
    "pred_labels_te = (modelz.predict(x_test)> 0.5).astype(int)\n",
    "#> 0.01).astype(int)\n",
    "\n",
    "\n",
    "##### Step 7 - Model Performance Summary\n",
    "print(\"\")\n",
    "print('-------------------- Model Summary --------------------')\n",
    "modelz.summary() # print model summary\n",
    "print(\"\")\n",
    "print('-------------------- Weights and Biases --------------------')\n",
    "for layer in modelz.layers:\n",
    "    print(\"Layer: \", layer.name) # print layer name\n",
    "    \n",
    "print(\"\")\n",
    "print('---------- Evaluation on Training Data ----------')\n",
    "print(classification_report(y_training, pred_labels_tr))\n",
    "print(\"\")\n",
    "\n",
    "print('---------- Evaluation on Test Data ----------')\n",
    "print(classification_report(y_test, pred_labels_te))\n",
    "print(\"\")\n",
    "\n",
    "from sklearn.metrics import confusion_matrix\n",
    "import matplotlib.pyplot as plt\n",
    "\n",
    "from sklearn.metrics import ConfusionMatrixDisplay\n",
    "ConfusionMatrixDisplay(confusion_matrix(y_test, pred_labels_te)).plot(colorbar=False,cmap=plt.cm.Blues)\n",
    "ConfusionMatrixDisplay(confusion_matrix(y_test, pred_labels_te,normalize='true')).plot(colorbar=False,cmap=plt.cm.Blues)\n",
    "\n",
    "print('---------- ROC Curve----------')\n",
    "\n",
    "plt.figure(0).clf()\n",
    "\n",
    "\n",
    "fpr, tpr, _ = metrics.roc_curve(y_test, pred_labels_te)\n",
    "auc = round(metrics.roc_auc_score(y_test, pred_labels_te), 4)\n",
    "plt.plot(fpr,tpr,label=\"model_std_relu_dropout_48H_old, AUC=\"+str(auc))\n",
    "\n",
    "\n",
    "\n",
    "\n",
    "\n",
    "#add legend\n",
    "plt.legend()\n",
    "model_std_relu_dropout_48H_old.save(os.path.join(\"data/model_std_relu_dropout_48H_old.h5\"))\n"
   ]
  },
  {
   "cell_type": "markdown",
   "id": "b1e38794",
   "metadata": {
    "heading_collapsed": true
   },
   "source": [
    "# Different Model, 48H"
   ]
  },
  {
   "cell_type": "code",
   "execution_count": 118,
   "id": "441848f9",
   "metadata": {
    "hidden": true
   },
   "outputs": [
    {
     "name": "stdout",
     "output_type": "stream",
     "text": [
      "Model: \"sequential_5\"\n",
      "_________________________________________________________________\n",
      " Layer (type)                Output Shape              Param #   \n",
      "=================================================================\n",
      " dense_18 (Dense)            (None, 9)                 90        \n",
      "                                                                 \n",
      " dropout_5 (Dropout)         (None, 9)                 0         \n",
      "                                                                 \n",
      " dense_19 (Dense)            (None, 16)                160       \n",
      "                                                                 \n",
      " dense_20 (Dense)            (None, 32)                544       \n",
      "                                                                 \n",
      " dense_21 (Dense)            (None, 64)                2112      \n",
      "                                                                 \n",
      " dense_22 (Dense)            (None, 128)               8320      \n",
      "                                                                 \n",
      " dense_23 (Dense)            (None, 1)                 129       \n",
      "                                                                 \n",
      "=================================================================\n",
      "Total params: 11,355\n",
      "Trainable params: 11,355\n",
      "Non-trainable params: 0\n",
      "_________________________________________________________________\n"
     ]
    }
   ],
   "source": [
    "### as an example, try different ones\n",
    "modelcom_48h = Sequential()\n",
    "modelcom_48h.add(Dense(9, input_dim=9, activation='relu'))\n",
    "modelcom_48h.add(Dropout(0.5))\n",
    "modelcom_48h.add(Dense(16, activation='relu'))\n",
    "modelcom_48h.add(Dense(32, activation='relu'))\n",
    "modelcom_48h.add(Dense(64, activation='relu'))\n",
    "modelcom_48h.add(Dense(128, activation='relu'))\n",
    "modelcom_48h.add(Dense(1,activation='sigmoid')) # Output\n",
    "modelcom_48h.compile(loss='binary_crossentropy', optimizer='adam')\n",
    "\n",
    "monitor = EarlyStopping(monitor='val_loss', min_delta=1e-3, patience=5, \n",
    "        verbose=1, mode='auto', restore_best_weights=True)\n",
    "\n",
    "modelcom_48h.summary()"
   ]
  },
  {
   "cell_type": "code",
   "execution_count": 119,
   "id": "1c265945",
   "metadata": {
    "hidden": true
   },
   "outputs": [
    {
     "name": "stdout",
     "output_type": "stream",
     "text": [
      "Epoch 1/50\n",
      "266255/266255 [==============================] - 195s 730us/step - loss: 0.4510 - val_loss: 0.4370\n",
      "Epoch 2/50\n",
      "266255/266255 [==============================] - 201s 755us/step - loss: 0.4376 - val_loss: 0.3107\n",
      "Epoch 3/50\n",
      "266255/266255 [==============================] - 199s 748us/step - loss: 0.4342 - val_loss: 0.2316\n",
      "Epoch 4/50\n",
      "266255/266255 [==============================] - 205s 771us/step - loss: 0.4325 - val_loss: 0.1699\n",
      "Epoch 5/50\n",
      "266255/266255 [==============================] - 205s 768us/step - loss: 0.4315 - val_loss: 0.1573\n",
      "Epoch 6/50\n",
      "266255/266255 [==============================] - 221s 830us/step - loss: 0.4310 - val_loss: 0.0960\n",
      "Epoch 7/50\n",
      "266255/266255 [==============================] - 205s 771us/step - loss: 0.4307 - val_loss: 0.1119\n",
      "Epoch 8/50\n",
      "266255/266255 [==============================] - 198s 745us/step - loss: 0.4305 - val_loss: 0.0930\n",
      "Epoch 9/50\n",
      "266255/266255 [==============================] - 189s 709us/step - loss: 0.4306 - val_loss: 0.0894\n",
      "Epoch 10/50\n",
      "266255/266255 [==============================] - 191s 716us/step - loss: 0.4315 - val_loss: 0.0699\n",
      "Epoch 11/50\n",
      "266255/266255 [==============================] - 190s 714us/step - loss: 0.4318 - val_loss: 0.0523\n",
      "Epoch 12/50\n",
      "266255/266255 [==============================] - 192s 722us/step - loss: 0.4322 - val_loss: 0.0451\n",
      "Epoch 13/50\n",
      "266255/266255 [==============================] - 189s 711us/step - loss: 0.4333 - val_loss: 0.0505\n",
      "Epoch 14/50\n",
      "266255/266255 [==============================] - 192s 720us/step - loss: 0.4334 - val_loss: 0.0519\n",
      "Epoch 15/50\n",
      "266255/266255 [==============================] - 191s 719us/step - loss: 0.4336 - val_loss: 0.0572\n",
      "Epoch 16/50\n",
      "266255/266255 [==============================] - 190s 714us/step - loss: 0.4351 - val_loss: 0.0549\n",
      "Epoch 17/50\n",
      "266251/266255 [============================>.] - ETA: 0s - loss: 0.4357Restoring model weights from the end of the best epoch: 12.\n",
      "266255/266255 [==============================] - 190s 714us/step - loss: 0.4357 - val_loss: 0.0697\n",
      "Epoch 17: early stopping\n"
     ]
    },
    {
     "data": {
      "text/plain": [
       "<keras.callbacks.History at 0x7fe114f4a620>"
      ]
     },
     "execution_count": 119,
     "metadata": {},
     "output_type": "execute_result"
    }
   ],
   "source": [
    "modelcom_48h.fit(x_train_old48_st,y_train_old48,validation_data=(x_val_old48_st, y_val_old48),\n",
    "        callbacks=[monitor],epochs=50)"
   ]
  },
  {
   "cell_type": "code",
   "execution_count": 120,
   "id": "430900c7",
   "metadata": {
    "hidden": true
   },
   "outputs": [
    {
     "name": "stdout",
     "output_type": "stream",
     "text": [
      "266255/266255 [==============================] - 106s 399us/step\n",
      "15787/15787 [==============================] - 6s 392us/step\n",
      "\n",
      "-------------------- Model Summary --------------------\n",
      "Model: \"sequential_5\"\n",
      "_________________________________________________________________\n",
      " Layer (type)                Output Shape              Param #   \n",
      "=================================================================\n",
      " dense_18 (Dense)            (None, 9)                 90        \n",
      "                                                                 \n",
      " dropout_5 (Dropout)         (None, 9)                 0         \n",
      "                                                                 \n",
      " dense_19 (Dense)            (None, 16)                160       \n",
      "                                                                 \n",
      " dense_20 (Dense)            (None, 32)                544       \n",
      "                                                                 \n",
      " dense_21 (Dense)            (None, 64)                2112      \n",
      "                                                                 \n",
      " dense_22 (Dense)            (None, 128)               8320      \n",
      "                                                                 \n",
      " dense_23 (Dense)            (None, 1)                 129       \n",
      "                                                                 \n",
      "=================================================================\n",
      "Total params: 11,355\n",
      "Trainable params: 11,355\n",
      "Non-trainable params: 0\n",
      "_________________________________________________________________\n",
      "\n",
      "-------------------- Weights and Biases --------------------\n",
      "Layer:  dense_18\n",
      "Layer:  dropout_5\n",
      "Layer:  dense_19\n",
      "Layer:  dense_20\n",
      "Layer:  dense_21\n",
      "Layer:  dense_22\n",
      "Layer:  dense_23\n",
      "\n",
      "---------- Evaluation on Training Data ----------\n",
      "              precision    recall  f1-score   support\n",
      "\n",
      "         0.0       0.50      1.00      0.67   4260067\n",
      "         1.0       0.91      0.01      0.03   4260067\n",
      "\n",
      "    accuracy                           0.51   8520134\n",
      "   macro avg       0.71      0.51      0.35   8520134\n",
      "weighted avg       0.71      0.51      0.35   8520134\n",
      "\n",
      "\n",
      "---------- Evaluation on Test Data ----------\n",
      "              precision    recall  f1-score   support\n",
      "\n",
      "         0.0       1.00      1.00      1.00    504295\n",
      "         1.0       0.03      0.02      0.02       885\n",
      "\n",
      "    accuracy                           1.00    505180\n",
      "   macro avg       0.51      0.51      0.51    505180\n",
      "weighted avg       1.00      1.00      1.00    505180\n",
      "\n",
      "\n",
      "---------- ROC Curve----------\n"
     ]
    },
    {
     "data": {
      "image/png": "[encoded data removed]",
      "text/plain": [
       "<Figure size 640x480 with 1 Axes>"
      ]
     },
     "metadata": {},
     "output_type": "display_data"
    },
    {
     "data": {
      "image/png": "[encoded data removed]",
      "text/plain": [
       "<Figure size 640x480 with 1 Axes>"
      ]
     },
     "metadata": {},
     "output_type": "display_data"
    },
    {
     "data": {
      "image/png": "[encoded data removed]",
      "text/plain": [
       "<Figure size 640x480 with 1 Axes>"
      ]
     },
     "metadata": {},
     "output_type": "display_data"
    }
   ],
   "source": [
    "##### Step 6 - Use model to make predictions\n",
    "modelz = modelcom_48h\n",
    "x_training = x_train_old48_st\n",
    "y_training = y_train_old48\n",
    "x_test = x_test_old48_st\n",
    "y_test =  y_test_old48\n",
    "\n",
    "# Predict class labels on training data\n",
    "pred_labels_tr = (modelz.predict(x_training)> 0.5).astype(int)\n",
    "# Predict class labels on a test data\n",
    "pred_labels_te = (modelz.predict(x_test)> 0.5).astype(int)\n",
    "#> 0.01).astype(int)\n",
    "\n",
    "\n",
    "##### Step 7 - Model Performance Summary\n",
    "print(\"\")\n",
    "print('-------------------- Model Summary --------------------')\n",
    "modelz.summary() # print model summary\n",
    "print(\"\")\n",
    "print('-------------------- Weights and Biases --------------------')\n",
    "for layer in modelz.layers:\n",
    "    print(\"Layer: \", layer.name) # print layer name\n",
    "    \n",
    "print(\"\")\n",
    "print('---------- Evaluation on Training Data ----------')\n",
    "print(classification_report(y_training, pred_labels_tr))\n",
    "print(\"\")\n",
    "\n",
    "print('---------- Evaluation on Test Data ----------')\n",
    "print(classification_report(y_test, pred_labels_te))\n",
    "print(\"\")\n",
    "\n",
    "from sklearn.metrics import confusion_matrix\n",
    "import matplotlib.pyplot as plt\n",
    "\n",
    "from sklearn.metrics import ConfusionMatrixDisplay\n",
    "ConfusionMatrixDisplay(confusion_matrix(y_test, pred_labels_te)).plot(colorbar=False,cmap=plt.cm.Blues)\n",
    "ConfusionMatrixDisplay(confusion_matrix(y_test, pred_labels_te,normalize='true')).plot(colorbar=False,cmap=plt.cm.Blues)\n",
    "\n",
    "print('---------- ROC Curve----------')\n",
    "\n",
    "plt.figure(0).clf()\n",
    "\n",
    "\n",
    "fpr, tpr, _ = metrics.roc_curve(y_test, pred_labels_te)\n",
    "auc = round(metrics.roc_auc_score(y_test, pred_labels_te), 4)\n",
    "plt.plot(fpr,tpr,label=\"modelcom_48h, AUC=\"+str(auc))\n",
    "\n",
    "\n",
    "\n",
    "\n",
    "\n",
    "#add legend\n",
    "plt.legend()\n",
    "model_std_relu_dropout_48H_old.save(os.path.join(\"data/modelcom_48h.h5\"))\n"
   ]
  },
  {
   "cell_type": "markdown",
   "id": "e6157f3c",
   "metadata": {
    "heading_collapsed": true
   },
   "source": [
    "# complex model 4l 256n, 24-48H"
   ]
  },
  {
   "cell_type": "code",
   "execution_count": 15,
   "id": "0d15129b",
   "metadata": {
    "hidden": true
   },
   "outputs": [
    {
     "name": "stderr",
     "output_type": "stream",
     "text": [
      "2023-03-10 10:54:39.686863: I tensorflow/core/platform/cpu_feature_guard.cc:193] This TensorFlow binary is optimized with oneAPI Deep Neural Network Library (oneDNN) to use the following CPU instructions in performance-critical operations:  SSE4.1 SSE4.2\n",
      "To enable them in other operations, rebuild TensorFlow with the appropriate compiler flags.\n"
     ]
    },
    {
     "name": "stdout",
     "output_type": "stream",
     "text": [
      "Epoch 1/50\n",
      "266255/266255 [==============================] - 416s 2ms/step - loss: 0.2333 - accuracy: 0.9054 - val_loss: 0.2006 - val_accuracy: 0.9089\n",
      "Epoch 2/50\n",
      "266255/266255 [==============================] - 435s 2ms/step - loss: 0.1895 - accuracy: 0.9280 - val_loss: 0.2228 - val_accuracy: 0.9043\n",
      "Epoch 3/50\n",
      "266255/266255 [==============================] - 425s 2ms/step - loss: 0.1801 - accuracy: 0.9324 - val_loss: 0.2234 - val_accuracy: 0.9018\n",
      "Epoch 4/50\n",
      "266255/266255 [==============================] - 411s 2ms/step - loss: 0.1740 - accuracy: 0.9351 - val_loss: 0.2261 - val_accuracy: 0.9058\n",
      "Epoch 5/50\n",
      "266255/266255 [==============================] - 409s 2ms/step - loss: 0.1703 - accuracy: 0.9369 - val_loss: 0.2228 - val_accuracy: 0.9095\n",
      "Epoch 6/50\n",
      "266240/266255 [============================>.] - ETA: 0s - loss: 0.1673 - accuracy: 0.9381Restoring model weights from the end of the best epoch: 1.\n",
      "266255/266255 [==============================] - 413s 2ms/step - loss: 0.1673 - accuracy: 0.9381 - val_loss: 0.2041 - val_accuracy: 0.9128\n",
      "Epoch 6: early stopping\n"
     ]
    }
   ],
   "source": [
    "##### Step 5 - Specify the structure of a Neural Network\n",
    "model_FFNN_256n_4n_24_48H = tf.keras.models.Sequential([\n",
    "    tf.keras.layers.Flatten(input_shape=(9,)),\n",
    "    tf.keras.layers.Dense(256, activation='tanh', name='Hidden-Layer1'),\n",
    "    tf.keras.layers.Dense(256, activation='tanh', name='Hidden-Layer2'),\n",
    "    tf.keras.layers.Dense(256, activation='tanh', name='Hidden-Layer3'),\n",
    "    tf.keras.layers.Dense(256, activation='tanh', name='Hidden-Layer4'),\n",
    "\n",
    "    tf.keras.layers.Dropout(0.2),\n",
    "    tf.keras.layers.Dense(1, activation='sigmoid', name='Output-Layer')\n",
    "])\n",
    "model_FFNN_256n_4n_24_48H.compile(optimizer='adam',\n",
    "    loss='binary_crossentropy',\n",
    "    metrics=['accuracy'])\n",
    "\n",
    "#checkPoint\n",
    "monitor = EarlyStopping(monitor='val_loss', min_delta=1e-3, patience=5, \n",
    "        verbose=1, mode='auto', restore_best_weights=True)\n",
    "\n",
    "h_model_FFNN_256n_4n_24_48H = model_FFNN_256n_4n_24_48H.fit(x_train_old48_st,y_train_old48, epochs = 50,  callbacks=[monitor],  validation_data=(x_val_old48_st, y_val_old48))#*********more epochs = 5\n"
   ]
  },
  {
   "cell_type": "code",
   "execution_count": 16,
   "id": "6a15beee",
   "metadata": {
    "hidden": true
   },
   "outputs": [],
   "source": [
    "model_FFNN_256n_4n_24_48H.save(os.path.join(\"data/model_FFNN_256n_4n_24_48H.h5\"))\n"
   ]
  },
  {
   "cell_type": "code",
   "execution_count": 17,
   "id": "3cadc29f",
   "metadata": {
    "hidden": true
   },
   "outputs": [
    {
     "name": "stdout",
     "output_type": "stream",
     "text": [
      "266255/266255 [==============================] - 170s 638us/step\n",
      "15787/15787 [==============================] - 10s 641us/step\n",
      "\n",
      "-------------------- Model Summary --------------------\n",
      "Model: \"sequential\"\n",
      "_________________________________________________________________\n",
      " Layer (type)                Output Shape              Param #   \n",
      "=================================================================\n",
      " flatten (Flatten)           (None, 9)                 0         \n",
      "                                                                 \n",
      " Hidden-Layer1 (Dense)       (None, 256)               2560      \n",
      "                                                                 \n",
      " Hidden-Layer2 (Dense)       (None, 256)               65792     \n",
      "                                                                 \n",
      " Hidden-Layer3 (Dense)       (None, 256)               65792     \n",
      "                                                                 \n",
      " Hidden-Layer4 (Dense)       (None, 256)               65792     \n",
      "                                                                 \n",
      " dropout (Dropout)           (None, 256)               0         \n",
      "                                                                 \n",
      " Output-Layer (Dense)        (None, 1)                 257       \n",
      "                                                                 \n",
      "=================================================================\n",
      "Total params: 200,193\n",
      "Trainable params: 200,193\n",
      "Non-trainable params: 0\n",
      "_________________________________________________________________\n",
      "\n",
      "-------------------- Weights and Biases --------------------\n",
      "Layer:  flatten\n",
      "Layer:  Hidden-Layer1\n",
      "Layer:  Hidden-Layer2\n",
      "Layer:  Hidden-Layer3\n",
      "Layer:  Hidden-Layer4\n",
      "Layer:  dropout\n",
      "Layer:  Output-Layer\n",
      "\n",
      "---------- Evaluation on Training Data ----------\n",
      "              precision    recall  f1-score   support\n",
      "\n",
      "         0.0       0.94      0.91      0.92   4260067\n",
      "         1.0       0.91      0.94      0.93   4260067\n",
      "\n",
      "    accuracy                           0.92   8520134\n",
      "   macro avg       0.92      0.92      0.92   8520134\n",
      "weighted avg       0.92      0.92      0.92   8520134\n",
      "\n",
      "\n",
      "---------- Evaluation on Test Data ----------\n",
      "              precision    recall  f1-score   support\n",
      "\n",
      "         0.0       1.00      0.91      0.95    504295\n",
      "         1.0       0.01      0.68      0.03       885\n",
      "\n",
      "    accuracy                           0.91    505180\n",
      "   macro avg       0.51      0.80      0.49    505180\n",
      "weighted avg       1.00      0.91      0.95    505180\n",
      "\n",
      "\n",
      "---------- ROC Curve----------\n"
     ]
    },
    {
     "data": {
      "text/plain": [
       "<matplotlib.legend.Legend at 0x7fd43c6dc310>"
      ]
     },
     "execution_count": 17,
     "metadata": {},
     "output_type": "execute_result"
    },
    {
     "data": {
      "image/png": "[encoded data removed]",
      "text/plain": [
       "<Figure size 640x480 with 1 Axes>"
      ]
     },
     "metadata": {},
     "output_type": "display_data"
    },
    {
     "data": {
      "image/png": "[encoded data removed]",
      "text/plain": [
       "<Figure size 640x480 with 1 Axes>"
      ]
     },
     "metadata": {},
     "output_type": "display_data"
    },
    {
     "data": {
      "image/png": "[encoded data removed]",
      "text/plain": [
       "<Figure size 640x480 with 1 Axes>"
      ]
     },
     "metadata": {},
     "output_type": "display_data"
    }
   ],
   "source": [
    "##### Step 6 - Use model to make predictions\n",
    "modelz = model_FFNN_256n_4n_24_48H\n",
    "x_training = x_train_old48_st\n",
    "y_training = y_train_old48\n",
    "x_test = x_test_old48_st\n",
    "y_test = y_test_old48\n",
    "\n",
    "# Predict class labels on training data\n",
    "pred_labels_tr = (modelz.predict(x_training)> 0.5).astype(int)\n",
    "# Predict class labels on a test data\n",
    "pred_labels_te = (modelz.predict(x_test)> 0.5).astype(int)\n",
    "#> 0.01).astype(int)\n",
    "\n",
    "\n",
    "##### Step 7 - Model Performance Summary\n",
    "print(\"\")\n",
    "print('-------------------- Model Summary --------------------')\n",
    "modelz.summary() # print model summary\n",
    "print(\"\")\n",
    "print('-------------------- Weights and Biases --------------------')\n",
    "for layer in modelz.layers:\n",
    "    print(\"Layer: \", layer.name) # print layer name\n",
    "    \n",
    "print(\"\")\n",
    "print('---------- Evaluation on Training Data ----------')\n",
    "print(classification_report(y_training, pred_labels_tr))\n",
    "print(\"\")\n",
    "\n",
    "print('---------- Evaluation on Test Data ----------')\n",
    "print(classification_report(y_test, pred_labels_te))\n",
    "print(\"\")\n",
    "\n",
    "from sklearn.metrics import confusion_matrix\n",
    "import matplotlib.pyplot as plt\n",
    "\n",
    "from sklearn.metrics import ConfusionMatrixDisplay\n",
    "ConfusionMatrixDisplay(confusion_matrix(y_test, pred_labels_te)).plot(colorbar=False,cmap=plt.cm.Blues)\n",
    "ConfusionMatrixDisplay(confusion_matrix(y_test, pred_labels_te,normalize='true')).plot(colorbar=False,cmap=plt.cm.Blues)\n",
    "\n",
    "print('---------- ROC Curve----------')\n",
    "\n",
    "plt.figure(0).clf()\n",
    "\n",
    "\n",
    "fpr, tpr, _ = metrics.roc_curve(y_test, pred_labels_te)\n",
    "auc = round(metrics.roc_auc_score(y_test, pred_labels_te), 4)\n",
    "plt.plot(fpr,tpr,label=\"model_FFNN_256n_4n_24_48H, AUC=\"+str(auc))\n",
    "\n",
    "\n",
    "\n",
    "\n",
    "\n",
    "#add legend\n",
    "plt.legend()"
   ]
  },
  {
   "cell_type": "markdown",
   "id": "a180395a",
   "metadata": {
    "heading_collapsed": true
   },
   "source": [
    "# FFNN, 24 or 48H  \n",
    "> x_train_old24_48, y_train_old24_48, x_val_old24_48, y_val_old24_48, x_test_old24_48, y_test_old24_48"
   ]
  },
  {
   "cell_type": "code",
   "execution_count": 121,
   "id": "52422b7e",
   "metadata": {
    "hidden": true
   },
   "outputs": [
    {
     "name": "stdout",
     "output_type": "stream",
     "text": [
      "Model: \"sequential_6\"\n",
      "_________________________________________________________________\n",
      " Layer (type)                Output Shape              Param #   \n",
      "=================================================================\n",
      " dense_24 (Dense)            (None, 512)               5120      \n",
      "                                                                 \n",
      " dropout_6 (Dropout)         (None, 512)               0         \n",
      "                                                                 \n",
      " dense_25 (Dense)            (None, 1)                 513       \n",
      "                                                                 \n",
      "=================================================================\n",
      "Total params: 5,633\n",
      "Trainable params: 5,633\n",
      "Non-trainable params: 0\n",
      "_________________________________________________________________\n"
     ]
    }
   ],
   "source": [
    "model_std_relu_dropout_24_48H_old = Sequential()\n",
    "model_std_relu_dropout_24_48H_old.add(Dense(512, input_dim=9, activation='relu'))\n",
    "model_std_relu_dropout_24_48H_old.add(Dropout(0.5))\n",
    "model_std_relu_dropout_24_48H_old.add(Dense(1,activation='sigmoid')) # Output\n",
    "model_std_relu_dropout_24_48H_old.compile(loss='binary_crossentropy', optimizer='adam')\n",
    "\n",
    "monitor = EarlyStopping(monitor='val_loss', min_delta=1e-3, patience=5, \n",
    "        verbose=1, mode='auto', restore_best_weights=True)\n",
    "\n",
    "model_std_relu_dropout_24_48H_old.summary()"
   ]
  },
  {
   "cell_type": "code",
   "execution_count": 122,
   "id": "b50f9d3f",
   "metadata": {
    "hidden": true
   },
   "outputs": [
    {
     "name": "stdout",
     "output_type": "stream",
     "text": [
      "Epoch 1/50\n",
      "265961/265961 [==============================] - 173s 651us/step - loss: 0.3153 - val_loss: 0.2930\n",
      "Epoch 2/50\n",
      "265961/265961 [==============================] - 171s 643us/step - loss: 0.3036 - val_loss: 0.2756\n",
      "Epoch 3/50\n",
      "265961/265961 [==============================] - 172s 646us/step - loss: 0.2981 - val_loss: 0.2987\n",
      "Epoch 4/50\n",
      "265961/265961 [==============================] - 172s 648us/step - loss: 0.2941 - val_loss: 0.2903\n",
      "Epoch 5/50\n",
      "265961/265961 [==============================] - 172s 646us/step - loss: 0.2910 - val_loss: 0.2745\n",
      "Epoch 6/50\n",
      "265961/265961 [==============================] - 173s 649us/step - loss: 0.2884 - val_loss: 0.2717\n",
      "Epoch 7/50\n",
      "265961/265961 [==============================] - 171s 643us/step - loss: 0.2862 - val_loss: 0.2869\n",
      "Epoch 8/50\n",
      "265961/265961 [==============================] - 172s 645us/step - loss: 0.2846 - val_loss: 0.2639\n",
      "Epoch 9/50\n",
      "265961/265961 [==============================] - 173s 652us/step - loss: 0.2830 - val_loss: 0.2671\n",
      "Epoch 10/50\n",
      "265961/265961 [==============================] - 175s 656us/step - loss: 0.2815 - val_loss: 0.2734\n",
      "Epoch 11/50\n",
      "265961/265961 [==============================] - 174s 654us/step - loss: 0.2803 - val_loss: 0.2895\n",
      "Epoch 12/50\n",
      "265961/265961 [==============================] - 172s 645us/step - loss: 0.2791 - val_loss: 0.2330\n",
      "Epoch 13/50\n",
      "265961/265961 [==============================] - 173s 649us/step - loss: 0.2777 - val_loss: 0.2668\n",
      "Epoch 14/50\n",
      "265961/265961 [==============================] - 172s 648us/step - loss: 0.2769 - val_loss: 0.2686\n",
      "Epoch 15/50\n",
      "265961/265961 [==============================] - 173s 652us/step - loss: 0.2761 - val_loss: 0.2430\n",
      "Epoch 16/50\n",
      "265961/265961 [==============================] - 173s 652us/step - loss: 0.2750 - val_loss: 0.2399\n",
      "Epoch 17/50\n",
      "265906/265961 [============================>.] - ETA: 0s - loss: 0.2743Restoring model weights from the end of the best epoch: 12.\n",
      "265961/265961 [==============================] - 171s 644us/step - loss: 0.2743 - val_loss: 0.2343\n",
      "Epoch 17: early stopping\n"
     ]
    },
    {
     "data": {
      "text/plain": [
       "<keras.callbacks.History at 0x7fdd30387580>"
      ]
     },
     "execution_count": 122,
     "metadata": {},
     "output_type": "execute_result"
    }
   ],
   "source": [
    "model_std_relu_dropout_24_48H_old.fit(x_train_old24_48_st,y_train_old24_48,validation_data=(x_val_old24_48_st, y_val_old24_48),\n",
    "        callbacks=[monitor],epochs=50)"
   ]
  },
  {
   "cell_type": "code",
   "execution_count": 123,
   "id": "45a83674",
   "metadata": {
    "hidden": true
   },
   "outputs": [
    {
     "name": "stdout",
     "output_type": "stream",
     "text": [
      "265961/265961 [==============================] - 98s 367us/step\n",
      "15787/15787 [==============================] - 6s 354us/step\n",
      "\n",
      "-------------------- Model Summary --------------------\n",
      "Model: \"sequential_6\"\n",
      "_________________________________________________________________\n",
      " Layer (type)                Output Shape              Param #   \n",
      "=================================================================\n",
      " dense_24 (Dense)            (None, 512)               5120      \n",
      "                                                                 \n",
      " dropout_6 (Dropout)         (None, 512)               0         \n",
      "                                                                 \n",
      " dense_25 (Dense)            (None, 1)                 513       \n",
      "                                                                 \n",
      "=================================================================\n",
      "Total params: 5,633\n",
      "Trainable params: 5,633\n",
      "Non-trainable params: 0\n",
      "_________________________________________________________________\n",
      "\n",
      "-------------------- Weights and Biases --------------------\n",
      "Layer:  dense_24\n",
      "Layer:  dropout_6\n",
      "Layer:  dense_25\n",
      "\n",
      "---------- Evaluation on Training Data ----------\n",
      "              precision    recall  f1-score   support\n",
      "\n",
      "           0       0.89      0.91      0.90   4255361\n",
      "           1       0.91      0.88      0.89   4255361\n",
      "\n",
      "    accuracy                           0.90   8510722\n",
      "   macro avg       0.90      0.90      0.90   8510722\n",
      "weighted avg       0.90      0.90      0.90   8510722\n",
      "\n",
      "\n",
      "---------- Evaluation on Test Data ----------\n",
      "              precision    recall  f1-score   support\n",
      "\n",
      "           0       1.00      0.90      0.95    503829\n",
      "           1       0.02      0.83      0.04      1351\n",
      "\n",
      "    accuracy                           0.90    505180\n",
      "   macro avg       0.51      0.87      0.50    505180\n",
      "weighted avg       1.00      0.90      0.95    505180\n",
      "\n",
      "\n",
      "---------- ROC Curve----------\n"
     ]
    },
    {
     "data": {
      "image/png": "[encoded data removed]",
      "text/plain": [
       "<Figure size 640x480 with 1 Axes>"
      ]
     },
     "metadata": {},
     "output_type": "display_data"
    },
    {
     "data": {
      "image/png": "[encoded data removed]",
      "text/plain": [
       "<Figure size 640x480 with 1 Axes>"
      ]
     },
     "metadata": {},
     "output_type": "display_data"
    },
    {
     "data": {
      "image/png": "[encoded data removed]",
      "text/plain": [
       "<Figure size 640x480 with 1 Axes>"
      ]
     },
     "metadata": {},
     "output_type": "display_data"
    }
   ],
   "source": [
    "##### Step 6 - Use model to make predictions\n",
    "modelz = model_std_relu_dropout_24_48H_old\n",
    "x_training = x_train_old24_48_st\n",
    "y_training = y_train_old24_48\n",
    "x_test = x_test_old24_48_st\n",
    "y_test =  y_test_old24_48\n",
    "\n",
    "# Predict class labels on training data\n",
    "pred_labels_tr = (modelz.predict(x_training)> 0.5).astype(int)\n",
    "# Predict class labels on a test data\n",
    "pred_labels_te = (modelz.predict(x_test)> 0.5).astype(int)\n",
    "#> 0.01).astype(int)\n",
    "\n",
    "\n",
    "##### Step 7 - Model Performance Summary\n",
    "print(\"\")\n",
    "print('-------------------- Model Summary --------------------')\n",
    "modelz.summary() # print model summary\n",
    "print(\"\")\n",
    "print('-------------------- Weights and Biases --------------------')\n",
    "for layer in modelz.layers:\n",
    "    print(\"Layer: \", layer.name) # print layer name\n",
    "    \n",
    "print(\"\")\n",
    "print('---------- Evaluation on Training Data ----------')\n",
    "print(classification_report(y_training, pred_labels_tr))\n",
    "print(\"\")\n",
    "\n",
    "print('---------- Evaluation on Test Data ----------')\n",
    "print(classification_report(y_test, pred_labels_te))\n",
    "print(\"\")\n",
    "\n",
    "from sklearn.metrics import confusion_matrix\n",
    "import matplotlib.pyplot as plt\n",
    "\n",
    "from sklearn.metrics import ConfusionMatrixDisplay\n",
    "ConfusionMatrixDisplay(confusion_matrix(y_test, pred_labels_te)).plot(colorbar=False,cmap=plt.cm.Blues)\n",
    "ConfusionMatrixDisplay(confusion_matrix(y_test, pred_labels_te,normalize='true')).plot(colorbar=False,cmap=plt.cm.Blues)\n",
    "\n",
    "print('---------- ROC Curve----------')\n",
    "\n",
    "plt.figure(0).clf()\n",
    "\n",
    "\n",
    "fpr, tpr, _ = metrics.roc_curve(y_test, pred_labels_te)\n",
    "auc = round(metrics.roc_auc_score(y_test, pred_labels_te), 4)\n",
    "plt.plot(fpr,tpr,label=\"model_std_relu_dropout_24_48H_old, AUC=\"+str(auc))\n",
    "\n",
    "\n",
    "\n",
    "\n",
    "\n",
    "#add legend\n",
    "plt.legend()\n",
    "model_std_relu_dropout_24_48H_old.save(os.path.join(\"data/model_std_relu_dropout_24_48H_old.h5\"))\n"
   ]
  },
  {
   "cell_type": "code",
   "execution_count": null,
   "id": "90ae1c10",
   "metadata": {
    "hidden": true
   },
   "outputs": [],
   "source": []
  },
  {
   "cell_type": "markdown",
   "id": "f584bab8",
   "metadata": {},
   "source": [
    "# complex model 4l 256n, 0-24 or 24-48H"
   ]
  },
  {
   "cell_type": "code",
   "execution_count": 18,
   "id": "4ce4ceec",
   "metadata": {},
   "outputs": [
    {
     "name": "stdout",
     "output_type": "stream",
     "text": [
      "Epoch 1/50\n",
      "265961/265961 [==============================] - 419s 2ms/step - loss: 0.2374 - accuracy: 0.8992 - val_loss: 0.2500 - val_accuracy: 0.8795\n",
      "Epoch 2/50\n",
      "265961/265961 [==============================] - 433s 2ms/step - loss: 0.1998 - accuracy: 0.9196 - val_loss: 0.2498 - val_accuracy: 0.8926\n",
      "Epoch 3/50\n",
      "265961/265961 [==============================] - 450s 2ms/step - loss: 0.1894 - accuracy: 0.9250 - val_loss: 0.2293 - val_accuracy: 0.9016\n",
      "Epoch 4/50\n",
      "265961/265961 [==============================] - 432s 2ms/step - loss: 0.1829 - accuracy: 0.9283 - val_loss: 0.2306 - val_accuracy: 0.8987\n",
      "Epoch 5/50\n",
      "265961/265961 [==============================] - 427s 2ms/step - loss: 0.1793 - accuracy: 0.9301 - val_loss: 0.2227 - val_accuracy: 0.9020\n",
      "Epoch 6/50\n",
      "265961/265961 [==============================] - 431s 2ms/step - loss: 0.1770 - accuracy: 0.9312 - val_loss: 0.2258 - val_accuracy: 0.9009\n",
      "Epoch 7/50\n",
      "265961/265961 [==============================] - 411s 2ms/step - loss: 0.1741 - accuracy: 0.9326 - val_loss: 0.2476 - val_accuracy: 0.8982\n",
      "Epoch 8/50\n",
      "265961/265961 [==============================] - 424s 2ms/step - loss: 0.1724 - accuracy: 0.9335 - val_loss: 0.1833 - val_accuracy: 0.9186\n",
      "Epoch 9/50\n",
      "265961/265961 [==============================] - 444s 2ms/step - loss: 0.1707 - accuracy: 0.9343 - val_loss: 0.2150 - val_accuracy: 0.9092\n",
      "Epoch 10/50\n",
      "265961/265961 [==============================] - 439s 2ms/step - loss: 0.1697 - accuracy: 0.9347 - val_loss: 0.2034 - val_accuracy: 0.9129\n",
      "Epoch 11/50\n",
      "265961/265961 [==============================] - 414s 2ms/step - loss: 0.1672 - accuracy: 0.9360 - val_loss: 0.2073 - val_accuracy: 0.9090\n",
      "Epoch 12/50\n",
      "265961/265961 [==============================] - 410s 2ms/step - loss: 0.1678 - accuracy: 0.9355 - val_loss: 0.2130 - val_accuracy: 0.9109\n",
      "Epoch 13/50\n",
      "265943/265961 [============================>.] - ETA: 0s - loss: 0.1671 - accuracy: 0.9359Restoring model weights from the end of the best epoch: 8.\n",
      "265961/265961 [==============================] - 410s 2ms/step - loss: 0.1671 - accuracy: 0.9359 - val_loss: 0.1888 - val_accuracy: 0.9157\n",
      "Epoch 13: early stopping\n"
     ]
    }
   ],
   "source": [
    "##### Step 5 - Specify the structure of a Neural Network\n",
    "model_FFNN_256n_4n_0_48H = tf.keras.models.Sequential([\n",
    "    tf.keras.layers.Flatten(input_shape=(9,)),\n",
    "    tf.keras.layers.Dense(256, activation='tanh', name='Hidden-Layer1'),\n",
    "    tf.keras.layers.Dense(256, activation='tanh', name='Hidden-Layer2'),\n",
    "    tf.keras.layers.Dense(256, activation='tanh', name='Hidden-Layer3'),\n",
    "    tf.keras.layers.Dense(256, activation='tanh', name='Hidden-Layer4'),\n",
    "\n",
    "    tf.keras.layers.Dropout(0.2),\n",
    "    tf.keras.layers.Dense(1, activation='sigmoid', name='Output-Layer')\n",
    "])\n",
    "model_FFNN_256n_4n_0_48H.compile(optimizer='adam',\n",
    "    loss='binary_crossentropy',\n",
    "    metrics=['accuracy'])\n",
    "\n",
    "#checkPoint\n",
    "monitor = EarlyStopping(monitor='val_loss', min_delta=1e-3, patience=5, \n",
    "        verbose=1, mode='auto', restore_best_weights=True)\n",
    "\n",
    "h_model_FFNN_256n_4n_0_48H = model_FFNN_256n_4n_0_48H.fit(x_train_old24_48_st,y_train_old24_48, epochs = 50,  callbacks=[monitor],  validation_data=(x_val_old24_48_st,  y_val_old24_48))#*********more epochs = 5\n"
   ]
  },
  {
   "cell_type": "code",
   "execution_count": 23,
   "id": "39ef2b6c",
   "metadata": {},
   "outputs": [
    {
     "name": "stdout",
     "output_type": "stream",
     "text": [
      "265961/265961 [==============================] - 175s 659us/step\n",
      "15787/15787 [==============================] - 10s 637us/step\n",
      "\n",
      "-------------------- Model Summary --------------------\n",
      "Model: \"sequential_1\"\n",
      "_________________________________________________________________\n",
      " Layer (type)                Output Shape              Param #   \n",
      "=================================================================\n",
      " flatten_1 (Flatten)         (None, 9)                 0         \n",
      "                                                                 \n",
      " Hidden-Layer1 (Dense)       (None, 256)               2560      \n",
      "                                                                 \n",
      " Hidden-Layer2 (Dense)       (None, 256)               65792     \n",
      "                                                                 \n",
      " Hidden-Layer3 (Dense)       (None, 256)               65792     \n",
      "                                                                 \n",
      " Hidden-Layer4 (Dense)       (None, 256)               65792     \n",
      "                                                                 \n",
      " dropout_1 (Dropout)         (None, 256)               0         \n",
      "                                                                 \n",
      " Output-Layer (Dense)        (None, 1)                 257       \n",
      "                                                                 \n",
      "=================================================================\n",
      "Total params: 200,193\n",
      "Trainable params: 200,193\n",
      "Non-trainable params: 0\n",
      "_________________________________________________________________\n",
      "\n",
      "-------------------- Weights and Biases --------------------\n",
      "Layer:  flatten_1\n",
      "Layer:  Hidden-Layer1\n",
      "Layer:  Hidden-Layer2\n",
      "Layer:  Hidden-Layer3\n",
      "Layer:  Hidden-Layer4\n",
      "Layer:  dropout_1\n",
      "Layer:  Output-Layer\n",
      "\n",
      "---------- Evaluation on Training Data ----------\n",
      "              precision    recall  f1-score   support\n",
      "\n",
      "           0       0.95      0.92      0.93   4255361\n",
      "           1       0.92      0.95      0.94   4255361\n",
      "\n",
      "    accuracy                           0.93   8510722\n",
      "   macro avg       0.93      0.93      0.93   8510722\n",
      "weighted avg       0.93      0.93      0.93   8510722\n",
      "\n",
      "\n",
      "---------- Evaluation on Test Data ----------\n",
      "              precision    recall  f1-score   support\n",
      "\n",
      "           0       1.00      0.92      0.96    503829\n",
      "           1       0.02      0.72      0.05      1351\n",
      "\n",
      "    accuracy                           0.92    505180\n",
      "   macro avg       0.51      0.82      0.50    505180\n",
      "weighted avg       1.00      0.92      0.96    505180\n",
      "\n",
      "\n",
      "---------- ROC Curve----------\n"
     ]
    },
    {
     "data": {
      "text/plain": [
       "<matplotlib.legend.Legend at 0x7fd41a7c58d0>"
      ]
     },
     "execution_count": 23,
     "metadata": {},
     "output_type": "execute_result"
    },
    {
     "data": {
      "image/png": "[encoded data removed]",
      "text/plain": [
       "<Figure size 640x480 with 1 Axes>"
      ]
     },
     "metadata": {},
     "output_type": "display_data"
    },
    {
     "data": {
      "image/png": "[encoded data removed]",
      "text/plain": [
       "<Figure size 640x480 with 1 Axes>"
      ]
     },
     "metadata": {},
     "output_type": "display_data"
    },
    {
     "data": {
      "image/png": "[encoded data removed]",
      "text/plain": [
       "<Figure size 640x480 with 1 Axes>"
      ]
     },
     "metadata": {},
     "output_type": "display_data"
    }
   ],
   "source": [
    "##### Step 6 - Use model to make predictions\n",
    "modelz = model_FFNN_256n_4n_0_48H\n",
    "x_training = x_train_old24_48_st\n",
    "y_training = y_train_old24_48\n",
    "x_test =  x_test_old24_48_st\n",
    "y_test = y_test_old24_48\n",
    "\n",
    "# Predict class labels on training data\n",
    "pred_labels_tr = (modelz.predict(x_training)> 0.5).astype(int)\n",
    "# Predict class labels on a test data\n",
    "pred_labels_te = (modelz.predict(x_test)> 0.5).astype(int)\n",
    "#> 0.01).astype(int)\n",
    "\n",
    "\n",
    "##### Step 7 - Model Performance Summary\n",
    "print(\"\")\n",
    "print('-------------------- Model Summary --------------------')\n",
    "modelz.summary() # print model summary\n",
    "print(\"\")\n",
    "print('-------------------- Weights and Biases --------------------')\n",
    "for layer in modelz.layers:\n",
    "    print(\"Layer: \", layer.name) # print layer name\n",
    "    \n",
    "print(\"\")\n",
    "print('---------- Evaluation on Training Data ----------')\n",
    "print(classification_report(y_training, pred_labels_tr))\n",
    "print(\"\")\n",
    "\n",
    "print('---------- Evaluation on Test Data ----------')\n",
    "print(classification_report(y_test, pred_labels_te))\n",
    "print(\"\")\n",
    "\n",
    "from sklearn.metrics import confusion_matrix\n",
    "import matplotlib.pyplot as plt\n",
    "\n",
    "from sklearn.metrics import ConfusionMatrixDisplay\n",
    "ConfusionMatrixDisplay(confusion_matrix(y_test, pred_labels_te)).plot(colorbar=False,cmap=plt.cm.Blues)\n",
    "ConfusionMatrixDisplay(confusion_matrix(y_test, pred_labels_te,normalize='true')).plot(colorbar=False,cmap=plt.cm.Blues)\n",
    "\n",
    "print('---------- ROC Curve----------')\n",
    "\n",
    "plt.figure(0).clf()\n",
    "\n",
    "\n",
    "fpr, tpr, _ = metrics.roc_curve(y_test, pred_labels_te)\n",
    "auc = round(metrics.roc_auc_score(y_test, pred_labels_te), 4)\n",
    "plt.plot(fpr,tpr,label=\"model_FFNN_256n_4n_0_48H, AUC=\"+str(auc))\n",
    "\n",
    "\n",
    "\n",
    "\n",
    "\n",
    "#add legend\n",
    "plt.legend()"
   ]
  },
  {
   "cell_type": "code",
   "execution_count": null,
   "id": "4cee819a",
   "metadata": {},
   "outputs": [],
   "source": [
    "model_FFNN_256n_4n_0_48H.save(os.path.join(\"data/model_FFNN_256n_4n_0_48H.h5\"))\n"
   ]
  }
 ],
 "metadata": {
  "kernelspec": {
   "display_name": "Python 3 (ipykernel)",
   "language": "python",
   "name": "python3"
  },
  "language_info": {
   "codemirror_mode": {
    "name": "ipython",
    "version": 3
   },
   "file_extension": ".py",
   "mimetype": "text/x-python",
   "name": "python",
   "nbconvert_exporter": "python",
   "pygments_lexer": "ipython3",
   "version": "3.10.6"
  }
 },
 "nbformat": 4,
 "nbformat_minor": 5
}
