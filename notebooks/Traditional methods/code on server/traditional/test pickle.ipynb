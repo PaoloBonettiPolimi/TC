{
 "cells": [
  {
   "cell_type": "code",
   "execution_count": 1,
   "id": "d533043a",
   "metadata": {},
   "outputs": [
    {
     "data": {
      "text/plain": [
       "[array([[643061,  44102],\n",
       "        [   155,   1084]]),\n",
       " array([[651033,  36130],\n",
       "        [   161,   1078]]),\n",
       " array([[658448,  28715],\n",
       "        [   197,   1042]]),\n",
       " array([[621339,  65824],\n",
       "        [   150,   1089]]),\n",
       " array([[634147,  53016],\n",
       "        [   128,   1111]]),\n",
       " array([[641326,  45837],\n",
       "        [   138,   1101]])]"
      ]
     },
     "execution_count": 1,
     "metadata": {},
     "output_type": "execute_result"
    }
   ],
   "source": [
    "import pickle\n",
    "file_name = \"confs_smotev2.pkl\"\n",
    "open_file = open(file_name, \"rb\")\n",
    "loaded_list_names = pickle.load(open_file)\n",
    "open_file.close()\n",
    "loaded_list_names"
   ]
  },
  {
   "cell_type": "code",
   "execution_count": 3,
   "id": "268fb0a1",
   "metadata": {},
   "outputs": [
    {
     "data": {
      "text/plain": [
       "list"
      ]
     },
     "execution_count": 3,
     "metadata": {},
     "output_type": "execute_result"
    }
   ],
   "source": [
    "type(loaded_list_names)"
   ]
  },
  {
   "cell_type": "code",
   "execution_count": null,
   "id": "b35a1c11",
   "metadata": {},
   "outputs": [],
   "source": []
  }
 ],
 "metadata": {
  "kernelspec": {
   "display_name": "Python 3 (ipykernel)",
   "language": "python",
   "name": "python3"
  },
  "language_info": {
   "codemirror_mode": {
    "name": "ipython",
    "version": 3
   },
   "file_extension": ".py",
   "mimetype": "text/x-python",
   "name": "python",
   "nbconvert_exporter": "python",
   "pygments_lexer": "ipython3",
   "version": "3.10.6"
  }
 },
 "nbformat": 4,
 "nbformat_minor": 5
}
