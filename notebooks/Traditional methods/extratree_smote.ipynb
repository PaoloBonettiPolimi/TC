{
 "cells": [
  {
   "cell_type": "code",
   "execution_count": 1,
   "id": "447d78c5",
   "metadata": {},
   "outputs": [
    {
     "name": "stdout",
     "output_type": "stream",
     "text": [
      "tensorflow version 2.9.1\n"
     ]
    }
   ],
   "source": [
    "import tensorflow as tf\n",
    "\n",
    "print(f'tensorflow version {tf.__version__}')\n",
    "\n",
    "from imblearn.over_sampling import SMOTE\n",
    "from collections import Counter\n",
    "from numpy import * \n",
    "\n",
    "import pandas as pd\n",
    "import io\n",
    "import requests\n",
    "import numpy as np\n",
    "from sklearn import metrics\n",
    "from sklearn.model_selection import train_test_split\n",
    "from tensorflow.keras.models import Sequential\n",
    "from tensorflow.keras.layers import Dense, Activation\n",
    "from tensorflow.keras.callbacks import EarlyStopping"
   ]
  },
  {
   "cell_type": "markdown",
   "id": "c5d4625e",
   "metadata": {},
   "source": [
    "# extract report smt\n",
    "\n"
   ]
  },
  {
   "cell_type": "code",
   "execution_count": 2,
   "id": "594f82cf",
   "metadata": {},
   "outputs": [
    {
     "name": "stdout",
     "output_type": "stream",
     "text": [
      "smt/names/names_smotev1.pkl\n",
      "--------done---------\n",
      "smt/names/names_smotev2.pkl\n",
      "--------done---------\n",
      "smt/confs/confs_smotev1.pkl\n",
      "--------done---------\n",
      "smt/confs/confs_smotev2.pkl\n",
      "--------done---------\n",
      "smt/result/results_smotev1.pkl\n",
      "--------done---------\n",
      "smt/result/results_smotev2.pkl\n",
      "--------done---------\n"
     ]
    }
   ],
   "source": [
    "import pickle\n",
    "import os\n",
    "\n",
    "name_smt = []\n",
    "confs_smt = []\n",
    "resutl_smt= []\n",
    "\n",
    "#extract names\n",
    "names_smt_path = 'smt/names'\n",
    "for root, dirs, files in os.walk(names_smt_path, topdown=False):\n",
    "    for name in files:\n",
    "        print(os.path.join(root, name))\n",
    "        file_name = os.path.join(root, name)\n",
    "        open_file = open(file_name, \"rb\")\n",
    "        loaded_list_names = pickle.load(open_file)\n",
    "        name_smt.append(loaded_list_names)\n",
    "        open_file.close()\n",
    "        print(\"--------done---------\")\n",
    "        \n",
    "#extract confs\n",
    "confs_smt_path = 'smt/confs'\n",
    "for root, dirs, files in os.walk(confs_smt_path, topdown=False):\n",
    "    for name in files:\n",
    "        print(os.path.join(root, name))\n",
    "        file_name = os.path.join(root, name)\n",
    "        open_file = open(file_name, \"rb\")\n",
    "        loaded_list_names = pickle.load(open_file)\n",
    "        confs_smt.append(loaded_list_names)\n",
    "        open_file.close()\n",
    "        print(\"--------done---------\")\n",
    "        \n",
    "        \n",
    "#extract result\n",
    "result_smt_path = 'smt/result'\n",
    "for root, dirs, files in os.walk(result_smt_path, topdown=False):\n",
    "    for name in files:\n",
    "        print(os.path.join(root, name))\n",
    "        file_name = os.path.join(root, name)\n",
    "        open_file = open(file_name, \"rb\")\n",
    "        loaded_list_names = pickle.load(open_file)\n",
    "        resutl_smt.append(loaded_list_names)\n",
    "        open_file.close()\n",
    "        print(\"--------done---------\")"
   ]
  },
  {
   "cell_type": "code",
   "execution_count": 3,
   "id": "8c768648",
   "metadata": {},
   "outputs": [],
   "source": [
    "list_name_smt = []\n",
    "\n",
    "for items in name_smt[0]:\n",
    "    list_name_smt.append(items)\n",
    "    \n",
    "for items in name_smt[1]:\n",
    "    list_name_smt.append(items)\n",
    "    \n",
    "list_confs_smt = []\n",
    "\n",
    "for items in confs_smt[0]:\n",
    "    list_confs_smt.append(items)\n",
    "    \n",
    "for items in confs_smt[1]:\n",
    "    list_confs_smt.append(items)\n",
    "    \n",
    "list_results_smt = []\n",
    "\n",
    "for items in resutl_smt[0]:\n",
    "    list_results_smt.append(items)\n",
    "    \n",
    "for items in resutl_smt[1]:\n",
    "    list_results_smt.append(items)"
   ]
  },
  {
   "cell_type": "code",
   "execution_count": 4,
   "id": "c2a2ddb9",
   "metadata": {},
   "outputs": [
    {
     "data": {
      "text/plain": [
       "72"
      ]
     },
     "execution_count": 4,
     "metadata": {},
     "output_type": "execute_result"
    }
   ],
   "source": [
    "len(list_results_smt)"
   ]
  },
  {
   "cell_type": "code",
   "execution_count": 5,
   "id": "a4488d02",
   "metadata": {},
   "outputs": [],
   "source": [
    "import numpy as np\n",
    "\n",
    "matrix_smt = [[j for j in range(3)] for i in range(72)]"
   ]
  },
  {
   "cell_type": "code",
   "execution_count": 6,
   "id": "01fc04d1",
   "metadata": {},
   "outputs": [],
   "source": [
    "for i in range(0,72):\n",
    "    matrix_smt[i][0]= list_name_smt[i]\n",
    "    matrix_smt[i][1]= list_confs_smt[i]\n",
    "    matrix_smt[i][2]= list_results_smt[i]\n",
    "    \n",
    "lns = list_name_smt\n",
    "lcs = list_confs_smt\n",
    "lrs = list_results_smt"
   ]
  },
  {
   "cell_type": "code",
   "execution_count": 8,
   "id": "98452032",
   "metadata": {},
   "outputs": [
    {
     "data": {
      "text/plain": [
       "34"
      ]
     },
     "execution_count": 8,
     "metadata": {},
     "output_type": "execute_result"
    }
   ],
   "source": [
    "lrs.index(0.3259891016865443)"
   ]
  },
  {
   "cell_type": "code",
   "execution_count": 9,
   "id": "d1344a39",
   "metadata": {},
   "outputs": [
    {
     "data": {
      "text/plain": [
       "['200trees_5000leafSamples_sqrtmaxFeat',\n",
       " array([[606559,  80604],\n",
       "        [   154,   1085]]),\n",
       " 0.3977916243898117]"
      ]
     },
     "execution_count": 9,
     "metadata": {},
     "output_type": "execute_result"
    }
   ],
   "source": [
    "matrix_smt[69]"
   ]
  },
  {
   "cell_type": "code",
   "execution_count": 10,
   "id": "78e83d4b",
   "metadata": {},
   "outputs": [
    {
     "data": {
      "text/plain": [
       "['50trees_5000leafSamples_sqrtmaxFeat',\n",
       " array([[617753,  69410],\n",
       "        [   150,   1089]]),\n",
       " 0.3883584644404014]"
      ]
     },
     "execution_count": 10,
     "metadata": {},
     "output_type": "execute_result"
    }
   ],
   "source": [
    "matrix_smt[45]"
   ]
  },
  {
   "cell_type": "code",
   "execution_count": 11,
   "id": "37c93e3f",
   "metadata": {},
   "outputs": [
    {
     "data": {
      "text/plain": [
       "['100trees_5000leafSamples_sqrtmaxFeat',\n",
       " array([[604893,  82270],\n",
       "        [   153,   1086]]),\n",
       " 0.3856519580387136]"
      ]
     },
     "execution_count": 11,
     "metadata": {},
     "output_type": "execute_result"
    }
   ],
   "source": [
    "matrix_smt[57]"
   ]
  },
  {
   "cell_type": "code",
   "execution_count": 12,
   "id": "3f12cfb5",
   "metadata": {},
   "outputs": [
    {
     "data": {
      "text/plain": [
       "['10trees_5000leafSamples_sqrtmaxFeat',\n",
       " array([[612170,  74993],\n",
       "        [   168,   1071]]),\n",
       " 0.3613630076806684]"
      ]
     },
     "execution_count": 12,
     "metadata": {},
     "output_type": "execute_result"
    }
   ],
   "source": [
    "matrix_smt[33]"
   ]
  },
  {
   "cell_type": "code",
   "execution_count": 13,
   "id": "ba255a7e",
   "metadata": {},
   "outputs": [
    {
     "data": {
      "text/plain": [
       "['10trees_1000leafSamples_sqrtmaxFeat',\n",
       " array([[606577,  80586],\n",
       "        [   129,   1110]]),\n",
       " 0.3292985128488076]"
      ]
     },
     "execution_count": 13,
     "metadata": {},
     "output_type": "execute_result"
    }
   ],
   "source": [
    "matrix_smt[30]"
   ]
  },
  {
   "cell_type": "code",
   "execution_count": 14,
   "id": "26a66d59",
   "metadata": {},
   "outputs": [
    {
     "data": {
      "text/plain": [
       "['50trees_1000leafSamples_sqrtmaxFeat',\n",
       " array([[623945,  63218],\n",
       "        [   149,   1090]]),\n",
       " 0.3272771006762833]"
      ]
     },
     "execution_count": 14,
     "metadata": {},
     "output_type": "execute_result"
    }
   ],
   "source": [
    "matrix_smt[42]"
   ]
  },
  {
   "cell_type": "code",
   "execution_count": 15,
   "id": "c59206c3",
   "metadata": {},
   "outputs": [
    {
     "data": {
      "text/plain": [
       "['10trees_5000leafSamples_log2maxFeat',\n",
       " array([[614938,  72225],\n",
       "        [   155,   1084]]),\n",
       " 0.3259891016865443]"
      ]
     },
     "execution_count": 15,
     "metadata": {},
     "output_type": "execute_result"
    }
   ],
   "source": [
    "matrix_smt[34]"
   ]
  },
  {
   "cell_type": "markdown",
   "id": "9dfaf967",
   "metadata": {},
   "source": [
    "# import data and Smote\n"
   ]
  },
  {
   "cell_type": "code",
   "execution_count": 16,
   "id": "f011d25b",
   "metadata": {},
   "outputs": [],
   "source": [
    "def dataLoadSm():\n",
    "    test = pd.read_csv('Real_Tomorrow/test_real_tom_target.csv')\n",
    "    train = pd.read_csv('Real_Tomorrow/training_real_tom_target.csv')\n",
    "    val = pd.read_csv('Real_Tomorrow/validation_real_tom_target.csv')\n",
    "    print(train.head())\n",
    "    \n",
    "    #Split data\n",
    "    x_train = train[[ 'vo', 'r', 'u_200', 'u_850', 'v_200','v_850', 'ttr','sst']]\n",
    "    print (\"******training features******\")\n",
    "    print (x_train)\n",
    "    y_train = train[['Real_tom_lsm']]\n",
    "    print (\"******training target******\")\n",
    "    print (y_train)\n",
    "    \n",
    "    x_test = test[[ 'vo', 'r', 'u_200', 'u_850', 'v_200','v_850', 'ttr','sst']]\n",
    "    print (\"******test features******\")\n",
    "    print (x_test)\n",
    "    y_test = test[['Real_tom_lsm']]\n",
    "    print (\"******test target******\")\n",
    "    print (y_test)\n",
    "    \n",
    "    x_val = val[[ 'vo', 'r', 'u_200', 'u_850', 'v_200','v_850', 'ttr','sst']]\n",
    "    print (\"******validation features******\")\n",
    "    print (x_val)\n",
    "    y_val = val[['Real_tom_lsm']]\n",
    "    print (\"******validation target******\")\n",
    "    print (y_val)\n",
    "    \n",
    "    print('Before Smote')\n",
    "\n",
    "    dff = y_train\n",
    "    M = y_train.to_numpy()\n",
    "    # summarize dataset\n",
    "    classes = unique(M)\n",
    "    print(classes)\n",
    "    total = len(M)\n",
    "    for c in classes:\n",
    "        n_examples = len(M[M==c])\n",
    "        percent = n_examples / total * 100\n",
    "        print('> Class=%d : %d/%d (%.1f%%)' % (c, n_examples, total, percent))\n",
    "    \n",
    "    \n",
    "    smt = SMOTE()\n",
    "    \n",
    "    X_train_sm, Y_train_sm = smt.fit_resample(x_train, y_train)\n",
    "    \n",
    "    print('After SMOTE')\n",
    "    dff = Y_train_sm\n",
    "    M = Y_train_sm.to_numpy()\n",
    "    # summarize dataset\n",
    "    classes = unique(M)\n",
    "    print(classes)\n",
    "    total = len(M)\n",
    "    for c in classes:\n",
    "        n_examples = len(M[M==c])\n",
    "        percent = n_examples / total * 100\n",
    "        print('> Class=%d : %d/%d (%.1f%%)' % (c, n_examples, total, percent))\n",
    "        \n",
    "    return X_train_sm, Y_train_sm, x_val, y_val, x_test, y_test"
   ]
  },
  {
   "cell_type": "code",
   "execution_count": 17,
   "id": "3d4ef1e3",
   "metadata": {},
   "outputs": [
    {
     "name": "stdout",
     "output_type": "stream",
     "text": [
      "   Unnamed: 0        time  latitude  longitude        vo          r     u_200  \\\n",
      "0           0  1980-01-01       0.0       20.0  0.000007  80.761185  1.909660   \n",
      "1           1  1980-01-01       0.0       22.5  0.000004  80.703650  1.165733   \n",
      "2           2  1980-01-01       0.0       25.0  0.000007  78.231514 -1.311676   \n",
      "3           3  1980-01-01       0.0       27.5  0.000010  79.631010 -3.777573   \n",
      "4           4  1980-01-01       0.0       30.0  0.000010  71.573875 -5.734505   \n",
      "\n",
      "      u_850     v_200     v_850        ttr  sst  lsm  Real_tom_lsm  \n",
      "0 -3.323872  1.687164 -1.823624 -247.54074  0.0  0.0           0.0  \n",
      "1 -2.844494  1.060593 -1.991425 -240.00592  0.0  0.0           0.0  \n",
      "2 -2.125244  3.280617 -1.931789 -223.76889  0.0  0.0           0.0  \n",
      "3 -1.122395  5.743889 -1.243538 -235.55556  0.0  0.0           0.0  \n",
      "4 -1.362953  6.514030 -0.954163 -254.03260  0.0  0.0           0.0  \n",
      "******training features******\n",
      "               vo          r      u_200     u_850      v_200     v_850  \\\n",
      "0        0.000007  80.761185   1.909660 -3.323872   1.687164 -1.823624   \n",
      "1        0.000004  80.703650   1.165733 -2.844494   1.060593 -1.991425   \n",
      "2        0.000007  78.231514  -1.311676 -2.125244   3.280617 -1.931789   \n",
      "3        0.000010  79.631010  -3.777573 -1.122395   5.743889 -1.243538   \n",
      "4        0.000010  71.573875  -5.734505 -1.362953   6.514030 -0.954163   \n",
      "...           ...        ...        ...       ...        ...       ...   \n",
      "4268766  0.000015  26.797535  25.075424 -3.653679  -1.221291  1.515594   \n",
      "4268767 -0.000006  27.766910  24.175919 -2.866638  -6.724304  0.861771   \n",
      "4268768  0.000010  29.111805  24.655510 -2.809170 -10.138817  0.051220   \n",
      "4268769  0.000006  27.833050  25.088104 -2.730087 -11.036507  0.666927   \n",
      "4268770  0.000007  15.843884  24.510345 -3.213837 -10.213325 -0.098499   \n",
      "\n",
      "               ttr        sst  \n",
      "0       -247.54074    0.00000  \n",
      "1       -240.00592    0.00000  \n",
      "2       -223.76889    0.00000  \n",
      "3       -235.55556    0.00000  \n",
      "4       -254.03260    0.00000  \n",
      "...            ...        ...  \n",
      "4268766 -273.34204  296.89227  \n",
      "4268767 -280.37018  296.03314  \n",
      "4268768 -281.05167  295.36078  \n",
      "4268769 -280.05610  295.10638  \n",
      "4268770 -279.40427  294.44766  \n",
      "\n",
      "[4268771 rows x 8 columns]\n",
      "******training target******\n",
      "         Real_tom_lsm\n",
      "0                 0.0\n",
      "1                 0.0\n",
      "2                 0.0\n",
      "3                 0.0\n",
      "4                 0.0\n",
      "...               ...\n",
      "4268766           0.0\n",
      "4268767           0.0\n",
      "4268768           0.0\n",
      "4268769           0.0\n",
      "4268770           0.0\n",
      "\n",
      "[4268771 rows x 1 columns]\n",
      "******test features******\n",
      "              vo          r      u_200     u_850      v_200     v_850  \\\n",
      "0       0.000011  80.796135  -2.052292  0.008678   4.996910 -1.678764   \n",
      "1       0.000011  77.748420  -4.445312  0.740505   7.517281  0.792618   \n",
      "2      -0.000001  71.178825  -3.778427  1.056324   9.333221  0.688252   \n",
      "3      -0.000005  73.585754  -4.695709  1.236446   9.589882  0.555519   \n",
      "4      -0.000016  72.382780  -4.002563  0.734211   5.410950 -1.086350   \n",
      "...          ...        ...        ...       ...        ...       ...   \n",
      "539482  0.000006   2.637233  33.277840  5.379345  -0.286896  5.558327   \n",
      "539483 -0.000020  23.660923  34.272537  6.438683 -13.026535  2.857349   \n",
      "539484 -0.000019  46.051540  35.755882  7.248966 -18.870102 -3.349407   \n",
      "539485 -0.000014  55.855648  34.069664  6.349327 -18.801796 -8.172478   \n",
      "539486  0.000006  61.602300  29.167267  4.805676 -15.093590 -9.708778   \n",
      "\n",
      "              ttr        sst  \n",
      "0      -272.04962    0.00000  \n",
      "1      -250.63333    0.00000  \n",
      "2      -229.52519    0.00000  \n",
      "3      -240.80815    0.00000  \n",
      "4      -262.45557    0.00000  \n",
      "...           ...        ...  \n",
      "539482 -277.60870  294.14987  \n",
      "539483 -270.80573  294.23798  \n",
      "539484 -249.43092  294.26890  \n",
      "539485 -239.36870  294.36630  \n",
      "539486 -251.60574  293.74924  \n",
      "\n",
      "[539487 rows x 8 columns]\n",
      "******test target******\n",
      "        Real_tom_lsm\n",
      "0                0.0\n",
      "1                0.0\n",
      "2                0.0\n",
      "3                0.0\n",
      "4                0.0\n",
      "...              ...\n",
      "539482           0.0\n",
      "539483           0.0\n",
      "539484           0.0\n",
      "539485           0.0\n",
      "539486           0.0\n",
      "\n",
      "[539487 rows x 1 columns]\n",
      "******validation features******\n",
      "              vo          r      u_200     u_850     v_200     v_850  \\\n",
      "0       0.000003  73.016390  -5.760780 -4.216808  6.860649 -4.352928   \n",
      "1       0.000003  74.569660  -4.942451 -3.857407  6.459419 -3.991157   \n",
      "2       0.000004  80.080090  -3.848740 -3.175144  6.303680 -3.446140   \n",
      "3       0.000012  83.676704   0.330811 -2.526569  7.235268 -2.307594   \n",
      "4       0.000011  76.225440   3.678749 -1.027561  7.020271 -0.077572   \n",
      "...          ...        ...        ...       ...       ...       ...   \n",
      "688397  0.000014  70.662056  23.560066  1.655861  9.690376  3.621418   \n",
      "688398 -0.000006  51.213654  22.381706  0.321705  9.860390 -0.099480   \n",
      "688399  0.000009  46.678970  22.464828  0.851299  7.661758 -0.725330   \n",
      "688400  0.000002  59.362090  22.364807  0.543045  5.595253 -1.542034   \n",
      "688401  0.000014  65.915980  23.052147  0.048565  1.080147 -1.203087   \n",
      "\n",
      "              ttr        sst  \n",
      "0      -212.59741    0.00000  \n",
      "1      -198.23593    0.00000  \n",
      "2      -195.83296    0.00000  \n",
      "3      -191.47444    0.00000  \n",
      "4      -191.98111    0.00000  \n",
      "...           ...        ...  \n",
      "688397 -271.57556  296.77530  \n",
      "688398 -269.94592  296.44290  \n",
      "688399 -270.18890  295.73486  \n",
      "688400 -264.07333  295.24792  \n",
      "688401 -259.79480  295.79680  \n",
      "\n",
      "[688402 rows x 8 columns]\n",
      "******validation target******\n",
      "        Real_tom_lsm\n",
      "0                0.0\n",
      "1                0.0\n",
      "2                0.0\n",
      "3                0.0\n",
      "4                0.0\n",
      "...              ...\n",
      "688397           0.0\n",
      "688398           0.0\n",
      "688399           0.0\n",
      "688400           0.0\n",
      "688401           0.0\n",
      "\n",
      "[688402 rows x 1 columns]\n",
      "Before Smote\n",
      "[0. 1.]\n",
      "> Class=0 : 4260067/4268771 (99.8%)\n",
      "> Class=1 : 8704/4268771 (0.2%)\n",
      "After SMOTE\n",
      "[0. 1.]\n",
      "> Class=0 : 4260067/8520134 (50.0%)\n",
      "> Class=1 : 4260067/8520134 (50.0%)\n"
     ]
    }
   ],
   "source": [
    "x_train_sm, y_train_sm, x_val, y_val, x_test, y_test = dataLoadSm()\n"
   ]
  },
  {
   "cell_type": "code",
   "execution_count": 21,
   "id": "68523686",
   "metadata": {},
   "outputs": [],
   "source": [
    "def dataLoadSm_train_val():\n",
    "    test = pd.read_csv('Real_Tomorrow/test_real_tom_target.csv')\n",
    "    train = pd.read_csv('Real_Tomorrow/training_real_tom_target.csv')\n",
    "    val = pd.read_csv('Real_Tomorrow/validation_real_tom_target.csv')\n",
    "    train = train.append(val)\n",
    "    train = train.drop(columns=['Unnamed: 0'])\n",
    "    print(train.head())\n",
    "    print(train.shape)\n",
    "    \n",
    "    #Split data\n",
    "    x_train = train[[ 'vo', 'r', 'u_200', 'u_850', 'v_200','v_850', 'ttr','sst']]\n",
    "    print (\"******training features******\")\n",
    "    print (x_train)\n",
    "    y_train = train[['Real_tom_lsm']]\n",
    "    print (\"******training target******\")\n",
    "    print (y_train)\n",
    "    \n",
    "    x_test = test[[ 'vo', 'r', 'u_200', 'u_850', 'v_200','v_850', 'ttr','sst']]\n",
    "    print (\"******test features******\")\n",
    "    print (x_test)\n",
    "    y_test = test[['Real_tom_lsm']]\n",
    "    print (\"******test target******\")\n",
    "    print (y_test)\n",
    "    \n",
    "    x_val = val[[ 'vo', 'r', 'u_200', 'u_850', 'v_200','v_850', 'ttr','sst']]\n",
    "    print (\"******validation features******\")\n",
    "    print (x_val)\n",
    "    y_val = val[['Real_tom_lsm']]\n",
    "    print (\"******validation target******\")\n",
    "    print (y_val)\n",
    "    \n",
    "    print('Before Smote')\n",
    "\n",
    "    dff = y_train\n",
    "    M = y_train.to_numpy()\n",
    "    # summarize dataset\n",
    "    classes = unique(M)\n",
    "    print(classes)\n",
    "    total = len(M)\n",
    "    for c in classes:\n",
    "        n_examples = len(M[M==c])\n",
    "        percent = n_examples / total * 100\n",
    "        print('> Class=%d : %d/%d (%.1f%%)' % (c, n_examples, total, percent))\n",
    "    \n",
    "    \n",
    "    smt = SMOTE()\n",
    "    \n",
    "    X_train_sm, Y_train_sm = smt.fit_resample(x_train, y_train)\n",
    "    \n",
    "    print('After SMOTE')\n",
    "    dff = Y_train_sm\n",
    "    M = Y_train_sm.to_numpy()\n",
    "    # summarize dataset\n",
    "    classes = unique(M)\n",
    "    print(classes)\n",
    "    total = len(M)\n",
    "    for c in classes:\n",
    "        n_examples = len(M[M==c])\n",
    "        percent = n_examples / total * 100\n",
    "        print('> Class=%d : %d/%d (%.1f%%)' % (c, n_examples, total, percent))\n",
    "        \n",
    "    return X_train_sm, Y_train_sm, x_val, y_val, x_test, y_test"
   ]
  },
  {
   "cell_type": "code",
   "execution_count": 22,
   "id": "0a4351fe",
   "metadata": {},
   "outputs": [
    {
     "name": "stderr",
     "output_type": "stream",
     "text": [
      "/var/folders/6l/2k5dphhj4z30f5zpqx44561c0000gn/T/ipykernel_1669/3457107725.py:5: FutureWarning: The frame.append method is deprecated and will be removed from pandas in a future version. Use pandas.concat instead.\n",
      "  train = train.append(val)\n"
     ]
    },
    {
     "name": "stdout",
     "output_type": "stream",
     "text": [
      "         time  latitude  longitude        vo          r     u_200     u_850  \\\n",
      "0  1980-01-01       0.0       20.0  0.000007  80.761185  1.909660 -3.323872   \n",
      "1  1980-01-01       0.0       22.5  0.000004  80.703650  1.165733 -2.844494   \n",
      "2  1980-01-01       0.0       25.0  0.000007  78.231514 -1.311676 -2.125244   \n",
      "3  1980-01-01       0.0       27.5  0.000010  79.631010 -3.777573 -1.122395   \n",
      "4  1980-01-01       0.0       30.0  0.000010  71.573875 -5.734505 -1.362953   \n",
      "\n",
      "      v_200     v_850        ttr  sst  lsm  Real_tom_lsm  \n",
      "0  1.687164 -1.823624 -247.54074  0.0  0.0           0.0  \n",
      "1  1.060593 -1.991425 -240.00592  0.0  0.0           0.0  \n",
      "2  3.280617 -1.931789 -223.76889  0.0  0.0           0.0  \n",
      "3  5.743889 -1.243538 -235.55556  0.0  0.0           0.0  \n",
      "4  6.514030 -0.954163 -254.03260  0.0  0.0           0.0  \n",
      "(4957173, 13)\n",
      "******training features******\n",
      "              vo          r      u_200     u_850     v_200     v_850  \\\n",
      "0       0.000007  80.761185   1.909660 -3.323872  1.687164 -1.823624   \n",
      "1       0.000004  80.703650   1.165733 -2.844494  1.060593 -1.991425   \n",
      "2       0.000007  78.231514  -1.311676 -2.125244  3.280617 -1.931789   \n",
      "3       0.000010  79.631010  -3.777573 -1.122395  5.743889 -1.243538   \n",
      "4       0.000010  71.573875  -5.734505 -1.362953  6.514030 -0.954163   \n",
      "...          ...        ...        ...       ...       ...       ...   \n",
      "688397  0.000014  70.662056  23.560066  1.655861  9.690376  3.621418   \n",
      "688398 -0.000006  51.213654  22.381706  0.321705  9.860390 -0.099480   \n",
      "688399  0.000009  46.678970  22.464828  0.851299  7.661758 -0.725330   \n",
      "688400  0.000002  59.362090  22.364807  0.543045  5.595253 -1.542034   \n",
      "688401  0.000014  65.915980  23.052147  0.048565  1.080147 -1.203087   \n",
      "\n",
      "              ttr        sst  \n",
      "0      -247.54074    0.00000  \n",
      "1      -240.00592    0.00000  \n",
      "2      -223.76889    0.00000  \n",
      "3      -235.55556    0.00000  \n",
      "4      -254.03260    0.00000  \n",
      "...           ...        ...  \n",
      "688397 -271.57556  296.77530  \n",
      "688398 -269.94592  296.44290  \n",
      "688399 -270.18890  295.73486  \n",
      "688400 -264.07333  295.24792  \n",
      "688401 -259.79480  295.79680  \n",
      "\n",
      "[4957173 rows x 8 columns]\n",
      "******training target******\n",
      "        Real_tom_lsm\n",
      "0                0.0\n",
      "1                0.0\n",
      "2                0.0\n",
      "3                0.0\n",
      "4                0.0\n",
      "...              ...\n",
      "688397           0.0\n",
      "688398           0.0\n",
      "688399           0.0\n",
      "688400           0.0\n",
      "688401           0.0\n",
      "\n",
      "[4957173 rows x 1 columns]\n",
      "******test features******\n",
      "              vo          r      u_200     u_850      v_200     v_850  \\\n",
      "0       0.000011  80.796135  -2.052292  0.008678   4.996910 -1.678764   \n",
      "1       0.000011  77.748420  -4.445312  0.740505   7.517281  0.792618   \n",
      "2      -0.000001  71.178825  -3.778427  1.056324   9.333221  0.688252   \n",
      "3      -0.000005  73.585754  -4.695709  1.236446   9.589882  0.555519   \n",
      "4      -0.000016  72.382780  -4.002563  0.734211   5.410950 -1.086350   \n",
      "...          ...        ...        ...       ...        ...       ...   \n",
      "539482  0.000006   2.637233  33.277840  5.379345  -0.286896  5.558327   \n",
      "539483 -0.000020  23.660923  34.272537  6.438683 -13.026535  2.857349   \n",
      "539484 -0.000019  46.051540  35.755882  7.248966 -18.870102 -3.349407   \n",
      "539485 -0.000014  55.855648  34.069664  6.349327 -18.801796 -8.172478   \n",
      "539486  0.000006  61.602300  29.167267  4.805676 -15.093590 -9.708778   \n",
      "\n",
      "              ttr        sst  \n",
      "0      -272.04962    0.00000  \n",
      "1      -250.63333    0.00000  \n",
      "2      -229.52519    0.00000  \n",
      "3      -240.80815    0.00000  \n",
      "4      -262.45557    0.00000  \n",
      "...           ...        ...  \n",
      "539482 -277.60870  294.14987  \n",
      "539483 -270.80573  294.23798  \n",
      "539484 -249.43092  294.26890  \n",
      "539485 -239.36870  294.36630  \n",
      "539486 -251.60574  293.74924  \n",
      "\n",
      "[539487 rows x 8 columns]\n",
      "******test target******\n",
      "        Real_tom_lsm\n",
      "0                0.0\n",
      "1                0.0\n",
      "2                0.0\n",
      "3                0.0\n",
      "4                0.0\n",
      "...              ...\n",
      "539482           0.0\n",
      "539483           0.0\n",
      "539484           0.0\n",
      "539485           0.0\n",
      "539486           0.0\n",
      "\n",
      "[539487 rows x 1 columns]\n",
      "******validation features******\n",
      "              vo          r      u_200     u_850     v_200     v_850  \\\n",
      "0       0.000003  73.016390  -5.760780 -4.216808  6.860649 -4.352928   \n",
      "1       0.000003  74.569660  -4.942451 -3.857407  6.459419 -3.991157   \n",
      "2       0.000004  80.080090  -3.848740 -3.175144  6.303680 -3.446140   \n",
      "3       0.000012  83.676704   0.330811 -2.526569  7.235268 -2.307594   \n",
      "4       0.000011  76.225440   3.678749 -1.027561  7.020271 -0.077572   \n",
      "...          ...        ...        ...       ...       ...       ...   \n",
      "688397  0.000014  70.662056  23.560066  1.655861  9.690376  3.621418   \n",
      "688398 -0.000006  51.213654  22.381706  0.321705  9.860390 -0.099480   \n",
      "688399  0.000009  46.678970  22.464828  0.851299  7.661758 -0.725330   \n",
      "688400  0.000002  59.362090  22.364807  0.543045  5.595253 -1.542034   \n",
      "688401  0.000014  65.915980  23.052147  0.048565  1.080147 -1.203087   \n",
      "\n",
      "              ttr        sst  \n",
      "0      -212.59741    0.00000  \n",
      "1      -198.23593    0.00000  \n",
      "2      -195.83296    0.00000  \n",
      "3      -191.47444    0.00000  \n",
      "4      -191.98111    0.00000  \n",
      "...           ...        ...  \n",
      "688397 -271.57556  296.77530  \n",
      "688398 -269.94592  296.44290  \n",
      "688399 -270.18890  295.73486  \n",
      "688400 -264.07333  295.24792  \n",
      "688401 -259.79480  295.79680  \n",
      "\n",
      "[688402 rows x 8 columns]\n",
      "******validation target******\n",
      "        Real_tom_lsm\n",
      "0                0.0\n",
      "1                0.0\n",
      "2                0.0\n",
      "3                0.0\n",
      "4                0.0\n",
      "...              ...\n",
      "688397           0.0\n",
      "688398           0.0\n",
      "688399           0.0\n",
      "688400           0.0\n",
      "688401           0.0\n",
      "\n",
      "[688402 rows x 1 columns]\n",
      "Before Smote\n",
      "[0. 1.]\n",
      "> Class=0 : 4947230/4957173 (99.8%)\n",
      "> Class=1 : 9943/4957173 (0.2%)\n",
      "After SMOTE\n",
      "[0. 1.]\n",
      "> Class=0 : 4947230/9894460 (50.0%)\n",
      "> Class=1 : 4947230/9894460 (50.0%)\n"
     ]
    }
   ],
   "source": [
    "x_train_sm_tv, y_train_sm_tv, x_val_tv, y_val_tv, x_test_tv, y_test_tv = dataLoadSm_train_val()\n"
   ]
  },
  {
   "cell_type": "markdown",
   "id": "271ad735",
   "metadata": {},
   "source": [
    "# Standardization"
   ]
  },
  {
   "cell_type": "code",
   "execution_count": 18,
   "id": "9c7b25d6",
   "metadata": {},
   "outputs": [],
   "source": [
    "from sklearn.preprocessing import StandardScaler\n",
    "scaler = StandardScaler()\n",
    "\n",
    "#scaled_x_training = scaler.fit_transform(x_training)\n",
    "#df = pd.DataFrame(StandardScaler().fit_transform(x_training))\n",
    "def standard(x_train,x_val,x_test):\n",
    "    X_train_stand = x_train #smote\n",
    "    X_valid_stand = x_val #smote\n",
    "    X_test_stand = x_test #smote\n",
    "\n",
    "\n",
    "\n",
    "    num_cols = [ 'vo', 'r', 'u_200', 'u_850', 'v_200','v_850', 'ttr','sst']\n",
    "\n",
    "    # apply standardization on numerical features\n",
    "    for i in num_cols:\n",
    "\n",
    "        # fit on training data column\n",
    "        scale = StandardScaler().fit(X_train_stand[[i]])\n",
    "\n",
    "        # transform the training data column\n",
    "        X_train_stand[i] = scale.transform(X_train_stand[[i]])\n",
    "\n",
    "        # transform the training data column\n",
    "        X_valid_stand[i] = scale.transform(X_valid_stand[[i]])   \n",
    "\n",
    "        # transform the testing data column\n",
    "        X_test_stand[i] = scale.transform(X_test_stand[[i]])\n",
    "    \n",
    "    return X_train_stand,X_valid_stand,X_test_stand\n"
   ]
  },
  {
   "cell_type": "code",
   "execution_count": 24,
   "id": "7007c39d",
   "metadata": {},
   "outputs": [],
   "source": [
    "X_train_stand,X_valid_stand,X_test_stand =  standard(x_train_sm,x_val,x_test)"
   ]
  },
  {
   "cell_type": "code",
   "execution_count": 26,
   "id": "8b2bb754",
   "metadata": {},
   "outputs": [],
   "source": [
    "X_train_stand_tv,X_valid_stand_tv,X_test_stand_tv =  standard(x_train_sm_tv,x_val_tv,x_test_tv)"
   ]
  },
  {
   "cell_type": "markdown",
   "id": "d503ca7b",
   "metadata": {},
   "source": [
    "# ExtraTreesClassifier"
   ]
  },
  {
   "cell_type": "code",
   "execution_count": 19,
   "id": "aad6569f",
   "metadata": {},
   "outputs": [],
   "source": [
    "from sklearn.ensemble import ExtraTreesClassifier\n",
    "from sklearn.metrics import log_loss\n",
    "%matplotlib inline\n",
    "import matplotlib.pyplot as plt\n",
    "from sklearn.metrics import roc_curve, auc\n",
    "from sklearn.metrics import confusion_matrix"
   ]
  },
  {
   "cell_type": "code",
   "execution_count": 20,
   "id": "9a4388ac",
   "metadata": {},
   "outputs": [],
   "source": [
    "def plot_roc(pred,y):\n",
    "    fpr, tpr, _ = roc_curve(y, pred)\n",
    "    roc_auc = auc(fpr, tpr)\n",
    "\n",
    "    plt.figure()\n",
    "    plt.plot(fpr, tpr, label='ROC curve (area = %0.2f)' % roc_auc)\n",
    "    plt.plot([0, 1], [0, 1], 'k--')\n",
    "    plt.xlim([0.0, 1.0])\n",
    "    plt.ylim([0.0, 1.05])\n",
    "    plt.xlabel('False Positive Rate')\n",
    "    plt.ylabel('True Positive Rate')\n",
    "    plt.title('Receiver Operating Characteristic (ROC)')\n",
    "    plt.legend(loc=\"lower right\")\n",
    "    plt.show()\n",
    "    \n",
    "def eval_model(model,x_train, y_train, x_test, y_test, n_tree, min_sam_leaf, max_feature):\n",
    "    if model=='smt':\n",
    "        print(\"---------------model with n_trees: {}\".format(n_tree), \", min_samples_leaf: {}\".format(min_sam_leaf),\", max_features: {}\".format(max_feature) )\n",
    "        clf = ExtraTreesClassifier(criterion='log_loss', n_estimators = n_tree, min_samples_leaf= min_sam_leaf, max_features = max_feature)\n",
    "        clf.fit(x_train, y_train.values.reshape(-1,))\n",
    "        score = log_loss(y_test.values.reshape(-1,), clf.predict_proba(x_test))\n",
    "        confs = confusion_matrix(y_test.values.reshape(-1,), np.round(clf.predict(x_test)))\n",
    "        print(\"################ evaluation ################\")\n",
    "        print(\"------------------------------ score: {}\".format(score))\n",
    "        print(\"------------------------------ confusion matrix: \") \n",
    "        print(confs)\n",
    "        preds = clf.predict(x_test)\n",
    "        plot_roc(preds,y_test)"
   ]
  },
  {
   "cell_type": "code",
   "execution_count": 25,
   "id": "2cfed3f0",
   "metadata": {},
   "outputs": [
    {
     "name": "stdout",
     "output_type": "stream",
     "text": [
      "---------------model with n_trees: 50 , min_samples_leaf: 500 , max_features: sqrt\n",
      "################ evaluation ################\n",
      "------------------------------ score: 0.29406834694869816\n",
      "------------------------------ confusion matrix: \n",
      "[[627758  59405]\n",
      " [   139   1100]]\n"
     ]
    },
    {
     "data": {
      "image/png": "[encoded data removed]",
      "text/plain": [
       "<Figure size 640x480 with 1 Axes>"
      ]
     },
     "metadata": {},
     "output_type": "display_data"
    }
   ],
   "source": [
    "eval_model('smt', X_train_stand,y_train_sm, X_valid_stand, y_val, 50, 500, 'sqrt')"
   ]
  },
  {
   "cell_type": "code",
   "execution_count": 27,
   "id": "09e171b4",
   "metadata": {},
   "outputs": [
    {
     "name": "stdout",
     "output_type": "stream",
     "text": [
      "---------------model with n_trees: 50 , min_samples_leaf: 500 , max_features: sqrt\n",
      "################ evaluation ################\n",
      "------------------------------ score: 0.2980404831560255\n",
      "------------------------------ confusion matrix: \n",
      "[[491099  47339]\n",
      " [    89    960]]\n"
     ]
    },
    {
     "data": {
      "image/png": "[encoded data removed]",
      "text/plain": [
       "<Figure size 640x480 with 1 Axes>"
      ]
     },
     "metadata": {},
     "output_type": "display_data"
    }
   ],
   "source": [
    "eval_model('smt', X_train_stand,y_train_sm, X_test_stand, y_test, 50, 500, 'sqrt')"
   ]
  },
  {
   "cell_type": "code",
   "execution_count": 28,
   "id": "da14f39f",
   "metadata": {},
   "outputs": [
    {
     "name": "stdout",
     "output_type": "stream",
     "text": [
      "---------------model with n_trees: 50 , min_samples_leaf: 500 , max_features: sqrt\n",
      "################ evaluation ################\n",
      "------------------------------ score: 0.29070322134620685\n",
      "------------------------------ confusion matrix: \n",
      "[[494014  44424]\n",
      " [    80    969]]\n"
     ]
    },
    {
     "data": {
      "image/png": "[encoded data removed]",
      "text/plain": [
       "<Figure size 640x480 with 1 Axes>"
      ]
     },
     "metadata": {},
     "output_type": "display_data"
    }
   ],
   "source": [
    "eval_model('smt', X_train_stand_tv,y_train_sm_tv, X_test_stand_tv, y_test_tv, 50, 500, 'sqrt')"
   ]
  }
 ],
 "metadata": {
  "kernelspec": {
   "display_name": "Python 3 (ipykernel)",
   "language": "python",
   "name": "python3"
  },
  "language_info": {
   "codemirror_mode": {
    "name": "ipython",
    "version": 3
   },
   "file_extension": ".py",
   "mimetype": "text/x-python",
   "name": "python",
   "nbconvert_exporter": "python",
   "pygments_lexer": "ipython3",
   "version": "3.10.6"
  }
 },
 "nbformat": 4,
 "nbformat_minor": 5
}
