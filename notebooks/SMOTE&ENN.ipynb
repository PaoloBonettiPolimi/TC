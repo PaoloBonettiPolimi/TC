{
 "cells": [
  {
   "cell_type": "markdown",
   "id": "35b20d21",
   "metadata": {},
   "source": [
    "\n",
    "# Import libraries"
   ]
  },
  {
   "cell_type": "code",
   "execution_count": 1,
   "id": "3d02b79d",
   "metadata": {},
   "outputs": [
    {
     "name": "stdout",
     "output_type": "stream",
     "text": [
      "pandas: 1.3.5\n",
      "xarray: 0.20.1\n",
      "geopandas: 1.21.5\n",
      "tensorflow: 2.0.0\n",
      "Tensorflow/Keras: 2.2.4-tf\n",
      "pandas: 1.3.5\n"
     ]
    },
    {
     "name": "stderr",
     "output_type": "stream",
     "text": [
      "Using TensorFlow backend.\n"
     ]
    },
    {
     "name": "stdout",
     "output_type": "stream",
     "text": [
      "sklearn: 1.0.2\n",
      "plotly: 5.6.0\n",
      "/Users/3rfanian/P_main\n"
     ]
    }
   ],
   "source": [
    "#import libraries\n",
    "import pandas as pd\n",
    "print('pandas: %s' % pd.__version__)\n",
    "\n",
    "import xarray as xr\n",
    "print('xarray: %s' % xr.__version__)\n",
    "\n",
    "pd.options.display.max_columns = None\n",
    "pd.set_option('display.max_rows', 150)\n",
    "\n",
    "import numpy as np\n",
    "print('geopandas: %s' % np.__version__)\n",
    "\n",
    "\n",
    "# tensorflow\n",
    "import tensorflow as tf\n",
    "print('tensorflow: %s' % tf.__version__)\n",
    "\n",
    "# Tensorflow / Keras\n",
    "from tensorflow import keras # for building Neural Networks\n",
    "print('Tensorflow/Keras: %s' % keras.__version__) # print version\n",
    "from keras.models import Sequential # for creating a linear stack of layers for our Neural Network\n",
    "from keras import Input # for instantiating a keras tensor\n",
    "from keras.layers import Dense # for creating regular densely-connected NN layer.\n",
    "\n",
    "# Data manipulation\n",
    "import pandas as pd # for data manipulation\n",
    "print('pandas: %s' % pd.__version__) # print version\n",
    "\n",
    "\n",
    "# Sklearn\n",
    "import sklearn # for model evaluation\n",
    "print('sklearn: %s' % sklearn.__version__) # print version\n",
    "from sklearn.model_selection import train_test_split # for splitting the data into train and test samples\n",
    "from sklearn.metrics import classification_report # for model evaluation metrics\n",
    "\n",
    "# Visualization\n",
    "import plotly \n",
    "import plotly.express as px\n",
    "import plotly.graph_objects as go\n",
    "print('plotly: %s' % plotly.__version__) # print version\n",
    "\n",
    "# Other utilities\n",
    "import sys\n",
    "import os\n",
    "\n",
    "\n",
    "from imblearn.over_sampling import SMOTE\n",
    "from imblearn.over_sampling import ADASYN\n",
    "from imblearn.combine import SMOTEENN\n",
    "\n",
    "\n",
    "from collections import Counter\n",
    "from numpy import * \n",
    "\n",
    "\n",
    "\n",
    "# Assign main directory to a variable\n",
    "main_dir=os.path.dirname(sys.path[0])\n",
    "print(main_dir)"
   ]
  },
  {
   "cell_type": "markdown",
   "id": "581de75f",
   "metadata": {},
   "source": [
    "# DATA importing"
   ]
  },
  {
   "cell_type": "code",
   "execution_count": 2,
   "id": "6b083f80",
   "metadata": {},
   "outputs": [
    {
     "name": "stdout",
     "output_type": "stream",
     "text": [
      "******training features******\n",
      "******training target******\n",
      "******test features******\n",
      "******test target******\n",
      "******validation features******\n",
      "******validation target******\n"
     ]
    }
   ],
   "source": [
    "test_set = pd.read_csv('data_with_newtarget/test_set_with_newtarget.csv')\n",
    "validation_set = pd.read_csv('data_with_newtarget/validation_set_with_newtarget.csv')\n",
    "traning_set = pd.read_csv('data_with_newtarget/traning_set_with_newtarget.csv')\n",
    "\n",
    "#training with yestersay lsm\n",
    "traning_df = traning_set['newlsm']\n",
    "traning_df\n",
    "ndf = traning_df.iloc[1:]\n",
    "ndf.loc[4268771,] = 0.0\n",
    "nd = ndf.reset_index()\n",
    "del nd[\"index\"]\n",
    "nd =nd.rename(columns={'newlsm': 'Tomorrow_lsm'})\n",
    "df2 = traning_set.assign(Tomorrow_lsm=nd)\n",
    "del df2[\"Unnamed: 0\"]\n",
    "\n",
    "#validation with yestersay lsm\n",
    "validation_df = validation_set['newlsm']\n",
    "ndf_val = validation_df.iloc[1:]\n",
    "ndf_val.loc[688402,] = 0.0\n",
    "nd_val = ndf_val.reset_index()\n",
    "del nd_val[\"index\"]\n",
    "nd_val =nd_val.rename(columns={'newlsm': 'Tomorrow_lsm'})\n",
    "df3 = validation_set.assign(Tomorrow_lsm=nd_val)\n",
    "del df3[\"Unnamed: 0\"]\n",
    "\n",
    "\n",
    "#test with yestersay lsm\n",
    "test_df = test_set['newlsm']\n",
    "ndf_test = test_df.iloc[1:]\n",
    "ndf_test.loc[539487,] = 0.0\n",
    "nd_test = ndf_test.reset_index()\n",
    "del nd_test[\"index\"]\n",
    "nd_test =nd_test.rename(columns={'newlsm': 'Tomorrow_lsm'})\n",
    "df4 = test_set.assign(Tomorrow_lsm=nd_test)\n",
    "del df4[\"Unnamed: 0\"]\n",
    "\n",
    "\n",
    "training_set_wt = df2\n",
    "validation_set_wt =df3\n",
    "test_set_wt = df4\n",
    "\n",
    "\n",
    "##### Step 2 - Split training data\n",
    "x_training = training_set_wt[[ 'vo', 'r', 'u_200', 'u_850', 'v_200','v_850', 'ttr','sst']]\n",
    "print (\"******training features******\")\n",
    "#print (x_training)\n",
    "y_training = training_set_wt[['Tomorrow_lsm']]\n",
    "print (\"******training target******\")\n",
    "#print (y_training)\n",
    "\n",
    "##### Step 3 - Split test data\n",
    "x_test = test_set_wt[[ 'vo', 'r', 'u_200', 'u_850', 'v_200','v_850', 'ttr','sst']]\n",
    "print (\"******test features******\")\n",
    "#print (x_test)\n",
    "y_test = test_set_wt[['Tomorrow_lsm']]\n",
    "print (\"******test target******\")\n",
    "#print (y_test)\n",
    "\n",
    "##### Step 4 - Split validation data\n",
    "x_validation = validation_set_wt[[ 'vo', 'r', 'u_200', 'u_850', 'v_200','v_850', 'ttr','sst']]\n",
    "print (\"******validation features******\")\n",
    "#print (x_validation)\n",
    "y_validation = validation_set_wt[['Tomorrow_lsm']]\n",
    "print (\"******validation target******\")\n",
    "#print (y_validation)"
   ]
  },
  {
   "cell_type": "markdown",
   "id": "aeb2ba06",
   "metadata": {},
   "source": [
    "# SMOTEEEN\n"
   ]
  },
  {
   "cell_type": "code",
   "execution_count": 3,
   "id": "40f72d62",
   "metadata": {},
   "outputs": [
    {
     "name": "stdout",
     "output_type": "stream",
     "text": [
      "Before SMOTEENN\n",
      "[0. 1.]\n",
      "> Class=0 : 4254174/4268771 (99.7%)\n",
      "> Class=1 : 14597/4268771 (0.3%)\n",
      "After SMOTEENN\n",
      "[0. 1.]\n",
      "> Class=0 : 4133888/8388051 (49.3%)\n",
      "> Class=1 : 4254163/8388051 (50.7%)\n"
     ]
    }
   ],
   "source": [
    "\n",
    "print('Before SMOTEENN')\n",
    "\n",
    "dff = y_training\n",
    "M = y_training.to_numpy()\n",
    "# summarize dataset\n",
    "classes = unique(M)\n",
    "print(classes)\n",
    "total = len(M)\n",
    "for c in classes:\n",
    "    n_examples = len(M[M==c])\n",
    "    percent = n_examples / total * 100\n",
    "    print('> Class=%d : %d/%d (%.1f%%)' % (c, n_examples, total, percent))\n",
    "\n",
    "smtenn = SMOTEENN()\n",
    "\n",
    "X_training_smtenn, Y_traning_smtenn = smtenn.fit_resample(x_training, y_training)\n",
    "\n",
    "print('After SMOTEENN')\n",
    "dff = Y_traning_smtenn\n",
    "M = Y_traning_smtenn.to_numpy()\n",
    "# summarize dataset\n",
    "classes = unique(M)\n",
    "print(classes)\n",
    "total = len(M)\n",
    "for c in classes:\n",
    "    n_examples = len(M[M==c])\n",
    "    percent = n_examples / total * 100\n",
    "    print('> Class=%d : %d/%d (%.1f%%)' % (c, n_examples, total, percent))"
   ]
  },
  {
   "cell_type": "code",
   "execution_count": 7,
   "id": "342605f9",
   "metadata": {},
   "outputs": [
    {
     "name": "stdout",
     "output_type": "stream",
     "text": [
      "WARNING:tensorflow:Falling back from v2 loop because of error: Failed to find data adapter that can handle input: <class 'pandas.core.frame.DataFrame'>, <class 'NoneType'>\n",
      "Train on 8388053 samples, validate on 688402 samples\n",
      "8388053/8388053 [==============================] - 2278s 272us/sample - loss: 0.3962 - accuracy: 0.8105 - val_loss: 0.3529 - val_accuracy: 0.8406\n"
     ]
    },
    {
     "data": {
      "text/plain": [
       "<tensorflow.python.keras.callbacks.History at 0x7fb8a8305fd0>"
      ]
     },
     "execution_count": 7,
     "metadata": {},
     "output_type": "execute_result"
    }
   ],
   "source": [
    "##### Step 5 - Specify the structure of a Neural Network\n",
    "model_simple_SMOTEENN = tf.keras.models.Sequential([\n",
    "    tf.keras.layers.Flatten(input_shape=(8,)),\n",
    "    tf.keras.layers.Dense(512, activation='tanh', name='Hidden-Layer1'),\n",
    "    tf.keras.layers.Dropout(0.2),\n",
    "    tf.keras.layers.Dense(1, activation='sigmoid', name='Output-Layer')\n",
    "])\n",
    "model_simple_SMOTEENN.compile(optimizer='adam',\n",
    "    loss='binary_crossentropy',\n",
    "    metrics=['accuracy'])\n",
    "\n",
    "model_simple_SMOTEENN.fit(X_training_smtenn, Y_traning_smtenn, epochs = 1 ,  validation_data=(x_validation, y_validation))#*********more epochs = 5\n"
   ]
  },
  {
   "cell_type": "code",
   "execution_count": 9,
   "id": "3899eeb2",
   "metadata": {},
   "outputs": [
    {
     "name": "stdout",
     "output_type": "stream",
     "text": [
      "WARNING:tensorflow:Falling back from v2 loop because of error: Failed to find data adapter that can handle input: <class 'pandas.core.frame.DataFrame'>, <class 'NoneType'>\n",
      "WARNING:tensorflow:Falling back from v2 loop because of error: Failed to find data adapter that can handle input: <class 'pandas.core.frame.DataFrame'>, <class 'NoneType'>\n"
     ]
    }
   ],
   "source": [
    "##### Step 6 - Use model to make predictions\n",
    "# Predict class labels on training data\n",
    "pred_labels_tr_simple_SMOTEENN_512n = (model_simple_SMOTEENN.predict(x_training))\n",
    "# Predict class labels on a test data\n",
    "pred_labels_te_simple_SMOTEENN_512n = (model_simple_SMOTEENN.predict(x_test))\n",
    "#> 0.01).astype(int)\n"
   ]
  },
  {
   "cell_type": "code",
   "execution_count": 10,
   "id": "33bfa453",
   "metadata": {},
   "outputs": [
    {
     "data": {
      "text/plain": [
       "<matplotlib.legend.Legend at 0x7fb8f81a74d0>"
      ]
     },
     "execution_count": 10,
     "metadata": {},
     "output_type": "execute_result"
    },
    {
     "data": {
      "image/png": "[encoded data removed]",
      "text/plain": [
       "<Figure size 432x288 with 1 Axes>"
      ]
     },
     "metadata": {
      "needs_background": "light"
     },
     "output_type": "display_data"
    }
   ],
   "source": [
    "from sklearn import metrics\n",
    "from sklearn import datasets\n",
    "from sklearn.model_selection import train_test_split\n",
    "from sklearn.linear_model import LogisticRegression\n",
    "from sklearn.ensemble import GradientBoostingClassifier\n",
    "import numpy as np\n",
    "import matplotlib.pyplot as plt\n",
    "\n",
    "plt.figure(0).clf()\n",
    "\n",
    "\n",
    "fpr, tpr, _ = metrics.roc_curve(y_test, pred_labels_te_simple_SMOTEENN_512n)\n",
    "auc = round(metrics.roc_auc_score(y_test, pred_labels_te_simple_SMOTEENN_512n), 4)\n",
    "plt.plot(fpr,tpr,label=\"simple_ADASYN, AUC=\"+str(auc))\n",
    "\n",
    "\n",
    "\n",
    "\n",
    "\n",
    "#add legend\n",
    "plt.legend()"
   ]
  },
  {
   "cell_type": "code",
   "execution_count": 11,
   "id": "ceeeb3ca",
   "metadata": {},
   "outputs": [
    {
     "name": "stdout",
     "output_type": "stream",
     "text": [
      "WARNING:tensorflow:From /Users/3rfanian/opt/anaconda3/envs/project_thesis/lib/python3.7/site-packages/tensorflow_core/python/ops/resource_variable_ops.py:1781: calling BaseResourceVariable.__init__ (from tensorflow.python.ops.resource_variable_ops) with constraint is deprecated and will be removed in a future version.\n",
      "Instructions for updating:\n",
      "If using Keras pass *_constraint arguments to layers.\n",
      "INFO:tensorflow:Assets written to: model_simple_SMOTEENN_512n/assets\n"
     ]
    },
    {
     "name": "stderr",
     "output_type": "stream",
     "text": [
      "2022-06-26 22:29:23.059417: W tensorflow/python/util/util.cc:299] Sets are not currently considered sequences, but this may change in the future, so consider avoiding using them.\n"
     ]
    }
   ],
   "source": [
    "model_simple_SMOTEENN.save('model_simple_SMOTEENN_512n')\n",
    "model_simple_SMOTEENN.save('model_simple_SMOTEENN_512n.h5')"
   ]
  },
  {
   "cell_type": "code",
   "execution_count": 14,
   "id": "23ce476a",
   "metadata": {},
   "outputs": [
    {
     "name": "stdout",
     "output_type": "stream",
     "text": [
      "WARNING:tensorflow:Falling back from v2 loop because of error: Failed to find data adapter that can handle input: <class 'pandas.core.frame.DataFrame'>, <class 'NoneType'>\n",
      "Train on 8388053 samples, validate on 688402 samples\n",
      "Epoch 1/2\n",
      "8388053/8388053 [==============================] - 5387s 642us/sample - loss: 0.4053 - accuracy: 0.8045 - val_loss: 0.4320 - val_accuracy: 0.8164\n",
      "Epoch 2/2\n",
      "8388053/8388053 [==============================] - 5078s 605us/sample - loss: 0.3962 - accuracy: 0.8106 - val_loss: 0.4251 - val_accuracy: 0.8367\n"
     ]
    },
    {
     "data": {
      "text/plain": [
       "<tensorflow.python.keras.callbacks.History at 0x7fb8f94a4f90>"
      ]
     },
     "execution_count": 14,
     "metadata": {},
     "output_type": "execute_result"
    }
   ],
   "source": [
    "##### Step 5 - Specify the structure of a Neural Network\n",
    "model_complex_SMOTEENN_4l_512n = tf.keras.models.Sequential([\n",
    "    tf.keras.layers.Flatten(input_shape=(8,)),\n",
    "    tf.keras.layers.Dense(512, activation='tanh', name='Hidden-Layer1'),\n",
    "    tf.keras.layers.Dense(512, activation='tanh', name='Hidden-Layer2'),\n",
    "    tf.keras.layers.Dense(512, activation='tanh', name='Hidden-Layer3'),\n",
    "    tf.keras.layers.Dense(512, activation='tanh', name='Hidden-Layer4'),\n",
    "    tf.keras.layers.Dropout(0.2),\n",
    "    tf.keras.layers.Dense(1, activation='sigmoid', name='Output-Layer')\n",
    "])\n",
    "model_complex_SMOTEENN_4l_512n.compile(optimizer='adam',\n",
    "    loss='binary_crossentropy',\n",
    "    metrics=['accuracy'])\n",
    "\n",
    "model_complex_SMOTEENN_4l_512n.fit(X_training_smtenn, Y_traning_smtenn, epochs = 2 ,  validation_data=(x_validation, y_validation))#*********more epochs = 5\n"
   ]
  },
  {
   "cell_type": "code",
   "execution_count": 15,
   "id": "3c9d5c32",
   "metadata": {},
   "outputs": [
    {
     "name": "stdout",
     "output_type": "stream",
     "text": [
      "INFO:tensorflow:Assets written to: model_complex_SMOTEENN_4l_512n/assets\n"
     ]
    }
   ],
   "source": [
    "model_complex_SMOTEENN_4l_512n.save('model_complex_SMOTEENN_4l_512n')\n",
    "model_complex_SMOTEENN_4l_512n.save('model_complex_SMOTEENN_4l_512n.h5')"
   ]
  },
  {
   "cell_type": "code",
   "execution_count": 16,
   "id": "0176378a",
   "metadata": {},
   "outputs": [
    {
     "name": "stdout",
     "output_type": "stream",
     "text": [
      "WARNING:tensorflow:Falling back from v2 loop because of error: Failed to find data adapter that can handle input: <class 'pandas.core.frame.DataFrame'>, <class 'NoneType'>\n",
      "WARNING:tensorflow:Falling back from v2 loop because of error: Failed to find data adapter that can handle input: <class 'pandas.core.frame.DataFrame'>, <class 'NoneType'>\n"
     ]
    }
   ],
   "source": [
    "##### Step 6 - Use model to make predictions\n",
    "# Predict class labels on training data\n",
    "pred_labels_tr_complex_SMOTEENN_4l_512n = (model_complex_SMOTEENN_4l_512n.predict(x_training))\n",
    "# Predict class labels on a test data\n",
    "pred_labels_te_complex_SMOTEENN_4l_512n = (model_complex_SMOTEENN_4l_512n.predict(x_test))\n",
    "#> 0.01).astype(int)\n"
   ]
  },
  {
   "cell_type": "code",
   "execution_count": 17,
   "id": "93af22ac",
   "metadata": {},
   "outputs": [
    {
     "data": {
      "text/plain": [
       "<matplotlib.legend.Legend at 0x7fb90a521e90>"
      ]
     },
     "execution_count": 17,
     "metadata": {},
     "output_type": "execute_result"
    },
    {
     "data": {
      "image/png": "[encoded data removed]",
      "text/plain": [
       "<Figure size 432x288 with 1 Axes>"
      ]
     },
     "metadata": {
      "needs_background": "light"
     },
     "output_type": "display_data"
    }
   ],
   "source": [
    "from sklearn import metrics\n",
    "from sklearn import datasets\n",
    "from sklearn.model_selection import train_test_split\n",
    "from sklearn.linear_model import LogisticRegression\n",
    "from sklearn.ensemble import GradientBoostingClassifier\n",
    "import numpy as np\n",
    "import matplotlib.pyplot as plt\n",
    "\n",
    "plt.figure(0).clf()\n",
    "\n",
    "\n",
    "fpr, tpr, _ = metrics.roc_curve(y_test, pred_labels_te_complex_SMOTEENN_4l_512n)\n",
    "auc = round(metrics.roc_auc_score(y_test, pred_labels_te_complex_SMOTEENN_4l_512n), 4)\n",
    "plt.plot(fpr,tpr,label=\"complex_SMOTEEEN_4l_512n, AUC=\"+str(auc))\n",
    "\n",
    "\n",
    "\n",
    "\n",
    "\n",
    "#add legend\n",
    "plt.legend()"
   ]
  },
  {
   "cell_type": "code",
   "execution_count": 4,
   "id": "c49ca284",
   "metadata": {},
   "outputs": [
    {
     "name": "stdout",
     "output_type": "stream",
     "text": [
      "WARNING:tensorflow:Falling back from v2 loop because of error: Failed to find data adapter that can handle input: <class 'pandas.core.frame.DataFrame'>, <class 'NoneType'>\n"
     ]
    },
    {
     "name": "stderr",
     "output_type": "stream",
     "text": [
      "2022-06-30 10:59:50.590840: I tensorflow/core/platform/cpu_feature_guard.cc:145] This TensorFlow binary is optimized with Intel(R) MKL-DNN to use the following CPU instructions in performance critical operations:  SSE4.1 SSE4.2\n",
      "To enable them in non-MKL-DNN operations, rebuild TensorFlow with the appropriate compiler flags.\n",
      "2022-06-30 10:59:50.593260: I tensorflow/core/common_runtime/process_util.cc:115] Creating new thread pool with default inter op setting: 8. Tune using inter_op_parallelism_threads for best performance.\n"
     ]
    },
    {
     "name": "stdout",
     "output_type": "stream",
     "text": [
      "Train on 8388052 samples, validate on 688402 samples\n",
      "Epoch 1/25\n",
      "8388052/8388052 [==============================] - 4752s 567us/sample - loss: 0.4051 - accuracy: 0.8042 - val_loss: 0.3847 - val_accuracy: 0.8830\n",
      "Epoch 2/25\n",
      "8388052/8388052 [==============================] - 5277s 629us/sample - loss: 0.3966 - accuracy: 0.8102 - val_loss: 0.5069 - val_accuracy: 0.7511\n",
      "Epoch 3/25\n",
      "8388052/8388052 [==============================] - 6809s 812us/sample - loss: 0.3958 - accuracy: 0.8105 - val_loss: 0.3311 - val_accuracy: 0.8753\n",
      "Epoch 4/25\n",
      "8388052/8388052 [==============================] - 5065s 604us/sample - loss: 0.3953 - accuracy: 0.8110 - val_loss: 0.4649 - val_accuracy: 0.7286\n",
      "Epoch 5/25\n",
      "8388052/8388052 [==============================] - 4738s 565us/sample - loss: 0.3949 - accuracy: 0.8115 - val_loss: 0.6186 - val_accuracy: 0.6673\n",
      "Epoch 6/25\n",
      "8388052/8388052 [==============================] - 5233s 624us/sample - loss: 0.3951 - accuracy: 0.8126 - val_loss: 0.4443 - val_accuracy: 0.7987\n",
      "Epoch 7/25\n",
      "8388052/8388052 [==============================] - 5759s 687us/sample - loss: 0.3967 - accuracy: 0.8117 - val_loss: 0.3862 - val_accuracy: 0.8411\n",
      "Epoch 8/25\n",
      "8388052/8388052 [==============================] - 5304s 632us/sample - loss: 0.3984 - accuracy: 0.8115 - val_loss: 0.3461 - val_accuracy: 0.8738\n",
      "Epoch 9/25\n",
      "8388052/8388052 [==============================] - 5485s 654us/sample - loss: 0.4002 - accuracy: 0.8114 - val_loss: 0.4077 - val_accuracy: 0.8360\n",
      "Epoch 10/25\n",
      "8388052/8388052 [==============================] - 6544s 780us/sample - loss: 0.4006 - accuracy: 0.8103 - val_loss: 0.4578 - val_accuracy: 0.7918\n",
      "Epoch 11/25\n",
      "8388052/8388052 [==============================] - 4789s 571us/sample - loss: 0.4016 - accuracy: 0.8103 - val_loss: 0.3830 - val_accuracy: 0.8421\n",
      "Epoch 12/25\n",
      "8388052/8388052 [==============================] - 4803s 573us/sample - loss: 0.4053 - accuracy: 0.8084 - val_loss: 0.3882 - val_accuracy: 0.8426\n",
      "Epoch 13/25\n",
      "8388052/8388052 [==============================] - 4855s 579us/sample - loss: 0.4030 - accuracy: 0.8105 - val_loss: 0.4213 - val_accuracy: 0.7973\n",
      "Epoch 14/25\n",
      "8388052/8388052 [==============================] - 4694s 560us/sample - loss: 0.4010 - accuracy: 0.8119 - val_loss: 0.5934 - val_accuracy: 0.6817\n",
      "Epoch 15/25\n",
      "8388052/8388052 [==============================] - 4556s 543us/sample - loss: 0.4059 - accuracy: 0.8093 - val_loss: 0.3756 - val_accuracy: 0.8408\n",
      "Epoch 16/25\n",
      "8388052/8388052 [==============================] - 4981s 594us/sample - loss: 0.4071 - accuracy: 0.8095 - val_loss: 0.5241 - val_accuracy: 0.7354\n",
      "Epoch 17/25\n",
      "5078592/8388052 [=================>............] - ETA: 34:08 - loss: 0.4101 - accuracy: 0.8062"
     ]
    },
    {
     "ename": "KeyboardInterrupt",
     "evalue": "",
     "output_type": "error",
     "traceback": [
      "\u001b[0;31m---------------------------------------------------------------------------\u001b[0m",
      "\u001b[0;31mKeyboardInterrupt\u001b[0m                         Traceback (most recent call last)",
      "\u001b[0;32m/var/folders/6l/2k5dphhj4z30f5zpqx44561c0000gn/T/ipykernel_1006/3489777473.py\u001b[0m in \u001b[0;36m<module>\u001b[0;34m\u001b[0m\n\u001b[1;32m     13\u001b[0m     metrics=['accuracy'])\n\u001b[1;32m     14\u001b[0m \u001b[0;34m\u001b[0m\u001b[0m\n\u001b[0;32m---> 15\u001b[0;31m \u001b[0mmodel_complex_SMOTEENN_4l_512n\u001b[0m\u001b[0;34m.\u001b[0m\u001b[0mfit\u001b[0m\u001b[0;34m(\u001b[0m\u001b[0mX_training_smtenn\u001b[0m\u001b[0;34m,\u001b[0m \u001b[0mY_traning_smtenn\u001b[0m\u001b[0;34m,\u001b[0m \u001b[0mepochs\u001b[0m \u001b[0;34m=\u001b[0m \u001b[0;36m25\u001b[0m \u001b[0;34m,\u001b[0m  \u001b[0mvalidation_data\u001b[0m\u001b[0;34m=\u001b[0m\u001b[0;34m(\u001b[0m\u001b[0mx_validation\u001b[0m\u001b[0;34m,\u001b[0m \u001b[0my_validation\u001b[0m\u001b[0;34m)\u001b[0m\u001b[0;34m)\u001b[0m\u001b[0;31m#*********more epochs = 5\u001b[0m\u001b[0;34m\u001b[0m\u001b[0;34m\u001b[0m\u001b[0m\n\u001b[0m",
      "\u001b[0;32m~/opt/anaconda3/envs/project_thesis/lib/python3.7/site-packages/tensorflow_core/python/keras/engine/training.py\u001b[0m in \u001b[0;36mfit\u001b[0;34m(self, x, y, batch_size, epochs, verbose, callbacks, validation_split, validation_data, shuffle, class_weight, sample_weight, initial_epoch, steps_per_epoch, validation_steps, validation_freq, max_queue_size, workers, use_multiprocessing, **kwargs)\u001b[0m\n\u001b[1;32m    726\u001b[0m         \u001b[0mmax_queue_size\u001b[0m\u001b[0;34m=\u001b[0m\u001b[0mmax_queue_size\u001b[0m\u001b[0;34m,\u001b[0m\u001b[0;34m\u001b[0m\u001b[0;34m\u001b[0m\u001b[0m\n\u001b[1;32m    727\u001b[0m         \u001b[0mworkers\u001b[0m\u001b[0;34m=\u001b[0m\u001b[0mworkers\u001b[0m\u001b[0;34m,\u001b[0m\u001b[0;34m\u001b[0m\u001b[0;34m\u001b[0m\u001b[0m\n\u001b[0;32m--> 728\u001b[0;31m         use_multiprocessing=use_multiprocessing)\n\u001b[0m\u001b[1;32m    729\u001b[0m \u001b[0;34m\u001b[0m\u001b[0m\n\u001b[1;32m    730\u001b[0m   def evaluate(self,\n",
      "\u001b[0;32m~/opt/anaconda3/envs/project_thesis/lib/python3.7/site-packages/tensorflow_core/python/keras/engine/training_arrays.py\u001b[0m in \u001b[0;36mfit\u001b[0;34m(self, model, x, y, batch_size, epochs, verbose, callbacks, validation_split, validation_data, shuffle, class_weight, sample_weight, initial_epoch, steps_per_epoch, validation_steps, validation_freq, **kwargs)\u001b[0m\n\u001b[1;32m    672\u001b[0m         \u001b[0mvalidation_steps\u001b[0m\u001b[0;34m=\u001b[0m\u001b[0mvalidation_steps\u001b[0m\u001b[0;34m,\u001b[0m\u001b[0;34m\u001b[0m\u001b[0;34m\u001b[0m\u001b[0m\n\u001b[1;32m    673\u001b[0m         \u001b[0mvalidation_freq\u001b[0m\u001b[0;34m=\u001b[0m\u001b[0mvalidation_freq\u001b[0m\u001b[0;34m,\u001b[0m\u001b[0;34m\u001b[0m\u001b[0;34m\u001b[0m\u001b[0m\n\u001b[0;32m--> 674\u001b[0;31m         steps_name='steps_per_epoch')\n\u001b[0m\u001b[1;32m    675\u001b[0m \u001b[0;34m\u001b[0m\u001b[0m\n\u001b[1;32m    676\u001b[0m   def evaluate(self,\n",
      "\u001b[0;32m~/opt/anaconda3/envs/project_thesis/lib/python3.7/site-packages/tensorflow_core/python/keras/engine/training_arrays.py\u001b[0m in \u001b[0;36mmodel_iteration\u001b[0;34m(model, inputs, targets, sample_weights, batch_size, epochs, verbose, callbacks, val_inputs, val_targets, val_sample_weights, shuffle, initial_epoch, steps_per_epoch, validation_steps, validation_freq, mode, validation_in_fit, prepared_feed_values_from_dataset, steps_name, **kwargs)\u001b[0m\n\u001b[1;32m    391\u001b[0m \u001b[0;34m\u001b[0m\u001b[0m\n\u001b[1;32m    392\u001b[0m         \u001b[0;31m# Get outputs.\u001b[0m\u001b[0;34m\u001b[0m\u001b[0;34m\u001b[0m\u001b[0;34m\u001b[0m\u001b[0m\n\u001b[0;32m--> 393\u001b[0;31m         \u001b[0mbatch_outs\u001b[0m \u001b[0;34m=\u001b[0m \u001b[0mf\u001b[0m\u001b[0;34m(\u001b[0m\u001b[0mins_batch\u001b[0m\u001b[0;34m)\u001b[0m\u001b[0;34m\u001b[0m\u001b[0;34m\u001b[0m\u001b[0m\n\u001b[0m\u001b[1;32m    394\u001b[0m         \u001b[0;32mif\u001b[0m \u001b[0;32mnot\u001b[0m \u001b[0misinstance\u001b[0m\u001b[0;34m(\u001b[0m\u001b[0mbatch_outs\u001b[0m\u001b[0;34m,\u001b[0m \u001b[0mlist\u001b[0m\u001b[0;34m)\u001b[0m\u001b[0;34m:\u001b[0m\u001b[0;34m\u001b[0m\u001b[0;34m\u001b[0m\u001b[0m\n\u001b[1;32m    395\u001b[0m           \u001b[0mbatch_outs\u001b[0m \u001b[0;34m=\u001b[0m \u001b[0;34m[\u001b[0m\u001b[0mbatch_outs\u001b[0m\u001b[0;34m]\u001b[0m\u001b[0;34m\u001b[0m\u001b[0;34m\u001b[0m\u001b[0m\n",
      "\u001b[0;32m~/opt/anaconda3/envs/project_thesis/lib/python3.7/site-packages/tensorflow_core/python/keras/backend.py\u001b[0m in \u001b[0;36m__call__\u001b[0;34m(self, inputs)\u001b[0m\n\u001b[1;32m   3738\u001b[0m         \u001b[0mvalue\u001b[0m \u001b[0;34m=\u001b[0m \u001b[0mmath_ops\u001b[0m\u001b[0;34m.\u001b[0m\u001b[0mcast\u001b[0m\u001b[0;34m(\u001b[0m\u001b[0mvalue\u001b[0m\u001b[0;34m,\u001b[0m \u001b[0mtensor\u001b[0m\u001b[0;34m.\u001b[0m\u001b[0mdtype\u001b[0m\u001b[0;34m)\u001b[0m\u001b[0;34m\u001b[0m\u001b[0;34m\u001b[0m\u001b[0m\n\u001b[1;32m   3739\u001b[0m       \u001b[0mconverted_inputs\u001b[0m\u001b[0;34m.\u001b[0m\u001b[0mappend\u001b[0m\u001b[0;34m(\u001b[0m\u001b[0mvalue\u001b[0m\u001b[0;34m)\u001b[0m\u001b[0;34m\u001b[0m\u001b[0;34m\u001b[0m\u001b[0m\n\u001b[0;32m-> 3740\u001b[0;31m     \u001b[0moutputs\u001b[0m \u001b[0;34m=\u001b[0m \u001b[0mself\u001b[0m\u001b[0;34m.\u001b[0m\u001b[0m_graph_fn\u001b[0m\u001b[0;34m(\u001b[0m\u001b[0;34m*\u001b[0m\u001b[0mconverted_inputs\u001b[0m\u001b[0;34m)\u001b[0m\u001b[0;34m\u001b[0m\u001b[0;34m\u001b[0m\u001b[0m\n\u001b[0m\u001b[1;32m   3741\u001b[0m \u001b[0;34m\u001b[0m\u001b[0m\n\u001b[1;32m   3742\u001b[0m     \u001b[0;31m# EagerTensor.numpy() will often make a copy to ensure memory safety.\u001b[0m\u001b[0;34m\u001b[0m\u001b[0;34m\u001b[0m\u001b[0;34m\u001b[0m\u001b[0m\n",
      "\u001b[0;32m~/opt/anaconda3/envs/project_thesis/lib/python3.7/site-packages/tensorflow_core/python/eager/function.py\u001b[0m in \u001b[0;36m__call__\u001b[0;34m(self, *args, **kwargs)\u001b[0m\n\u001b[1;32m   1079\u001b[0m       \u001b[0mTypeError\u001b[0m\u001b[0;34m:\u001b[0m \u001b[0mFor\u001b[0m \u001b[0minvalid\u001b[0m \u001b[0mpositional\u001b[0m\u001b[0;34m/\u001b[0m\u001b[0mkeyword\u001b[0m \u001b[0margument\u001b[0m \u001b[0mcombinations\u001b[0m\u001b[0;34m.\u001b[0m\u001b[0;34m\u001b[0m\u001b[0;34m\u001b[0m\u001b[0m\n\u001b[1;32m   1080\u001b[0m     \"\"\"\n\u001b[0;32m-> 1081\u001b[0;31m     \u001b[0;32mreturn\u001b[0m \u001b[0mself\u001b[0m\u001b[0;34m.\u001b[0m\u001b[0m_call_impl\u001b[0m\u001b[0;34m(\u001b[0m\u001b[0margs\u001b[0m\u001b[0;34m,\u001b[0m \u001b[0mkwargs\u001b[0m\u001b[0;34m)\u001b[0m\u001b[0;34m\u001b[0m\u001b[0;34m\u001b[0m\u001b[0m\n\u001b[0m\u001b[1;32m   1082\u001b[0m \u001b[0;34m\u001b[0m\u001b[0m\n\u001b[1;32m   1083\u001b[0m   \u001b[0;32mdef\u001b[0m \u001b[0m_call_impl\u001b[0m\u001b[0;34m(\u001b[0m\u001b[0mself\u001b[0m\u001b[0;34m,\u001b[0m \u001b[0margs\u001b[0m\u001b[0;34m,\u001b[0m \u001b[0mkwargs\u001b[0m\u001b[0;34m,\u001b[0m \u001b[0mcancellation_manager\u001b[0m\u001b[0;34m=\u001b[0m\u001b[0;32mNone\u001b[0m\u001b[0;34m)\u001b[0m\u001b[0;34m:\u001b[0m\u001b[0;34m\u001b[0m\u001b[0;34m\u001b[0m\u001b[0m\n",
      "\u001b[0;32m~/opt/anaconda3/envs/project_thesis/lib/python3.7/site-packages/tensorflow_core/python/eager/function.py\u001b[0m in \u001b[0;36m_call_impl\u001b[0;34m(self, args, kwargs, cancellation_manager)\u001b[0m\n\u001b[1;32m   1119\u001b[0m       raise TypeError(\"Keyword arguments {} unknown. Expected {}.\".format(\n\u001b[1;32m   1120\u001b[0m           list(kwargs.keys()), list(self._arg_keywords)))\n\u001b[0;32m-> 1121\u001b[0;31m     \u001b[0;32mreturn\u001b[0m \u001b[0mself\u001b[0m\u001b[0;34m.\u001b[0m\u001b[0m_call_flat\u001b[0m\u001b[0;34m(\u001b[0m\u001b[0margs\u001b[0m\u001b[0;34m,\u001b[0m \u001b[0mself\u001b[0m\u001b[0;34m.\u001b[0m\u001b[0mcaptured_inputs\u001b[0m\u001b[0;34m,\u001b[0m \u001b[0mcancellation_manager\u001b[0m\u001b[0;34m)\u001b[0m\u001b[0;34m\u001b[0m\u001b[0;34m\u001b[0m\u001b[0m\n\u001b[0m\u001b[1;32m   1122\u001b[0m \u001b[0;34m\u001b[0m\u001b[0m\n\u001b[1;32m   1123\u001b[0m   \u001b[0;32mdef\u001b[0m \u001b[0m_filtered_call\u001b[0m\u001b[0;34m(\u001b[0m\u001b[0mself\u001b[0m\u001b[0;34m,\u001b[0m \u001b[0margs\u001b[0m\u001b[0;34m,\u001b[0m \u001b[0mkwargs\u001b[0m\u001b[0;34m)\u001b[0m\u001b[0;34m:\u001b[0m\u001b[0;34m\u001b[0m\u001b[0;34m\u001b[0m\u001b[0m\n",
      "\u001b[0;32m~/opt/anaconda3/envs/project_thesis/lib/python3.7/site-packages/tensorflow_core/python/eager/function.py\u001b[0m in \u001b[0;36m_call_flat\u001b[0;34m(self, args, captured_inputs, cancellation_manager)\u001b[0m\n\u001b[1;32m   1222\u001b[0m     \u001b[0;32mif\u001b[0m \u001b[0mexecuting_eagerly\u001b[0m\u001b[0;34m:\u001b[0m\u001b[0;34m\u001b[0m\u001b[0;34m\u001b[0m\u001b[0m\n\u001b[1;32m   1223\u001b[0m       flat_outputs = forward_function.call(\n\u001b[0;32m-> 1224\u001b[0;31m           ctx, args, cancellation_manager=cancellation_manager)\n\u001b[0m\u001b[1;32m   1225\u001b[0m     \u001b[0;32melse\u001b[0m\u001b[0;34m:\u001b[0m\u001b[0;34m\u001b[0m\u001b[0;34m\u001b[0m\u001b[0m\n\u001b[1;32m   1226\u001b[0m       \u001b[0mgradient_name\u001b[0m \u001b[0;34m=\u001b[0m \u001b[0mself\u001b[0m\u001b[0;34m.\u001b[0m\u001b[0m_delayed_rewrite_functions\u001b[0m\u001b[0;34m.\u001b[0m\u001b[0mregister\u001b[0m\u001b[0;34m(\u001b[0m\u001b[0;34m)\u001b[0m\u001b[0;34m\u001b[0m\u001b[0;34m\u001b[0m\u001b[0m\n",
      "\u001b[0;32m~/opt/anaconda3/envs/project_thesis/lib/python3.7/site-packages/tensorflow_core/python/eager/function.py\u001b[0m in \u001b[0;36mcall\u001b[0;34m(self, ctx, args, cancellation_manager)\u001b[0m\n\u001b[1;32m    509\u001b[0m               \u001b[0minputs\u001b[0m\u001b[0;34m=\u001b[0m\u001b[0margs\u001b[0m\u001b[0;34m,\u001b[0m\u001b[0;34m\u001b[0m\u001b[0;34m\u001b[0m\u001b[0m\n\u001b[1;32m    510\u001b[0m               \u001b[0mattrs\u001b[0m\u001b[0;34m=\u001b[0m\u001b[0;34m(\u001b[0m\u001b[0;34m\"executor_type\"\u001b[0m\u001b[0;34m,\u001b[0m \u001b[0mexecutor_type\u001b[0m\u001b[0;34m,\u001b[0m \u001b[0;34m\"config_proto\"\u001b[0m\u001b[0;34m,\u001b[0m \u001b[0mconfig\u001b[0m\u001b[0;34m)\u001b[0m\u001b[0;34m,\u001b[0m\u001b[0;34m\u001b[0m\u001b[0;34m\u001b[0m\u001b[0m\n\u001b[0;32m--> 511\u001b[0;31m               ctx=ctx)\n\u001b[0m\u001b[1;32m    512\u001b[0m         \u001b[0;32melse\u001b[0m\u001b[0;34m:\u001b[0m\u001b[0;34m\u001b[0m\u001b[0;34m\u001b[0m\u001b[0m\n\u001b[1;32m    513\u001b[0m           outputs = execute.execute_with_cancellation(\n",
      "\u001b[0;32m~/opt/anaconda3/envs/project_thesis/lib/python3.7/site-packages/tensorflow_core/python/eager/execute.py\u001b[0m in \u001b[0;36mquick_execute\u001b[0;34m(op_name, num_outputs, inputs, attrs, ctx, name)\u001b[0m\n\u001b[1;32m     59\u001b[0m     tensors = pywrap_tensorflow.TFE_Py_Execute(ctx._handle, device_name,\n\u001b[1;32m     60\u001b[0m                                                \u001b[0mop_name\u001b[0m\u001b[0;34m,\u001b[0m \u001b[0minputs\u001b[0m\u001b[0;34m,\u001b[0m \u001b[0mattrs\u001b[0m\u001b[0;34m,\u001b[0m\u001b[0;34m\u001b[0m\u001b[0;34m\u001b[0m\u001b[0m\n\u001b[0;32m---> 61\u001b[0;31m                                                num_outputs)\n\u001b[0m\u001b[1;32m     62\u001b[0m   \u001b[0;32mexcept\u001b[0m \u001b[0mcore\u001b[0m\u001b[0;34m.\u001b[0m\u001b[0m_NotOkStatusException\u001b[0m \u001b[0;32mas\u001b[0m \u001b[0me\u001b[0m\u001b[0;34m:\u001b[0m\u001b[0;34m\u001b[0m\u001b[0;34m\u001b[0m\u001b[0m\n\u001b[1;32m     63\u001b[0m     \u001b[0;32mif\u001b[0m \u001b[0mname\u001b[0m \u001b[0;32mis\u001b[0m \u001b[0;32mnot\u001b[0m \u001b[0;32mNone\u001b[0m\u001b[0;34m:\u001b[0m\u001b[0;34m\u001b[0m\u001b[0;34m\u001b[0m\u001b[0m\n",
      "\u001b[0;31mKeyboardInterrupt\u001b[0m: "
     ]
    }
   ],
   "source": [
    "##### Step 5 - Specify the structure of a Neural Network\n",
    "model_complex_SMOTEENN_4l_512n = tf.keras.models.Sequential([\n",
    "    tf.keras.layers.Flatten(input_shape=(8,)),\n",
    "    tf.keras.layers.Dense(512, activation='tanh', name='Hidden-Layer1'),\n",
    "    tf.keras.layers.Dense(512, activation='tanh', name='Hidden-Layer2'),\n",
    "    tf.keras.layers.Dense(512, activation='tanh', name='Hidden-Layer3'),\n",
    "    tf.keras.layers.Dense(512, activation='tanh', name='Hidden-Layer4'),\n",
    "    tf.keras.layers.Dropout(0.2),\n",
    "    tf.keras.layers.Dense(1, activation='sigmoid', name='Output-Layer')\n",
    "])\n",
    "model_complex_SMOTEENN_4l_512n.compile(optimizer='adam',\n",
    "    loss='binary_crossentropy',\n",
    "    metrics=['accuracy'])\n",
    "\n",
    "model_complex_SMOTEENN_4l_512n.fit(X_training_smtenn, Y_traning_smtenn, epochs = 25 ,  validation_data=(x_validation, y_validation))#*********more epochs = 5\n"
   ]
  },
  {
   "cell_type": "code",
   "execution_count": 14,
   "id": "d923277e",
   "metadata": {},
   "outputs": [
    {
     "name": "stdout",
     "output_type": "stream",
     "text": [
      "WARNING:tensorflow:Falling back from v2 loop because of error: Failed to find data adapter that can handle input: <class 'pandas.core.frame.DataFrame'>, <class 'NoneType'>\n",
      "Train on 8388052 samples, validate on 688402 samples\n",
      "Epoch 1/3\n",
      "8388052/8388052 [==============================] - 5361s 639us/sample - loss: 0.4036 - accuracy: 0.8054 - val_loss: 0.4144 - val_accuracy: 0.7715\n",
      "Epoch 2/3\n",
      "8388052/8388052 [==============================] - 5423s 647us/sample - loss: 0.3940 - accuracy: 0.8111 - val_loss: 0.4449 - val_accuracy: 0.7576\n",
      "Epoch 3/3\n",
      "8388052/8388052 [==============================] - 5004s 597us/sample - loss: 0.3922 - accuracy: 0.8132 - val_loss: 0.3697 - val_accuracy: 0.7924\n"
     ]
    }
   ],
   "source": [
    "##### Step 5 - Specify the structure of a Neural Network\n",
    "model_complex_SMOTEENN_4l_512n = tf.keras.models.Sequential([\n",
    "    tf.keras.layers.Flatten(input_shape=(8,)),\n",
    "    tf.keras.layers.Dense(512, activation='tanh', name='Hidden-Layer1'),\n",
    "    tf.keras.layers.Dense(512, activation='tanh', name='Hidden-Layer2'),\n",
    "    tf.keras.layers.Dense(512, activation='tanh', name='Hidden-Layer3'),\n",
    "    tf.keras.layers.Dense(512, activation='tanh', name='Hidden-Layer4'),\n",
    "    tf.keras.layers.Dropout(0.2),\n",
    "    tf.keras.layers.Dense(1, activation='sigmoid', name='Output-Layer')\n",
    "])\n",
    "\n",
    "checkpoint_filepath = '/tmp/checkpoint'\n",
    "model_checkpoint_callback = tf.keras.callbacks.ModelCheckpoint(\n",
    "    filepath=checkpoint_filepath,\n",
    "    save_weights_only=True,\n",
    "    monitor='val_accuracy',\n",
    "    mode='max',\n",
    "    save_best_only=True)\n",
    "\n",
    "model_complex_SMOTEENN_4l_512n.compile(optimizer='adam',\n",
    "    loss='binary_crossentropy',\n",
    "    metrics=['accuracy'])\n",
    "\n",
    "h = model_complex_SMOTEENN_4l_512n.fit(X_training_smtenn, Y_traning_smtenn, epochs = 3 ,callbacks=[model_checkpoint_callback],  validation_data=(x_validation, y_validation))#*********more epochs = 5\n"
   ]
  },
  {
   "cell_type": "code",
   "execution_count": 15,
   "id": "01eeddc9",
   "metadata": {},
   "outputs": [
    {
     "name": "stdout",
     "output_type": "stream",
     "text": [
      "INFO:tensorflow:Assets written to: model_complex_SMOTEENN_4l_512n_3epochs_savedmode/assets\n"
     ]
    }
   ],
   "source": [
    "model_complex_SMOTEENN_4l_512n.save('model_complex_SMOTEENN_4l_512n_3epochs_savedmode')\n",
    "model_complex_SMOTEENN_4l_512n.save('model_complex_SMOTEENN_4l_512n_3epochs_savedmode.h5')"
   ]
  },
  {
   "cell_type": "code",
   "execution_count": 19,
   "id": "007b24a9",
   "metadata": {},
   "outputs": [
    {
     "name": "stdout",
     "output_type": "stream",
     "text": [
      "WARNING:tensorflow:Falling back from v2 loop because of error: Failed to find data adapter that can handle input: <class 'pandas.core.frame.DataFrame'>, <class 'NoneType'>\n",
      "WARNING:tensorflow:Falling back from v2 loop because of error: Failed to find data adapter that can handle input: <class 'pandas.core.frame.DataFrame'>, <class 'NoneType'>\n",
      "\n",
      "-------------------- Model Summary --------------------\n",
      "Model: \"sequential_6\"\n",
      "_________________________________________________________________\n",
      "Layer (type)                 Output Shape              Param #   \n",
      "=================================================================\n",
      "flatten_6 (Flatten)          (None, 8)                 0         \n",
      "_________________________________________________________________\n",
      "Hidden-Layer1 (Dense)        (None, 512)               4608      \n",
      "_________________________________________________________________\n",
      "Hidden-Layer2 (Dense)        (None, 512)               262656    \n",
      "_________________________________________________________________\n",
      "Hidden-Layer3 (Dense)        (None, 512)               262656    \n",
      "_________________________________________________________________\n",
      "Hidden-Layer4 (Dense)        (None, 512)               262656    \n",
      "_________________________________________________________________\n",
      "dropout_6 (Dropout)          (None, 512)               0         \n",
      "_________________________________________________________________\n",
      "Output-Layer (Dense)         (None, 1)                 513       \n",
      "=================================================================\n",
      "Total params: 793,089\n",
      "Trainable params: 793,089\n",
      "Non-trainable params: 0\n",
      "_________________________________________________________________\n",
      "\n",
      "-------------------- Weights and Biases --------------------\n",
      "Layer:  flatten_6\n",
      "Layer:  Hidden-Layer1\n",
      "Layer:  Hidden-Layer2\n",
      "Layer:  Hidden-Layer3\n",
      "Layer:  Hidden-Layer4\n",
      "Layer:  dropout_6\n",
      "Layer:  Output-Layer\n",
      "\n",
      "---------- Evaluation on Training Data ----------\n",
      "              precision    recall  f1-score   support\n",
      "\n",
      "         0.0       1.00      0.79      0.88   4254174\n",
      "         1.0       0.01      0.82      0.03     14597\n",
      "\n",
      "    accuracy                           0.79   4268771\n",
      "   macro avg       0.51      0.80      0.45   4268771\n",
      "weighted avg       1.00      0.79      0.88   4268771\n",
      "\n",
      "\n",
      "---------- Evaluation on Test Data ----------\n",
      "              precision    recall  f1-score   support\n",
      "\n",
      "         0.0       1.00      0.79      0.88    537732\n",
      "         1.0       0.01      0.86      0.03      1755\n",
      "\n",
      "    accuracy                           0.79    539487\n",
      "   macro avg       0.51      0.83      0.45    539487\n",
      "weighted avg       1.00      0.79      0.88    539487\n",
      "\n",
      "\n"
     ]
    },
    {
     "data": {
      "text/plain": [
       "<sklearn.metrics._plot.confusion_matrix.ConfusionMatrixDisplay at 0x7fa19c3bc4d0>"
      ]
     },
     "execution_count": 19,
     "metadata": {},
     "output_type": "execute_result"
    },
    {
     "data": {
      "image/png": "[encoded data removed]",
      "text/plain": [
       "<Figure size 432x288 with 1 Axes>"
      ]
     },
     "metadata": {
      "needs_background": "light"
     },
     "output_type": "display_data"
    },
    {
     "data": {
      "image/png": "[encoded data removed]",
      "text/plain": [
       "<Figure size 432x288 with 1 Axes>"
      ]
     },
     "metadata": {
      "needs_background": "light"
     },
     "output_type": "display_data"
    }
   ],
   "source": [
    "##### Step 6 - Use model to make predictions\n",
    "# Predict class labels on training data\n",
    "pred_labels_tr_complexSMOTEENN_prob = (model_complex_SMOTEENN_4l_512n.predict(x_training)> 0.5).astype(int)\n",
    "# Predict class labels on a test data\n",
    "pred_labels_te_complexSMOTEENN_prob = (model_complex_SMOTEENN_4l_512n.predict(x_test)> 0.5).astype(int)\n",
    "#> 0.01).astype(int)\n",
    "\n",
    "\n",
    "##### Step 7 - Model Performance Summary\n",
    "print(\"\")\n",
    "print('-------------------- Model Summary --------------------')\n",
    "model_complex_SMOTEENN_4l_512n.summary() # print model summary\n",
    "print(\"\")\n",
    "print('-------------------- Weights and Biases --------------------')\n",
    "for layer in model_complex_SMOTEENN_4l_512n.layers:\n",
    "    print(\"Layer: \", layer.name) # print layer name\n",
    "    \n",
    "print(\"\")\n",
    "print('---------- Evaluation on Training Data ----------')\n",
    "print(classification_report(y_training, pred_labels_tr_complexSMOTEENN_prob))\n",
    "print(\"\")\n",
    "\n",
    "print('---------- Evaluation on Test Data ----------')\n",
    "print(classification_report(y_test, pred_labels_te_complexSMOTEENN_prob))\n",
    "print(\"\")\n",
    "\n",
    "from sklearn.metrics import confusion_matrix\n",
    "import matplotlib.pyplot as plt\n",
    "\n",
    "from sklearn.metrics import ConfusionMatrixDisplay\n",
    "ConfusionMatrixDisplay(confusion_matrix(y_test, pred_labels_te_complexSMOTEENN_prob)).plot(colorbar=False,cmap=plt.cm.Blues)\n",
    "ConfusionMatrixDisplay(confusion_matrix(y_test, pred_labels_te_complexSMOTEENN_prob,normalize='true')).plot(colorbar=False,cmap=plt.cm.Blues)"
   ]
  },
  {
   "cell_type": "code",
   "execution_count": 21,
   "id": "e74236bb",
   "metadata": {
    "scrolled": true
   },
   "outputs": [
    {
     "name": "stdout",
     "output_type": "stream",
     "text": [
      "WARNING:tensorflow:Falling back from v2 loop because of error: Failed to find data adapter that can handle input: <class 'pandas.core.frame.DataFrame'>, <class 'NoneType'>\n",
      "WARNING:tensorflow:Falling back from v2 loop because of error: Failed to find data adapter that can handle input: <class 'pandas.core.frame.DataFrame'>, <class 'NoneType'>\n",
      "\n",
      "-------------------- Model Summary --------------------\n",
      "Model: \"sequential_6\"\n",
      "_________________________________________________________________\n",
      "Layer (type)                 Output Shape              Param #   \n",
      "=================================================================\n",
      "flatten_6 (Flatten)          (None, 8)                 0         \n",
      "_________________________________________________________________\n",
      "Hidden-Layer1 (Dense)        (None, 512)               4608      \n",
      "_________________________________________________________________\n",
      "Hidden-Layer2 (Dense)        (None, 512)               262656    \n",
      "_________________________________________________________________\n",
      "Hidden-Layer3 (Dense)        (None, 512)               262656    \n",
      "_________________________________________________________________\n",
      "Hidden-Layer4 (Dense)        (None, 512)               262656    \n",
      "_________________________________________________________________\n",
      "dropout_6 (Dropout)          (None, 512)               0         \n",
      "_________________________________________________________________\n",
      "Output-Layer (Dense)         (None, 1)                 513       \n",
      "=================================================================\n",
      "Total params: 793,089\n",
      "Trainable params: 793,089\n",
      "Non-trainable params: 0\n",
      "_________________________________________________________________\n",
      "\n"
     ]
    },
    {
     "data": {
      "text/plain": [
       "<matplotlib.legend.Legend at 0x7fa168056090>"
      ]
     },
     "execution_count": 21,
     "metadata": {},
     "output_type": "execute_result"
    },
    {
     "data": {
      "image/png": "[encoded data removed]",
      "text/plain": [
       "<Figure size 432x288 with 1 Axes>"
      ]
     },
     "metadata": {
      "needs_background": "light"
     },
     "output_type": "display_data"
    }
   ],
   "source": [
    "##### Step 6 - Use model to make predictions\n",
    "# Predict class labels on training data\n",
    "pred_labels_tr_complexSMOTEENN_prob = (model_complex_SMOTEENN_4l_512n.predict(x_training))\n",
    "# Predict class labels on a test data\n",
    "pred_labels_te_complexSMOTEENN_prob = (model_complex_SMOTEENN_4l_512n.predict(x_test))\n",
    "#> 0.01).astype(int)\n",
    "\n",
    "\n",
    "##### Step 7 - Model Performance Summary\n",
    "print(\"\")\n",
    "print('-------------------- Model Summary --------------------')\n",
    "model_complex_SMOTEENN_4l_512n.summary() # print model summary\n",
    "print(\"\")\n",
    "\n",
    "\n",
    "from sklearn import metrics\n",
    "from sklearn import datasets\n",
    "from sklearn.model_selection import train_test_split\n",
    "from sklearn.linear_model import LogisticRegression\n",
    "from sklearn.ensemble import GradientBoostingClassifier\n",
    "import numpy as np\n",
    "import matplotlib.pyplot as plt\n",
    "\n",
    "plt.figure(0).clf()\n",
    "\n",
    "\n",
    "fpr, tpr, _ = metrics.roc_curve(y_test, pred_labels_te_complexSMOTEENN_prob)\n",
    "auc = round(metrics.roc_auc_score(y_test, pred_labels_te_complexSMOTEENN_prob), 4)\n",
    "plt.plot(fpr,tpr,label=\"complex_SMOTEEEN_4l_512n, AUC=\"+str(auc))\n",
    "\n",
    "\n",
    "\n",
    "\n",
    "\n",
    "#add legend\n",
    "plt.legend()"
   ]
  },
  {
   "cell_type": "code",
   "execution_count": 1,
   "id": "795f747a",
   "metadata": {},
   "outputs": [
    {
     "ename": "NameError",
     "evalue": "name 'tf' is not defined",
     "output_type": "error",
     "traceback": [
      "\u001b[0;31m---------------------------------------------------------------------------\u001b[0m",
      "\u001b[0;31mNameError\u001b[0m                                 Traceback (most recent call last)",
      "\u001b[0;32m/var/folders/6l/2k5dphhj4z30f5zpqx44561c0000gn/T/ipykernel_1005/3647999300.py\u001b[0m in \u001b[0;36m<module>\u001b[0;34m\u001b[0m\n\u001b[1;32m      1\u001b[0m \u001b[0;31m##### Step 5 - Specify the structure of a Neural Network\u001b[0m\u001b[0;34m\u001b[0m\u001b[0;34m\u001b[0m\u001b[0;34m\u001b[0m\u001b[0m\n\u001b[0;32m----> 2\u001b[0;31m model_simple1_SMOTEENN = tf.keras.models.Sequential([\n\u001b[0m\u001b[1;32m      3\u001b[0m     \u001b[0mtf\u001b[0m\u001b[0;34m.\u001b[0m\u001b[0mkeras\u001b[0m\u001b[0;34m.\u001b[0m\u001b[0mlayers\u001b[0m\u001b[0;34m.\u001b[0m\u001b[0mFlatten\u001b[0m\u001b[0;34m(\u001b[0m\u001b[0minput_shape\u001b[0m\u001b[0;34m=\u001b[0m\u001b[0;34m(\u001b[0m\u001b[0;36m8\u001b[0m\u001b[0;34m,\u001b[0m\u001b[0;34m)\u001b[0m\u001b[0;34m)\u001b[0m\u001b[0;34m,\u001b[0m\u001b[0;34m\u001b[0m\u001b[0;34m\u001b[0m\u001b[0m\n\u001b[1;32m      4\u001b[0m     \u001b[0mtf\u001b[0m\u001b[0;34m.\u001b[0m\u001b[0mkeras\u001b[0m\u001b[0;34m.\u001b[0m\u001b[0mlayers\u001b[0m\u001b[0;34m.\u001b[0m\u001b[0mDense\u001b[0m\u001b[0;34m(\u001b[0m\u001b[0;36m1\u001b[0m\u001b[0;34m,\u001b[0m \u001b[0mactivation\u001b[0m\u001b[0;34m=\u001b[0m\u001b[0;34m'tanh'\u001b[0m\u001b[0;34m,\u001b[0m \u001b[0mname\u001b[0m\u001b[0;34m=\u001b[0m\u001b[0;34m'Hidden-Layer1'\u001b[0m\u001b[0;34m)\u001b[0m\u001b[0;34m,\u001b[0m\u001b[0;34m\u001b[0m\u001b[0;34m\u001b[0m\u001b[0m\n\u001b[1;32m      5\u001b[0m     \u001b[0mtf\u001b[0m\u001b[0;34m.\u001b[0m\u001b[0mkeras\u001b[0m\u001b[0;34m.\u001b[0m\u001b[0mlayers\u001b[0m\u001b[0;34m.\u001b[0m\u001b[0mDropout\u001b[0m\u001b[0;34m(\u001b[0m\u001b[0;36m0.2\u001b[0m\u001b[0;34m)\u001b[0m\u001b[0;34m,\u001b[0m\u001b[0;34m\u001b[0m\u001b[0;34m\u001b[0m\u001b[0m\n",
      "\u001b[0;31mNameError\u001b[0m: name 'tf' is not defined"
     ]
    }
   ],
   "source": [
    "##### Step 5 - Specify the structure of a Neural Network\n",
    "model_simple1_SMOTEENN = tf.keras.models.Sequential([\n",
    "    tf.keras.layers.Flatten(input_shape=(8,)),\n",
    "    tf.keras.layers.Dense(1, activation='tanh', name='Hidden-Layer1'),\n",
    "    tf.keras.layers.Dropout(0.2),\n",
    "    tf.keras.layers.Dense(1, activation='sigmoid', name='Output-Layer')\n",
    "])\n",
    "\n",
    "checkpoint_filepath = '/tmp/checkpoint1'\n",
    "model_checkpoint_callback = tf.keras.callbacks.ModelCheckpoint(\n",
    "    filepath=checkpoint_filepath,\n",
    "    save_weights_only=True,\n",
    "    monitor='val_accuracy',\n",
    "    mode='max',\n",
    "    save_best_only=True)\n",
    "\n",
    "model_simple1_SMOTEENN.compile(optimizer='adam',\n",
    "    loss='binary_crossentropy',\n",
    "    metrics=['accuracy'])\n",
    "\n",
    "model_simple1_SMOTEENN.fit(X_training, Y_traning, epochs = 25 , sample_weight=sample_weight, callbacks=[model_checkpoint_callback],  validation_data=(x_validation, y_validation))#*********more epochs = 5\n"
   ]
  },
  {
   "cell_type": "code",
   "execution_count": 30,
   "id": "2a226986",
   "metadata": {},
   "outputs": [
    {
     "name": "stdout",
     "output_type": "stream",
     "text": [
      "INFO:tensorflow:Assets written to: model_simple_SMOTEENN_1l_1n_25epochs_savedmode/assets\n"
     ]
    }
   ],
   "source": [
    "model_simple1_SMOTEENN.save('model_simple_SMOTEENN_1l_1n_25epochs_savedmode')\n",
    "model_simple1_SMOTEENN.save('model_simple_SMOTEENN_1l_1n_25epochs_savedmode.h5')"
   ]
  },
  {
   "cell_type": "code",
   "execution_count": 27,
   "id": "6a36b62c",
   "metadata": {},
   "outputs": [
    {
     "name": "stdout",
     "output_type": "stream",
     "text": [
      "WARNING:tensorflow:Falling back from v2 loop because of error: Failed to find data adapter that can handle input: <class 'pandas.core.frame.DataFrame'>, <class 'NoneType'>\n",
      "WARNING:tensorflow:Falling back from v2 loop because of error: Failed to find data adapter that can handle input: <class 'pandas.core.frame.DataFrame'>, <class 'NoneType'>\n",
      "\n",
      "-------------------- Model Summary --------------------\n",
      "Model: \"sequential_9\"\n",
      "_________________________________________________________________\n",
      "Layer (type)                 Output Shape              Param #   \n",
      "=================================================================\n",
      "flatten_9 (Flatten)          (None, 8)                 0         \n",
      "_________________________________________________________________\n",
      "Hidden-Layer1 (Dense)        (None, 1)                 9         \n",
      "_________________________________________________________________\n",
      "dropout_9 (Dropout)          (None, 1)                 0         \n",
      "_________________________________________________________________\n",
      "Output-Layer (Dense)         (None, 1)                 2         \n",
      "=================================================================\n",
      "Total params: 11\n",
      "Trainable params: 11\n",
      "Non-trainable params: 0\n",
      "_________________________________________________________________\n",
      "\n",
      "-------------------- Weights and Biases --------------------\n",
      "Layer:  flatten_9\n",
      "Layer:  Hidden-Layer1\n",
      "Layer:  dropout_9\n",
      "Layer:  Output-Layer\n",
      "\n",
      "---------- Evaluation on Training Data ----------\n",
      "              precision    recall  f1-score   support\n",
      "\n",
      "         0.0       1.00      0.74      0.85   4254174\n",
      "         1.0       0.01      0.77      0.02     14597\n",
      "\n",
      "    accuracy                           0.74   4268771\n",
      "   macro avg       0.50      0.76      0.44   4268771\n",
      "weighted avg       1.00      0.74      0.85   4268771\n",
      "\n",
      "\n",
      "---------- Evaluation on Test Data ----------\n",
      "              precision    recall  f1-score   support\n",
      "\n",
      "         0.0       1.00      0.74      0.85    537732\n",
      "         1.0       0.01      0.81      0.02      1755\n",
      "\n",
      "    accuracy                           0.74    539487\n",
      "   macro avg       0.50      0.78      0.44    539487\n",
      "weighted avg       1.00      0.74      0.85    539487\n",
      "\n",
      "\n"
     ]
    },
    {
     "data": {
      "text/plain": [
       "<sklearn.metrics._plot.confusion_matrix.ConfusionMatrixDisplay at 0x7fa19a3e4350>"
      ]
     },
     "execution_count": 27,
     "metadata": {},
     "output_type": "execute_result"
    },
    {
     "data": {
      "image/png": "[encoded data removed]",
      "text/plain": [
       "<Figure size 432x288 with 1 Axes>"
      ]
     },
     "metadata": {
      "needs_background": "light"
     },
     "output_type": "display_data"
    },
    {
     "data": {
      "image/png": "[encoded data removed]",
      "text/plain": [
       "<Figure size 432x288 with 1 Axes>"
      ]
     },
     "metadata": {
      "needs_background": "light"
     },
     "output_type": "display_data"
    }
   ],
   "source": [
    "##### Step 6 - Use model to make predictions\n",
    "# Predict class labels on training data\n",
    "pred_labels_tr_simple1_SMOTEENN = (model_simple1_SMOTEENN.predict(x_training)> 0.5).astype(int)\n",
    "# Predict class labels on a test data\n",
    "pred_labels_te_simple1_SMOTEENN = (model_simple1_SMOTEENN.predict(x_test)> 0.5).astype(int)\n",
    "#> 0.01).astype(int)\n",
    "\n",
    "\n",
    "##### Step 7 - Model Performance Summary\n",
    "print(\"\")\n",
    "print('-------------------- Model Summary --------------------')\n",
    "model_simple1_SMOTEENN.summary() # print model summary\n",
    "print(\"\")\n",
    "print('-------------------- Weights and Biases --------------------')\n",
    "for layer in model_simple1_SMOTEENN.layers:\n",
    "    print(\"Layer: \", layer.name) # print layer name\n",
    "    \n",
    "print(\"\")\n",
    "print('---------- Evaluation on Training Data ----------')\n",
    "print(classification_report(y_training, pred_labels_tr_simple1_SMOTEENN))\n",
    "print(\"\")\n",
    "\n",
    "print('---------- Evaluation on Test Data ----------')\n",
    "print(classification_report(y_test, pred_labels_te_simple1_SMOTEENN))\n",
    "print(\"\")\n",
    "\n",
    "from sklearn.metrics import confusion_matrix\n",
    "import matplotlib.pyplot as plt\n",
    "\n",
    "from sklearn.metrics import ConfusionMatrixDisplay\n",
    "ConfusionMatrixDisplay(confusion_matrix(y_test, pred_labels_te_simple1_SMOTEENN)).plot(colorbar=False,cmap=plt.cm.Blues)\n",
    "ConfusionMatrixDisplay(confusion_matrix(y_test, pred_labels_te_simple1_SMOTEENN,normalize='true')).plot(colorbar=False,cmap=plt.cm.Blues)"
   ]
  },
  {
   "cell_type": "code",
   "execution_count": 28,
   "id": "75649e7a",
   "metadata": {},
   "outputs": [
    {
     "name": "stdout",
     "output_type": "stream",
     "text": [
      "WARNING:tensorflow:Falling back from v2 loop because of error: Failed to find data adapter that can handle input: <class 'pandas.core.frame.DataFrame'>, <class 'NoneType'>\n",
      "WARNING:tensorflow:Falling back from v2 loop because of error: Failed to find data adapter that can handle input: <class 'pandas.core.frame.DataFrame'>, <class 'NoneType'>\n",
      "\n",
      "-------------------- Model Summary --------------------\n",
      "Model: \"sequential_9\"\n",
      "_________________________________________________________________\n",
      "Layer (type)                 Output Shape              Param #   \n",
      "=================================================================\n",
      "flatten_9 (Flatten)          (None, 8)                 0         \n",
      "_________________________________________________________________\n",
      "Hidden-Layer1 (Dense)        (None, 1)                 9         \n",
      "_________________________________________________________________\n",
      "dropout_9 (Dropout)          (None, 1)                 0         \n",
      "_________________________________________________________________\n",
      "Output-Layer (Dense)         (None, 1)                 2         \n",
      "=================================================================\n",
      "Total params: 11\n",
      "Trainable params: 11\n",
      "Non-trainable params: 0\n",
      "_________________________________________________________________\n",
      "\n"
     ]
    },
    {
     "data": {
      "text/plain": [
       "<matplotlib.legend.Legend at 0x7fa15cf30a50>"
      ]
     },
     "execution_count": 28,
     "metadata": {},
     "output_type": "execute_result"
    },
    {
     "data": {
      "image/png": "[encoded data removed]",
      "text/plain": [
       "<Figure size 432x288 with 1 Axes>"
      ]
     },
     "metadata": {
      "needs_background": "light"
     },
     "output_type": "display_data"
    }
   ],
   "source": [
    "##### Step 6 - Use model to make predictions\n",
    "# Predict class labels on training data\n",
    "pred_labels_tr_simple1_SMOTEENN_prob = (model_simple1_SMOTEENN.predict(x_training))\n",
    "# Predict class labels on a test data\n",
    "pred_labels_tr_simple1_SMOTEENN_prob = (model_simple1_SMOTEENN.predict(x_test))\n",
    "#> 0.01).astype(int)\n",
    "\n",
    "\n",
    "##### Step 7 - Model Performance Summary\n",
    "print(\"\")\n",
    "print('-------------------- Model Summary --------------------')\n",
    "model_simple1_SMOTEENN.summary() # print model summary\n",
    "print(\"\")\n",
    "\n",
    "\n",
    "from sklearn import metrics\n",
    "from sklearn import datasets\n",
    "from sklearn.model_selection import train_test_split\n",
    "from sklearn.linear_model import LogisticRegression\n",
    "from sklearn.ensemble import GradientBoostingClassifier\n",
    "import numpy as np\n",
    "import matplotlib.pyplot as plt\n",
    "\n",
    "plt.figure(0).clf()\n",
    "\n",
    "\n",
    "fpr, tpr, _ = metrics.roc_curve(y_test, pred_labels_tr_simple1_SMOTEENN_prob)\n",
    "auc = round(metrics.roc_auc_score(y_test, pred_labels_tr_simple1_SMOTEENN_prob), 4)\n",
    "plt.plot(fpr,tpr,label=\"complex_SMOTEEEN_4l_512n, AUC=\"+str(auc))\n",
    "\n",
    "\n",
    "\n",
    "\n",
    "\n",
    "#add legend\n",
    "plt.legend()"
   ]
  },
  {
   "cell_type": "code",
   "execution_count": 32,
   "id": "948daac8",
   "metadata": {},
   "outputs": [
    {
     "name": "stderr",
     "output_type": "stream",
     "text": [
      "No artists with labels found to put in legend.  Note that artists whose label start with an underscore are ignored when legend() is called with no argument.\n"
     ]
    },
    {
     "name": "stdout",
     "output_type": "stream",
     "text": [
      "Model: \"sequential_3\"\n",
      "_________________________________________________________________\n",
      "Layer (type)                 Output Shape              Param #   \n",
      "=================================================================\n",
      "flatten_3 (Flatten)          (None, 8)                 0         \n",
      "_________________________________________________________________\n",
      "Hidden-Layer1 (Dense)        (None, 512)               4608      \n",
      "_________________________________________________________________\n",
      "dropout_3 (Dropout)          (None, 512)               0         \n",
      "_________________________________________________________________\n",
      "Output-Layer (Dense)         (None, 1)                 513       \n",
      "=================================================================\n",
      "Total params: 5,121\n",
      "Trainable params: 5,121\n",
      "Non-trainable params: 0\n",
      "_________________________________________________________________\n",
      "WARNING:tensorflow:Falling back from v2 loop because of error: Failed to find data adapter that can handle input: <class 'pandas.core.frame.DataFrame'>, <class 'NoneType'>\n",
      "WARNING:tensorflow:Falling back from v2 loop because of error: Failed to find data adapter that can handle input: <class 'pandas.core.frame.DataFrame'>, <class 'NoneType'>\n"
     ]
    },
    {
     "data": {
      "image/png": "[encoded data removed]",
      "text/plain": [
       "<Figure size 432x288 with 1 Axes>"
      ]
     },
     "metadata": {
      "needs_background": "light"
     },
     "output_type": "display_data"
    }
   ],
   "source": [
    "model_simple_SMOTEENN = tf.keras.models.load_model('model_simple_SMOTEENN_512n')\n",
    "\n",
    "# Check its architecture\n",
    "model_simple_SMOTEENN.summary()\n",
    "#add legend\n",
    "plt.legend()\n",
    "\n",
    "##### Step 6 - Use model to make predictions\n",
    "# Predict class labels on training data\n",
    "pred_labels_tr_simple_SMOTEENN_512n = (model_simple_SMOTEENN.predict(x_training))\n",
    "# Predict class labels on a test data\n",
    "pred_labels_te_simple_SMOTEENN_512n = (model_simple_SMOTEENN.predict(x_test))\n",
    "#> 0.01).astype(int)\n"
   ]
  },
  {
   "cell_type": "code",
   "execution_count": 33,
   "id": "7854621c",
   "metadata": {},
   "outputs": [
    {
     "data": {
      "text/plain": [
       "<matplotlib.legend.Legend at 0x7fa1cca9bc90>"
      ]
     },
     "execution_count": 33,
     "metadata": {},
     "output_type": "execute_result"
    },
    {
     "data": {
      "image/png": "[encoded data removed]",
      "text/plain": [
       "<Figure size 432x288 with 1 Axes>"
      ]
     },
     "metadata": {
      "needs_background": "light"
     },
     "output_type": "display_data"
    }
   ],
   "source": [
    "plt.figure(0).clf()\n",
    "\n",
    "\n",
    "fpr, tpr, _ = metrics.roc_curve(y_test, pred_labels_tr_simple1_SMOTEENN_prob)\n",
    "auc = round(metrics.roc_auc_score(y_test, pred_labels_tr_simple1_SMOTEENN_prob), 4)\n",
    "plt.plot(fpr,tpr,label=\"simple_model_SMOTEEEN ,1n,1l, AUC=\"+str(auc))\n",
    "\n",
    "\n",
    "fpr, tpr, _ = metrics.roc_curve(y_test, pred_labels_te_simple_SMOTEENN_512n)\n",
    "auc = round(metrics.roc_auc_score(y_test, pred_labels_te_simple_SMOTEENN_512n), 4)\n",
    "plt.plot(fpr,tpr,label=\"complex_model_SMOTEEEN 512n,1l, AUC=\"+str(auc))\n",
    "\n",
    "fpr, tpr, _ = metrics.roc_curve(y_test, pred_labels_te_complexSMOTEENN_prob)\n",
    "auc = round(metrics.roc_auc_score(y_test, pred_labels_te_complexSMOTEENN_prob), 4)\n",
    "plt.plot(fpr,tpr,label=\"complex_model_SMOTEEEN,512n,4l,  AUC=\"+str(auc))\n",
    "\n",
    "\n",
    "\n",
    "#add legend\n",
    "plt.legend()"
   ]
  },
  {
   "cell_type": "code",
   "execution_count": 4,
   "id": "f7479faa",
   "metadata": {},
   "outputs": [
    {
     "name": "stdout",
     "output_type": "stream",
     "text": [
      "WARNING:tensorflow:Falling back from v2 loop because of error: Failed to find data adapter that can handle input: <class 'pandas.core.frame.DataFrame'>, <class 'NoneType'>\n"
     ]
    },
    {
     "name": "stderr",
     "output_type": "stream",
     "text": [
      "2022-07-07 21:18:01.579032: I tensorflow/core/platform/cpu_feature_guard.cc:145] This TensorFlow binary is optimized with Intel(R) MKL-DNN to use the following CPU instructions in performance critical operations:  SSE4.1 SSE4.2\n",
      "To enable them in non-MKL-DNN operations, rebuild TensorFlow with the appropriate compiler flags.\n",
      "2022-07-07 21:18:01.580783: I tensorflow/core/common_runtime/process_util.cc:115] Creating new thread pool with default inter op setting: 8. Tune using inter_op_parallelism_threads for best performance.\n"
     ]
    },
    {
     "name": "stdout",
     "output_type": "stream",
     "text": [
      "Train on 8388051 samples, validate on 688402 samples\n",
      "Epoch 1/25\n",
      "8388051/8388051 [==============================] - 992s 118us/sample - loss: 0.5190 - accuracy: 0.7376 - val_loss: 0.4753 - val_accuracy: 0.7283\n",
      "Epoch 2/25\n",
      "8388051/8388051 [==============================] - 370s 44us/sample - loss: 0.5123 - accuracy: 0.7415 - val_loss: 0.5134 - val_accuracy: 0.7582\n",
      "Epoch 3/25\n",
      "8388051/8388051 [==============================] - 1539s 183us/sample - loss: 0.5120 - accuracy: 0.7417 - val_loss: 0.5207 - val_accuracy: 0.7298\n",
      "Epoch 4/25\n",
      "8388051/8388051 [==============================] - 336s 40us/sample - loss: 0.5118 - accuracy: 0.7416 - val_loss: 0.5215 - val_accuracy: 0.7295\n",
      "Epoch 5/25\n",
      "8388051/8388051 [==============================] - 323s 39us/sample - loss: 0.5123 - accuracy: 0.7415 - val_loss: 0.5307 - val_accuracy: 0.7388\n",
      "Epoch 6/25\n",
      "8388051/8388051 [==============================] - 1045s 125us/sample - loss: 0.5125 - accuracy: 0.7418 - val_loss: 0.5269 - val_accuracy: 0.6675\n",
      "Epoch 7/25\n",
      "8388051/8388051 [==============================] - 617s 74us/sample - loss: 0.5121 - accuracy: 0.7417 - val_loss: 0.5054 - val_accuracy: 0.8003\n",
      "Epoch 8/25\n",
      "8388051/8388051 [==============================] - 310s 37us/sample - loss: 0.5122 - accuracy: 0.7417 - val_loss: 0.5101 - val_accuracy: 0.7977\n",
      "Epoch 9/25\n",
      "8388051/8388051 [==============================] - 430s 51us/sample - loss: 0.5131 - accuracy: 0.7410 - val_loss: 0.4831 - val_accuracy: 0.7369\n",
      "Epoch 10/25\n",
      "8388051/8388051 [==============================] - 1714s 204us/sample - loss: 0.5121 - accuracy: 0.7416 - val_loss: 0.5345 - val_accuracy: 0.7243\n",
      "Epoch 11/25\n",
      "8388051/8388051 [==============================] - 962s 115us/sample - loss: 0.5119 - accuracy: 0.7417 - val_loss: 0.4816 - val_accuracy: 0.7542\n",
      "Epoch 12/25\n",
      "8388051/8388051 [==============================] - 656s 78us/sample - loss: 0.5118 - accuracy: 0.7413 - val_loss: 0.4951 - val_accuracy: 0.7888\n",
      "Epoch 13/25\n",
      "8388051/8388051 [==============================] - 629s 75us/sample - loss: 0.5118 - accuracy: 0.7414 - val_loss: 0.4876 - val_accuracy: 0.6830\n",
      "Epoch 14/25\n",
      "8388051/8388051 [==============================] - 386s 46us/sample - loss: 0.5118 - accuracy: 0.7420 - val_loss: 0.5087 - val_accuracy: 0.6946\n",
      "Epoch 15/25\n",
      "8388051/8388051 [==============================] - 1460s 174us/sample - loss: 0.5118 - accuracy: 0.7419 - val_loss: 0.5121 - val_accuracy: 0.7606\n",
      "Epoch 16/25\n",
      "8388051/8388051 [==============================] - 323s 39us/sample - loss: 0.5117 - accuracy: 0.7420 - val_loss: 0.5008 - val_accuracy: 0.7506\n",
      "Epoch 17/25\n",
      "8388051/8388051 [==============================] - 317s 38us/sample - loss: 0.5117 - accuracy: 0.7419 - val_loss: 0.4981 - val_accuracy: 0.7784\n",
      "Epoch 18/25\n",
      "8388051/8388051 [==============================] - 319s 38us/sample - loss: 0.5117 - accuracy: 0.7418 - val_loss: 0.5451 - val_accuracy: 0.7612\n",
      "Epoch 19/25\n",
      "8388051/8388051 [==============================] - 321s 38us/sample - loss: 0.5120 - accuracy: 0.7416 - val_loss: 0.5013 - val_accuracy: 0.7922\n",
      "Epoch 20/25\n",
      "8388051/8388051 [==============================] - 314s 37us/sample - loss: 0.5118 - accuracy: 0.7418 - val_loss: 0.5061 - val_accuracy: 0.7441\n",
      "Epoch 21/25\n",
      "8388051/8388051 [==============================] - 326s 39us/sample - loss: 0.5117 - accuracy: 0.7421 - val_loss: 0.4787 - val_accuracy: 0.7332\n",
      "Epoch 22/25\n",
      "8388051/8388051 [==============================] - 318s 38us/sample - loss: 0.5115 - accuracy: 0.7418 - val_loss: 0.4977 - val_accuracy: 0.7588\n",
      "Epoch 23/25\n",
      "8388051/8388051 [==============================] - 427s 51us/sample - loss: 0.5117 - accuracy: 0.7421 - val_loss: 0.4950 - val_accuracy: 0.7739\n",
      "Epoch 24/25\n",
      "8388051/8388051 [==============================] - 530s 63us/sample - loss: 0.5117 - accuracy: 0.7419 - val_loss: 0.5019 - val_accuracy: 0.7141\n",
      "Epoch 25/25\n",
      "8388051/8388051 [==============================] - 429s 51us/sample - loss: 0.5115 - accuracy: 0.7418 - val_loss: 0.5109 - val_accuracy: 0.7409\n"
     ]
    }
   ],
   "source": [
    "##### Step 5 - Specify the structure of a Neural Network\n",
    "model_simple8_SMOTEENN = tf.keras.models.Sequential([\n",
    "    tf.keras.layers.Flatten(input_shape=(8,)),\n",
    "    tf.keras.layers.Dense(8, activation='tanh', name='Hidden-Layer1'),\n",
    "    tf.keras.layers.Dropout(0.2),\n",
    "    tf.keras.layers.Dense(1, activation='sigmoid', name='Output-Layer')\n",
    "])\n",
    "\n",
    "checkpoint_filepath = '/tmp/checkpointmodel_simple8_SMOTEENN'\n",
    "model_checkpoint_callback = tf.keras.callbacks.ModelCheckpoint(\n",
    "    filepath=checkpoint_filepath,\n",
    "    save_weights_only=True,\n",
    "    monitor='val_accuracy',\n",
    "    mode='max',\n",
    "    save_best_only=True)\n",
    "\n",
    "model_simple8_SMOTEENN.compile(optimizer='adam',\n",
    "    loss='binary_crossentropy',\n",
    "    metrics=['accuracy'])\n",
    "\n",
    "h = model_simple8_SMOTEENN.fit(X_training_smtenn, Y_traning_smtenn, epochs = 25 ,callbacks=[model_checkpoint_callback],  validation_data=(x_validation, y_validation))#*********more epochs = 5\n"
   ]
  },
  {
   "cell_type": "code",
   "execution_count": 5,
   "id": "30d9e0cc",
   "metadata": {},
   "outputs": [
    {
     "name": "stdout",
     "output_type": "stream",
     "text": [
      "WARNING:tensorflow:From /Users/3rfanian/opt/anaconda3/envs/project_thesis/lib/python3.7/site-packages/tensorflow_core/python/ops/resource_variable_ops.py:1781: calling BaseResourceVariable.__init__ (from tensorflow.python.ops.resource_variable_ops) with constraint is deprecated and will be removed in a future version.\n",
      "Instructions for updating:\n",
      "If using Keras pass *_constraint arguments to layers.\n"
     ]
    },
    {
     "name": "stderr",
     "output_type": "stream",
     "text": [
      "2022-07-08 01:34:37.570959: W tensorflow/python/util/util.cc:299] Sets are not currently considered sequences, but this may change in the future, so consider avoiding using them.\n"
     ]
    },
    {
     "name": "stdout",
     "output_type": "stream",
     "text": [
      "INFO:tensorflow:Assets written to: model_simple8_SMOTEENN/assets\n"
     ]
    }
   ],
   "source": [
    "model_simple8_SMOTEENN.save('model_simple8_SMOTEENN')\n",
    "model_simple8_SMOTEENN.save('model_simple8_SMOTEENN.h5')"
   ]
  },
  {
   "cell_type": "code",
   "execution_count": 6,
   "id": "f6d0d342",
   "metadata": {},
   "outputs": [
    {
     "name": "stdout",
     "output_type": "stream",
     "text": [
      "WARNING:tensorflow:Falling back from v2 loop because of error: Failed to find data adapter that can handle input: <class 'pandas.core.frame.DataFrame'>, <class 'NoneType'>\n",
      "WARNING:tensorflow:Falling back from v2 loop because of error: Failed to find data adapter that can handle input: <class 'pandas.core.frame.DataFrame'>, <class 'NoneType'>\n",
      "\n",
      "-------------------- Model Summary --------------------\n",
      "Model: \"sequential\"\n",
      "_________________________________________________________________\n",
      "Layer (type)                 Output Shape              Param #   \n",
      "=================================================================\n",
      "flatten (Flatten)            (None, 8)                 0         \n",
      "_________________________________________________________________\n",
      "Hidden-Layer1 (Dense)        (None, 8)                 72        \n",
      "_________________________________________________________________\n",
      "dropout (Dropout)            (None, 8)                 0         \n",
      "_________________________________________________________________\n",
      "Output-Layer (Dense)         (None, 1)                 9         \n",
      "=================================================================\n",
      "Total params: 81\n",
      "Trainable params: 81\n",
      "Non-trainable params: 0\n",
      "_________________________________________________________________\n",
      "\n",
      "-------------------- Weights and Biases --------------------\n",
      "Layer:  flatten\n",
      "Layer:  Hidden-Layer1\n",
      "Layer:  dropout\n",
      "Layer:  Output-Layer\n",
      "\n",
      "---------- Evaluation on Training Data ----------\n",
      "              precision    recall  f1-score   support\n",
      "\n",
      "         0.0       1.00      0.74      0.85   4254174\n",
      "         1.0       0.01      0.78      0.02     14597\n",
      "\n",
      "    accuracy                           0.74   4268771\n",
      "   macro avg       0.50      0.76      0.43   4268771\n",
      "weighted avg       1.00      0.74      0.85   4268771\n",
      "\n",
      "\n",
      "---------- Evaluation on Test Data ----------\n",
      "              precision    recall  f1-score   support\n",
      "\n",
      "         0.0       1.00      0.74      0.85    537732\n",
      "         1.0       0.01      0.81      0.02      1755\n",
      "\n",
      "    accuracy                           0.74    539487\n",
      "   macro avg       0.50      0.77      0.43    539487\n",
      "weighted avg       1.00      0.74      0.84    539487\n",
      "\n",
      "\n"
     ]
    },
    {
     "data": {
      "text/plain": [
       "<sklearn.metrics._plot.confusion_matrix.ConfusionMatrixDisplay at 0x7fcef8b044d0>"
      ]
     },
     "execution_count": 6,
     "metadata": {},
     "output_type": "execute_result"
    },
    {
     "data": {
      "image/png": "[encoded data removed]",
      "text/plain": [
       "<Figure size 432x288 with 1 Axes>"
      ]
     },
     "metadata": {
      "needs_background": "light"
     },
     "output_type": "display_data"
    },
    {
     "data": {
      "image/png": "[encoded data removed]",
      "text/plain": [
       "<Figure size 432x288 with 1 Axes>"
      ]
     },
     "metadata": {
      "needs_background": "light"
     },
     "output_type": "display_data"
    }
   ],
   "source": [
    "##### Step 6 - Use model to make predictions\n",
    "# Predict class labels on training data\n",
    "pred_labels_tr_simple8_SMOTEENN = (model_simple8_SMOTEENN.predict(x_training)> 0.5).astype(int)\n",
    "# Predict class labels on a test data\n",
    "pred_labels_te_simple8_SMOTEENN = (model_simple8_SMOTEENN.predict(x_test)> 0.5).astype(int)\n",
    "#> 0.01).astype(int)\n",
    "\n",
    "\n",
    "##### Step 7 - Model Performance Summary\n",
    "print(\"\")\n",
    "print('-------------------- Model Summary --------------------')\n",
    "model_simple8_SMOTEENN.summary() # print model summary\n",
    "print(\"\")\n",
    "print('-------------------- Weights and Biases --------------------')\n",
    "for layer in model_simple8_SMOTEENN.layers:\n",
    "    print(\"Layer: \", layer.name) # print layer name\n",
    "    \n",
    "print(\"\")\n",
    "print('---------- Evaluation on Training Data ----------')\n",
    "print(classification_report(y_training, pred_labels_tr_simple8_SMOTEENN))\n",
    "print(\"\")\n",
    "\n",
    "print('---------- Evaluation on Test Data ----------')\n",
    "print(classification_report(y_test, pred_labels_te_simple8_SMOTEENN))\n",
    "print(\"\")\n",
    "\n",
    "from sklearn.metrics import confusion_matrix\n",
    "import matplotlib.pyplot as plt\n",
    "\n",
    "from sklearn.metrics import ConfusionMatrixDisplay\n",
    "ConfusionMatrixDisplay(confusion_matrix(y_test, pred_labels_te_simple8_SMOTEENN)).plot(colorbar=False,cmap=plt.cm.Blues)\n",
    "ConfusionMatrixDisplay(confusion_matrix(y_test, pred_labels_te_simple8_SMOTEENN,normalize='true')).plot(colorbar=False,cmap=plt.cm.Blues)"
   ]
  },
  {
   "cell_type": "code",
   "execution_count": 7,
   "id": "29039c48",
   "metadata": {},
   "outputs": [
    {
     "name": "stdout",
     "output_type": "stream",
     "text": [
      "WARNING:tensorflow:Falling back from v2 loop because of error: Failed to find data adapter that can handle input: <class 'pandas.core.frame.DataFrame'>, <class 'NoneType'>\n",
      "WARNING:tensorflow:Falling back from v2 loop because of error: Failed to find data adapter that can handle input: <class 'pandas.core.frame.DataFrame'>, <class 'NoneType'>\n",
      "\n",
      "-------------------- Model Summary --------------------\n",
      "Model: \"sequential\"\n",
      "_________________________________________________________________\n",
      "Layer (type)                 Output Shape              Param #   \n",
      "=================================================================\n",
      "flatten (Flatten)            (None, 8)                 0         \n",
      "_________________________________________________________________\n",
      "Hidden-Layer1 (Dense)        (None, 8)                 72        \n",
      "_________________________________________________________________\n",
      "dropout (Dropout)            (None, 8)                 0         \n",
      "_________________________________________________________________\n",
      "Output-Layer (Dense)         (None, 1)                 9         \n",
      "=================================================================\n",
      "Total params: 81\n",
      "Trainable params: 81\n",
      "Non-trainable params: 0\n",
      "_________________________________________________________________\n",
      "\n"
     ]
    },
    {
     "data": {
      "text/plain": [
       "<matplotlib.legend.Legend at 0x7fcf1bb78310>"
      ]
     },
     "execution_count": 7,
     "metadata": {},
     "output_type": "execute_result"
    },
    {
     "data": {
      "image/png": "[encoded data removed]",
      "text/plain": [
       "<Figure size 432x288 with 1 Axes>"
      ]
     },
     "metadata": {
      "needs_background": "light"
     },
     "output_type": "display_data"
    }
   ],
   "source": [
    "##### Step 6 - Use model to make predictions\n",
    "# Predict class labels on training data\n",
    "pred_labels_tr_simple8_SMOTEENN_prob = (model_simple8_SMOTEENN.predict(x_training))\n",
    "# Predict class labels on a test data\n",
    "pred_labels_te_simple8_SMOTEENN_prob = (model_simple8_SMOTEENN.predict(x_test))\n",
    "#> 0.01).astype(int)\n",
    "\n",
    "\n",
    "##### Step 7 - Model Performance Summary\n",
    "print(\"\")\n",
    "print('-------------------- Model Summary --------------------')\n",
    "model_simple8_SMOTEENN.summary() # print model summary\n",
    "print(\"\")\n",
    "\n",
    "\n",
    "from sklearn import metrics\n",
    "from sklearn import datasets\n",
    "from sklearn.model_selection import train_test_split\n",
    "from sklearn.linear_model import LogisticRegression\n",
    "from sklearn.ensemble import GradientBoostingClassifier\n",
    "import numpy as np\n",
    "import matplotlib.pyplot as plt\n",
    "\n",
    "plt.figure(0).clf()\n",
    "\n",
    "\n",
    "fpr, tpr, _ = metrics.roc_curve(y_test, pred_labels_te_simple8_SMOTEENN_prob)\n",
    "auc = round(metrics.roc_auc_score(y_test, pred_labels_te_simple8_SMOTEENN_prob), 4)\n",
    "plt.plot(fpr,tpr,label=\"simple8_SMOTEENN_8nodes_1layer, AUC=\"+str(auc))\n",
    "\n",
    "\n",
    "\n",
    "\n",
    "\n",
    "#add legend\n",
    "plt.legend()"
   ]
  },
  {
   "cell_type": "code",
   "execution_count": 8,
   "id": "ea3c5dc3",
   "metadata": {},
   "outputs": [
    {
     "name": "stdout",
     "output_type": "stream",
     "text": [
      "WARNING:tensorflow:Falling back from v2 loop because of error: Failed to find data adapter that can handle input: <class 'pandas.core.frame.DataFrame'>, <class 'NoneType'>\n",
      "Train on 8388051 samples, validate on 688402 samples\n",
      "Epoch 1/10\n",
      "8388051/8388051 [==============================] - 2380s 284us/sample - loss: 0.3848 - accuracy: 0.8163 - val_loss: 0.3771 - val_accuracy: 0.8189\n",
      "Epoch 2/10\n",
      "8388051/8388051 [==============================] - 1937s 231us/sample - loss: 0.3757 - accuracy: 0.8211 - val_loss: 0.4743 - val_accuracy: 0.7684\n",
      "Epoch 3/10\n",
      "8388051/8388051 [==============================] - 1943s 232us/sample - loss: 0.3755 - accuracy: 0.8209 - val_loss: 0.4128 - val_accuracy: 0.7855\n",
      "Epoch 4/10\n",
      "8388051/8388051 [==============================] - 2274s 271us/sample - loss: 0.3760 - accuracy: 0.8211 - val_loss: 0.3722 - val_accuracy: 0.8121\n",
      "Epoch 5/10\n",
      "8388051/8388051 [==============================] - 2751s 328us/sample - loss: 0.3764 - accuracy: 0.8209 - val_loss: 0.3286 - val_accuracy: 0.8810\n",
      "Epoch 6/10\n",
      "8388051/8388051 [==============================] - 2091s 249us/sample - loss: 0.3768 - accuracy: 0.8206 - val_loss: 0.3392 - val_accuracy: 0.8636\n",
      "Epoch 7/10\n",
      "8388051/8388051 [==============================] - 2218s 264us/sample - loss: 0.3763 - accuracy: 0.8213 - val_loss: 0.4970 - val_accuracy: 0.7337\n",
      "Epoch 8/10\n",
      "8388051/8388051 [==============================] - 2222s 265us/sample - loss: 0.3767 - accuracy: 0.8214 - val_loss: 0.4987 - val_accuracy: 0.7185\n",
      "Epoch 9/10\n",
      "8388051/8388051 [==============================] - 2727s 325us/sample - loss: 0.3783 - accuracy: 0.8206 - val_loss: 0.4458 - val_accuracy: 0.7731\n",
      "Epoch 10/10\n",
      "8388051/8388051 [==============================] - 1982s 236us/sample - loss: 0.3798 - accuracy: 0.8196 - val_loss: 0.4522 - val_accuracy: 0.7725\n"
     ]
    },
    {
     "data": {
      "text/plain": [
       "<tensorflow.python.keras.callbacks.History at 0x7fcf1a1009d0>"
      ]
     },
     "execution_count": 8,
     "metadata": {},
     "output_type": "execute_result"
    }
   ],
   "source": [
    "##### Step 5 - Specify the structure of a Neural Network\n",
    "model_complx_SMOTEENN_4l_256n = tf.keras.models.Sequential([\n",
    "    tf.keras.layers.Flatten(input_shape=(8,)),\n",
    "    tf.keras.layers.Dense(256, activation='tanh', name='Hidden-Layer1'),\n",
    "    tf.keras.layers.Dense(256, activation='tanh', name='Hidden-Layer2'),\n",
    "    tf.keras.layers.Dense(256, activation='tanh', name='Hidden-Layer3'),\n",
    "    tf.keras.layers.Dense(256, activation='tanh', name='Hidden-Layer4'),\n",
    "    tf.keras.layers.Dropout(0.2),\n",
    "    tf.keras.layers.Dense(1, activation='sigmoid', name='Output-Layer')\n",
    "])\n",
    "\n",
    "checkpoint_filepath = '/tmp/checkpointmodel_simple8_SMOTEENN'\n",
    "model_checkpoint_callback = tf.keras.callbacks.ModelCheckpoint(\n",
    "    filepath=checkpoint_filepath,\n",
    "    save_weights_only=True,\n",
    "    monitor='val_accuracy',\n",
    "    mode='max',\n",
    "    save_best_only=True)\n",
    "\n",
    "model_complx_SMOTEENN_4l_256n.compile(optimizer='adam',\n",
    "    loss='binary_crossentropy',\n",
    "    metrics=['accuracy'])\n",
    "\n",
    "model_complx_SMOTEENN_4l_256n.fit(X_training_smtenn, Y_traning_smtenn, epochs = 10 ,callbacks=[model_checkpoint_callback],  validation_data=(x_validation, y_validation))#*********more epochs = 5\n"
   ]
  },
  {
   "cell_type": "code",
   "execution_count": 9,
   "id": "91bbd49a",
   "metadata": {},
   "outputs": [
    {
     "name": "stdout",
     "output_type": "stream",
     "text": [
      "INFO:tensorflow:Assets written to: model_complx_SMOTEENN_4l_256n/assets\n"
     ]
    }
   ],
   "source": [
    "model_complx_SMOTEENN_4l_256n.save('model_complx_SMOTEENN_4l_256n')\n",
    "model_complx_SMOTEENN_4l_256n.save('model_complx_SMOTEENN_4l_256n.h5')"
   ]
  },
  {
   "cell_type": "code",
   "execution_count": 10,
   "id": "775551f4",
   "metadata": {},
   "outputs": [
    {
     "name": "stdout",
     "output_type": "stream",
     "text": [
      "WARNING:tensorflow:Falling back from v2 loop because of error: Failed to find data adapter that can handle input: <class 'pandas.core.frame.DataFrame'>, <class 'NoneType'>\n",
      "WARNING:tensorflow:Falling back from v2 loop because of error: Failed to find data adapter that can handle input: <class 'pandas.core.frame.DataFrame'>, <class 'NoneType'>\n",
      "\n",
      "-------------------- Model Summary --------------------\n",
      "Model: \"sequential_1\"\n",
      "_________________________________________________________________\n",
      "Layer (type)                 Output Shape              Param #   \n",
      "=================================================================\n",
      "flatten_1 (Flatten)          (None, 8)                 0         \n",
      "_________________________________________________________________\n",
      "Hidden-Layer1 (Dense)        (None, 256)               2304      \n",
      "_________________________________________________________________\n",
      "Hidden-Layer2 (Dense)        (None, 256)               65792     \n",
      "_________________________________________________________________\n",
      "Hidden-Layer3 (Dense)        (None, 256)               65792     \n",
      "_________________________________________________________________\n",
      "Hidden-Layer4 (Dense)        (None, 256)               65792     \n",
      "_________________________________________________________________\n",
      "dropout_1 (Dropout)          (None, 256)               0         \n",
      "_________________________________________________________________\n",
      "Output-Layer (Dense)         (None, 1)                 257       \n",
      "=================================================================\n",
      "Total params: 199,937\n",
      "Trainable params: 199,937\n",
      "Non-trainable params: 0\n",
      "_________________________________________________________________\n",
      "\n",
      "-------------------- Weights and Biases --------------------\n",
      "Layer:  flatten_1\n",
      "Layer:  Hidden-Layer1\n",
      "Layer:  Hidden-Layer2\n",
      "Layer:  Hidden-Layer3\n",
      "Layer:  Hidden-Layer4\n",
      "Layer:  dropout_1\n",
      "Layer:  Output-Layer\n",
      "\n",
      "---------- Evaluation on Training Data ----------\n",
      "              precision    recall  f1-score   support\n",
      "\n",
      "         0.0       1.00      0.77      0.87   4254174\n",
      "         1.0       0.01      0.85      0.02     14597\n",
      "\n",
      "    accuracy                           0.77   4268771\n",
      "   macro avg       0.51      0.81      0.45   4268771\n",
      "weighted avg       1.00      0.77      0.87   4268771\n",
      "\n",
      "\n",
      "---------- Evaluation on Test Data ----------\n",
      "              precision    recall  f1-score   support\n",
      "\n",
      "         0.0       1.00      0.77      0.87    537732\n",
      "         1.0       0.01      0.88      0.02      1755\n",
      "\n",
      "    accuracy                           0.77    539487\n",
      "   macro avg       0.51      0.82      0.45    539487\n",
      "weighted avg       1.00      0.77      0.87    539487\n",
      "\n",
      "\n"
     ]
    },
    {
     "data": {
      "text/plain": [
       "<sklearn.metrics._plot.confusion_matrix.ConfusionMatrixDisplay at 0x7fcee9c92210>"
      ]
     },
     "execution_count": 10,
     "metadata": {},
     "output_type": "execute_result"
    },
    {
     "data": {
      "image/png": "[encoded data removed]",
      "text/plain": [
       "<Figure size 432x288 with 1 Axes>"
      ]
     },
     "metadata": {
      "needs_background": "light"
     },
     "output_type": "display_data"
    },
    {
     "data": {
      "image/png": "[encoded data removed]",
      "text/plain": [
       "<Figure size 432x288 with 1 Axes>"
      ]
     },
     "metadata": {
      "needs_background": "light"
     },
     "output_type": "display_data"
    }
   ],
   "source": [
    "##### Step 6 - Use model to make predictions\n",
    "# Predict class labels on training data\n",
    "pred_labels_tr_complx_SMOTEENN_4l_256n = (model_complx_SMOTEENN_4l_256n.predict(x_training)> 0.5).astype(int)\n",
    "# Predict class labels on a test data\n",
    "pred_labels_te_complx_SMOTEENN_4l_256n = (model_complx_SMOTEENN_4l_256n.predict(x_test)> 0.5).astype(int)\n",
    "#> 0.01).astype(int)\n",
    "\n",
    "\n",
    "##### Step 7 - Model Performance Summary\n",
    "print(\"\")\n",
    "print('-------------------- Model Summary --------------------')\n",
    "model_complx_SMOTEENN_4l_256n.summary() # print model summary\n",
    "print(\"\")\n",
    "print('-------------------- Weights and Biases --------------------')\n",
    "for layer in model_complx_SMOTEENN_4l_256n.layers:\n",
    "    print(\"Layer: \", layer.name) # print layer name\n",
    "    \n",
    "print(\"\")\n",
    "print('---------- Evaluation on Training Data ----------')\n",
    "print(classification_report(y_training, pred_labels_tr_complx_SMOTEENN_4l_256n))\n",
    "print(\"\")\n",
    "\n",
    "print('---------- Evaluation on Test Data ----------')\n",
    "print(classification_report(y_test, pred_labels_te_complx_SMOTEENN_4l_256n))\n",
    "print(\"\")\n",
    "\n",
    "from sklearn.metrics import confusion_matrix\n",
    "import matplotlib.pyplot as plt\n",
    "\n",
    "from sklearn.metrics import ConfusionMatrixDisplay\n",
    "ConfusionMatrixDisplay(confusion_matrix(y_test, pred_labels_te_complx_SMOTEENN_4l_256n)).plot(colorbar=False,cmap=plt.cm.Blues)\n",
    "ConfusionMatrixDisplay(confusion_matrix(y_test, pred_labels_te_complx_SMOTEENN_4l_256n,normalize='true')).plot(colorbar=False,cmap=plt.cm.Blues)"
   ]
  },
  {
   "cell_type": "code",
   "execution_count": 11,
   "id": "179fa7a5",
   "metadata": {},
   "outputs": [
    {
     "name": "stdout",
     "output_type": "stream",
     "text": [
      "WARNING:tensorflow:Falling back from v2 loop because of error: Failed to find data adapter that can handle input: <class 'pandas.core.frame.DataFrame'>, <class 'NoneType'>\n",
      "WARNING:tensorflow:Falling back from v2 loop because of error: Failed to find data adapter that can handle input: <class 'pandas.core.frame.DataFrame'>, <class 'NoneType'>\n",
      "\n",
      "-------------------- Model Summary --------------------\n",
      "Model: \"sequential_1\"\n",
      "_________________________________________________________________\n",
      "Layer (type)                 Output Shape              Param #   \n",
      "=================================================================\n",
      "flatten_1 (Flatten)          (None, 8)                 0         \n",
      "_________________________________________________________________\n",
      "Hidden-Layer1 (Dense)        (None, 256)               2304      \n",
      "_________________________________________________________________\n",
      "Hidden-Layer2 (Dense)        (None, 256)               65792     \n",
      "_________________________________________________________________\n",
      "Hidden-Layer3 (Dense)        (None, 256)               65792     \n",
      "_________________________________________________________________\n",
      "Hidden-Layer4 (Dense)        (None, 256)               65792     \n",
      "_________________________________________________________________\n",
      "dropout_1 (Dropout)          (None, 256)               0         \n",
      "_________________________________________________________________\n",
      "Output-Layer (Dense)         (None, 1)                 257       \n",
      "=================================================================\n",
      "Total params: 199,937\n",
      "Trainable params: 199,937\n",
      "Non-trainable params: 0\n",
      "_________________________________________________________________\n",
      "\n"
     ]
    },
    {
     "data": {
      "text/plain": [
       "<matplotlib.legend.Legend at 0x7fcefe617250>"
      ]
     },
     "execution_count": 11,
     "metadata": {},
     "output_type": "execute_result"
    },
    {
     "data": {
      "image/png": "[encoded data removed]",
      "text/plain": [
       "<Figure size 432x288 with 1 Axes>"
      ]
     },
     "metadata": {
      "needs_background": "light"
     },
     "output_type": "display_data"
    }
   ],
   "source": [
    "##### Step 6 - Use model to make predictions\n",
    "# Predict class labels on training data\n",
    "pred_labels_tr_complx_SMOTEENN_4l_256n_prob = (model_complx_SMOTEENN_4l_256n.predict(x_training))\n",
    "# Predict class labels on a test data\n",
    "pred_labels_te_complx_SMOTEENN_4l_256n_prob = (model_complx_SMOTEENN_4l_256n.predict(x_test))\n",
    "#> 0.01).astype(int)\n",
    "\n",
    "\n",
    "##### Step 7 - Model Performance Summary\n",
    "print(\"\")\n",
    "print('-------------------- Model Summary --------------------')\n",
    "model_complx_SMOTEENN_4l_256n.summary() # print model summary\n",
    "print(\"\")\n",
    "\n",
    "\n",
    "from sklearn import metrics\n",
    "from sklearn import datasets\n",
    "from sklearn.model_selection import train_test_split\n",
    "from sklearn.linear_model import LogisticRegression\n",
    "from sklearn.ensemble import GradientBoostingClassifier\n",
    "import numpy as np\n",
    "import matplotlib.pyplot as plt\n",
    "\n",
    "plt.figure(0).clf()\n",
    "\n",
    "\n",
    "fpr, tpr, _ = metrics.roc_curve(y_test, pred_labels_te_complx_SMOTEENN_4l_256n_prob)\n",
    "auc = round(metrics.roc_auc_score(y_test, pred_labels_te_complx_SMOTEENN_4l_256n_prob), 4)\n",
    "plt.plot(fpr,tpr,label=\"complx_SMOTEENN_4l_256n, AUC=\"+str(auc))\n",
    "\n",
    "\n",
    "\n",
    "\n",
    "\n",
    "#add legend\n",
    "plt.legend()"
   ]
  },
  {
   "cell_type": "code",
   "execution_count": 12,
   "id": "0f4a728f",
   "metadata": {},
   "outputs": [
    {
     "name": "stdout",
     "output_type": "stream",
     "text": [
      "Model: \"sequential_3\"\n",
      "_________________________________________________________________\n",
      "Layer (type)                 Output Shape              Param #   \n",
      "=================================================================\n",
      "flatten_3 (Flatten)          (None, 8)                 0         \n",
      "_________________________________________________________________\n",
      "Hidden-Layer1 (Dense)        (None, 512)               4608      \n",
      "_________________________________________________________________\n",
      "dropout_3 (Dropout)          (None, 512)               0         \n",
      "_________________________________________________________________\n",
      "Output-Layer (Dense)         (None, 1)                 513       \n",
      "=================================================================\n",
      "Total params: 5,121\n",
      "Trainable params: 5,121\n",
      "Non-trainable params: 0\n",
      "_________________________________________________________________\n"
     ]
    }
   ],
   "source": [
    "complex_SMOTEENN_512n_1l = tf.keras.models.load_model('model_simple_SMOTEENN_512n')\n",
    "\n",
    "# Check its architecture\n",
    "complex_SMOTEENN_512n_1l.summary()"
   ]
  },
  {
   "cell_type": "code",
   "execution_count": 13,
   "id": "50f38b95",
   "metadata": {},
   "outputs": [
    {
     "name": "stdout",
     "output_type": "stream",
     "text": [
      "WARNING:tensorflow:Falling back from v2 loop because of error: Failed to find data adapter that can handle input: <class 'pandas.core.frame.DataFrame'>, <class 'NoneType'>\n",
      "WARNING:tensorflow:Falling back from v2 loop because of error: Failed to find data adapter that can handle input: <class 'pandas.core.frame.DataFrame'>, <class 'NoneType'>\n",
      "\n",
      "-------------------- Model Summary --------------------\n",
      "Model: \"sequential_3\"\n",
      "_________________________________________________________________\n",
      "Layer (type)                 Output Shape              Param #   \n",
      "=================================================================\n",
      "flatten_3 (Flatten)          (None, 8)                 0         \n",
      "_________________________________________________________________\n",
      "Hidden-Layer1 (Dense)        (None, 512)               4608      \n",
      "_________________________________________________________________\n",
      "dropout_3 (Dropout)          (None, 512)               0         \n",
      "_________________________________________________________________\n",
      "Output-Layer (Dense)         (None, 1)                 513       \n",
      "=================================================================\n",
      "Total params: 5,121\n",
      "Trainable params: 5,121\n",
      "Non-trainable params: 0\n",
      "_________________________________________________________________\n",
      "\n",
      "-------------------- Weights and Biases --------------------\n",
      "Layer:  flatten_3\n",
      "Layer:  Hidden-Layer1\n",
      "Layer:  dropout_3\n",
      "Layer:  Output-Layer\n",
      "\n",
      "---------- Evaluation on Training Data ----------\n",
      "              precision    recall  f1-score   support\n",
      "\n",
      "         0.0       1.00      0.84      0.91   4254174\n",
      "         1.0       0.02      0.80      0.03     14597\n",
      "\n",
      "    accuracy                           0.84   4268771\n",
      "   macro avg       0.51      0.82      0.47   4268771\n",
      "weighted avg       1.00      0.84      0.91   4268771\n",
      "\n",
      "\n",
      "---------- Evaluation on Test Data ----------\n",
      "              precision    recall  f1-score   support\n",
      "\n",
      "         0.0       1.00      0.84      0.91    537732\n",
      "         1.0       0.02      0.86      0.03      1755\n",
      "\n",
      "    accuracy                           0.84    539487\n",
      "   macro avg       0.51      0.85      0.47    539487\n",
      "weighted avg       1.00      0.84      0.91    539487\n",
      "\n",
      "\n"
     ]
    },
    {
     "data": {
      "text/plain": [
       "<sklearn.metrics._plot.confusion_matrix.ConfusionMatrixDisplay at 0x7fcee9bd8d90>"
      ]
     },
     "execution_count": 13,
     "metadata": {},
     "output_type": "execute_result"
    },
    {
     "data": {
      "image/png": "[encoded data removed]",
      "text/plain": [
       "<Figure size 432x288 with 1 Axes>"
      ]
     },
     "metadata": {
      "needs_background": "light"
     },
     "output_type": "display_data"
    },
    {
     "data": {
      "image/png": "[encoded data removed]",
      "text/plain": [
       "<Figure size 432x288 with 1 Axes>"
      ]
     },
     "metadata": {
      "needs_background": "light"
     },
     "output_type": "display_data"
    }
   ],
   "source": [
    "##### Step 6 - Use model to make predictions\n",
    "# Predict class labels on training data\n",
    "pred_labels_tr_complx_SMOTEENN_1l_512n = (complex_SMOTEENN_512n_1l.predict(x_training)> 0.5).astype(int)\n",
    "# Predict class labels on a test data\n",
    "pred_labels_te_complx_SMOTEENN_1l_512n = (complex_SMOTEENN_512n_1l.predict(x_test)> 0.5).astype(int)\n",
    "#> 0.01).astype(int)\n",
    "\n",
    "\n",
    "##### Step 7 - Model Performance Summary\n",
    "print(\"\")\n",
    "print('-------------------- Model Summary --------------------')\n",
    "complex_SMOTEENN_512n_1l.summary() # print model summary\n",
    "print(\"\")\n",
    "print('-------------------- Weights and Biases --------------------')\n",
    "for layer in complex_SMOTEENN_512n_1l.layers:\n",
    "    print(\"Layer: \", layer.name) # print layer name\n",
    "    \n",
    "print(\"\")\n",
    "print('---------- Evaluation on Training Data ----------')\n",
    "print(classification_report(y_training, pred_labels_tr_complx_SMOTEENN_1l_512n))\n",
    "print(\"\")\n",
    "\n",
    "print('---------- Evaluation on Test Data ----------')\n",
    "print(classification_report(y_test, pred_labels_te_complx_SMOTEENN_1l_512n))\n",
    "print(\"\")\n",
    "\n",
    "from sklearn.metrics import confusion_matrix\n",
    "import matplotlib.pyplot as plt\n",
    "\n",
    "from sklearn.metrics import ConfusionMatrixDisplay\n",
    "ConfusionMatrixDisplay(confusion_matrix(y_test, pred_labels_te_complx_SMOTEENN_1l_512n)).plot(colorbar=False,cmap=plt.cm.Blues)\n",
    "ConfusionMatrixDisplay(confusion_matrix(y_test, pred_labels_te_complx_SMOTEENN_1l_512n,normalize='true')).plot(colorbar=False,cmap=plt.cm.Blues)"
   ]
  },
  {
   "cell_type": "code",
   "execution_count": 14,
   "id": "a1994f3e",
   "metadata": {},
   "outputs": [
    {
     "name": "stdout",
     "output_type": "stream",
     "text": [
      "WARNING:tensorflow:Falling back from v2 loop because of error: Failed to find data adapter that can handle input: <class 'pandas.core.frame.DataFrame'>, <class 'NoneType'>\n",
      "WARNING:tensorflow:Falling back from v2 loop because of error: Failed to find data adapter that can handle input: <class 'pandas.core.frame.DataFrame'>, <class 'NoneType'>\n",
      "\n",
      "-------------------- Model Summary --------------------\n",
      "Model: \"sequential_3\"\n",
      "_________________________________________________________________\n",
      "Layer (type)                 Output Shape              Param #   \n",
      "=================================================================\n",
      "flatten_3 (Flatten)          (None, 8)                 0         \n",
      "_________________________________________________________________\n",
      "Hidden-Layer1 (Dense)        (None, 512)               4608      \n",
      "_________________________________________________________________\n",
      "dropout_3 (Dropout)          (None, 512)               0         \n",
      "_________________________________________________________________\n",
      "Output-Layer (Dense)         (None, 1)                 513       \n",
      "=================================================================\n",
      "Total params: 5,121\n",
      "Trainable params: 5,121\n",
      "Non-trainable params: 0\n",
      "_________________________________________________________________\n",
      "\n"
     ]
    },
    {
     "data": {
      "text/plain": [
       "<matplotlib.legend.Legend at 0x7fcec865c3d0>"
      ]
     },
     "execution_count": 14,
     "metadata": {},
     "output_type": "execute_result"
    },
    {
     "data": {
      "image/png": "[encoded data removed]",
      "text/plain": [
       "<Figure size 432x288 with 1 Axes>"
      ]
     },
     "metadata": {
      "needs_background": "light"
     },
     "output_type": "display_data"
    }
   ],
   "source": [
    "##### Step 6 - Use model to make predictions\n",
    "# Predict class labels on training data\n",
    "pred_labels_tr_complx_SMOTEENN_1l_512n_prob = (complex_SMOTEENN_512n_1l.predict(x_training))\n",
    "# Predict class labels on a test data\n",
    "pred_labels_te_complx_SMOTEENN_1l_512n_prob = (complex_SMOTEENN_512n_1l.predict(x_test))\n",
    "#> 0.01).astype(int)\n",
    "\n",
    "\n",
    "##### Step 7 - Model Performance Summary\n",
    "print(\"\")\n",
    "print('-------------------- Model Summary --------------------')\n",
    "complex_SMOTEENN_512n_1l.summary() # print model summary\n",
    "print(\"\")\n",
    "\n",
    "\n",
    "from sklearn import metrics\n",
    "from sklearn import datasets\n",
    "from sklearn.model_selection import train_test_split\n",
    "from sklearn.linear_model import LogisticRegression\n",
    "from sklearn.ensemble import GradientBoostingClassifier\n",
    "import numpy as np\n",
    "import matplotlib.pyplot as plt\n",
    "\n",
    "plt.figure(0).clf()\n",
    "\n",
    "\n",
    "fpr, tpr, _ = metrics.roc_curve(y_test, pred_labels_te_complx_SMOTEENN_1l_512n_prob)\n",
    "auc = round(metrics.roc_auc_score(y_test, pred_labels_te_complx_SMOTEENN_1l_512n_prob), 4)\n",
    "plt.plot(fpr,tpr,label=\"complx_SMOTEENN_1l_512n, AUC=\"+str(auc))\n",
    "\n",
    "\n",
    "\n",
    "\n",
    "\n",
    "#add legend\n",
    "plt.legend()"
   ]
  },
  {
   "cell_type": "code",
   "execution_count": 15,
   "id": "7fd70963",
   "metadata": {},
   "outputs": [
    {
     "data": {
      "text/plain": [
       "<matplotlib.legend.Legend at 0x7fcee9c423d0>"
      ]
     },
     "execution_count": 15,
     "metadata": {},
     "output_type": "execute_result"
    },
    {
     "data": {
      "image/png": "[encoded data removed]",
      "text/plain": [
       "<Figure size 432x288 with 1 Axes>"
      ]
     },
     "metadata": {
      "needs_background": "light"
     },
     "output_type": "display_data"
    }
   ],
   "source": [
    "plt.figure(0).clf()\n",
    "\n",
    "\n",
    "fpr, tpr, _ = metrics.roc_curve(y_test, pred_labels_te_simple8_SMOTEENN_prob)\n",
    "auc = round(metrics.roc_auc_score(y_test, pred_labels_te_simple8_SMOTEENN_prob), 4)\n",
    "plt.plot(fpr,tpr,label=\"simple_model_SMOTEEEN ,8n,1l, AUC=\"+str(auc))\n",
    "\n",
    "\n",
    "fpr, tpr, _ = metrics.roc_curve(y_test, pred_labels_te_complx_SMOTEENN_1l_512n_prob)\n",
    "auc = round(metrics.roc_auc_score(y_test, pred_labels_te_complx_SMOTEENN_1l_512n_prob), 4)\n",
    "plt.plot(fpr,tpr,label=\"complex_model_SMOTEEEN 512n,1l, AUC=\"+str(auc))\n",
    "\n",
    "fpr, tpr, _ = metrics.roc_curve(y_test, pred_labels_te_complx_SMOTEENN_4l_256n_prob)\n",
    "auc = round(metrics.roc_auc_score(y_test, pred_labels_te_complx_SMOTEENN_4l_256n_prob), 4)\n",
    "plt.plot(fpr,tpr,label=\"complex_model_SMOTEEEN,256n,4l,  AUC=\"+str(auc))\n",
    "\n",
    "\n",
    "\n",
    "#add legend\n",
    "plt.legend()"
   ]
  },
  {
   "cell_type": "code",
   "execution_count": null,
   "id": "059f7cfb",
   "metadata": {},
   "outputs": [],
   "source": []
  }
 ],
 "metadata": {
  "kernelspec": {
   "display_name": "Python 3 (ipykernel)",
   "language": "python",
   "name": "python3"
  },
  "language_info": {
   "codemirror_mode": {
    "name": "ipython",
    "version": 3
   },
   "file_extension": ".py",
   "mimetype": "text/x-python",
   "name": "python",
   "nbconvert_exporter": "python",
   "pygments_lexer": "ipython3",
   "version": "3.9.12"
  }
 },
 "nbformat": 4,
 "nbformat_minor": 5
}
