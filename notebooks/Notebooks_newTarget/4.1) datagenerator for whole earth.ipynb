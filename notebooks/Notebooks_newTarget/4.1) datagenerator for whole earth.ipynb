{
 "cells": [
  {
   "cell_type": "code",
   "execution_count": 4,
   "id": "40f76c07",
   "metadata": {},
   "outputs": [],
   "source": [
    "import numpy as np\n",
    "from keras.utils import Sequence\n",
    "import os"
   ]
  },
  {
   "cell_type": "code",
   "execution_count": 7,
   "id": "0db7abe1",
   "metadata": {},
   "outputs": [],
   "source": [
    "\n",
    "\n",
    "class DataGenerator(Sequence):\n",
    "    def __init__(self, x_paths, y_paths, batch_size=10512):\n",
    "        self.x_paths = x_paths\n",
    "        self.y_paths = y_paths\n",
    "        self.batch_size = batch_size\n",
    "\n",
    "    def __len__(self):\n",
    "        return int(np.ceil(len(self.x_paths) / self.batch_size))\n",
    "\n",
    "    def __getitem__(self, idx):\n",
    "        batch_x_paths = self.x_paths[idx * self.batch_size:(idx + 1) * self.batch_size]\n",
    "        batch_y_paths = self.y_paths[idx * self.batch_size:(idx + 1) * self.batch_size]\n",
    "\n",
    "        batch_x = [np.load(path) for path in batch_x_paths]\n",
    "        batch_y = [np.load(path) for path in batch_y_paths]\n",
    "\n",
    "        return np.array(batch_x), np.array(batch_y)"
   ]
  },
  {
   "cell_type": "code",
   "execution_count": 36,
   "id": "55cb1475",
   "metadata": {},
   "outputs": [],
   "source": [
    "folder_name = os.listdir('/Users/3rfanian/P_main/TC-main/Paolo/Notebooks_newTarget/imgs/train/imgs')\n",
    "folder_name.remove('.DS_Store' )\n",
    "\n",
    "path_training_img = '/Users/3rfanian/P_main/TC-main/Paolo/Notebooks_newTarget/imgs/train/imgs'\n",
    "path_training_targets = '/Users/3rfanian/P_main/TC-main/Paolo/Notebooks_newTarget/imgs/train/targets'\n",
    "\n",
    "path_list_img = []\n",
    "path_list_targets = []\n",
    "\n",
    "for fitem in folder_name:\n",
    "    path_imgs = path_training+'/'+fitem+'/'\n",
    "    path_list_img.append(path_imgs)\n",
    "\n",
    "    path_targets = path_training_targets+'/'+fitem+'/'\n",
    "    path_list_targets.append(path_targets)\n",
    "    \n",
    "trainin_imgs_addr = []\n",
    "trainin_targets_addr = []\n",
    "\n",
    "for item_path in path_list_img:\n",
    "    folder_item = os.listdir(item_path)\n",
    "    #print(type(str(folder_item)))\n",
    "    paths_imgs = item_path + folder_item[0]\n",
    "    trainin_imgs_addr.append(paths_imgs)\n",
    "\n",
    "for item_path_t in path_list_targets:\n",
    "    folder_item_t = os.listdir(item_path_t)\n",
    "    #print(type(str(folder_item)))\n",
    "    paths_targets = item_path_t + folder_item_t[0]\n",
    "    trainin_targets_addr.append(paths_targets)"
   ]
  },
  {
   "cell_type": "code",
   "execution_count": 38,
   "id": "46aa1d26",
   "metadata": {},
   "outputs": [
    {
     "data": {
      "text/plain": [
       "(['/Users/3rfanian/P_main/TC-main/Paolo/Notebooks_newTarget/imgs/train/targets/1988/y_1988.npy',\n",
       "  '/Users/3rfanian/P_main/TC-main/Paolo/Notebooks_newTarget/imgs/train/targets/1981/y_1981.npy',\n",
       "  '/Users/3rfanian/P_main/TC-main/Paolo/Notebooks_newTarget/imgs/train/targets/1986/y_1986.npy',\n",
       "  '/Users/3rfanian/P_main/TC-main/Paolo/Notebooks_newTarget/imgs/train/targets/1987/y_1987.npy',\n",
       "  '/Users/3rfanian/P_main/TC-main/Paolo/Notebooks_newTarget/imgs/train/targets/1980/y_1980.npy',\n",
       "  '/Users/3rfanian/P_main/TC-main/Paolo/Notebooks_newTarget/imgs/train/targets/1989/y_1989.npy',\n",
       "  '/Users/3rfanian/P_main/TC-main/Paolo/Notebooks_newTarget/imgs/train/targets/1993/y_1993.npy',\n",
       "  '/Users/3rfanian/P_main/TC-main/Paolo/Notebooks_newTarget/imgs/train/targets/1994/y_1994.npy',\n",
       "  '/Users/3rfanian/P_main/TC-main/Paolo/Notebooks_newTarget/imgs/train/targets/1995/y_1995.npy',\n",
       "  '/Users/3rfanian/P_main/TC-main/Paolo/Notebooks_newTarget/imgs/train/targets/1992/y_1992.npy',\n",
       "  '/Users/3rfanian/P_main/TC-main/Paolo/Notebooks_newTarget/imgs/train/targets/2008/y_2008.npy',\n",
       "  '/Users/3rfanian/P_main/TC-main/Paolo/Notebooks_newTarget/imgs/train/targets/2001/y_2001.npy',\n",
       "  '/Users/3rfanian/P_main/TC-main/Paolo/Notebooks_newTarget/imgs/train/targets/2006/y_2006.npy',\n",
       "  '/Users/3rfanian/P_main/TC-main/Paolo/Notebooks_newTarget/imgs/train/targets/2007/y_2007.npy',\n",
       "  '/Users/3rfanian/P_main/TC-main/Paolo/Notebooks_newTarget/imgs/train/targets/2000/y_2000.npy',\n",
       "  '/Users/3rfanian/P_main/TC-main/Paolo/Notebooks_newTarget/imgs/train/targets/2009/y_2009.npy',\n",
       "  '/Users/3rfanian/P_main/TC-main/Paolo/Notebooks_newTarget/imgs/train/targets/2010/y_2010.npy',\n",
       "  '/Users/3rfanian/P_main/TC-main/Paolo/Notebooks_newTarget/imgs/train/targets/1985/y_1985.npy',\n",
       "  '/Users/3rfanian/P_main/TC-main/Paolo/Notebooks_newTarget/imgs/train/targets/1982/y_1982.npy',\n",
       "  '/Users/3rfanian/P_main/TC-main/Paolo/Notebooks_newTarget/imgs/train/targets/1983/y_1983.npy',\n",
       "  '/Users/3rfanian/P_main/TC-main/Paolo/Notebooks_newTarget/imgs/train/targets/1984/y_1984.npy',\n",
       "  '/Users/3rfanian/P_main/TC-main/Paolo/Notebooks_newTarget/imgs/train/targets/1997/y_1997.npy',\n",
       "  '/Users/3rfanian/P_main/TC-main/Paolo/Notebooks_newTarget/imgs/train/targets/1990/y_1990.npy',\n",
       "  '/Users/3rfanian/P_main/TC-main/Paolo/Notebooks_newTarget/imgs/train/targets/1999/y_1999.npy',\n",
       "  '/Users/3rfanian/P_main/TC-main/Paolo/Notebooks_newTarget/imgs/train/targets/1998/y_1998.npy',\n",
       "  '/Users/3rfanian/P_main/TC-main/Paolo/Notebooks_newTarget/imgs/train/targets/1991/y_1991.npy',\n",
       "  '/Users/3rfanian/P_main/TC-main/Paolo/Notebooks_newTarget/imgs/train/targets/1996/y_1996.npy',\n",
       "  '/Users/3rfanian/P_main/TC-main/Paolo/Notebooks_newTarget/imgs/train/targets/2005/y_2005.npy',\n",
       "  '/Users/3rfanian/P_main/TC-main/Paolo/Notebooks_newTarget/imgs/train/targets/2002/y_2002.npy',\n",
       "  '/Users/3rfanian/P_main/TC-main/Paolo/Notebooks_newTarget/imgs/train/targets/2003/y_2003.npy',\n",
       "  '/Users/3rfanian/P_main/TC-main/Paolo/Notebooks_newTarget/imgs/train/targets/2004/y_2004.npy'],\n",
       " ['/Users/3rfanian/P_main/TC-main/Paolo/Notebooks_newTarget/imgs/train/imgs/1988/img_1988.npy',\n",
       "  '/Users/3rfanian/P_main/TC-main/Paolo/Notebooks_newTarget/imgs/train/imgs/1981/img_1981.npy',\n",
       "  '/Users/3rfanian/P_main/TC-main/Paolo/Notebooks_newTarget/imgs/train/imgs/1986/img_1986.npy',\n",
       "  '/Users/3rfanian/P_main/TC-main/Paolo/Notebooks_newTarget/imgs/train/imgs/1987/img_1987.npy',\n",
       "  '/Users/3rfanian/P_main/TC-main/Paolo/Notebooks_newTarget/imgs/train/imgs/1980/img_1980.npy',\n",
       "  '/Users/3rfanian/P_main/TC-main/Paolo/Notebooks_newTarget/imgs/train/imgs/1989/img_1989.npy',\n",
       "  '/Users/3rfanian/P_main/TC-main/Paolo/Notebooks_newTarget/imgs/train/imgs/1993/img_1993.npy',\n",
       "  '/Users/3rfanian/P_main/TC-main/Paolo/Notebooks_newTarget/imgs/train/imgs/1994/img_1994.npy',\n",
       "  '/Users/3rfanian/P_main/TC-main/Paolo/Notebooks_newTarget/imgs/train/imgs/1995/img_1995.npy',\n",
       "  '/Users/3rfanian/P_main/TC-main/Paolo/Notebooks_newTarget/imgs/train/imgs/1992/img_1992.npy',\n",
       "  '/Users/3rfanian/P_main/TC-main/Paolo/Notebooks_newTarget/imgs/train/imgs/2008/img_2008.npy',\n",
       "  '/Users/3rfanian/P_main/TC-main/Paolo/Notebooks_newTarget/imgs/train/imgs/2001/img_2001.npy',\n",
       "  '/Users/3rfanian/P_main/TC-main/Paolo/Notebooks_newTarget/imgs/train/imgs/2006/img_2006.npy',\n",
       "  '/Users/3rfanian/P_main/TC-main/Paolo/Notebooks_newTarget/imgs/train/imgs/2007/img_2007.npy',\n",
       "  '/Users/3rfanian/P_main/TC-main/Paolo/Notebooks_newTarget/imgs/train/imgs/2000/img_2000.npy',\n",
       "  '/Users/3rfanian/P_main/TC-main/Paolo/Notebooks_newTarget/imgs/train/imgs/2009/img_2009.npy',\n",
       "  '/Users/3rfanian/P_main/TC-main/Paolo/Notebooks_newTarget/imgs/train/imgs/2010/img_2010.npy',\n",
       "  '/Users/3rfanian/P_main/TC-main/Paolo/Notebooks_newTarget/imgs/train/imgs/1985/img_1985.npy',\n",
       "  '/Users/3rfanian/P_main/TC-main/Paolo/Notebooks_newTarget/imgs/train/imgs/1982/img_1982.npy',\n",
       "  '/Users/3rfanian/P_main/TC-main/Paolo/Notebooks_newTarget/imgs/train/imgs/1983/img_1983.npy',\n",
       "  '/Users/3rfanian/P_main/TC-main/Paolo/Notebooks_newTarget/imgs/train/imgs/1984/img_1984.npy',\n",
       "  '/Users/3rfanian/P_main/TC-main/Paolo/Notebooks_newTarget/imgs/train/imgs/1997/img_1997.npy',\n",
       "  '/Users/3rfanian/P_main/TC-main/Paolo/Notebooks_newTarget/imgs/train/imgs/1990/img_1990.npy',\n",
       "  '/Users/3rfanian/P_main/TC-main/Paolo/Notebooks_newTarget/imgs/train/imgs/1999/img_1999.npy',\n",
       "  '/Users/3rfanian/P_main/TC-main/Paolo/Notebooks_newTarget/imgs/train/imgs/1998/img_1998.npy',\n",
       "  '/Users/3rfanian/P_main/TC-main/Paolo/Notebooks_newTarget/imgs/train/imgs/1991/img_1991.npy',\n",
       "  '/Users/3rfanian/P_main/TC-main/Paolo/Notebooks_newTarget/imgs/train/imgs/1996/img_1996.npy',\n",
       "  '/Users/3rfanian/P_main/TC-main/Paolo/Notebooks_newTarget/imgs/train/imgs/2005/img_2005.npy',\n",
       "  '/Users/3rfanian/P_main/TC-main/Paolo/Notebooks_newTarget/imgs/train/imgs/2002/img_2002.npy',\n",
       "  '/Users/3rfanian/P_main/TC-main/Paolo/Notebooks_newTarget/imgs/train/imgs/2003/img_2003.npy',\n",
       "  '/Users/3rfanian/P_main/TC-main/Paolo/Notebooks_newTarget/imgs/train/imgs/2004/img_2004.npy'])"
      ]
     },
     "execution_count": 38,
     "metadata": {},
     "output_type": "execute_result"
    }
   ],
   "source": [
    "trainin_targets_addr,trainin_imgs_addr"
   ]
  },
  {
   "cell_type": "code",
   "execution_count": 40,
   "id": "889c2147",
   "metadata": {},
   "outputs": [
    {
     "name": "stdout",
     "output_type": "stream",
     "text": [
      "31 31\n"
     ]
    },
    {
     "name": "stderr",
     "output_type": "stream",
     "text": [
      "/var/folders/6l/2k5dphhj4z30f5zpqx44561c0000gn/T/ipykernel_20644/709618691.py:17: VisibleDeprecationWarning: Creating an ndarray from ragged nested sequences (which is a list-or-tuple of lists-or-tuples-or ndarrays with different lengths or shapes) is deprecated. If you meant to do this, you must specify 'dtype=object' when creating the ndarray.\n",
      "  return np.array(batch_x), np.array(batch_y)\n"
     ]
    }
   ],
   "source": [
    "len(data_generator = DataGenerator(trainin_imgs_addr, trainin_targets_addr)\n",
    "for x,y in data_generator:\n",
    "    print(x,y)\n"
   ]
  },
  {
   "cell_type": "code",
   "execution_count": null,
   "id": "2ddbebfa",
   "metadata": {},
   "outputs": [],
   "source": []
  }
 ],
 "metadata": {
  "kernelspec": {
   "display_name": "Python 3 (ipykernel)",
   "language": "python",
   "name": "python3"
  },
  "language_info": {
   "codemirror_mode": {
    "name": "ipython",
    "version": 3
   },
   "file_extension": ".py",
   "mimetype": "text/x-python",
   "name": "python",
   "nbconvert_exporter": "python",
   "pygments_lexer": "ipython3",
   "version": "3.9.12"
  }
 },
 "nbformat": 4,
 "nbformat_minor": 5
}
