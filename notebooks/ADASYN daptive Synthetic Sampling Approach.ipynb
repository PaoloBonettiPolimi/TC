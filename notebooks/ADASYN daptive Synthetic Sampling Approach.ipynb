{
 "cells": [
  {
   "cell_type": "markdown",
   "id": "35b20d21",
   "metadata": {},
   "source": [
    "\n",
    "# Import libraries"
   ]
  },
  {
   "cell_type": "code",
   "execution_count": 5,
   "id": "3d02b79d",
   "metadata": {},
   "outputs": [
    {
     "name": "stdout",
     "output_type": "stream",
     "text": [
      "pandas: 1.3.5\n",
      "xarray: 0.20.1\n",
      "geopandas: 1.21.5\n",
      "tensorflow: 2.0.0\n",
      "Tensorflow/Keras: 2.2.4-tf\n",
      "pandas: 1.3.5\n",
      "sklearn: 1.0.2\n",
      "plotly: 5.6.0\n",
      "/Users/3rfanian/P_main\n"
     ]
    }
   ],
   "source": [
    "#import libraries\n",
    "import pandas as pd\n",
    "print('pandas: %s' % pd.__version__)\n",
    "\n",
    "import xarray as xr\n",
    "print('xarray: %s' % xr.__version__)\n",
    "\n",
    "pd.options.display.max_columns = None\n",
    "pd.set_option('display.max_rows', 150)\n",
    "\n",
    "import numpy as np\n",
    "print('geopandas: %s' % np.__version__)\n",
    "\n",
    "\n",
    "# tensorflow\n",
    "import tensorflow as tf\n",
    "print('tensorflow: %s' % tf.__version__)\n",
    "\n",
    "# Tensorflow / Keras\n",
    "from tensorflow import keras # for building Neural Networks\n",
    "print('Tensorflow/Keras: %s' % keras.__version__) # print version\n",
    "from keras.models import Sequential # for creating a linear stack of layers for our Neural Network\n",
    "from keras import Input # for instantiating a keras tensor\n",
    "from keras.layers import Dense # for creating regular densely-connected NN layer.\n",
    "\n",
    "# Data manipulation\n",
    "import pandas as pd # for data manipulation\n",
    "print('pandas: %s' % pd.__version__) # print version\n",
    "\n",
    "\n",
    "# Sklearn\n",
    "import sklearn # for model evaluation\n",
    "print('sklearn: %s' % sklearn.__version__) # print version\n",
    "from sklearn.model_selection import train_test_split # for splitting the data into train and test samples\n",
    "from sklearn.metrics import classification_report # for model evaluation metrics\n",
    "\n",
    "# Visualization\n",
    "import plotly \n",
    "import plotly.express as px\n",
    "import plotly.graph_objects as go\n",
    "print('plotly: %s' % plotly.__version__) # print version\n",
    "\n",
    "# Other utilities\n",
    "import sys\n",
    "import os\n",
    "\n",
    "\n",
    "from imblearn.over_sampling import SMOTE\n",
    "from imblearn.over_sampling import ADASYN\n",
    "\n",
    "from collections import Counter\n",
    "from numpy import * \n",
    "\n",
    "\n",
    "\n",
    "# Assign main directory to a variable\n",
    "main_dir=os.path.dirname(sys.path[0])\n",
    "print(main_dir)"
   ]
  },
  {
   "cell_type": "markdown",
   "id": "581de75f",
   "metadata": {},
   "source": [
    "# DATA importing"
   ]
  },
  {
   "cell_type": "code",
   "execution_count": 4,
   "id": "6b083f80",
   "metadata": {},
   "outputs": [
    {
     "name": "stdout",
     "output_type": "stream",
     "text": [
      "******training features******\n",
      "******training target******\n",
      "******test features******\n",
      "******test target******\n",
      "******validation features******\n",
      "******validation target******\n"
     ]
    }
   ],
   "source": [
    "test_set = pd.read_csv('data_with_newtarget/test_set_with_newtarget.csv')\n",
    "validation_set = pd.read_csv('data_with_newtarget/validation_set_with_newtarget.csv')\n",
    "traning_set = pd.read_csv('data_with_newtarget/traning_set_with_newtarget.csv')\n",
    "\n",
    "#training with yestersay lsm\n",
    "traning_df = traning_set['newlsm']\n",
    "traning_df\n",
    "ndf = traning_df.iloc[1:]\n",
    "ndf.loc[4268771,] = 0.0\n",
    "nd = ndf.reset_index()\n",
    "del nd[\"index\"]\n",
    "nd =nd.rename(columns={'newlsm': 'Tomorrow_lsm'})\n",
    "df2 = traning_set.assign(Tomorrow_lsm=nd)\n",
    "del df2[\"Unnamed: 0\"]\n",
    "\n",
    "#validation with yestersay lsm\n",
    "validation_df = validation_set['newlsm']\n",
    "ndf_val = validation_df.iloc[1:]\n",
    "ndf_val.loc[688402,] = 0.0\n",
    "nd_val = ndf_val.reset_index()\n",
    "del nd_val[\"index\"]\n",
    "nd_val =nd_val.rename(columns={'newlsm': 'Tomorrow_lsm'})\n",
    "df3 = validation_set.assign(Tomorrow_lsm=nd_val)\n",
    "del df3[\"Unnamed: 0\"]\n",
    "\n",
    "\n",
    "#test with yestersay lsm\n",
    "test_df = test_set['newlsm']\n",
    "ndf_test = test_df.iloc[1:]\n",
    "ndf_test.loc[539487,] = 0.0\n",
    "nd_test = ndf_test.reset_index()\n",
    "del nd_test[\"index\"]\n",
    "nd_test =nd_test.rename(columns={'newlsm': 'Tomorrow_lsm'})\n",
    "df4 = test_set.assign(Tomorrow_lsm=nd_test)\n",
    "del df4[\"Unnamed: 0\"]\n",
    "\n",
    "\n",
    "training_set_wt = df2\n",
    "validation_set_wt =df3\n",
    "test_set_wt = df4\n",
    "\n",
    "\n",
    "##### Step 2 - Split training data\n",
    "x_training = training_set_wt[[ 'vo', 'r', 'u_200', 'u_850', 'v_200','v_850', 'ttr','sst']]\n",
    "print (\"******training features******\")\n",
    "#print (x_training)\n",
    "y_training = training_set_wt[['Tomorrow_lsm']]\n",
    "print (\"******training target******\")\n",
    "#print (y_training)\n",
    "\n",
    "##### Step 3 - Split test data\n",
    "x_test = test_set_wt[[ 'vo', 'r', 'u_200', 'u_850', 'v_200','v_850', 'ttr','sst']]\n",
    "print (\"******test features******\")\n",
    "#print (x_test)\n",
    "y_test = test_set_wt[['Tomorrow_lsm']]\n",
    "print (\"******test target******\")\n",
    "#print (y_test)\n",
    "\n",
    "##### Step 4 - Split validation data\n",
    "x_validation = validation_set_wt[[ 'vo', 'r', 'u_200', 'u_850', 'v_200','v_850', 'ttr','sst']]\n",
    "print (\"******validation features******\")\n",
    "#print (x_validation)\n",
    "y_validation = validation_set_wt[['Tomorrow_lsm']]\n",
    "print (\"******validation target******\")\n",
    "#print (y_validation)"
   ]
  },
  {
   "cell_type": "markdown",
   "id": "aeb2ba06",
   "metadata": {},
   "source": [
    "# ADASYN"
   ]
  },
  {
   "cell_type": "code",
   "execution_count": 12,
   "id": "40f72d62",
   "metadata": {},
   "outputs": [
    {
     "name": "stdout",
     "output_type": "stream",
     "text": [
      "Before ADASYN\n",
      "[0. 1.]\n",
      "> Class=0 : 4254174/4268771 (99.7%)\n",
      "> Class=1 : 14597/4268771 (0.3%)\n",
      "After ADASYN\n",
      "[0. 1.]\n",
      "> Class=0 : 4254174/8509691 (50.0%)\n",
      "> Class=1 : 4255517/8509691 (50.0%)\n"
     ]
    }
   ],
   "source": [
    "\n",
    "print('Before ADASYN')\n",
    "\n",
    "dff = y_training\n",
    "M = y_training.to_numpy()\n",
    "# summarize dataset\n",
    "classes = unique(M)\n",
    "print(classes)\n",
    "total = len(M)\n",
    "for c in classes:\n",
    "    n_examples = len(M[M==c])\n",
    "    percent = n_examples / total * 100\n",
    "    print('> Class=%d : %d/%d (%.1f%%)' % (c, n_examples, total, percent))\n",
    "\n",
    "ada = ADASYN(random_state=1)\n",
    "\n",
    "X_training_ada, Y_traning_ada = ada.fit_resample(x_training, y_training)\n",
    "\n",
    "print('After ADASYN')\n",
    "dff = Y_traning_ada\n",
    "M = Y_traning_ada.to_numpy()\n",
    "# summarize dataset\n",
    "classes = unique(M)\n",
    "print(classes)\n",
    "total = len(M)\n",
    "for c in classes:\n",
    "    n_examples = len(M[M==c])\n",
    "    percent = n_examples / total * 100\n",
    "    print('> Class=%d : %d/%d (%.1f%%)' % (c, n_examples, total, percent))"
   ]
  },
  {
   "cell_type": "code",
   "execution_count": 14,
   "id": "342605f9",
   "metadata": {},
   "outputs": [
    {
     "name": "stdout",
     "output_type": "stream",
     "text": [
      "WARNING:tensorflow:Falling back from v2 loop because of error: Failed to find data adapter that can handle input: <class 'pandas.core.frame.DataFrame'>, <class 'NoneType'>\n",
      "Train on 8509691 samples, validate on 688402 samples\n",
      "8509691/8509691 [==============================] - 1334s 157us/sample - loss: 0.6938 - accuracy: 0.4999 - val_loss: 0.6963 - val_accuracy: 0.0031\n"
     ]
    },
    {
     "data": {
      "text/plain": [
       "<tensorflow.python.keras.callbacks.History at 0x7fe1c6ac8c90>"
      ]
     },
     "execution_count": 14,
     "metadata": {},
     "output_type": "execute_result"
    }
   ],
   "source": [
    "##### Step 5 - Specify the structure of a Neural Network\n",
    "model_simple_ADASYN = tf.keras.models.Sequential([\n",
    "    tf.keras.layers.Flatten(input_shape=(8,)),\n",
    "    tf.keras.layers.Dense(1, activation='tanh', name='Hidden-Layer1'),\n",
    "    tf.keras.layers.Dropout(0.2),\n",
    "    tf.keras.layers.Dense(1, activation='sigmoid', name='Output-Layer')\n",
    "])\n",
    "model_simple_ADASYN.compile(optimizer='adam',\n",
    "    loss='binary_crossentropy',\n",
    "    metrics=['accuracy'])\n",
    "\n",
    "model_simple_ADASYN.fit(X_training_ada, Y_traning_ada, epochs = 1 ,  validation_data=(x_validation, y_validation))#*********more epochs = 5\n"
   ]
  },
  {
   "cell_type": "code",
   "execution_count": 15,
   "id": "3899eeb2",
   "metadata": {},
   "outputs": [
    {
     "name": "stdout",
     "output_type": "stream",
     "text": [
      "WARNING:tensorflow:Falling back from v2 loop because of error: Failed to find data adapter that can handle input: <class 'pandas.core.frame.DataFrame'>, <class 'NoneType'>\n",
      "WARNING:tensorflow:Falling back from v2 loop because of error: Failed to find data adapter that can handle input: <class 'pandas.core.frame.DataFrame'>, <class 'NoneType'>\n"
     ]
    }
   ],
   "source": [
    "##### Step 6 - Use model to make predictions\n",
    "# Predict class labels on training data\n",
    "pred_labels_tr_simple_ADASYN = (model_simple_ADASYN.predict(x_training))\n",
    "# Predict class labels on a test data\n",
    "pred_labels_te_simple_ADASYN = (model_simple_ADASYN.predict(x_test))\n",
    "#> 0.01).astype(int)\n"
   ]
  },
  {
   "cell_type": "code",
   "execution_count": 16,
   "id": "33bfa453",
   "metadata": {},
   "outputs": [
    {
     "data": {
      "text/plain": [
       "<matplotlib.legend.Legend at 0x7fe241bca4d0>"
      ]
     },
     "execution_count": 16,
     "metadata": {},
     "output_type": "execute_result"
    },
    {
     "data": {
      "image/png": "[encoded data removed]",
      "text/plain": [
       "<Figure size 432x288 with 1 Axes>"
      ]
     },
     "metadata": {
      "needs_background": "light"
     },
     "output_type": "display_data"
    }
   ],
   "source": [
    "from sklearn import metrics\n",
    "from sklearn import datasets\n",
    "from sklearn.model_selection import train_test_split\n",
    "from sklearn.linear_model import LogisticRegression\n",
    "from sklearn.ensemble import GradientBoostingClassifier\n",
    "import numpy as np\n",
    "import matplotlib.pyplot as plt\n",
    "\n",
    "plt.figure(0).clf()\n",
    "\n",
    "\n",
    "fpr, tpr, _ = metrics.roc_curve(y_test, pred_labels_te_simple_ADASYN)\n",
    "auc = round(metrics.roc_auc_score(y_test, pred_labels_te_simple_ADASYN), 4)\n",
    "plt.plot(fpr,tpr,label=\"simple_ADASYN, AUC=\"+str(auc))\n",
    "\n",
    "\n",
    "\n",
    "\n",
    "\n",
    "#add legend\n",
    "plt.legend()"
   ]
  },
  {
   "cell_type": "code",
   "execution_count": null,
   "id": "23ce476a",
   "metadata": {},
   "outputs": [],
   "source": []
  }
 ],
 "metadata": {
  "kernelspec": {
   "display_name": "Python 3 (ipykernel)",
   "language": "python",
   "name": "python3"
  },
  "language_info": {
   "codemirror_mode": {
    "name": "ipython",
    "version": 3
   },
   "file_extension": ".py",
   "mimetype": "text/x-python",
   "name": "python",
   "nbconvert_exporter": "python",
   "pygments_lexer": "ipython3",
   "version": "3.7.13"
  }
 },
 "nbformat": 4,
 "nbformat_minor": 5
}
