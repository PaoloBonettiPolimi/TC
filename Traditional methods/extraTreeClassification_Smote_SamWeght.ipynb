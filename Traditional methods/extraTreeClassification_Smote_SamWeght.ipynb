{
 "cells": [
  {
   "cell_type": "code",
   "execution_count": 1,
   "id": "45a3b020",
   "metadata": {},
   "outputs": [
    {
     "name": "stdout",
     "output_type": "stream",
     "text": [
      "tensorflow version 2.9.1\n"
     ]
    }
   ],
   "source": [
    "import tensorflow as tf\n",
    "\n",
    "print(f'tensorflow version {tf.__version__}')\n",
    "\n",
    "from imblearn.over_sampling import SMOTE\n",
    "from collections import Counter\n",
    "from numpy import * \n",
    "\n",
    "import pandas as pd\n",
    "import io\n",
    "import requests\n",
    "import numpy as np\n",
    "from sklearn import metrics\n",
    "from sklearn.model_selection import train_test_split\n",
    "from tensorflow.keras.models import Sequential\n",
    "from tensorflow.keras.layers import Dense, Activation\n",
    "from tensorflow.keras.callbacks import EarlyStopping"
   ]
  },
  {
   "cell_type": "markdown",
   "id": "db39a436",
   "metadata": {},
   "source": [
    "# Loading the Data & Smote"
   ]
  },
  {
   "cell_type": "code",
   "execution_count": 2,
   "id": "3bc419d3",
   "metadata": {},
   "outputs": [],
   "source": [
    "def dataLoadSm():\n",
    "    test = pd.read_csv('Real_Tomorrow/test_real_tom_target.csv')\n",
    "    train = pd.read_csv('Real_Tomorrow/training_real_tom_target.csv')\n",
    "    val = pd.read_csv('Real_Tomorrow/validation_real_tom_target.csv')\n",
    "    print(train.head())\n",
    "    \n",
    "    #Split data\n",
    "    x_train = train[[ 'vo', 'r', 'u_200', 'u_850', 'v_200','v_850', 'ttr','sst']]\n",
    "    print (\"******training features******\")\n",
    "    print (x_train)\n",
    "    y_train = train[['Real_tom_lsm']]\n",
    "    print (\"******training target******\")\n",
    "    print (y_train)\n",
    "    \n",
    "    x_test = test[[ 'vo', 'r', 'u_200', 'u_850', 'v_200','v_850', 'ttr','sst']]\n",
    "    print (\"******test features******\")\n",
    "    print (x_test)\n",
    "    y_test = test[['Real_tom_lsm']]\n",
    "    print (\"******test target******\")\n",
    "    print (y_test)\n",
    "    \n",
    "    x_val = val[[ 'vo', 'r', 'u_200', 'u_850', 'v_200','v_850', 'ttr','sst']]\n",
    "    print (\"******validation features******\")\n",
    "    print (x_val)\n",
    "    y_val = val[['Real_tom_lsm']]\n",
    "    print (\"******validation target******\")\n",
    "    print (y_val)\n",
    "    \n",
    "    print('Before Smote')\n",
    "\n",
    "    dff = y_train\n",
    "    M = y_train.to_numpy()\n",
    "    # summarize dataset\n",
    "    classes = unique(M)\n",
    "    print(classes)\n",
    "    total = len(M)\n",
    "    for c in classes:\n",
    "        n_examples = len(M[M==c])\n",
    "        percent = n_examples / total * 100\n",
    "        print('> Class=%d : %d/%d (%.1f%%)' % (c, n_examples, total, percent))\n",
    "    \n",
    "    \n",
    "    smt = SMOTE()\n",
    "    \n",
    "    X_train_sm, Y_train_sm = smt.fit_resample(x_train, y_train)\n",
    "    \n",
    "    print('After SMOTE')\n",
    "    dff = Y_train_sm\n",
    "    M = Y_train_sm.to_numpy()\n",
    "    # summarize dataset\n",
    "    classes = unique(M)\n",
    "    print(classes)\n",
    "    total = len(M)\n",
    "    for c in classes:\n",
    "        n_examples = len(M[M==c])\n",
    "        percent = n_examples / total * 100\n",
    "        print('> Class=%d : %d/%d (%.1f%%)' % (c, n_examples, total, percent))\n",
    "        \n",
    "    return X_train_sm, Y_train_sm, x_val, y_val, x_test, y_test\n",
    "\n",
    "def dataLoad():\n",
    "    test = pd.read_csv('Real_Tomorrow/test_real_tom_target.csv')\n",
    "    train = pd.read_csv('Real_Tomorrow/training_real_tom_target.csv')\n",
    "    val = pd.read_csv('Real_Tomorrow/validation_real_tom_target.csv')\n",
    "    print(train.head())\n",
    "    \n",
    "    #Split data\n",
    "    x_train = train[[ 'vo', 'r', 'u_200', 'u_850', 'v_200','v_850', 'ttr','sst']]\n",
    "    print (\"******training features******\")\n",
    "    #print (x_train)\n",
    "    y_train = train[['Real_tom_lsm']]\n",
    "    print (\"******training target******\")\n",
    "    #print (y_train)\n",
    "    \n",
    "    x_test = test[[ 'vo', 'r', 'u_200', 'u_850', 'v_200','v_850', 'ttr','sst']]\n",
    "    print (\"******test features******\")\n",
    "    #print (x_test)\n",
    "    y_test = test[['Real_tom_lsm']]\n",
    "    print (\"******test target******\")\n",
    "    #print (y_test)\n",
    "    \n",
    "    x_val = val[[ 'vo', 'r', 'u_200', 'u_850', 'v_200','v_850', 'ttr','sst']]\n",
    "    print (\"******validation features******\")\n",
    "    #print (x_val)\n",
    "    y_val = val[['Real_tom_lsm']]\n",
    "    print (\"******validation target******\")\n",
    "    #print (y_val)\n",
    "    \n",
    "        \n",
    "    return x_train, y_train, x_val, y_val, x_test, y_test"
   ]
  },
  {
   "cell_type": "code",
   "execution_count": 3,
   "id": "a97d0525",
   "metadata": {},
   "outputs": [
    {
     "name": "stdout",
     "output_type": "stream",
     "text": [
      "   Unnamed: 0        time  latitude  longitude        vo          r     u_200  \\\n",
      "0           0  1980-01-01       0.0       20.0  0.000007  80.761185  1.909660   \n",
      "1           1  1980-01-01       0.0       22.5  0.000004  80.703650  1.165733   \n",
      "2           2  1980-01-01       0.0       25.0  0.000007  78.231514 -1.311676   \n",
      "3           3  1980-01-01       0.0       27.5  0.000010  79.631010 -3.777573   \n",
      "4           4  1980-01-01       0.0       30.0  0.000010  71.573875 -5.734505   \n",
      "\n",
      "      u_850     v_200     v_850        ttr  sst  lsm  Real_tom_lsm  \n",
      "0 -3.323872  1.687164 -1.823624 -247.54074  0.0  0.0           0.0  \n",
      "1 -2.844494  1.060593 -1.991425 -240.00592  0.0  0.0           0.0  \n",
      "2 -2.125244  3.280617 -1.931789 -223.76889  0.0  0.0           0.0  \n",
      "3 -1.122395  5.743889 -1.243538 -235.55556  0.0  0.0           0.0  \n",
      "4 -1.362953  6.514030 -0.954163 -254.03260  0.0  0.0           0.0  \n",
      "******training features******\n",
      "               vo          r      u_200     u_850      v_200     v_850  \\\n",
      "0        0.000007  80.761185   1.909660 -3.323872   1.687164 -1.823624   \n",
      "1        0.000004  80.703650   1.165733 -2.844494   1.060593 -1.991425   \n",
      "2        0.000007  78.231514  -1.311676 -2.125244   3.280617 -1.931789   \n",
      "3        0.000010  79.631010  -3.777573 -1.122395   5.743889 -1.243538   \n",
      "4        0.000010  71.573875  -5.734505 -1.362953   6.514030 -0.954163   \n",
      "...           ...        ...        ...       ...        ...       ...   \n",
      "4268766  0.000015  26.797535  25.075424 -3.653679  -1.221291  1.515594   \n",
      "4268767 -0.000006  27.766910  24.175919 -2.866638  -6.724304  0.861771   \n",
      "4268768  0.000010  29.111805  24.655510 -2.809170 -10.138817  0.051220   \n",
      "4268769  0.000006  27.833050  25.088104 -2.730087 -11.036507  0.666927   \n",
      "4268770  0.000007  15.843884  24.510345 -3.213837 -10.213325 -0.098499   \n",
      "\n",
      "               ttr        sst  \n",
      "0       -247.54074    0.00000  \n",
      "1       -240.00592    0.00000  \n",
      "2       -223.76889    0.00000  \n",
      "3       -235.55556    0.00000  \n",
      "4       -254.03260    0.00000  \n",
      "...            ...        ...  \n",
      "4268766 -273.34204  296.89227  \n",
      "4268767 -280.37018  296.03314  \n",
      "4268768 -281.05167  295.36078  \n",
      "4268769 -280.05610  295.10638  \n",
      "4268770 -279.40427  294.44766  \n",
      "\n",
      "[4268771 rows x 8 columns]\n",
      "******training target******\n",
      "         Real_tom_lsm\n",
      "0                 0.0\n",
      "1                 0.0\n",
      "2                 0.0\n",
      "3                 0.0\n",
      "4                 0.0\n",
      "...               ...\n",
      "4268766           0.0\n",
      "4268767           0.0\n",
      "4268768           0.0\n",
      "4268769           0.0\n",
      "4268770           0.0\n",
      "\n",
      "[4268771 rows x 1 columns]\n",
      "******test features******\n",
      "              vo          r      u_200     u_850      v_200     v_850  \\\n",
      "0       0.000011  80.796135  -2.052292  0.008678   4.996910 -1.678764   \n",
      "1       0.000011  77.748420  -4.445312  0.740505   7.517281  0.792618   \n",
      "2      -0.000001  71.178825  -3.778427  1.056324   9.333221  0.688252   \n",
      "3      -0.000005  73.585754  -4.695709  1.236446   9.589882  0.555519   \n",
      "4      -0.000016  72.382780  -4.002563  0.734211   5.410950 -1.086350   \n",
      "...          ...        ...        ...       ...        ...       ...   \n",
      "539482  0.000006   2.637233  33.277840  5.379345  -0.286896  5.558327   \n",
      "539483 -0.000020  23.660923  34.272537  6.438683 -13.026535  2.857349   \n",
      "539484 -0.000019  46.051540  35.755882  7.248966 -18.870102 -3.349407   \n",
      "539485 -0.000014  55.855648  34.069664  6.349327 -18.801796 -8.172478   \n",
      "539486  0.000006  61.602300  29.167267  4.805676 -15.093590 -9.708778   \n",
      "\n",
      "              ttr        sst  \n",
      "0      -272.04962    0.00000  \n",
      "1      -250.63333    0.00000  \n",
      "2      -229.52519    0.00000  \n",
      "3      -240.80815    0.00000  \n",
      "4      -262.45557    0.00000  \n",
      "...           ...        ...  \n",
      "539482 -277.60870  294.14987  \n",
      "539483 -270.80573  294.23798  \n",
      "539484 -249.43092  294.26890  \n",
      "539485 -239.36870  294.36630  \n",
      "539486 -251.60574  293.74924  \n",
      "\n",
      "[539487 rows x 8 columns]\n",
      "******test target******\n",
      "        Real_tom_lsm\n",
      "0                0.0\n",
      "1                0.0\n",
      "2                0.0\n",
      "3                0.0\n",
      "4                0.0\n",
      "...              ...\n",
      "539482           0.0\n",
      "539483           0.0\n",
      "539484           0.0\n",
      "539485           0.0\n",
      "539486           0.0\n",
      "\n",
      "[539487 rows x 1 columns]\n",
      "******validation features******\n",
      "              vo          r      u_200     u_850     v_200     v_850  \\\n",
      "0       0.000003  73.016390  -5.760780 -4.216808  6.860649 -4.352928   \n",
      "1       0.000003  74.569660  -4.942451 -3.857407  6.459419 -3.991157   \n",
      "2       0.000004  80.080090  -3.848740 -3.175144  6.303680 -3.446140   \n",
      "3       0.000012  83.676704   0.330811 -2.526569  7.235268 -2.307594   \n",
      "4       0.000011  76.225440   3.678749 -1.027561  7.020271 -0.077572   \n",
      "...          ...        ...        ...       ...       ...       ...   \n",
      "688397  0.000014  70.662056  23.560066  1.655861  9.690376  3.621418   \n",
      "688398 -0.000006  51.213654  22.381706  0.321705  9.860390 -0.099480   \n",
      "688399  0.000009  46.678970  22.464828  0.851299  7.661758 -0.725330   \n",
      "688400  0.000002  59.362090  22.364807  0.543045  5.595253 -1.542034   \n",
      "688401  0.000014  65.915980  23.052147  0.048565  1.080147 -1.203087   \n",
      "\n",
      "              ttr        sst  \n",
      "0      -212.59741    0.00000  \n",
      "1      -198.23593    0.00000  \n",
      "2      -195.83296    0.00000  \n",
      "3      -191.47444    0.00000  \n",
      "4      -191.98111    0.00000  \n",
      "...           ...        ...  \n",
      "688397 -271.57556  296.77530  \n",
      "688398 -269.94592  296.44290  \n",
      "688399 -270.18890  295.73486  \n",
      "688400 -264.07333  295.24792  \n",
      "688401 -259.79480  295.79680  \n",
      "\n",
      "[688402 rows x 8 columns]\n",
      "******validation target******\n",
      "        Real_tom_lsm\n",
      "0                0.0\n",
      "1                0.0\n",
      "2                0.0\n",
      "3                0.0\n",
      "4                0.0\n",
      "...              ...\n",
      "688397           0.0\n",
      "688398           0.0\n",
      "688399           0.0\n",
      "688400           0.0\n",
      "688401           0.0\n",
      "\n",
      "[688402 rows x 1 columns]\n",
      "Before Smote\n",
      "[0. 1.]\n",
      "> Class=0 : 4260067/4268771 (99.8%)\n",
      "> Class=1 : 8704/4268771 (0.2%)\n",
      "After SMOTE\n",
      "[0. 1.]\n",
      "> Class=0 : 4260067/8520134 (50.0%)\n",
      "> Class=1 : 4260067/8520134 (50.0%)\n",
      "   Unnamed: 0        time  latitude  longitude        vo          r     u_200  \\\n",
      "0           0  1980-01-01       0.0       20.0  0.000007  80.761185  1.909660   \n",
      "1           1  1980-01-01       0.0       22.5  0.000004  80.703650  1.165733   \n",
      "2           2  1980-01-01       0.0       25.0  0.000007  78.231514 -1.311676   \n",
      "3           3  1980-01-01       0.0       27.5  0.000010  79.631010 -3.777573   \n",
      "4           4  1980-01-01       0.0       30.0  0.000010  71.573875 -5.734505   \n",
      "\n",
      "      u_850     v_200     v_850        ttr  sst  lsm  Real_tom_lsm  \n",
      "0 -3.323872  1.687164 -1.823624 -247.54074  0.0  0.0           0.0  \n",
      "1 -2.844494  1.060593 -1.991425 -240.00592  0.0  0.0           0.0  \n",
      "2 -2.125244  3.280617 -1.931789 -223.76889  0.0  0.0           0.0  \n",
      "3 -1.122395  5.743889 -1.243538 -235.55556  0.0  0.0           0.0  \n",
      "4 -1.362953  6.514030 -0.954163 -254.03260  0.0  0.0           0.0  \n",
      "******training features******\n",
      "******training target******\n",
      "******test features******\n",
      "******test target******\n",
      "******validation features******\n",
      "******validation target******\n"
     ]
    }
   ],
   "source": [
    "x_train_sm, y_train_sm, x_val, y_val, x_test, y_test = dataLoadSm()\n",
    "x_train, y_train, x_val, y_val, x_test, y_test = dataLoad()\n"
   ]
  },
  {
   "cell_type": "markdown",
   "id": "996537ab",
   "metadata": {},
   "source": [
    "# Standardization"
   ]
  },
  {
   "cell_type": "code",
   "execution_count": 4,
   "id": "db091c6e",
   "metadata": {},
   "outputs": [],
   "source": [
    "from sklearn.preprocessing import StandardScaler\n",
    "scaler = StandardScaler()\n",
    "\n",
    "#scaled_x_training = scaler.fit_transform(x_training)\n",
    "#df = pd.DataFrame(StandardScaler().fit_transform(x_training))\n",
    "\n",
    "X_train_stand = x_train_sm.copy() #smote\n",
    "X_valid_stand = x_val.copy() #smote\n",
    "X_test_stand = x_test.copy() #smote\n",
    "\n",
    "#not smote\n",
    "X_train_scaled = x_train.copy() \n",
    "X_valid_scaled = x_val.copy()\n",
    "X_test_scaled = x_test.copy()\n",
    "\n",
    "num_cols = [ 'vo', 'r', 'u_200', 'u_850', 'v_200','v_850', 'ttr','sst']\n",
    "\n",
    "# apply standardization on numerical features\n",
    "for i in num_cols:\n",
    "    \n",
    "    # fit on training data column\n",
    "    scale = StandardScaler().fit(X_train_stand[[i]])\n",
    "    \n",
    "    # transform the training data column\n",
    "    X_train_stand[i] = scale.transform(X_train_stand[[i]])\n",
    "    \n",
    "    # transform the training data column\n",
    "    X_valid_stand[i] = scale.transform(X_valid_stand[[i]])   \n",
    "\n",
    "    # transform the testing data column\n",
    "    X_test_stand[i] = scale.transform(X_test_stand[[i]])\n",
    "    \n",
    "for i in num_cols:\n",
    "    \n",
    "    # fit on training data column\n",
    "    scale = StandardScaler().fit(X_train_scaled[[i]])\n",
    "    \n",
    "    # transform the training data column\n",
    "    X_train_scaled[i] = scale.transform(X_train_scaled[[i]])\n",
    "    \n",
    "    # transform the training data column\n",
    "    X_valid_scaled[i] = scale.transform(X_valid_scaled[[i]])   \n",
    "\n",
    "    # transform the testing data column\n",
    "    X_test_scaled[i] = scale.transform(X_test_scaled [[i]])"
   ]
  },
  {
   "cell_type": "markdown",
   "id": "2ff60e27",
   "metadata": {},
   "source": [
    "# ExtraTreesClassifier"
   ]
  },
  {
   "cell_type": "code",
   "execution_count": 21,
   "id": "f263c272",
   "metadata": {},
   "outputs": [],
   "source": [
    "from sklearn.ensemble import ExtraTreesClassifier\n",
    "from sklearn.metrics import log_loss\n",
    "%matplotlib inline\n",
    "import matplotlib.pyplot as plt\n",
    "from sklearn.metrics import roc_curve, auc\n",
    "from sklearn.metrics import confusion_matrix\n",
    "\n",
    "# get a list of models to evaluate\n",
    "def get_models():\n",
    "    models = dict()\n",
    "    n_trees = [10, 50, 100, 500, 1000, 5000]\n",
    "    min_samples_leaf = [1, 10, 50, 100, 500, 1000, 5000]\n",
    "    max_features= ['sqrt', 'log2', None] \n",
    "    for n in n_trees:\n",
    "        for l in min_samples_leaf:\n",
    "            for m in max_features:\n",
    "                models[str(n)+'trees_'+str(l)+'leafSamples_'+str(m)+'maxFeat'] = ExtraTreesClassifier(criterion='log_loss', n_estimators=n, min_samples_leaf=l, max_features=m)\n",
    "    return models\n",
    "\n",
    "#ExtraTreesClassifier_class_weight\n",
    "def get_models_class_weight(method):\n",
    "    models = dict()\n",
    "    n_trees = [10, 50, 100, 500, 1000, 5000]\n",
    "    min_samples_leaf = [1, 10, 50, 100, 500, 1000, 5000]\n",
    "    max_features= ['sqrt', 'log2', None] \n",
    "    \n",
    "    if method == 'balanced':\n",
    "        print(\"The “balanced” mode uses the values of y to automatically adjust weights inversely proportional to class frequencies in the input data as n_samples / (n_classes * np.bincount(y))\")\n",
    "        for n in n_trees:\n",
    "        for l in min_samples_leaf:\n",
    "            for m in max_features:\n",
    "                models[str(n)+'trees_'+str(l)+'leafSamples_'+str(m)+'maxFeat'] = ExtraTreesClassifier(criterion='log_loss', n_estimators=n, min_samples_leaf=l, max_features=m, class_weight=\"balanced\")\n",
    "    elif method == 'balanced_subsample':\n",
    "        print(\"The “balanced_subsample” mode is the same as “balanced” except that weights are computed based on the bootstrap sample for every tree grown.\")\n",
    "        for n in n_trees:\n",
    "        for l in min_samples_leaf:\n",
    "            for m in max_features:\n",
    "                models[str(n)+'trees_'+str(l)+'leafSamples_'+str(m)+'maxFeat'] = ExtraTreesClassifier(criterion='log_loss', n_estimators=n, min_samples_leaf=l, max_features=m, class_weight=\"balanced_subsample\")\n",
    "    else:\n",
    "        print('the method is not callable')\n",
    "    return models\n",
    "# evaluate a given model using validation\n",
    "def evaluate_model(model, x_train, y_train, x_val, y_val):\n",
    "    trained_mod = model.fit(x_train, y_train)\n",
    "    score = log_loss(y_val, model.predict_proba(x_val))\n",
    "    conf = confusion_matrix(y_val, np.round(model.predict(x_val)))\n",
    "    np.set_printoptions(precision=2)\n",
    "    print(conf)  \n",
    "    return score"
   ]
  },
  {
   "cell_type": "markdown",
   "id": "7aba9432",
   "metadata": {},
   "source": [
    "# models\n"
   ]
  },
  {
   "cell_type": "code",
   "execution_count": 22,
   "id": "027d3257",
   "metadata": {},
   "outputs": [],
   "source": [
    "models = get_models()\n"
   ]
  },
  {
   "cell_type": "markdown",
   "id": "055e9dfd",
   "metadata": {},
   "source": [
    "# random_forest_smote"
   ]
  },
  {
   "cell_type": "code",
   "execution_count": null,
   "id": "c91880c4",
   "metadata": {},
   "outputs": [
    {
     "name": "stdout",
     "output_type": "stream",
     "text": [
      "[[685156   2007]\n",
      " [   688    551]]\n",
      "[[685141   2022]\n",
      " [   702    537]]\n",
      "[[685130   2033]\n",
      " [   702    537]]\n",
      "[[666563  20600]\n",
      " [   256    983]]\n",
      "[[672805  14358]\n",
      " [   290    949]]\n",
      "[[677411   9752]\n",
      " [   361    878]]\n",
      "[[643813  43350]\n",
      " [   166   1073]]\n",
      "[[658143  29020]\n",
      " [   185   1054]]\n",
      "[[665353  21810]\n",
      " [   226   1013]]\n",
      "[[641443  45720]\n",
      " [   152   1087]]\n",
      "[[651627  35536]\n",
      " [   157   1082]]\n",
      "[[658499  28664]\n",
      " [   178   1061]]\n",
      "[[620232  66931]\n",
      " [   137   1102]]\n",
      "[[634127  53036]\n",
      " [   143   1096]]\n",
      "[[641803  45360]\n",
      " [   139   1100]]\n",
      "[[613746  73417]\n",
      " [   134   1105]]\n",
      "[[631884  55279]\n",
      " [   152   1087]]\n",
      "[[635871  51292]\n",
      " [   134   1105]]\n",
      "[[588180  98983]\n",
      " [   163   1076]]\n",
      "[[600488  86675]\n",
      " [   152   1087]]\n",
      "[[625320  61843]\n",
      " [   122   1117]]\n",
      "[[685265   1898]\n",
      " [   639    600]]\n",
      "[[685302   1861]\n",
      " [   668    571]]\n",
      "[[685183   1980]\n",
      " [   676    563]]\n",
      "[[669971  17192]\n",
      " [   249    990]]\n"
     ]
    }
   ],
   "source": [
    "results, names = list(), list()\n",
    "for name, model in models.items():\n",
    "    score = evaluate_model(model, X_train_stand, y_train_sm.values.reshape(-1,), X_valid_stand, y_val.values.reshape(-1,))\n",
    "\n",
    "    results.append(score)\n",
    "    names.append(name)"
   ]
  },
  {
   "cell_type": "markdown",
   "id": "959f0fae",
   "metadata": {},
   "source": [
    "# ExtraTreesClassifier_class_weight"
   ]
  },
  {
   "cell_type": "code",
   "execution_count": 19,
   "id": "30ff4726",
   "metadata": {},
   "outputs": [
    {
     "name": "stdout",
     "output_type": "stream",
     "text": [
      "##########################Penalty:l1, solver:newton-cg, C100##########################\n",
      "##########################Penalty:l1, solver:lbfgs, C100##########################\n",
      "##########################Penalty:l1, solver:liblinear, C100##########################\n"
     ]
    },
    {
     "name": "stderr",
     "output_type": "stream",
     "text": [
      "/Users/3rfanian/opt/anaconda3/envs/SHAP/lib/python3.10/site-packages/sklearn/utils/validation.py:1111: DataConversionWarning: A column-vector y was passed when a 1d array was expected. Please change the shape of y to (n_samples, ), for example using ravel().\n",
      "  y = column_or_1d(y, warn=True)\n"
     ]
    },
    {
     "name": "stdout",
     "output_type": "stream",
     "text": [
      "[[-0.41705726  0.28400323  0.14547696 -0.68773563 -0.03177079  0.07213172\n",
      "   0.88752071  0.67371025]]\n",
      "[-7.5923385]\n",
      "##########################Penalty:l1, solver:sag, C100##########################\n",
      "##########################Penalty:l1, solver:saga, C100##########################\n"
     ]
    },
    {
     "name": "stderr",
     "output_type": "stream",
     "text": [
      "/Users/3rfanian/opt/anaconda3/envs/SHAP/lib/python3.10/site-packages/sklearn/utils/validation.py:1111: DataConversionWarning: A column-vector y was passed when a 1d array was expected. Please change the shape of y to (n_samples, ), for example using ravel().\n",
      "  y = column_or_1d(y, warn=True)\n"
     ]
    },
    {
     "name": "stdout",
     "output_type": "stream",
     "text": [
      "[[-0.4170667   0.28398066  0.14547838 -0.68774149 -0.03177496  0.07213486\n",
      "   0.88754934  0.67370835]]\n",
      "[-7.59234049]\n",
      "##########################Penalty:l2, solver:newton-cg, C100##########################\n"
     ]
    },
    {
     "name": "stderr",
     "output_type": "stream",
     "text": [
      "/Users/3rfanian/opt/anaconda3/envs/SHAP/lib/python3.10/site-packages/sklearn/utils/validation.py:1111: DataConversionWarning: A column-vector y was passed when a 1d array was expected. Please change the shape of y to (n_samples, ), for example using ravel().\n",
      "  y = column_or_1d(y, warn=True)\n"
     ]
    },
    {
     "name": "stdout",
     "output_type": "stream",
     "text": [
      "[[-0.41705791  0.2839768   0.14547938 -0.6877359  -0.03177514  0.07213429\n",
      "   0.88753968  0.67370754]]\n",
      "[-7.59234403]\n",
      "##########################Penalty:l2, solver:lbfgs, C100##########################\n"
     ]
    },
    {
     "name": "stderr",
     "output_type": "stream",
     "text": [
      "/Users/3rfanian/opt/anaconda3/envs/SHAP/lib/python3.10/site-packages/sklearn/utils/validation.py:1111: DataConversionWarning: A column-vector y was passed when a 1d array was expected. Please change the shape of y to (n_samples, ), for example using ravel().\n",
      "  y = column_or_1d(y, warn=True)\n"
     ]
    },
    {
     "name": "stdout",
     "output_type": "stream",
     "text": [
      "[[-0.41705449  0.28396658  0.1455216  -0.68776023 -0.03170367  0.07217787\n",
      "   0.88755892  0.67370233]]\n",
      "[-7.59236155]\n",
      "##########################Penalty:l2, solver:liblinear, C100##########################\n"
     ]
    },
    {
     "name": "stderr",
     "output_type": "stream",
     "text": [
      "/Users/3rfanian/opt/anaconda3/envs/SHAP/lib/python3.10/site-packages/sklearn/utils/validation.py:1111: DataConversionWarning: A column-vector y was passed when a 1d array was expected. Please change the shape of y to (n_samples, ), for example using ravel().\n",
      "  y = column_or_1d(y, warn=True)\n"
     ]
    },
    {
     "name": "stdout",
     "output_type": "stream",
     "text": [
      "[[-0.41705889  0.28401585  0.14549499 -0.68774001 -0.03175846  0.07213448\n",
      "   0.88750147  0.6736203 ]]\n",
      "[-7.5922363]\n",
      "##########################Penalty:l2, solver:sag, C100##########################\n"
     ]
    },
    {
     "name": "stderr",
     "output_type": "stream",
     "text": [
      "/Users/3rfanian/opt/anaconda3/envs/SHAP/lib/python3.10/site-packages/sklearn/utils/validation.py:1111: DataConversionWarning: A column-vector y was passed when a 1d array was expected. Please change the shape of y to (n_samples, ), for example using ravel().\n",
      "  y = column_or_1d(y, warn=True)\n"
     ]
    },
    {
     "name": "stdout",
     "output_type": "stream",
     "text": [
      "[[-0.41706431  0.28396404  0.14547957 -0.68771842 -0.03177094  0.07215578\n",
      "   0.88755631  0.67367689]]\n",
      "[-7.59228958]\n",
      "##########################Penalty:l2, solver:saga, C100##########################\n"
     ]
    },
    {
     "name": "stderr",
     "output_type": "stream",
     "text": [
      "/Users/3rfanian/opt/anaconda3/envs/SHAP/lib/python3.10/site-packages/sklearn/utils/validation.py:1111: DataConversionWarning: A column-vector y was passed when a 1d array was expected. Please change the shape of y to (n_samples, ), for example using ravel().\n",
      "  y = column_or_1d(y, warn=True)\n"
     ]
    },
    {
     "name": "stdout",
     "output_type": "stream",
     "text": [
      "[[-0.41706676  0.28398426  0.14548161 -0.68774121 -0.03177647  0.07213627\n",
      "   0.88754882  0.67370979]]\n",
      "[-7.59234242]\n",
      "##########################Penalty:elasticnet, solver:newton-cg, C100##########################\n",
      "##########################Penalty:elasticnet, solver:lbfgs, C100##########################\n",
      "##########################Penalty:elasticnet, solver:liblinear, C100##########################\n",
      "##########################Penalty:elasticnet, solver:sag, C100##########################\n",
      "##########################Penalty:elasticnet, solver:saga, C100##########################\n",
      "##########################Penalty:none, solver:newton-cg, C100##########################\n"
     ]
    },
    {
     "name": "stderr",
     "output_type": "stream",
     "text": [
      "/Users/3rfanian/opt/anaconda3/envs/SHAP/lib/python3.10/site-packages/sklearn/linear_model/_logistic.py:1113: UserWarning: Setting penalty='none' will ignore the C and l1_ratio parameters\n",
      "  warnings.warn(\n",
      "/Users/3rfanian/opt/anaconda3/envs/SHAP/lib/python3.10/site-packages/sklearn/utils/validation.py:1111: DataConversionWarning: A column-vector y was passed when a 1d array was expected. Please change the shape of y to (n_samples, ), for example using ravel().\n",
      "  y = column_or_1d(y, warn=True)\n"
     ]
    },
    {
     "name": "stdout",
     "output_type": "stream",
     "text": [
      "[[-0.41705783  0.28397728  0.14548047 -0.68773644 -0.03177453  0.07213456\n",
      "   0.88754029  0.67371017]]\n",
      "[-7.59234631]\n",
      "##########################Penalty:none, solver:lbfgs, C100##########################\n"
     ]
    },
    {
     "name": "stderr",
     "output_type": "stream",
     "text": [
      "/Users/3rfanian/opt/anaconda3/envs/SHAP/lib/python3.10/site-packages/sklearn/linear_model/_logistic.py:1113: UserWarning: Setting penalty='none' will ignore the C and l1_ratio parameters\n",
      "  warnings.warn(\n",
      "/Users/3rfanian/opt/anaconda3/envs/SHAP/lib/python3.10/site-packages/sklearn/utils/validation.py:1111: DataConversionWarning: A column-vector y was passed when a 1d array was expected. Please change the shape of y to (n_samples, ), for example using ravel().\n",
      "  y = column_or_1d(y, warn=True)\n"
     ]
    },
    {
     "name": "stdout",
     "output_type": "stream",
     "text": [
      "[[-0.41705441  0.28396706  0.14552268 -0.68776078 -0.03170306  0.07217815\n",
      "   0.88755953  0.67370496]]\n",
      "[-7.59236383]\n",
      "##########################Penalty:none, solver:liblinear, C100##########################\n",
      "##########################Penalty:none, solver:sag, C100##########################\n"
     ]
    },
    {
     "name": "stderr",
     "output_type": "stream",
     "text": [
      "/Users/3rfanian/opt/anaconda3/envs/SHAP/lib/python3.10/site-packages/sklearn/linear_model/_logistic.py:1113: UserWarning: Setting penalty='none' will ignore the C and l1_ratio parameters\n",
      "  warnings.warn(\n",
      "/Users/3rfanian/opt/anaconda3/envs/SHAP/lib/python3.10/site-packages/sklearn/utils/validation.py:1111: DataConversionWarning: A column-vector y was passed when a 1d array was expected. Please change the shape of y to (n_samples, ), for example using ravel().\n",
      "  y = column_or_1d(y, warn=True)\n"
     ]
    },
    {
     "name": "stdout",
     "output_type": "stream",
     "text": [
      "[[-0.41706423  0.28396452  0.14548065 -0.68771896 -0.03177032  0.07215606\n",
      "   0.88755692  0.67367951]]\n",
      "[-7.59229183]\n",
      "##########################Penalty:none, solver:saga, C100##########################\n"
     ]
    },
    {
     "name": "stderr",
     "output_type": "stream",
     "text": [
      "/Users/3rfanian/opt/anaconda3/envs/SHAP/lib/python3.10/site-packages/sklearn/linear_model/_logistic.py:1113: UserWarning: Setting penalty='none' will ignore the C and l1_ratio parameters\n",
      "  warnings.warn(\n",
      "/Users/3rfanian/opt/anaconda3/envs/SHAP/lib/python3.10/site-packages/sklearn/utils/validation.py:1111: DataConversionWarning: A column-vector y was passed when a 1d array was expected. Please change the shape of y to (n_samples, ), for example using ravel().\n",
      "  y = column_or_1d(y, warn=True)\n"
     ]
    },
    {
     "name": "stdout",
     "output_type": "stream",
     "text": [
      "[[-0.41706668  0.28398474  0.14548269 -0.68774176 -0.03177587  0.07213654\n",
      "   0.88754942  0.67371242]]\n",
      "[-7.59234469]\n",
      "##########################Penalty:l1, solver:newton-cg, C10##########################\n",
      "##########################Penalty:l1, solver:lbfgs, C10##########################\n",
      "##########################Penalty:l1, solver:liblinear, C10##########################\n"
     ]
    },
    {
     "name": "stderr",
     "output_type": "stream",
     "text": [
      "/Users/3rfanian/opt/anaconda3/envs/SHAP/lib/python3.10/site-packages/sklearn/utils/validation.py:1111: DataConversionWarning: A column-vector y was passed when a 1d array was expected. Please change the shape of y to (n_samples, ), for example using ravel().\n",
      "  y = column_or_1d(y, warn=True)\n"
     ]
    },
    {
     "name": "stdout",
     "output_type": "stream",
     "text": [
      "[[-0.41705678  0.28395641  0.14543782 -0.68772968 -0.03176086  0.07211514\n",
      "   0.88751445  0.67365908]]\n",
      "[-7.59225972]\n",
      "##########################Penalty:l1, solver:sag, C10##########################\n",
      "##########################Penalty:l1, solver:saga, C10##########################\n"
     ]
    },
    {
     "name": "stderr",
     "output_type": "stream",
     "text": [
      "/Users/3rfanian/opt/anaconda3/envs/SHAP/lib/python3.10/site-packages/sklearn/utils/validation.py:1111: DataConversionWarning: A column-vector y was passed when a 1d array was expected. Please change the shape of y to (n_samples, ), for example using ravel().\n",
      "  y = column_or_1d(y, warn=True)\n"
     ]
    },
    {
     "name": "stdout",
     "output_type": "stream",
     "text": [
      "[[-0.41706684  0.28394393  0.14543954 -0.68773909 -0.03176679  0.07211973\n",
      "   0.88754861  0.67367176]]\n",
      "[-7.59230262]\n",
      "##########################Penalty:l2, solver:newton-cg, C10##########################\n"
     ]
    },
    {
     "name": "stderr",
     "output_type": "stream",
     "text": [
      "/Users/3rfanian/opt/anaconda3/envs/SHAP/lib/python3.10/site-packages/sklearn/utils/validation.py:1111: DataConversionWarning: A column-vector y was passed when a 1d array was expected. Please change the shape of y to (n_samples, ), for example using ravel().\n",
      "  y = column_or_1d(y, warn=True)\n",
      "/Users/3rfanian/opt/anaconda3/envs/SHAP/lib/python3.10/site-packages/scipy/optimize/linesearch.py:437: LineSearchWarning: Rounding errors prevent the line search from converging\n",
      "  warn(msg, LineSearchWarning)\n",
      "/Users/3rfanian/opt/anaconda3/envs/SHAP/lib/python3.10/site-packages/scipy/optimize/linesearch.py:327: LineSearchWarning: The line search algorithm did not converge\n",
      "  warn('The line search algorithm did not converge', LineSearchWarning)\n",
      "/Users/3rfanian/opt/anaconda3/envs/SHAP/lib/python3.10/site-packages/sklearn/utils/optimize.py:203: UserWarning: Line Search failed\n",
      "  warnings.warn(\"Line Search failed\")\n",
      "/Users/3rfanian/opt/anaconda3/envs/SHAP/lib/python3.10/site-packages/sklearn/utils/validation.py:1111: DataConversionWarning: A column-vector y was passed when a 1d array was expected. Please change the shape of y to (n_samples, ), for example using ravel().\n",
      "  y = column_or_1d(y, warn=True)\n"
     ]
    },
    {
     "name": "stdout",
     "output_type": "stream",
     "text": [
      "[[-0.41705864  0.28397248  0.14546968 -0.68773101 -0.03178058  0.07213186\n",
      "   0.88753428  0.67368383]]\n",
      "[-7.59232356]\n",
      "##########################Penalty:l2, solver:lbfgs, C10##########################\n",
      "[[-0.41705522  0.2839623   0.14551187 -0.68775533 -0.03170915  0.07217542\n",
      "   0.88755351  0.67367865]]\n",
      "[-7.59234112]\n",
      "##########################Penalty:l2, solver:liblinear, C10##########################\n"
     ]
    },
    {
     "name": "stderr",
     "output_type": "stream",
     "text": [
      "/Users/3rfanian/opt/anaconda3/envs/SHAP/lib/python3.10/site-packages/sklearn/utils/validation.py:1111: DataConversionWarning: A column-vector y was passed when a 1d array was expected. Please change the shape of y to (n_samples, ), for example using ravel().\n",
      "  y = column_or_1d(y, warn=True)\n"
     ]
    },
    {
     "name": "stdout",
     "output_type": "stream",
     "text": [
      "[[-0.41705494  0.28393492  0.14548291 -0.68770817 -0.03175062  0.072121\n",
      "   0.88745405  0.67348609]]\n",
      "[-7.59190532]\n",
      "##########################Penalty:l2, solver:sag, C10##########################\n"
     ]
    },
    {
     "name": "stderr",
     "output_type": "stream",
     "text": [
      "/Users/3rfanian/opt/anaconda3/envs/SHAP/lib/python3.10/site-packages/sklearn/utils/validation.py:1111: DataConversionWarning: A column-vector y was passed when a 1d array was expected. Please change the shape of y to (n_samples, ), for example using ravel().\n",
      "  y = column_or_1d(y, warn=True)\n"
     ]
    },
    {
     "name": "stdout",
     "output_type": "stream",
     "text": [
      "[[-0.41706496  0.2839598   0.1454698  -0.68771354 -0.03177645  0.07215326\n",
      "   0.88755081  0.6736533 ]]\n",
      "[-7.59226926]\n",
      "##########################Penalty:l2, solver:saga, C10##########################\n"
     ]
    },
    {
     "name": "stderr",
     "output_type": "stream",
     "text": [
      "/Users/3rfanian/opt/anaconda3/envs/SHAP/lib/python3.10/site-packages/sklearn/utils/validation.py:1111: DataConversionWarning: A column-vector y was passed when a 1d array was expected. Please change the shape of y to (n_samples, ), for example using ravel().\n",
      "  y = column_or_1d(y, warn=True)\n"
     ]
    },
    {
     "name": "stdout",
     "output_type": "stream",
     "text": [
      "[[-0.41706748  0.28397995  0.14547186 -0.6877363  -0.03178194  0.07213382\n",
      "   0.88754336  0.67368612]]\n",
      "[-7.59232192]\n",
      "##########################Penalty:elasticnet, solver:newton-cg, C10##########################\n",
      "##########################Penalty:elasticnet, solver:lbfgs, C10##########################\n",
      "##########################Penalty:elasticnet, solver:liblinear, C10##########################\n",
      "##########################Penalty:elasticnet, solver:sag, C10##########################\n",
      "##########################Penalty:elasticnet, solver:saga, C10##########################\n",
      "##########################Penalty:none, solver:newton-cg, C10##########################\n"
     ]
    },
    {
     "name": "stderr",
     "output_type": "stream",
     "text": [
      "/Users/3rfanian/opt/anaconda3/envs/SHAP/lib/python3.10/site-packages/sklearn/linear_model/_logistic.py:1113: UserWarning: Setting penalty='none' will ignore the C and l1_ratio parameters\n",
      "  warnings.warn(\n",
      "/Users/3rfanian/opt/anaconda3/envs/SHAP/lib/python3.10/site-packages/sklearn/utils/validation.py:1111: DataConversionWarning: A column-vector y was passed when a 1d array was expected. Please change the shape of y to (n_samples, ), for example using ravel().\n",
      "  y = column_or_1d(y, warn=True)\n"
     ]
    },
    {
     "name": "stdout",
     "output_type": "stream",
     "text": [
      "[[-0.41705783  0.28397728  0.14548047 -0.68773644 -0.03177453  0.07213456\n",
      "   0.88754029  0.67371017]]\n",
      "[-7.59234631]\n",
      "##########################Penalty:none, solver:lbfgs, C10##########################\n"
     ]
    },
    {
     "name": "stderr",
     "output_type": "stream",
     "text": [
      "/Users/3rfanian/opt/anaconda3/envs/SHAP/lib/python3.10/site-packages/sklearn/linear_model/_logistic.py:1113: UserWarning: Setting penalty='none' will ignore the C and l1_ratio parameters\n",
      "  warnings.warn(\n",
      "/Users/3rfanian/opt/anaconda3/envs/SHAP/lib/python3.10/site-packages/sklearn/utils/validation.py:1111: DataConversionWarning: A column-vector y was passed when a 1d array was expected. Please change the shape of y to (n_samples, ), for example using ravel().\n",
      "  y = column_or_1d(y, warn=True)\n"
     ]
    },
    {
     "name": "stdout",
     "output_type": "stream",
     "text": [
      "[[-0.41705441  0.28396706  0.14552268 -0.68776078 -0.03170306  0.07217815\n",
      "   0.88755953  0.67370496]]\n",
      "[-7.59236383]\n",
      "##########################Penalty:none, solver:liblinear, C10##########################\n",
      "##########################Penalty:none, solver:sag, C10##########################\n"
     ]
    },
    {
     "name": "stderr",
     "output_type": "stream",
     "text": [
      "/Users/3rfanian/opt/anaconda3/envs/SHAP/lib/python3.10/site-packages/sklearn/linear_model/_logistic.py:1113: UserWarning: Setting penalty='none' will ignore the C and l1_ratio parameters\n",
      "  warnings.warn(\n",
      "/Users/3rfanian/opt/anaconda3/envs/SHAP/lib/python3.10/site-packages/sklearn/utils/validation.py:1111: DataConversionWarning: A column-vector y was passed when a 1d array was expected. Please change the shape of y to (n_samples, ), for example using ravel().\n",
      "  y = column_or_1d(y, warn=True)\n"
     ]
    },
    {
     "name": "stdout",
     "output_type": "stream",
     "text": [
      "[[-0.41706423  0.28396452  0.14548065 -0.68771896 -0.03177032  0.07215606\n",
      "   0.88755692  0.67367951]]\n",
      "[-7.59229183]\n",
      "##########################Penalty:none, solver:saga, C10##########################\n"
     ]
    },
    {
     "name": "stderr",
     "output_type": "stream",
     "text": [
      "/Users/3rfanian/opt/anaconda3/envs/SHAP/lib/python3.10/site-packages/sklearn/linear_model/_logistic.py:1113: UserWarning: Setting penalty='none' will ignore the C and l1_ratio parameters\n",
      "  warnings.warn(\n",
      "/Users/3rfanian/opt/anaconda3/envs/SHAP/lib/python3.10/site-packages/sklearn/utils/validation.py:1111: DataConversionWarning: A column-vector y was passed when a 1d array was expected. Please change the shape of y to (n_samples, ), for example using ravel().\n",
      "  y = column_or_1d(y, warn=True)\n"
     ]
    },
    {
     "name": "stdout",
     "output_type": "stream",
     "text": [
      "[[-0.41706668  0.28398474  0.14548269 -0.68774176 -0.03177587  0.07213654\n",
      "   0.88754942  0.67371242]]\n",
      "[-7.59234469]\n",
      "##########################Penalty:l1, solver:newton-cg, C1.0##########################\n",
      "##########################Penalty:l1, solver:lbfgs, C1.0##########################\n",
      "##########################Penalty:l1, solver:liblinear, C1.0##########################\n"
     ]
    },
    {
     "name": "stderr",
     "output_type": "stream",
     "text": [
      "/Users/3rfanian/opt/anaconda3/envs/SHAP/lib/python3.10/site-packages/sklearn/utils/validation.py:1111: DataConversionWarning: A column-vector y was passed when a 1d array was expected. Please change the shape of y to (n_samples, ), for example using ravel().\n",
      "  y = column_or_1d(y, warn=True)\n"
     ]
    },
    {
     "name": "stdout",
     "output_type": "stream",
     "text": [
      "[[-0.41705205  0.28348837  0.14504647 -0.68767016 -0.03166156  0.07194932\n",
      "   0.88745183  0.67314774]]\n",
      "[-7.59147236]\n",
      "##########################Penalty:l1, solver:sag, C1.0##########################\n",
      "##########################Penalty:l1, solver:saga, C1.0##########################\n"
     ]
    },
    {
     "name": "stderr",
     "output_type": "stream",
     "text": [
      "/Users/3rfanian/opt/anaconda3/envs/SHAP/lib/python3.10/site-packages/sklearn/utils/validation.py:1111: DataConversionWarning: A column-vector y was passed when a 1d array was expected. Please change the shape of y to (n_samples, ), for example using ravel().\n",
      "  y = column_or_1d(y, warn=True)\n"
     ]
    },
    {
     "name": "stdout",
     "output_type": "stream",
     "text": [
      "[[-0.41706827  0.28357659  0.14505113 -0.68771502 -0.03168503  0.07196842\n",
      "   0.88754135  0.67330594]]\n",
      "[-7.59192416]\n",
      "##########################Penalty:l2, solver:newton-cg, C1.0##########################\n"
     ]
    },
    {
     "name": "stderr",
     "output_type": "stream",
     "text": [
      "/Users/3rfanian/opt/anaconda3/envs/SHAP/lib/python3.10/site-packages/sklearn/utils/validation.py:1111: DataConversionWarning: A column-vector y was passed when a 1d array was expected. Please change the shape of y to (n_samples, ), for example using ravel().\n",
      "  y = column_or_1d(y, warn=True)\n",
      "/Users/3rfanian/opt/anaconda3/envs/SHAP/lib/python3.10/site-packages/scipy/optimize/linesearch.py:327: LineSearchWarning: The line search algorithm did not converge\n",
      "  warn('The line search algorithm did not converge', LineSearchWarning)\n",
      "/Users/3rfanian/opt/anaconda3/envs/SHAP/lib/python3.10/site-packages/sklearn/utils/optimize.py:203: UserWarning: Line Search failed\n",
      "  warnings.warn(\"Line Search failed\")\n"
     ]
    },
    {
     "name": "stdout",
     "output_type": "stream",
     "text": [
      "[[-0.41706587  0.28392948  0.14537222 -0.68768193 -0.03183523  0.07210738\n",
      "   0.88747986  0.67344732]]\n",
      "[-7.59211871]\n",
      "##########################Penalty:l2, solver:lbfgs, C1.0##########################\n"
     ]
    },
    {
     "name": "stderr",
     "output_type": "stream",
     "text": [
      "/Users/3rfanian/opt/anaconda3/envs/SHAP/lib/python3.10/site-packages/sklearn/utils/validation.py:1111: DataConversionWarning: A column-vector y was passed when a 1d array was expected. Please change the shape of y to (n_samples, ), for example using ravel().\n",
      "  y = column_or_1d(y, warn=True)\n"
     ]
    },
    {
     "name": "stdout",
     "output_type": "stream",
     "text": [
      "[[-0.41706244  0.28391953  0.14541458 -0.6877063  -0.03176388  0.07215091\n",
      "   0.88749933  0.67344203]]\n",
      "[-7.59213682]\n",
      "##########################Penalty:l2, solver:liblinear, C1.0##########################\n"
     ]
    },
    {
     "name": "stderr",
     "output_type": "stream",
     "text": [
      "/Users/3rfanian/opt/anaconda3/envs/SHAP/lib/python3.10/site-packages/sklearn/utils/validation.py:1111: DataConversionWarning: A column-vector y was passed when a 1d array was expected. Please change the shape of y to (n_samples, ), for example using ravel().\n",
      "  y = column_or_1d(y, warn=True)\n"
     ]
    },
    {
     "name": "stdout",
     "output_type": "stream",
     "text": [
      "[[-0.41701537  0.28312825  0.14536228 -0.68739011 -0.03167237  0.07198639\n",
      "   0.8869804   0.67214856]]\n",
      "[-7.58860304]\n",
      "##########################Penalty:l2, solver:sag, C1.0##########################\n"
     ]
    },
    {
     "name": "stderr",
     "output_type": "stream",
     "text": [
      "/Users/3rfanian/opt/anaconda3/envs/SHAP/lib/python3.10/site-packages/sklearn/utils/validation.py:1111: DataConversionWarning: A column-vector y was passed when a 1d array was expected. Please change the shape of y to (n_samples, ), for example using ravel().\n",
      "  y = column_or_1d(y, warn=True)\n"
     ]
    },
    {
     "name": "stdout",
     "output_type": "stream",
     "text": [
      "[[-0.41707155  0.28391738  0.14537223 -0.68766481 -0.03183155  0.07212804\n",
      "   0.88749582  0.67341755]]\n",
      "[-7.59206614]\n",
      "##########################Penalty:l2, solver:saga, C1.0##########################\n"
     ]
    },
    {
     "name": "stderr",
     "output_type": "stream",
     "text": [
      "/Users/3rfanian/opt/anaconda3/envs/SHAP/lib/python3.10/site-packages/sklearn/utils/validation.py:1111: DataConversionWarning: A column-vector y was passed when a 1d array was expected. Please change the shape of y to (n_samples, ), for example using ravel().\n",
      "  y = column_or_1d(y, warn=True)\n"
     ]
    },
    {
     "name": "stdout",
     "output_type": "stream",
     "text": [
      "[[-0.41707468  0.2839369   0.14537437 -0.68768719 -0.0318366   0.07210938\n",
      "   0.88748885  0.67344961]]\n",
      "[-7.59211709]\n",
      "##########################Penalty:elasticnet, solver:newton-cg, C1.0##########################\n",
      "##########################Penalty:elasticnet, solver:lbfgs, C1.0##########################\n",
      "##########################Penalty:elasticnet, solver:liblinear, C1.0##########################\n",
      "##########################Penalty:elasticnet, solver:sag, C1.0##########################\n",
      "##########################Penalty:elasticnet, solver:saga, C1.0##########################\n",
      "##########################Penalty:none, solver:newton-cg, C1.0##########################\n"
     ]
    },
    {
     "name": "stderr",
     "output_type": "stream",
     "text": [
      "/Users/3rfanian/opt/anaconda3/envs/SHAP/lib/python3.10/site-packages/sklearn/utils/validation.py:1111: DataConversionWarning: A column-vector y was passed when a 1d array was expected. Please change the shape of y to (n_samples, ), for example using ravel().\n",
      "  y = column_or_1d(y, warn=True)\n"
     ]
    },
    {
     "name": "stdout",
     "output_type": "stream",
     "text": [
      "[[-0.41705783  0.28397728  0.14548047 -0.68773644 -0.03177453  0.07213456\n",
      "   0.88754029  0.67371017]]\n",
      "[-7.59234631]\n",
      "##########################Penalty:none, solver:lbfgs, C1.0##########################\n"
     ]
    },
    {
     "name": "stderr",
     "output_type": "stream",
     "text": [
      "/Users/3rfanian/opt/anaconda3/envs/SHAP/lib/python3.10/site-packages/sklearn/utils/validation.py:1111: DataConversionWarning: A column-vector y was passed when a 1d array was expected. Please change the shape of y to (n_samples, ), for example using ravel().\n",
      "  y = column_or_1d(y, warn=True)\n"
     ]
    },
    {
     "name": "stdout",
     "output_type": "stream",
     "text": [
      "[[-0.41705441  0.28396706  0.14552268 -0.68776078 -0.03170306  0.07217815\n",
      "   0.88755953  0.67370496]]\n",
      "[-7.59236383]\n",
      "##########################Penalty:none, solver:liblinear, C1.0##########################\n",
      "##########################Penalty:none, solver:sag, C1.0##########################\n"
     ]
    },
    {
     "name": "stderr",
     "output_type": "stream",
     "text": [
      "/Users/3rfanian/opt/anaconda3/envs/SHAP/lib/python3.10/site-packages/sklearn/utils/validation.py:1111: DataConversionWarning: A column-vector y was passed when a 1d array was expected. Please change the shape of y to (n_samples, ), for example using ravel().\n",
      "  y = column_or_1d(y, warn=True)\n"
     ]
    },
    {
     "name": "stdout",
     "output_type": "stream",
     "text": [
      "[[-0.41706423  0.28396452  0.14548065 -0.68771896 -0.03177032  0.07215606\n",
      "   0.88755692  0.67367951]]\n",
      "[-7.59229183]\n",
      "##########################Penalty:none, solver:saga, C1.0##########################\n"
     ]
    },
    {
     "name": "stderr",
     "output_type": "stream",
     "text": [
      "/Users/3rfanian/opt/anaconda3/envs/SHAP/lib/python3.10/site-packages/sklearn/utils/validation.py:1111: DataConversionWarning: A column-vector y was passed when a 1d array was expected. Please change the shape of y to (n_samples, ), for example using ravel().\n",
      "  y = column_or_1d(y, warn=True)\n"
     ]
    },
    {
     "name": "stdout",
     "output_type": "stream",
     "text": [
      "[[-0.41706668  0.28398474  0.14548269 -0.68774176 -0.03177587  0.07213654\n",
      "   0.88754942  0.67371242]]\n",
      "[-7.59234469]\n",
      "##########################Penalty:l1, solver:newton-cg, C0.1##########################\n",
      "##########################Penalty:l1, solver:lbfgs, C0.1##########################\n",
      "##########################Penalty:l1, solver:liblinear, C0.1##########################\n"
     ]
    },
    {
     "name": "stderr",
     "output_type": "stream",
     "text": [
      "/Users/3rfanian/opt/anaconda3/envs/SHAP/lib/python3.10/site-packages/sklearn/utils/validation.py:1111: DataConversionWarning: A column-vector y was passed when a 1d array was expected. Please change the shape of y to (n_samples, ), for example using ravel().\n",
      "  y = column_or_1d(y, warn=True)\n"
     ]
    },
    {
     "name": "stdout",
     "output_type": "stream",
     "text": [
      "[[-0.41700519  0.27882087  0.14113819 -0.68707584 -0.03066904  0.07029317\n",
      "   0.88682725  0.66806698]]\n",
      "[-7.58364291]\n",
      "##########################Penalty:l1, solver:sag, C0.1##########################\n",
      "##########################Penalty:l1, solver:saga, C0.1##########################\n"
     ]
    },
    {
     "name": "stderr",
     "output_type": "stream",
     "text": [
      "/Users/3rfanian/opt/anaconda3/envs/SHAP/lib/python3.10/site-packages/sklearn/utils/validation.py:1111: DataConversionWarning: A column-vector y was passed when a 1d array was expected. Please change the shape of y to (n_samples, ), for example using ravel().\n",
      "  y = column_or_1d(y, warn=True)\n"
     ]
    },
    {
     "name": "stdout",
     "output_type": "stream",
     "text": [
      "[[-0.41708299  0.279904    0.14116459 -0.68747546 -0.03086572  0.070455\n",
      "   0.8874697   0.66966   ]]\n",
      "[-7.58815777]\n",
      "##########################Penalty:l2, solver:newton-cg, C0.1##########################\n"
     ]
    },
    {
     "name": "stderr",
     "output_type": "stream",
     "text": [
      "/Users/3rfanian/opt/anaconda3/envs/SHAP/lib/python3.10/site-packages/sklearn/utils/validation.py:1111: DataConversionWarning: A column-vector y was passed when a 1d array was expected. Please change the shape of y to (n_samples, ), for example using ravel().\n",
      "  y = column_or_1d(y, warn=True)\n",
      "/Users/3rfanian/opt/anaconda3/envs/SHAP/lib/python3.10/site-packages/scipy/optimize/linesearch.py:327: LineSearchWarning: The line search algorithm did not converge\n",
      "  warn('The line search algorithm did not converge', LineSearchWarning)\n",
      "/Users/3rfanian/opt/anaconda3/envs/SHAP/lib/python3.10/site-packages/sklearn/utils/optimize.py:203: UserWarning: Line Search failed\n",
      "  warnings.warn(\"Line Search failed\")\n",
      "/Users/3rfanian/opt/anaconda3/envs/SHAP/lib/python3.10/site-packages/sklearn/utils/validation.py:1111: DataConversionWarning: A column-vector y was passed when a 1d array was expected. Please change the shape of y to (n_samples, ), for example using ravel().\n",
      "  y = column_or_1d(y, warn=True)\n"
     ]
    },
    {
     "name": "stdout",
     "output_type": "stream",
     "text": [
      "[[-0.4171379   0.28350297  0.14440223 -0.68719138 -0.03237872  0.07186339\n",
      "   0.88693584  0.67109777]]\n",
      "[-7.59007924]\n",
      "##########################Penalty:l2, solver:lbfgs, C0.1##########################\n",
      "[[-0.41713447  0.28349449  0.1444462  -0.68721645 -0.03230827  0.07190486\n",
      "   0.88695807  0.67109108]]\n",
      "[-7.59010211]\n",
      "##########################Penalty:l2, solver:liblinear, C0.1##########################\n"
     ]
    },
    {
     "name": "stderr",
     "output_type": "stream",
     "text": [
      "/Users/3rfanian/opt/anaconda3/envs/SHAP/lib/python3.10/site-packages/sklearn/utils/validation.py:1111: DataConversionWarning: A column-vector y was passed when a 1d array was expected. Please change the shape of y to (n_samples, ), for example using ravel().\n",
      "  y = column_or_1d(y, warn=True)\n"
     ]
    },
    {
     "name": "stdout",
     "output_type": "stream",
     "text": [
      "[[-0.41661943  0.275314    0.14417996 -0.68423445 -0.03090875  0.07066219\n",
      "   0.88229252  0.65920904]]\n",
      "[-7.55631099]\n",
      "##########################Penalty:l2, solver:sag, C0.1##########################\n"
     ]
    },
    {
     "name": "stderr",
     "output_type": "stream",
     "text": [
      "/Users/3rfanian/opt/anaconda3/envs/SHAP/lib/python3.10/site-packages/sklearn/utils/validation.py:1111: DataConversionWarning: A column-vector y was passed when a 1d array was expected. Please change the shape of y to (n_samples, ), for example using ravel().\n",
      "  y = column_or_1d(y, warn=True)\n"
     ]
    },
    {
     "name": "stdout",
     "output_type": "stream",
     "text": [
      "[[-0.41713856  0.2834956   0.14440155 -0.68717766 -0.03237842  0.07187794\n",
      "   0.88694726  0.67107526]]\n",
      "[-7.59004186]\n",
      "##########################Penalty:l2, solver:saga, C0.1##########################\n"
     ]
    },
    {
     "name": "stderr",
     "output_type": "stream",
     "text": [
      "/Users/3rfanian/opt/anaconda3/envs/SHAP/lib/python3.10/site-packages/sklearn/utils/validation.py:1111: DataConversionWarning: A column-vector y was passed when a 1d array was expected. Please change the shape of y to (n_samples, ), for example using ravel().\n",
      "  y = column_or_1d(y, warn=True)\n"
     ]
    },
    {
     "name": "stdout",
     "output_type": "stream",
     "text": [
      "[[-0.41714638  0.28350979  0.14440406 -0.68719635 -0.03238015  0.07186562\n",
      "   0.88694393  0.67109996]]\n",
      "[-7.59007783]\n",
      "##########################Penalty:elasticnet, solver:newton-cg, C0.1##########################\n",
      "##########################Penalty:elasticnet, solver:lbfgs, C0.1##########################\n",
      "##########################Penalty:elasticnet, solver:liblinear, C0.1##########################\n",
      "##########################Penalty:elasticnet, solver:sag, C0.1##########################\n",
      "##########################Penalty:elasticnet, solver:saga, C0.1##########################\n",
      "##########################Penalty:none, solver:newton-cg, C0.1##########################\n"
     ]
    },
    {
     "name": "stderr",
     "output_type": "stream",
     "text": [
      "/Users/3rfanian/opt/anaconda3/envs/SHAP/lib/python3.10/site-packages/sklearn/linear_model/_logistic.py:1113: UserWarning: Setting penalty='none' will ignore the C and l1_ratio parameters\n",
      "  warnings.warn(\n",
      "/Users/3rfanian/opt/anaconda3/envs/SHAP/lib/python3.10/site-packages/sklearn/utils/validation.py:1111: DataConversionWarning: A column-vector y was passed when a 1d array was expected. Please change the shape of y to (n_samples, ), for example using ravel().\n",
      "  y = column_or_1d(y, warn=True)\n"
     ]
    },
    {
     "name": "stdout",
     "output_type": "stream",
     "text": [
      "[[-0.41705783  0.28397728  0.14548047 -0.68773644 -0.03177453  0.07213456\n",
      "   0.88754029  0.67371017]]\n",
      "[-7.59234631]\n",
      "##########################Penalty:none, solver:lbfgs, C0.1##########################\n"
     ]
    },
    {
     "name": "stderr",
     "output_type": "stream",
     "text": [
      "/Users/3rfanian/opt/anaconda3/envs/SHAP/lib/python3.10/site-packages/sklearn/linear_model/_logistic.py:1113: UserWarning: Setting penalty='none' will ignore the C and l1_ratio parameters\n",
      "  warnings.warn(\n",
      "/Users/3rfanian/opt/anaconda3/envs/SHAP/lib/python3.10/site-packages/sklearn/utils/validation.py:1111: DataConversionWarning: A column-vector y was passed when a 1d array was expected. Please change the shape of y to (n_samples, ), for example using ravel().\n",
      "  y = column_or_1d(y, warn=True)\n"
     ]
    },
    {
     "name": "stdout",
     "output_type": "stream",
     "text": [
      "[[-0.41705441  0.28396706  0.14552268 -0.68776078 -0.03170306  0.07217815\n",
      "   0.88755953  0.67370496]]\n",
      "[-7.59236383]\n",
      "##########################Penalty:none, solver:liblinear, C0.1##########################\n",
      "##########################Penalty:none, solver:sag, C0.1##########################\n"
     ]
    },
    {
     "name": "stderr",
     "output_type": "stream",
     "text": [
      "/Users/3rfanian/opt/anaconda3/envs/SHAP/lib/python3.10/site-packages/sklearn/linear_model/_logistic.py:1113: UserWarning: Setting penalty='none' will ignore the C and l1_ratio parameters\n",
      "  warnings.warn(\n",
      "/Users/3rfanian/opt/anaconda3/envs/SHAP/lib/python3.10/site-packages/sklearn/utils/validation.py:1111: DataConversionWarning: A column-vector y was passed when a 1d array was expected. Please change the shape of y to (n_samples, ), for example using ravel().\n",
      "  y = column_or_1d(y, warn=True)\n"
     ]
    },
    {
     "name": "stdout",
     "output_type": "stream",
     "text": [
      "[[-0.41706423  0.28396452  0.14548065 -0.68771896 -0.03177032  0.07215606\n",
      "   0.88755692  0.67367951]]\n",
      "[-7.59229183]\n",
      "##########################Penalty:none, solver:saga, C0.1##########################\n"
     ]
    },
    {
     "name": "stderr",
     "output_type": "stream",
     "text": [
      "/Users/3rfanian/opt/anaconda3/envs/SHAP/lib/python3.10/site-packages/sklearn/linear_model/_logistic.py:1113: UserWarning: Setting penalty='none' will ignore the C and l1_ratio parameters\n",
      "  warnings.warn(\n",
      "/Users/3rfanian/opt/anaconda3/envs/SHAP/lib/python3.10/site-packages/sklearn/utils/validation.py:1111: DataConversionWarning: A column-vector y was passed when a 1d array was expected. Please change the shape of y to (n_samples, ), for example using ravel().\n",
      "  y = column_or_1d(y, warn=True)\n"
     ]
    },
    {
     "name": "stdout",
     "output_type": "stream",
     "text": [
      "[[-0.41706668  0.28398474  0.14548269 -0.68774176 -0.03177587  0.07213654\n",
      "   0.88754942  0.67371242]]\n",
      "[-7.59234469]\n",
      "##########################Penalty:l1, solver:newton-cg, C0.01##########################\n",
      "##########################Penalty:l1, solver:lbfgs, C0.01##########################\n",
      "##########################Penalty:l1, solver:liblinear, C0.01##########################\n"
     ]
    },
    {
     "name": "stderr",
     "output_type": "stream",
     "text": [
      "/Users/3rfanian/opt/anaconda3/envs/SHAP/lib/python3.10/site-packages/sklearn/utils/validation.py:1111: DataConversionWarning: A column-vector y was passed when a 1d array was expected. Please change the shape of y to (n_samples, ), for example using ravel().\n",
      "  y = column_or_1d(y, warn=True)\n"
     ]
    },
    {
     "name": "stdout",
     "output_type": "stream",
     "text": [
      "[[-0.41658299  0.23339021  0.10257062 -0.68121133 -0.02079336  0.05392689\n",
      "   0.88073801  0.62027034]]\n",
      "[-7.50952498]\n",
      "##########################Penalty:l1, solver:sag, C0.01##########################\n",
      "##########################Penalty:l1, solver:saga, C0.01##########################\n"
     ]
    },
    {
     "name": "stderr",
     "output_type": "stream",
     "text": [
      "/Users/3rfanian/opt/anaconda3/envs/SHAP/lib/python3.10/site-packages/sklearn/utils/validation.py:1111: DataConversionWarning: A column-vector y was passed when a 1d array was expected. Please change the shape of y to (n_samples, ), for example using ravel().\n",
      "  y = column_or_1d(y, warn=True)\n"
     ]
    },
    {
     "name": "stdout",
     "output_type": "stream",
     "text": [
      "[[-0.41727479  0.24325384  0.10205536 -0.68518557 -0.02249468  0.05529087\n",
      "   0.88685561  0.63436129]]\n",
      "[-7.55228286]\n",
      "##########################Penalty:l2, solver:newton-cg, C0.01##########################\n"
     ]
    },
    {
     "name": "stderr",
     "output_type": "stream",
     "text": [
      "/Users/3rfanian/opt/anaconda3/envs/SHAP/lib/python3.10/site-packages/sklearn/utils/validation.py:1111: DataConversionWarning: A column-vector y was passed when a 1d array was expected. Please change the shape of y to (n_samples, ), for example using ravel().\n",
      "  y = column_or_1d(y, warn=True)\n"
     ]
    },
    {
     "name": "stdout",
     "output_type": "stream",
     "text": [
      "[[-0.41782843  0.27955479  0.13513854 -0.68231531 -0.03753046  0.06949773\n",
      "   0.88152026  0.64902989]]\n",
      "[-7.57053029]\n",
      "##########################Penalty:l2, solver:lbfgs, C0.01##########################\n"
     ]
    },
    {
     "name": "stderr",
     "output_type": "stream",
     "text": [
      "/Users/3rfanian/opt/anaconda3/envs/SHAP/lib/python3.10/site-packages/sklearn/utils/validation.py:1111: DataConversionWarning: A column-vector y was passed when a 1d array was expected. Please change the shape of y to (n_samples, ), for example using ravel().\n",
      "  y = column_or_1d(y, warn=True)\n"
     ]
    },
    {
     "name": "stdout",
     "output_type": "stream",
     "text": [
      "[[-0.41782998  0.2795387   0.13518138 -0.68233898 -0.03747817  0.06950593\n",
      "   0.88154821  0.64903031]]\n",
      "[-7.57056453]\n",
      "##########################Penalty:l2, solver:liblinear, C0.01##########################\n"
     ]
    },
    {
     "name": "stderr",
     "output_type": "stream",
     "text": [
      "/Users/3rfanian/opt/anaconda3/envs/SHAP/lib/python3.10/site-packages/sklearn/utils/validation.py:1111: DataConversionWarning: A column-vector y was passed when a 1d array was expected. Please change the shape of y to (n_samples, ), for example using ravel().\n",
      "  y = column_or_1d(y, warn=True)\n"
     ]
    },
    {
     "name": "stdout",
     "output_type": "stream",
     "text": [
      "[[-0.41266407  0.21595605  0.13428814 -0.6549175  -0.02477069  0.05921787\n",
      "   0.83971687  0.56113528]]\n",
      "[-7.28907477]\n",
      "##########################Penalty:l2, solver:sag, C0.01##########################\n"
     ]
    },
    {
     "name": "stderr",
     "output_type": "stream",
     "text": [
      "/Users/3rfanian/opt/anaconda3/envs/SHAP/lib/python3.10/site-packages/sklearn/utils/validation.py:1111: DataConversionWarning: A column-vector y was passed when a 1d array was expected. Please change the shape of y to (n_samples, ), for example using ravel().\n",
      "  y = column_or_1d(y, warn=True)\n"
     ]
    },
    {
     "name": "stdout",
     "output_type": "stream",
     "text": [
      "[[-0.41781699  0.27950913  0.13512469 -0.68235853 -0.03753208  0.06954015\n",
      "   0.88148525  0.64902113]]\n",
      "[-7.57051852]\n",
      "##########################Penalty:l2, solver:saga, C0.01##########################\n"
     ]
    },
    {
     "name": "stderr",
     "output_type": "stream",
     "text": [
      "/Users/3rfanian/opt/anaconda3/envs/SHAP/lib/python3.10/site-packages/sklearn/utils/validation.py:1111: DataConversionWarning: A column-vector y was passed when a 1d array was expected. Please change the shape of y to (n_samples, ), for example using ravel().\n",
      "  y = column_or_1d(y, warn=True)\n"
     ]
    },
    {
     "name": "stdout",
     "output_type": "stream",
     "text": [
      "[[-0.41783759  0.2795603   0.13513978 -0.68227228 -0.03754868  0.06937359\n",
      "   0.88151619  0.64902008]]\n",
      "[-7.5705141]\n",
      "##########################Penalty:elasticnet, solver:newton-cg, C0.01##########################\n",
      "##########################Penalty:elasticnet, solver:lbfgs, C0.01##########################\n",
      "##########################Penalty:elasticnet, solver:liblinear, C0.01##########################\n",
      "##########################Penalty:elasticnet, solver:sag, C0.01##########################\n",
      "##########################Penalty:elasticnet, solver:saga, C0.01##########################\n",
      "##########################Penalty:none, solver:newton-cg, C0.01##########################\n"
     ]
    },
    {
     "name": "stderr",
     "output_type": "stream",
     "text": [
      "/Users/3rfanian/opt/anaconda3/envs/SHAP/lib/python3.10/site-packages/sklearn/linear_model/_logistic.py:1113: UserWarning: Setting penalty='none' will ignore the C and l1_ratio parameters\n",
      "  warnings.warn(\n",
      "/Users/3rfanian/opt/anaconda3/envs/SHAP/lib/python3.10/site-packages/sklearn/utils/validation.py:1111: DataConversionWarning: A column-vector y was passed when a 1d array was expected. Please change the shape of y to (n_samples, ), for example using ravel().\n",
      "  y = column_or_1d(y, warn=True)\n"
     ]
    },
    {
     "name": "stdout",
     "output_type": "stream",
     "text": [
      "[[-0.41705783  0.28397728  0.14548047 -0.68773644 -0.03177453  0.07213456\n",
      "   0.88754029  0.67371017]]\n",
      "[-7.59234631]\n",
      "##########################Penalty:none, solver:lbfgs, C0.01##########################\n"
     ]
    },
    {
     "name": "stderr",
     "output_type": "stream",
     "text": [
      "/Users/3rfanian/opt/anaconda3/envs/SHAP/lib/python3.10/site-packages/sklearn/linear_model/_logistic.py:1113: UserWarning: Setting penalty='none' will ignore the C and l1_ratio parameters\n",
      "  warnings.warn(\n",
      "/Users/3rfanian/opt/anaconda3/envs/SHAP/lib/python3.10/site-packages/sklearn/utils/validation.py:1111: DataConversionWarning: A column-vector y was passed when a 1d array was expected. Please change the shape of y to (n_samples, ), for example using ravel().\n",
      "  y = column_or_1d(y, warn=True)\n"
     ]
    },
    {
     "name": "stdout",
     "output_type": "stream",
     "text": [
      "[[-0.41705441  0.28396706  0.14552268 -0.68776078 -0.03170306  0.07217815\n",
      "   0.88755953  0.67370496]]\n",
      "[-7.59236383]\n",
      "##########################Penalty:none, solver:liblinear, C0.01##########################\n",
      "##########################Penalty:none, solver:sag, C0.01##########################\n"
     ]
    },
    {
     "name": "stderr",
     "output_type": "stream",
     "text": [
      "/Users/3rfanian/opt/anaconda3/envs/SHAP/lib/python3.10/site-packages/sklearn/linear_model/_logistic.py:1113: UserWarning: Setting penalty='none' will ignore the C and l1_ratio parameters\n",
      "  warnings.warn(\n",
      "/Users/3rfanian/opt/anaconda3/envs/SHAP/lib/python3.10/site-packages/sklearn/utils/validation.py:1111: DataConversionWarning: A column-vector y was passed when a 1d array was expected. Please change the shape of y to (n_samples, ), for example using ravel().\n",
      "  y = column_or_1d(y, warn=True)\n"
     ]
    },
    {
     "name": "stdout",
     "output_type": "stream",
     "text": [
      "[[-0.41706423  0.28396452  0.14548065 -0.68771896 -0.03177032  0.07215606\n",
      "   0.88755692  0.67367951]]\n",
      "[-7.59229183]\n",
      "##########################Penalty:none, solver:saga, C0.01##########################\n"
     ]
    },
    {
     "name": "stderr",
     "output_type": "stream",
     "text": [
      "/Users/3rfanian/opt/anaconda3/envs/SHAP/lib/python3.10/site-packages/sklearn/linear_model/_logistic.py:1113: UserWarning: Setting penalty='none' will ignore the C and l1_ratio parameters\n",
      "  warnings.warn(\n",
      "/Users/3rfanian/opt/anaconda3/envs/SHAP/lib/python3.10/site-packages/sklearn/utils/validation.py:1111: DataConversionWarning: A column-vector y was passed when a 1d array was expected. Please change the shape of y to (n_samples, ), for example using ravel().\n",
      "  y = column_or_1d(y, warn=True)\n"
     ]
    },
    {
     "name": "stdout",
     "output_type": "stream",
     "text": [
      "[[-0.41706668  0.28398474  0.14548269 -0.68774176 -0.03177587  0.07213654\n",
      "   0.88754942  0.67371242]]\n",
      "[-7.59234469]\n"
     ]
    }
   ],
   "source": [
    "logistic_regression_with_val(X_train_scaled,y_train,X_valid_scaled,y_val)"
   ]
  },
  {
   "cell_type": "code",
   "execution_count": null,
   "id": "bc8f1bd1",
   "metadata": {},
   "outputs": [],
   "source": []
  }
 ],
 "metadata": {
  "kernelspec": {
   "display_name": "Python 3 (ipykernel)",
   "language": "python",
   "name": "python3"
  },
  "language_info": {
   "codemirror_mode": {
    "name": "ipython",
    "version": 3
   },
   "file_extension": ".py",
   "mimetype": "text/x-python",
   "name": "python",
   "nbconvert_exporter": "python",
   "pygments_lexer": "ipython3",
   "version": "3.10.6"
  }
 },
 "nbformat": 4,
 "nbformat_minor": 5
}
